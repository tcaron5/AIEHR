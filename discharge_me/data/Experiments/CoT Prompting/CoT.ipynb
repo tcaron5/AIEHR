{
 "cells": [
  {
   "cell_type": "code",
   "execution_count": 2,
   "id": "ebbaecc5-2814-4797-8b39-98762158194a",
   "metadata": {},
   "outputs": [
    {
     "name": "stdout",
     "output_type": "stream",
     "text": [
      "Defaulting to user installation because normal site-packages is not writeable\n",
      "Collecting numpy==2.0\n",
      "  Using cached numpy-2.0.0-cp39-cp39-manylinux_2_17_x86_64.manylinux2014_x86_64.whl (19.3 MB)\n",
      "Installing collected packages: numpy\n",
      "  Attempting uninstall: numpy\n",
      "    Found existing installation: numpy 2.0.2\n",
      "    Uninstalling numpy-2.0.2:\n",
      "      Successfully uninstalled numpy-2.0.2\n",
      "\u001b[31mERROR: Could not install packages due to an OSError: [Errno 16] Device or resource busy: '.nfs65b84c904e40507100000cc3'\n",
      "\u001b[0m\n",
      "Note: you may need to restart the kernel to use updated packages.\n"
     ]
    }
   ],
   "source": [
    "pip install numpy==2.0"
   ]
  },
  {
   "cell_type": "code",
   "execution_count": 1,
   "id": "15076db8-e23a-488a-b558-6bb87cc891da",
   "metadata": {},
   "outputs": [
    {
     "name": "stderr",
     "output_type": "stream",
     "text": [
      "/home/tr.caron/.local/lib/python3.9/site-packages/pandas/core/computation/expressions.py:21: UserWarning: Pandas requires version '2.8.4' or newer of 'numexpr' (version '2.8.1' currently installed).\n",
      "  from pandas.core.computation.check import NUMEXPR_INSTALLED\n",
      "/home/tr.caron/.local/lib/python3.9/site-packages/pandas/core/arrays/masked.py:60: UserWarning: Pandas requires version '1.3.6' or newer of 'bottleneck' (version '1.3.4' currently installed).\n",
      "  from pandas.core import (\n"
     ]
    }
   ],
   "source": [
    "# load data from csv\n",
    "# path for input and target data tables\n",
    "\n",
    "diagnosis_path = '../../test_phase_2/diagnosis_hadm.csv'\n",
    "discharge_path ='../../test_phase_2/discharge.csv'\n",
    "edstays_path = '../../test_phase_2/edstays.csv'\n",
    "radiology_path = '../../test_phase_2/radiology.csv'\n",
    "triage_path = '../../test_phase_2/triage.csv'\n",
    "target_path = '../../test_phase_2/discharge_target.csv'\n",
    "discharge_sections_path = '../../test_phase_2/discharge_sections.csv'\n",
    "radiology_sections_path = '../../test_phase_2/radiology_sections.csv'\n",
    "\n",
    "import pandas as pd\n",
    "import re\n",
    "import os\n",
    "\n",
    "# read data\n",
    "diagnosis_df = pd.read_csv(diagnosis_path, keep_default_na=False)\n",
    "discharge_df = pd.read_csv(discharge_path, keep_default_na=False)\n",
    "edstays_df = pd.read_csv(edstays_path, keep_default_na=False)\n",
    "radiology_df = pd.read_csv(radiology_path, keep_default_na=False)\n",
    "triage_df = pd.read_csv(triage_path, keep_default_na=False)\n",
    "target_df = pd.read_csv(target_path, keep_default_na=False)\n",
    "\n",
    "discharge_sections_df = pd.read_csv(discharge_sections_path, keep_default_na=False)\n",
    "radiology_sections_df = pd.read_csv(radiology_sections_path, keep_default_na=False)"
   ]
  },
  {
   "cell_type": "code",
   "execution_count": 2,
   "id": "1841460e-5488-47e2-92af-080c0a716bf0",
   "metadata": {},
   "outputs": [
    {
     "name": "stdout",
     "output_type": "stream",
     "text": [
      "The token has not been saved to the git credentials helper. Pass `add_to_git_credential=True` in this function directly or `--add-to-git-credential` if using via `huggingface-cli` if you want to set the git credential as well.\n",
      "Token is valid (permission: read).\n",
      "Your token has been saved to /home/tr.caron/.cache/huggingface/token\n",
      "Login successful\n"
     ]
    }
   ],
   "source": [
    "from huggingface_hub import login\n",
    "login(token=HF_TOKEN)"
   ]
  },
  {
   "cell_type": "code",
   "execution_count": 3,
   "id": "788b35a6-c8c0-4914-83af-113a3a751cb2",
   "metadata": {
    "tags": []
   },
   "outputs": [
    {
     "name": "stdout",
     "output_type": "stream",
     "text": [
      "WARNING 10-03 14:45:01 _custom_ops.py:18] Failed to import from vllm._C with ImportError('/home/tr.caron/.local/lib/python3.9/site-packages/vllm/_C.abi3.so: undefined symbol: cuTensorMapEncodeTiled')\n",
      "INFO 10-03 14:45:20 llm_engine.py:213] Initializing an LLM engine (v0.6.0) with config: model='meta-llama/Meta-Llama-3-8B-Instruct', speculative_config=None, tokenizer='meta-llama/Meta-Llama-3-8B-Instruct', skip_tokenizer_init=False, tokenizer_mode=auto, revision=None, override_neuron_config=None, rope_scaling=None, rope_theta=None, tokenizer_revision=None, trust_remote_code=False, dtype=torch.bfloat16, max_seq_len=8192, download_dir=None, load_format=LoadFormat.AUTO, tensor_parallel_size=1, pipeline_parallel_size=1, disable_custom_all_reduce=False, quantization=None, enforce_eager=False, kv_cache_dtype=auto, quantization_param_path=None, device_config=cuda, decoding_config=DecodingConfig(guided_decoding_backend='outlines'), observability_config=ObservabilityConfig(otlp_traces_endpoint=None, collect_model_forward_time=False, collect_model_execute_time=False), seed=0, served_model_name=meta-llama/Meta-Llama-3-8B-Instruct, use_v2_block_manager=False, num_scheduler_steps=1, enable_prefix_caching=False, use_async_output_proc=True)\n",
      "INFO 10-03 14:45:24 selector.py:217] Cannot use FlashAttention-2 backend for Volta and Turing GPUs.\n",
      "INFO 10-03 14:45:24 selector.py:116] Using XFormers backend.\n"
     ]
    },
    {
     "name": "stderr",
     "output_type": "stream",
     "text": [
      "/shared/centos7/anaconda3/2022.05/lib/python3.9/site-packages/scipy/__init__.py:146: UserWarning: A NumPy version >=1.16.5 and <1.23.0 is required for this version of SciPy (detected version 1.24.0\n",
      "  warnings.warn(f\"A NumPy version >={np_minversion} and <{np_maxversion}\"\n",
      "/home/tr.caron/.local/lib/python3.9/site-packages/xformers/ops/fmha/flash.py:211: FutureWarning: `torch.library.impl_abstract` was renamed to `torch.library.register_fake`. Please use that instead; we will remove `torch.library.impl_abstract` in a future version of PyTorch.\n",
      "  @torch.library.impl_abstract(\"xformers_flash::flash_fwd\")\n",
      "/home/tr.caron/.local/lib/python3.9/site-packages/xformers/ops/fmha/flash.py:344: FutureWarning: `torch.library.impl_abstract` was renamed to `torch.library.register_fake`. Please use that instead; we will remove `torch.library.impl_abstract` in a future version of PyTorch.\n",
      "  @torch.library.impl_abstract(\"xformers_flash::flash_bwd\")\n",
      "/home/tr.caron/.local/lib/python3.9/site-packages/torch/cuda/__init__.py:128: UserWarning: CUDA initialization: The NVIDIA driver on your system is too old (found version 11040). Please update your GPU driver by downloading and installing a new version from the URL: http://www.nvidia.com/Download/index.aspx Alternatively, go to: https://pytorch.org to install a PyTorch version that has been compiled with your version of the CUDA driver. (Triggered internally at ../c10/cuda/CUDAFunctions.cpp:108.)\n",
      "  return torch._C._cuda_getDeviceCount() > 0\n"
     ]
    },
    {
     "ename": "RuntimeError",
     "evalue": "The NVIDIA driver on your system is too old (found version 11040). Please update your GPU driver by downloading and installing a new version from the URL: http://www.nvidia.com/Download/index.aspx Alternatively, go to: https://pytorch.org to install a PyTorch version that has been compiled with your version of the CUDA driver.",
     "output_type": "error",
     "traceback": [
      "\u001b[0;31m---------------------------------------------------------------------------\u001b[0m",
      "\u001b[0;31mRuntimeError\u001b[0m                              Traceback (most recent call last)",
      "Input \u001b[0;32mIn [3]\u001b[0m, in \u001b[0;36m<cell line: 5>\u001b[0;34m()\u001b[0m\n\u001b[1;32m      2\u001b[0m \u001b[38;5;28;01mfrom\u001b[39;00m \u001b[38;5;21;01mtransformers\u001b[39;00m \u001b[38;5;28;01mimport\u001b[39;00m AutoTokenizer\n\u001b[1;32m      4\u001b[0m \u001b[38;5;66;03m# Initialize the LLM object with the specified model\u001b[39;00m\n\u001b[0;32m----> 5\u001b[0m model \u001b[38;5;241m=\u001b[39m \u001b[43mLLM\u001b[49m\u001b[43m(\u001b[49m\u001b[43mmodel\u001b[49m\u001b[38;5;241;43m=\u001b[39;49m\u001b[38;5;124;43m\"\u001b[39;49m\u001b[38;5;124;43mmeta-llama/Meta-Llama-3-8B-Instruct\u001b[39;49m\u001b[38;5;124;43m\"\u001b[39;49m\u001b[43m)\u001b[49m\n\u001b[1;32m      6\u001b[0m \u001b[38;5;66;03m# model = LLM(model=\"meta-llama/Meta-Llama-3-8B\")\u001b[39;00m\n\u001b[1;32m      7\u001b[0m tokenizer \u001b[38;5;241m=\u001b[39m AutoTokenizer\u001b[38;5;241m.\u001b[39mfrom_pretrained(\u001b[38;5;124m'\u001b[39m\u001b[38;5;124mmeta-llama/Meta-Llama-3-8B\u001b[39m\u001b[38;5;124m'\u001b[39m)\n",
      "File \u001b[0;32m~/.local/lib/python3.9/site-packages/vllm/entrypoints/llm.py:177\u001b[0m, in \u001b[0;36mLLM.__init__\u001b[0;34m(self, model, tokenizer, tokenizer_mode, skip_tokenizer_init, trust_remote_code, tensor_parallel_size, dtype, quantization, revision, tokenizer_revision, seed, gpu_memory_utilization, swap_space, cpu_offload_gb, enforce_eager, max_context_len_to_capture, max_seq_len_to_capture, disable_custom_all_reduce, disable_async_output_proc, **kwargs)\u001b[0m\n\u001b[1;32m    153\u001b[0m     \u001b[38;5;28;01mraise\u001b[39;00m \u001b[38;5;167;01mTypeError\u001b[39;00m(\n\u001b[1;32m    154\u001b[0m         \u001b[38;5;124m\"\u001b[39m\u001b[38;5;124mThere is no need to pass vision-related arguments anymore.\u001b[39m\u001b[38;5;124m\"\u001b[39m)\n\u001b[1;32m    155\u001b[0m engine_args \u001b[38;5;241m=\u001b[39m EngineArgs(\n\u001b[1;32m    156\u001b[0m     model\u001b[38;5;241m=\u001b[39mmodel,\n\u001b[1;32m    157\u001b[0m     tokenizer\u001b[38;5;241m=\u001b[39mtokenizer,\n\u001b[0;32m   (...)\u001b[0m\n\u001b[1;32m    175\u001b[0m     \u001b[38;5;241m*\u001b[39m\u001b[38;5;241m*\u001b[39mkwargs,\n\u001b[1;32m    176\u001b[0m )\n\u001b[0;32m--> 177\u001b[0m \u001b[38;5;28mself\u001b[39m\u001b[38;5;241m.\u001b[39mllm_engine \u001b[38;5;241m=\u001b[39m \u001b[43mLLMEngine\u001b[49m\u001b[38;5;241;43m.\u001b[39;49m\u001b[43mfrom_engine_args\u001b[49m\u001b[43m(\u001b[49m\n\u001b[1;32m    178\u001b[0m \u001b[43m    \u001b[49m\u001b[43mengine_args\u001b[49m\u001b[43m,\u001b[49m\u001b[43m \u001b[49m\u001b[43musage_context\u001b[49m\u001b[38;5;241;43m=\u001b[39;49m\u001b[43mUsageContext\u001b[49m\u001b[38;5;241;43m.\u001b[39;49m\u001b[43mLLM_CLASS\u001b[49m\u001b[43m)\u001b[49m\n\u001b[1;32m    179\u001b[0m \u001b[38;5;28mself\u001b[39m\u001b[38;5;241m.\u001b[39mrequest_counter \u001b[38;5;241m=\u001b[39m Counter()\n",
      "File \u001b[0;32m~/.local/lib/python3.9/site-packages/vllm/engine/llm_engine.py:538\u001b[0m, in \u001b[0;36mLLMEngine.from_engine_args\u001b[0;34m(cls, engine_args, usage_context, stat_loggers)\u001b[0m\n\u001b[1;32m    536\u001b[0m executor_class \u001b[38;5;241m=\u001b[39m \u001b[38;5;28mcls\u001b[39m\u001b[38;5;241m.\u001b[39m_get_executor_cls(engine_config)\n\u001b[1;32m    537\u001b[0m \u001b[38;5;66;03m# Create the LLM engine.\u001b[39;00m\n\u001b[0;32m--> 538\u001b[0m engine \u001b[38;5;241m=\u001b[39m \u001b[38;5;28;43mcls\u001b[39;49m\u001b[43m(\u001b[49m\n\u001b[1;32m    539\u001b[0m \u001b[43m    \u001b[49m\u001b[38;5;241;43m*\u001b[39;49m\u001b[38;5;241;43m*\u001b[39;49m\u001b[43mengine_config\u001b[49m\u001b[38;5;241;43m.\u001b[39;49m\u001b[43mto_dict\u001b[49m\u001b[43m(\u001b[49m\u001b[43m)\u001b[49m\u001b[43m,\u001b[49m\n\u001b[1;32m    540\u001b[0m \u001b[43m    \u001b[49m\u001b[43mexecutor_class\u001b[49m\u001b[38;5;241;43m=\u001b[39;49m\u001b[43mexecutor_class\u001b[49m\u001b[43m,\u001b[49m\n\u001b[1;32m    541\u001b[0m \u001b[43m    \u001b[49m\u001b[43mlog_stats\u001b[49m\u001b[38;5;241;43m=\u001b[39;49m\u001b[38;5;129;43;01mnot\u001b[39;49;00m\u001b[43m \u001b[49m\u001b[43mengine_args\u001b[49m\u001b[38;5;241;43m.\u001b[39;49m\u001b[43mdisable_log_stats\u001b[49m\u001b[43m,\u001b[49m\n\u001b[1;32m    542\u001b[0m \u001b[43m    \u001b[49m\u001b[43musage_context\u001b[49m\u001b[38;5;241;43m=\u001b[39;49m\u001b[43musage_context\u001b[49m\u001b[43m,\u001b[49m\n\u001b[1;32m    543\u001b[0m \u001b[43m    \u001b[49m\u001b[43mstat_loggers\u001b[49m\u001b[38;5;241;43m=\u001b[39;49m\u001b[43mstat_loggers\u001b[49m\u001b[43m,\u001b[49m\n\u001b[1;32m    544\u001b[0m \u001b[43m\u001b[49m\u001b[43m)\u001b[49m\n\u001b[1;32m    546\u001b[0m \u001b[38;5;28;01mreturn\u001b[39;00m engine\n",
      "File \u001b[0;32m~/.local/lib/python3.9/site-packages/vllm/engine/llm_engine.py:305\u001b[0m, in \u001b[0;36mLLMEngine.__init__\u001b[0;34m(self, model_config, cache_config, parallel_config, scheduler_config, device_config, load_config, lora_config, speculative_config, decoding_config, observability_config, prompt_adapter_config, executor_class, log_stats, usage_context, stat_loggers, input_registry, step_return_finished_only)\u001b[0m\n\u001b[1;32m    301\u001b[0m \u001b[38;5;28mself\u001b[39m\u001b[38;5;241m.\u001b[39minput_registry \u001b[38;5;241m=\u001b[39m input_registry\n\u001b[1;32m    302\u001b[0m \u001b[38;5;28mself\u001b[39m\u001b[38;5;241m.\u001b[39minput_processor \u001b[38;5;241m=\u001b[39m input_registry\u001b[38;5;241m.\u001b[39mcreate_input_processor(\n\u001b[1;32m    303\u001b[0m     model_config)\n\u001b[0;32m--> 305\u001b[0m \u001b[38;5;28mself\u001b[39m\u001b[38;5;241m.\u001b[39mmodel_executor \u001b[38;5;241m=\u001b[39m \u001b[43mexecutor_class\u001b[49m\u001b[43m(\u001b[49m\n\u001b[1;32m    306\u001b[0m \u001b[43m    \u001b[49m\u001b[43mmodel_config\u001b[49m\u001b[38;5;241;43m=\u001b[39;49m\u001b[43mmodel_config\u001b[49m\u001b[43m,\u001b[49m\n\u001b[1;32m    307\u001b[0m \u001b[43m    \u001b[49m\u001b[43mcache_config\u001b[49m\u001b[38;5;241;43m=\u001b[39;49m\u001b[43mcache_config\u001b[49m\u001b[43m,\u001b[49m\n\u001b[1;32m    308\u001b[0m \u001b[43m    \u001b[49m\u001b[43mparallel_config\u001b[49m\u001b[38;5;241;43m=\u001b[39;49m\u001b[43mparallel_config\u001b[49m\u001b[43m,\u001b[49m\n\u001b[1;32m    309\u001b[0m \u001b[43m    \u001b[49m\u001b[43mscheduler_config\u001b[49m\u001b[38;5;241;43m=\u001b[39;49m\u001b[43mscheduler_config\u001b[49m\u001b[43m,\u001b[49m\n\u001b[1;32m    310\u001b[0m \u001b[43m    \u001b[49m\u001b[43mdevice_config\u001b[49m\u001b[38;5;241;43m=\u001b[39;49m\u001b[43mdevice_config\u001b[49m\u001b[43m,\u001b[49m\n\u001b[1;32m    311\u001b[0m \u001b[43m    \u001b[49m\u001b[43mlora_config\u001b[49m\u001b[38;5;241;43m=\u001b[39;49m\u001b[43mlora_config\u001b[49m\u001b[43m,\u001b[49m\n\u001b[1;32m    312\u001b[0m \u001b[43m    \u001b[49m\u001b[43mspeculative_config\u001b[49m\u001b[38;5;241;43m=\u001b[39;49m\u001b[43mspeculative_config\u001b[49m\u001b[43m,\u001b[49m\n\u001b[1;32m    313\u001b[0m \u001b[43m    \u001b[49m\u001b[43mload_config\u001b[49m\u001b[38;5;241;43m=\u001b[39;49m\u001b[43mload_config\u001b[49m\u001b[43m,\u001b[49m\n\u001b[1;32m    314\u001b[0m \u001b[43m    \u001b[49m\u001b[43mprompt_adapter_config\u001b[49m\u001b[38;5;241;43m=\u001b[39;49m\u001b[43mprompt_adapter_config\u001b[49m\u001b[43m,\u001b[49m\n\u001b[1;32m    315\u001b[0m \u001b[43m    \u001b[49m\u001b[43mobservability_config\u001b[49m\u001b[38;5;241;43m=\u001b[39;49m\u001b[38;5;28;43mself\u001b[39;49m\u001b[38;5;241;43m.\u001b[39;49m\u001b[43mobservability_config\u001b[49m\u001b[43m,\u001b[49m\n\u001b[1;32m    316\u001b[0m \u001b[43m\u001b[49m\u001b[43m)\u001b[49m\n\u001b[1;32m    318\u001b[0m \u001b[38;5;28;01mif\u001b[39;00m \u001b[38;5;129;01mnot\u001b[39;00m \u001b[38;5;28mself\u001b[39m\u001b[38;5;241m.\u001b[39mmodel_config\u001b[38;5;241m.\u001b[39membedding_mode:\n\u001b[1;32m    319\u001b[0m     \u001b[38;5;28mself\u001b[39m\u001b[38;5;241m.\u001b[39m_initialize_kv_caches()\n",
      "File \u001b[0;32m~/.local/lib/python3.9/site-packages/vllm/executor/executor_base.py:47\u001b[0m, in \u001b[0;36mExecutorBase.__init__\u001b[0;34m(self, model_config, cache_config, parallel_config, scheduler_config, device_config, load_config, lora_config, speculative_config, prompt_adapter_config, observability_config)\u001b[0m\n\u001b[1;32m     45\u001b[0m \u001b[38;5;28mself\u001b[39m\u001b[38;5;241m.\u001b[39mprompt_adapter_config \u001b[38;5;241m=\u001b[39m prompt_adapter_config\n\u001b[1;32m     46\u001b[0m \u001b[38;5;28mself\u001b[39m\u001b[38;5;241m.\u001b[39mobservability_config \u001b[38;5;241m=\u001b[39m observability_config\n\u001b[0;32m---> 47\u001b[0m \u001b[38;5;28;43mself\u001b[39;49m\u001b[38;5;241;43m.\u001b[39;49m\u001b[43m_init_executor\u001b[49m\u001b[43m(\u001b[49m\u001b[43m)\u001b[49m\n",
      "File \u001b[0;32m~/.local/lib/python3.9/site-packages/vllm/executor/gpu_executor.py:39\u001b[0m, in \u001b[0;36mGPUExecutor._init_executor\u001b[0;34m(self)\u001b[0m\n\u001b[1;32m     35\u001b[0m \u001b[38;5;28;01massert\u001b[39;00m \u001b[38;5;28mself\u001b[39m\u001b[38;5;241m.\u001b[39mparallel_config\u001b[38;5;241m.\u001b[39mworld_size \u001b[38;5;241m==\u001b[39m \u001b[38;5;241m1\u001b[39m, (\n\u001b[1;32m     36\u001b[0m     \u001b[38;5;124m\"\u001b[39m\u001b[38;5;124mGPUExecutor only supports single GPU.\u001b[39m\u001b[38;5;124m\"\u001b[39m)\n\u001b[1;32m     38\u001b[0m \u001b[38;5;28mself\u001b[39m\u001b[38;5;241m.\u001b[39mdriver_worker \u001b[38;5;241m=\u001b[39m \u001b[38;5;28mself\u001b[39m\u001b[38;5;241m.\u001b[39m_create_worker()\n\u001b[0;32m---> 39\u001b[0m \u001b[38;5;28;43mself\u001b[39;49m\u001b[38;5;241;43m.\u001b[39;49m\u001b[43mdriver_worker\u001b[49m\u001b[38;5;241;43m.\u001b[39;49m\u001b[43minit_device\u001b[49m\u001b[43m(\u001b[49m\u001b[43m)\u001b[49m\n\u001b[1;32m     40\u001b[0m \u001b[38;5;28mself\u001b[39m\u001b[38;5;241m.\u001b[39mdriver_worker\u001b[38;5;241m.\u001b[39mload_model()\n",
      "File \u001b[0;32m~/.local/lib/python3.9/site-packages/vllm/worker/worker.py:166\u001b[0m, in \u001b[0;36mWorker.init_device\u001b[0;34m(self)\u001b[0m\n\u001b[1;32m    164\u001b[0m os\u001b[38;5;241m.\u001b[39menviron\u001b[38;5;241m.\u001b[39mpop(\u001b[38;5;124m\"\u001b[39m\u001b[38;5;124mNCCL_ASYNC_ERROR_HANDLING\u001b[39m\u001b[38;5;124m\"\u001b[39m, \u001b[38;5;28;01mNone\u001b[39;00m)\n\u001b[1;32m    165\u001b[0m \u001b[38;5;28mself\u001b[39m\u001b[38;5;241m.\u001b[39mdevice \u001b[38;5;241m=\u001b[39m torch\u001b[38;5;241m.\u001b[39mdevice(\u001b[38;5;124mf\u001b[39m\u001b[38;5;124m\"\u001b[39m\u001b[38;5;124mcuda:\u001b[39m\u001b[38;5;132;01m{\u001b[39;00m\u001b[38;5;28mself\u001b[39m\u001b[38;5;241m.\u001b[39mlocal_rank\u001b[38;5;132;01m}\u001b[39;00m\u001b[38;5;124m\"\u001b[39m)\n\u001b[0;32m--> 166\u001b[0m \u001b[43mtorch\u001b[49m\u001b[38;5;241;43m.\u001b[39;49m\u001b[43mcuda\u001b[49m\u001b[38;5;241;43m.\u001b[39;49m\u001b[43mset_device\u001b[49m\u001b[43m(\u001b[49m\u001b[38;5;28;43mself\u001b[39;49m\u001b[38;5;241;43m.\u001b[39;49m\u001b[43mdevice\u001b[49m\u001b[43m)\u001b[49m\n\u001b[1;32m    168\u001b[0m _check_if_gpu_supports_dtype(\u001b[38;5;28mself\u001b[39m\u001b[38;5;241m.\u001b[39mmodel_config\u001b[38;5;241m.\u001b[39mdtype)\n\u001b[1;32m    169\u001b[0m torch\u001b[38;5;241m.\u001b[39mcuda\u001b[38;5;241m.\u001b[39mempty_cache()\n",
      "File \u001b[0;32m~/.local/lib/python3.9/site-packages/torch/cuda/__init__.py:420\u001b[0m, in \u001b[0;36mset_device\u001b[0;34m(device)\u001b[0m\n\u001b[1;32m    418\u001b[0m device \u001b[38;5;241m=\u001b[39m _get_device_index(device)\n\u001b[1;32m    419\u001b[0m \u001b[38;5;28;01mif\u001b[39;00m device \u001b[38;5;241m>\u001b[39m\u001b[38;5;241m=\u001b[39m \u001b[38;5;241m0\u001b[39m:\n\u001b[0;32m--> 420\u001b[0m     \u001b[43mtorch\u001b[49m\u001b[38;5;241;43m.\u001b[39;49m\u001b[43m_C\u001b[49m\u001b[38;5;241;43m.\u001b[39;49m\u001b[43m_cuda_setDevice\u001b[49m\u001b[43m(\u001b[49m\u001b[43mdevice\u001b[49m\u001b[43m)\u001b[49m\n",
      "File \u001b[0;32m~/.local/lib/python3.9/site-packages/torch/cuda/__init__.py:314\u001b[0m, in \u001b[0;36m_lazy_init\u001b[0;34m()\u001b[0m\n\u001b[1;32m    312\u001b[0m \u001b[38;5;28;01mif\u001b[39;00m \u001b[38;5;124m\"\u001b[39m\u001b[38;5;124mCUDA_MODULE_LOADING\u001b[39m\u001b[38;5;124m\"\u001b[39m \u001b[38;5;129;01mnot\u001b[39;00m \u001b[38;5;129;01min\u001b[39;00m os\u001b[38;5;241m.\u001b[39menviron:\n\u001b[1;32m    313\u001b[0m     os\u001b[38;5;241m.\u001b[39menviron[\u001b[38;5;124m\"\u001b[39m\u001b[38;5;124mCUDA_MODULE_LOADING\u001b[39m\u001b[38;5;124m\"\u001b[39m] \u001b[38;5;241m=\u001b[39m \u001b[38;5;124m\"\u001b[39m\u001b[38;5;124mLAZY\u001b[39m\u001b[38;5;124m\"\u001b[39m\n\u001b[0;32m--> 314\u001b[0m \u001b[43mtorch\u001b[49m\u001b[38;5;241;43m.\u001b[39;49m\u001b[43m_C\u001b[49m\u001b[38;5;241;43m.\u001b[39;49m\u001b[43m_cuda_init\u001b[49m\u001b[43m(\u001b[49m\u001b[43m)\u001b[49m\n\u001b[1;32m    315\u001b[0m \u001b[38;5;66;03m# Some of the queued calls may reentrantly call _lazy_init();\u001b[39;00m\n\u001b[1;32m    316\u001b[0m \u001b[38;5;66;03m# we need to just return without initializing in that case.\u001b[39;00m\n\u001b[1;32m    317\u001b[0m \u001b[38;5;66;03m# However, we must not let any *other* threads in!\u001b[39;00m\n\u001b[1;32m    318\u001b[0m _tls\u001b[38;5;241m.\u001b[39mis_initializing \u001b[38;5;241m=\u001b[39m \u001b[38;5;28;01mTrue\u001b[39;00m\n",
      "\u001b[0;31mRuntimeError\u001b[0m: The NVIDIA driver on your system is too old (found version 11040). Please update your GPU driver by downloading and installing a new version from the URL: http://www.nvidia.com/Download/index.aspx Alternatively, go to: https://pytorch.org to install a PyTorch version that has been compiled with your version of the CUDA driver."
     ]
    }
   ],
   "source": [
    "from vllm import LLM, SamplingParams\n",
    "from transformers import AutoTokenizer\n",
    "\n",
    "# Initialize the LLM object with the specified model\n",
    "model = LLM(model=\"meta-llama/Meta-Llama-3-8B-Instruct\")\n",
    "# model = LLM(model=\"meta-llama/Meta-Llama-3-8B\")\n",
    "tokenizer = AutoTokenizer.from_pretrained('meta-llama/Meta-Llama-3-8B')\n",
    "# Imports\n",
    "import torch\n",
    "# generate_prompt function\n",
    "def generate_prompt(instruction, input=None):\n",
    "    if input:\n",
    "        return f\"\"\"Below is an instruction that describes a task, paired with an input that provides further context. Write a response that appropriately completes the request. \n",
    " \n",
    "### Instruction:\n",
    "{instruction}\n",
    "\n",
    "### Input:\n",
    "{input}\n",
    "\n",
    "### Response:\n",
    "\"\"\"\n",
    "    else:\n",
    "        return f\"\"\"Below is an instruction that describes a task. Write a response that appropriately completes the request.  # noqa: E501\n",
    "\n",
    "### Instruction:\n",
    "{instruction}\n",
    "\n",
    "### Response:\n",
    "\"\"\"\n"
   ]
  },
  {
   "cell_type": "code",
   "execution_count": 4,
   "id": "848a4371-7a8f-46b9-81be-d3a8901c5b9b",
   "metadata": {},
   "outputs": [],
   "source": [
    "def generate_with_model(instruction, context_input, model):\n",
    "    # Generate the prompt using the instruction and context\n",
    "    prompt = generate_prompt(instruction, context_input)\n",
    "\n",
    "    # Setup sampling parameters for generation\n",
    "    # Here we only calculate length to control the output length dynamically\n",
    "    context_length = len(tokenizer(prompt, return_tensors=\"pt\").input_ids[0])\n",
    "    print(context_length)\n",
    "    stop_str = \"--- end of response\"\n",
    "    max_input_length = min(2048, tokenizer.model_max_length - context_length)\n",
    "    sampling_params = SamplingParams(temperature=0.01, max_tokens=max_input_length, stop=stop_str,)\n",
    "\n",
    "    # Generate the response using the model\n",
    "    outputs = model.generate(prompt, sampling_params)\n",
    "    response_text = outputs[0].outputs[0].text  # Adjust based on actual output structure\n",
    "\n",
    "    # outputs = llm.generate(final_prompt, sampling_params)\n",
    "    # answer_texts = [output.outputs[0].text for output in outputs]\n",
    "    \n",
    "    # # Extract the \"Response\" part from the generated text\n",
    "    # response = response_text.split(\"### Response:\")[1].strip()\n",
    "    # response = response_text.split(\"--- end of response\")[1].strip() \n",
    "    \n",
    "    # Print and return the response\n",
    "    print(response_text)\n",
    "    return response_text"
   ]
  },
  {
   "cell_type": "code",
   "execution_count": 5,
   "id": "49b42df2-2c52-4aa7-8437-cafaea5297dc",
   "metadata": {},
   "outputs": [],
   "source": [
    "def generate_section(hadm_id, question, dict_mapping=None, additional_context=''):\n",
    "    topic = '''\n",
    "    The topic is about clinical notes, medical records, and other text documents from electronic health records (EHR) \n",
    "    from a patient's hospital admission. \n",
    "    You will be provided with input text and data from a specific patient's medical records and clinical notes \n",
    "    delimited by xml tags <text> </text>. Use only this data to answer questions about the EHR.  \n",
    "    '''.replace('\\n', '').replace('    ', '')\n",
    "\n",
    "    prompt = f'''\\n\n",
    "    {question}\n",
    "\n",
    "    --- end of response\n",
    "\n",
    "    Stop generating when you reach \"--- end of response\"\n",
    "    Do not repeat the instructions in your response or make comments after your response.\n",
    "    '''.replace('    ', '')\n",
    "\n",
    "    context_str = ''\n",
    "\n",
    "    # Map string keys to actual DataFrame objects\n",
    "    dataframes = {\n",
    "        'discharge_sections_df': discharge_sections_df,\n",
    "        'diagnosis_df': diagnosis_df\n",
    "    }\n",
    "\n",
    "    # Process dict_mapping only if provided\n",
    "    if dict_mapping:\n",
    "        for df_name, columns in dict_mapping.items():\n",
    "            df = dataframes.get(df_name)\n",
    "            if df is not None:\n",
    "                cur_df = df[df['hadm_id'] == hadm_id]\n",
    "                for col in columns:\n",
    "                    # Join non-null values and ensure it's treated as a string\n",
    "                    context_data = cur_df[col].dropna().astype(str).str.cat(sep=' ')\n",
    "                    context_str += f\"The {col.replace('_', ' ')} was --- {context_data}\\n\"\n",
    "\n",
    "    instruction = f\"{topic} \\n {prompt}\"\n",
    "    context_input = f\"<text> {context_str}</text>\"\n",
    "\n",
    "    # If additional context is provided, append it to the context_input\n",
    "    if additional_context:\n",
    "        context_input += f\"\\n<additional_context> {additional_context} </additional_context>\"\n",
    "\n",
    "    response = generate_with_model(instruction, context_input, model)\n",
    "    return response\n"
   ]
  },
  {
   "cell_type": "code",
   "execution_count": null,
   "id": "016f429e-a73e-4298-bc4f-2c99711cc98f",
   "metadata": {
    "jupyter": {
     "source_hidden": true
    },
    "tags": []
   },
   "outputs": [],
   "source": [
    "def generate_all_sections(hadm_id):\n",
    "    a_reason_for_admission = generate_section(hadm_id, \"Given the HPI, chief complaint, and initial ICD diagnosis, Why was the patient admitted to the hospital? What symptoms, medical condition, or other reason caused the patient to come to or be brought into the hospital?\", dict_mapping={\n",
    "        'discharge_sections_df': ['CC', 'HPI', 'Major Surgical Procedure'],\n",
    "        'diagnosis_df': ['icd_title']})\n",
    "    a_relevant_pmh = generate_section(hadm_id, \"Given the History of Present Illness, summarize the patient's major medical conditions and the reason they were admitted to the hospital.\", dict_mapping={\n",
    "        'discharge_sections_df': ['HPI']})\n",
    "    a_acute_problems = generate_section(hadm_id, \"Given the history of present illness, admission and discharge diagnosis, What medical conditions or symptoms was this patient treated for in the hospital?\", dict_mapping={\n",
    "        'discharge_sections_df': ['HPI', 'Discharge Diagnosis'],\n",
    "        'diagnosis_df': ['icd_title']})\n",
    "    a_initial_treatments = generate_section(hadm_id, \"Given the history of present illness, summarize the treatments and diagnostic workup.\", dict_mapping={\n",
    "        'discharge_sections_df': ['HPI']})\n",
    "    a_initial_workup = generate_section(hadm_id, \"Given the History of Present illness, What was the initial diagnostic work up and pertinent results?\", dict_mapping={\n",
    "        'discharge_sections_df': ['HPI']})\n",
    "    a_confirmed_dx = generate_section(hadm_id, \"What medical conditions were confirmed with diagnostic workup including radiology notes, laboratory, microbiology culture, and other studies?\", dict_mapping={\n",
    "        'discharge_sections_df': ['HPI', 'Pertinent Results']})\n",
    "    #double check below\n",
    "    a_ruled_out_dx = generate_section(hadm_id, \"What medical conditions were ruled out with diagnostic workup including radiology notes, laboratory results, microbiology culture, and other studies?\", dict_mapping={\n",
    "        'discharge_sections_df': ['Pertinent Results'],\n",
    "        'radiology_sections_df': ['EXAMINATION', 'INDICATION', 'TECHNIQUE', 'COMPARISON', 'FINDINGS', 'IMPRESSION']})\n",
    "    a_ongoing_problems = generate_section(hadm_id, \"Based on the admission medication list, what other existing or ongoing medical conditions did the patient have?\", dict_mapping={\n",
    "        'discharge_sections_df': ['Medication Lists']})\n",
    "    a_studies = generate_section(hadm_id, \"Given the radiology notes, What radiology, imaging or other studies that were performed and for what inducation? List the radiological and imaging studies. Summarize the type of study, the indication, and impressions from each study.\", dict_mapping={\n",
    "        'radiology_sections_df': ['EXAMINATION', 'INDICATION', 'TECHNIQUE', 'IMPRESSION'],\n",
    "        'discharge_sections_df': ['Pertinent Results']})\n",
    "    a_lab_results = generate_section(hadm_id, \"Given the medical conditions and lab work, what are the pertinent positives and negatives relating to the patient's symptoms and diagnostic workup\", dict_mapping={\n",
    "        'discharge_sections_df': ['Pertinent Results']}, \n",
    "                                    additional_context=a_acute_problems)\n",
    "    a_micro_results = generate_section(hadm_id, \"Given the pertenent results, were there any blood culture  or microbiology studiess?  What were the results?  Did they grow anything? If so, what was the organism and what antibiotics was it sensitive to?\", dict_mapping={\n",
    "        'discharge_sections_df': ['Pertinent Results']})\n",
    "    #double check the two variables below\n",
    "    a_differential_dx = generate_section(hadm_id, \"Given the HPI, what is the differential diagnosis for the presenting symptoms or chief complaint?\", dict_mapping={\n",
    "        'discharge_sections_df': ['CC', 'HPI']})\n",
    "    a_rec_work_up = generate_section(hadm_id, \"What is the recommended diagnostic work up?\", dict_mapping={\n",
    "        'discharge_sections_df': ['CC', 'HPI']})\n",
    "    a_med_changes = generate_section(hadm_id, \"Given the admission and discharge medication lists if they are present in the note, What were the changes to the patient's medications? What medications were new?  What medications were stopped?\", dict_mapping={\n",
    "        'discharge_sections_df': ['Medication Lists']}) \n",
    "    a_med_tx = generate_section(hadm_id, \"Given the history of present illness, What medications or IV therapies were used to treat the patient during this hospital admission?\", dict_mapping={\n",
    "        'discharge_sections_df': ['HPI']},\n",
    "                                additional_context=a_med_changes)\n",
    "    a_major_procedures = generate_section(hadm_id, \"What were the major surgical, invasive, or diagnostic, or therapeutic procedures?\", dict_mapping={\n",
    "        'discharge_sections_df': ['Major Surgical Procedure']},\n",
    "                                         additional_context=a_initial_treatments)\n",
    "    a_hospital_problems = generate_section(hadm_id, \"What were the acute and chronic medical conditions the patient was treated for in the hospital?\", \n",
    "                                           additional_context=(a_acute_problems + \"\\n\" + a_ongoing_problems))\n",
    "    a_presentation_symptoms = generate_section(hadm_id, \"For each acute medical condition, what symptoms did the patient present with? What was the severity?\", dict_mapping={\n",
    "        'discharge_sections_df': ['HPI']}, additional_context=a_acute_problems)\n",
    "    a_diagnostic_work_up = generate_section(hadm_id, \"For each acute medical condition, what was the diagnostic work up and related results?\", \n",
    "                                            additional_context=(a_hospital_problems + \"\\n\" + a_initial_workup))\n",
    "    a_treatment_course = generate_section(hadm_id, \"For each acute medical condition, what were the treatments?\",\n",
    "                                          additional_context=(a_acute_problems + \"\\n\" + a_med_tx + \"\\n\" + a_initial_treatments\n",
    "                                                             + \"\\n\" + a_med_changes + \"\\n\" + a_major_procedures))\n",
    "    a_provider_instructions = generate_section(hadm_id, \"Given the Transitional issues, What are the instructions for the recieving provider?\", dict_mapping={\n",
    "        'discharge_sections_df': ['Transitional Issues']})\n",
    "    a_follow_up = generate_section(hadm_id, \"Given the Transitional issues, what is the recommended follow up?\", dict_mapping={\n",
    "        'discharge_sections_df': ['Transitional Issues']})\n",
    "    a_pending_results = generate_section(hadm_id, \"Given the Transitional issues, are there pending results?\", dict_mapping={\n",
    "        'discharge_sections_df': ['Transitional Issues']})\n",
    "    a_dx_list = generate_section(hadm_id, \"What diagnosis did the patient recieve? Cluster these with the acute medical conditions that were identified.\", dict_mapping={\n",
    "        'discharge_sections_df': ['Discharge Diagnosis'],\n",
    "        'diagnosis_df': ['icd_code', 'icd_version', 'icd_title']}, additional_context=a_acute_problems)\n",
    "    a_physical_exam = generate_section(hadm_id, \"What were the pertinent physical exam findings and notable vital signs related to the acute medical conditions?\", dict_mapping={\n",
    "        'discharge_sections_df': ['Physical Exam']})\n",
    "    \n",
    "\n",
    "    \n",
    "    "
   ]
  },
  {
   "cell_type": "code",
   "execution_count": 6,
   "id": "774f744a-4a40-4b02-bbd8-7cc2b8baeef7",
   "metadata": {},
   "outputs": [],
   "source": [
    "bhc_df = pd.DataFrame(columns=[\n",
    "    'hadm_id', 'initial_treatments', 'major_procedures', 'med_changes', 'med_tx', \n",
    "    'initial_workup', 'reason_for_admission', 'relevant_pmh', 'acute_problems', \n",
    "    'ongoing_problems', 'hospital_problems', 'presentation_symptoms', \n",
    "    'diagnostic_work_up', 'treatment_course', 'rec_work_up', 'pending_results', \n",
    "    'bhc_summary'])"
   ]
  },
  {
   "cell_type": "code",
   "execution_count": 7,
   "id": "f09f3e0b-b104-43a3-9f0d-d04c08bbc5ab",
   "metadata": {},
   "outputs": [],
   "source": [
    "bhc_df_5 = pd.DataFrame(columns=[\n",
    "    'hadm_id', 'initial_treatments', 'major_procedures', 'med_changes', 'med_tx', \n",
    "    'initial_workup', 'reason_for_admission', 'relevant_pmh', 'acute_problems', \n",
    "    'ongoing_problems', 'hospital_problems', 'presentation_symptoms', \n",
    "    'diagnostic_work_up', 'treatment_course', 'rec_work_up', 'pending_results', \n",
    "    'bhc_summary'])"
   ]
  },
  {
   "cell_type": "code",
   "execution_count": 8,
   "id": "7d984854-d313-4457-848e-f1240e9739f4",
   "metadata": {},
   "outputs": [],
   "source": [
    "def generate_bhc(hadm_id):\n",
    "    a_initial_treatments = generate_section(hadm_id, \"Given the history of present illness, summarize the treatments and diagnostic workup.\", dict_mapping={\n",
    "        'discharge_sections_df': ['HPI']})\n",
    "    a_major_procedures = generate_section(hadm_id, \"What were the major surgical, invasive, or diagnostic, or therapeutic procedures?\", dict_mapping={\n",
    "        'discharge_sections_df': ['Major Surgical Procedure']},\n",
    "                                         additional_context=a_initial_treatments)\n",
    "    a_med_changes = generate_section(hadm_id, \"Given the admission and discharge medication lists if they are present in the note, What were the changes to the patient's medications? What medications were new?  What medications were stopped?\", dict_mapping={\n",
    "        'discharge_sections_df': ['Medication Lists']}) \n",
    "    a_med_tx = generate_section(hadm_id, \"Given the history of present illness, What medications or IV therapies were used to treat the patient during this hospital admission?\", dict_mapping={\n",
    "        'discharge_sections_df': ['HPI']},\n",
    "                                additional_context=a_med_changes)\n",
    "    a_initial_workup = generate_section(hadm_id, \"Given the History of Present illness, What was the initial diagnostic work up and pertinent results?\", dict_mapping={\n",
    "        'discharge_sections_df': ['HPI']})\n",
    "    a_reason_for_admission = generate_section(hadm_id, \"Given the HPI, chief complaint, and initial ICD diagnosis, Why was the patient admitted to the hospital? What symptoms, medical condition, or other reason caused the patient to come to or be brought into the hospital?\", dict_mapping={\n",
    "        'discharge_sections_df': ['CC', 'HPI', 'Major Surgical Procedure'],\n",
    "        'diagnosis_df': ['icd_title']})\n",
    "    a_relevant_pmh = generate_section(hadm_id, \"Given the History of Present Illness, summarize the patient's major medical conditions and the reason they were admitted to the hospital.\", dict_mapping={\n",
    "        'discharge_sections_df': ['HPI']})\n",
    "    a_acute_problems = generate_section(hadm_id, \"Given the history of present illness, admission and discharge diagnosis, What medical conditions or symptoms was this patient treated for in the hospital?\", dict_mapping={\n",
    "        'discharge_sections_df': ['HPI', 'Discharge Diagnosis'],\n",
    "        'diagnosis_df': ['icd_title']})\n",
    "    a_ongoing_problems = generate_section(hadm_id, \"Based on the admission medication list, what other existing or ongoing medical conditions did the patient have?\", dict_mapping={\n",
    "        'discharge_sections_df': ['Medication Lists']})\n",
    "    a_hospital_problems = generate_section(hadm_id, \"What were the acute and chronic medical conditions the patient was treated for in the hospital?\", \n",
    "                                           additional_context=(a_acute_problems + \"\\n\" + a_ongoing_problems))\n",
    "    a_presentation_symptoms = generate_section(hadm_id, \"For each acute medical condition, what symptoms did the patient present with? What was the severity?\", dict_mapping={\n",
    "        'discharge_sections_df': ['HPI']}, additional_context=a_acute_problems)\n",
    "    a_diagnostic_work_up = generate_section(hadm_id, \"For each acute medical condition, what was the diagnostic work up and related results?\", \n",
    "                                            additional_context=(a_hospital_problems + \"\\n\" + a_initial_workup))\n",
    "    a_treatment_course = generate_section(hadm_id, \"For each acute medical condition, what were the treatments?\",\n",
    "                                          additional_context=(a_acute_problems + \"\\n\" + a_med_tx + \"\\n\" + a_initial_treatments\n",
    "                                                             + \"\\n\" + a_med_changes + \"\\n\" + a_major_procedures))\n",
    "    a_rec_work_up = generate_section(hadm_id, \"What is the recommended diagnostic work up?\", dict_mapping={\n",
    "        'discharge_sections_df': ['CC', 'HPI']})\n",
    "    a_pending_results = generate_section(hadm_id, \"Given the Transitional issues, are there pending results?\", dict_mapping={\n",
    "        'discharge_sections_df': ['Transitional Issues']})\n",
    "    \n",
    "    context = (a_reason_for_admission + \"\\n\" + a_relevant_pmh + \"\\n\" + a_acute_problems + \"\\n\" + a_presentation_symptoms + \"\\n\" + a_diagnostic_work_up\n",
    "               + \"\\n\" + a_treatment_course + \"\\n\" + a_rec_work_up + \"\\n\" + a_pending_results)\n",
    "    bhc = generate_section(hadm_id, \"Given the information from the patient's electronic health record about their hospital admission: Create a summary of the events and treatments during the hospital visit.  Start with a summary sentence describing the patient’s relevant past medical history, the reason for the hospital admission, what service they were admitted to, and any major procedure. Then summarize for each acute medical condition, the presenting symptom and severity, the differential diagnosis, related diagnostic workup and results, related treatments or procedures, the relevant physical exam findings, pertinent lab work, radiology, imaging, cardiac studies.  Are there pending results?  Is there recommended follow up related to this medical condition? What medications did they receive related to each medical condition?\", \n",
    "                           additional_context = context)\n",
    "    \n",
    "    new_row = {\n",
    "        'hadm_id': hadm_id,\n",
    "        'initial_treatments': a_initial_treatments,\n",
    "        'major_procedures': a_major_procedures,\n",
    "        'med_changes': a_med_changes,\n",
    "        'med_tx': a_med_tx,\n",
    "        'initial_workup': a_initial_workup,\n",
    "        'reason_for_admission': a_reason_for_admission,\n",
    "        'relevant_pmh': a_relevant_pmh,\n",
    "        'acute_problems': a_acute_problems,\n",
    "        'ongoing_problems': a_ongoing_problems,\n",
    "        'hospital_problems': a_hospital_problems,\n",
    "        'presentation_symptoms': a_presentation_symptoms,\n",
    "        'diagnostic_work_up': a_diagnostic_work_up,\n",
    "        'treatment_course': a_treatment_course,\n",
    "        'rec_work_up': a_rec_work_up,\n",
    "        'pending_results': a_pending_results,\n",
    "        'bhc_summary': bhc\n",
    "    }\n",
    "\n",
    "    # append new row to the global dataframe\n",
    "    global bhc_df_5\n",
    "    bhc_df_5 = pd.concat([bhc_df_5, pd.DataFrame([new_row])], ignore_index=True)\n",
    "    \n",
    "    return bhc\n",
    "\n",
    "    \n",
    "    "
   ]
  },
  {
   "cell_type": "code",
   "execution_count": 9,
   "id": "d95eecaf-29d6-4cfb-8a8d-3d5e073f4f73",
   "metadata": {},
   "outputs": [],
   "source": [
    "def generate_di(hadm_id):\n",
    "    a_initial_treatments = generate_section(hadm_id, \"Given the history of present illness, summarize the treatments and diagnostic workup.\", dict_mapping={\n",
    "        'discharge_sections_df': ['HPI']})\n",
    "    a_major_procedures = generate_section(hadm_id, \"What were the major surgical, invasive, or diagnostic, or therapeutic procedures?\", dict_mapping={\n",
    "        'discharge_sections_df': ['Major Surgical Procedure']},\n",
    "                                         additional_context=a_initial_treatments)\n",
    "    a_med_changes = generate_section(hadm_id, \"Given the admission and discharge medication lists if they are present in the note, What were the changes to the patient's medications? What medications were new?  What medications were stopped?\", dict_mapping={\n",
    "        'discharge_sections_df': ['Medication Lists']})\n",
    "    a_med_tx = generate_section(hadm_id, \"Given the history of present illness, What medications or IV therapies were used to treat the patient during this hospital admission?\", dict_mapping={\n",
    "        'discharge_sections_df': ['HPI']},\n",
    "                                additional_context=a_med_changes)\n",
    "    a_acute_problems = generate_section(hadm_id, \"Given the history of present illness, admission and discharge diagnosis, What medical conditions or symptoms was this patient treated for in the hospital?\", dict_mapping={\n",
    "        'discharge_sections_df': ['HPI', 'Discharge Diagnosis'],\n",
    "        'diagnosis_df': ['icd_title']})\n",
    "    a_reason_for_admission = generate_section(hadm_id, \"Given the HPI, chief complaint, and initial ICD diagnosis, Why was the patient admitted to the hospital? What symptoms, medical condition, or other reason caused the patient to come to or be brought into the hospital?\", dict_mapping={\n",
    "        'discharge_sections_df': ['CC', 'HPI', 'Major Surgical Procedure'],\n",
    "        'diagnosis_df': ['icd_title']})\n",
    "    a_treatment_course = generate_section(hadm_id, \"For each acute medical condition, what were the treatments?\",\n",
    "                                          additional_context=(a_acute_problems + \"\\n\" + a_med_tx + \"\\n\" + a_initial_treatments\n",
    "                                                             + \"\\n\" + a_med_changes + \"\\n\" + a_major_procedures))\n",
    "    a_provider_instructions = generate_section(hadm_id, \"Given the Transitional issues, What are the instructions for the recieving provider?\", dict_mapping={\n",
    "        'discharge_sections_df': ['Transitional Issues']})\n",
    "    a_med_changes = generate_section(hadm_id, \"Given the admission and discharge medication lists if they are present in the note, What were the changes to the patient's medications? What medications were new?  What medications were stopped?\", dict_mapping={\n",
    "        'discharge_sections_df': ['Medication Lists']}) \n",
    "    \n",
    "    context = (a_reason_for_admission + \"\\n\" + a_treatment_course + \"\\n\" + a_provider_instructions + \"\\n\" + a_med_changes)\n",
    "    di = generate_section(hadm_id, \"Given the information from the patient's EHR about their hospital admission, Compose a letter to the patient that is courteous and easy to understand.  There should be limited medical jargon and it should be written in layman's language.  The letter will describe briefly the reason for admission and what treatments were given.  It will also include any major changes to the patient's current medical management. Include the following information: why the patient was admitted to the hospital, including major medical condition or symptoms. What were the most relevant diagnostic tests and what did they show? What major treatments did the patient receive? Are there any pending results?  What are the changes to the existing medications? Is there any scheduled or recommended  follow up? Limit the result to 600 words.\", \n",
    "                           additional_context = context)\n",
    "    return di\n",
    "\n",
    "    \n",
    "    "
   ]
  },
  {
   "cell_type": "code",
   "execution_count": 10,
   "id": "2f653d82-7fe5-48f8-8547-37299af2e16e",
   "metadata": {},
   "outputs": [
    {
     "data": {
      "text/plain": [
       "'/work/AI-EHR/discharge_me/data/Experiments/CoT Prompting'"
      ]
     },
     "execution_count": 10,
     "metadata": {},
     "output_type": "execute_result"
    }
   ],
   "source": [
    "pwd"
   ]
  },
  {
   "cell_type": "code",
   "execution_count": 11,
   "id": "0390ba46-262d-4722-9d9a-d8ecc4498a9e",
   "metadata": {},
   "outputs": [],
   "source": [
    "hadm_subset_df = pd.read_csv('/work/AI-EHR/discharge_me/data/Experiments/hadm_id_for_discharge_me_scoring.csv')"
   ]
  },
  {
   "cell_type": "code",
   "execution_count": 21,
   "id": "220523de-ad32-4c86-9b4e-b8ac11c04c7f",
   "metadata": {},
   "outputs": [
    {
     "name": "stderr",
     "output_type": "stream",
     "text": [
      "huggingface/tokenizers: The current process just got forked, after parallelism has already been used. Disabling parallelism to avoid deadlocks...\n",
      "To disable this warning, you can either:\n",
      "\t- Avoid using `tokenizers` before the fork if possible\n",
      "\t- Explicitly set the environment variable TOKENIZERS_PARALLELISM=(true | false)\n"
     ]
    },
    {
     "name": "stdout",
     "output_type": "stream",
     "text": [
      "Defaulting to user installation because normal site-packages is not writeable\n",
      "Requirement already satisfied: tqdm in /home/tr.caron/.local/lib/python3.9/site-packages (4.66.5)\n",
      "Note: you may need to restart the kernel to use updated packages.\n"
     ]
    }
   ],
   "source": [
    "pip install tqdm"
   ]
  },
  {
   "cell_type": "code",
   "execution_count": null,
   "id": "52d43e12-dcad-498e-80d1-b7446fce56b1",
   "metadata": {},
   "outputs": [
    {
     "name": "stderr",
     "output_type": "stream",
     "text": [
      "  0%|          | 0/5 [00:00<?, ?it/s]"
     ]
    },
    {
     "name": "stdout",
     "output_type": "stream",
     "text": [
      "1 of 5, 20.0% hadm_id: 22007257 **********\n",
      "\n",
      "\n",
      "799\n"
     ]
    },
    {
     "name": "stderr",
     "output_type": "stream",
     "text": [
      "\n",
      "Processed prompts:   0%|          | 0/1 [00:00<?, ?it/s, est. speed input: 0.00 toks/s, output: 0.00 toks/s]\u001b[A\n",
      "Processed prompts: 100%|██████████| 1/1 [00:04<00:00,  4.85s/it, est. speed input: 164.96 toks/s, output: 80.72 toks/s]\u001b[A\n"
     ]
    },
    {
     "name": "stdout",
     "output_type": "stream",
     "text": [
      "The patient, a 65-year-old retired woman with a history of coronary artery disease, hypertension, and non-insulin-dependent diabetes mellitus, presented with chest pain that woke her from sleep. The pain was relieved by nitroglycerin and described as left-sided with associated bilateral chest tightness, dyspnea, sweating, and hypertension. The patient had similar symptoms previously, which resolved. She was hospitalized previously for worsening exertional angina and underwent a pharmacologic nuclear stress test, which showed a reversible, medium-sized, mild perfusion defect involving the left anterior descending territory. The patient refused cardiac catheterization at that time due to a previous experience of a long recovery period. \n",
      "\n",
      "The patient's treatments included ASA 324mg, 2mg IV morphine, and heparin gtt. The diagnostic workup included laboratory tests, which were significant for troponin <0.01, and an electrocardiogram that showed lateral ST depressions with sl V2/V3 depressions worse than prior. The patient's vital signs were monitored, and she was transferred to the hospital with a heart rate of 72 beats per minute, blood pressure of 158/63 mmHg, and oxygen saturation of 97%. The patient's review of systems was negative for most symptoms, except for the absence of paroxysmal nocturnal dyspnea, orthopnea, ankle edema, palpitations, syncope, or presyncope. \n",
      "\n",
      "The patient's symptoms and diagnostic workup suggest that she may have had a myocardial infarction, and further evaluation is needed to determine the extent of the damage and the best course of treatment. \n",
      "\n",
      "Please note that this response is based on the provided input text and data from the patient's medical records and clinical notes. It is not a comprehensive or definitive diagnosis, and further evaluation and testing may be necessary to determine the patient's condition and treatment plan.\n",
      "587\n"
     ]
    },
    {
     "name": "stderr",
     "output_type": "stream",
     "text": [
      "\n",
      "Processed prompts:   0%|          | 0/1 [00:00<?, ?it/s, est. speed input: 0.00 toks/s, output: 0.00 toks/s]\u001b[A\n",
      "Processed prompts: 100%|██████████| 1/1 [00:00<00:00,  2.30it/s, est. speed input: 1356.39 toks/s, output: 73.94 toks/s]\u001b[A\n"
     ]
    },
    {
     "name": "stdout",
     "output_type": "stream",
     "text": [
      "The major surgical, invasive, or diagnostic, or therapeutic procedures were Cardiac catheterization and Placement of stents on [insert location]. \n",
      "579\n"
     ]
    },
    {
     "name": "stderr",
     "output_type": "stream",
     "text": [
      "\n",
      "Processed prompts:   0%|          | 0/1 [00:00<?, ?it/s, est. speed input: 0.00 toks/s, output: 0.00 toks/s]\u001b[A\n",
      "Processed prompts: 100%|██████████| 1/1 [00:04<00:00,  4.88s/it, est. speed input: 118.73 toks/s, output: 81.82 toks/s]\u001b[A\n"
     ]
    },
    {
     "name": "stdout",
     "output_type": "stream",
     "text": [
      "The changes to the patient's medications were that Amlodipine 5 mg PO DAILY was added and Nitroglycerin SL 0.3 mg SL Q5MIN:PRN chest pain was continued. The medications that were stopped were Atorvastatin 80 mg PO HS and Clopidogrel 75 mg PO DAILY. The medications that were new were Amlodipine 5 mg PO DAILY. The medications that were continued were Aspirin 81 mg PO DAILY, Methimazole 2.5 mg PO 2X/WEEK (MO,TH), Metoprolol Succinate XL 100 mg PO DAILY, Multivitamins 1 TAB PO DAILY, Nitroglycerin SL 0.3 mg SL Q5MIN:PRN chest pain, Omeprazole 20 mg PO DAILY, Calcium 600 + D(3) (calcium carbonate-vitamin D3) 600 mg(1,500mg) -400 unit oral BID, and GlipiZIDE 2.5 mg PO DAILY. The medications that were stopped were Atorvastatin 80 mg PO HS and Clopidogrel 75 mg PO DAILY. The medications that were continued were Aspirin 81 mg PO DAILY, Methimazole 2.5 mg PO 2X/WEEK (MO,TH), Metoprolol Succinate XL 100 mg PO DAILY, Multivitamins 1 TAB PO DAILY, Nitroglycerin SL 0.3 mg SL Q5MIN:PRN chest pain, Omeprazole 20 mg PO DAILY, Calcium 600 + D(3) (calcium carbonate-vitamin D3) 600 mg(1,500mg) -400 unit oral BID, and GlipiZIDE 2.5 mg PO DAILY. \n",
      "1211\n"
     ]
    },
    {
     "name": "stderr",
     "output_type": "stream",
     "text": [
      "\n",
      "Processed prompts:   0%|          | 0/1 [00:00<?, ?it/s, est. speed input: 0.00 toks/s, output: 0.00 toks/s]\u001b[A\n",
      "Processed prompts: 100%|██████████| 1/1 [00:02<00:00,  2.73s/it, est. speed input: 443.89 toks/s, output: 79.17 toks/s]\u001b[A\n"
     ]
    },
    {
     "name": "stdout",
     "output_type": "stream",
     "text": [
      "During this hospital admission, the patient was given ASA 324mg, 2mg IV morphine, and heparin gtt. Additionally, she was started on Amlodipine 5 mg PO DAILY. The medications that were stopped were Atorvastatin 80 mg PO HS and Clopidogrel 75 mg PO DAILY. The medications that were continued were Aspirin 81 mg PO DAILY, Methimazole 2.5 mg PO 2X/WEEK (MO,TH), Metoprolol Succinate XL 100 mg PO DAILY, Multivitamins 1 TAB PO DAILY, Nitroglycerin SL 0.3 mg SL Q5MIN:PRN chest pain, Omeprazole 20 mg PO DAILY, Calcium 600 + D(3) (calcium carbonate-vitamin D3) 600 mg(1,500mg) -400 unit oral BID, and GlipiZIDE 2.5 mg PO DAILY. \n",
      "802\n"
     ]
    },
    {
     "name": "stderr",
     "output_type": "stream",
     "text": [
      "\n",
      "Processed prompts:   0%|          | 0/1 [00:00<?, ?it/s, est. speed input: 0.00 toks/s, output: 0.00 toks/s]\u001b[A\n",
      "Processed prompts: 100%|██████████| 1/1 [00:00<00:00,  1.08it/s, est. speed input: 868.38 toks/s, output: 76.88 toks/s]\u001b[A\n"
     ]
    },
    {
     "name": "stdout",
     "output_type": "stream",
     "text": [
      "The initial diagnostic workup included cardiac enzymes, electrocardiogram (EKG), and a pharmacologic nuclear stress test. The pertinent results were negative cardiac enzymes, no evidence of acute ischemia on EKG, and a reversible, medium-sized, mild perfusion defect involving the left anterior descending (LAD) territory on the nuclear stress test.\n",
      "880\n"
     ]
    },
    {
     "name": "stderr",
     "output_type": "stream",
     "text": [
      "\n",
      "Processed prompts:   0%|          | 0/1 [00:00<?, ?it/s, est. speed input: 0.00 toks/s, output: 0.00 toks/s]\u001b[A\n",
      "Processed prompts: 100%|██████████| 1/1 [00:01<00:00,  1.78s/it, est. speed input: 494.06 toks/s, output: 79.16 toks/s]\u001b[A\n"
     ]
    },
    {
     "name": "stdout",
     "output_type": "stream",
     "text": [
      "The patient was admitted to the hospital due to chest pain that woke her from sleep around 4am. The symptoms included left-sided chest pain with associated bilateral chest tightness, dyspnea, sweating, and hypertension, which were relieved by nitroglycerin. The patient had a history of coronary artery disease, diabetes, hypertension, and hyperlipidemia, and had previously been hospitalized for worsening exertional angina. The patient's symptoms were severe enough to warrant hospitalization and further evaluation. The patient's chief complaint was chest pain, which was the primary reason for admission. The patient's medical condition, specifically her coronary artery disease, was the underlying cause of her symptoms and hospitalization.\n",
      "809\n"
     ]
    },
    {
     "name": "stderr",
     "output_type": "stream",
     "text": [
      "\n",
      "Processed prompts:   0%|          | 0/1 [00:00<?, ?it/s, est. speed input: 0.00 toks/s, output: 0.00 toks/s]\u001b[A\n",
      "Processed prompts: 100%|██████████| 1/1 [00:02<00:00,  2.75s/it, est. speed input: 294.18 toks/s, output: 80.36 toks/s]\u001b[A\n"
     ]
    },
    {
     "name": "stdout",
     "output_type": "stream",
     "text": [
      "Ms. ___ was admitted to the hospital due to chest pain that woke her from sleep around 4am. The pain was relieved by 2x NTG and was described as left-sided pain with associated bilateral chest tightness, dyspnea, sweating, and hypertension. She has a history of coronary artery disease (CAD) with a previous left anterior descending (LAD) coronary artery bypass graft (CABG), non-insulin-dependent diabetes mellitus (NIDDM), hypertension (HTN), and hyperlipidemia (HL). She was previously hospitalized for worsening exertional angina and underwent a pharmacologic nuclear stress test, which showed evidence of a reversible, medium-sized, mild perfusion defect involving the LAD territory. She has been experiencing an increase in frequency of chest pain over the past couple of weeks and has stopped swimming due to exertional chest pain. She is now amenable to cardiac catheterization. The patient's major medical conditions include CAD, NIDDM, HTN, and HL, and she was admitted to the hospital due to worsening chest pain.\n",
      "864\n"
     ]
    },
    {
     "name": "stderr",
     "output_type": "stream",
     "text": [
      "\n",
      "Processed prompts:   0%|          | 0/1 [00:00<?, ?it/s, est. speed input: 0.00 toks/s, output: 0.00 toks/s]\u001b[A\n",
      "Processed prompts: 100%|██████████| 1/1 [00:01<00:00,  1.66s/it, est. speed input: 521.81 toks/s, output: 79.12 toks/s]\u001b[A\n"
     ]
    },
    {
     "name": "stdout",
     "output_type": "stream",
     "text": [
      "The patient was treated for Non-ST Elevation Myocardial Infarction (NSTEMI) and Coronary Artery Disease (CAD) in the hospital. She also had a history of Type 2 Diabetes, Hypertension, and Hyperlipidemia. The patient presented with chest pain that woke her from sleep, which was relieved by nitroglycerin. She had a history of similar symptoms prior to admission, which resolved. She was hospitalized previously for worsening exertional angina and had a pharmacologic nuclear stress test that showed evidence of a reversible, medium-sized, mild perfusion defect involving the LAD territory. \n",
      "562\n"
     ]
    },
    {
     "name": "stderr",
     "output_type": "stream",
     "text": [
      "\n",
      "Processed prompts:   0%|          | 0/1 [00:00<?, ?it/s, est. speed input: 0.00 toks/s, output: 0.00 toks/s]\u001b[A\n",
      "Processed prompts: 100%|██████████| 1/1 [00:01<00:00,  1.34s/it, est. speed input: 421.31 toks/s, output: 80.21 toks/s]\u001b[A\n"
     ]
    },
    {
     "name": "stdout",
     "output_type": "stream",
     "text": [
      "The patient had existing or ongoing medical conditions including hypertension (managed with Metoprolol Succinate XL 100 mg PO DAILY), hyperlipidemia (managed with Atorvastatin 80 mg PO HS), and angina (managed with Nitroglycerin SL 0.3 mg SL Q5MIN:PRN chest pain). Additionally, the patient had a history of thyroid disease (managed with Methimazole 2.5 mg PO 2X/WEEK (MO,TH)). \n",
      "403\n"
     ]
    },
    {
     "name": "stderr",
     "output_type": "stream",
     "text": [
      "\n",
      "Processed prompts:   0%|          | 0/1 [00:00<?, ?it/s, est. speed input: 0.00 toks/s, output: 0.00 toks/s]\u001b[A\n",
      "Processed prompts: 100%|██████████| 1/1 [00:00<00:00,  1.36it/s, est. speed input: 548.92 toks/s, output: 79.00 toks/s]\u001b[A\n"
     ]
    },
    {
     "name": "stdout",
     "output_type": "stream",
     "text": [
      "The patient was treated for acute Non-ST Elevation Myocardial Infarction (NSTEMI) and chronic Coronary Artery Disease (CAD) in the hospital. She also had a history of chronic Type 2 Diabetes, Hypertension, and Hyperlipidemia.\n",
      "939\n"
     ]
    },
    {
     "name": "stderr",
     "output_type": "stream",
     "text": [
      "\n",
      "Processed prompts:   0%|          | 0/1 [00:00<?, ?it/s, est. speed input: 0.00 toks/s, output: 0.00 toks/s]\u001b[A\n",
      "Processed prompts: 100%|██████████| 1/1 [00:01<00:00,  1.80s/it, est. speed input: 522.02 toks/s, output: 78.94 toks/s]\u001b[A\n"
     ]
    },
    {
     "name": "stdout",
     "output_type": "stream",
     "text": [
      "The patient presented with chest pain that woke her from sleep, which was relieved by nitroglycerin. The symptoms included left-sided chest pain, bilateral chest tightness, dyspnea, sweating, and hypertension. The severity of the symptoms was described as lasting 10 minutes. The patient also reported having similar symptoms prior to admission, which resolved. The patient's symptoms were relieved by nitroglycerin, indicating a moderate to severe level of chest pain. The patient's symptoms were also associated with bilateral chest tightness, dyspnea, sweating, and hypertension, which suggests a more severe level of chest pain. Overall, the patient's symptoms were severe enough to warrant hospitalization and further evaluation.\n",
      "297\n"
     ]
    },
    {
     "name": "stderr",
     "output_type": "stream",
     "text": [
      "\n",
      "Processed prompts:   0%|          | 0/1 [00:00<?, ?it/s, est. speed input: 0.00 toks/s, output: 0.00 toks/s]\u001b[A\n",
      "Processed prompts: 100%|██████████| 1/1 [00:01<00:00,  1.08s/it, est. speed input: 276.29 toks/s, output: 80.93 toks/s]\u001b[A\n"
     ]
    },
    {
     "name": "stdout",
     "output_type": "stream",
     "text": [
      "The diagnostic workup for acute Non-ST Elevation Myocardial Infarction (NSTEMI) included cardiac enzymes, electrocardiogram (EKG), and a pharmacologic nuclear stress test. The related results were negative cardiac enzymes, no evidence of acute ischemia on EKG, and a reversible, medium-sized, mild perfusion defect involving the left anterior descending (LAD) territory on the nuclear stress test.\n",
      "1321\n"
     ]
    },
    {
     "name": "stderr",
     "output_type": "stream",
     "text": [
      "\n",
      "Processed prompts:   0%|          | 0/1 [00:00<?, ?it/s, est. speed input: 0.00 toks/s, output: 0.00 toks/s]\u001b[A\n",
      "Processed prompts: 100%|██████████| 1/1 [00:03<00:00,  3.08s/it, est. speed input: 429.31 toks/s, output: 78.97 toks/s]\u001b[A\n"
     ]
    },
    {
     "name": "stdout",
     "output_type": "stream",
     "text": [
      "For the patient's acute medical condition of Non-ST Elevation Myocardial Infarction (NSTEMI) and Coronary Artery Disease (CAD), the treatments were ASA 324mg, 2mg IV morphine, and heparin gtt. Additionally, Amlodipine 5 mg PO DAILY was added, and Nitroglycerin SL 0.3 mg SL Q5MIN:PRN chest pain was continued. The medications that were stopped were Atorvastatin 80 mg PO HS and Clopidogrel 75 mg PO DAILY. The medications that were continued were Aspirin 81 mg PO DAILY, Methimazole 2.5 mg PO 2X/WEEK (MO,TH), Metoprolol Succinate XL 100 mg PO DAILY, Multivitamins 1 TAB PO DAILY, Omeprazole 20 mg PO DAILY, Calcium 600 + D(3) (calcium carbonate-vitamin D3) 600 mg(1,500mg) -400 unit oral BID, and GlipiZIDE 2.5 mg PO DAILY. \n",
      "802\n"
     ]
    },
    {
     "name": "stderr",
     "output_type": "stream",
     "text": [
      "\n",
      "Processed prompts:   0%|          | 0/1 [00:00<?, ?it/s, est. speed input: 0.00 toks/s, output: 0.00 toks/s]\u001b[A\n",
      "Processed prompts: 100%|██████████| 1/1 [00:01<00:00,  1.46s/it, est. speed input: 548.92 toks/s, output: 78.71 toks/s]\u001b[A\n"
     ]
    },
    {
     "name": "stdout",
     "output_type": "stream",
     "text": [
      "The recommended diagnostic work-up for this patient includes a cardiac catheterization to further evaluate the reversible, medium-sized, mild perfusion defect involving the LAD territory, as well as to assess the severity of her coronary artery disease. Additionally, a stress test may be considered to further evaluate the extent of her coronary artery disease and to assess her functional capacity. Other diagnostic tests such as echocardiogram, cardiac MRI, or PET scan may also be considered to further evaluate her cardiac function and perfusion. However, the primary diagnostic test recommended is cardiac catheterization.\n",
      "184\n"
     ]
    },
    {
     "name": "stderr",
     "output_type": "stream",
     "text": [
      "\n",
      "Processed prompts:   0%|          | 0/1 [00:00<?, ?it/s, est. speed input: 0.00 toks/s, output: 0.00 toks/s]\u001b[A\n",
      "Processed prompts: 100%|██████████| 1/1 [00:00<00:00,  2.62it/s, est. speed input: 483.98 toks/s, output: 78.91 toks/s]\u001b[A\n"
     ]
    },
    {
     "name": "stdout",
     "output_type": "stream",
     "text": [
      "Yes, there are pending results. The CBC (Complete Blood Count) test result is pending and needs to be checked at the follow-up appointment.\n",
      "1391\n"
     ]
    },
    {
     "name": "stderr",
     "output_type": "stream",
     "text": [
      "\n",
      "Processed prompts:   0%|          | 0/1 [00:00<?, ?it/s, est. speed input: 0.00 toks/s, output: 0.00 toks/s]\u001b[A\n",
      "Processed prompts: 100%|██████████| 1/1 [00:10<00:00, 10.35s/it, est. speed input: 134.39 toks/s, output: 80.77 toks/s]\u001b[A\n",
      " 20%|██        | 1/5 [00:40<02:41, 40.38s/it]"
     ]
    },
    {
     "name": "stdout",
     "output_type": "stream",
     "text": [
      "Ms. ___ was admitted to the hospital due to chest pain that woke her from sleep around 4am. She has a history of coronary artery disease (CAD) with a previous left anterior descending (LAD) coronary artery bypass graft (CABG), non-insulin-dependent diabetes mellitus (NIDDM), hypertension (HTN), and hyperlipidemia (HL). She was previously hospitalized for worsening exertional angina and underwent a pharmacologic nuclear stress test, which showed evidence of a reversible, medium-sized, mild perfusion defect involving the LAD territory. The patient's symptoms were severe enough to warrant hospitalization and further evaluation.\n",
      "\n",
      "The patient presented with chest pain that woke her from sleep, which was relieved by nitroglycerin. The symptoms included left-sided chest pain, bilateral chest tightness, dyspnea, sweating, and hypertension. The severity of the symptoms was described as lasting 10 minutes. The patient also reported having similar symptoms prior to admission, which resolved. The patient's symptoms were relieved by nitroglycerin, indicating a moderate to severe level of chest pain.\n",
      "\n",
      "The patient was treated for Non-ST Elevation Myocardial Infarction (NSTEMI) and Coronary Artery Disease (CAD) in the hospital. The patient received ASA 324mg, 2mg IV morphine, and heparin gtt. Additionally, Amlodipine 5 mg PO DAILY was added, and Nitroglycerin SL 0.3 mg SL Q5MIN:PRN chest pain was continued. The patient's medications that were stopped were Atorvastatin 80 mg PO HS and Clopidogrel 75 mg PO DAILY.\n",
      "\n",
      "The patient's acute medical condition, specifically her Non-ST Elevation Myocardial Infarction (NSTEMI) and Coronary Artery Disease (CAD), was evaluated with a diagnostic workup that included cardiac enzymes, electrocardiogram (EKG), and a pharmacologic nuclear stress test. The related results were negative cardiac enzymes, no evidence of acute ischemia on EKG, and a reversible, medium-sized, mild perfusion defect involving the left anterior descending (LAD) territory on the nuclear stress test.\n",
      "\n",
      "The recommended diagnostic work-up for this patient includes a cardiac catheterization to further evaluate the reversible, medium-sized, mild perfusion defect involving the LAD territory, as well as to assess the severity of her coronary artery disease. Additionally, a stress test may be considered to further evaluate the extent of her coronary artery disease and to assess her functional capacity. Other diagnostic tests such as echocardiogram, cardiac MRI, or PET scan may also be considered to further evaluate her cardiac function and perfusion. However, the primary diagnostic test recommended is cardiac catheterization.\n",
      "\n",
      "The patient has pending results from a CBC (Complete Blood Count) test, which needs to be checked at the follow-up appointment. The patient's recommended follow-up includes a cardiac catheterization and a stress test, as well as a follow-up appointment to review the pending CBC test results. The patient's medications include ASA 324mg, Amlodipine 5 mg PO DAILY, Nitroglycerin SL 0.3 mg SL Q5MIN:PRN chest pain, and Metoprolol Succinate XL 100 mg PO DAILY. The patient's medications that were stopped include Atorvastatin 80 mg PO HS and Clopidogrel 75 mg PO DAILY. The patient's medications that were continued include Aspirin 81 mg PO DAILY, Methimazole 2.5 mg PO 2X/WEEK (MO,TH), Metoprolol Succinate XL 100 mg PO DAILY, Multivitamins 1 TAB PO DAILY, Omeprazole 20 mg PO DAILY, Calcium 600 + D(3) (calcium carbonate-vitamin D3) 600 mg(1,500mg) -400 unit oral BID, and GlipiZIDE 2.5 mg PO DAILY. \n",
      "Time taken for generate_bhc: 40.360862255096436 seconds.\n",
      "2 of 5, 40.0% hadm_id: 22289537 **********\n",
      "\n",
      "\n",
      "690\n"
     ]
    },
    {
     "name": "stderr",
     "output_type": "stream",
     "text": [
      "\n",
      "Processed prompts:   0%|          | 0/1 [00:00<?, ?it/s, est. speed input: 0.00 toks/s, output: 0.00 toks/s]\u001b[A\n",
      "Processed prompts: 100%|██████████| 1/1 [00:03<00:00,  3.28s/it, est. speed input: 210.15 toks/s, output: 81.32 toks/s]\u001b[A\n"
     ]
    },
    {
     "name": "stdout",
     "output_type": "stream",
     "text": [
      "The patient, a 65-year-old female with a history of CAD, HTN, and DM, was admitted to the hospital after falling at home. She experienced lightheadedness, lost her balance, and fell onto her right side, landing on the edge of a rocking chair. She did not strike her head or experience loss of consciousness. The patient reported feeling lightheaded when waking up and taking tramadol with minimal relief for her pain. In the emergency department, her initial vital signs were normal, and a CT chest revealed anterior right 2nd rib fracture, lateral rib fractures of the right 3rd and 5th ribs, and no pneumothorax. A CT head and c-spine were normal. The patient was admitted for further pain control due to difficulty controlling her pain and elevated blood pressure. On the floor, she continues to experience right-sided rib and shoulder pain, denying any shortness of breath or other concerning symptoms. The patient's treatments and diagnostic workup included a CT chest, CT head, and c-spine, as well as consultation with the acute care surgery team, which did not recommend surgical interventions. The patient's pain was difficult to control, and she was found to have elevated blood pressure, which was managed with admission for further pain control. \n",
      "448\n"
     ]
    },
    {
     "name": "stderr",
     "output_type": "stream",
     "text": [
      "\n",
      "Processed prompts:   0%|          | 0/1 [00:00<?, ?it/s, est. speed input: 0.00 toks/s, output: 0.00 toks/s]\u001b[A\n",
      "Processed prompts: 100%|██████████| 1/1 [00:00<00:00,  1.56it/s, est. speed input: 701.69 toks/s, output: 78.31 toks/s]\u001b[A\n"
     ]
    },
    {
     "name": "stdout",
     "output_type": "stream",
     "text": [
      "The patient did not undergo any major surgical, invasive, or diagnostic, or therapeutic procedures during her hospital admission. The acute care surgery team did not recommend surgical interventions, and the patient's pain was managed with non-surgical treatments. \n",
      "794\n"
     ]
    },
    {
     "name": "stderr",
     "output_type": "stream",
     "text": [
      "\n",
      "Processed prompts:   0%|          | 0/1 [00:00<?, ?it/s, est. speed input: 0.00 toks/s, output: 0.00 toks/s]\u001b[A\n",
      "Processed prompts: 100%|██████████| 1/1 [00:01<00:00,  1.46s/it, est. speed input: 545.14 toks/s, output: 78.95 toks/s]\u001b[A\n"
     ]
    },
    {
     "name": "stdout",
     "output_type": "stream",
     "text": [
      "The changes to the patient's medications were the addition of Acetaminophen 1000 mg PO TID and Docusate Sodium 100 mg PO BID, and the discontinuation of MetFORMIN XR (Glucophage XR) 1000 mg PO DAILY. The new medications were Acetaminophen 1000 mg PO TID and Docusate Sodium 100 mg PO BID. The medications that were stopped were MetFORMIN XR (Glucophage XR) 1000 mg PO DAILY.  \n",
      "817\n"
     ]
    },
    {
     "name": "stderr",
     "output_type": "stream",
     "text": [
      "\n",
      "Processed prompts:   0%|          | 0/1 [00:00<?, ?it/s, est. speed input: 0.00 toks/s, output: 0.00 toks/s]\u001b[A\n",
      "Processed prompts: 100%|██████████| 1/1 [00:01<00:00,  1.08s/it, est. speed input: 755.77 toks/s, output: 77.70 toks/s]\u001b[A\n"
     ]
    },
    {
     "name": "stdout",
     "output_type": "stream",
     "text": [
      "During this hospital admission, the patient was treated with Acetaminophen 1000 mg PO TID and Docusate Sodium 100 mg PO BID to manage her pain and constipation. Additionally, IV therapies were not mentioned in the provided data. The patient's previous medication, MetFORMIN XR (Glucophage XR) 1000 mg PO DAILY, was discontinued. \n",
      "693\n"
     ]
    },
    {
     "name": "stderr",
     "output_type": "stream",
     "text": [
      "\n",
      "Processed prompts:   0%|          | 0/1 [00:00<?, ?it/s, est. speed input: 0.00 toks/s, output: 0.00 toks/s]\u001b[A\n",
      "Processed prompts: 100%|██████████| 1/1 [00:01<00:00,  1.13s/it, est. speed input: 614.68 toks/s, output: 78.94 toks/s]\u001b[A\n"
     ]
    },
    {
     "name": "stdout",
     "output_type": "stream",
     "text": [
      "The initial diagnostic workup included a CT chest, CT head, and CT c spine, which revealed anterior right 2nd rib fracture, lateral rib fractures of the right 3rd and 5th ribs, and no pneumothorax. The pertinent results were normal CBC and chem 7, and normal CT head and c spine. The patient was admitted for further pain control due to difficulty controlling her pain and elevated blood pressure.\n",
      "765\n"
     ]
    },
    {
     "name": "stderr",
     "output_type": "stream",
     "text": [
      "\n",
      "Processed prompts:   0%|          | 0/1 [00:00<?, ?it/s, est. speed input: 0.00 toks/s, output: 0.00 toks/s]\u001b[A\n",
      "Processed prompts: 100%|██████████| 1/1 [00:01<00:00,  1.17s/it, est. speed input: 654.97 toks/s, output: 78.77 toks/s]\u001b[A\n"
     ]
    },
    {
     "name": "stdout",
     "output_type": "stream",
     "text": [
      "The patient was admitted to the hospital due to a fall she experienced in the morning, which resulted in multiple rib fractures. The patient's symptoms, medical condition, and other reason for admission were the severe pain caused by the rib fractures, which was difficult to control, and the need for further pain management. The patient's elevated blood pressure, which was 190 mmHg, also contributed to the decision to admit her to the hospital. \n",
      "700\n"
     ]
    },
    {
     "name": "stderr",
     "output_type": "stream",
     "text": [
      "\n",
      "Processed prompts:   0%|          | 0/1 [00:00<?, ?it/s, est. speed input: 0.00 toks/s, output: 0.00 toks/s]\u001b[A\n",
      "Processed prompts: 100%|██████████| 1/1 [00:01<00:00,  1.11s/it, est. speed input: 629.08 toks/s, output: 79.08 toks/s]\u001b[A\n"
     ]
    },
    {
     "name": "stdout",
     "output_type": "stream",
     "text": [
      "Ms. ___ was admitted to the hospital due to a fall she experienced after waking up from bed. She has a history of coronary artery disease, hypertension, and diabetes. The patient was admitted for further pain control as her pain was difficult to manage, and she had elevated blood pressure. The patient's major medical conditions include coronary artery disease, hypertension, and diabetes. The reason for admission was to manage her pain and stabilize her condition.\n",
      "751\n"
     ]
    },
    {
     "name": "stderr",
     "output_type": "stream",
     "text": [
      "\n",
      "Processed prompts:   0%|          | 0/1 [00:00<?, ?it/s, est. speed input: 0.00 toks/s, output: 0.00 toks/s]\u001b[A\n",
      "Processed prompts: 100%|██████████| 1/1 [00:01<00:00,  1.57s/it, est. speed input: 479.45 toks/s, output: 79.80 toks/s]\u001b[A\n"
     ]
    },
    {
     "name": "stdout",
     "output_type": "stream",
     "text": [
      "The patient was treated for rib fractures, specifically anterior right 2nd rib fracture, lateral rib fractures of the right 3rd and 5th ribs, and coronary artery disease (CAD) with a history of DES to LCX. Additionally, the patient had a history of hypertension (HTN), diabetes mellitus type II (DM II), and was admitted for further pain control due to elevated blood pressure (SBP) of 190. The patient also experienced lightheadedness, lost her balance, and fell down on a rocking chair, which may be related to her medical conditions. \n",
      "777\n"
     ]
    },
    {
     "name": "stderr",
     "output_type": "stream",
     "text": [
      "\n",
      "Processed prompts:   0%|          | 0/1 [00:00<?, ?it/s, est. speed input: 0.00 toks/s, output: 0.00 toks/s]\u001b[A\n",
      "Processed prompts: 100%|██████████| 1/1 [00:02<00:00,  2.71s/it, est. speed input: 286.91 toks/s, output: 80.50 toks/s]\u001b[A\n"
     ]
    },
    {
     "name": "stdout",
     "output_type": "stream",
     "text": [
      "Based on the admission medication list, the patient had existing or ongoing medical conditions including hypertension (Valsartan 40 mg PO DAILY, Metoprolol Succinate XL 50 mg PO DAILY), hyperlipidemia (Atorvastatin 20 mg PO DAILY), type 2 diabetes (MetFORMIN XR (Glucophage XR) 1000 mg PO DAILY, Pioglitazone 15 mg PO DAILY), and coronary artery disease (Isosorbide Mononitrate (Extended Release) 30 mg PO DAILY, Nitroglycerin SL 0.4 mg SL PRN chest pain). Additionally, the patient had a history of depression (Citalopram 20 mg PO DAILY) and allergies (Cetirizine 10 mg Oral qhs). The patient also had a history of constipation (Docusate Sodium 100 mg PO BID) and chronic pain (OxyCODONE SR (OxyconTIN) 10 mg PO DAILY). \n",
      "508\n"
     ]
    },
    {
     "name": "stderr",
     "output_type": "stream",
     "text": [
      "\n",
      "Processed prompts:   0%|          | 0/1 [00:00<?, ?it/s, est. speed input: 0.00 toks/s, output: 0.00 toks/s]\u001b[A\n",
      "Processed prompts: 100%|██████████| 1/1 [00:01<00:00,  1.59s/it, est. speed input: 319.58 toks/s, output: 81.15 toks/s]\u001b[A\n"
     ]
    },
    {
     "name": "stdout",
     "output_type": "stream",
     "text": [
      "The patient was treated for acute rib fractures, specifically anterior right 2nd rib fracture, lateral rib fractures of the right 3rd and 5th ribs, and chronic medical conditions including coronary artery disease (CAD), hypertension (HTN), diabetes mellitus type II (DM II), and hyperlipidemia. The patient also had a history of depression, constipation, and chronic pain. The patient was admitted for further pain control due to elevated blood pressure (SBP) of 190 and lightheadedness, lost her balance, and fell down on a rocking chair, which may be related to her medical conditions.\n",
      "824\n"
     ]
    },
    {
     "name": "stderr",
     "output_type": "stream",
     "text": [
      "\n",
      "Processed prompts:   0%|          | 0/1 [00:00<?, ?it/s, est. speed input: 0.00 toks/s, output: 0.00 toks/s]\u001b[A\n",
      "Processed prompts: 100%|██████████| 1/1 [00:01<00:00,  1.58s/it, est. speed input: 521.61 toks/s, output: 79.13 toks/s]\u001b[A\n"
     ]
    },
    {
     "name": "stdout",
     "output_type": "stream",
     "text": [
      "The patient presented with symptoms of lightheadedness, lost her balance, and fell down on a rocking chair. The severity of these symptoms is moderate to severe, as the patient experienced a fall and was admitted to the hospital for further pain control and management of her medical conditions. The patient also reported right-sided chest and shoulder pain, which is likely related to the rib fractures. The severity of this symptom is moderate to severe, as the patient was experiencing significant pain and discomfort. Overall, the patient's symptoms are related to her underlying medical conditions, including CAD, HTN, DM II, and rib fractures.\n",
      "386\n"
     ]
    },
    {
     "name": "stderr",
     "output_type": "stream",
     "text": [
      "\n",
      "Processed prompts:   0%|          | 0/1 [00:00<?, ?it/s, est. speed input: 0.00 toks/s, output: 0.00 toks/s]\u001b[A\n",
      "Processed prompts: 100%|██████████| 1/1 [00:00<00:00,  1.02it/s, est. speed input: 396.05 toks/s, output: 80.03 toks/s]\u001b[A\n"
     ]
    },
    {
     "name": "stdout",
     "output_type": "stream",
     "text": [
      "The diagnostic workup for the acute rib fractures included a CT chest, CT head, and CT c spine, which revealed anterior right 2nd rib fracture, lateral rib fractures of the right 3rd and 5th ribs, and no pneumothorax. The related results were normal CBC and chem 7, and normal CT head and c spine. \n",
      "\n",
      "\n",
      "790\n"
     ]
    },
    {
     "name": "stderr",
     "output_type": "stream",
     "text": [
      "\n",
      "Processed prompts:   0%|          | 0/1 [00:00<?, ?it/s, est. speed input: 0.00 toks/s, output: 0.00 toks/s]\u001b[A\n",
      "Processed prompts: 100%|██████████| 1/1 [00:25<00:00, 25.18s/it, est. speed input: 31.38 toks/s, output: 81.34 toks/s]\u001b[A\n"
     ]
    },
    {
     "name": "stdout",
     "output_type": "stream",
     "text": [
      "The patient was treated for rib fractures with the following treatments: Acetaminophen 1000 mg PO TID and Docusate Sodium 100 mg PO BID to manage pain and constipation. Additionally, the patient's previous medication, MetFORMIN XR (Glucophage XR) 1000 mg PO DAILY, was discontinued. The patient's coronary artery disease (CAD) with a history of DES to LCX was not treated with any specific therapies mentioned in the provided data. The patient's hypertension (HTN) and diabetes mellitus type II (DM II) were managed with non-surgical treatments. The patient's lightheadedness, lost her balance, and fell down on a rocking chair, which may be related to her medical conditions, was managed with admission for further pain control due to difficulty controlling her pain and elevated blood pressure. The patient's coronary artery disease (CAD) with a history of DES to LCX was not treated with any specific therapies mentioned in the provided data. The patient's hypertension (HTN) and diabetes mellitus type II (DM II) were managed with non-surgical treatments. The patient's lightheadedness, lost her balance, and fell down on a rocking chair, which may be related to her medical conditions, was managed with admission for further pain control due to difficulty controlling her pain and elevated blood pressure. The patient's coronary artery disease (CAD) with a history of DES to LCX was not treated with any specific therapies mentioned in the provided data. The patient's hypertension (HTN) and diabetes mellitus type II (DM II) were managed with non-surgical treatments. The patient's lightheadedness, lost her balance, and fell down on a rocking chair, which may be related to her medical conditions, was managed with admission for further pain control due to difficulty controlling her pain and elevated blood pressure. The patient's coronary artery disease (CAD) with a history of DES to LCX was not treated with any specific therapies mentioned in the provided data. The patient's hypertension (HTN) and diabetes mellitus type II (DM II) were managed with non-surgical treatments. The patient's lightheadedness, lost her balance, and fell down on a rocking chair, which may be related to her medical conditions, was managed with admission for further pain control due to difficulty controlling her pain and elevated blood pressure. The patient's coronary artery disease (CAD) with a history of DES to LCX was not treated with any specific therapies mentioned in the provided data. The patient's hypertension (HTN) and diabetes mellitus type II (DM II) were managed with non-surgical treatments. The patient's lightheadedness, lost her balance, and fell down on a rocking chair, which may be related to her medical conditions, was managed with admission for further pain control due to difficulty controlling her pain and elevated blood pressure. The patient's coronary artery disease (CAD) with a history of DES to LCX was not treated with any specific therapies mentioned in the provided data. The patient's hypertension (HTN) and diabetes mellitus type II (DM II) were managed with non-surgical treatments. The patient's lightheadedness, lost her balance, and fell down on a rocking chair, which may be related to her medical conditions, was managed with admission for further pain control due to difficulty controlling her pain and elevated blood pressure. The patient's coronary artery disease (CAD) with a history of DES to LCX was not treated with any specific therapies mentioned in the provided data. The patient's hypertension (HTN) and diabetes mellitus type II (DM II) were managed with non-surgical treatments. The patient's lightheadedness, lost her balance, and fell down on a rocking chair, which may be related to her medical conditions, was managed with admission for further pain control due to difficulty controlling her pain and elevated blood pressure. The patient's coronary artery disease (CAD) with a history of DES to LCX was not treated with any specific therapies mentioned in the provided data. The patient's hypertension (HTN) and diabetes mellitus type II (DM II) were managed with non-surgical treatments. The patient's lightheadedness, lost her balance, and fell down on a rocking chair, which may be related to her medical conditions, was managed with admission for further pain control due to difficulty controlling her pain and elevated blood pressure. The patient's coronary artery disease (CAD) with a history of DES to LCX was not treated with any specific therapies mentioned in the provided data. The patient's hypertension (HTN) and diabetes mellitus type II (DM II) were managed with non-surgical treatments. The patient's lightheadedness, lost her balance, and fell down on a rocking chair, which may be related to her medical conditions, was managed with admission for further pain control due to difficulty controlling her pain and elevated blood pressure. The patient's coronary artery disease (CAD) with a history of DES to LCX was not treated with any specific therapies mentioned in the provided data. The patient's hypertension (HTN) and diabetes mellitus type II (DM II) were managed with non-surgical treatments. The patient's lightheadedness, lost her balance, and fell down on a rocking chair, which may be related to her medical conditions, was managed with admission for further pain control due to difficulty controlling her pain and elevated blood pressure. The patient's coronary artery disease (CAD) with a history of DES to LCX was not treated with any specific therapies mentioned in the provided data. The patient's hypertension (HTN) and diabetes mellitus type II (DM II) were managed with non-surgical treatments. The patient's lightheadedness, lost her balance, and fell down on a rocking chair, which may be related to her medical conditions, was managed with admission for further pain control due to difficulty controlling her pain and elevated blood pressure. The patient's coronary artery disease (CAD) with a history of DES to LCX was not treated with any specific therapies mentioned in the provided data. The patient's hypertension (HTN) and diabetes mellitus type II (DM II) were managed with non-surgical treatments. The patient's lightheadedness, lost her balance, and fell down on a rocking chair, which may be related to her medical conditions, was managed with admission for further pain control due to difficulty controlling her pain and elevated blood pressure. The patient's coronary artery disease (CAD) with a history of DES to LCX was not treated with any specific therapies mentioned in the provided data. The patient's hypertension (HTN) and diabetes mellitus type II (DM II) were managed with non-surgical treatments. The patient's lightheadedness, lost her balance, and fell down on a rocking chair, which may be related to her medical conditions, was managed with admission for further pain control due to difficulty controlling her pain and elevated blood pressure. The patient's coronary artery disease (CAD) with a history of DES to LCX was not treated with any specific therapies mentioned in the provided data. The patient's hypertension (HTN) and diabetes mellitus type II (DM II) were managed with non-surgical treatments. The patient's lightheadedness, lost her balance, and fell down on a rocking chair, which may be related to her medical conditions, was managed with admission for further pain control due to difficulty controlling her pain and elevated blood pressure. The patient's coronary artery disease (CAD) with a history of DES to LCX was not treated with any specific therapies mentioned in the provided data. The patient's hypertension (HTN) and diabetes mellitus type II (DM II) were managed with non-surgical treatments. The patient's lightheadedness, lost her balance, and fell down on a rocking chair, which may be related to her medical conditions, was managed with admission for further pain control due to difficulty controlling her pain and elevated blood pressure. The patient's coronary artery disease (CAD) with a history of DES to LCX was not treated with any specific therapies mentioned in the provided data. The patient's hypertension (HTN) and diabetes mellitus type II (DM II) were managed with non-surgical treatments. The patient's lightheadedness, lost her balance, and fell down on a rocking chair, which may be related to her medical conditions, was managed with admission for further pain control due to difficulty controlling her pain and elevated blood pressure. The patient's coronary artery disease (CAD) with a history of DES to LCX was not treated with any specific therapies mentioned in the provided data. The patient's hypertension (HTN) and diabetes mellitus type II (DM II) were managed with non-surgical treatments. The patient's lightheadedness, lost her balance, and fell down on a rocking chair, which may be related to her medical conditions, was managed with admission for further pain control due to difficulty controlling her pain and elevated blood pressure. The patient's coronary artery disease (CAD) with a history of DES to LCX was not treated with any specific therapies mentioned in the provided data. The patient's hypertension (HTN) and diabetes mellitus type II (DM II) were managed with non-surgical treatments. The patient's lightheadedness, lost her balance, and fell down on a rocking chair, which may be related to her medical conditions, was managed with admission for further pain control due to difficulty controlling her pain and elevated blood pressure. The patient's coronary artery disease (CAD) with a history of DES to LCX was not treated with any specific therapies mentioned in the provided data. The patient's hypertension (HTN) and diabetes mellitus type II (DM II) were managed with non-surgical treatments. The patient's lightheadedness, lost her balance, and fell down on a rocking chair, which may be related to her medical conditions, was\n",
      "694\n"
     ]
    },
    {
     "name": "stderr",
     "output_type": "stream",
     "text": [
      "\n",
      "Processed prompts:   0%|          | 0/1 [00:00<?, ?it/s, est. speed input: 0.00 toks/s, output: 0.00 toks/s]\u001b[A\n",
      "Processed prompts: 100%|██████████| 1/1 [00:03<00:00,  3.17s/it, est. speed input: 219.05 toks/s, output: 81.12 toks/s]\u001b[A\n"
     ]
    },
    {
     "name": "stdout",
     "output_type": "stream",
     "text": [
      "The recommended diagnostic work-up for this patient includes a comprehensive evaluation of her recent fall, chest pain, and rib fractures. Given her history of CAD, HTN, and DM, it is essential to rule out any potential cardiac or vascular complications. A thorough physical examination, including a detailed neurological examination, should be performed to assess for any potential injuries or complications from the fall. \n",
      "\n",
      "A chest X-ray should be ordered to further evaluate the extent of the rib fractures and rule out any potential pneumothorax or other pulmonary complications. A CT scan of the chest and abdomen may also be necessary to further evaluate the extent of the rib fractures and assess for any potential internal injuries. \n",
      "\n",
      "In addition, a complete blood count (CBC) and comprehensive metabolic panel (CMP) should be ordered to assess for any potential complications from the fall or underlying medical conditions. \n",
      "\n",
      "A cardiology consultation may also be necessary to further evaluate the patient's CAD and assess for any potential cardiac complications. \n",
      "\n",
      "Finally, a pain management plan should be developed to help control the patient's pain and discomfort. \n",
      "\n",
      "Overall, the recommended diagnostic work-up for this patient includes a comprehensive evaluation of her recent fall, chest pain, and rib fractures, as well as a thorough assessment of her underlying medical conditions and potential complications.\n",
      "206\n"
     ]
    },
    {
     "name": "stderr",
     "output_type": "stream",
     "text": [
      "\n",
      "Processed prompts:   0%|          | 0/1 [00:00<?, ?it/s, est. speed input: 0.00 toks/s, output: 0.00 toks/s]\u001b[A\n",
      "Processed prompts: 100%|██████████| 1/1 [00:00<00:00,  3.81it/s, est. speed input: 787.91 toks/s, output: 76.49 toks/s]\u001b[A\n"
     ]
    },
    {
     "name": "stdout",
     "output_type": "stream",
     "text": [
      "Yes, there are pending results. The patient needs follow-up with Geriatrics and Cardiology.\n",
      "3113\n"
     ]
    },
    {
     "name": "stderr",
     "output_type": "stream",
     "text": [
      "\n",
      "Processed prompts:   0%|          | 0/1 [00:00<?, ?it/s, est. speed input: 0.00 toks/s, output: 0.00 toks/s]\u001b[A\n",
      "Processed prompts: 100%|██████████| 1/1 [00:08<00:00,  8.67s/it, est. speed input: 358.98 toks/s, output: 79.22 toks/s]\u001b[A\n",
      " 40%|████      | 2/5 [01:36<02:28, 49.41s/it]"
     ]
    },
    {
     "name": "stdout",
     "output_type": "stream",
     "text": [
      "Ms. ___ was admitted to the hospital due to a fall she experienced after waking up from bed, which resulted in multiple rib fractures. The patient's symptoms, medical condition, and other reason for admission were the severe pain caused by the rib fractures, which was difficult to control, and the need for further pain management. The patient's elevated blood pressure, which was 190 mmHg, also contributed to the decision to admit her to the hospital. The patient has a history of coronary artery disease, hypertension, and diabetes. The reason for admission was to manage her pain and stabilize her condition.\n",
      "\n",
      "The patient presented with symptoms of lightheadedness, lost her balance, and fell down on a rocking chair. The severity of these symptoms is moderate to severe, as the patient experienced a fall and was admitted to the hospital for further pain control and management of her medical conditions. The patient also reported right-sided chest and shoulder pain, which is likely related to the rib fractures. The severity of this symptom is moderate to severe, as the patient was experiencing significant pain and discomfort.\n",
      "\n",
      "The patient was treated for rib fractures with the following treatments: Acetaminophen 1000 mg PO TID and Docusate Sodium 100 mg PO BID to manage pain and constipation. Additionally, the patient's previous medication, MetFORMIN XR (Glucophage XR) 1000 mg PO DAILY, was discontinued. The patient's coronary artery disease (CAD) with a history of DES to LCX was not treated with any specific therapies mentioned in the provided data. The patient's hypertension (HTN) and diabetes mellitus type II (DM II) were managed with non-surgical treatments.\n",
      "\n",
      "The patient's lightheadedness, lost her balance, and fell down on a rocking chair, which may be related to her medical conditions, was managed with admission for further pain control due to difficulty controlling her pain and elevated blood pressure. The patient's coronary artery disease (CAD) with a history of DES to LCX was not treated with any specific therapies mentioned in the provided data. The patient's hypertension (HTN) and diabetes mellitus type II (DM II) were managed with non-surgical treatments.\n",
      "\n",
      "The patient's medical conditions include coronary artery disease, hypertension, and diabetes mellitus type II. The patient's symptoms include lightheadedness, lost her balance, and fell down on a rocking chair, as well as right-sided chest and shoulder pain. The patient's treatments include Acetaminophen 1000 mg PO TID and Docusate Sodium 100 mg PO BID for pain and constipation, and discontinuation of MetFORMIN XR (Glucophage XR) 1000 mg PO DAILY.\n",
      "\n",
      "The patient's recommended diagnostic work-up includes a comprehensive evaluation of her recent fall, chest pain, and rib fractures, as well as a thorough assessment of her underlying medical conditions and potential complications. The patient needs follow-up with Geriatrics and Cardiology. The patient's medications include Acetaminophen 1000 mg PO TID and Docusate Sodium 100 mg PO BID for pain and constipation, and discontinuation of MetFORMIN XR (Glucophage XR) 1000 mg PO DAILY. The patient's recommended treatments include a pain management plan to help control the patient's pain and discomfort. \n",
      "Time taken for generate_bhc: 55.70008039474487 seconds.\n",
      "3 of 5, 60.0% hadm_id: 22988214 **********\n",
      "\n",
      "\n",
      "1367\n"
     ]
    },
    {
     "name": "stderr",
     "output_type": "stream",
     "text": [
      "\n",
      "Processed prompts:   0%|          | 0/1 [00:00<?, ?it/s, est. speed input: 0.00 toks/s, output: 0.00 toks/s]\u001b[A\n",
      "Processed prompts: 100%|██████████| 1/1 [00:25<00:00, 25.26s/it, est. speed input: 54.11 toks/s, output: 81.07 toks/s]\u001b[A\n"
     ]
    },
    {
     "name": "stdout",
     "output_type": "stream",
     "text": [
      "The patient was treated with an ace bandage to prevent hematoma expansion and was referred to cardiology for further evaluation of vascular involvement. The patient was also referred to orthopedics for further evaluation. The patient's INR was supratherapeutic, and he was taking Coumadin for his mitral valve replacement. The patient was also taking ibuprofen for pain. The patient had a CTA chest that was negative for pulmonary embolism, and a CXR that was negative for pneumonia. The patient had an ultrasound of the left lower extremity veins that showed no evidence of deep venous thrombosis. The patient also had a CT scan of the chest that showed small incidental lung nodules measuring 4 mm or less. The patient was given no medication in the ED. The patient's vital signs were stable, and he was transferred to the floor for further management. The patient's hematoma was monitored, and he was advised to keep his leg wrapped with an ace bandage to prevent hematoma expansion. The patient's leg heaviness and loss of sensation in his toes were noted, but he denied any other symptoms. The patient was referred to cardiology and orthopedics for further evaluation. The patient's medical history included a history of strep viridians endocarditis and mitral valve replacement. The patient's current symptoms included left leg cramps, left leg pain, and shortness of breath. The patient's diagnostic workup included an ultrasound of the left lower extremity veins, a CT scan of the chest, and a CXR. The patient's treatments included an ace bandage to prevent hematoma expansion and referral to cardiology and orthopedics for further evaluation. The patient's INR was supratherapeutic, and he was taking Coumadin for his mitral valve replacement. The patient was also taking ibuprofen for pain. The patient's vital signs were stable, and he was transferred to the floor for further management. The patient's hematoma was monitored, and he was advised to keep his leg wrapped with an ace bandage to prevent hematoma expansion. The patient's leg heaviness and loss of sensation in his toes were noted, but he denied any other symptoms. The patient was referred to cardiology and orthopedics for further evaluation. The patient's medical history included a history of strep viridians endocarditis and mitral valve replacement. The patient's current symptoms included left leg cramps, left leg pain, and shortness of breath. The patient's diagnostic workup included an ultrasound of the left lower extremity veins, a CT scan of the chest, and a CXR. The patient's treatments included an ace bandage to prevent hematoma expansion and referral to cardiology and orthopedics for further evaluation. The patient's INR was supratherapeutic, and he was taking Coumadin for his mitral valve replacement. The patient was also taking ibuprofen for pain. The patient's vital signs were stable, and he was transferred to the floor for further management. The patient's hematoma was monitored, and he was advised to keep his leg wrapped with an ace bandage to prevent hematoma expansion. The patient's leg heaviness and loss of sensation in his toes were noted, but he denied any other symptoms. The patient was referred to cardiology and orthopedics for further evaluation. The patient's medical history included a history of strep viridians endocarditis and mitral valve replacement. The patient's current symptoms included left leg cramps, left leg pain, and shortness of breath. The patient's diagnostic workup included an ultrasound of the left lower extremity veins, a CT scan of the chest, and a CXR. The patient's treatments included an ace bandage to prevent hematoma expansion and referral to cardiology and orthopedics for further evaluation. The patient's INR was supratherapeutic, and he was taking Coumadin for his mitral valve replacement. The patient was also taking ibuprofen for pain. The patient's vital signs were stable, and he was transferred to the floor for further management. The patient's hematoma was monitored, and he was advised to keep his leg wrapped with an ace bandage to prevent hematoma expansion. The patient's leg heaviness and loss of sensation in his toes were noted, but he denied any other symptoms. The patient was referred to cardiology and orthopedics for further evaluation. The patient's medical history included a history of strep viridians endocarditis and mitral valve replacement. The patient's current symptoms included left leg cramps, left leg pain, and shortness of breath. The patient's diagnostic workup included an ultrasound of the left lower extremity veins, a CT scan of the chest, and a CXR. The patient's treatments included an ace bandage to prevent hematoma expansion and referral to cardiology and orthopedics for further evaluation. The patient's INR was supratherapeutic, and he was taking Coumadin for his mitral valve replacement. The patient was also taking ibuprofen for pain. The patient's vital signs were stable, and he was transferred to the floor for further management. The patient's hematoma was monitored, and he was advised to keep his leg wrapped with an ace bandage to prevent hematoma expansion. The patient's leg heaviness and loss of sensation in his toes were noted, but he denied any other symptoms. The patient was referred to cardiology and orthopedics for further evaluation. The patient's medical history included a history of strep viridians endocarditis and mitral valve replacement. The patient's current symptoms included left leg cramps, left leg pain, and shortness of breath. The patient's diagnostic workup included an ultrasound of the left lower extremity veins, a CT scan of the chest, and a CXR. The patient's treatments included an ace bandage to prevent hematoma expansion and referral to cardiology and orthopedics for further evaluation. The patient's INR was supratherapeutic, and he was taking Coumadin for his mitral valve replacement. The patient was also taking ibuprofen for pain. The patient's vital signs were stable, and he was transferred to the floor for further management. The patient's hematoma was monitored, and he was advised to keep his leg wrapped with an ace bandage to prevent hematoma expansion. The patient's leg heaviness and loss of sensation in his toes were noted, but he denied any other symptoms. The patient was referred to cardiology and orthopedics for further evaluation. The patient's medical history included a history of strep viridians endocarditis and mitral valve replacement. The patient's current symptoms included left leg cramps, left leg pain, and shortness of breath. The patient's diagnostic workup included an ultrasound of the left lower extremity veins, a CT scan of the chest, and a CXR. The patient's treatments included an ace bandage to prevent hematoma expansion and referral to cardiology and orthopedics for further evaluation. The patient's INR was supratherapeutic, and he was taking Coumadin for his mitral valve replacement. The patient was also taking ibuprofen for pain. The patient's vital signs were stable, and he was transferred to the floor for further management. The patient's hematoma was monitored, and he was advised to keep his leg wrapped with an ace bandage to prevent hematoma expansion. The patient's leg heaviness and loss of sensation in his toes were noted, but he denied any other symptoms. The patient was referred to cardiology and orthopedics for further evaluation. The patient's medical history included a history of strep viridians endocarditis and mitral valve replacement. The patient's current symptoms included left leg cramps, left leg pain, and shortness of breath. The patient's diagnostic workup included an ultrasound of the left lower extremity veins, a CT scan of the chest, and a CXR. The patient's treatments included an ace bandage to prevent hematoma expansion and referral to cardiology and orthopedics for further evaluation. The patient's INR was supratherapeutic, and he was taking Coumadin for his mitral valve replacement. The patient was also taking ibuprofen for pain. The patient's vital signs were stable, and he was transferred to the floor for further management. The patient's hematoma was monitored, and he was advised to keep his leg wrapped with an ace bandage to prevent hematoma expansion. The patient's leg heaviness and loss of sensation in his toes were noted, but he denied any other symptoms. The patient was referred to cardiology and orthopedics for further evaluation. The patient's medical history included a history of strep viridians endocarditis and mitral valve replacement. The patient's current symptoms included left leg cramps, left leg pain, and shortness of breath. The patient's diagnostic workup included an ultrasound of the left lower extremity veins, a CT scan of the chest, and a CXR. The patient's treatments included an ace bandage to prevent hematoma expansion and referral to cardiology and orthopedics for further evaluation. The patient's INR was supratherapeutic, and he was taking Coumadin for his mitral valve replacement. The patient was also taking ibuprofen for pain. The patient's vital signs were stable, and he was transferred to the floor for further management. The patient's hematoma was monitored, and he was advised to keep his leg wrapped with an ace bandage to prevent hematoma expansion. The patient's leg heaviness and loss of sensation in his toes were noted, but he denied any other symptoms. The patient was referred to cardiology and orthopedics for further evaluation. The patient's medical history included a history of strep viridians endocarditis and mitral valve replacement. The patient's current symptoms included left leg cramps, left leg pain, and shortness of breath.\n",
      "2232\n"
     ]
    },
    {
     "name": "stderr",
     "output_type": "stream",
     "text": [
      "\n",
      "Processed prompts:   0%|          | 0/1 [00:00<?, ?it/s, est. speed input: 0.00 toks/s, output: 0.00 toks/s]\u001b[A\n",
      "Processed prompts: 100%|██████████| 1/1 [00:25<00:00, 25.37s/it, est. speed input: 87.98 toks/s, output: 80.73 toks/s]\u001b[A\n"
     ]
    },
    {
     "name": "stdout",
     "output_type": "stream",
     "text": [
      "The major surgical, invasive, or diagnostic, or therapeutic procedures were: NONE. The patient did not undergo any major surgical, invasive, or diagnostic, or therapeutic procedures during their hospital admission. The patient was treated with an ace bandage to prevent hematoma expansion and was referred to cardiology and orthopedics for further evaluation. The patient's INR was supratherapeutic, and they were taking Coumadin for their mitral valve replacement. The patient was also taking ibuprofen for pain. The patient's vital signs were stable, and they were transferred to the floor for further management. The patient's hematoma was monitored, and they were advised to keep their leg wrapped with an ace bandage to prevent hematoma expansion. The patient's leg heaviness and loss of sensation in their toes were noted, but they denied any other symptoms. The patient was referred to cardiology and orthopedics for further evaluation. The patient's medical history included a history of strep viridians endocarditis and mitral valve replacement. The patient's current symptoms included left leg cramps, left leg pain, and shortness of breath. The patient's diagnostic workup included an ultrasound of the left lower extremity veins, a CT scan of the chest, and a CXR. The patient's treatments included an ace bandage to prevent hematoma expansion and referral to cardiology and orthopedics for further evaluation. The patient's INR was supratherapeutic, and they were taking Coumadin for their mitral valve replacement. The patient was also taking ibuprofen for pain. The patient's vital signs were stable, and they were transferred to the floor for further management. The patient's hematoma was monitored, and they were advised to keep their leg wrapped with an ace bandage to prevent hematoma expansion. The patient's leg heaviness and loss of sensation in their toes were noted, but they denied any other symptoms. The patient was referred to cardiology and orthopedics for further evaluation. The patient's medical history included a history of strep viridians endocarditis and mitral valve replacement. The patient's current symptoms included left leg cramps, left leg pain, and shortness of breath. The patient's diagnostic workup included an ultrasound of the left lower extremity veins, a CT scan of the chest, and a CXR. The patient's treatments included an ace bandage to prevent hematoma expansion and referral to cardiology and orthopedics for further evaluation. The patient's INR was supratherapeutic, and they were taking Coumadin for their mitral valve replacement. The patient was also taking ibuprofen for pain. The patient's vital signs were stable, and they were transferred to the floor for further management. The patient's hematoma was monitored, and they were advised to keep their leg wrapped with an ace bandage to prevent hematoma expansion. The patient's leg heaviness and loss of sensation in their toes were noted, but they denied any other symptoms. The patient was referred to cardiology and orthopedics for further evaluation. The patient's medical history included a history of strep viridians endocarditis and mitral valve replacement. The patient's current symptoms included left leg cramps, left leg pain, and shortness of breath. The patient's diagnostic workup included an ultrasound of the left lower extremity veins, a CT scan of the chest, and a CXR. The patient's treatments included an ace bandage to prevent hematoma expansion and referral to cardiology and orthopedics for further evaluation. The patient's INR was supratherapeutic, and they were taking Coumadin for their mitral valve replacement. The patient was also taking ibuprofen for pain. The patient's vital signs were stable, and they were transferred to the floor for further management. The patient's hematoma was monitored, and they were advised to keep their leg wrapped with an ace bandage to prevent hematoma expansion. The patient's leg heaviness and loss of sensation in their toes were noted, but they denied any other symptoms. The patient was referred to cardiology and orthopedics for further evaluation. The patient's medical history included a history of strep viridians endocarditis and mitral valve replacement. The patient's current symptoms included left leg cramps, left leg pain, and shortness of breath. The patient's diagnostic workup included an ultrasound of the left lower extremity veins, a CT scan of the chest, and a CXR. The patient's treatments included an ace bandage to prevent hematoma expansion and referral to cardiology and orthopedics for further evaluation. The patient's INR was supratherapeutic, and they were taking Coumadin for their mitral valve replacement. The patient was also taking ibuprofen for pain. The patient's vital signs were stable, and they were transferred to the floor for further management. The patient's hematoma was monitored, and they were advised to keep their leg wrapped with an ace bandage to prevent hematoma expansion. The patient's leg heaviness and loss of sensation in their toes were noted, but they denied any other symptoms. The patient was referred to cardiology and orthopedics for further evaluation. The patient's medical history included a history of strep viridians endocarditis and mitral valve replacement. The patient's current symptoms included left leg cramps, left leg pain, and shortness of breath. The patient's diagnostic workup included an ultrasound of the left lower extremity veins, a CT scan of the chest, and a CXR. The patient's treatments included an ace bandage to prevent hematoma expansion and referral to cardiology and orthopedics for further evaluation. The patient's INR was supratherapeutic, and they were taking Coumadin for their mitral valve replacement. The patient was also taking ibuprofen for pain. The patient's vital signs were stable, and they were transferred to the floor for further management. The patient's hematoma was monitored, and they were advised to keep their leg wrapped with an ace bandage to prevent hematoma expansion. The patient's leg heaviness and loss of sensation in their toes were noted, but they denied any other symptoms. The patient was referred to cardiology and orthopedics for further evaluation. The patient's medical history included a history of strep viridians endocarditis and mitral valve replacement. The patient's current symptoms included left leg cramps, left leg pain, and shortness of breath. The patient's diagnostic workup included an ultrasound of the left lower extremity veins, a CT scan of the chest, and a CXR. The patient's treatments included an ace bandage to prevent hematoma expansion and referral to cardiology and orthopedics for further evaluation. The patient's INR was supratherapeutic, and they were taking Coumadin for their mitral valve replacement. The patient was also taking ibuprofen for pain. The patient's vital signs were stable, and they were transferred to the floor for further management. The patient's hematoma was monitored, and they were advised to keep their leg wrapped with an ace bandage to prevent hematoma expansion. The patient's leg heaviness and loss of sensation in their toes were noted, but they denied any other symptoms. The patient was referred to cardiology and orthopedics for further evaluation. The patient's medical history included a history of strep viridians endocarditis and mitral valve replacement. The patient's current symptoms included left leg cramps, left leg pain, and shortness of breath. The patient's diagnostic workup included an ultrasound of the left lower extremity veins, a CT scan of the chest, and a CXR. The patient's treatments included an ace bandage to prevent hematoma expansion and referral to cardiology and orthopedics for further evaluation. The patient's INR was supratherapeutic, and they were taking Coumadin for their mitral valve replacement. The patient was also taking ibuprofen for pain. The patient's vital signs were stable, and they were transferred to the floor for further management. The patient's hematoma was monitored, and they were advised to keep their leg wrapped with an ace bandage to prevent hematoma expansion. The patient's leg heaviness and loss of sensation in their toes were noted, but they denied any other symptoms. The patient was referred to cardiology and orthopedics for further evaluation. The patient's medical history included a history of strep viridians endocarditis and mitral valve replacement. The patient's current symptoms included left leg cramps, left leg pain, and shortness of breath. The patient's diagnostic workup included an ultrasound of the left lower extremity veins, a CT scan of the chest, and a CXR. The patient's treatments included an ace bandage to prevent hematoma expansion and referral to cardiology and orthopedics for further evaluation. The patient's INR was supratherapeutic, and they were taking Coumadin for their mitral valve replacement. The patient was also taking ibuprofen for pain. The patient's vital signs were stable, and they were transferred to the floor for further management. The patient's hematoma was monitored, and they were advised to keep their leg wrapped with an ace bandage to prevent hematoma expansion. The patient's leg heaviness and loss of sensation in their toes were noted, but they denied any other symptoms. The patient was referred to cardiology and orthopedics for further evaluation. The patient's medical history included a history of strep viridians endocarditis and mitral valve replacement. The patient's current symptoms included left leg cramps, left leg pain, and shortness of breath. The patient's diagnostic workup included an ultrasound of the left lower extremity veins, a CT scan of the chest, and a CXR. The patient's treatments included an ace bandage to prevent hematoma expansion and referral to cardiology and orthopedics for further evaluation. The patient\n",
      "381\n"
     ]
    },
    {
     "name": "stderr",
     "output_type": "stream",
     "text": [
      "\n",
      "Processed prompts:   0%|          | 0/1 [00:00<?, ?it/s, est. speed input: 0.00 toks/s, output: 0.00 toks/s]\u001b[A\n",
      "Processed prompts: 100%|██████████| 1/1 [00:01<00:00,  1.48s/it, est. speed input: 258.33 toks/s, output: 81.36 toks/s]\u001b[A\n"
     ]
    },
    {
     "name": "stdout",
     "output_type": "stream",
     "text": [
      "The changes to the patient's medications were the addition of Enoxaparin Sodium 110 mg SC Q12H and the discontinuation of Warfarin 12.5 mg PO 5X/WEEK. The new medications were Enoxaparin Sodium 110 mg SC Q12H. The medications that were stopped were Warfarin 12.5 mg PO 5X/WEEK. The medications that remained the same were Warfarin 15 mg PO 2X/WEEK and Viagra (sildenafil) 50 mg oral ONCE:PRN. \n",
      "1500\n"
     ]
    },
    {
     "name": "stderr",
     "output_type": "stream",
     "text": [
      "\n",
      "Processed prompts:   0%|          | 0/1 [00:00<?, ?it/s, est. speed input: 0.00 toks/s, output: 0.00 toks/s]\u001b[A\n",
      "Processed prompts: 100%|██████████| 1/1 [00:01<00:00,  1.63s/it, est. speed input: 920.51 toks/s, output: 76.71 toks/s]\u001b[A\n"
     ]
    },
    {
     "name": "stdout",
     "output_type": "stream",
     "text": [
      "During this hospital admission, the patient was treated with Enoxaparin Sodium 110 mg SC Q12H for IV therapy. Additionally, the patient's Warfarin 12.5 mg PO 5X/WEEK was discontinued and replaced with Enoxaparin Sodium 110 mg SC Q12H. The patient's other medications, including Warfarin 15 mg PO 2X/WEEK and Viagra (sildenafil) 50 mg oral ONCE:PRN, remained the same. The patient was also given ibuprofen 3x/day for pain on one day.  \n",
      "1370\n"
     ]
    },
    {
     "name": "stderr",
     "output_type": "stream",
     "text": [
      "\n",
      "Processed prompts:   0%|          | 0/1 [00:00<?, ?it/s, est. speed input: 0.00 toks/s, output: 0.00 toks/s]\u001b[A\n",
      "Processed prompts: 100%|██████████| 1/1 [00:04<00:00,  4.08s/it, est. speed input: 336.12 toks/s, output: 79.74 toks/s]\u001b[A\n"
     ]
    },
    {
     "name": "stdout",
     "output_type": "stream",
     "text": [
      "The initial diagnostic workup and pertinent results for this patient include:\n",
      "\n",
      "* Ultrasound of the left lower extremity (LLE) veins, which showed a 8.1 x 4.5 x 14.0 cm hematoma in the medial left thigh with no evidence of deep venous thrombosis (DVT).\n",
      "* LLE US, which revealed a large hypoechoic heterogeneous mass within a medial thigh muscle with no internal blood flow on color Doppler, consistent with a hematoma measuring 19 cm in length.\n",
      "* CTA chest, which was negative for pulmonary emboli.\n",
      "* Lab results, including:\n",
      "\t+ HCT 37.7\n",
      "\t+ WBC 12.9\n",
      "\t+ INR 4.4 (supratherapeutic)\n",
      "\t+ CK 515\n",
      "\t+ Troponin T <0.03\n",
      "* Other studies, including a CTA chest that was negative for PE and a CXR that was negative for pneumonia.\n",
      "\n",
      "These results suggest that the patient has a large hematoma in his left medial thigh, likely related to trauma or injury, and may also have a supratherapeutic INR, which could be related to his Coumadin therapy. The patient's symptoms, including left leg cramps, shortness of breath, and subjective fevers and chills, are likely related to the hematoma and may also be influenced by his underlying medical conditions, including his history of endocarditis and mitral valve replacement. Further evaluation and management are needed to determine the cause of the patient's symptoms and to ensure proper treatment and follow-up.\n",
      "1447\n"
     ]
    },
    {
     "name": "stderr",
     "output_type": "stream",
     "text": [
      "\n",
      "Processed prompts:   0%|          | 0/1 [00:00<?, ?it/s, est. speed input: 0.00 toks/s, output: 0.00 toks/s]\u001b[A\n",
      "Processed prompts: 100%|██████████| 1/1 [00:02<00:00,  2.60s/it, est. speed input: 557.12 toks/s, output: 78.54 toks/s]\u001b[A\n"
     ]
    },
    {
     "name": "stdout",
     "output_type": "stream",
     "text": [
      "The patient was admitted to the hospital due to a non-traumatic hematoma of soft tissue in the medial left thigh, which was discovered on ultrasound. The patient presented with symptoms of dyspnea on exertion, left leg pain, and a 19 cm heterogeneous mass in the medial left thigh musculature consistent with a hematoma. The patient's chief complaint was left leg pain, and the history of present illness revealed a 19 cm heterogeneous mass found in the medial left thigh on ultrasound consistent with a hematoma. The patient's symptoms, medical condition, and other reasons for admission were related to the hematoma, which was causing pain, swelling, and potentially compromising blood flow in the left leg. The patient's history of strep viridians endocarditis and mitral valve replacement, as well as his use of Coumadin, may have contributed to his supratherapeutic INR and increased risk of bleeding. The patient's symptoms and medical condition required hospital admission for further evaluation and management.\n",
      "1377\n"
     ]
    },
    {
     "name": "stderr",
     "output_type": "stream",
     "text": [
      "\n",
      "Processed prompts:   0%|          | 0/1 [00:00<?, ?it/s, est. speed input: 0.00 toks/s, output: 0.00 toks/s]\u001b[A\n",
      "Processed prompts: 100%|██████████| 1/1 [00:01<00:00,  1.80s/it, est. speed input: 766.90 toks/s, output: 77.41 toks/s]\u001b[A\n"
     ]
    },
    {
     "name": "stdout",
     "output_type": "stream",
     "text": [
      "The patient's major medical conditions include a history of strep viridians endocarditis, mitral valve replacement, and a pacemaker (PPM) due to mini-strokes. The patient was admitted to the hospital due to a 19 cm heterogeneous mass found in the medial left thigh on ultrasound, consistent with a hematoma, which was likely caused by trauma from playing tennis and not hydrating well overnight. The patient also had a supratherapeutic INR, which was not explained by his medical history, and was experiencing left leg cramps, shortness of breath, and subjective fevers and chills. The patient was transferred to the hospital for further management of his condition.\n",
      "1421\n"
     ]
    },
    {
     "name": "stderr",
     "output_type": "stream",
     "text": [
      "\n",
      "Processed prompts:   0%|          | 0/1 [00:00<?, ?it/s, est. speed input: 0.00 toks/s, output: 0.00 toks/s]\u001b[A\n",
      "Processed prompts: 100%|██████████| 1/1 [00:02<00:00,  2.91s/it, est. speed input: 489.31 toks/s, output: 78.85 toks/s]\u001b[A\n"
     ]
    },
    {
     "name": "stdout",
     "output_type": "stream",
     "text": [
      "The patient was treated for a non-traumatic hematoma of the soft tissue in the medial left thigh, which was diagnosed through ultrasound and CT angiography. The patient also had anemia, which was likely related to the hematoma and the patient's history of endocarditis and mitral valve replacement. Additionally, the patient had superficial thrombophlebitis in the greater saphenous vein. The patient's symptoms included left leg cramps, shortness of breath, and subjective fevers and chills, which were likely related to the hematoma and the patient's underlying medical conditions. The patient was also treated for a possible pulmonary embolism, but the CT angiography was negative for PE. The patient's history of present illness included a 19 cm heterogeneous mass found in the medial left thigh on ultrasound, which was consistent with a hematoma. The patient's medical conditions and symptoms were managed through conservative treatment, including wrapping the leg with an ace bandage to prevent hematoma expansion, and the patient was discharged with a diagnosis of anemia, left leg hematoma, and s/p mitral valve repair.\n",
      "364\n"
     ]
    },
    {
     "name": "stderr",
     "output_type": "stream",
     "text": [
      "\n",
      "Processed prompts:   0%|          | 0/1 [00:00<?, ?it/s, est. speed input: 0.00 toks/s, output: 0.00 toks/s]\u001b[A\n",
      "Processed prompts: 100%|██████████| 1/1 [00:00<00:00,  1.31it/s, est. speed input: 476.94 toks/s, output: 79.92 toks/s]\u001b[A\n"
     ]
    },
    {
     "name": "stdout",
     "output_type": "stream",
     "text": [
      "The patient had existing or ongoing medical conditions related to atrial fibrillation, as evidenced by the use of Warfarin, an anticoagulant medication, in their medication list. Additionally, the patient had erectile dysfunction, as indicated by the prescription of Viagra (sildenafil). \n",
      "\n",
      "\n",
      "456\n"
     ]
    },
    {
     "name": "stderr",
     "output_type": "stream",
     "text": [
      "\n",
      "Processed prompts:   0%|          | 0/1 [00:00<?, ?it/s, est. speed input: 0.00 toks/s, output: 0.00 toks/s]\u001b[A\n",
      "Processed prompts: 100%|██████████| 1/1 [00:01<00:00,  1.09s/it, est. speed input: 420.81 toks/s, output: 80.28 toks/s]\u001b[A\n"
     ]
    },
    {
     "name": "stdout",
     "output_type": "stream",
     "text": [
      "The patient was treated for acute non-traumatic hematoma of the soft tissue in the medial left thigh, anemia, superficial thrombophlebitis in the greater saphenous vein, and possible pulmonary embolism. The patient also had chronic medical conditions, including atrial fibrillation, endocarditis, and mitral valve replacement, which were likely related to the patient's symptoms and treatment. \n",
      "1607\n"
     ]
    },
    {
     "name": "stderr",
     "output_type": "stream",
     "text": [
      "\n",
      "Processed prompts:   0%|          | 0/1 [00:00<?, ?it/s, est. speed input: 0.00 toks/s, output: 0.00 toks/s]\u001b[A\n",
      "Processed prompts: 100%|██████████| 1/1 [00:01<00:00,  1.89s/it, est. speed input: 849.38 toks/s, output: 77.17 toks/s]\u001b[A\n"
     ]
    },
    {
     "name": "stdout",
     "output_type": "stream",
     "text": [
      "The patient presented with symptoms of left leg cramps, shortness of breath, and subjective fevers and chills. The severity of these symptoms is moderate to severe, as the patient was experiencing significant discomfort and distress. The patient also had a 19 cm heterogeneous mass found in the medial left thigh on ultrasound, which was consistent with a hematoma. The severity of this symptom is severe, as it is a large and potentially life-threatening condition. Overall, the patient's symptoms and medical conditions were managed through conservative treatment, including wrapping the leg with an ace bandage to prevent hematoma expansion, and the patient was discharged with a diagnosis of anemia, left leg hematoma, and s/p mitral valve repair.\n",
      "578\n"
     ]
    },
    {
     "name": "stderr",
     "output_type": "stream",
     "text": [
      "\n",
      "Processed prompts:   0%|          | 0/1 [00:00<?, ?it/s, est. speed input: 0.00 toks/s, output: 0.00 toks/s]\u001b[A\n",
      "Processed prompts: 100%|██████████| 1/1 [00:04<00:00,  4.41s/it, est. speed input: 131.09 toks/s, output: 81.87 toks/s]\u001b[A\n"
     ]
    },
    {
     "name": "stdout",
     "output_type": "stream",
     "text": [
      "The patient had the following acute medical conditions: acute non-traumatic hematoma of the soft tissue in the medial left thigh, anemia, superficial thrombophlebitis in the greater saphenous vein, and possible pulmonary embolism. The diagnostic workup and related results for these conditions include:\n",
      "\n",
      "* For the hematoma, the diagnostic workup included ultrasound of the left lower extremity (LLE) veins, which showed a 8.1 x 4.5 x 14.0 cm hematoma in the medial left thigh with no evidence of deep venous thrombosis (DVT). Additionally, LLE US revealed a large hypoechoic heterogeneous mass within a medial thigh muscle with no internal blood flow on color Doppler, consistent with a hematoma measuring 19 cm in length.\n",
      "* For anemia, lab results showed HCT 37.7, indicating a low red blood cell count.\n",
      "* For superficial thrombophlebitis in the greater saphenous vein, the diagnostic workup included ultrasound of the LLE veins, which showed no evidence of deep venous thrombosis (DVT).\n",
      "* For possible pulmonary embolism, the diagnostic workup included CTA chest, which was negative for pulmonary emboli.\n",
      "\n",
      "The related results for these conditions include lab results such as WBC 12.9, INR 4.4 (supratherapeutic), CK 515, and Troponin T <0.03. The patient's symptoms, including left leg cramps, shortness of breath, and subjective fevers and chills, are likely related to the hematoma and may also be influenced by his underlying medical conditions, including his history of endocarditis and mitral valve replacement. \n",
      "4727\n"
     ]
    },
    {
     "name": "stderr",
     "output_type": "stream",
     "text": [
      "\n",
      "Processed prompts:   0%|          | 0/1 [00:00<?, ?it/s, est. speed input: 0.00 toks/s, output: 0.00 toks/s]\u001b[A\n",
      "Processed prompts: 100%|██████████| 1/1 [00:03<00:00,  3.22s/it, est. speed input: 1466.78 toks/s, output: 72.92 toks/s]\u001b[A\n"
     ]
    },
    {
     "name": "stdout",
     "output_type": "stream",
     "text": [
      "For each acute medical condition, the treatments were:\n",
      "\n",
      "1. Non-traumatic hematoma of the soft tissue in the medial left thigh:\n",
      "\t* Ultrasound and CT angiography for diagnosis\n",
      "\t* Ace bandage to prevent hematoma expansion\n",
      "\t* Referral to orthopedics for further evaluation\n",
      "2. Anemia:\n",
      "\t* No specific treatment mentioned in the medical record\n",
      "3. Superficial thrombophlebitis in the greater saphenous vein:\n",
      "\t* No specific treatment mentioned in the medical record\n",
      "4. Possible pulmonary embolism:\n",
      "\t* CT angiography was negative for PE\n",
      "\t* No specific treatment mentioned in the medical record\n",
      "5. Left leg cramps, left leg pain, and shortness of breath:\n",
      "\t* Ibuprofen 3x/day for pain\n",
      "\t* Referral to cardiology and orthopedics for further evaluation\n",
      "\n",
      "Note: The patient's INR was supratherapeutic, and they were taking Coumadin for their mitral valve replacement. However, this is not a treatment for the acute medical conditions listed above. It is a medication for the patient's underlying medical condition.\n",
      "1380\n"
     ]
    },
    {
     "name": "stderr",
     "output_type": "stream",
     "text": [
      "\n",
      "Processed prompts:   0%|          | 0/1 [00:00<?, ?it/s, est. speed input: 0.00 toks/s, output: 0.00 toks/s]\u001b[A\n",
      "Processed prompts: 100%|██████████| 1/1 [00:04<00:00,  4.42s/it, est. speed input: 312.19 toks/s, output: 79.86 toks/s]\u001b[A\n"
     ]
    },
    {
     "name": "stdout",
     "output_type": "stream",
     "text": [
      "The recommended diagnostic work-up for this patient includes a comprehensive evaluation of his left leg pain, dyspnea on exertion, and supratherapeutic INR. The patient's history of strep viridans endocarditis and mitral valve replacement, as well as his current presentation with a large hematoma in his left medial thigh, suggest the possibility of a thrombotic event or a bleeding disorder. \n",
      "\n",
      "A thorough physical examination, including a detailed neurological examination, should be performed to assess the patient's strength, sensation, and reflexes in his legs. Laboratory tests, including a complete blood count, electrolyte panel, and coagulation studies, should be repeated to evaluate for any changes in his hematocrit, white blood cell count, and platelet count. \n",
      "\n",
      "Imaging studies, such as a computed tomography (CT) scan or magnetic resonance imaging (MRI), may be necessary to further evaluate the extent of the hematoma and rule out any underlying vascular or soft tissue abnormalities. \n",
      "\n",
      "A cardiology consultation is also recommended to evaluate the patient's cardiac status and assess for any potential cardiac complications related to his endocarditis and mitral valve replacement. \n",
      "\n",
      "In addition, a vascular consultation may be necessary to evaluate the patient's risk of deep vein thrombosis (DVT) and to assess for any potential vascular complications related to his hematoma. \n",
      "\n",
      "Finally, a orthopedic consultation may be necessary to evaluate the patient's left leg pain and to assess for any potential orthopedic complications related to his hematoma. \n",
      "\n",
      "Overall, a comprehensive diagnostic work-up is necessary to evaluate the patient's symptoms and to determine the underlying cause of his left leg pain, dyspnea on exertion, and supratherapeutic INR.\n",
      "295\n"
     ]
    },
    {
     "name": "stderr",
     "output_type": "stream",
     "text": [
      "\n",
      "Processed prompts:   0%|          | 0/1 [00:00<?, ?it/s, est. speed input: 0.00 toks/s, output: 0.00 toks/s]\u001b[A\n",
      "Processed prompts: 100%|██████████| 1/1 [00:00<00:00,  2.56it/s, est. speed input: 756.77 toks/s, output: 76.96 toks/s]\u001b[A\n"
     ]
    },
    {
     "name": "stdout",
     "output_type": "stream",
     "text": [
      "Yes, there are pending results, specifically a pending blood culture and a repeat outpatient urinalysis for an episode of blood-tinged urine.\n",
      "1980\n"
     ]
    },
    {
     "name": "stderr",
     "output_type": "stream",
     "text": [
      "\n",
      "Processed prompts:   0%|          | 0/1 [00:00<?, ?it/s, est. speed input: 0.00 toks/s, output: 0.00 toks/s]\u001b[A\n",
      "Processed prompts: 100%|██████████| 1/1 [00:21<00:00, 21.46s/it, est. speed input: 92.28 toks/s, output: 80.73 toks/s]\u001b[A\n",
      " 60%|██████    | 3/5 [03:19<02:27, 73.86s/it]"
     ]
    },
    {
     "name": "stdout",
     "output_type": "stream",
     "text": [
      "The patient has a relevant past medical history of strep viridans endocarditis, mitral valve replacement, and a pacemaker due to mini-strokes. The patient was admitted to the hospital due to a non-traumatic hematoma of soft tissue in the medial left thigh, which was discovered on ultrasound. The patient presented with symptoms of dyspnea on exertion, left leg pain, and a 19 cm heterogeneous mass in the medial left thigh musculature consistent with a hematoma. The patient's chief complaint was left leg pain, and the history of present illness revealed a 19 cm heterogeneous mass found in the medial left thigh on ultrasound consistent with a hematoma. The patient's symptoms, medical condition, and other reasons for admission were related to the hematoma, which was causing pain, swelling, and potentially compromising blood flow in the left leg. The patient's history of strep viridans endocarditis and mitral valve replacement, as well as his use of Coumadin, may have contributed to his supratherapeutic INR and increased risk of bleeding.\n",
      "\n",
      "The patient's major medical conditions include a history of strep viridans endocarditis, mitral valve replacement, and a pacemaker due to mini-strokes. The patient was admitted to the hospital due to a 19 cm heterogeneous mass found in the medial left thigh on ultrasound, consistent with a hematoma, which was likely caused by trauma from playing tennis and not hydrating well overnight. The patient also had a supratherapeutic INR, which was not explained by his medical history, and was experiencing left leg cramps, shortness of breath, and subjective fevers and chills. The patient was transferred to the hospital for further management of his condition.\n",
      "\n",
      "The patient was treated for a non-traumatic hematoma of the soft tissue in the medial left thigh, which was diagnosed through ultrasound and CT angiography. The patient also had anemia, which was likely related to the hematoma and the patient's history of endocarditis and mitral valve replacement. Additionally, the patient had superficial thrombophlebitis in the greater saphenous vein. The patient's symptoms included left leg cramps, shortness of breath, and subjective fevers and chills, which were likely related to the hematoma and the patient's underlying medical conditions. The patient was also treated for a possible pulmonary embolism, but the CT angiography was negative for PE. The patient's history of present illness included a 19 cm heterogeneous mass found in the medial left thigh on ultrasound, which was consistent with a hematoma. The patient's medical conditions and symptoms were managed through conservative treatment, including wrapping the leg with an ace bandage to prevent hematoma expansion, and the patient was discharged with a diagnosis of anemia, left leg hematoma, and s/p mitral valve repair.\n",
      "\n",
      "The patient presented with symptoms of left leg cramps, shortness of breath, and subjective fevers and chills. The severity of these symptoms is moderate to severe, as the patient was experiencing significant discomfort and distress. The patient also had a 19 cm heterogeneous mass found in the medial left thigh on ultrasound, which was consistent with a hematoma. The severity of this symptom is severe, as it is a large and potentially life-threatening condition. Overall, the patient's symptoms and medical conditions were managed through conservative treatment, including wrapping the leg with an ace bandage to prevent hematoma expansion, and the patient was discharged with a diagnosis of anemia, left leg hematoma, and s/p mitral valve repair.\n",
      "\n",
      "The patient had the following acute medical conditions: acute non-traumatic hematoma of the soft tissue in the medial left thigh, anemia, superficial thrombophlebitis in the greater saphenous vein, and possible pulmonary embolism. The diagnostic workup and related results for these conditions include:\n",
      "\n",
      "* For the hematoma, the diagnostic workup included ultrasound of the left lower extremity (LLE) veins, which showed a 8.1 x 4.5 x 14.0 cm hematoma in the medial left thigh with no evidence of deep venous thrombosis (DVT). Additionally, LLE US revealed a large hypoechoic heterogeneous mass within a medial thigh muscle with no internal blood flow on color Doppler, consistent with a hematoma measuring 19 cm in length.\n",
      "* For anemia, lab results showed HCT 37.7, indicating a low red blood cell count.\n",
      "* For superficial thrombophlebitis in the greater saphenous vein, the diagnostic workup included ultrasound of the LLE veins, which showed no evidence of deep venous thrombosis (DVT).\n",
      "* For possible pulmonary embolism, the diagnostic workup included CTA chest, which was negative for pulmonary emboli.\n",
      "\n",
      "The related results for these conditions include lab results such as WBC 12.9, INR 4.4 (supratherapeutic), CK 515, and Troponin T <0.03. The patient's symptoms, including left leg cramps, shortness of breath, and subjective fevers and chills, are likely related to the hematoma and may also be influenced by his underlying medical conditions, including his history of endocarditis and mitral valve replacement. \n",
      "\n",
      "For each acute medical condition, the treatments were:\n",
      "\n",
      "1. Non-traumatic hematoma of the soft tissue in the medial left thigh:\n",
      "\t* Ultrasound and CT angiography for diagnosis\n",
      "\t* Ace bandage to prevent hematoma expansion\n",
      "\t* Referral to orthopedics for further evaluation\n",
      "2. Anemia:\n",
      "\t* No specific treatment mentioned in the medical record\n",
      "3. Superficial thrombophlebitis in the greater saphenous vein:\n",
      "\t* No specific treatment mentioned in the medical record\n",
      "4. Possible pulmonary embolism:\n",
      "\t* CT angiography was negative for PE\n",
      "\t* No specific treatment mentioned in the medical record\n",
      "5. Left leg cramps, left leg pain, and shortness of breath:\n",
      "\t* Ibuprofen 3x/day for pain\n",
      "\t* Referral to cardiology and orthopedics for further evaluation\n",
      "\n",
      "The patient's medications included Coumadin for his mitral valve replacement, which may have contributed to his supratherapeutic INR and increased risk of bleeding. The patient's symptoms and medical conditions were managed through conservative treatment, including wrapping the leg with an ace bandage to prevent hematoma expansion, and the patient was discharged with a diagnosis of anemia, left leg hematoma, and s/p mitral valve repair.\n",
      "\n",
      "The recommended diagnostic work-up for this patient includes a comprehensive evaluation of his left leg pain, dyspnea on exertion, and supratherapeutic INR. The patient's history of strep viridans endocarditis and mitral valve replacement, as well as his current presentation with a large hematoma in his left medial thigh, suggest the possibility of a thrombotic event or a bleeding disorder. \n",
      "\n",
      "A thorough physical examination, including a detailed neurological examination, should be performed to assess the patient's strength, sensation, and reflexes in his legs. Laboratory tests, including a complete blood count, electrolyte panel, and coagulation studies, should be repeated to evaluate for any changes in his hematocrit, white blood cell count, and platelet count. \n",
      "\n",
      "Imaging studies, such as a computed tomography (CT) scan or magnetic resonance imaging (MRI), may be necessary to further evaluate the extent of the hematoma and rule out any underlying vascular or soft tissue abnormalities. \n",
      "\n",
      "A cardiology consultation is also recommended to evaluate the patient's cardiac status and assess for any potential cardiac complications related to his endocarditis and mitral valve replacement. \n",
      "\n",
      "In addition, a vascular consultation may be necessary to evaluate the patient's risk of deep vein thrombosis (DVT) and to assess for any potential vascular complications related to his hematoma. \n",
      "\n",
      "Finally, a orthopedic consultation may be necessary to evaluate the patient's left leg pain and to assess for any potential orthopedic complications related to his hematoma. \n",
      "\n",
      "Overall, a comprehensive diagnostic work-up is necessary to evaluate the patient's symptoms and to determine the underlying cause of his left leg pain, dyspnea on exertion, and supratherapeutic INR.\n",
      "\n",
      "Yes, there are pending results, specifically a pending blood culture and a repeat outpatient urinalysis for an episode of blood-tinged urine.\n",
      "Time taken for generate_bhc: 102.90624380111694 seconds.\n",
      "4 of 5, 80.0% hadm_id: 25498079 **********\n",
      "\n",
      "\n",
      "384\n"
     ]
    },
    {
     "name": "stderr",
     "output_type": "stream",
     "text": [
      "\n",
      "Processed prompts:   0%|          | 0/1 [00:00<?, ?it/s, est. speed input: 0.00 toks/s, output: 0.00 toks/s]\u001b[A\n",
      "Processed prompts: 100%|██████████| 1/1 [00:01<00:00,  1.75s/it, est. speed input: 219.24 toks/s, output: 81.64 toks/s]\u001b[A\n"
     ]
    },
    {
     "name": "stdout",
     "output_type": "stream",
     "text": [
      "The patient was treated with a CT scan and admitted for further workup after presenting with pruritus and dark urine. The diagnostic workup included liver function tests and lipase, which were elevated. The patient's symptoms did not include abdominal pain, nausea, vomiting, or any other concerning signs or symptoms. The patient was referred by their primary care physician (PCP) for further evaluation. The patient's medical history is significant for no past medical history, and they have no history of alcohol abuse. The patient's current symptoms are primarily related to their liver function tests and lipase levels, which are elevated. The patient's ROS (review of systems) is negative for any other concerning symptoms. \n",
      "325\n"
     ]
    },
    {
     "name": "stderr",
     "output_type": "stream",
     "text": [
      "\n",
      "Processed prompts:   0%|          | 0/1 [00:00<?, ?it/s, est. speed input: 0.00 toks/s, output: 0.00 toks/s]\u001b[A\n",
      "Processed prompts: 100%|██████████| 1/1 [00:00<00:00,  4.26it/s, est. speed input: 1390.77 toks/s, output: 72.74 toks/s]\u001b[A\n"
     ]
    },
    {
     "name": "stdout",
     "output_type": "stream",
     "text": [
      "The major surgical, invasive, or diagnostic, or therapeutic procedure was ERCP.\n",
      "291\n"
     ]
    },
    {
     "name": "stderr",
     "output_type": "stream",
     "text": [
      "\n",
      "Processed prompts:   0%|          | 0/1 [00:00<?, ?it/s, est. speed input: 0.00 toks/s, output: 0.00 toks/s]\u001b[A\n",
      "Processed prompts: 100%|██████████| 1/1 [00:00<00:00,  1.53it/s, est. speed input: 444.87 toks/s, output: 79.49 toks/s]\u001b[A\n"
     ]
    },
    {
     "name": "stdout",
     "output_type": "stream",
     "text": [
      "The changes to the patient's medications were none, as the admission and discharge medication lists are identical. There were no new medications added, and there were no medications stopped. The patient's medication regimen remained the same throughout their hospital stay.  \n",
      "448\n"
     ]
    },
    {
     "name": "stderr",
     "output_type": "stream",
     "text": [
      "\n",
      "Processed prompts:   0%|          | 0/1 [00:00<?, ?it/s, est. speed input: 0.00 toks/s, output: 0.00 toks/s]\u001b[A\n",
      "Processed prompts: 100%|██████████| 1/1 [00:00<00:00,  1.97it/s, est. speed input: 884.31 toks/s, output: 76.98 toks/s]\u001b[A\n"
     ]
    },
    {
     "name": "stdout",
     "output_type": "stream",
     "text": [
      "The patient did not receive any new medications or IV therapies during this hospital admission. The patient's medication regimen remained the same throughout their hospital stay, with no changes made to their medication list.\n",
      "387\n"
     ]
    },
    {
     "name": "stderr",
     "output_type": "stream",
     "text": [
      "\n",
      "Processed prompts:   0%|          | 0/1 [00:00<?, ?it/s, est. speed input: 0.00 toks/s, output: 0.00 toks/s]\u001b[A\n",
      "Processed prompts: 100%|██████████| 1/1 [00:00<00:00,  1.60it/s, est. speed input: 618.53 toks/s, output: 78.31 toks/s]\u001b[A\n"
     ]
    },
    {
     "name": "stdout",
     "output_type": "stream",
     "text": [
      "The initial diagnostic work up included liver function tests and lipase, which were elevated. The pertinent results were: lipase 1458, ALT 192, AST 133, and total bili 1.9. \n",
      "463\n"
     ]
    },
    {
     "name": "stderr",
     "output_type": "stream",
     "text": [
      "\n",
      "Processed prompts:   0%|          | 0/1 [00:00<?, ?it/s, est. speed input: 0.00 toks/s, output: 0.00 toks/s]\u001b[A\n",
      "Processed prompts: 100%|██████████| 1/1 [00:01<00:00,  1.11s/it, est. speed input: 417.87 toks/s, output: 80.32 toks/s]\u001b[A\n"
     ]
    },
    {
     "name": "stdout",
     "output_type": "stream",
     "text": [
      "The patient was admitted to the hospital due to elevated liver function tests (LFTs) and lipase levels, which were detected by their primary care physician (PCP) during a routine check-up. The patient presented with complaints of pruritus and dark urine, which led to the referral for further workup. The patient's symptoms, medical condition, and abnormal lab results caused them to come to the hospital for admission and further evaluation.\n",
      "394\n"
     ]
    },
    {
     "name": "stderr",
     "output_type": "stream",
     "text": [
      "\n",
      "Processed prompts:   0%|          | 0/1 [00:00<?, ?it/s, est. speed input: 0.00 toks/s, output: 0.00 toks/s]\u001b[A\n",
      "Processed prompts: 100%|██████████| 1/1 [00:01<00:00,  1.08s/it, est. speed input: 363.89 toks/s, output: 80.35 toks/s]\u001b[A\n"
     ]
    },
    {
     "name": "stdout",
     "output_type": "stream",
     "text": [
      "The patient's major medical conditions include liver dysfunction and pancreatitis, as evidenced by elevated liver function tests and lipase levels. The patient was admitted to the hospital for further workup and evaluation of these conditions, specifically to investigate the cause of the abnormal lab results. The patient's symptoms were primarily related to pruritus and dark urine, with no other significant complaints such as abdominal pain, nausea, or vomiting. \n",
      "433\n"
     ]
    },
    {
     "name": "stderr",
     "output_type": "stream",
     "text": [
      "\n",
      "Processed prompts:   0%|          | 0/1 [00:00<?, ?it/s, est. speed input: 0.00 toks/s, output: 0.00 toks/s]\u001b[A\n",
      "Processed prompts: 100%|██████████| 1/1 [00:01<00:00,  1.62s/it, est. speed input: 267.92 toks/s, output: 81.06 toks/s]\u001b[A\n"
     ]
    },
    {
     "name": "stdout",
     "output_type": "stream",
     "text": [
      "The patient was treated for a Pruritic Disorder NOS, which was likely related to the Ampullary Mass and Bile Duct Obstruction. The patient presented with pruritus and dark urine, and had abnormal liver function tests and lipase levels. The patient did not have any other symptoms such as abdominal pain, nausea, vomiting, or fever, which suggests that the pruritus was likely related to the underlying medical conditions. The patient was admitted for further workup and was diagnosed with an Ampullary Mass and Bile Duct Obstruction, which likely caused the pruritus and abnormal liver function tests. \n",
      "274\n"
     ]
    },
    {
     "name": "stderr",
     "output_type": "stream",
     "text": [
      "\n",
      "Processed prompts:   0%|          | 0/1 [00:00<?, ?it/s, est. speed input: 0.00 toks/s, output: 0.00 toks/s]\u001b[A\n",
      "Processed prompts: 100%|██████████| 1/1 [00:00<00:00,  1.40it/s, est. speed input: 383.61 toks/s, output: 79.80 toks/s]\u001b[A\n"
     ]
    },
    {
     "name": "stdout",
     "output_type": "stream",
     "text": [
      "The patient had existing or ongoing medical conditions related to glaucoma, as evidenced by the presence of Timolol Maleate in their medication list. Additionally, the patient had allergies, as indicated by the presence of Cetirizine in their medication list. \n",
      "353\n"
     ]
    },
    {
     "name": "stderr",
     "output_type": "stream",
     "text": [
      "\n",
      "Processed prompts:   0%|          | 0/1 [00:00<?, ?it/s, est. speed input: 0.00 toks/s, output: 0.00 toks/s]\u001b[A\n",
      "Processed prompts: 100%|██████████| 1/1 [00:01<00:00,  1.08s/it, est. speed input: 328.24 toks/s, output: 80.90 toks/s]\u001b[A\n"
     ]
    },
    {
     "name": "stdout",
     "output_type": "stream",
     "text": [
      "The patient was treated for an Ampullary Mass and Bile Duct Obstruction, which caused pruritus and abnormal liver function tests. The patient also had existing or ongoing medical conditions related to glaucoma, and had allergies. The patient's acute medical condition was likely related to the Ampullary Mass and Bile Duct Obstruction, while the chronic medical conditions were glaucoma and allergies. \n",
      "524\n"
     ]
    },
    {
     "name": "stderr",
     "output_type": "stream",
     "text": [
      "\n",
      "Processed prompts:   0%|          | 0/1 [00:00<?, ?it/s, est. speed input: 0.00 toks/s, output: 0.00 toks/s]\u001b[A\n",
      "Processed prompts: 100%|██████████| 1/1 [00:01<00:00,  1.55s/it, est. speed input: 338.12 toks/s, output: 80.66 toks/s]\u001b[A\n"
     ]
    },
    {
     "name": "stdout",
     "output_type": "stream",
     "text": [
      "The patient presented with pruritus and dark urine. The severity of these symptoms is not explicitly stated in the input text, but based on the additional context, it can be inferred that the pruritus was likely severe enough to warrant admission for further workup. The patient did not have any other symptoms such as abdominal pain, nausea, vomiting, or fever, which suggests that the pruritus was likely related to the underlying medical conditions. The patient's liver function tests and lipase levels were abnormal, which further supports the diagnosis of an Ampullary Mass and Bile Duct Obstruction. \n",
      "300\n"
     ]
    },
    {
     "name": "stderr",
     "output_type": "stream",
     "text": [
      "\n",
      "Processed prompts:   0%|          | 0/1 [00:00<?, ?it/s, est. speed input: 0.00 toks/s, output: 0.00 toks/s]\u001b[A\n",
      "Processed prompts: 100%|██████████| 1/1 [00:00<00:00,  1.10it/s, est. speed input: 330.74 toks/s, output: 80.48 toks/s]\u001b[A\n"
     ]
    },
    {
     "name": "stdout",
     "output_type": "stream",
     "text": [
      "The diagnostic work-up for the acute medical condition, Ampullary Mass and Bile Duct Obstruction, included liver function tests and lipase. The related results were: lipase 1458, ALT 192, AST 133, and total bili 1.9. These results were elevated, indicating abnormal liver function tests. \n",
      "535\n"
     ]
    },
    {
     "name": "stderr",
     "output_type": "stream",
     "text": [
      "\n",
      "Processed prompts:   0%|          | 0/1 [00:00<?, ?it/s, est. speed input: 0.00 toks/s, output: 0.00 toks/s]\u001b[A\n",
      "Processed prompts: 100%|██████████| 1/1 [00:25<00:00, 25.08s/it, est. speed input: 21.33 toks/s, output: 81.66 toks/s]\u001b[A\n"
     ]
    },
    {
     "name": "stdout",
     "output_type": "stream",
     "text": [
      "The patient was treated for a Pruritic Disorder NOS with a CT scan and ERCP. The patient did not receive any new medications or IV therapies during this hospital admission. The patient's medication regimen remained the same throughout their hospital stay, with no changes made to their medication list. The patient was diagnosed with an Ampullary Mass and Bile Duct Obstruction, which likely caused the pruritus and abnormal liver function tests. The patient's symptoms did not include abdominal pain, nausea, vomiting, or any other concerning signs or symptoms. The patient was referred by their primary care physician (PCP) for further evaluation. The patient's medical history is significant for no past medical history, and they have no history of alcohol abuse. The patient's current symptoms are primarily related to their liver function tests and lipase levels, which are elevated. The patient's ROS (review of systems) is negative for any other concerning symptoms. The changes to the patient's medications were none, as the admission and discharge medication lists are identical. There were no new medications added, and there were no medications stopped. The patient's medication regimen remained the same throughout their hospital stay. The patient was treated with a CT scan and admitted for further workup after presenting with pruritus and dark urine. The diagnostic workup included liver function tests and lipase, which were elevated. The patient's symptoms did not include abdominal pain, nausea, vomiting, or any other concerning signs or symptoms. The patient was referred by their primary care physician (PCP) for further evaluation. The patient's medical history is significant for no past medical history, and they have no history of alcohol abuse. The patient's current symptoms are primarily related to their liver function tests and lipase levels, which are elevated. The patient's ROS (review of systems) is negative for any other concerning symptoms. The changes to the patient's medications were none, as the admission and discharge medication lists are identical. There were no new medications added, and there were no medications stopped. The patient's medication regimen remained the same throughout their hospital stay. The patient was treated with a CT scan and admitted for further workup after presenting with pruritus and dark urine. The diagnostic workup included liver function tests and lipase, which were elevated. The patient's symptoms did not include abdominal pain, nausea, vomiting, or any other concerning signs or symptoms. The patient was referred by their primary care physician (PCP) for further evaluation. The patient's medical history is significant for no past medical history, and they have no history of alcohol abuse. The patient's current symptoms are primarily related to their liver function tests and lipase levels, which are elevated. The patient's ROS (review of systems) is negative for any other concerning symptoms. The changes to the patient's medications were none, as the admission and discharge medication lists are identical. There were no new medications added, and there were no medications stopped. The patient's medication regimen remained the same throughout their hospital stay. The patient was treated with a CT scan and admitted for further workup after presenting with pruritus and dark urine. The diagnostic workup included liver function tests and lipase, which were elevated. The patient's symptoms did not include abdominal pain, nausea, vomiting, or any other concerning signs or symptoms. The patient was referred by their primary care physician (PCP) for further evaluation. The patient's medical history is significant for no past medical history, and they have no history of alcohol abuse. The patient's current symptoms are primarily related to their liver function tests and lipase levels, which are elevated. The patient's ROS (review of systems) is negative for any other concerning symptoms. The changes to the patient's medications were none, as the admission and discharge medication lists are identical. There were no new medications added, and there were no medications stopped. The patient's medication regimen remained the same throughout their hospital stay. The patient was treated with a CT scan and admitted for further workup after presenting with pruritus and dark urine. The diagnostic workup included liver function tests and lipase, which were elevated. The patient's symptoms did not include abdominal pain, nausea, vomiting, or any other concerning signs or symptoms. The patient was referred by their primary care physician (PCP) for further evaluation. The patient's medical history is significant for no past medical history, and they have no history of alcohol abuse. The patient's current symptoms are primarily related to their liver function tests and lipase levels, which are elevated. The patient's ROS (review of systems) is negative for any other concerning symptoms. The changes to the patient's medications were none, as the admission and discharge medication lists are identical. There were no new medications added, and there were no medications stopped. The patient's medication regimen remained the same throughout their hospital stay. The patient was treated with a CT scan and admitted for further workup after presenting with pruritus and dark urine. The diagnostic workup included liver function tests and lipase, which were elevated. The patient's symptoms did not include abdominal pain, nausea, vomiting, or any other concerning signs or symptoms. The patient was referred by their primary care physician (PCP) for further evaluation. The patient's medical history is significant for no past medical history, and they have no history of alcohol abuse. The patient's current symptoms are primarily related to their liver function tests and lipase levels, which are elevated. The patient's ROS (review of systems) is negative for any other concerning symptoms. The changes to the patient's medications were none, as the admission and discharge medication lists are identical. There were no new medications added, and there were no medications stopped. The patient's medication regimen remained the same throughout their hospital stay. The patient was treated with a CT scan and admitted for further workup after presenting with pruritus and dark urine. The diagnostic workup included liver function tests and lipase, which were elevated. The patient's symptoms did not include abdominal pain, nausea, vomiting, or any other concerning signs or symptoms. The patient was referred by their primary care physician (PCP) for further evaluation. The patient's medical history is significant for no past medical history, and they have no history of alcohol abuse. The patient's current symptoms are primarily related to their liver function tests and lipase levels, which are elevated. The patient's ROS (review of systems) is negative for any other concerning symptoms. The changes to the patient's medications were none, as the admission and discharge medication lists are identical. There were no new medications added, and there were no medications stopped. The patient's medication regimen remained the same throughout their hospital stay. The patient was treated with a CT scan and admitted for further workup after presenting with pruritus and dark urine. The diagnostic workup included liver function tests and lipase, which were elevated. The patient's symptoms did not include abdominal pain, nausea, vomiting, or any other concerning signs or symptoms. The patient was referred by their primary care physician (PCP) for further evaluation. The patient's medical history is significant for no past medical history, and they have no history of alcohol abuse. The patient's current symptoms are primarily related to their liver function tests and lipase levels, which are elevated. The patient's ROS (review of systems) is negative for any other concerning symptoms. The changes to the patient's medications were none, as the admission and discharge medication lists are identical. There were no new medications added, and there were no medications stopped. The patient's medication regimen remained the same throughout their hospital stay. The patient was treated with a CT scan and admitted for further workup after presenting with pruritus and dark urine. The diagnostic workup included liver function tests and lipase, which were elevated. The patient's symptoms did not include abdominal pain, nausea, vomiting, or any other concerning signs or symptoms. The patient was referred by their primary care physician (PCP) for further evaluation. The patient's medical history is significant for no past medical history, and they have no history of alcohol abuse. The patient's current symptoms are primarily related to their liver function tests and lipase levels, which are elevated. The patient's ROS (review of systems) is negative for any other concerning symptoms. The changes to the patient's medications were none, as the admission and discharge medication lists are identical. There were no new medications added, and there were no medications stopped. The patient's medication regimen remained the same throughout their hospital stay. The patient was treated with a CT scan and admitted for further workup after presenting with pruritus and dark urine. The diagnostic workup included liver function tests and lipase, which were elevated. The patient's symptoms did not include abdominal pain, nausea, vomiting, or any other concerning signs or symptoms. The patient was referred by their primary care physician (PCP) for further evaluation. The patient's medical history is significant for no past medical history, and they have no history of alcohol abuse. The patient's current symptoms are primarily related to their liver function tests and lipase levels, which are elevated. The patient's ROS (review of systems) is negative for any other concerning symptoms. The changes to the patient's medications were none, as the admission and discharge medication lists are identical. There were no new medications added, and there were no medications stopped. The patient's medication regimen remained the same throughout their hospital stay. The patient was treated with a CT scan and admitted for further workup after presenting with pruritus and dark urine. The diagnostic workup included liver function tests and lipase, which were elevated. The patient's symptoms did not include abdominal pain, nausea, vomiting, or any other concerning signs or symptoms. The patient was referred by their primary care physician (PCP) for further evaluation. The patient's medical history is significant for no past medical history, and they have no history of alcohol abuse. The patient's current symptoms are primarily related to their liver function tests and lipase levels, which are elevated. The patient's ROS (review of systems) is negative for any other concerning symptoms.\n",
      "395\n"
     ]
    },
    {
     "name": "stderr",
     "output_type": "stream",
     "text": [
      "\n",
      "Processed prompts:   0%|          | 0/1 [00:00<?, ?it/s, est. speed input: 0.00 toks/s, output: 0.00 toks/s]\u001b[A\n",
      "Processed prompts: 100%|██████████| 1/1 [00:00<00:00,  2.18it/s, est. speed input: 862.48 toks/s, output: 76.42 toks/s]\u001b[A\n"
     ]
    },
    {
     "name": "stdout",
     "output_type": "stream",
     "text": [
      "The recommended diagnostic work-up is a CT scan, as mentioned in the input text: \"Given abnormal labs PCP referred for CT scan and admission for further workup.\"\n",
      "207\n"
     ]
    },
    {
     "name": "stderr",
     "output_type": "stream",
     "text": [
      "\n",
      "Processed prompts:   0%|          | 0/1 [00:00<?, ?it/s, est. speed input: 0.00 toks/s, output: 0.00 toks/s]\u001b[A\n",
      "Processed prompts: 100%|██████████| 1/1 [00:00<00:00,  3.00it/s, est. speed input: 622.51 toks/s, output: 78.19 toks/s]\u001b[A\n"
     ]
    },
    {
     "name": "stdout",
     "output_type": "stream",
     "text": [
      "Yes, there are pending results. The pathology result is still pending at the time of discharge and needs to be followed up.\n",
      "2892\n"
     ]
    },
    {
     "name": "stderr",
     "output_type": "stream",
     "text": [
      "\n",
      "Processed prompts:   0%|          | 0/1 [00:00<?, ?it/s, est. speed input: 0.00 toks/s, output: 0.00 toks/s]\u001b[A\n",
      "Processed prompts: 100%|██████████| 1/1 [00:25<00:00, 25.47s/it, est. speed input: 113.55 toks/s, output: 80.41 toks/s]\u001b[A\n",
      " 80%|████████  | 4/5 [04:22<01:09, 69.69s/it]"
     ]
    },
    {
     "name": "stdout",
     "output_type": "stream",
     "text": [
      "The patient was admitted to the hospital due to elevated liver function tests (LFTs) and lipase levels, which were detected by their primary care physician (PCP) during a routine check-up. The patient presented with complaints of pruritus and dark urine, which led to the referral for further workup. The patient's symptoms, medical condition, and abnormal lab results caused them to come to the hospital for admission and further evaluation.\n",
      "\n",
      "The patient's major medical conditions include liver dysfunction and pancreatitis, as evidenced by elevated liver function tests and lipase levels. The patient was admitted to the hospital for further workup and evaluation of these conditions, specifically to investigate the cause of the abnormal lab results. The patient's symptoms were primarily related to pruritus and dark urine, with no other significant complaints such as abdominal pain, nausea, or vomiting.\n",
      "\n",
      "The patient was treated for a Pruritic Disorder NOS, which was likely related to the Ampullary Mass and Bile Duct Obstruction. The patient presented with pruritus and dark urine, and had abnormal liver function tests and lipase levels. The patient did not have any other symptoms such as abdominal pain, nausea, vomiting, or fever, which suggests that the pruritus was likely related to the underlying medical conditions. The patient was admitted for further workup and was diagnosed with an Ampullary Mass and Bile Duct Obstruction, which likely caused the pruritus and abnormal liver function tests.\n",
      "\n",
      "The patient's liver function tests and lipase levels were elevated, indicating abnormal liver function tests. The patient's symptoms did not include abdominal pain, nausea, vomiting, or any other concerning signs or symptoms. The patient's ROS (review of systems) is negative for any other concerning symptoms.\n",
      "\n",
      "The patient was treated with a CT scan and ERCP. The patient did not receive any new medications or IV therapies during this hospital admission. The patient's medication regimen remained the same throughout their hospital stay, with no changes made to their medication list.\n",
      "\n",
      "The patient's medical history is significant for no past medical history, and they have no history of alcohol abuse. The patient's current symptoms are primarily related to their liver function tests and lipase levels, which are elevated. The patient's ROS (review of systems) is negative for any other concerning symptoms.\n",
      "\n",
      "The patient was referred by their primary care physician (PCP) for further evaluation. The patient's symptoms did not include abdominal pain, nausea, vomiting, or any other concerning signs or symptoms. The patient's medical history is significant for no past medical history, and they have no history of alcohol abuse. The patient's current symptoms are primarily related to their liver function tests and lipase levels, which are elevated. The patient's ROS (review of systems) is negative for any other concerning symptoms.\n",
      "\n",
      "The patient's medication regimen remained the same throughout their hospital stay, with no changes made to their medication list. The patient was treated with a CT scan and admitted for further workup after presenting with pruritus and dark urine. The diagnostic workup included liver function tests and lipase, which were elevated. The patient's symptoms did not include abdominal pain, nausea, vomiting, or any other concerning signs or symptoms. The patient was referred by their primary care physician (PCP) for further evaluation. The patient's medical history is significant for no past medical history, and they have no history of alcohol abuse. The patient's current symptoms are primarily related to their liver function tests and lipase levels, which are elevated. The patient's ROS (review of systems) is negative for any other concerning symptoms.\n",
      "\n",
      "The recommended diagnostic work-up is a CT scan, as mentioned in the input text: \"Given abnormal labs PCP referred for CT scan and admission for further workup.\" Yes, there are pending results. The pathology result is still pending at the time of discharge and needs to be followed up. The patient's medication regimen remained the same throughout their hospital stay, with no changes made to their medication list. The patient was treated with a CT scan and admitted for further workup after presenting with pruritus and dark urine. The diagnostic workup included liver function tests and lipase, which were elevated. The patient's symptoms did not include abdominal pain, nausea, vomiting, or any other concerning signs or symptoms. The patient was referred by their primary care physician (PCP) for further evaluation. The patient's medical history is significant for no past medical history, and they have no history of alcohol abuse. The patient's current symptoms are primarily related to their liver function tests and lipase levels, which are elevated. The patient's ROS (review of systems) is negative for any other concerning symptoms. The patient's medication regimen remained the same throughout their hospital stay, with no changes made to their medication list. The patient was treated with a CT scan and admitted for further workup after presenting with pruritus and dark urine. The diagnostic workup included liver function tests and lipase, which were elevated. The patient's symptoms did not include abdominal pain, nausea, vomiting, or any other concerning signs or symptoms. The patient was referred by their primary care physician (PCP) for further evaluation. The patient's medical history is significant for no past medical history, and they have no history of alcohol abuse. The patient's current symptoms are primarily related to their liver function tests and lipase levels, which are elevated. The patient's ROS (review of systems) is negative for any other concerning symptoms. The patient's medication regimen remained the same throughout their hospital stay, with no changes made to their medication list. The patient was treated with a CT scan and admitted for further workup after presenting with pruritus and dark urine. The diagnostic workup included liver function tests and lipase, which were elevated. The patient's symptoms did not include abdominal pain, nausea, vomiting, or any other concerning signs or symptoms. The patient was referred by their primary care physician (PCP) for further evaluation. The patient's medical history is significant for no past medical history, and they have no history of alcohol abuse. The patient's current symptoms are primarily related to their liver function tests and lipase levels, which are elevated. The patient's ROS (review of systems) is negative for any other concerning symptoms. The patient's medication regimen remained the same throughout their hospital stay, with no changes made to their medication list. The patient was treated with a CT scan and admitted for further workup after presenting with pruritus and dark urine. The diagnostic workup included liver function tests and lipase, which were elevated. The patient's symptoms did not include abdominal pain, nausea, vomiting, or any other concerning signs or symptoms. The patient was referred by their primary care physician (PCP) for further evaluation. The patient's medical history is significant for no past medical history, and they have no history of alcohol abuse. The patient's current symptoms are primarily related to their liver function tests and lipase levels, which are elevated. The patient's ROS (review of systems) is negative for any other concerning symptoms. The patient's medication regimen remained the same throughout their hospital stay, with no changes made to their medication list. The patient was treated with a CT scan and admitted for further workup after presenting with pruritus and dark urine. The diagnostic workup included liver function tests and lipase, which were elevated. The patient's symptoms did not include abdominal pain, nausea, vomiting, or any other concerning signs or symptoms. The patient was referred by their primary care physician (PCP) for further evaluation. The patient's medical history is significant for no past medical history, and they have no history of alcohol abuse. The patient's current symptoms are primarily related to their liver function tests and lipase levels, which are elevated. The patient's ROS (review of systems) is negative for any other concerning symptoms. The patient's medication regimen remained the same throughout their hospital stay, with no changes made to their medication list. The patient was treated with a CT scan and admitted for further workup after presenting with pruritus and dark urine. The diagnostic workup included liver function tests and lipase, which were elevated. The patient's symptoms did not include abdominal pain, nausea, vomiting, or any other concerning signs or symptoms. The patient was referred by their primary care physician (PCP) for further evaluation. The patient's medical history is significant for no past medical history, and they have no history of alcohol abuse. The patient's current symptoms are primarily related to their liver function tests and lipase levels, which are elevated. The patient's ROS (review of systems) is negative for any other concerning symptoms. The patient's medication regimen remained the same throughout their hospital stay, with no changes made to their medication list. The patient was treated with a CT scan and admitted for further workup after presenting with pruritus and dark urine. The diagnostic workup included liver function tests and lipase, which were elevated. The patient's symptoms did not include abdominal pain, nausea, vomiting, or any other concerning signs or symptoms. The patient was referred by their primary care physician (PCP) for further evaluation. The patient's medical history is significant for no past medical history, and they have no history of alcohol abuse. The patient's current symptoms are primarily related to their liver function tests and lipase levels, which are elevated. The patient's ROS (review of systems) is negative for any other concerning symptoms. The patient's medication regimen remained the same throughout their hospital stay, with no changes made to their medication list. The patient was treated with a CT scan and admitted for further workup after presenting with pruritus and dark urine. The diagnostic workup included liver function tests and lipase, which were elevated. The patient's symptoms did not include abdominal pain, nausea, vomiting, or any other concerning signs or symptoms. The patient was referred by their primary care physician (PCP) for further evaluation. The patient's medical history is significant for no past medical history, and they have no history of alcohol abuse. The patient's current symptoms are primarily related to their liver function tests\n",
      "Time taken for generate_bhc: 63.26860189437866 seconds.\n",
      "5 of 5, 100.0% hadm_id: 22887667 **********\n",
      "\n",
      "\n",
      "555\n"
     ]
    },
    {
     "name": "stderr",
     "output_type": "stream",
     "text": [
      "\n",
      "Processed prompts:   0%|          | 0/1 [00:00<?, ?it/s, est. speed input: 0.00 toks/s, output: 0.00 toks/s]\u001b[A\n",
      "Processed prompts: 100%|██████████| 1/1 [00:02<00:00,  2.09s/it, est. speed input: 265.34 toks/s, output: 81.27 toks/s]\u001b[A\n"
     ]
    },
    {
     "name": "stdout",
     "output_type": "stream",
     "text": [
      "The patient was treated with ciprofloxicin 400mg IV for urinary tract infection and was admitted to the MICU for nephrolithiasis complicated by pyelonephritis and sepsis. She underwent uretral stents placement and removal with stones extracted. The diagnostic workup included a CT w/o contrast that showed no hydroureter and moderate fecal loading, as well as laboratory tests that revealed WBC 13.5 and 92% PMN. The patient's symptoms improved with treatment, and she denied dysuria, nausea/vomiting, and other symptoms. The patient's pain had improved, and she had some loose stools in the last three days. The patient's appetite was decreased, but she denied fever, chills, night sweats, and other symptoms. \n",
      "351\n"
     ]
    },
    {
     "name": "stderr",
     "output_type": "stream",
     "text": [
      "\n",
      "Processed prompts:   0%|          | 0/1 [00:00<?, ?it/s, est. speed input: 0.00 toks/s, output: 0.00 toks/s]\u001b[A\n",
      "Processed prompts: 100%|██████████| 1/1 [00:00<00:00,  2.00it/s, est. speed input: 703.64 toks/s, output: 78.18 toks/s]\u001b[A\n"
     ]
    },
    {
     "name": "stdout",
     "output_type": "stream",
     "text": [
      "The patient did not undergo any major surgical, invasive, or diagnostic, or therapeutic procedures. However, she did undergo uretral stents placement and removal with stones extracted. \n",
      "286\n"
     ]
    },
    {
     "name": "stderr",
     "output_type": "stream",
     "text": [
      "\n",
      "Processed prompts:   0%|          | 0/1 [00:00<?, ?it/s, est. speed input: 0.00 toks/s, output: 0.00 toks/s]\u001b[A\n",
      "Processed prompts: 100%|██████████| 1/1 [00:00<00:00,  1.31it/s, est. speed input: 375.28 toks/s, output: 80.04 toks/s]\u001b[A\n"
     ]
    },
    {
     "name": "stdout",
     "output_type": "stream",
     "text": [
      "The changes to the patient's medications were that Amlodipine was reduced from 10mg daily to 5mg daily. The new medication added was Ciprofloxacin 500mg Tablet. The medication stopped was Amlodipine 10mg daily.  \n",
      "628\n"
     ]
    },
    {
     "name": "stderr",
     "output_type": "stream",
     "text": [
      "\n",
      "Processed prompts:   0%|          | 0/1 [00:00<?, ?it/s, est. speed input: 0.00 toks/s, output: 0.00 toks/s]\u001b[A\n",
      "Processed prompts: 100%|██████████| 1/1 [00:00<00:00,  1.36it/s, est. speed input: 857.50 toks/s, output: 77.83 toks/s]\u001b[A\n"
     ]
    },
    {
     "name": "stdout",
     "output_type": "stream",
     "text": [
      "During this hospital admission, the patient was treated with Ciprofloxacin 400mg IV for urinary tract infection and pyelonephritis. Additionally, the patient's Amlodipine was reduced from 10mg daily to 5mg daily. \n",
      "558\n"
     ]
    },
    {
     "name": "stderr",
     "output_type": "stream",
     "text": [
      "\n",
      "Processed prompts:   0%|          | 0/1 [00:00<?, ?it/s, est. speed input: 0.00 toks/s, output: 0.00 toks/s]\u001b[A\n",
      "Processed prompts: 100%|██████████| 1/1 [00:02<00:00,  2.24s/it, est. speed input: 249.52 toks/s, output: 81.38 toks/s]\u001b[A\n"
     ]
    },
    {
     "name": "stdout",
     "output_type": "stream",
     "text": [
      "The initial diagnostic workup included a urinalysis (U/A) that was leuk/nitrate positive, indicating the presence of white blood cells and nitrite in the urine, which is consistent with a urinary tract infection (UTI). Additionally, a computed tomography (CT) scan without contrast was performed, which showed no hydroureter (dilation of the ureter) and moderate fecal loading. The patient was given ciprofloxicin 400mg IV and admitted to the medicine service for UTI. The patient was later transferred to the MICU for nephrolithiasis complicated by pyelonephritis and sepsis. The pertinent results include the urinalysis and CT scan findings, as well as the patient's laboratory results, including a white blood cell count of 13.5 with 92% polymorphonuclear cells. \n",
      "627\n"
     ]
    },
    {
     "name": "stderr",
     "output_type": "stream",
     "text": [
      "\n",
      "Processed prompts:   0%|          | 0/1 [00:00<?, ?it/s, est. speed input: 0.00 toks/s, output: 0.00 toks/s]\u001b[A\n",
      "Processed prompts: 100%|██████████| 1/1 [00:03<00:00,  3.13s/it, est. speed input: 200.63 toks/s, output: 81.60 toks/s]\u001b[A\n"
     ]
    },
    {
     "name": "stdout",
     "output_type": "stream",
     "text": [
      "The patient was admitted to the hospital due to right flank pain and foul-smelling urine, which were caused by a urinary tract infection (UTI) complicated by pyelonephritis and sepsis. The patient's symptoms, including sharp non-radiating right flank pain made worse by walking and improved with rest, fatigue, and malaise, led to her presentation to the emergency department (ED) for further evaluation. The patient's laboratory results, including a leukocyte count of 13.5 and a positive urine analysis (U/A) for leuk/nitrate, supported the diagnosis of UTI. The patient's computed tomography (CT) scan showed no hydroureter and moderate fecal loading, which further supported the diagnosis. The patient was given ciprofloxicin 400mg IV and admitted to the medicine service for further treatment. The patient's condition was complicated by nephrolithiasis, pyelonephritis, and sepsis, which required uretral stents to be placed and removed with stones extracted. The patient's symptoms improved, and she denied dysuria, nausea/vomiting, and other symptoms. The patient's medical condition was managed on the floor, and she was eventually discharged.\n",
      "565\n"
     ]
    },
    {
     "name": "stderr",
     "output_type": "stream",
     "text": [
      "\n",
      "Processed prompts:   0%|          | 0/1 [00:00<?, ?it/s, est. speed input: 0.00 toks/s, output: 0.00 toks/s]\u001b[A\n",
      "Processed prompts: 100%|██████████| 1/1 [00:01<00:00,  1.10s/it, est. speed input: 516.50 toks/s, output: 79.53 toks/s]\u001b[A\n"
     ]
    },
    {
     "name": "stdout",
     "output_type": "stream",
     "text": [
      "The patient's major medical conditions include hypertension (HTN), nephrolithiasis, and urinary tract infection (UTI). She was admitted to the hospital due to right flank pain and foul-smelling urine, which was complicated by pyelonephritis and sepsis. The patient was initially treated with ciprofloxicin and later had uretral stents placed and removed with stones extracted. \n",
      "607\n"
     ]
    },
    {
     "name": "stderr",
     "output_type": "stream",
     "text": [
      "\n",
      "Processed prompts:   0%|          | 0/1 [00:00<?, ?it/s, est. speed input: 0.00 toks/s, output: 0.00 toks/s]\u001b[A\n",
      "Processed prompts: 100%|██████████| 1/1 [00:01<00:00,  1.34s/it, est. speed input: 454.92 toks/s, output: 80.19 toks/s]\u001b[A\n"
     ]
    },
    {
     "name": "stdout",
     "output_type": "stream",
     "text": [
      "The patient was treated for urinary tract infection (UTI) complicated by pyelonephritis and sepsis during her hospital admission. She also had nephrolithiasis, which was complicated by pyelonephritis and sepsis. Additionally, she had hypertension. The patient's symptoms included right flank pain, foul-smelling urine, fatigue, and malaise. She was given ciprofloxicin 400mg IV and had uretral stents placed and removed with stones extracted. \n",
      "269\n"
     ]
    },
    {
     "name": "stderr",
     "output_type": "stream",
     "text": [
      "\n",
      "Processed prompts:   0%|          | 0/1 [00:00<?, ?it/s, est. speed input: 0.00 toks/s, output: 0.00 toks/s]\u001b[A\n",
      "Processed prompts: 100%|██████████| 1/1 [00:00<00:00,  1.15it/s, est. speed input: 308.94 toks/s, output: 80.39 toks/s]\u001b[A\n"
     ]
    },
    {
     "name": "stdout",
     "output_type": "stream",
     "text": [
      "The patient had hypertension, as evidenced by the medication amlodipine, which is commonly used to treat hypertension. Additionally, the patient had an infection or bacterial infection, as indicated by the antibiotic ciprofloxacin. These conditions were likely ongoing or existing at the time of admission, as they were included in the discharge medication list.\n",
      "344\n"
     ]
    },
    {
     "name": "stderr",
     "output_type": "stream",
     "text": [
      "\n",
      "Processed prompts:   0%|          | 0/1 [00:00<?, ?it/s, est. speed input: 0.00 toks/s, output: 0.00 toks/s]\u001b[A\n",
      "Processed prompts: 100%|██████████| 1/1 [00:00<00:00,  2.05it/s, est. speed input: 707.40 toks/s, output: 78.14 toks/s]\u001b[A\n"
     ]
    },
    {
     "name": "stdout",
     "output_type": "stream",
     "text": [
      "The patient was treated for acute urinary tract infection (UTI) complicated by pyelonephritis and sepsis, as well as chronic nephrolithiasis and hypertension.\n",
      "671\n"
     ]
    },
    {
     "name": "stderr",
     "output_type": "stream",
     "text": [
      "\n",
      "Processed prompts:   0%|          | 0/1 [00:00<?, ?it/s, est. speed input: 0.00 toks/s, output: 0.00 toks/s]\u001b[A\n",
      "Processed prompts: 100%|██████████| 1/1 [00:02<00:00,  2.06s/it, est. speed input: 326.55 toks/s, output: 80.79 toks/s]\u001b[A\n"
     ]
    },
    {
     "name": "stdout",
     "output_type": "stream",
     "text": [
      "The patient presented with right flank pain, foul-smelling urine, fatigue, and malaise. The severity of these symptoms is moderate to severe, as the patient reported that the pain was sharp and non-radiating, and that it worsened with walking and improved with rest. The patient also reported fatigue and malaise, which suggests a moderate to severe level of discomfort. The patient's symptoms did not improve and she presented to the ED for further evaluation, which further suggests a moderate to severe level of severity. The patient's laboratory results, including a white blood cell count of 13.5 and a urine analysis that was leuk/nitrate positive, also support a moderate to severe level of severity. Overall, the patient's symptoms and laboratory results suggest a moderate to severe level of severity for her acute medical condition.\n",
      "386\n"
     ]
    },
    {
     "name": "stderr",
     "output_type": "stream",
     "text": [
      "\n",
      "Processed prompts:   0%|          | 0/1 [00:00<?, ?it/s, est. speed input: 0.00 toks/s, output: 0.00 toks/s]\u001b[A\n",
      "Processed prompts: 100%|██████████| 1/1 [00:02<00:00,  2.35s/it, est. speed input: 164.46 toks/s, output: 81.80 toks/s]\u001b[A\n"
     ]
    },
    {
     "name": "stdout",
     "output_type": "stream",
     "text": [
      "The diagnostic workup for the acute urinary tract infection (UTI) included a urinalysis (U/A) that was leuk/nitrate positive, indicating the presence of white blood cells and nitrite in the urine, which is consistent with a urinary tract infection (UTI). The related results include the urinalysis findings and a white blood cell count of 13.5 with 92% polymorphonuclear cells. For the pyelonephritis and sepsis, the diagnostic workup included a computed tomography (CT) scan without contrast, which showed no hydroureter (dilation of the ureter) and moderate fecal loading. The related results include the CT scan findings and laboratory results. For the chronic nephrolithiasis, there is no specific diagnostic workup mentioned in the provided data. For the hypertension, there is no specific diagnostic workup mentioned in the provided data. \n",
      "583\n"
     ]
    },
    {
     "name": "stderr",
     "output_type": "stream",
     "text": [
      "\n",
      "Processed prompts:   0%|          | 0/1 [00:00<?, ?it/s, est. speed input: 0.00 toks/s, output: 0.00 toks/s]\u001b[A\n",
      "Processed prompts: 100%|██████████| 1/1 [00:01<00:00,  1.54s/it, est. speed input: 378.77 toks/s, output: 80.56 toks/s]\u001b[A\n"
     ]
    },
    {
     "name": "stdout",
     "output_type": "stream",
     "text": [
      "The treatments for the acute medical conditions were:\n",
      "- Urinary tract infection (UTI) complicated by pyelonephritis and sepsis: Ciprofloxacin 400mg IV, uretral stents placement and removal with stones extracted.\n",
      "- Nephrolithiasis complicated by pyelonephritis and sepsis: uretral stents placement and removal with stones extracted.\n",
      "- Hypertension: Amlodipine reduced from 10mg daily to 5mg daily.\n",
      "- Sepsis: Ciprofloxacin 400mg IV.\n",
      "\n",
      "559\n"
     ]
    },
    {
     "name": "stderr",
     "output_type": "stream",
     "text": [
      "\n",
      "Processed prompts:   0%|          | 0/1 [00:00<?, ?it/s, est. speed input: 0.00 toks/s, output: 0.00 toks/s]\u001b[A\n",
      "Processed prompts: 100%|██████████| 1/1 [00:01<00:00,  1.40s/it, est. speed input: 400.88 toks/s, output: 80.32 toks/s]\u001b[A\n"
     ]
    },
    {
     "name": "stdout",
     "output_type": "stream",
     "text": [
      "The recommended diagnostic work-up for this patient includes a urinalysis, urine culture, and a CT scan with contrast to further evaluate the patient's symptoms and rule out any potential complications. Additionally, a complete blood count (CBC) and blood cultures may be ordered to assess for signs of sepsis. A renal ultrasound may also be considered to evaluate for any potential kidney damage or obstruction. Furthermore, a thorough review of the patient's medication list and medical history may be necessary to identify any potential contributing factors to the patient's condition. \n",
      "\n",
      "\n",
      "205\n"
     ]
    },
    {
     "name": "stderr",
     "output_type": "stream",
     "text": [
      "\n",
      "Processed prompts:   0%|          | 0/1 [00:00<?, ?it/s, est. speed input: 0.00 toks/s, output: 0.00 toks/s]\u001b[A\n",
      "Processed prompts: 100%|██████████| 1/1 [00:00<00:00,  3.65it/s, est. speed input: 751.47 toks/s, output: 76.98 toks/s]\u001b[A\n"
     ]
    },
    {
     "name": "stdout",
     "output_type": "stream",
     "text": [
      "Yes, there are pending results. The blood and urine cultures are pending at the time of discharge.\n",
      "1337\n"
     ]
    },
    {
     "name": "stderr",
     "output_type": "stream",
     "text": [
      "\n",
      "Processed prompts:   0%|          | 0/1 [00:00<?, ?it/s, est. speed input: 0.00 toks/s, output: 0.00 toks/s]\u001b[A"
     ]
    }
   ],
   "source": [
    "# FOR 5 HADM_IDS\n",
    "from tqdm import tqdm\n",
    "import pandas as pd\n",
    "import time\n",
    "\n",
    "golden_hadm_ids = [22007257, 22289537, 22988214, 25498079, 22887667]\n",
    "\n",
    "# Create an empty results table\n",
    "results = pd.DataFrame(columns=['hadm_id', 'BHC_LLM', 'BHC_human'])\n",
    "\n",
    "# results path:\n",
    "results_path = '../../troyTest/'\n",
    "file_name = '5_CoT_bhc_results.csv'\n",
    "results_file_path = os.path.join(results_path, file_name)\n",
    "\n",
    "count = 0\n",
    "total_records = len(golden_hadm_ids)\n",
    "for hadm_id in tqdm(golden_hadm_ids):  # Replace with your actual hadm_id values\n",
    "    count += 1\n",
    "    percent_complete = count*100/total_records\n",
    "    print(f\"{count} of {total_records}, {percent_complete}% hadm_id: {hadm_id} **********\\n\\n\")\n",
    "    start_time_bhc = time.time()\n",
    "    BHC_LLM = generate_bhc(hadm_id)\n",
    "    end_time_bhc = time.time()\n",
    "    duration_bhc = end_time_bhc - start_time_bhc\n",
    "    print(f\"Time taken for generate_bhc: {duration_bhc} seconds.\")\n",
    "    # discharge_instructions = generate_discharge_instructions(hadm_id)\n",
    "    new_row = pd.DataFrame({'hadm_id': [hadm_id], 'BHC_LLM': [BHC_LLM], 'BHC_human': [discharge_sections_df[discharge_sections_df['hadm_id'] == hadm_id]['BHC'].astype(str)]})\n",
    "    results = pd.concat([results, new_row], ignore_index=True)\n",
    "    # results = results.append({'hadm_id': hadm_id, 'brief_hospital_course': brief_hospital_course, 'discharge_instructions': discharge_instructions}, ignore_index=True)\n",
    "    results.to_csv(results_file_path, index=False)"
   ]
  },
  {
   "cell_type": "code",
   "execution_count": 17,
   "id": "61a9a822-54c1-467b-b897-a2f8a7f1b5a9",
   "metadata": {},
   "outputs": [
    {
     "data": {
      "text/html": [
       "<div>\n",
       "<style scoped>\n",
       "    .dataframe tbody tr th:only-of-type {\n",
       "        vertical-align: middle;\n",
       "    }\n",
       "\n",
       "    .dataframe tbody tr th {\n",
       "        vertical-align: top;\n",
       "    }\n",
       "\n",
       "    .dataframe thead th {\n",
       "        text-align: right;\n",
       "    }\n",
       "</style>\n",
       "<table border=\"1\" class=\"dataframe\">\n",
       "  <thead>\n",
       "    <tr style=\"text-align: right;\">\n",
       "      <th></th>\n",
       "      <th>hadm_id</th>\n",
       "      <th>initial_treatments</th>\n",
       "      <th>major_procedures</th>\n",
       "      <th>med_changes</th>\n",
       "      <th>med_tx</th>\n",
       "      <th>initial_workup</th>\n",
       "      <th>reason_for_admission</th>\n",
       "      <th>relevant_pmh</th>\n",
       "      <th>acute_problems</th>\n",
       "      <th>ongoing_problems</th>\n",
       "      <th>hospital_problems</th>\n",
       "      <th>presentation_symptoms</th>\n",
       "      <th>diagnostic_work_up</th>\n",
       "      <th>treatment_course</th>\n",
       "      <th>rec_work_up</th>\n",
       "      <th>pending_results</th>\n",
       "      <th>bhc_summary</th>\n",
       "    </tr>\n",
       "  </thead>\n",
       "  <tbody>\n",
       "    <tr>\n",
       "      <th>0</th>\n",
       "      <td>22007257</td>\n",
       "      <td>The patient, a 65-year-old retired woman with ...</td>\n",
       "      <td>The major surgical, invasive, or diagnostic, o...</td>\n",
       "      <td>The changes to the patient's medications were ...</td>\n",
       "      <td>During this hospital admission, the patient wa...</td>\n",
       "      <td>The initial diagnostic workup included cardiac...</td>\n",
       "      <td>The patient was admitted to the hospital due t...</td>\n",
       "      <td>Ms. ___ was admitted to the hospital due to ch...</td>\n",
       "      <td>The patient was treated for Non-ST Elevation M...</td>\n",
       "      <td>The patient had existing or ongoing medical co...</td>\n",
       "      <td>The patient was treated for acute Non-ST Eleva...</td>\n",
       "      <td>The patient presented with chest pain that wok...</td>\n",
       "      <td>The diagnostic workup for acute Non-ST Elevati...</td>\n",
       "      <td>For the patient's acute medical condition of N...</td>\n",
       "      <td>The recommended diagnostic work-up for this pa...</td>\n",
       "      <td>Yes, there are pending results. The CBC (Compl...</td>\n",
       "      <td>Ms. ___ was admitted to the hospital due to ch...</td>\n",
       "    </tr>\n",
       "    <tr>\n",
       "      <th>1</th>\n",
       "      <td>22289537</td>\n",
       "      <td>The patient, a 65-year-old female with a histo...</td>\n",
       "      <td>The patient did not undergo any major surgical...</td>\n",
       "      <td>The changes to the patient's medications were ...</td>\n",
       "      <td>During this hospital admission, the patient wa...</td>\n",
       "      <td>The initial diagnostic workup included a CT ch...</td>\n",
       "      <td>The patient was admitted to the hospital due t...</td>\n",
       "      <td>Ms. ___ was admitted to the hospital due to a ...</td>\n",
       "      <td>The patient was treated for rib fractures, spe...</td>\n",
       "      <td>Based on the admission medication list, the pa...</td>\n",
       "      <td>The patient was treated for acute rib fracture...</td>\n",
       "      <td>The patient presented with symptoms of lighthe...</td>\n",
       "      <td>The diagnostic workup for the acute rib fractu...</td>\n",
       "      <td>The patient was treated for rib fractures with...</td>\n",
       "      <td>The recommended diagnostic work-up for this pa...</td>\n",
       "      <td>Yes, there are pending results. The patient ne...</td>\n",
       "      <td>Ms. ___ was admitted to the hospital due to a ...</td>\n",
       "    </tr>\n",
       "    <tr>\n",
       "      <th>2</th>\n",
       "      <td>22988214</td>\n",
       "      <td>The patient was treated with an ace bandage to...</td>\n",
       "      <td>The major surgical, invasive, or diagnostic, o...</td>\n",
       "      <td>The changes to the patient's medications were ...</td>\n",
       "      <td>During this hospital admission, the patient wa...</td>\n",
       "      <td>The initial diagnostic workup and pertinent re...</td>\n",
       "      <td>The patient was admitted to the hospital due t...</td>\n",
       "      <td>The patient's major medical conditions include...</td>\n",
       "      <td>The patient was treated for a non-traumatic he...</td>\n",
       "      <td>The patient had existing or ongoing medical co...</td>\n",
       "      <td>The patient was treated for acute non-traumati...</td>\n",
       "      <td>The patient presented with symptoms of left le...</td>\n",
       "      <td>The patient had the following acute medical co...</td>\n",
       "      <td>For each acute medical condition, the treatmen...</td>\n",
       "      <td>The recommended diagnostic work-up for this pa...</td>\n",
       "      <td>Yes, there are pending results, specifically a...</td>\n",
       "      <td>The patient has a relevant past medical histor...</td>\n",
       "    </tr>\n",
       "    <tr>\n",
       "      <th>3</th>\n",
       "      <td>25498079</td>\n",
       "      <td>The patient was treated with a CT scan and adm...</td>\n",
       "      <td>The major surgical, invasive, or diagnostic, o...</td>\n",
       "      <td>The changes to the patient's medications were ...</td>\n",
       "      <td>The patient did not receive any new medication...</td>\n",
       "      <td>The initial diagnostic work up included liver ...</td>\n",
       "      <td>The patient was admitted to the hospital due t...</td>\n",
       "      <td>The patient's major medical conditions include...</td>\n",
       "      <td>The patient was treated for a Pruritic Disorde...</td>\n",
       "      <td>The patient had existing or ongoing medical co...</td>\n",
       "      <td>The patient was treated for an Ampullary Mass ...</td>\n",
       "      <td>The patient presented with pruritus and dark u...</td>\n",
       "      <td>The diagnostic work-up for the acute medical c...</td>\n",
       "      <td>The patient was treated for a Pruritic Disorde...</td>\n",
       "      <td>The recommended diagnostic work-up is a CT sca...</td>\n",
       "      <td>Yes, there are pending results. The pathology ...</td>\n",
       "      <td>The patient was admitted to the hospital due t...</td>\n",
       "    </tr>\n",
       "    <tr>\n",
       "      <th>4</th>\n",
       "      <td>22887667</td>\n",
       "      <td>The patient was treated with ciprofloxicin 400...</td>\n",
       "      <td>The patient did not undergo any major surgical...</td>\n",
       "      <td>The changes to the patient's medications were ...</td>\n",
       "      <td>During this hospital admission, the patient wa...</td>\n",
       "      <td>The initial diagnostic workup included a urina...</td>\n",
       "      <td>The patient was admitted to the hospital due t...</td>\n",
       "      <td>The patient's major medical conditions include...</td>\n",
       "      <td>The patient was treated for urinary tract infe...</td>\n",
       "      <td>The patient had hypertension, as evidenced by ...</td>\n",
       "      <td>The patient was treated for acute urinary trac...</td>\n",
       "      <td>The patient presented with right flank pain, f...</td>\n",
       "      <td>The diagnostic workup for the acute urinary tr...</td>\n",
       "      <td>The treatments for the acute medical condition...</td>\n",
       "      <td>The recommended diagnostic work-up for this pa...</td>\n",
       "      <td>Yes, there are pending results. The blood and ...</td>\n",
       "      <td>The patient has a relevant past medical histor...</td>\n",
       "    </tr>\n",
       "  </tbody>\n",
       "</table>\n",
       "</div>"
      ],
      "text/plain": [
       "    hadm_id                                 initial_treatments  \\\n",
       "0  22007257  The patient, a 65-year-old retired woman with ...   \n",
       "1  22289537  The patient, a 65-year-old female with a histo...   \n",
       "2  22988214  The patient was treated with an ace bandage to...   \n",
       "3  25498079  The patient was treated with a CT scan and adm...   \n",
       "4  22887667  The patient was treated with ciprofloxicin 400...   \n",
       "\n",
       "                                    major_procedures  \\\n",
       "0  The major surgical, invasive, or diagnostic, o...   \n",
       "1  The patient did not undergo any major surgical...   \n",
       "2  The major surgical, invasive, or diagnostic, o...   \n",
       "3  The major surgical, invasive, or diagnostic, o...   \n",
       "4  The patient did not undergo any major surgical...   \n",
       "\n",
       "                                         med_changes  \\\n",
       "0  The changes to the patient's medications were ...   \n",
       "1  The changes to the patient's medications were ...   \n",
       "2  The changes to the patient's medications were ...   \n",
       "3  The changes to the patient's medications were ...   \n",
       "4  The changes to the patient's medications were ...   \n",
       "\n",
       "                                              med_tx  \\\n",
       "0  During this hospital admission, the patient wa...   \n",
       "1  During this hospital admission, the patient wa...   \n",
       "2  During this hospital admission, the patient wa...   \n",
       "3  The patient did not receive any new medication...   \n",
       "4  During this hospital admission, the patient wa...   \n",
       "\n",
       "                                      initial_workup  \\\n",
       "0  The initial diagnostic workup included cardiac...   \n",
       "1  The initial diagnostic workup included a CT ch...   \n",
       "2  The initial diagnostic workup and pertinent re...   \n",
       "3  The initial diagnostic work up included liver ...   \n",
       "4  The initial diagnostic workup included a urina...   \n",
       "\n",
       "                                reason_for_admission  \\\n",
       "0  The patient was admitted to the hospital due t...   \n",
       "1  The patient was admitted to the hospital due t...   \n",
       "2  The patient was admitted to the hospital due t...   \n",
       "3  The patient was admitted to the hospital due t...   \n",
       "4  The patient was admitted to the hospital due t...   \n",
       "\n",
       "                                        relevant_pmh  \\\n",
       "0  Ms. ___ was admitted to the hospital due to ch...   \n",
       "1  Ms. ___ was admitted to the hospital due to a ...   \n",
       "2  The patient's major medical conditions include...   \n",
       "3  The patient's major medical conditions include...   \n",
       "4  The patient's major medical conditions include...   \n",
       "\n",
       "                                      acute_problems  \\\n",
       "0  The patient was treated for Non-ST Elevation M...   \n",
       "1  The patient was treated for rib fractures, spe...   \n",
       "2  The patient was treated for a non-traumatic he...   \n",
       "3  The patient was treated for a Pruritic Disorde...   \n",
       "4  The patient was treated for urinary tract infe...   \n",
       "\n",
       "                                    ongoing_problems  \\\n",
       "0  The patient had existing or ongoing medical co...   \n",
       "1  Based on the admission medication list, the pa...   \n",
       "2  The patient had existing or ongoing medical co...   \n",
       "3  The patient had existing or ongoing medical co...   \n",
       "4  The patient had hypertension, as evidenced by ...   \n",
       "\n",
       "                                   hospital_problems  \\\n",
       "0  The patient was treated for acute Non-ST Eleva...   \n",
       "1  The patient was treated for acute rib fracture...   \n",
       "2  The patient was treated for acute non-traumati...   \n",
       "3  The patient was treated for an Ampullary Mass ...   \n",
       "4  The patient was treated for acute urinary trac...   \n",
       "\n",
       "                               presentation_symptoms  \\\n",
       "0  The patient presented with chest pain that wok...   \n",
       "1  The patient presented with symptoms of lighthe...   \n",
       "2  The patient presented with symptoms of left le...   \n",
       "3  The patient presented with pruritus and dark u...   \n",
       "4  The patient presented with right flank pain, f...   \n",
       "\n",
       "                                  diagnostic_work_up  \\\n",
       "0  The diagnostic workup for acute Non-ST Elevati...   \n",
       "1  The diagnostic workup for the acute rib fractu...   \n",
       "2  The patient had the following acute medical co...   \n",
       "3  The diagnostic work-up for the acute medical c...   \n",
       "4  The diagnostic workup for the acute urinary tr...   \n",
       "\n",
       "                                    treatment_course  \\\n",
       "0  For the patient's acute medical condition of N...   \n",
       "1  The patient was treated for rib fractures with...   \n",
       "2  For each acute medical condition, the treatmen...   \n",
       "3  The patient was treated for a Pruritic Disorde...   \n",
       "4  The treatments for the acute medical condition...   \n",
       "\n",
       "                                         rec_work_up  \\\n",
       "0  The recommended diagnostic work-up for this pa...   \n",
       "1  The recommended diagnostic work-up for this pa...   \n",
       "2  The recommended diagnostic work-up for this pa...   \n",
       "3  The recommended diagnostic work-up is a CT sca...   \n",
       "4  The recommended diagnostic work-up for this pa...   \n",
       "\n",
       "                                     pending_results  \\\n",
       "0  Yes, there are pending results. The CBC (Compl...   \n",
       "1  Yes, there are pending results. The patient ne...   \n",
       "2  Yes, there are pending results, specifically a...   \n",
       "3  Yes, there are pending results. The pathology ...   \n",
       "4  Yes, there are pending results. The blood and ...   \n",
       "\n",
       "                                         bhc_summary  \n",
       "0  Ms. ___ was admitted to the hospital due to ch...  \n",
       "1  Ms. ___ was admitted to the hospital due to a ...  \n",
       "2  The patient has a relevant past medical histor...  \n",
       "3  The patient was admitted to the hospital due t...  \n",
       "4  The patient has a relevant past medical histor...  "
      ]
     },
     "execution_count": 17,
     "metadata": {},
     "output_type": "execute_result"
    }
   ],
   "source": [
    "bhc_df_5.to_csv(\"bhc_variables_df_5.csv\",index=False)\n",
    "bhc_df_5"
   ]
  },
  {
   "cell_type": "code",
   "execution_count": 54,
   "id": "4a395b7d-d673-4b9b-97ed-b02f25335737",
   "metadata": {
    "collapsed": true,
    "jupyter": {
     "outputs_hidden": true
    },
    "tags": []
   },
   "outputs": [
    {
     "name": "stdout",
     "output_type": "stream",
     "text": [
      "1 of 10962, 0.009122422915526365% hadm_id: 28723315 **********\n",
      "\n",
      "\n",
      "631\n"
     ]
    },
    {
     "name": "stderr",
     "output_type": "stream",
     "text": [
      "\n",
      "Processed prompts:   0%|          | 0/1 [00:00<?, ?it/s, est. speed input: 0.00 toks/s, output: 0.00 toks/s]\u001b[A\n",
      "Processed prompts: 100%|██████████| 1/1 [00:02<00:00,  2.64s/it, est. speed input: 239.56 toks/s, output: 81.24 toks/s]\u001b[A\n"
     ]
    },
    {
     "name": "stdout",
     "output_type": "stream",
     "text": [
      "The patient was treated with a stress echo test, which revealed inducible ischemia and severe aortic insufficiency. The diagnostic workup included an echocardiography, which showed 4+ aortic regurgitation, and a CTA chest, which was negative for aortic dissection. The patient was admitted to the cardiology service for further management. The patient's symptoms were managed with treatment for his new diagnosis. The patient's review of systems was negative for any prior history of deep venous thrombosis, pulmonary embolism, bleeding at the time of surgery, cough, hemoptysis, black stools or red stools. The patient denied recent fevers, chills or rigors, and denied exertional buttock or calf pain. All other review of systems were negative. The patient's cardiac review of systems was notable for absence of dyspnea on exertion, paroxysmal nocturnal dyspnea, orthopnea, ankle edema, palpitations, syncope or presyncope. \n",
      "395\n"
     ]
    },
    {
     "name": "stderr",
     "output_type": "stream",
     "text": [
      "\n",
      "Processed prompts:   0%|          | 0/1 [00:00<?, ?it/s, est. speed input: 0.00 toks/s, output: 0.00 toks/s]\u001b[A\n",
      "Processed prompts: 100%|██████████| 1/1 [00:00<00:00,  1.54it/s, est. speed input: 608.10 toks/s, output: 78.51 toks/s]\u001b[A\n"
     ]
    },
    {
     "name": "stdout",
     "output_type": "stream",
     "text": [
      "The patient did not undergo any major surgical, invasive, or diagnostic, or therapeutic procedures. However, the patient did undergo a stress echo test, echocardiography, and a CTA chest as part of their diagnostic workup. \n",
      "1004\n"
     ]
    },
    {
     "name": "stderr",
     "output_type": "stream",
     "text": [
      "\n",
      "Processed prompts:   0%|          | 0/1 [00:00<?, ?it/s, est. speed input: 0.00 toks/s, output: 0.00 toks/s]\u001b[A\n",
      "Processed prompts: 100%|██████████| 1/1 [00:25<00:00, 25.20s/it, est. speed input: 39.84 toks/s, output: 81.27 toks/s]\u001b[A\n"
     ]
    },
    {
     "name": "stdout",
     "output_type": "stream",
     "text": [
      "The changes to the patient's medications were:\n",
      "New medications: Lisinopril 5 mg PO DAILY\n",
      "Stopped medications: Diltiazem Extended-Release 120 mg PO DAILY (held for SBP < 100) and Glutamine ___ mg PO BID (dosage not specified) and Pravastatin 5 mg PO DAILY (although it was continued, it was not present in the admission list) and phosphatidylcholine (bulk) *NF* 97 % Miscellaneous daily (although it was continued, it was not present in the admission list) and Glucosamine-Chondroitin Complx *NF* ___ sod-vit C-Mn;<br>glucosamine-chondroit-vit C-Mn) 500-400 mg Oral daily (although it was continued, it was not present in the admission list) and Magnesium Citrate 800 mg PO QHS (although it was continued, it was not present in the admission list) and Guaifenesin 600 mg PO DAILY (although it was continued, it was not present in the admission list) and Pravastatin 5 mg PO DAILY (although it was continued, it was not present in the admission list) and phosphatidylcholine (bulk) *NF* 97 % Miscellaneous daily (although it was continued, it was not present in the admission list) and Glucosamine-Chondroitin Complx *NF* ___ sod-vit C-Mn;<br>glucosamine-chondroit-vit C-Mn) 500-400 mg Oral daily (although it was continued, it was not present in the admission list) and Magnesium Citrate 800 mg PO QHS (although it was continued, it was not present in the admission list) and Guaifenesin 600 mg PO DAILY (although it was continued, it was not present in the admission list) and Pravastatin 5 mg PO DAILY (although it was continued, it was not present in the admission list) and phosphatidylcholine (bulk) *NF* 97 % Miscellaneous daily (although it was continued, it was not present in the admission list) and Glucosamine-Chondroitin Complx *NF* ___ sod-vit C-Mn;<br>glucosamine-chondroit-vit C-Mn) 500-400 mg Oral daily (although it was continued, it was not present in the admission list) and Magnesium Citrate 800 mg PO QHS (although it was continued, it was not present in the admission list) and Guaifenesin 600 mg PO DAILY (although it was continued, it was not present in the admission list) and Pravastatin 5 mg PO DAILY (although it was continued, it was not present in the admission list) and phosphatidylcholine (bulk) *NF* 97 % Miscellaneous daily (although it was continued, it was not present in the admission list) and Glucosamine-Chondroitin Complx *NF* ___ sod-vit C-Mn;<br>glucosamine-chondroit-vit C-Mn) 500-400 mg Oral daily (although it was continued, it was not present in the admission list) and Magnesium Citrate 800 mg PO QHS (although it was continued, it was not present in the admission list) and Guaifenesin 600 mg PO DAILY (although it was continued, it was not present in the admission list) and Pravastatin 5 mg PO DAILY (although it was continued, it was not present in the admission list) and phosphatidylcholine (bulk) *NF* 97 % Miscellaneous daily (although it was continued, it was not present in the admission list) and Glucosamine-Chondroitin Complx *NF* ___ sod-vit C-Mn;<br>glucosamine-chondroit-vit C-Mn) 500-400 mg Oral daily (although it was continued, it was not present in the admission list) and Magnesium Citrate 800 mg PO QHS (although it was continued, it was not present in the admission list) and Guaifenesin 600 mg PO DAILY (although it was continued, it was not present in the admission list) and Pravastatin 5 mg PO DAILY (although it was continued, it was not present in the admission list) and phosphatidylcholine (bulk) *NF* 97 % Miscellaneous daily (although it was continued, it was not present in the admission list) and Glucosamine-Chondroitin Complx *NF* ___ sod-vit C-Mn;<br>glucosamine-chondroit-vit C-Mn) 500-400 mg Oral daily (although it was continued, it was not present in the admission list) and Magnesium Citrate 800 mg PO QHS (although it was continued, it was not present in the admission list) and Guaifenesin 600 mg PO DAILY (although it was continued, it was not present in the admission list) and Pravastatin 5 mg PO DAILY (although it was continued, it was not present in the admission list) and phosphatidylcholine (bulk) *NF* 97 % Miscellaneous daily (although it was continued, it was not present in the admission list) and Glucosamine-Chondroitin Complx *NF* ___ sod-vit C-Mn;<br>glucosamine-chondroit-vit C-Mn) 500-400 mg Oral daily (although it was continued, it was not present in the admission list) and Magnesium Citrate 800 mg PO QHS (although it was continued, it was not present in the admission list) and Guaifenesin 600 mg PO DAILY (although it was continued, it was not present in the admission list) and Pravastatin 5 mg PO DAILY (although it was continued, it was not present in the admission list) and phosphatidylcholine (bulk) *NF* 97 % Miscellaneous daily (although it was continued, it was not present in the admission list) and Glucosamine-Chondroitin Complx *NF* ___ sod-vit C-Mn;<br>glucosamine-chondroit-vit C-Mn) 500-400 mg Oral daily (although it was continued, it was not present in the admission list) and Magnesium Citrate 800 mg PO QHS (although it was continued, it was not present in the admission list) and Guaifenesin 600 mg PO DAILY (although it was continued, it was not present in the admission list) and Pravastatin 5 mg PO DAILY (although it was continued, it was not present in the admission list) and phosphatidylcholine (bulk) *NF* 97 % Miscellaneous daily (although it was continued, it was not present in the admission list) and Glucosamine-Chondroitin Complx *NF* ___ sod-vit C-Mn;<br>glucosamine-chondroit-vit C-Mn) 500-400 mg Oral daily (although it was continued, it was not present in the admission list) and Magnesium Citrate 800 mg PO QHS (although it was continued, it was not present in the admission list) and Guaifenesin 600 mg PO DAILY (although it was continued, it was not present in the admission list) and Pravastatin 5 mg PO DAILY (although it was continued, it was not present in the admission list) and phosphatidylcholine (bulk) *NF* 97 % Miscellaneous daily (although it was continued, it was not present in the admission list) and Glucosamine-Chondroitin Complx *NF* ___ sod-vit C-Mn;<br>glucosamine-chondroit-vit C-Mn) 500-400 mg Oral daily (although it was continued, it was not present in the admission list) and Magnesium Citrate 800 mg PO QHS (although it was continued, it was not present in the admission list) and Guaifenesin 600 mg PO DAILY (although it was continued, it was not present in the admission list) and Pravastatin 5 mg PO DAILY (although it was continued, it was not present in the admission list) and phosphatidylcholine (bulk) *NF* 97 % Miscellaneous daily (although it was continued, it was not present in the admission list) and Glucosamine-Chondroitin Complx *NF* ___ sod-vit C-Mn;<br>glucosamine-chondroit-vit C-Mn) 500-400 mg Oral daily (although it was continued, it was not present in the admission list) and Magnesium Citrate 800 mg PO QHS (although it was continued, it was not present in the admission list) and Guaifenesin 600 mg PO DAILY (although it was continued, it was not present in the admission list) and Pravastatin 5 mg PO DAILY (although it was continued, it was not present in the admission list) and phosphatidylcholine (bulk) *NF* 97 % Miscellaneous daily (although it was continued, it was not present in the admission list) and Glucosamine-Chondroitin Complx *NF* ___ sod-vit C-Mn;<br>glucosamine-chondroit-vit C-Mn) 500-400 mg Oral daily (\n",
      "2695\n"
     ]
    },
    {
     "name": "stderr",
     "output_type": "stream",
     "text": [
      "\n",
      "Processed prompts:   0%|          | 0/1 [00:00<?, ?it/s, est. speed input: 0.00 toks/s, output: 0.00 toks/s]\u001b[A\n",
      "Processed prompts: 100%|██████████| 1/1 [00:01<00:00,  1.97s/it, est. speed input: 1368.12 toks/s, output: 74.12 toks/s]\u001b[A\n"
     ]
    },
    {
     "name": "stdout",
     "output_type": "stream",
     "text": [
      "During this hospital admission, the patient was treated with Lisinopril 5 mg PO DAILY, which is a new medication. The patient's previous medications, Diltiazem Extended-Release 120 mg PO DAILY, Glutamine ___ mg PO BID, Pravastatin 5 mg PO DAILY, phosphatidylcholine (bulk) *NF* 97 % Miscellaneous daily, Glucosamine-Chondroitin Complx *NF* ___ sod-vit C-Mn, Magnesium Citrate 800 mg PO QHS, and Guaifenesin 600 mg PO DAILY, were stopped or continued but not present in the admission list. \n",
      "634\n"
     ]
    },
    {
     "name": "stderr",
     "output_type": "stream",
     "text": [
      "\n",
      "Processed prompts:   0%|          | 0/1 [00:00<?, ?it/s, est. speed input: 0.00 toks/s, output: 0.00 toks/s]\u001b[A\n",
      "Processed prompts: 100%|██████████| 1/1 [00:01<00:00,  1.02s/it, est. speed input: 620.42 toks/s, output: 79.26 toks/s]\u001b[A\n"
     ]
    },
    {
     "name": "stdout",
     "output_type": "stream",
     "text": [
      "The initial diagnostic workup included a stress echo, which revealed inducible ischemia and severe aortic insufficiency. Pertinent results from the stress echo include evidence of inducible ischemia and 4+ aortic regurgitation. Additionally, the patient's EKG showed ST changes during the stress test. The CTA chest was negative for aortic dissection. \n",
      "732\n"
     ]
    },
    {
     "name": "stderr",
     "output_type": "stream",
     "text": [
      "\n",
      "Processed prompts:   0%|          | 0/1 [00:00<?, ?it/s, est. speed input: 0.00 toks/s, output: 0.00 toks/s]\u001b[A\n",
      "Processed prompts: 100%|██████████| 1/1 [00:01<00:00,  1.42s/it, est. speed input: 516.51 toks/s, output: 79.73 toks/s]\u001b[A\n"
     ]
    },
    {
     "name": "stdout",
     "output_type": "stream",
     "text": [
      "The patient was admitted to the hospital due to an abnormal stress test, which revealed evidence of inducible ischemia and severe aortic insufficiency. The patient developed left shoulder pain and ST changes on EKG during the stress test, which led to his admission to the emergency department and subsequent admission to the cardiology service for further management. The symptoms and medical condition that caused the patient to come to the hospital were the abnormal stress test results, which indicated a severe aortic insufficiency and inducible ischemia, requiring further evaluation and management.\n",
      "641\n"
     ]
    },
    {
     "name": "stderr",
     "output_type": "stream",
     "text": [
      "\n",
      "Processed prompts:   0%|          | 0/1 [00:00<?, ?it/s, est. speed input: 0.00 toks/s, output: 0.00 toks/s]\u001b[A\n",
      "Processed prompts: 100%|██████████| 1/1 [00:01<00:00,  1.39s/it, est. speed input: 462.29 toks/s, output: 80.05 toks/s]\u001b[A\n"
     ]
    },
    {
     "name": "stdout",
     "output_type": "stream",
     "text": [
      "The patient's major medical conditions include coronary artery disease (CAD) with a history of percutaneous coronary intervention (PCI) to the left anterior descending (LAD) artery. The patient was admitted to the hospital due to the discovery of inducible ischemia and severe aortic insufficiency during a routine stress echocardiogram. The patient's symptoms included left shoulder pain and ST changes on EKG during the stress test, which resolved after the test. The patient was admitted to the cardiology service for further management of his condition.\n",
      "716\n"
     ]
    },
    {
     "name": "stderr",
     "output_type": "stream",
     "text": [
      "\n",
      "Processed prompts:   0%|          | 0/1 [00:00<?, ?it/s, est. speed input: 0.00 toks/s, output: 0.00 toks/s]\u001b[A\n",
      "Processed prompts: 100%|██████████| 1/1 [00:00<00:00,  1.18it/s, est. speed input: 845.39 toks/s, output: 77.93 toks/s]\u001b[A\n"
     ]
    },
    {
     "name": "stdout",
     "output_type": "stream",
     "text": [
      "The patient was treated for Aortic Regurgitation, Aortic Stenosis, and Coronary Artery Disease during their hospital admission. They also experienced symptoms of inducible ischemia and severe aortic insufficiency. Additionally, they had a history of CAD with a previous DES to LAD. \n",
      "987\n"
     ]
    },
    {
     "name": "stderr",
     "output_type": "stream",
     "text": [
      "\n",
      "Processed prompts:   0%|          | 0/1 [00:00<?, ?it/s, est. speed input: 0.00 toks/s, output: 0.00 toks/s]\u001b[A\n",
      "Processed prompts: 100%|██████████| 1/1 [00:03<00:00,  3.21s/it, est. speed input: 307.39 toks/s, output: 80.04 toks/s]\u001b[A\n"
     ]
    },
    {
     "name": "stdout",
     "output_type": "stream",
     "text": [
      "Based on the admission medication list, the patient had existing or ongoing medical conditions including hypertension (as indicated by the use of medications such as Lisinopril), hyperlipidemia (as indicated by the use of medications such as Pravastatin), and possibly cardiovascular disease (as indicated by the use of medications such as Nitroglycerin SL and Diltiazem Extended-Release). Additionally, the patient may have had conditions related to the use of medications such as omega-3 fatty acids-vitamin E, arginine (L-arginine), and lysine, which are often used to treat conditions such as high cholesterol, heart disease, and osteoporosis. The patient may also have had conditions related to the use of medications such as budesonide, which is often used to treat conditions such as asthma and chronic obstructive pulmonary disease (COPD). Furthermore, the patient may have had conditions related to the use of medications such as glucosamine-chondroitin complex, which is often used to treat conditions such as osteoarthritis. Finally, the patient may have had conditions related to the use of medications such as vitamin D and vitamin E, which are often used to treat conditions such as osteoporosis and other bone-related disorders.\n",
      "490\n"
     ]
    },
    {
     "name": "stderr",
     "output_type": "stream",
     "text": [
      "\n",
      "Processed prompts:   0%|          | 0/1 [00:00<?, ?it/s, est. speed input: 0.00 toks/s, output: 0.00 toks/s]\u001b[A\n",
      "Processed prompts: 100%|██████████| 1/1 [00:00<00:00,  1.14it/s, est. speed input: 557.54 toks/s, output: 79.65 toks/s]\u001b[A\n"
     ]
    },
    {
     "name": "stdout",
     "output_type": "stream",
     "text": [
      "The patient was treated for acute Aortic Regurgitation, Aortic Stenosis, and Coronary Artery Disease during their hospital admission. The patient also had chronic medical conditions including hypertension, hyperlipidemia, and possibly cardiovascular disease. Additionally, the patient had a history of CAD with a previous DES to LAD. \n",
      "706\n"
     ]
    },
    {
     "name": "stderr",
     "output_type": "stream",
     "text": [
      "\n",
      "Processed prompts:   0%|          | 0/1 [00:00<?, ?it/s, est. speed input: 0.00 toks/s, output: 0.00 toks/s]\u001b[A\n",
      "Processed prompts: 100%|██████████| 1/1 [00:00<00:00,  1.21it/s, est. speed input: 858.72 toks/s, output: 77.84 toks/s]\u001b[A\n"
     ]
    },
    {
     "name": "stdout",
     "output_type": "stream",
     "text": [
      "The patient presented with symptoms of left shoulder pain, similar to previous anginal pains, and ST changes on EKG during the stress test. The severity of these symptoms was moderate to severe, as they developed during exercise and were accompanied by inducible ischemia and severe aortic insufficiency. \n",
      "315\n"
     ]
    },
    {
     "name": "stderr",
     "output_type": "stream",
     "text": [
      "\n",
      "Processed prompts:   0%|          | 0/1 [00:00<?, ?it/s, est. speed input: 0.00 toks/s, output: 0.00 toks/s]\u001b[A\n",
      "Processed prompts: 100%|██████████| 1/1 [00:01<00:00,  1.30s/it, est. speed input: 241.57 toks/s, output: 81.29 toks/s]\u001b[A\n"
     ]
    },
    {
     "name": "stdout",
     "output_type": "stream",
     "text": [
      "The diagnostic workup for acute Aortic Regurgitation included a stress echo, which revealed 4+ aortic regurgitation. The related results were evidence of inducible ischemia and severe aortic insufficiency. For Aortic Stenosis, the diagnostic workup was not specified in the provided data. For Coronary Artery Disease, the diagnostic workup included a stress echo, which revealed inducible ischemia. The related results were evidence of inducible ischemia. \n",
      "\n",
      "\n",
      "2678\n"
     ]
    },
    {
     "name": "stderr",
     "output_type": "stream",
     "text": [
      "\n",
      "Processed prompts:   0%|          | 0/1 [00:00<?, ?it/s, est. speed input: 0.00 toks/s, output: 0.00 toks/s]\u001b[A\n",
      "Processed prompts: 100%|██████████| 1/1 [00:02<00:00,  2.11s/it, est. speed input: 1267.43 toks/s, output: 74.78 toks/s]\u001b[A\n"
     ]
    },
    {
     "name": "stdout",
     "output_type": "stream",
     "text": [
      "For each acute medical condition, the treatments were:\n",
      "* Aortic Regurgitation: Lisinopril 5 mg PO DAILY\n",
      "* Aortic Stenosis: Lisinopril 5 mg PO DAILY\n",
      "* Coronary Artery Disease: Lisinopril 5 mg PO DAILY\n",
      "* Inducible Ischemia: Lisinopril 5 mg PO DAILY\n",
      "* Severe Aortic Insufficiency: Lisinopril 5 mg PO DAILY\n",
      "\n",
      "Note: The patient's previous medications were stopped or continued but not present in the admission list, and the patient did not undergo any major surgical, invasive, or diagnostic, or therapeutic procedures. The treatments listed above are based on the new medications added during the hospital admission.\n",
      "639\n"
     ]
    },
    {
     "name": "stderr",
     "output_type": "stream",
     "text": [
      "\n",
      "Processed prompts:   0%|          | 0/1 [00:00<?, ?it/s, est. speed input: 0.00 toks/s, output: 0.00 toks/s]\u001b[A\n",
      "Processed prompts: 100%|██████████| 1/1 [00:01<00:00,  1.66s/it, est. speed input: 385.23 toks/s, output: 80.78 toks/s]\u001b[A\n"
     ]
    },
    {
     "name": "stdout",
     "output_type": "stream",
     "text": [
      "The recommended diagnostic work-up for this patient includes further evaluation of the aortic insufficiency, including a transesophageal echocardiogram (TEE) to assess the severity of the regurgitation and to rule out any other potential causes of the symptoms. Additionally, a cardiac MRI may be considered to further evaluate the extent of the aortic insufficiency and to assess for any other cardiac abnormalities. A stress test with imaging may also be repeated to further evaluate the extent of the inducible ischemia. Finally, a cardiology consultation may be recommended to further evaluate the patient's symptoms and to develop a plan for management and treatment. \n",
      "249\n"
     ]
    },
    {
     "name": "stderr",
     "output_type": "stream",
     "text": [
      "\n",
      "Processed prompts:   0%|          | 0/1 [00:00<?, ?it/s, est. speed input: 0.00 toks/s, output: 0.00 toks/s]\u001b[A\n",
      "Processed prompts: 100%|██████████| 1/1 [00:00<00:00,  2.13it/s, est. speed input: 532.73 toks/s, output: 79.16 toks/s]\u001b[A\n"
     ]
    },
    {
     "name": "stdout",
     "output_type": "stream",
     "text": [
      "Yes, there are pending results. The patient is scheduled to follow-up with his cardiologist to discuss his stress test and further workup of his new Aortic Insufficiency.\n",
      "1065\n"
     ]
    },
    {
     "name": "stderr",
     "output_type": "stream",
     "text": [
      "\n",
      "Processed prompts:   0%|          | 0/1 [00:00<?, ?it/s, est. speed input: 0.00 toks/s, output: 0.00 toks/s]\u001b[A\n",
      "Processed prompts: 100%|██████████| 1/1 [00:10<00:00, 10.66s/it, est. speed input: 99.92 toks/s, output: 81.06 toks/s]\u001b[A\n"
     ]
    },
    {
     "name": "stdout",
     "output_type": "stream",
     "text": [
      "The patient has a relevant past medical history of coronary artery disease (CAD) with a history of percutaneous coronary intervention (PCI) to the left anterior descending (LAD) artery. He was admitted to the hospital due to an abnormal stress test, which revealed evidence of inducible ischemia and severe aortic insufficiency. The patient was admitted to the cardiology service for further management of his condition. The patient's symptoms included left shoulder pain and ST changes on EKG during the stress test, which resolved after the test.\n",
      "\n",
      "The patient's acute medical conditions include Aortic Regurgitation, Aortic Stenosis, Coronary Artery Disease, Inducible Ischemia, and Severe Aortic Insufficiency. For Aortic Regurgitation, the presenting symptom was left shoulder pain, similar to previous anginal pains, and ST changes on EKG during the stress test. The severity was moderate to severe. The differential diagnosis included Aortic Regurgitation, and the diagnostic workup included a stress echo, which revealed 4+ aortic regurgitation. The related results were evidence of inducible ischemia and severe aortic insufficiency. The treatments were Lisinopril 5 mg PO DAILY.\n",
      "\n",
      "For Aortic Stenosis, the presenting symptom was not specified in the provided data. The severity was not specified. The diagnostic workup was not specified in the provided data. The treatments were Lisinopril 5 mg PO DAILY.\n",
      "\n",
      "For Coronary Artery Disease, the presenting symptom was left shoulder pain, similar to previous anginal pains, and ST changes on EKG during the stress test. The severity was moderate to severe. The differential diagnosis included Coronary Artery Disease, and the diagnostic workup included a stress echo, which revealed inducible ischemia. The related results were evidence of inducible ischemia. The treatments were Lisinopril 5 mg PO DAILY.\n",
      "\n",
      "For Inducible Ischemia, the presenting symptom was left shoulder pain, similar to previous anginal pains, and ST changes on EKG during the stress test. The severity was moderate to severe. The differential diagnosis included Inducible Ischemia, and the diagnostic workup included a stress echo, which revealed inducible ischemia. The related results were evidence of inducible ischemia. The treatments were Lisinopril 5 mg PO DAILY.\n",
      "\n",
      "For Severe Aortic Insufficiency, the presenting symptom was left shoulder pain, similar to previous anginal pains, and ST changes on EKG during the stress test. The severity was moderate to severe. The differential diagnosis included Severe Aortic Insufficiency, and the diagnostic workup included a stress echo, which revealed severe aortic insufficiency. The related results were evidence of inducible ischemia and severe aortic insufficiency. The treatments were Lisinopril 5 mg PO DAILY.\n",
      "\n",
      "The patient's physical exam findings included left shoulder pain and ST changes on EKG during the stress test. The pertinent lab work included a stress echo, which revealed inducible ischemia and severe aortic insufficiency. The radiology and imaging studies included a stress echo, which revealed 4+ aortic regurgitation. The cardiac studies included a stress echo, which revealed inducible ischemia.\n",
      "\n",
      "There are pending results, and the patient is scheduled to follow-up with his cardiologist to discuss his stress test and further workup of his new Aortic Insufficiency. The recommended follow-up includes further evaluation of the aortic insufficiency, including a transesophageal echocardiogram (TEE) to assess the severity of the regurgitation and to rule out any other potential causes of the symptoms. Additionally, a cardiac MRI may be considered to further evaluate the extent of the aortic insufficiency and to assess for any other cardiac abnormalities. A stress test with imaging may also be repeated to further evaluate the extent of the inducible ischemia. Finally, a cardiology consultation may be recommended to further evaluate the patient's symptoms and to develop a plan for management and treatment. The patient received Lisinopril 5 mg PO DAILY related to each medical condition.\n",
      "Time taken for generate_bhc: 56.35283350944519 seconds.\n",
      "2 of 10962, 0.01824484583105273% hadm_id: 22218665 **********\n",
      "\n",
      "\n",
      "697\n"
     ]
    },
    {
     "name": "stderr",
     "output_type": "stream",
     "text": [
      "\n",
      "Processed prompts:   0%|          | 0/1 [00:00<?, ?it/s, est. speed input: 0.00 toks/s, output: 0.00 toks/s]\u001b[A\n",
      "Processed prompts: 100%|██████████| 1/1 [00:01<00:00,  1.49s/it, est. speed input: 468.56 toks/s, output: 80.00 toks/s]\u001b[A\n"
     ]
    },
    {
     "name": "stdout",
     "output_type": "stream",
     "text": [
      "The patient was treated with IV fluids to raise his blood pressure, and a Foley catheter was placed to obtain a urine sample. He was also started on a CIWA scale with diazepam due to his anxiety. The diagnostic workup included an EKG, which showed SR at 103, IV delay, QTc 451, and QRS changes. Additionally, his CK and Cr levels were monitored, and he received IV fluids to help manage his condition. The patient's vital signs were closely monitored, and he was transferred to the MICU for further care. \n",
      "311\n"
     ]
    },
    {
     "name": "stderr",
     "output_type": "stream",
     "text": [
      "\n",
      "Processed prompts:   0%|          | 0/1 [00:00<?, ?it/s, est. speed input: 0.00 toks/s, output: 0.00 toks/s]\u001b[A\n",
      "Processed prompts: 100%|██████████| 1/1 [00:00<00:00,  1.52it/s, est. speed input: 474.44 toks/s, output: 79.33 toks/s]\u001b[A\n"
     ]
    },
    {
     "name": "stdout",
     "output_type": "stream",
     "text": [
      "There were no major surgical or invasive procedures during hospitalization. However, the patient underwent a diagnostic workup that included an EKG, and he received various treatments such as IV fluids, a Foley catheter, and medication for his anxiety. \n",
      "484\n"
     ]
    },
    {
     "name": "stderr",
     "output_type": "stream",
     "text": [
      "\n",
      "Processed prompts:   0%|          | 0/1 [00:00<?, ?it/s, est. speed input: 0.00 toks/s, output: 0.00 toks/s]\u001b[A\n",
      "Processed prompts: 100%|██████████| 1/1 [00:00<00:00,  1.09it/s, est. speed input: 528.87 toks/s, output: 79.77 toks/s]\u001b[A\n"
     ]
    },
    {
     "name": "stdout",
     "output_type": "stream",
     "text": [
      "The changes to the patient's medications were the addition of ATRIPLA (efavirenz-emtricitabin-tenofov) and FoLIC Acid, and the discontinuation of Ibuprofen. The new medications were ATRIPLA and FoLIC Acid. The medications that were stopped were Ibuprofen.  \n",
      "782\n"
     ]
    },
    {
     "name": "stderr",
     "output_type": "stream",
     "text": [
      "\n",
      "Processed prompts:   0%|          | 0/1 [00:00<?, ?it/s, est. speed input: 0.00 toks/s, output: 0.00 toks/s]\u001b[A\n",
      "Processed prompts: 100%|██████████| 1/1 [00:02<00:00,  2.24s/it, est. speed input: 349.95 toks/s, output: 80.10 toks/s]\u001b[A\n"
     ]
    },
    {
     "name": "stdout",
     "output_type": "stream",
     "text": [
      "During this hospital admission, the patient was treated with medications and IV therapies to manage his symptoms and condition. According to the medical records, the patient was started on diazepam for anxiety, and he received IV fluids (2L of NS) to raise his blood pressure. Additionally, a Foley catheter was placed to collect urine, and he was given a CIWA scale to manage his anxiety. The patient was also treated with ATRIPLA (efavirenz-emtricitabin-tenofov) and FoLIC Acid, which were new medications added during this admission. Ibuprofen was discontinued. There is no mention of IV therapies other than IV fluids. Therefore, the medications or IV therapies used to treat the patient during this hospital admission were diazepam, IV fluids, ATRIPLA, and FoLIC Acid. Ibuprofen was discontinued.\n",
      "700\n"
     ]
    },
    {
     "name": "stderr",
     "output_type": "stream",
     "text": [
      "\n",
      "Processed prompts:   0%|          | 0/1 [00:00<?, ?it/s, est. speed input: 0.00 toks/s, output: 0.00 toks/s]\u001b[A\n",
      "Processed prompts: 100%|██████████| 1/1 [00:01<00:00,  1.38s/it, est. speed input: 507.91 toks/s, output: 79.81 toks/s]\u001b[A\n"
     ]
    },
    {
     "name": "stdout",
     "output_type": "stream",
     "text": [
      "The initial diagnostic workup included an electrocardiogram (EKG) and laboratory tests, including a complete blood count (CBC), creatinine (Cr), lactate, and cardiac enzymes (CK). The pertinent results were: SR@103, IV delay, QTc451, QRS changes on EKG; CK 7666, Cr 3.2, lactate 3.6 initially, and CK 6821, Cr 2.5, lactate 2.6 after receiving IV fluids. \n",
      "803\n"
     ]
    },
    {
     "name": "stderr",
     "output_type": "stream",
     "text": [
      "\n",
      "Processed prompts:   0%|          | 0/1 [00:00<?, ?it/s, est. speed input: 0.00 toks/s, output: 0.00 toks/s]\u001b[A\n",
      "Processed prompts: 100%|██████████| 1/1 [00:01<00:00,  1.73s/it, est. speed input: 465.75 toks/s, output: 79.46 toks/s]\u001b[A\n"
     ]
    },
    {
     "name": "stdout",
     "output_type": "stream",
     "text": [
      "The patient was admitted to the hospital due to a chief complaint of benztropine ingestion, which was reportedly taken in an attempt to end his life. The patient had a history of HIV infection, hypertension, and a prior episode of self-harm. He presented to the emergency department after taking 40 to 150 tablets of benztropine and was brought in by EMS. The patient's symptoms and medical condition, including the ingestion of a large quantity of benztropine, caused him to come to the hospital. The patient's intent to end his life and the subsequent ingestion of the medication led to his admission to the hospital for treatment and management of the overdose.\n",
      "707\n"
     ]
    },
    {
     "name": "stderr",
     "output_type": "stream",
     "text": [
      "\n",
      "Processed prompts:   0%|          | 0/1 [00:00<?, ?it/s, est. speed input: 0.00 toks/s, output: 0.00 toks/s]\u001b[A\n",
      "Processed prompts: 100%|██████████| 1/1 [00:01<00:00,  1.16s/it, est. speed input: 609.30 toks/s, output: 79.29 toks/s]\u001b[A\n"
     ]
    },
    {
     "name": "stdout",
     "output_type": "stream",
     "text": [
      "The patient's major medical conditions include HIV infection, hypertension, and schizoaffective disorder. He was admitted to the hospital after intentionally taking 40-150 tablets of benztropine and then drinking a pint of vodka, with the intent to end his life. The patient was brought to the emergency department (ED) after calling EMS and was subsequently transferred to the medical intensive care unit (MICU). The reason for admission was a suicide attempt.\n",
      "809\n"
     ]
    },
    {
     "name": "stderr",
     "output_type": "stream",
     "text": [
      "\n",
      "Processed prompts:   0%|          | 0/1 [00:00<?, ?it/s, est. speed input: 0.00 toks/s, output: 0.00 toks/s]\u001b[A\n",
      "Processed prompts: 100%|██████████| 1/1 [00:01<00:00,  1.01s/it, est. speed input: 803.13 toks/s, output: 77.43 toks/s]\u001b[A\n"
     ]
    },
    {
     "name": "stdout",
     "output_type": "stream",
     "text": [
      "The patient was treated for Benztropine Overdose, Hypotension, Acute Kidney Injury, Rhabdomyolysis, and Alcohol Withdrawal in the hospital. Additionally, the patient has a history of HIV infection, Hypertension, and Schizoaffective disorder. The patient also presented with symptoms of self-harm in the past. \n",
      "467\n"
     ]
    },
    {
     "name": "stderr",
     "output_type": "stream",
     "text": [
      "\n",
      "Processed prompts:   0%|          | 0/1 [00:00<?, ?it/s, est. speed input: 0.00 toks/s, output: 0.00 toks/s]\u001b[A\n",
      "Processed prompts: 100%|██████████| 1/1 [00:01<00:00,  1.81s/it, est. speed input: 258.73 toks/s, output: 81.44 toks/s]\u001b[A\n"
     ]
    },
    {
     "name": "stdout",
     "output_type": "stream",
     "text": [
      "The patient had existing or ongoing medical conditions related to hypertension (high blood pressure) due to the presence of Atenolol 75 mg PO DAILY in both the admission and discharge medication lists. Additionally, the patient had a history of pain management, as evidenced by the presence of Ibuprofen 800 mg PO Q8H:PRN pain in both lists. Furthermore, the patient had a history of gastrointestinal issues, as indicated by the presence of Omeprazole 40 mg PO DAILY in both lists. Finally, the patient had a history of mental health conditions, as evidenced by the presence of BuPROPion (Sustained Release) 150 mg PO BID in both lists. \n",
      "390\n"
     ]
    },
    {
     "name": "stderr",
     "output_type": "stream",
     "text": [
      "\n",
      "Processed prompts:   0%|          | 0/1 [00:00<?, ?it/s, est. speed input: 0.00 toks/s, output: 0.00 toks/s]\u001b[A\n",
      "Processed prompts: 100%|██████████| 1/1 [00:01<00:00,  1.24s/it, est. speed input: 314.79 toks/s, output: 80.71 toks/s]\u001b[A\n"
     ]
    },
    {
     "name": "stdout",
     "output_type": "stream",
     "text": [
      "The patient was treated for acute medical conditions including Benztropine Overdose, Hypotension, Acute Kidney Injury, Rhabdomyolysis, and Alcohol Withdrawal in the hospital. The patient also had chronic medical conditions including Hypertension, HIV infection, and Schizoaffective disorder. Additionally, the patient had a history of self-harm and pain management. The patient's ongoing medical conditions included hypertension, gastrointestinal issues, and mental health conditions. \n",
      "784\n"
     ]
    },
    {
     "name": "stderr",
     "output_type": "stream",
     "text": [
      "\n",
      "Processed prompts:   0%|          | 0/1 [00:00<?, ?it/s, est. speed input: 0.00 toks/s, output: 0.00 toks/s]\u001b[A\n",
      "Processed prompts: 100%|██████████| 1/1 [00:01<00:00,  1.49s/it, est. speed input: 525.60 toks/s, output: 79.11 toks/s]\u001b[A\n"
     ]
    },
    {
     "name": "stdout",
     "output_type": "stream",
     "text": [
      "The patient presented with symptoms of Benztropine overdose, including altered mental status, and symptoms of self-harm. The severity of these symptoms is not explicitly stated in the provided text, but it can be inferred that the patient's condition was severe enough to warrant hospitalization and treatment for Benztropine overdose, Hypotension, Acute Kidney Injury, Rhabdomyolysis, and Alcohol Withdrawal. The patient's history of HIV infection, Hypertension, and Schizoaffective disorder may have contributed to the severity of their condition. \n",
      "374\n"
     ]
    },
    {
     "name": "stderr",
     "output_type": "stream",
     "text": [
      "\n",
      "Processed prompts:   0%|          | 0/1 [00:00<?, ?it/s, est. speed input: 0.00 toks/s, output: 0.00 toks/s]\u001b[A\n",
      "Processed prompts: 100%|██████████| 1/1 [00:03<00:00,  3.46s/it, est. speed input: 108.11 toks/s, output: 82.39 toks/s]\u001b[A\n"
     ]
    },
    {
     "name": "stdout",
     "output_type": "stream",
     "text": [
      "The diagnostic workup for the acute medical conditions included the following:\n",
      "\n",
      "* Benztropine Overdose: The patient underwent an electrocardiogram (EKG) and laboratory tests, including a complete blood count (CBC), creatinine (Cr), lactate, and cardiac enzymes (CK). The results showed SR@103, IV delay, QTc451, QRS changes on EKG; CK 7666, Cr 3.2, lactate 3.6 initially, and CK 6821, Cr 2.5, lactate 2.6 after receiving IV fluids.\n",
      "* Hypotension: The patient's blood pressure was monitored, and the results showed a decrease in blood pressure.\n",
      "* Acute Kidney Injury: The patient's creatinine levels were elevated, with a value of 3.2 initially and 2.5 after receiving IV fluids.\n",
      "* Rhabdomyolysis: The patient's creatine kinase (CK) levels were elevated, with values of 7666 and 6821.\n",
      "* Alcohol Withdrawal: The patient's symptoms were managed with medication and supportive care.\n",
      "\n",
      "Please note that the response is based on the provided input text and data from the patient's medical records and clinical notes. The information provided is limited to the data available in the input text and may not be a comprehensive summary of the patient's medical condition. \n",
      "652\n"
     ]
    },
    {
     "name": "stderr",
     "output_type": "stream",
     "text": [
      "\n",
      "Processed prompts:   0%|          | 0/1 [00:00<?, ?it/s, est. speed input: 0.00 toks/s, output: 0.00 toks/s]\u001b[A\n",
      "Processed prompts: 100%|██████████| 1/1 [00:02<00:00,  2.04s/it, est. speed input: 319.44 toks/s, output: 80.84 toks/s]\u001b[A\n"
     ]
    },
    {
     "name": "stdout",
     "output_type": "stream",
     "text": [
      "The treatments for the acute medical conditions were:\n",
      "\n",
      "* Benztropine Overdose: IV fluids, diazepam\n",
      "* Hypotension: IV fluids\n",
      "* Acute Kidney Injury: IV fluids\n",
      "* Rhabdomyolysis: IV fluids\n",
      "* Alcohol Withdrawal: diazepam, CIWA scale\n",
      "* Anxiety: diazepam, CIWA scale\n",
      "* HIV infection: ATRIPLA (efavirenz-emtricitabin-tenofov)\n",
      "* Hypertension: IV fluids\n",
      "* Schizoaffective disorder: no specific treatment mentioned\n",
      "* Self-harm: no specific treatment mentioned\n",
      "\n",
      "Note: The treatments listed are based on the information provided in the input text and may not be a comprehensive list of all treatments received by the patient. \n",
      "705\n"
     ]
    },
    {
     "name": "stderr",
     "output_type": "stream",
     "text": [
      "\n",
      "Processed prompts:   0%|          | 0/1 [00:00<?, ?it/s, est. speed input: 0.00 toks/s, output: 0.00 toks/s]\u001b[A\n",
      "Processed prompts: 100%|██████████| 1/1 [00:02<00:00,  2.76s/it, est. speed input: 255.26 toks/s, output: 81.10 toks/s]\u001b[A\n"
     ]
    },
    {
     "name": "stdout",
     "output_type": "stream",
     "text": [
      "The recommended diagnostic work-up for this patient includes a comprehensive evaluation to assess the severity of the benztropine overdose, potential complications, and underlying medical conditions. This may include:\n",
      "\n",
      "* Electrolyte panel to monitor for potential electrolyte imbalances\n",
      "* Complete Blood Count (CBC) to assess for potential hematological complications\n",
      "* Blood chemistry panel to assess for potential liver and kidney damage\n",
      "* Urinalysis to assess for potential kidney damage and monitor for urine output\n",
      "* ECG to monitor for potential cardiac complications\n",
      "* Chest X-ray to assess for potential pulmonary complications\n",
      "* Abdominal imaging (e.g., CT or ultrasound) to assess for potential gastrointestinal complications\n",
      "* Psychiatric evaluation to assess for potential underlying psychiatric conditions and suicidal ideation\n",
      "* Neurological evaluation to assess for potential neurological complications\n",
      "\n",
      "It is also important to monitor the patient's vital signs, including blood pressure, heart rate, and oxygen saturation, and to provide supportive care as needed. Additionally, the patient's history of HIV infection and prior episode of self-harm should be taken into consideration when developing a treatment plan. \n",
      "172\n"
     ]
    },
    {
     "name": "stderr",
     "output_type": "stream",
     "text": [
      "\n",
      "Processed prompts:   0%|          | 0/1 [00:00<?, ?it/s, est. speed input: 0.00 toks/s, output: 0.00 toks/s]\u001b[A\n",
      "Processed prompts: 100%|██████████| 1/1 [00:00<00:00,  8.48it/s, est. speed input: 1470.62 toks/s, output: 68.39 toks/s]\u001b[A\n"
     ]
    },
    {
     "name": "stdout",
     "output_type": "stream",
     "text": [
      "Yes, there are pending results.\n",
      "1382\n"
     ]
    },
    {
     "name": "stderr",
     "output_type": "stream",
     "text": [
      "\n",
      "Processed prompts:   0%|          | 0/1 [00:00<?, ?it/s, est. speed input: 0.00 toks/s, output: 0.00 toks/s]\u001b[A\n",
      "Processed prompts: 100%|██████████| 1/1 [00:13<00:00, 13.71s/it, est. speed input: 100.83 toks/s, output: 80.99 toks/s]\u001b[A\n"
     ]
    },
    {
     "name": "stdout",
     "output_type": "stream",
     "text": [
      "The patient has a relevant past medical history of HIV infection, hypertension, and a prior episode of self-harm. He was admitted to the hospital due to a chief complaint of benztropine ingestion, which was reportedly taken in an attempt to end his life. The patient was brought to the emergency department after calling EMS and was subsequently transferred to the medical intensive care unit (MICU). The reason for admission was a suicide attempt. The patient's major procedure was treatment for Benztropine Overdose, Hypotension, Acute Kidney Injury, Rhabdomyolysis, and Alcohol Withdrawal in the hospital.\n",
      "\n",
      "The patient presented with symptoms of Benztropine overdose, including altered mental status, and symptoms of self-harm. The severity of these symptoms is not explicitly stated in the provided text, but it can be inferred that the patient's condition was severe enough to warrant hospitalization and treatment for Benztropine overdose, Hypotension, Acute Kidney Injury, Rhabdomyolysis, and Alcohol Withdrawal. The patient's history of HIV infection, Hypertension, and Schizoaffective disorder may have contributed to the severity of their condition.\n",
      "\n",
      "The patient's acute medical conditions include Benztropine Overdose, Hypotension, Acute Kidney Injury, Rhabdomyolysis, and Alcohol Withdrawal. The presenting symptoms and severity of these conditions are as follows:\n",
      "\n",
      "* Benztropine Overdose: Altered mental status\n",
      "* Hypotension: Decreased blood pressure\n",
      "* Acute Kidney Injury: Elevated creatinine levels\n",
      "* Rhabdomyolysis: Elevated creatine kinase (CK) levels\n",
      "* Alcohol Withdrawal: Symptoms managed with medication and supportive care\n",
      "\n",
      "The differential diagnosis for these conditions includes:\n",
      "\n",
      "* Benztropine Overdose: Benztropine overdose, other medications, other substances\n",
      "* Hypotension: Hypovolemia, sepsis, cardiac disease\n",
      "* Acute Kidney Injury: Acute tubular necrosis, prerenal azotemia, postrenal azotemia\n",
      "* Rhabdomyolysis: Muscle injury, electrolyte imbalance, other medical conditions\n",
      "* Alcohol Withdrawal: Withdrawal from alcohol, other substances\n",
      "\n",
      "The diagnostic workup for these conditions included the following:\n",
      "\n",
      "* Benztropine Overdose: Electrocardiogram (EKG), complete blood count (CBC), creatinine (Cr), lactate, and cardiac enzymes (CK)\n",
      "* Hypotension: Blood pressure monitoring\n",
      "* Acute Kidney Injury: Creatinine levels\n",
      "* Rhabdomyolysis: Creatine kinase (CK) levels\n",
      "* Alcohol Withdrawal: CIWA scale\n",
      "\n",
      "The treatments for these conditions were:\n",
      "\n",
      "* Benztropine Overdose: IV fluids, diazepam\n",
      "* Hypotension: IV fluids\n",
      "* Acute Kidney Injury: IV fluids\n",
      "* Rhabdomyolysis: IV fluids\n",
      "* Alcohol Withdrawal: Diazepam, CIWA scale\n",
      "\n",
      "The patient received the following medications related to each medical condition:\n",
      "\n",
      "* Benztropine Overdose: IV fluids, diazepam\n",
      "* Hypotension: IV fluids\n",
      "* Acute Kidney Injury: IV fluids\n",
      "* Rhabdomyolysis: IV fluids\n",
      "* Alcohol Withdrawal: Diazepam, CIWA scale\n",
      "\n",
      "The patient's physical exam findings included:\n",
      "\n",
      "* Altered mental status\n",
      "* Decreased blood pressure\n",
      "* Elevated creatinine levels\n",
      "* Elevated creatine kinase (CK) levels\n",
      "* Symptoms of self-harm\n",
      "\n",
      "The patient's pertinent lab work included:\n",
      "\n",
      "* Complete Blood Count (CBC)\n",
      "* Creatinine (Cr)\n",
      "* Lactate\n",
      "* Cardiac enzymes (CK)\n",
      "* Electrolyte panel\n",
      "* Blood chemistry panel\n",
      "* Urinalysis\n",
      "\n",
      "The patient's radiology and imaging studies included:\n",
      "\n",
      "* Electrocardiogram (EKG)\n",
      "* Chest X-ray\n",
      "\n",
      "The patient's cardiac studies included:\n",
      "\n",
      "* Electrocardiogram (EKG)\n",
      "\n",
      "There are pending results. The patient's recommended follow-up includes a comprehensive evaluation to assess the severity of the benztropine overdose, potential complications, and underlying medical conditions. This may include:\n",
      "\n",
      "* Electrolyte panel to monitor for potential electrolyte imbalances\n",
      "* Complete Blood Count (CBC) to assess for potential hematological complications\n",
      "* Blood chemistry panel to assess for potential liver and kidney damage\n",
      "* Urinalysis to assess for potential kidney damage and monitor for urine output\n",
      "* ECG to monitor for potential cardiac complications\n",
      "* Chest X-ray to assess for potential pulmonary complications\n",
      "* Abdominal imaging (e.g., CT or ultrasound) to assess for potential gastrointestinal complications\n",
      "* Psychiatric evaluation to assess for potential underlying psychiatric conditions and suicidal ideation\n",
      "* Neurological evaluation to assess for potential neurological complications\n",
      "\n",
      "The patient's medications included:\n",
      "\n",
      "* ATRIPLA (efavirenz-emtricitabin-tenofov) for HIV infection\n",
      "* IV fluids for Hypotension, Acute Kidney Injury, and Rhabdomyolysis\n",
      "* Diazepam for Benztropine Overdose and Alcohol Withdrawal\n",
      "* CIWA scale for Alcohol Withdrawal\n",
      "* Anxiety medication for anxiety symptoms\n",
      "* HIV medications for HIV infection\n",
      "* Hypertension medications for hypertension\n",
      "* Schizoaffective disorder medications for schizoaffective disorder\n",
      "* Self-harm treatment for self-harm symptoms.\n",
      "Time taken for generate_bhc: 37.28233194351196 seconds.\n",
      "3 of 10962, 0.02736726874657909% hadm_id: 25482427 **********\n",
      "\n",
      "\n",
      "343\n"
     ]
    },
    {
     "name": "stderr",
     "output_type": "stream",
     "text": [
      "\n",
      "Processed prompts:   0%|          | 0/1 [00:00<?, ?it/s, est. speed input: 0.00 toks/s, output: 0.00 toks/s]\u001b[A\n",
      "Processed prompts: 100%|██████████| 1/1 [00:01<00:00,  1.52s/it, est. speed input: 225.47 toks/s, output: 81.51 toks/s]\u001b[A\n"
     ]
    },
    {
     "name": "stdout",
     "output_type": "stream",
     "text": [
      "The patient was treated with a workup that included laboratory tests, which were normal, and a CT head and c-spine scan. The CT scan showed bifrontal subacute on chronic subdural hematomas with a small, acute right lateral-posterior component. The CT c-spine was consistent with chronic degenerative changes, but no acute traumatic injury was found. The patient was transferred to another facility for further evaluation and workup. The treatments and diagnostic workup were focused on evaluating the patient's syncopal episode and the subdural hematomas found on the CT scan. \n",
      "305\n"
     ]
    },
    {
     "name": "stderr",
     "output_type": "stream",
     "text": [
      "\n",
      "Processed prompts:   0%|          | 0/1 [00:00<?, ?it/s, est. speed input: 0.00 toks/s, output: 0.00 toks/s]\u001b[A\n",
      "Processed prompts: 100%|██████████| 1/1 [00:00<00:00,  1.58it/s, est. speed input: 483.61 toks/s, output: 79.28 toks/s]\u001b[A\n"
     ]
    },
    {
     "name": "stdout",
     "output_type": "stream",
     "text": [
      "The patient did not undergo any major surgical, invasive, or diagnostic, or therapeutic procedures during their hospital admission. The only procedure mentioned was a CT head and c-spine scan, which is a non-invasive diagnostic imaging test. \n",
      "377\n"
     ]
    },
    {
     "name": "stderr",
     "output_type": "stream",
     "text": [
      "\n",
      "Processed prompts:   0%|          | 0/1 [00:00<?, ?it/s, est. speed input: 0.00 toks/s, output: 0.00 toks/s]\u001b[A\n",
      "Processed prompts: 100%|██████████| 1/1 [00:01<00:00,  1.29s/it, est. speed input: 291.91 toks/s, output: 81.30 toks/s]\u001b[A\n"
     ]
    },
    {
     "name": "stdout",
     "output_type": "stream",
     "text": [
      "The changes to the patient's medications were the addition of Acetaminophen 650 mg PO Q6H:PRN Pain - Mild, Docusate Sodium 100 mg PO BID, and Polyethylene Glycol 17 g PO DAILY:PRN constipation. The medications that were new were Acetaminophen, Docusate Sodium, and Polyethylene Glycol. The medications that were stopped were none, as all medications listed on admission were continued at discharge.  \n",
      "460\n"
     ]
    },
    {
     "name": "stderr",
     "output_type": "stream",
     "text": [
      "\n",
      "Processed prompts:   0%|          | 0/1 [00:00<?, ?it/s, est. speed input: 0.00 toks/s, output: 0.00 toks/s]\u001b[A\n",
      "Processed prompts: 100%|██████████| 1/1 [00:01<00:00,  1.01s/it, est. speed input: 454.81 toks/s, output: 80.08 toks/s]\u001b[A\n"
     ]
    },
    {
     "name": "stdout",
     "output_type": "stream",
     "text": [
      "During this hospital admission, the patient was treated with Acetaminophen 650 mg PO Q6H:PRN Pain - Mild, Docusate Sodium 100 mg PO BID, and Polyethylene Glycol 17 g PO DAILY:PRN constipation. These medications were added to the patient's regimen to manage pain, constipation, and mild pain. \n",
      "346\n"
     ]
    },
    {
     "name": "stderr",
     "output_type": "stream",
     "text": [
      "\n",
      "Processed prompts:   0%|          | 0/1 [00:00<?, ?it/s, est. speed input: 0.00 toks/s, output: 0.00 toks/s]\u001b[A\n",
      "Processed prompts: 100%|██████████| 1/1 [00:00<00:00,  1.15it/s, est. speed input: 397.30 toks/s, output: 80.38 toks/s]\u001b[A\n"
     ]
    },
    {
     "name": "stdout",
     "output_type": "stream",
     "text": [
      "The initial diagnostic workup included labs which were normal and a CT head and c-spine. The pertinent results were bifrontal subacute on chronic SDHs with a small, acute right lateral-posterior component on the CT head, and chronic degenerative changes on the CT c-spine, but no acute traumatic injury. \n",
      "422\n"
     ]
    },
    {
     "name": "stderr",
     "output_type": "stream",
     "text": [
      "\n",
      "Processed prompts:   0%|          | 0/1 [00:00<?, ?it/s, est. speed input: 0.00 toks/s, output: 0.00 toks/s]\u001b[A\n",
      "Processed prompts: 100%|██████████| 1/1 [00:00<00:00,  1.12it/s, est. speed input: 473.92 toks/s, output: 79.73 toks/s]\u001b[A\n"
     ]
    },
    {
     "name": "stdout",
     "output_type": "stream",
     "text": [
      "The patient was admitted to the hospital due to a fall, specifically a presumed syncopal episode, which led to a head injury resulting in subacute on chronic subdural hemorrhages. The patient's symptoms, medical condition, and reason for admission were related to the fall and subsequent head injury, which required further evaluation and workup in the hospital.\n",
      "353\n"
     ]
    },
    {
     "name": "stderr",
     "output_type": "stream",
     "text": [
      "\n",
      "Processed prompts:   0%|          | 0/1 [00:00<?, ?it/s, est. speed input: 0.00 toks/s, output: 0.00 toks/s]\u001b[A\n",
      "Processed prompts: 100%|██████████| 1/1 [00:01<00:00,  1.59s/it, est. speed input: 221.72 toks/s, output: 81.65 toks/s]\u001b[A\n"
     ]
    },
    {
     "name": "stdout",
     "output_type": "stream",
     "text": [
      "The patient's major medical conditions include hypertension (HTN) and a remote head injury, which occurred over 40 years ago. The patient was admitted to the hospital following a presumed syncopal episode, which was characterized by a loss of consciousness (LOC) immediately after a fall. The patient was taken to another hospital for initial workup, which included normal lab results and imaging studies that showed subacute and chronic changes in the brain and spine. The patient was then transferred to the current hospital for further evaluation and workup. The reason for admission was to investigate the presumed syncopal episode and the patient's head and spine injuries. \n",
      "406\n"
     ]
    },
    {
     "name": "stderr",
     "output_type": "stream",
     "text": [
      "\n",
      "Processed prompts:   0%|          | 0/1 [00:00<?, ?it/s, est. speed input: 0.00 toks/s, output: 0.00 toks/s]\u001b[A\n",
      "Processed prompts: 100%|██████████| 1/1 [00:01<00:00,  1.13s/it, est. speed input: 358.96 toks/s, output: 80.46 toks/s]\u001b[A\n"
     ]
    },
    {
     "name": "stdout",
     "output_type": "stream",
     "text": [
      "The patient was treated for acute on chronic right and chronic appearing left subdural hematomas, syncope and collapse, and essential hypertension during their hospital stay. The patient also had a history of remote head injury 40+ years prior. The patient's symptoms included a presumed syncopal episode, loss of consciousness (LOC) immediately surrounding the fall, and no difficulty with memory, motor/sensation, vision, or speech since. \n",
      "360\n"
     ]
    },
    {
     "name": "stderr",
     "output_type": "stream",
     "text": [
      "\n",
      "Processed prompts:   0%|          | 0/1 [00:00<?, ?it/s, est. speed input: 0.00 toks/s, output: 0.00 toks/s]\u001b[A\n",
      "Processed prompts: 100%|██████████| 1/1 [00:01<00:00,  1.02s/it, est. speed input: 354.62 toks/s, output: 80.77 toks/s]\u001b[A\n"
     ]
    },
    {
     "name": "stdout",
     "output_type": "stream",
     "text": [
      "The patient had hypertension (high blood pressure) and hyperlipidemia (high cholesterol) based on the medications listed, specifically losartan 100' and omeprazole 20'. Additionally, the patient may have had gastroesophageal reflux disease (GERD) or peptic ulcer disease due to the presence of omeprazole 20' in the medication list. \n",
      "338\n"
     ]
    },
    {
     "name": "stderr",
     "output_type": "stream",
     "text": [
      "\n",
      "Processed prompts:   0%|          | 0/1 [00:00<?, ?it/s, est. speed input: 0.00 toks/s, output: 0.00 toks/s]\u001b[A\n",
      "Processed prompts: 100%|██████████| 1/1 [00:00<00:00,  1.47it/s, est. speed input: 498.06 toks/s, output: 79.57 toks/s]\u001b[A\n"
     ]
    },
    {
     "name": "stdout",
     "output_type": "stream",
     "text": [
      "The patient was treated for acute subdural hematomas, syncope and collapse, essential hypertension, and possibly gastroesophageal reflux disease or peptic ulcer disease during their hospital stay. The patient also had a history of remote head injury and chronic hypertension.\n",
      "443\n"
     ]
    },
    {
     "name": "stderr",
     "output_type": "stream",
     "text": [
      "\n",
      "Processed prompts:   0%|          | 0/1 [00:00<?, ?it/s, est. speed input: 0.00 toks/s, output: 0.00 toks/s]\u001b[A\n",
      "Processed prompts: 100%|██████████| 1/1 [00:01<00:00,  1.22s/it, est. speed input: 364.33 toks/s, output: 80.60 toks/s]\u001b[A\n"
     ]
    },
    {
     "name": "stdout",
     "output_type": "stream",
     "text": [
      "The patient presented with symptoms of a presumed syncopal episode, loss of consciousness (LOC) immediately surrounding the fall, and no difficulty with memory, motor/sensation, vision, or speech since. The severity of the symptoms is not explicitly stated, but the patient's loss of consciousness and subsequent hospitalization suggest a moderate to severe severity. The patient also had a history of remote head injury 40+ years prior, which may have contributed to the severity of the symptoms. \n",
      "290\n"
     ]
    },
    {
     "name": "stderr",
     "output_type": "stream",
     "text": [
      "\n",
      "Processed prompts:   0%|          | 0/1 [00:00<?, ?it/s, est. speed input: 0.00 toks/s, output: 0.00 toks/s]\u001b[A\n",
      "Processed prompts: 100%|██████████| 1/1 [00:00<00:00,  1.15it/s, est. speed input: 333.06 toks/s, output: 80.39 toks/s]\u001b[A\n"
     ]
    },
    {
     "name": "stdout",
     "output_type": "stream",
     "text": [
      "The diagnostic workup for the acute medical condition of subdural hematomas included a CT head, which revealed bifrontal subacute on chronic SDHs with a small, acute right lateral-posterior component. The related results showed chronic degenerative changes on the CT c-spine, but no acute traumatic injury. \n",
      "\n",
      "\n",
      "600\n"
     ]
    },
    {
     "name": "stderr",
     "output_type": "stream",
     "text": [
      "\n",
      "Processed prompts:   0%|          | 0/1 [00:00<?, ?it/s, est. speed input: 0.00 toks/s, output: 0.00 toks/s]\u001b[A\n",
      "Processed prompts: 100%|██████████| 1/1 [00:00<00:00,  1.11it/s, est. speed input: 666.50 toks/s, output: 78.87 toks/s]\u001b[A\n"
     ]
    },
    {
     "name": "stdout",
     "output_type": "stream",
     "text": [
      "The treatments for the acute medical conditions were:\n",
      "- Acetaminophen 650 mg PO Q6H:PRN Pain - Mild for pain management\n",
      "- Docusate Sodium 100 mg PO BID for constipation management\n",
      "- Polyethylene Glycol 17 g PO DAILY:PRN for constipation management\n",
      "\n",
      "345\n"
     ]
    },
    {
     "name": "stderr",
     "output_type": "stream",
     "text": [
      "\n",
      "Processed prompts:   0%|          | 0/1 [00:00<?, ?it/s, est. speed input: 0.00 toks/s, output: 0.00 toks/s]\u001b[A\n",
      "Processed prompts: 100%|██████████| 1/1 [00:01<00:00,  1.51s/it, est. speed input: 228.81 toks/s, output: 81.57 toks/s]\u001b[A\n"
     ]
    },
    {
     "name": "stdout",
     "output_type": "stream",
     "text": [
      "The recommended diagnostic work-up includes a comprehensive neurological evaluation, including a thorough physical examination, and diagnostic imaging studies such as a magnetic resonance imaging (MRI) of the head and spine to further evaluate the subdural hematomas and rule out any other potential causes of the patient's symptoms. Additionally, laboratory tests such as complete blood count, electrolyte panel, and liver function tests may be ordered to evaluate for any underlying medical conditions that may have contributed to the patient's fall. A cardiology consultation may also be considered to evaluate for any potential cardiac causes of the patient's syncopal episode. \n",
      "162\n"
     ]
    },
    {
     "name": "stderr",
     "output_type": "stream",
     "text": [
      "\n",
      "Processed prompts:   0%|          | 0/1 [00:00<?, ?it/s, est. speed input: 0.00 toks/s, output: 0.00 toks/s]\u001b[A\n",
      "Processed prompts: 100%|██████████| 1/1 [00:00<00:00,  8.49it/s, est. speed input: 1385.23 toks/s, output: 68.40 toks/s]\u001b[A\n"
     ]
    },
    {
     "name": "stdout",
     "output_type": "stream",
     "text": [
      "Yes, there are pending results.\n",
      "933\n"
     ]
    },
    {
     "name": "stderr",
     "output_type": "stream",
     "text": [
      "\n",
      "Processed prompts:   0%|          | 0/1 [00:00<?, ?it/s, est. speed input: 0.00 toks/s, output: 0.00 toks/s]\u001b[A\n",
      "Processed prompts: 100%|██████████| 1/1 [00:06<00:00,  6.33s/it, est. speed input: 147.43 toks/s, output: 80.91 toks/s]\u001b[A\n"
     ]
    },
    {
     "name": "stdout",
     "output_type": "stream",
     "text": [
      "The patient has a relevant past medical history of hypertension and a remote head injury over 40 years ago. They were admitted to the hospital due to a presumed syncopal episode, which led to a head injury resulting in subacute on chronic subdural hemorrhages. The patient was admitted to the neurology service and treated for acute on chronic right and chronic appearing left subdural hematomas, syncope and collapse, and essential hypertension during their hospital stay. The patient's symptoms included a presumed syncopal episode, loss of consciousness (LOC) immediately surrounding the fall, and no difficulty with memory, motor/sensation, vision, or speech since. The patient presented with symptoms of a presumed syncopal episode, loss of consciousness (LOC) immediately surrounding the fall, and no difficulty with memory, motor/sensation, vision, or speech since. The severity of the symptoms is not explicitly stated, but the patient's loss of consciousness and subsequent hospitalization suggest a moderate to severe severity. The patient also had a history of remote head injury 40+ years prior, which may have contributed to the severity of the symptoms. \n",
      "\n",
      "The patient's acute medical condition is subdural hematomas, which was diagnosed with a CT head that revealed bifrontal subacute on chronic SDHs with a small, acute right lateral-posterior component. The related results showed chronic degenerative changes on the CT c-spine, but no acute traumatic injury. The patient received treatments for pain management with acetaminophen, constipation management with docusate sodium and polyethylene glycol, and further evaluation and workup is recommended. The recommended diagnostic work-up includes a comprehensive neurological evaluation, including a thorough physical examination, and diagnostic imaging studies such as a magnetic resonance imaging (MRI) of the head and spine to further evaluate the subdural hematomas and rule out any other potential causes of the patient's symptoms. Additionally, laboratory tests such as complete blood count, electrolyte panel, and liver function tests may be ordered to evaluate for any underlying medical conditions that may have contributed to the patient's fall. A cardiology consultation may also be considered to evaluate for any potential cardiac causes of the patient's syncopal episode. There are pending results, and the patient is recommended to follow up with a comprehensive neurological evaluation and diagnostic imaging studies. The patient received medications related to their medical conditions, including acetaminophen for pain management, docusate sodium and polyethylene glycol for constipation management, and further evaluation and workup is recommended.\n",
      "Time taken for generate_bhc: 21.653130531311035 seconds.\n",
      "4 of 10962, 0.03648969166210546% hadm_id: 21322534 **********\n",
      "\n",
      "\n",
      "773\n"
     ]
    },
    {
     "name": "stderr",
     "output_type": "stream",
     "text": [
      "\n",
      "Processed prompts:   0%|          | 0/1 [00:00<?, ?it/s, est. speed input: 0.00 toks/s, output: 0.00 toks/s]\u001b[A\n",
      "Processed prompts: 100%|██████████| 1/1 [00:06<00:00,  6.10s/it, est. speed input: 126.78 toks/s, output: 81.18 toks/s]\u001b[A\n"
     ]
    },
    {
     "name": "stdout",
     "output_type": "stream",
     "text": [
      "The patient, a 65-year-old female with a history of CAD, severe aortic stenosis, COPD, ESRD, hypothyroidism, and chronic pain, was admitted to the hospital with new onset atrial fibrillation (Afib) and severe shortness of breath (SOB). The patient had a recent hospitalization at OSH for SOB thought to be secondary to acute CHF, and had a CXR showing bibasilar infiltrates and a troponin elevated to 0.19. \n",
      "\n",
      "The patient was treated with a dose of levofloxacin and CTX for a questionable right-sided pneumonia, and was initially hypotensive at the outside hospital, requiring 1 L IVF. In the ED, the patient's initial vitals were: 98.6 F, BP 136/68, HR 126, RR 22, and 99% on 3 L NC. \n",
      "\n",
      "The patient's diagnostic workup included an EKG showing atrial fibrillation with left bundle branch block (LBBB), and lab results notable for: CBC: WBC 8.7, Hgb 9.1 (baseline unknown), plts 135; chem 10: Na 139, K 5.4, Cr 6.4; lactate 1.4; CK 103; INR 1.2; trop 0.33; MB 12; and bnp >70,000. \n",
      "\n",
      "The patient was given 500 cc IVF, as well as calcium gluconate/insulin for K 5.4. On the floor, the patient was comfortable with a heart rate in the 100-110s max 120, and reported feeling like she was not SOB. The patient's treatments and diagnostic workup included antibiotics for pneumonia, IV fluids for hypotension, and lab tests to evaluate her cardiac and renal function. \n",
      "\n",
      "The patient's cardiologist recommended cath in the outpatient setting, followed by TAVR evaluation, but the patient declined further procedures/surgery and wanted to \"live life as best I can.\" \n",
      "\n",
      "The patient's history of present illness, treatments, and diagnostic workup suggest that she has a complex medical history with multiple comorbidities, and is currently experiencing symptoms of SOB and Afib. Further evaluation and management are needed to address her cardiac and respiratory symptoms. \n",
      "679\n"
     ]
    },
    {
     "name": "stderr",
     "output_type": "stream",
     "text": [
      "\n",
      "Processed prompts:   0%|          | 0/1 [00:00<?, ?it/s, est. speed input: 0.00 toks/s, output: 0.00 toks/s]\u001b[A\n",
      "Processed prompts: 100%|██████████| 1/1 [00:00<00:00,  3.71it/s, est. speed input: 2523.86 toks/s, output: 66.90 toks/s]\u001b[A\n"
     ]
    },
    {
     "name": "stdout",
     "output_type": "stream",
     "text": [
      "The major surgical, invasive, or diagnostic, or therapeutic procedures were: ECHO.\n",
      "568\n"
     ]
    },
    {
     "name": "stderr",
     "output_type": "stream",
     "text": [
      "\n",
      "Processed prompts:   0%|          | 0/1 [00:00<?, ?it/s, est. speed input: 0.00 toks/s, output: 0.00 toks/s]\u001b[A\n",
      "Processed prompts: 100%|██████████| 1/1 [00:01<00:00,  1.01s/it, est. speed input: 563.35 toks/s, output: 79.34 toks/s]\u001b[A\n"
     ]
    },
    {
     "name": "stdout",
     "output_type": "stream",
     "text": [
      "The changes to the patient's medications were the addition of Levofloxacin 500 mg PO Q48H and Metoprolol Succinate XL 25 mg PO DAILY. The medications that were new were Levofloxacin 500 mg PO Q48H. The medications that were stopped were none, as all medications from the admission list were continued at discharge.  \n",
      "865\n"
     ]
    },
    {
     "name": "stderr",
     "output_type": "stream",
     "text": [
      "\n",
      "Processed prompts:   0%|          | 0/1 [00:00<?, ?it/s, est. speed input: 0.00 toks/s, output: 0.00 toks/s]\u001b[A\n",
      "Processed prompts: 100%|██████████| 1/1 [00:01<00:00,  1.16s/it, est. speed input: 748.40 toks/s, output: 77.87 toks/s]\u001b[A\n"
     ]
    },
    {
     "name": "stdout",
     "output_type": "stream",
     "text": [
      "During this hospital admission, the patient was treated with Levofloxacin 500 mg PO Q48H and Metoprolol Succinate XL 25 mg PO DAILY. Additionally, she received IVF (500 cc) and calcium gluconate/insulin for her potassium level of 5.4. She was also given a dose of levofloxacin and CTX for a questionable right-sided PNA. \n",
      "776\n"
     ]
    },
    {
     "name": "stderr",
     "output_type": "stream",
     "text": [
      "\n",
      "Processed prompts:   0%|          | 0/1 [00:00<?, ?it/s, est. speed input: 0.00 toks/s, output: 0.00 toks/s]\u001b[A\n",
      "Processed prompts: 100%|██████████| 1/1 [00:02<00:00,  2.48s/it, est. speed input: 313.55 toks/s, output: 80.41 toks/s]\u001b[A\n"
     ]
    },
    {
     "name": "stdout",
     "output_type": "stream",
     "text": [
      "The initial diagnostic workup included a chest X-ray (CXR) that showed a questionable right-sided pneumonia (PNA), which was treated with levofloxacin and ceftriaxone (CTX). The patient also had an electrocardiogram (EKG) that revealed atrial fibrillation with a left bundle branch block (LBBB). Laboratory results were notable for elevated troponin (0.33), brain natriuretic peptide (BNP) (>70,000), and creatinine (6.4). The patient was given IV fluids, calcium gluconate, and insulin to manage her hypokalemia (K 5.4). The patient's initial vital signs were: temperature 99.4°F, blood pressure 136/68 mmHg, heart rate 126 beats per minute, respiratory rate 22 breaths per minute, and oxygen saturation 99% on 3 liters of nasal cannula. \n",
      "845\n"
     ]
    },
    {
     "name": "stderr",
     "output_type": "stream",
     "text": [
      "\n",
      "Processed prompts:   0%|          | 0/1 [00:00<?, ?it/s, est. speed input: 0.00 toks/s, output: 0.00 toks/s]\u001b[A\n",
      "Processed prompts: 100%|██████████| 1/1 [00:01<00:00,  1.64s/it, est. speed input: 515.02 toks/s, output: 79.23 toks/s]\u001b[A\n"
     ]
    },
    {
     "name": "stdout",
     "output_type": "stream",
     "text": [
      "The patient was admitted to the hospital due to new onset atrial fibrillation (Afib) and symptoms of severe shortness of breath (SOB) that worsened with activity. The patient reported SOB so severe that she had to sit on her couch and draw in deep breaths for 30 minutes. She also experienced SOB while walking from her bed to the door. The patient's symptoms were severe enough that she was transferred from another hospital for further evaluation and management. The patient's medical condition, specifically her new onset Afib, and her symptoms of SOB, were the primary reasons for her hospital admission. \n",
      "783\n"
     ]
    },
    {
     "name": "stderr",
     "output_type": "stream",
     "text": [
      "\n",
      "Processed prompts:   0%|          | 0/1 [00:00<?, ?it/s, est. speed input: 0.00 toks/s, output: 0.00 toks/s]\u001b[A\n",
      "Processed prompts: 100%|██████████| 1/1 [00:02<00:00,  2.34s/it, est. speed input: 334.22 toks/s, output: 80.25 toks/s]\u001b[A\n"
     ]
    },
    {
     "name": "stdout",
     "output_type": "stream",
     "text": [
      "Ms. ___ was admitted to the hospital due to new onset atrial fibrillation (Afib) and severe shortness of breath (SOB) that worsened with activity. She has a history of coronary artery disease (CAD), severe aortic stenosis, chronic obstructive pulmonary disease (COPD), end-stage renal disease (ESRD) on hemodialysis, hypothyroidism, and chronic pain. She was previously hospitalized for SOB thought to be secondary to acute heart failure (CHF), and had a recent appointment with a cardiologist to discuss transcatheter aortic valve replacement (TAVR) evaluation, but declined further procedures. Her major medical conditions include CAD, severe aortic stenosis, COPD, ESRD, hypothyroidism, and chronic pain, and she was admitted to the hospital due to her new onset Afib and severe SOB. \n",
      "846\n"
     ]
    },
    {
     "name": "stderr",
     "output_type": "stream",
     "text": [
      "\n",
      "Processed prompts:   0%|          | 0/1 [00:00<?, ?it/s, est. speed input: 0.00 toks/s, output: 0.00 toks/s]\u001b[A\n",
      "Processed prompts: 100%|██████████| 1/1 [00:01<00:00,  1.30s/it, est. speed input: 650.31 toks/s, output: 78.41 toks/s]\u001b[A\n"
     ]
    },
    {
     "name": "stdout",
     "output_type": "stream",
     "text": [
      "This patient was treated for atrial fibrillation, severe aortic stenosis, chronic obstructive pulmonary disease (COPD), end-stage renal disease (ESRD) on hemodialysis three times a week, hypothyroidism, and chronic pain during their hospital admission. The patient also had a history of coronary artery disease (CAD) and had been previously hospitalized for symptoms of shortness of breath (SOB) thought to be secondary to acute heart failure (CHF). \n",
      "551\n"
     ]
    },
    {
     "name": "stderr",
     "output_type": "stream",
     "text": [
      "\n",
      "Processed prompts:   0%|          | 0/1 [00:00<?, ?it/s, est. speed input: 0.00 toks/s, output: 0.00 toks/s]\u001b[A\n",
      "Processed prompts: 100%|██████████| 1/1 [00:02<00:00,  2.34s/it, est. speed input: 235.15 toks/s, output: 81.51 toks/s]\u001b[A\n"
     ]
    },
    {
     "name": "stdout",
     "output_type": "stream",
     "text": [
      "The patient had existing or ongoing medical conditions including hypertension (managed with Metoprolol Succinate XL 25 mg PO DAILY), hyperlipidemia (managed with Rosuvastatin Calcium 20 mg PO 5X/WEEK), hypothyroidism (managed with Levothyroxine Sodium 100 mcg PO DAILY), and chronic pain (managed with Gabapentin 300 mg PO QHS and Gabapentin 100 mg PO QAM). Additionally, the patient had a history of constipation (managed with Docusate Sodium 100 mg PO DAILY) and may have had mild pain (managed with Acetaminophen 650 mg PO Q8H:PRN). The patient was also taking medications for opioid dependence (Methadone 5 mg PO BID) and had a history of kidney disease (managed with Nephrocaps 1 CAP PO DAILY). \n",
      "458\n"
     ]
    },
    {
     "name": "stderr",
     "output_type": "stream",
     "text": [
      "\n",
      "Processed prompts:   0%|          | 0/1 [00:00<?, ?it/s, est. speed input: 0.00 toks/s, output: 0.00 toks/s]\u001b[A\n",
      "Processed prompts: 100%|██████████| 1/1 [00:01<00:00,  1.58s/it, est. speed input: 290.30 toks/s, output: 81.13 toks/s]\u001b[A\n"
     ]
    },
    {
     "name": "stdout",
     "output_type": "stream",
     "text": [
      "The patient was treated for atrial fibrillation, severe aortic stenosis, chronic obstructive pulmonary disease (COPD), end-stage renal disease (ESRD) on hemodialysis three times a week, hypothyroidism, and chronic pain during their hospital admission. The patient also had a history of coronary artery disease (CAD) and had been previously hospitalized for symptoms of shortness of breath (SOB) thought to be secondary to acute heart failure (CHF). The patient had existing or ongoing medical conditions including hypertension, hyperlipidemia, hypothyroidism, and chronic pain. \n",
      "\n",
      "\n",
      "884\n"
     ]
    },
    {
     "name": "stderr",
     "output_type": "stream",
     "text": [
      "\n",
      "Processed prompts:   0%|          | 0/1 [00:00<?, ?it/s, est. speed input: 0.00 toks/s, output: 0.00 toks/s]\u001b[A\n",
      "Processed prompts: 100%|██████████| 1/1 [00:03<00:00,  3.90s/it, est. speed input: 226.87 toks/s, output: 80.58 toks/s]\u001b[A\n"
     ]
    },
    {
     "name": "stdout",
     "output_type": "stream",
     "text": [
      "The patient presented with symptoms of new onset atrial fibrillation, severe shortness of breath (SOB) that worsened with activity, and was unable to walk from bed to door without SOB. The severity of the symptoms was severe, as the patient reported having to sit on the couch and draw in deep breaths for 30 minutes to alleviate the SOB. The patient also had a history of chronic obstructive pulmonary disease (COPD) and end-stage renal disease (ESRD) on hemodialysis, which may have contributed to the severity of the symptoms. The patient's electrocardiogram (EKG) showed atrial fibrillation with a left bundle branch block (LBBB), which is an old finding. The patient's laboratory results showed elevated troponin and brain natriuretic peptide (BNP) levels, indicating cardiac strain. The patient's symptoms and laboratory results suggest that the patient had acute heart failure (CHF) and atrial fibrillation, which were likely contributing to the patient's severe shortness of breath. The patient's chronic conditions, such as COPD and ESRD, may have also contributed to the severity of the symptoms. The patient's symptoms were severe and required treatment, including medication and oxygen therapy. The patient's laboratory results and electrocardiogram (EKG) findings support the diagnosis of atrial fibrillation and acute heart failure (CHF). The patient's symptoms and laboratory results suggest that the patient had a severe and life-threatening condition that required immediate medical attention.\n",
      "490\n"
     ]
    },
    {
     "name": "stderr",
     "output_type": "stream",
     "text": [
      "\n",
      "Processed prompts:   0%|          | 0/1 [00:00<?, ?it/s, est. speed input: 0.00 toks/s, output: 0.00 toks/s]\u001b[A\n",
      "Processed prompts: 100%|██████████| 1/1 [00:03<00:00,  3.78s/it, est. speed input: 129.53 toks/s, output: 82.21 toks/s]\u001b[A\n"
     ]
    },
    {
     "name": "stdout",
     "output_type": "stream",
     "text": [
      "The diagnostic workup for atrial fibrillation included an electrocardiogram (EKG) that revealed atrial fibrillation with a left bundle branch block (LBBB). For severe aortic stenosis, the diagnostic workup is not specified in the provided data. For chronic obstructive pulmonary disease (COPD), the diagnostic workup is not specified in the provided data. For end-stage renal disease (ESRD) on hemodialysis, the diagnostic workup is not specified in the provided data. For hypothyroidism, the diagnostic workup is not specified in the provided data. For chronic pain, the diagnostic workup is not specified in the provided data. For coronary artery disease (CAD), the diagnostic workup is not specified in the provided data. For acute heart failure (CHF), the diagnostic workup is not specified in the provided data. For right-sided pneumonia (PNA), the diagnostic workup included a chest X-ray (CXR) that showed a questionable right-sided pneumonia (PNA), which was treated with levofloxacin and ceftriaxone (CTX). The related results were not specified in the provided data. For hypertension, the diagnostic workup is not specified in the provided data. For hyperlipidemia, the diagnostic workup is not specified in the provided data. For hypothyroidism, the diagnostic workup is not specified in the provided data. For chronic pain, the diagnostic workup is not specified in the provided data. \n",
      "\n",
      "\n",
      "936\n"
     ]
    },
    {
     "name": "stderr",
     "output_type": "stream",
     "text": [
      "\n",
      "Processed prompts:   0%|          | 0/1 [00:00<?, ?it/s, est. speed input: 0.00 toks/s, output: 0.00 toks/s]\u001b[A\n",
      "Processed prompts: 100%|██████████| 1/1 [00:03<00:00,  3.94s/it, est. speed input: 237.52 toks/s, output: 80.44 toks/s]\u001b[A\n"
     ]
    },
    {
     "name": "stdout",
     "output_type": "stream",
     "text": [
      "The treatments for atrial fibrillation were Levofloxacin 500 mg PO Q48H and Metoprolol Succinate XL 25 mg PO DAILY. The treatments for severe aortic stenosis were not specified. The treatments for chronic obstructive pulmonary disease (COPD) were not specified. The treatments for end-stage renal disease (ESRD) on hemodialysis three times a week were not specified. The treatments for hypothyroidism were not specified. The treatments for chronic pain were not specified. The treatments for coronary artery disease (CAD) were not specified. The treatments for acute heart failure (CHF) were not specified. The treatments for shortness of breath (SOB) were IVF (500 cc) and calcium gluconate/insulin for potassium level of 5.4. The treatments for pneumonia were levofloxacin and CTX. The treatments for hypotension were 1 L IVF and 500 cc IVF. The treatments for atrial fibrillation with left bundle branch block (LBBB) were not specified. The treatments for cardiac and renal function were lab tests. The treatments for the patient's complex medical history with multiple comorbidities were not specified. The treatments for the patient's symptoms of SOB and Afib were further evaluation and management. The medications that were new were Levofloxacin 500 mg PO Q48H. The medications that were stopped were none. The major surgical, invasive, or diagnostic, or therapeutic procedures were ECHO. \n",
      "777\n"
     ]
    },
    {
     "name": "stderr",
     "output_type": "stream",
     "text": [
      "\n",
      "Processed prompts:   0%|          | 0/1 [00:00<?, ?it/s, est. speed input: 0.00 toks/s, output: 0.00 toks/s]\u001b[A\n",
      "Processed prompts: 100%|██████████| 1/1 [00:02<00:00,  2.92s/it, est. speed input: 266.48 toks/s, output: 80.60 toks/s]\u001b[A\n"
     ]
    },
    {
     "name": "stdout",
     "output_type": "stream",
     "text": [
      "The recommended diagnostic work-up for this patient includes further evaluation of her new onset atrial fibrillation, as well as assessment of her underlying cardiac and respiratory conditions. This may include:\n",
      "\n",
      "* Echocardiogram to assess the severity of her aortic stenosis and left ventricular function\n",
      "* Cardiac biomarkers such as troponin and BNP to assess for cardiac injury or stress\n",
      "* Electrolyte panel to assess for any electrolyte imbalances that may be contributing to her symptoms\n",
      "* Complete blood count to assess for any signs of infection or inflammation\n",
      "* Chest X-ray to assess for any signs of pneumonia or other respiratory conditions\n",
      "* Pulmonary function tests to assess for any signs of chronic obstructive pulmonary disease (COPD)\n",
      "* Cardiac catheterization to assess for any signs of coronary artery disease or other cardiac conditions\n",
      "\n",
      "It is also important to consider the patient's history of chronic pain and her recent hospitalization for shortness of breath, which may be related to her underlying cardiac and respiratory conditions. A thorough evaluation of her symptoms and medical history will be necessary to determine the best course of treatment for this patient. \n",
      "244\n"
     ]
    },
    {
     "name": "stderr",
     "output_type": "stream",
     "text": [
      "\n",
      "Processed prompts:   0%|          | 0/1 [00:00<?, ?it/s, est. speed input: 0.00 toks/s, output: 0.00 toks/s]\u001b[A\n",
      "Processed prompts: 100%|██████████| 1/1 [00:00<00:00,  1.98it/s, est. speed input: 484.69 toks/s, output: 79.46 toks/s]\u001b[A\n"
     ]
    },
    {
     "name": "stdout",
     "output_type": "stream",
     "text": [
      "Yes, there are pending results. The patient is awaiting the outcome of the risk/benefit discussion regarding the use of warfarin, and the results of monitoring clinically for resolution of PNA.\n",
      "1909\n"
     ]
    },
    {
     "name": "stderr",
     "output_type": "stream",
     "text": [
      "\n",
      "Processed prompts:   0%|          | 0/1 [00:00<?, ?it/s, est. speed input: 0.00 toks/s, output: 0.00 toks/s]\u001b[A\n",
      "Processed prompts: 100%|██████████| 1/1 [00:12<00:00, 12.21s/it, est. speed input: 156.36 toks/s, output: 80.59 toks/s]\u001b[A\n"
     ]
    },
    {
     "name": "stdout",
     "output_type": "stream",
     "text": [
      "Ms. ___ was admitted to the hospital due to new onset atrial fibrillation (Afib) and severe shortness of breath (SOB) that worsened with activity. She has a history of coronary artery disease (CAD), severe aortic stenosis, chronic obstructive pulmonary disease (COPD), end-stage renal disease (ESRD) on hemodialysis, hypothyroidism, and chronic pain. She was previously hospitalized for SOB thought to be secondary to acute heart failure (CHF), and had a recent appointment with a cardiologist to discuss transcatheter aortic valve replacement (TAVR) evaluation, but declined further procedures. The patient's major medical conditions include CAD, severe aortic stenosis, COPD, ESRD, hypothyroidism, and chronic pain, and she was admitted to the hospital due to her new onset Afib and severe SOB. \n",
      "\n",
      "The patient presented with symptoms of new onset atrial fibrillation, severe shortness of breath (SOB) that worsened with activity, and was unable to walk from bed to door without SOB. The severity of the symptoms was severe, as the patient reported having to sit on the couch and draw in deep breaths for 30 minutes to alleviate the SOB. The patient also had a history of chronic obstructive pulmonary disease (COPD) and end-stage renal disease (ESRD) on hemodialysis, which may have contributed to the severity of the symptoms. The patient's electrocardiogram (EKG) showed atrial fibrillation with a left bundle branch block (LBBB), which is an old finding. The patient's laboratory results showed elevated troponin and brain natriuretic peptide (BNP) levels, indicating cardiac strain. The patient's symptoms and laboratory results suggest that the patient had acute heart failure (CHF) and atrial fibrillation, which were likely contributing to the patient's severe shortness of breath. The patient's chronic conditions, such as COPD and ESRD, may have also contributed to the severity of the symptoms. \n",
      "\n",
      "The patient was treated for atrial fibrillation, severe aortic stenosis, chronic obstructive pulmonary disease (COPD), end-stage renal disease (ESRD) on hemodialysis, hypothyroidism, and chronic pain during their hospital admission. The patient also had a history of coronary artery disease (CAD) and had been previously hospitalized for symptoms of shortness of breath (SOB) thought to be secondary to acute heart failure (CHF). The patient's treatments included Levofloxacin 500 mg PO Q48H and Metoprolol Succinate XL 25 mg PO DAILY for atrial fibrillation, and IVF (500 cc) and calcium gluconate/insulin for potassium level of 5.4 for shortness of breath. The patient's laboratory results and electrocardiogram (EKG) findings support the diagnosis of atrial fibrillation and acute heart failure (CHF). The patient's symptoms and laboratory results suggest that the patient had a severe and life-threatening condition that required immediate medical attention. \n",
      "\n",
      "The patient's recommended diagnostic work-up includes further evaluation of her new onset atrial fibrillation, as well as assessment of her underlying cardiac and respiratory conditions. This may include echocardiogram to assess the severity of her aortic stenosis and left ventricular function, cardiac biomarkers such as troponin and BNP to assess for cardiac injury or stress, electrolyte panel to assess for any electrolyte imbalances that may be contributing to her symptoms, complete blood count to assess for any signs of infection or inflammation, chest X-ray to assess for any signs of pneumonia or other respiratory conditions, pulmonary function tests to assess for any signs of chronic obstructive pulmonary disease (COPD), and cardiac catheterization to assess for any signs of coronary artery disease or other cardiac conditions. The patient is awaiting the outcome of the risk/benefit discussion regarding the use of warfarin, and the results of monitoring clinically for resolution of PNA. The patient's medications included Levofloxacin 500 mg PO Q48H, Metoprolol Succinate XL 25 mg PO DAILY, and IVF (500 cc) and calcium gluconate/insulin for potassium level of 5.4. The patient's recommended follow-up includes further evaluation of her new onset atrial fibrillation, as well as assessment of her underlying cardiac and respiratory conditions. The patient's pending results include the outcome of the risk/benefit discussion regarding the use of warfarin, and the results of monitoring clinically for resolution of PNA. The patient's recommended follow-up also includes a thorough evaluation of her symptoms and medical history to determine the best course of treatment for this patient.\n",
      "Time taken for generate_bhc: 47.570605993270874 seconds.\n",
      "5 of 10962, 0.04561211457763182% hadm_id: 22196214 **********\n",
      "\n",
      "\n",
      "361\n"
     ]
    },
    {
     "name": "stderr",
     "output_type": "stream",
     "text": [
      "\n",
      "Processed prompts:   0%|          | 0/1 [00:00<?, ?it/s, est. speed input: 0.00 toks/s, output: 0.00 toks/s]\u001b[A\n",
      "Processed prompts: 100%|██████████| 1/1 [00:02<00:00,  2.19s/it, est. speed input: 164.55 toks/s, output: 82.05 toks/s]\u001b[A\n"
     ]
    },
    {
     "name": "stdout",
     "output_type": "stream",
     "text": [
      "The patient has a history of a motor vehicle collision (MVC) that resulted in a subarachnoid hemorrhage (SAH), multiple fractures, and a right hemothorax. She underwent several surgeries, including a C6-7 anterior cervical discectomy and fusion (ACDF), C6-7 posterior laminofusion, and T3-T11 laminofusion. She was discharged to continue her recovery and was doing well until she reported severe, pleuritic right scapula pain limiting her mobility one day prior to her current presentation. The patient has not experienced any new trauma and is not experiencing nausea, vomiting, fever, or chills. She was transferred for trauma surgery evaluation. The diagnostic workup has not been mentioned in the provided information. The treatments mentioned include the surgeries she underwent and the placement of a right pigtail. \n",
      "368\n"
     ]
    },
    {
     "name": "stderr",
     "output_type": "stream",
     "text": [
      "\n",
      "Processed prompts:   0%|          | 0/1 [00:00<?, ?it/s, est. speed input: 0.00 toks/s, output: 0.00 toks/s]\u001b[A\n",
      "Processed prompts: 100%|██████████| 1/1 [00:00<00:00,  1.20it/s, est. speed input: 440.57 toks/s, output: 80.21 toks/s]\u001b[A\n"
     ]
    },
    {
     "name": "stdout",
     "output_type": "stream",
     "text": [
      "The major surgical, invasive, or diagnostic, or therapeutic procedures mentioned in the patient's medical records are:\n",
      "\n",
      "* Right chest tube placement\n",
      "* C6-7 anterior cervical discectomy and fusion (ACDF)\n",
      "* C6-7 posterior laminofusion\n",
      "* T3-T11 laminofusion\n",
      "\n",
      "\n",
      "533\n"
     ]
    },
    {
     "name": "stderr",
     "output_type": "stream",
     "text": [
      "\n",
      "Processed prompts:   0%|          | 0/1 [00:00<?, ?it/s, est. speed input: 0.00 toks/s, output: 0.00 toks/s]\u001b[A\n",
      "Processed prompts: 100%|██████████| 1/1 [00:03<00:00,  3.38s/it, est. speed input: 157.63 toks/s, output: 81.92 toks/s]\u001b[A\n"
     ]
    },
    {
     "name": "stdout",
     "output_type": "stream",
     "text": [
      "The changes to the patient's medications were:\n",
      "New medications: \n",
      "1. Acetaminophen 500 mg PO Q6H Pain \n",
      "2. Docusate Sodium 100 mg PO BID \n",
      "3. Heparin 5000 UNIT SC BID \n",
      "4. Morphine SR (MS ___ 30 mg PO Q8H \n",
      "5. Senna 8.6 mg PO BID:PRN constipation \n",
      "6. Polyethylene Glycol 17 g PO DAILY:PRN constipation \n",
      "\n",
      "Medications stopped: \n",
      "1. HYDROmorphone (Dilaudid) ___ mg PO Q2H:PRN pain (changed to HYDROmorphone (Dilaudid) ___ mg PO Q4H:PRN pain) \n",
      "2. Gabapentin 400 mg PO DAILY \n",
      "3. Baclofen 15 mg PO DAILY \n",
      "\n",
      "Note: The medication list on admission included Baclofen 15 mg PO DAILY, which was not present in the discharge medication list. It is likely that this medication was stopped. Similarly, Gabapentin 400 mg PO DAILY was not present in the discharge medication list, suggesting it was stopped. The dose of HYDROmorphone (Dilaudid) was changed from Q2H to Q4H.  \n",
      "650\n"
     ]
    },
    {
     "name": "stderr",
     "output_type": "stream",
     "text": [
      "\n",
      "Processed prompts:   0%|          | 0/1 [00:00<?, ?it/s, est. speed input: 0.00 toks/s, output: 0.00 toks/s]\u001b[A\n",
      "Processed prompts: 100%|██████████| 1/1 [00:01<00:00,  1.47s/it, est. speed input: 441.86 toks/s, output: 80.21 toks/s]\u001b[A\n"
     ]
    },
    {
     "name": "stdout",
     "output_type": "stream",
     "text": [
      "During this hospital admission, the patient received the following medications or IV therapies to treat their condition: Acetaminophen 500 mg PO Q6H Pain, Docusate Sodium 100 mg PO BID, Heparin 5000 UNIT SC BID, Morphine SR (MS ___ 30 mg PO Q8H, Senna 8.6 mg PO BID:PRN constipation, and Polyethylene Glycol 17 g PO DAILY:PRN constipation. Additionally, IV therapies were not mentioned in the provided data. \n",
      "364\n"
     ]
    },
    {
     "name": "stderr",
     "output_type": "stream",
     "text": [
      "\n",
      "Processed prompts:   0%|          | 0/1 [00:00<?, ?it/s, est. speed input: 0.00 toks/s, output: 0.00 toks/s]\u001b[A\n",
      "Processed prompts: 100%|██████████| 1/1 [00:01<00:00,  1.27s/it, est. speed input: 287.02 toks/s, output: 81.22 toks/s]\u001b[A\n"
     ]
    },
    {
     "name": "stdout",
     "output_type": "stream",
     "text": [
      "The initial diagnostic work up was likely focused on evaluating the patient's severe, pleuritic right scapula pain, which limited her mobility. Pertinent results may include imaging studies such as a chest X-ray or CT scan to assess for any potential complications related to the right hemothorax or lung injury. Additionally, laboratory tests such as complete blood count (CBC) and basic metabolic panel (BMP) may have been ordered to evaluate for any signs of infection or other systemic complications. \n",
      "438\n"
     ]
    },
    {
     "name": "stderr",
     "output_type": "stream",
     "text": [
      "\n",
      "Processed prompts:   0%|          | 0/1 [00:00<?, ?it/s, est. speed input: 0.00 toks/s, output: 0.00 toks/s]\u001b[A\n",
      "Processed prompts: 100%|██████████| 1/1 [00:01<00:00,  1.19s/it, est. speed input: 367.76 toks/s, output: 80.60 toks/s]\u001b[A\n"
     ]
    },
    {
     "name": "stdout",
     "output_type": "stream",
     "text": [
      "The patient was admitted to the hospital due to severe, pleuritic right scapula pain limiting her mobility, which is a new symptom that developed one day after her discharge from the previous hospitalization. The pain is likely related to the right hemothorax and the recent chest tube placement, which may have caused a complication such as a pneumothorax or hemothorax. The patient was transferred for trauma surgery evaluation to assess and manage this new symptom.\n",
      "371\n"
     ]
    },
    {
     "name": "stderr",
     "output_type": "stream",
     "text": [
      "\n",
      "Processed prompts:   0%|          | 0/1 [00:00<?, ?it/s, est. speed input: 0.00 toks/s, output: 0.00 toks/s]\u001b[A\n",
      "Processed prompts: 100%|██████████| 1/1 [00:01<00:00,  1.46s/it, est. speed input: 254.10 toks/s, output: 81.50 toks/s]\u001b[A\n"
     ]
    },
    {
     "name": "stdout",
     "output_type": "stream",
     "text": [
      "The patient was admitted to the hospital due to severe, pleuritic right scapula pain limiting her mobility, which is a new symptom that developed one day after her discharge. Her major medical conditions include a history of motor vehicle collision (MVC) with severe injuries, including subarachnoid hemorrhage (SAH), multiple vertebral fractures, and a right hemothorax. She had undergone several surgeries, including anterior cervical discectomy and fusion (ACDF) and posterior lami/fusion, and was previously discharged to continue her recovery. \n",
      "404\n"
     ]
    },
    {
     "name": "stderr",
     "output_type": "stream",
     "text": [
      "\n",
      "Processed prompts:   0%|          | 0/1 [00:00<?, ?it/s, est. speed input: 0.00 toks/s, output: 0.00 toks/s]\u001b[A\n",
      "Processed prompts: 100%|██████████| 1/1 [00:01<00:00,  1.61s/it, est. speed input: 250.65 toks/s, output: 81.27 toks/s]\u001b[A\n"
     ]
    },
    {
     "name": "stdout",
     "output_type": "stream",
     "text": [
      "The patient was treated for a right nonhemorrhagic pleural effusion in the hospital. She also had a history of present illness related to a motor vehicle accident (MVC) that resulted in several injuries, including a subarachnoid hemorrhage (SAH), facet fractures, and spinous process fractures. She underwent surgeries, including anterior cervical discectomy and fusion (ACDF) and posterior lami/fusion, and was discharged to continue her recovery. However, she presented with severe, pleuritic right scapula pain limiting her mobility one day after discharge, which led to her transfer for trauma surgery evaluation.\n",
      "516\n"
     ]
    },
    {
     "name": "stderr",
     "output_type": "stream",
     "text": [
      "\n",
      "Processed prompts:   0%|          | 0/1 [00:00<?, ?it/s, est. speed input: 0.00 toks/s, output: 0.00 toks/s]\u001b[A\n",
      "Processed prompts: 100%|██████████| 1/1 [00:00<00:00,  1.07it/s, est. speed input: 551.50 toks/s, output: 79.09 toks/s]\u001b[A\n"
     ]
    },
    {
     "name": "stdout",
     "output_type": "stream",
     "text": [
      "The patient had existing or ongoing medical conditions including anxiety, constipation, pain, and loose stool. These conditions were managed with medications such as Diazepam, Senna, Polyethylene Glycol, Morphine SR, and Heparin. Additionally, the patient had a history of insomnia, which was managed with Zolpidem Tartrate. \n",
      "372\n"
     ]
    },
    {
     "name": "stderr",
     "output_type": "stream",
     "text": [
      "\n",
      "Processed prompts:   0%|          | 0/1 [00:00<?, ?it/s, est. speed input: 0.00 toks/s, output: 0.00 toks/s]\u001b[A\n",
      "Processed prompts: 100%|██████████| 1/1 [00:01<00:00,  1.38s/it, est. speed input: 270.19 toks/s, output: 81.35 toks/s]\u001b[A\n"
     ]
    },
    {
     "name": "stdout",
     "output_type": "stream",
     "text": [
      "The patient was treated for a right nonhemorrhagic pleural effusion and subarachnoid hemorrhage (SAH) in the hospital. She also had a history of chronic medical conditions including anxiety, constipation, pain, and loose stool, which were managed with various medications. Additionally, she had a history of insomnia, which was managed with Zolpidem Tartrate. The patient's acute medical condition was the right nonhemorrhagic pleural effusion, which led to her transfer for trauma surgery evaluation. \n",
      "503\n"
     ]
    },
    {
     "name": "stderr",
     "output_type": "stream",
     "text": [
      "\n",
      "Processed prompts:   0%|          | 0/1 [00:00<?, ?it/s, est. speed input: 0.00 toks/s, output: 0.00 toks/s]\u001b[A\n",
      "Processed prompts: 100%|██████████| 1/1 [00:00<00:00,  2.18it/s, est. speed input: 1096.88 toks/s, output: 76.32 toks/s]\u001b[A\n"
     ]
    },
    {
     "name": "stdout",
     "output_type": "stream",
     "text": [
      "The patient presented with severe, pleuritic right scapula pain limiting her mobility. The severity of the symptoms is described as \"severe\". \n",
      "\n",
      "\n",
      "379\n"
     ]
    },
    {
     "name": "stderr",
     "output_type": "stream",
     "text": [
      "\n",
      "Processed prompts:   0%|          | 0/1 [00:00<?, ?it/s, est. speed input: 0.00 toks/s, output: 0.00 toks/s]\u001b[A\n",
      "Processed prompts: 100%|██████████| 1/1 [00:01<00:00,  1.00s/it, est. speed input: 377.76 toks/s, output: 80.73 toks/s]\u001b[A\n"
     ]
    },
    {
     "name": "stdout",
     "output_type": "stream",
     "text": [
      "The diagnostic workup for the right nonhemorrhagic pleural effusion likely included a chest X-ray or CT scan to assess for any potential complications related to the right hemothorax or lung injury. Laboratory tests such as a complete blood count (CBC) and basic metabolic panel (BMP) may have been ordered to evaluate for any signs of infection or other systemic complications. \n",
      "923\n"
     ]
    },
    {
     "name": "stderr",
     "output_type": "stream",
     "text": [
      "\n",
      "Processed prompts:   0%|          | 0/1 [00:00<?, ?it/s, est. speed input: 0.00 toks/s, output: 0.00 toks/s]\u001b[A\n",
      "Processed prompts: 100%|██████████| 1/1 [00:01<00:00,  1.60s/it, est. speed input: 576.08 toks/s, output: 78.64 toks/s]\u001b[A\n"
     ]
    },
    {
     "name": "stdout",
     "output_type": "stream",
     "text": [
      "The treatments for the acute medical condition of right nonhemorrhagic pleural effusion include:\n",
      "\n",
      "* Right chest tube placement\n",
      "* Placement of a right pigtail\n",
      "* Medications such as Acetaminophen 500 mg PO Q6H Pain, Docusate Sodium 100 mg PO BID, Heparin 5000 UNIT SC BID, Morphine SR (MS ___ 30 mg PO Q8H, Senna 8.6 mg PO BID:PRN constipation, and Polyethylene Glycol 17 g PO DAILY:PRN constipation. \n",
      "\n",
      "\n",
      "367\n"
     ]
    },
    {
     "name": "stderr",
     "output_type": "stream",
     "text": [
      "\n",
      "Processed prompts:   0%|          | 0/1 [00:00<?, ?it/s, est. speed input: 0.00 toks/s, output: 0.00 toks/s]\u001b[A\n",
      "Processed prompts: 100%|██████████| 1/1 [00:00<00:00,  1.21it/s, est. speed input: 446.05 toks/s, output: 80.21 toks/s]\u001b[A\n"
     ]
    },
    {
     "name": "stdout",
     "output_type": "stream",
     "text": [
      "The recommended diagnostic work up is a computed tomography (CT) scan of the right scapula to evaluate the cause of the severe, pleuritic pain. Additionally, a chest X-ray may be considered to rule out any potential complications such as a hemothorax or pneumothorax. \n",
      "\n",
      "\n",
      "162\n"
     ]
    },
    {
     "name": "stderr",
     "output_type": "stream",
     "text": [
      "\n",
      "Processed prompts:   0%|          | 0/1 [00:00<?, ?it/s, est. speed input: 0.00 toks/s, output: 0.00 toks/s]\u001b[A\n",
      "Processed prompts: 100%|██████████| 1/1 [00:00<00:00,  8.50it/s, est. speed input: 1386.86 toks/s, output: 68.48 toks/s]\u001b[A\n"
     ]
    },
    {
     "name": "stdout",
     "output_type": "stream",
     "text": [
      "Yes, there are pending results.\n",
      "934\n"
     ]
    },
    {
     "name": "stderr",
     "output_type": "stream",
     "text": [
      "\n",
      "Processed prompts:   0%|          | 0/1 [00:00<?, ?it/s, est. speed input: 0.00 toks/s, output: 0.00 toks/s]\u001b[A\n",
      "Processed prompts: 100%|██████████| 1/1 [00:04<00:00,  4.99s/it, est. speed input: 187.11 toks/s, output: 80.73 toks/s]\u001b[A\n"
     ]
    },
    {
     "name": "stdout",
     "output_type": "stream",
     "text": [
      "The patient has a history of motor vehicle collision (MVC) with severe injuries, including subarachnoid hemorrhage (SAH), multiple vertebral fractures, and a right hemothorax. She was admitted to the hospital due to severe, pleuritic right scapula pain limiting her mobility, which is a new symptom that developed one day after her discharge from the previous hospitalization. The patient was transferred for trauma surgery evaluation to assess and manage this new symptom. She was admitted to the trauma service and treated for a right nonhemorrhagic pleural effusion. The patient presented with severe, pleuritic right scapula pain limiting her mobility, described as \"severe\". The differential diagnosis included a pneumothorax or hemothorax as a complication of the recent chest tube placement. The diagnostic workup included a chest X-ray or CT scan to assess for any potential complications related to the right hemothorax or lung injury. Laboratory tests such as a complete blood count (CBC) and basic metabolic panel (BMP) may have been ordered to evaluate for any signs of infection or other systemic complications. The patient received treatments including right chest tube placement, placement of a right pigtail, and medications such as Acetaminophen, Docusate Sodium, Heparin, Morphine SR, Senna, and Polyethylene Glycol. The recommended diagnostic workup includes a computed tomography (CT) scan of the right scapula to evaluate the cause of the severe, pleuritic pain, and a chest X-ray to rule out any potential complications such as a hemothorax or pneumothorax. There are pending results, and the patient is recommended to follow up with a CT scan of the right scapula. The patient received medications related to the medical condition, including pain management with Acetaminophen and Morphine SR, and treatment for constipation with Docusate Sodium and Polyethylene Glycol.\n",
      "Time taken for generate_bhc: 24.80444645881653 seconds.\n",
      "6 of 10962, 0.05473453749315818% hadm_id: 28481035 **********\n",
      "\n",
      "\n",
      "334\n"
     ]
    },
    {
     "name": "stderr",
     "output_type": "stream",
     "text": [
      "\n",
      "Processed prompts:   0%|          | 0/1 [00:00<?, ?it/s, est. speed input: 0.00 toks/s, output: 0.00 toks/s]\u001b[A\n",
      "Processed prompts: 100%|██████████| 1/1 [00:01<00:00,  1.21s/it, est. speed input: 276.67 toks/s, output: 81.18 toks/s]\u001b[A\n"
     ]
    },
    {
     "name": "stdout",
     "output_type": "stream",
     "text": [
      "The patient, a male prisoner with no significant past medical history, was treated for a left 10-11 posterior rib fracture and a left comminuted mandible fracture after being assaulted. The diagnostic workup included laboratory testing, which showed a white cell count of 17.8, and a CT scan of the head and torso, which revealed the aforementioned fractures. The patient was also evaluated for chest pain and mandible tenderness, with no other significant findings. \n",
      "314\n"
     ]
    },
    {
     "name": "stderr",
     "output_type": "stream",
     "text": [
      "\n",
      "Processed prompts:   0%|          | 0/1 [00:00<?, ?it/s, est. speed input: 0.00 toks/s, output: 0.00 toks/s]\u001b[A\n",
      "Processed prompts: 100%|██████████| 1/1 [00:00<00:00,  1.68it/s, est. speed input: 528.65 toks/s, output: 79.13 toks/s]\u001b[A\n"
     ]
    },
    {
     "name": "stdout",
     "output_type": "stream",
     "text": [
      "The major surgical, invasive, or diagnostic, or therapeutic procedures were: Open reduction internal fixation left mandibular fracture, placement of IMF screws, and wiring of jaw, and extraction of left upper third tooth (Number 16).\n",
      "626\n"
     ]
    },
    {
     "name": "stderr",
     "output_type": "stream",
     "text": [
      "\n",
      "Processed prompts:   0%|          | 0/1 [00:00<?, ?it/s, est. speed input: 0.00 toks/s, output: 0.00 toks/s]\u001b[A\n",
      "Processed prompts: 100%|██████████| 1/1 [00:01<00:00,  1.96s/it, est. speed input: 319.35 toks/s, output: 81.11 toks/s]\u001b[A\n"
     ]
    },
    {
     "name": "stdout",
     "output_type": "stream",
     "text": [
      "The patient's medications were changed as follows: \n",
      "New medications: \n",
      "1. Acetaminophen (Liquid) 650 mg PO Q6H:PRN Pain - Mild/Fever \n",
      "2. Ibuprofen Suspension 400 mg PO Q6H:PRN Pain - Mild \n",
      "3. Polyethylene Glycol 17 g PO DAILY:PRN Constipation \n",
      "4. TraMADol 50 mg PO Q6H:PRN Pain - Moderate \n",
      "\n",
      "Stopped medications: \n",
      "None mentioned in the discharge medication list. \n",
      "However, it is possible that some medications were stopped, but not mentioned in the discharge medication list. \n",
      "The patient's admission medication list was empty, so there were no medications to compare with the discharge medication list. \n",
      "\n",
      "505\n"
     ]
    },
    {
     "name": "stderr",
     "output_type": "stream",
     "text": [
      "\n",
      "Processed prompts:   0%|          | 0/1 [00:00<?, ?it/s, est. speed input: 0.00 toks/s, output: 0.00 toks/s]\u001b[A\n",
      "Processed prompts: 100%|██████████| 1/1 [00:01<00:00,  1.22s/it, est. speed input: 415.21 toks/s, output: 80.57 toks/s]\u001b[A\n"
     ]
    },
    {
     "name": "stdout",
     "output_type": "stream",
     "text": [
      "During this hospital admission, the patient was treated with the following medications or IV therapies: Acetaminophen (Liquid) 650 mg PO Q6H:PRN Pain - Mild/Fever, Ibuprofen Suspension 400 mg PO Q6H:PRN Pain - Mild, Polyethylene Glycol 17 g PO DAILY:PRN Constipation, and TraMADol 50 mg PO Q6H:PRN Pain - Moderate. \n",
      "337\n"
     ]
    },
    {
     "name": "stderr",
     "output_type": "stream",
     "text": [
      "\n",
      "Processed prompts:   0%|          | 0/1 [00:00<?, ?it/s, est. speed input: 0.00 toks/s, output: 0.00 toks/s]\u001b[A\n",
      "Processed prompts: 100%|██████████| 1/1 [00:00<00:00,  1.10it/s, est. speed input: 371.47 toks/s, output: 80.47 toks/s]\u001b[A\n"
     ]
    },
    {
     "name": "stdout",
     "output_type": "stream",
     "text": [
      "The initial diagnostic work up included laboratory testing, which was significant for a white cell count of 17.8, and a CT scan of the head and torso, which showed a left 10-11 posterior rib fracture and a left comminuted mandible fracture. The pertinent results were a normal CBC, coags, and electrolytes. \n",
      "460\n"
     ]
    },
    {
     "name": "stderr",
     "output_type": "stream",
     "text": [
      "\n",
      "Processed prompts:   0%|          | 0/1 [00:00<?, ?it/s, est. speed input: 0.00 toks/s, output: 0.00 toks/s]\u001b[A\n",
      "Processed prompts: 100%|██████████| 1/1 [00:01<00:00,  1.22s/it, est. speed input: 378.60 toks/s, output: 80.66 toks/s]\u001b[A\n"
     ]
    },
    {
     "name": "stdout",
     "output_type": "stream",
     "text": [
      "The patient was admitted to the hospital due to facial trauma, specifically a left mandible fracture and left 10-11 posterior rib fracture, resulting from an assault. The patient presented to the emergency department with left chest pain and mandible tenderness, and underwent laboratory testing, CT scan, and a major surgical procedure, open reduction internal fixation of the left mandibular fracture. The patient's symptoms and medical condition, including the facial trauma, caused them to come to the hospital.\n",
      "344\n"
     ]
    },
    {
     "name": "stderr",
     "output_type": "stream",
     "text": [
      "\n",
      "Processed prompts:   0%|          | 0/1 [00:00<?, ?it/s, est. speed input: 0.00 toks/s, output: 0.00 toks/s]\u001b[A\n",
      "Processed prompts: 100%|██████████| 1/1 [00:00<00:00,  1.05it/s, est. speed input: 360.30 toks/s, output: 80.65 toks/s]\u001b[A\n"
     ]
    },
    {
     "name": "stdout",
     "output_type": "stream",
     "text": [
      "Mr. ___ was admitted to the hospital due to a left 10-11 posterior rib fracture and a left comminuted mandible fracture, which he sustained as a result of an assault. His major medical conditions include a white cell count of 17.8, which was an abnormal laboratory result. He also has left chest pain and mandible tenderness. \n",
      "404\n"
     ]
    },
    {
     "name": "stderr",
     "output_type": "stream",
     "text": [
      "\n",
      "Processed prompts:   0%|          | 0/1 [00:00<?, ?it/s, est. speed input: 0.00 toks/s, output: 0.00 toks/s]\u001b[A\n",
      "Processed prompts: 100%|██████████| 1/1 [00:00<00:00,  1.69it/s, est. speed input: 685.09 toks/s, output: 78.00 toks/s]\u001b[A\n"
     ]
    },
    {
     "name": "stdout",
     "output_type": "stream",
     "text": [
      "The patient was treated for left mandibular fracture and left posterior rib fractures in the hospital. He also had a history of present illness related to an assault, including left chest pain and mandible tenderness. \n",
      "609\n"
     ]
    },
    {
     "name": "stderr",
     "output_type": "stream",
     "text": [
      "\n",
      "Processed prompts:   0%|          | 0/1 [00:00<?, ?it/s, est. speed input: 0.00 toks/s, output: 0.00 toks/s]\u001b[A\n",
      "Processed prompts: 100%|██████████| 1/1 [00:00<00:00,  1.15it/s, est. speed input: 704.00 toks/s, output: 78.61 toks/s]\u001b[A\n"
     ]
    },
    {
     "name": "stdout",
     "output_type": "stream",
     "text": [
      "The patient had existing or ongoing medical conditions of pain - mild, pain - moderate, and constipation. These conditions are mentioned in the medication list as the patient was prescribed medications to manage these conditions, such as acetaminophen for pain - mild, tramadol for pain - moderate, and polyethylene glycol for constipation.\n",
      "281\n"
     ]
    },
    {
     "name": "stderr",
     "output_type": "stream",
     "text": [
      "\n",
      "Processed prompts:   0%|          | 0/1 [00:00<?, ?it/s, est. speed input: 0.00 toks/s, output: 0.00 toks/s]\u001b[A\n",
      "Processed prompts: 100%|██████████| 1/1 [00:00<00:00,  1.79it/s, est. speed input: 503.94 toks/s, output: 78.91 toks/s]\u001b[A\n"
     ]
    },
    {
     "name": "stdout",
     "output_type": "stream",
     "text": [
      "The patient was treated for acute left mandibular fracture and left posterior rib fractures in the hospital. The patient also had chronic medical conditions of pain - mild, pain - moderate, and constipation. \n",
      "389\n"
     ]
    },
    {
     "name": "stderr",
     "output_type": "stream",
     "text": [
      "\n",
      "Processed prompts:   0%|          | 0/1 [00:00<?, ?it/s, est. speed input: 0.00 toks/s, output: 0.00 toks/s]\u001b[A\n",
      "Processed prompts: 100%|██████████| 1/1 [00:00<00:00,  1.41it/s, est. speed input: 548.07 toks/s, output: 78.90 toks/s]\u001b[A\n"
     ]
    },
    {
     "name": "stdout",
     "output_type": "stream",
     "text": [
      "The patient presented with left chest pain and mandible tenderness. The severity of these symptoms is not explicitly stated in the provided text, but it can be inferred that they are moderate to severe given the patient's history of trauma and the presence of rib and mandible fractures.\n",
      "281\n"
     ]
    },
    {
     "name": "stderr",
     "output_type": "stream",
     "text": [
      "\n",
      "Processed prompts:   0%|          | 0/1 [00:00<?, ?it/s, est. speed input: 0.00 toks/s, output: 0.00 toks/s]\u001b[A\n",
      "Processed prompts: 100%|██████████| 1/1 [00:01<00:00,  1.21s/it, est. speed input: 232.71 toks/s, output: 81.16 toks/s]\u001b[A\n"
     ]
    },
    {
     "name": "stdout",
     "output_type": "stream",
     "text": [
      "The diagnostic work-up for the acute left mandibular fracture included a CT scan of the head and torso, which showed a left comminuted mandible fracture. The related results were a normal CBC, coags, and electrolytes. For the left posterior rib fractures, the diagnostic work-up included a CT scan of the head and torso, which showed a left 10-11 posterior rib fracture. There were no specific related results mentioned in the provided data. \n",
      "\n",
      "\n",
      "599\n"
     ]
    },
    {
     "name": "stderr",
     "output_type": "stream",
     "text": [
      "\n",
      "Processed prompts:   0%|          | 0/1 [00:00<?, ?it/s, est. speed input: 0.00 toks/s, output: 0.00 toks/s]\u001b[A\n",
      "Processed prompts: 100%|██████████| 1/1 [00:01<00:00,  1.80s/it, est. speed input: 332.30 toks/s, output: 80.99 toks/s]\u001b[A\n"
     ]
    },
    {
     "name": "stdout",
     "output_type": "stream",
     "text": [
      "The patient was treated for left mandibular fracture and left posterior rib fractures. The treatments included:\n",
      "\n",
      "* Open reduction internal fixation left mandibular fracture\n",
      "* Placement of IMF screws\n",
      "* Wiring of jaw\n",
      "* Extraction of left upper third tooth (Number 16)\n",
      "* Medications:\n",
      "\t+ Acetaminophen (Liquid) 650 mg PO Q6H:PRN Pain - Mild/Fever\n",
      "\t+ Ibuprofen Suspension 400 mg PO Q6H:PRN Pain - Mild\n",
      "\t+ Polyethylene Glycol 17 g PO DAILY:PRN Constipation\n",
      "\t+ TraMADol 50 mg PO Q6H:PRN Pain - Moderate\n",
      "\n",
      "\n",
      "338\n"
     ]
    },
    {
     "name": "stderr",
     "output_type": "stream",
     "text": [
      "\n",
      "Processed prompts:   0%|          | 0/1 [00:00<?, ?it/s, est. speed input: 0.00 toks/s, output: 0.00 toks/s]\u001b[A\n",
      "Processed prompts: 100%|██████████| 1/1 [00:01<00:00,  1.04s/it, est. speed input: 325.08 toks/s, output: 80.79 toks/s]\u001b[A\n"
     ]
    },
    {
     "name": "stdout",
     "output_type": "stream",
     "text": [
      "The recommended diagnostic work-up for this patient includes a chest X-ray to evaluate the left chest pain, a mandible series to assess the severity of the mandible fracture, and a complete blood count (CBC) with differential to further evaluate the white blood cell count of 17.8. Additionally, a CT scan of the head and torso may be repeated to further evaluate the extent of the trauma. \n",
      "162\n"
     ]
    },
    {
     "name": "stderr",
     "output_type": "stream",
     "text": [
      "\n",
      "Processed prompts:   0%|          | 0/1 [00:00<?, ?it/s, est. speed input: 0.00 toks/s, output: 0.00 toks/s]\u001b[A\n",
      "Processed prompts: 100%|██████████| 1/1 [00:00<00:00,  8.49it/s, est. speed input: 1384.00 toks/s, output: 68.34 toks/s]\u001b[A\n"
     ]
    },
    {
     "name": "stdout",
     "output_type": "stream",
     "text": [
      "Yes, there are pending results.\n",
      "886\n"
     ]
    },
    {
     "name": "stderr",
     "output_type": "stream",
     "text": [
      "\n",
      "Processed prompts:   0%|          | 0/1 [00:00<?, ?it/s, est. speed input: 0.00 toks/s, output: 0.00 toks/s]\u001b[A\n",
      "Processed prompts: 100%|██████████| 1/1 [00:04<00:00,  4.68s/it, est. speed input: 189.36 toks/s, output: 80.79 toks/s]\u001b[A\n"
     ]
    },
    {
     "name": "stdout",
     "output_type": "stream",
     "text": [
      "The patient, Mr. ___, has a relevant past medical history of facial trauma, specifically a left mandible fracture and left 10-11 posterior rib fracture, resulting from an assault. He was admitted to the hospital due to facial trauma, specifically a left mandible fracture and left 10-11 posterior rib fracture, resulting from an assault. The patient underwent a major surgical procedure, open reduction internal fixation of the left mandibular fracture. The patient's symptoms and medical condition, including the facial trauma, caused them to come to the hospital.\n",
      "\n",
      "The patient has an acute medical condition, a left mandibular fracture, with presenting symptoms of left mandible tenderness and severity not explicitly stated. The differential diagnosis includes a left mandibular fracture. The diagnostic workup included a CT scan of the head and torso, which showed a left comminuted mandible fracture. The related results were a normal CBC, coags, and electrolytes. The patient was treated with open reduction internal fixation of the left mandibular fracture, placement of IMF screws, wiring of the jaw, extraction of left upper third tooth (Number 16), and medications including acetaminophen, ibuprofen, polyethylene glycol, and tramadol. The relevant physical exam findings include left mandible tenderness. Pertinent lab work includes a white cell count of 17.8, which is an abnormal laboratory result. There are pending results, and the recommended follow-up includes a chest X-ray to evaluate the left chest pain, a mandible series to assess the severity of the mandible fracture, and a complete blood count (CBC) with differential to further evaluate the white blood cell count of 17.8. The patient received medications related to the left mandibular fracture, including acetaminophen, ibuprofen, polyethylene glycol, and tramadol.\n",
      "Time taken for generate_bhc: 19.7007839679718 seconds.\n",
      "7 of 10962, 0.06385696040868455% hadm_id: 25142813 **********\n",
      "\n",
      "\n",
      "438\n"
     ]
    },
    {
     "name": "stderr",
     "output_type": "stream",
     "text": [
      "\n",
      "Processed prompts:   0%|          | 0/1 [00:00<?, ?it/s, est. speed input: 0.00 toks/s, output: 0.00 toks/s]\u001b[A\n",
      "Processed prompts: 100%|██████████| 1/1 [00:01<00:00,  1.11s/it, est. speed input: 395.54 toks/s, output: 80.37 toks/s]\u001b[A\n"
     ]
    },
    {
     "name": "stdout",
     "output_type": "stream",
     "text": [
      "The patient, a 30-year-old female with a history of rheumatic heart disease and mechanical mitral valve replacement, was treated for buccal cellulitis with likely dental source. The diagnostic workup included a CT sinus that showed soft tissue edema without abscess. The patient was given Unasyn and her INR was found to be 7.2. She continues to complain of left-sided facial pain. \n",
      "270\n"
     ]
    },
    {
     "name": "stderr",
     "output_type": "stream",
     "text": [
      "\n",
      "Processed prompts:   0%|          | 0/1 [00:00<?, ?it/s, est. speed input: 0.00 toks/s, output: 0.00 toks/s]\u001b[A\n",
      "Processed prompts: 100%|██████████| 1/1 [00:00<00:00,  1.42it/s, est. speed input: 384.50 toks/s, output: 79.75 toks/s]\u001b[A\n"
     ]
    },
    {
     "name": "stdout",
     "output_type": "stream",
     "text": [
      "There were no major surgical, invasive, or diagnostic, or therapeutic procedures performed on this patient. The patient was treated for buccal cellulitis with antibiotics and further diagnostic workup was done with a CT sinus, but no surgical or invasive procedures were performed. \n",
      "571\n"
     ]
    },
    {
     "name": "stderr",
     "output_type": "stream",
     "text": [
      "\n",
      "Processed prompts:   0%|          | 0/1 [00:00<?, ?it/s, est. speed input: 0.00 toks/s, output: 0.00 toks/s]\u001b[A\n",
      "Processed prompts: 100%|██████████| 1/1 [00:01<00:00,  1.36s/it, est. speed input: 420.62 toks/s, output: 80.29 toks/s]\u001b[A\n"
     ]
    },
    {
     "name": "stdout",
     "output_type": "stream",
     "text": [
      "The changes to the patient's medications were:\n",
      "- Miralax was stopped.\n",
      "- Docusate was stopped.\n",
      "- ASA was stopped.\n",
      "- Warfarin was changed from 5mg to 2.5mg on the evening of discharge, then resume home dose.\n",
      "- Amoxicillin-pot clavulanate was added for 3.5 days.\n",
      "\n",
      "The new medications were:\n",
      "- Polyethylene glycol 3350.\n",
      "\n",
      "The medications that were stopped were:\n",
      "- Miralax\n",
      "- Docusate\n",
      "- ASA.\n",
      "562\n"
     ]
    },
    {
     "name": "stderr",
     "output_type": "stream",
     "text": [
      "\n",
      "Processed prompts:   0%|          | 0/1 [00:00<?, ?it/s, est. speed input: 0.00 toks/s, output: 0.00 toks/s]\u001b[A\n",
      "Processed prompts: 100%|██████████| 1/1 [00:01<00:00,  1.13s/it, est. speed input: 498.00 toks/s, output: 79.75 toks/s]\u001b[A\n"
     ]
    },
    {
     "name": "stdout",
     "output_type": "stream",
     "text": [
      "During this hospital admission, the patient was treated with Unasyn for buccal cellulitis with likely dental source. Additionally, the patient was given Polyethylene glycol 3350. The patient's Warfarin was changed from 5mg to 2.5mg on the evening of discharge, then resume home dose. Amoxicillin-pot clavulanate was also added for 3.5 days. \n",
      "441\n"
     ]
    },
    {
     "name": "stderr",
     "output_type": "stream",
     "text": [
      "\n",
      "Processed prompts:   0%|          | 0/1 [00:00<?, ?it/s, est. speed input: 0.00 toks/s, output: 0.00 toks/s]\u001b[A\n",
      "Processed prompts: 100%|██████████| 1/1 [00:00<00:00,  1.43it/s, est. speed input: 631.61 toks/s, output: 78.77 toks/s]\u001b[A\n"
     ]
    },
    {
     "name": "stdout",
     "output_type": "stream",
     "text": [
      "The initial diagnostic workup included a CT sinus, which showed soft tissue edema without abscess. The patient was given Unasyn for buccal cellulitis with likely dental source. The pertinent results include an INR of 7.2. \n",
      "530\n"
     ]
    },
    {
     "name": "stderr",
     "output_type": "stream",
     "text": [
      "\n",
      "Processed prompts:   0%|          | 0/1 [00:00<?, ?it/s, est. speed input: 0.00 toks/s, output: 0.00 toks/s]\u001b[A\n",
      "Processed prompts: 100%|██████████| 1/1 [00:01<00:00,  1.67s/it, est. speed input: 317.46 toks/s, output: 80.86 toks/s]\u001b[A\n"
     ]
    },
    {
     "name": "stdout",
     "output_type": "stream",
     "text": [
      "The patient was admitted to the hospital due to left-sided facial swelling and pain, which is a symptom of buccal cellulitis. The patient's medical condition, rheumatic heart disease, and history of MSSA endocarditis, likely contributed to her admission. The patient's recent dental issues, including tooth extractions recommended but not arranged, may have also played a role in her admission. Additionally, the patient's abnormal coagulation profile, as evidenced by an INR of 7.2, may have been a concern for the healthcare providers. Overall, the patient's symptoms, medical condition, and other factors likely led to her admission to the hospital.\n",
      "448\n"
     ]
    },
    {
     "name": "stderr",
     "output_type": "stream",
     "text": [
      "\n",
      "Processed prompts:   0%|          | 0/1 [00:00<?, ?it/s, est. speed input: 0.00 toks/s, output: 0.00 toks/s]\u001b[A\n",
      "Processed prompts: 100%|██████████| 1/1 [00:02<00:00,  2.89s/it, est. speed input: 155.15 toks/s, output: 82.08 toks/s]\u001b[A\n"
     ]
    },
    {
     "name": "stdout",
     "output_type": "stream",
     "text": [
      "The patient is a 30-year-old female with a history of rheumatic heart disease, mechanical mitral valve replacement (MVR), and previous methicillin-sensitive Staphylococcus aureus (MSSA) endocarditis. She was admitted to the hospital due to left-sided facial swelling and pain, which started two days prior to admission. The patient also reported chills at home and had not measured her temperature. She has been experiencing significant pain around her eye and has been eating less over the last few days. The patient's initial vital signs in the emergency department (ED) were 97.9°F, 84 beats per minute, 176/74 mmHg, 20 breaths per minute, and 99% oxygen saturation. Her laboratory results showed an international normalized ratio (INR) of 7.2. The patient continues to complain of left-sided facial pain but has no other complaints. The reason for admission was likely due to the patient's facial swelling and pain, which was suspected to be related to a dental source, and her elevated INR, which may be related to her coumadin therapy. \n",
      "506\n"
     ]
    },
    {
     "name": "stderr",
     "output_type": "stream",
     "text": [
      "\n",
      "Processed prompts:   0%|          | 0/1 [00:00<?, ?it/s, est. speed input: 0.00 toks/s, output: 0.00 toks/s]\u001b[A\n",
      "Processed prompts: 100%|██████████| 1/1 [00:00<00:00,  1.22it/s, est. speed input: 617.59 toks/s, output: 79.33 toks/s]\u001b[A\n"
     ]
    },
    {
     "name": "stdout",
     "output_type": "stream",
     "text": [
      "The patient was treated for left facial/pre-septal cellulitis and supratherapeutic INR during her hospital admission. She also had hypertension and was taking anticoagulant medication. Additionally, she had a history of rheumatic heart disease, mechanical mitral valve replacement, and MSSA endocarditis. \n",
      "554\n"
     ]
    },
    {
     "name": "stderr",
     "output_type": "stream",
     "text": [
      "\n",
      "Processed prompts:   0%|          | 0/1 [00:00<?, ?it/s, est. speed input: 0.00 toks/s, output: 0.00 toks/s]\u001b[A\n",
      "Processed prompts: 100%|██████████| 1/1 [00:01<00:00,  1.80s/it, est. speed input: 307.45 toks/s, output: 81.02 toks/s]\u001b[A\n"
     ]
    },
    {
     "name": "stdout",
     "output_type": "stream",
     "text": [
      "The patient had existing or ongoing medical conditions of hypertension, hyperlipidemia, and osteoporosis, as evidenced by the medications listed, including Lisinopril (for hypertension), Simvastatin (for hyperlipidemia), and Alendronate (for osteoporosis). Additionally, the patient had a history of constipation, as indicated by the prescription of Miralax and Docusate. The patient also had a history of taking Aspirin, which may be related to a cardiovascular condition. Furthermore, the patient had a history of taking Warfarin, which is an anticoagulant medication, suggesting a history of thromboembolic disease or atrial fibrillation. \n",
      "376\n"
     ]
    },
    {
     "name": "stderr",
     "output_type": "stream",
     "text": [
      "\n",
      "Processed prompts:   0%|          | 0/1 [00:00<?, ?it/s, est. speed input: 0.00 toks/s, output: 0.00 toks/s]\u001b[A\n",
      "Processed prompts: 100%|██████████| 1/1 [00:00<00:00,  1.21it/s, est. speed input: 456.74 toks/s, output: 80.17 toks/s]\u001b[A\n"
     ]
    },
    {
     "name": "stdout",
     "output_type": "stream",
     "text": [
      "The patient was treated for acute left facial/pre-septal cellulitis and supratherapeutic INR during her hospital admission. The patient also had chronic medical conditions, including hypertension, hyperlipidemia, osteoporosis, rheumatic heart disease, mechanical mitral valve replacement, and MSSA endocarditis. \n",
      "512\n"
     ]
    },
    {
     "name": "stderr",
     "output_type": "stream",
     "text": [
      "\n",
      "Processed prompts:   0%|          | 0/1 [00:00<?, ?it/s, est. speed input: 0.00 toks/s, output: 0.00 toks/s]\u001b[A\n",
      "Processed prompts: 100%|██████████| 1/1 [00:01<00:00,  1.06s/it, est. speed input: 483.25 toks/s, output: 80.23 toks/s]\u001b[A\n"
     ]
    },
    {
     "name": "stdout",
     "output_type": "stream",
     "text": [
      "The patient presented with symptoms of left sided facial swelling, redness, and pain, as well as chills at home. The severity of these symptoms is moderate to severe, as the patient reported significant pain around her eye and was treated for buccal cellulitis with likely dental source. Additionally, the patient had a supratherapeutic INR, which indicates a high level of anticoagulation. \n",
      "285\n"
     ]
    },
    {
     "name": "stderr",
     "output_type": "stream",
     "text": [
      "\n",
      "Processed prompts:   0%|          | 0/1 [00:00<?, ?it/s, est. speed input: 0.00 toks/s, output: 0.00 toks/s]\u001b[A\n",
      "Processed prompts: 100%|██████████| 1/1 [00:01<00:00,  1.09s/it, est. speed input: 262.19 toks/s, output: 80.96 toks/s]\u001b[A\n"
     ]
    },
    {
     "name": "stdout",
     "output_type": "stream",
     "text": [
      "The diagnostic workup for acute left facial/pre-septal cellulitis included a CT sinus, which showed soft tissue edema without abscess. The related results were an INR of 7.2. For supratherapeutic INR, the diagnostic workup and related results are not specified in the provided data. However, the patient was given Unasyn for buccal cellulitis with likely dental source. \n",
      "\n",
      "\n",
      "561\n"
     ]
    },
    {
     "name": "stderr",
     "output_type": "stream",
     "text": [
      "\n",
      "Processed prompts:   0%|          | 0/1 [00:00<?, ?it/s, est. speed input: 0.00 toks/s, output: 0.00 toks/s]\u001b[A\n",
      "Processed prompts: 100%|██████████| 1/1 [00:01<00:00,  1.01s/it, est. speed input: 556.14 toks/s, output: 79.31 toks/s]\u001b[A\n"
     ]
    },
    {
     "name": "stdout",
     "output_type": "stream",
     "text": [
      "The treatments for the acute medical conditions were:\n",
      "- Unasyn for buccal cellulitis with likely dental source\n",
      "- Polyethylene glycol 3350\n",
      "- Warfarin changed from 5mg to 2.5mg on the evening of discharge, then resume home dose\n",
      "- Amoxicillin-pot clavulanate for 3.5 days\n",
      "\n",
      "445\n"
     ]
    },
    {
     "name": "stderr",
     "output_type": "stream",
     "text": [
      "\n",
      "Processed prompts:   0%|          | 0/1 [00:00<?, ?it/s, est. speed input: 0.00 toks/s, output: 0.00 toks/s]\u001b[A\n",
      "Processed prompts: 100%|██████████| 1/1 [00:01<00:00,  1.78s/it, est. speed input: 249.89 toks/s, output: 81.42 toks/s]\u001b[A\n"
     ]
    },
    {
     "name": "stdout",
     "output_type": "stream",
     "text": [
      "Based on the patient's medical history and current symptoms, the recommended diagnostic work-up would include a dental evaluation to assess for any potential dental sources of the facial swelling and pain. Additionally, a thorough examination of the patient's heart condition and potential complications related to her rheumatic heart disease and mechanical valve replacement would be necessary. A complete blood count (CBC) and blood chemistry tests, including a coagulation panel, would also be recommended to assess the patient's overall health and potential complications related to her medications. Furthermore, a CT or MRI scan of the face and sinuses may be necessary to further evaluate the extent of the soft tissue edema and rule out any potential abscesses or other complications. \n",
      "207\n"
     ]
    },
    {
     "name": "stderr",
     "output_type": "stream",
     "text": [
      "\n",
      "Processed prompts:   0%|          | 0/1 [00:00<?, ?it/s, est. speed input: 0.00 toks/s, output: 0.00 toks/s]\u001b[A\n",
      "Processed prompts: 100%|██████████| 1/1 [00:00<00:00,  1.35it/s, est. speed input: 279.99 toks/s, output: 81.15 toks/s]\u001b[A\n"
     ]
    },
    {
     "name": "stdout",
     "output_type": "stream",
     "text": [
      "Yes, there are pending results. The patient is scheduled to return to the clinic 2 days following discharge for an INR check. Additionally, the patient is to follow up with ___ and PCP as an outpatient to prepare for mouth clearance surgery. These are pending results that require further action.\n",
      "1166\n"
     ]
    },
    {
     "name": "stderr",
     "output_type": "stream",
     "text": [
      "\n",
      "Processed prompts:   0%|          | 0/1 [00:00<?, ?it/s, est. speed input: 0.00 toks/s, output: 0.00 toks/s]\u001b[A\n",
      "Processed prompts: 100%|██████████| 1/1 [00:06<00:00,  6.45s/it, est. speed input: 180.80 toks/s, output: 80.63 toks/s]\u001b[A\n"
     ]
    },
    {
     "name": "stdout",
     "output_type": "stream",
     "text": [
      "The patient, a 30-year-old female with a history of rheumatic heart disease, mechanical mitral valve replacement, and previous MSSA endocarditis, was admitted to the hospital due to left-sided facial swelling and pain, which is a symptom of buccal cellulitis. The patient's medical condition and recent dental issues, including tooth extractions recommended but not arranged, likely contributed to her admission. The patient's abnormal coagulation profile, as evidenced by an INR of 7.2, may have been a concern for the healthcare providers. The patient was treated for left facial/pre-septal cellulitis and supratherapeutic INR during her hospital admission. She also had hypertension and was taking anticoagulant medication. The patient presented with symptoms of left-sided facial swelling, redness, and pain, as well as chills at home. The severity of these symptoms is moderate to severe, as the patient reported significant pain around her eye and was treated for buccal cellulitis with likely dental source. The patient received Unasyn for buccal cellulitis with likely dental source, Polyethylene glycol 3350, Warfarin changed from 5mg to 2.5mg on the evening of discharge, then resume home dose, and Amoxicillin-pot clavulanate for 3.5 days. The patient is scheduled to return to the clinic 2 days following discharge for an INR check and is to follow up with ___ and PCP as an outpatient to prepare for mouth clearance surgery. The patient's medications related to each medical condition include Unasyn for buccal cellulitis with likely dental source, Warfarin for anticoagulation, and Amoxicillin-pot clavulanate for 3.5 days. The patient's relevant physical exam findings include left-sided facial swelling, redness, and pain. The pertinent lab work includes an INR of 7.2. The radiology and imaging results include a CT sinus, which showed soft tissue edema without abscess. The patient's recommended follow-up includes a dental evaluation to assess for any potential dental sources of the facial swelling and pain, a thorough examination of the patient's heart condition and potential complications related to her rheumatic heart disease and mechanical valve replacement, a complete blood count (CBC) and blood chemistry tests, including a coagulation panel, and a CT or MRI scan of the face and sinuses to further evaluate the extent of the soft tissue edema and rule out any potential abscesses or other complications.\n",
      "Time taken for generate_bhc: 25.20323657989502 seconds.\n",
      "8 of 10962, 0.07297938332421092% hadm_id: 29339128 **********\n",
      "\n",
      "\n",
      "664\n"
     ]
    },
    {
     "name": "stderr",
     "output_type": "stream",
     "text": [
      "\n",
      "Processed prompts:   0%|          | 0/1 [00:00<?, ?it/s, est. speed input: 0.00 toks/s, output: 0.00 toks/s]\u001b[A\n",
      "Processed prompts: 100%|██████████| 1/1 [00:01<00:00,  1.85s/it, est. speed input: 359.35 toks/s, output: 80.64 toks/s]\u001b[A\n"
     ]
    },
    {
     "name": "stdout",
     "output_type": "stream",
     "text": [
      "The patient was treated with oxygen therapy, lasix, and BiPAP. The diagnostic workup included lab tests, including troponin and BNP, as well as a chest X-ray. The patient's mental status improved with oxygen therapy, and she was alert and oriented upon arrival to the floor. However, she continued to experience hypoxia and was eventually transferred to the ICU, where she was placed on BiPAP. The patient's respiratory status was monitored closely, and she was intermittently desaturating and experiencing apneic episodes. The patient also reported a cough productive of gray sputum, but denied hemoptysis, chest pain, weight loss, fevers, or nightsweats. \n",
      "337\n"
     ]
    },
    {
     "name": "stderr",
     "output_type": "stream",
     "text": [
      "\n",
      "Processed prompts:   0%|          | 0/1 [00:00<?, ?it/s, est. speed input: 0.00 toks/s, output: 0.00 toks/s]\u001b[A\n",
      "Processed prompts: 100%|██████████| 1/1 [00:00<00:00,  3.40it/s, est. speed input: 1147.59 toks/s, output: 74.91 toks/s]\u001b[A\n"
     ]
    },
    {
     "name": "stdout",
     "output_type": "stream",
     "text": [
      "The major surgical, invasive, or diagnostic, or therapeutic procedures were bronchoscopy and lymph node biopsy.\n",
      "475\n"
     ]
    },
    {
     "name": "stderr",
     "output_type": "stream",
     "text": [
      "\n",
      "Processed prompts:   0%|          | 0/1 [00:00<?, ?it/s, est. speed input: 0.00 toks/s, output: 0.00 toks/s]\u001b[A\n",
      "Processed prompts: 100%|██████████| 1/1 [00:01<00:00,  1.94s/it, est. speed input: 245.18 toks/s, output: 81.55 toks/s]\u001b[A\n"
     ]
    },
    {
     "name": "stdout",
     "output_type": "stream",
     "text": [
      "The changes to the patient's medications were the addition of ProAir HFA (albuterol sulfate), Symbicort (budesonide-formoterol), Amlodipine, and DiphenhydrAMINE, and the addition of Sarna Lotion. The medications that were stopped were Lorazepam and Lisinopril. The medications that were new were ProAir HFA (albuterol sulfate), Symbicort (budesonide-formoterol), Amlodipine, DiphenhydrAMINE, and Sarna Lotion. The medications that were continued were LaMOTrigine, LeVETiracetam, PHENObarbital, and Phenytoin Sodium Extended.  \n",
      "834\n"
     ]
    },
    {
     "name": "stderr",
     "output_type": "stream",
     "text": [
      "\n",
      "Processed prompts:   0%|          | 0/1 [00:00<?, ?it/s, est. speed input: 0.00 toks/s, output: 0.00 toks/s]\u001b[A\n",
      "Processed prompts: 100%|██████████| 1/1 [00:01<00:00,  1.30s/it, est. speed input: 641.62 toks/s, output: 78.47 toks/s]\u001b[A\n"
     ]
    },
    {
     "name": "stdout",
     "output_type": "stream",
     "text": [
      "During this hospital admission, the patient received IV lasix (20mg) in the ED to treat her hypoxia. She was also put on BiPAP in the MICU to help with her respiratory issues. Additionally, she was prescribed ProAir HFA (albuterol sulfate), Symbicort (budesonide-formoterol), Amlodipine, and DiphenhydrAMINE, which are all medications used to treat respiratory and cardiovascular conditions. \n",
      "667\n"
     ]
    },
    {
     "name": "stderr",
     "output_type": "stream",
     "text": [
      "\n",
      "Processed prompts:   0%|          | 0/1 [00:00<?, ?it/s, est. speed input: 0.00 toks/s, output: 0.00 toks/s]\u001b[A\n",
      "Processed prompts: 100%|██████████| 1/1 [00:01<00:00,  1.69s/it, est. speed input: 394.36 toks/s, output: 80.41 toks/s]\u001b[A\n"
     ]
    },
    {
     "name": "stdout",
     "output_type": "stream",
     "text": [
      "The initial diagnostic workup included routine labs drawn at the patient's primary care physician's office last week, which showed an elevated BNP. In the emergency department, labs were notable for negative troponin and elevated BNP. A chest X-ray was also performed, which showed engorged pulmonary vasculature. The patient received 20mg IV lasix in the ED and her mental status reportedly improved after receiving oxygen therapy. Additionally, an arterial blood gas (ABG) was performed, with results pending. The patient was also evaluated for possible initiation of BiPAP or CPAP due to suspected underlying obstructive lung disease and possible obstructive sleep apnea.\n",
      "753\n"
     ]
    },
    {
     "name": "stderr",
     "output_type": "stream",
     "text": [
      "\n",
      "Processed prompts:   0%|          | 0/1 [00:00<?, ?it/s, est. speed input: 0.00 toks/s, output: 0.00 toks/s]\u001b[A\n",
      "Processed prompts: 100%|██████████| 1/1 [00:01<00:00,  1.47s/it, est. speed input: 512.94 toks/s, output: 79.70 toks/s]\u001b[A\n"
     ]
    },
    {
     "name": "stdout",
     "output_type": "stream",
     "text": [
      "The patient was admitted to the hospital due to symptoms of confusion, shortness of breath, and hypoxia. The patient's mental status was altered, and she was experiencing respiratory distress, which led to her admission to the emergency room. The patient's son was concerned about her confusion and was trying to convince her to go to the hospital, and the patient's primary care physician recommended that she be taken to the emergency room. The patient's symptoms, medical condition, and the concern for her mental status and respiratory distress caused her to come to or be brought into the hospital.\n",
      "674\n"
     ]
    },
    {
     "name": "stderr",
     "output_type": "stream",
     "text": [
      "\n",
      "Processed prompts:   0%|          | 0/1 [00:00<?, ?it/s, est. speed input: 0.00 toks/s, output: 0.00 toks/s]\u001b[A\n",
      "Processed prompts: 100%|██████████| 1/1 [00:01<00:00,  1.61s/it, est. speed input: 419.59 toks/s, output: 80.31 toks/s]\u001b[A\n"
     ]
    },
    {
     "name": "stdout",
     "output_type": "stream",
     "text": [
      "The patient's major medical conditions include multiple AVM and a seizure disorder. She was admitted to the hospital due to hypoxia and altered mental status (AMS), which was likely caused by her underlying obstructive lung disease and possible obstructive sleep apnea (OSA). The patient's symptoms, including shortness of breath and confusion, worsened over the past year and prompted her son to seek medical attention. The patient's primary care physician recommended that she be taken to the emergency room, where she received oxygen therapy and was subsequently admitted to the intensive care unit (ICU) for further management of her respiratory distress. \n",
      "822\n"
     ]
    },
    {
     "name": "stderr",
     "output_type": "stream",
     "text": [
      "\n",
      "Processed prompts:   0%|          | 0/1 [00:00<?, ?it/s, est. speed input: 0.00 toks/s, output: 0.00 toks/s]\u001b[A\n",
      "Processed prompts: 100%|██████████| 1/1 [00:01<00:00,  1.65s/it, est. speed input: 497.41 toks/s, output: 79.27 toks/s]\u001b[A\n"
     ]
    },
    {
     "name": "stdout",
     "output_type": "stream",
     "text": [
      "The patient was treated for acute exacerbation of COPD, acute diastolic heart failure, and respiratory failure in the hospital. She also had underlying medical conditions such as epilepsy, left frontal AVM, posterior communicating artery aneurysm, lumbar disc herniation, and hypertension. Additionally, she had sclerotic lesions in the T11 vertebral body and manubrium, and moderate mediastinal and hilar lymphadenopathy. The patient's symptoms included shortness of breath, hypoxia, and altered mental status. She was also experiencing cough productive of gray sputum and had a history of seizure disorder. \n",
      "458\n"
     ]
    },
    {
     "name": "stderr",
     "output_type": "stream",
     "text": [
      "\n",
      "Processed prompts:   0%|          | 0/1 [00:00<?, ?it/s, est. speed input: 0.00 toks/s, output: 0.00 toks/s]\u001b[A\n",
      "Processed prompts: 100%|██████████| 1/1 [00:01<00:00,  1.59s/it, est. speed input: 288.26 toks/s, output: 81.19 toks/s]\u001b[A\n"
     ]
    },
    {
     "name": "stdout",
     "output_type": "stream",
     "text": [
      "The patient had existing or ongoing medical conditions including hypertension (based on the medication list, specifically Amlodipine 10 mg PO DAILY) and anxiety (based on the medication list, specifically Lorazepam 1 mg PO DAILY:PRN anxiety). Additionally, the patient had a history of seizures (based on the medication list, specifically LaMOTrigine 300 mg PO BID, LeVETiracetam 1000 mg PO BID, PHENObarbital 129.6 mg PO QAM, and Phenytoin Sodium Extended 200 mg PO BID). \n",
      "425\n"
     ]
    },
    {
     "name": "stderr",
     "output_type": "stream",
     "text": [
      "\n",
      "Processed prompts:   0%|          | 0/1 [00:00<?, ?it/s, est. speed input: 0.00 toks/s, output: 0.00 toks/s]\u001b[A\n",
      "Processed prompts: 100%|██████████| 1/1 [00:00<00:00,  1.51it/s, est. speed input: 642.31 toks/s, output: 78.59 toks/s]\u001b[A\n"
     ]
    },
    {
     "name": "stdout",
     "output_type": "stream",
     "text": [
      "The patient was treated for acute exacerbation of chronic obstructive pulmonary disease (COPD), acute diastolic heart failure, and respiratory failure in the hospital. She also had underlying chronic medical conditions including epilepsy, hypertension, and anxiety. \n",
      "804\n"
     ]
    },
    {
     "name": "stderr",
     "output_type": "stream",
     "text": [
      "\n",
      "Processed prompts:   0%|          | 0/1 [00:00<?, ?it/s, est. speed input: 0.00 toks/s, output: 0.00 toks/s]\u001b[A\n",
      "Processed prompts: 100%|██████████| 1/1 [00:01<00:00,  1.52s/it, est. speed input: 529.75 toks/s, output: 79.07 toks/s]\u001b[A\n"
     ]
    },
    {
     "name": "stdout",
     "output_type": "stream",
     "text": [
      "The patient presented with symptoms of shortness of breath, hypoxia, and altered mental status. The severity of these symptoms was moderate to severe, as evidenced by her need for oxygen therapy and BiPAP in the hospital. She also had a cough productive of gray sputum, which was likely related to her underlying COPD. The patient's mental status was initially altered, but improved with oxygen therapy. Her respiratory failure was severe enough to require BiPAP and intermittent desatting to low levels. Overall, the patient's symptoms were severe and required intensive treatment in the hospital.\n",
      "354\n"
     ]
    },
    {
     "name": "stderr",
     "output_type": "stream",
     "text": [
      "\n",
      "Processed prompts:   0%|          | 0/1 [00:00<?, ?it/s, est. speed input: 0.00 toks/s, output: 0.00 toks/s]\u001b[A\n",
      "Processed prompts: 100%|██████████| 1/1 [00:03<00:00,  3.52s/it, est. speed input: 100.66 toks/s, output: 82.47 toks/s]\u001b[A\n"
     ]
    },
    {
     "name": "stdout",
     "output_type": "stream",
     "text": [
      "The diagnostic workup for acute exacerbation of chronic obstructive pulmonary disease (COPD) included routine labs drawn at the patient's primary care physician's office last week, which showed an elevated BNP. In the emergency department, labs were notable for negative troponin and elevated BNP. A chest X-ray was also performed, which showed engorged pulmonary vasculature. Additionally, an arterial blood gas (ABG) was performed, with results pending. The patient was also evaluated for possible initiation of BiPAP or CPAP due to suspected underlying obstructive lung disease and possible obstructive sleep apnea. For acute diastolic heart failure, the diagnostic workup included routine labs drawn at the patient's primary care physician's office last week, which showed an elevated BNP. In the emergency department, labs were notable for negative troponin and elevated BNP. For respiratory failure, the diagnostic workup included routine labs drawn at the patient's primary care physician's office last week, which showed an elevated BNP. In the emergency department, labs were notable for negative troponin and elevated BNP. A chest X-ray was also performed, which showed engorged pulmonary vasculature. Additionally, an arterial blood gas (ABG) was performed, with results pending. The patient received 20mg IV lasix in the ED and her mental status reportedly improved after receiving oxygen therapy. \n",
      "713\n"
     ]
    },
    {
     "name": "stderr",
     "output_type": "stream",
     "text": [
      "\n",
      "Processed prompts:   0%|          | 0/1 [00:00<?, ?it/s, est. speed input: 0.00 toks/s, output: 0.00 toks/s]\u001b[A\n",
      "Processed prompts: 100%|██████████| 1/1 [00:03<00:00,  3.90s/it, est. speed input: 183.04 toks/s, output: 81.38 toks/s]\u001b[A\n"
     ]
    },
    {
     "name": "stdout",
     "output_type": "stream",
     "text": [
      "The treatments for the acute medical conditions were:\n",
      "\n",
      "* Acute exacerbation of COPD: BiPAP, oxygen therapy, and lasix\n",
      "* Acute diastolic heart failure: BiPAP, oxygen therapy, and lasix\n",
      "* Respiratory failure: BiPAP, oxygen therapy, and lasix\n",
      "* Hypoxia: oxygen therapy, lasix, and BiPAP\n",
      "* Altered mental status: oxygen therapy\n",
      "* Cough productive of gray sputum: Symbicort (budesonide-formoterol), ProAir HFA (albuterol sulfate), and Sarna Lotion\n",
      "* Seizure disorder: LaMOTrigine, LeVETiracetam, PHENObarbital, and Phenytoin Sodium Extended\n",
      "* Sclerotic lesions in the T11 vertebral body and manubrium: bronchoscopy and lymph node biopsy\n",
      "* Moderate mediastinal and hilar lymphadenopathy: bronchoscopy and lymph node biopsy\n",
      "* Hypertension: Amlodipine\n",
      "* Left frontal AVM: PHENObarbital and Phenytoin Sodium Extended\n",
      "* Posterior communicating artery aneurysm: PHENObarbital and Phenytoin Sodium Extended\n",
      "* Lumbar disc herniation: PHENObarbital and Phenytoin Sodium Extended\n",
      "* Epilepsy: LaMOTrigine, LeVETiracetam, PHENObarbital, and Phenytoin Sodium Extended\n",
      "\n",
      "672\n"
     ]
    },
    {
     "name": "stderr",
     "output_type": "stream",
     "text": [
      "\n",
      "Processed prompts:   0%|          | 0/1 [00:00<?, ?it/s, est. speed input: 0.00 toks/s, output: 0.00 toks/s]\u001b[A\n",
      "Processed prompts: 100%|██████████| 1/1 [00:01<00:00,  1.87s/it, est. speed input: 358.88 toks/s, output: 80.64 toks/s]\u001b[A\n"
     ]
    },
    {
     "name": "stdout",
     "output_type": "stream",
     "text": [
      "The recommended diagnostic work-up for this patient includes a comprehensive evaluation for acute respiratory failure, including a thorough physical examination, chest radiograph, and laboratory tests such as complete blood count, electrolyte panel, and blood gas analysis. Additionally, a thorough review of the patient's medication list, including the ACE inhibitor, is necessary to assess potential contributing factors to her respiratory failure. A sleep study may also be considered to evaluate for obstructive sleep apnea. Furthermore, a thorough neurological evaluation is necessary to assess the patient's mental status and potential contributing factors to her confusion. A thorough review of the patient's medical history, including her history of AVM and seizure disorder, is also necessary to assess potential contributing factors to her respiratory failure. \n",
      "\n",
      "\n",
      "207\n"
     ]
    },
    {
     "name": "stderr",
     "output_type": "stream",
     "text": [
      "\n",
      "Processed prompts:   0%|          | 0/1 [00:00<?, ?it/s, est. speed input: 0.00 toks/s, output: 0.00 toks/s]\u001b[A\n",
      "Processed prompts: 100%|██████████| 1/1 [00:00<00:00,  2.90it/s, est. speed input: 601.09 toks/s, output: 78.40 toks/s]\u001b[A\n"
     ]
    },
    {
     "name": "stdout",
     "output_type": "stream",
     "text": [
      "Yes, there are pending results, specifically the flow cytometry test to rule out T cell lymphoma and histiocytosis.\n",
      "1555\n"
     ]
    },
    {
     "name": "stderr",
     "output_type": "stream",
     "text": [
      "\n",
      "Processed prompts:   0%|          | 0/1 [00:00<?, ?it/s, est. speed input: 0.00 toks/s, output: 0.00 toks/s]\u001b[A\n",
      "Processed prompts: 100%|██████████| 1/1 [00:16<00:00, 16.93s/it, est. speed input: 91.85 toks/s, output: 80.93 toks/s]\u001b[A"
     ]
    },
    {
     "name": "stdout",
     "output_type": "stream",
     "text": [
      "The patient has a relevant past medical history of multiple AVM and a seizure disorder. She was admitted to the hospital due to symptoms of confusion, shortness of breath, and hypoxia, which led to her admission to the emergency room. The patient was treated for acute exacerbation of COPD, acute diastolic heart failure, and respiratory failure in the hospital. She also had underlying medical conditions such as epilepsy, left frontal AVM, posterior communicating artery aneurysm, lumbar disc herniation, and hypertension. The patient's symptoms included shortness of breath, hypoxia, and altered mental status. She was also experiencing cough productive of gray sputum and had a history of seizure disorder.\n",
      "\n",
      "The patient presented with symptoms of shortness of breath, hypoxia, and altered mental status. The severity of these symptoms was moderate to severe, as evidenced by her need for oxygen therapy and BiPAP in the hospital. She also had a cough productive of gray sputum, which was likely related to her underlying COPD. The patient's mental status was initially altered, but improved with oxygen therapy. Her respiratory failure was severe enough to require BiPAP and intermittent desatting to low levels. Overall, the patient's symptoms were severe and required intensive treatment in the hospital.\n",
      "\n",
      "The patient's acute medical conditions included acute exacerbation of COPD, acute diastolic heart failure, and respiratory failure. The presenting symptoms and severity of these conditions were as follows:\n",
      "\n",
      "* Acute exacerbation of COPD: shortness of breath, hypoxia, and cough productive of gray sputum; moderate to severe severity\n",
      "* Acute diastolic heart failure: shortness of breath, hypoxia, and altered mental status; moderate to severe severity\n",
      "* Respiratory failure: shortness of breath, hypoxia, and altered mental status; severe severity\n",
      "\n",
      "The differential diagnosis for these conditions included obstructive lung disease, possible obstructive sleep apnea, and acute diastolic heart failure. The diagnostic workup included routine labs drawn at the patient's primary care physician's office last week, which showed an elevated BNP. In the emergency department, labs were notable for negative troponin and elevated BNP. A chest X-ray was also performed, which showed engorged pulmonary vasculature. Additionally, an arterial blood gas (ABG) was performed, with results pending.\n",
      "\n",
      "The patient received the following treatments for her acute medical conditions:\n",
      "\n",
      "* Acute exacerbation of COPD: BiPAP, oxygen therapy, and lasix\n",
      "* Acute diastolic heart failure: BiPAP, oxygen therapy, and lasix\n",
      "* Respiratory failure: BiPAP, oxygen therapy, and lasix\n",
      "* Hypoxia: oxygen therapy, lasix, and BiPAP\n",
      "* Altered mental status: oxygen therapy\n",
      "* Cough productive of gray sputum: Symbicort (budesonide-formoterol), ProAir HFA (albuterol sulfate), and Sarna Lotion\n",
      "* Seizure disorder: LaMOTrigine, LeVETiracetam, PHENObarbital, and Phenytoin Sodium Extended\n",
      "* Sclerotic lesions in the T11 vertebral body and manubrium: bronchoscopy and lymph node biopsy\n",
      "* Moderate mediastinal and hilar lymphadenopathy: bronchoscopy and lymph node biopsy\n",
      "* Hypertension: Amlodipine\n",
      "* Left frontal AVM: PHENObarbital and Phenytoin Sodium Extended\n",
      "* Posterior communicating artery aneurysm: PHENObarbital and Phenytoin Sodium Extended\n",
      "* Lumbar disc herniation: PHENObarbital and Phenytoin Sodium Extended\n",
      "* Epilepsy: LaMOTrigine, LeVETiracetam, PHENObarbital, and Phenytoin Sodium Extended\n",
      "\n",
      "The patient's physical exam findings included altered mental status, shortness of breath, and hypoxia. Pertinent lab work included elevated BNP, negative troponin, and elevated BNP. Radiology and imaging studies included chest X-ray, which showed engorged pulmonary vasculature. Cardiac studies included arterial blood gas (ABG), with results pending.\n",
      "\n",
      "There are pending results, specifically the flow cytometry test to rule out T cell lymphoma and histiocytosis. The recommended follow-up for this patient includes a comprehensive evaluation for acute respiratory failure, including a thorough physical examination, chest radiograph, and laboratory tests such as complete blood count, electrolyte panel, and blood gas analysis. Additionally, a thorough review of the patient's medication list, including the ACE inhibitor, is necessary to assess potential contributing factors to her respiratory failure. A sleep study may also be considered to evaluate for obstructive sleep apnea. Furthermore, a thorough neurological evaluation is necessary to assess the patient's mental status and potential contributing factors to her confusion. A thorough review of the patient's medical history, including her history of AVM and seizure disorder, is also necessary to assess potential contributing factors to her respiratory failure. The patient received the following medications related to each medical condition:\n",
      "\n",
      "* Acute exacerbation of COPD: BiPAP, oxygen therapy, and lasix\n",
      "* Acute diastolic heart failure: BiPAP, oxygen therapy, and lasix\n",
      "* Respiratory failure: BiPAP, oxygen therapy, and lasix\n",
      "* Hypoxia: oxygen therapy, lasix, and BiPAP\n",
      "* Altered mental status: oxygen therapy\n",
      "* Cough productive of gray sputum: Symbicort (budesonide-formoterol), ProAir HFA (albuterol sulfate), and Sarna Lotion\n",
      "* Seizure disorder: LaMOTrigine, LeVETiracetam, PHENObarbital, and Phenytoin Sodium Extended\n",
      "* Sclerotic lesions in the T11 vertebral body and manubrium: bronchoscopy and lymph node biopsy\n",
      "* Moderate mediastinal and hilar lymphadenopathy: bronchoscopy and lymph node biopsy\n",
      "* Hypertension: Amlodipine\n",
      "* Left frontal AVM: PHENObarbital and Phenytoin Sodium Extended\n",
      "* Posterior communicating artery aneurysm: PHENObarbital and Phenytoin Sodium Extended\n",
      "* Lumbar disc herniation: PHENObarbital and Phenytoin Sodium Extended\n",
      "* Epilepsy: LaMOTrigine, LeVETiracetam, PHENObarbital, and Phenytoin Sodium Extended\n",
      "\n",
      "Time taken for generate_bhc: 42.21605920791626 seconds.\n"
     ]
    },
    {
     "name": "stderr",
     "output_type": "stream",
     "text": [
      "\n"
     ]
    }
   ],
   "source": [
    "import pandas as pd\n",
    "import time\n",
    "\n",
    "# Create an empty results table\n",
    "results = pd.DataFrame(columns=['hadm_id', 'brief_hospital_course'])\n",
    "\n",
    "# results path:\n",
    "results_path = '../../troyTest/'\n",
    "file_name = 'CoT_results_bhc.csv'\n",
    "results_file_path = os.path.join(results_path, file_name)\n",
    "\n",
    "count = 0\n",
    "total_records = len(target_df.hadm_id)\n",
    "for hadm_id in target_df['hadm_id'][5:13]:  # Replace with your actual hadm_id values\n",
    "    count += 1\n",
    "    percent_complete = count*100/total_records\n",
    "    print(f\"{count} of {total_records}, {percent_complete}% hadm_id: {hadm_id} **********\\n\\n\")\n",
    "    start_time_bhc = time.time()\n",
    "    brief_hospital_course = generate_bhc(hadm_id)\n",
    "    end_time_bhc = time.time()\n",
    "    duration_bhc = end_time_bhc - start_time_bhc\n",
    "    print(f\"Time taken for generate_bhc: {duration_bhc} seconds.\")\n",
    "    # discharge_instructions = generate_discharge_instructions(hadm_id)\n",
    "    new_row = pd.DataFrame({'hadm_id': [hadm_id], 'brief_hospital_course': [brief_hospital_course]})\n",
    "    results = pd.concat([results, new_row], ignore_index=True)\n",
    "    # results = results.append({'hadm_id': hadm_id, 'brief_hospital_course': brief_hospital_course, 'discharge_instructions': discharge_instructions}, ignore_index=True)\n",
    "    results.to_csv(results_file_path, index=False)"
   ]
  },
  {
   "cell_type": "code",
   "execution_count": 56,
   "id": "abf3082c-18b0-4b45-b20e-0849e77d0a26",
   "metadata": {
    "collapsed": true,
    "jupyter": {
     "outputs_hidden": true
    },
    "tags": []
   },
   "outputs": [
    {
     "name": "stdout",
     "output_type": "stream",
     "text": [
      "1 of 10962, 0.009122422915526365% hadm_id: 28723315 **********\n",
      "\n",
      "\n",
      "631\n"
     ]
    },
    {
     "name": "stderr",
     "output_type": "stream",
     "text": [
      "\n",
      "Processed prompts:   0%|          | 0/1 [00:00<?, ?it/s, est. speed input: 0.00 toks/s, output: 0.00 toks/s]\u001b[A\n",
      "Processed prompts: 100%|██████████| 1/1 [00:02<00:00,  2.64s/it, est. speed input: 239.26 toks/s, output: 81.14 toks/s]\u001b[A\n"
     ]
    },
    {
     "name": "stdout",
     "output_type": "stream",
     "text": [
      "The patient was treated with a stress echo test, which revealed inducible ischemia and severe aortic insufficiency. The diagnostic workup included an echocardiography, which showed 4+ aortic regurgitation, and a CTA chest, which was negative for aortic dissection. The patient was admitted to the cardiology service for further management. The patient's symptoms were managed with treatment for his new diagnosis. The patient's review of systems was negative for any prior history of deep venous thrombosis, pulmonary embolism, bleeding at the time of surgery, cough, hemoptysis, black stools or red stools. The patient denied recent fevers, chills or rigors, and denied exertional buttock or calf pain. All other review of systems were negative. The patient's cardiac review of systems was notable for absence of dyspnea on exertion, paroxysmal nocturnal dyspnea, orthopnea, ankle edema, palpitations, syncope or presyncope. \n",
      "395\n"
     ]
    },
    {
     "name": "stderr",
     "output_type": "stream",
     "text": [
      "\n",
      "Processed prompts:   0%|          | 0/1 [00:00<?, ?it/s, est. speed input: 0.00 toks/s, output: 0.00 toks/s]\u001b[A\n",
      "Processed prompts: 100%|██████████| 1/1 [00:00<00:00,  1.53it/s, est. speed input: 606.94 toks/s, output: 78.36 toks/s]\u001b[A\n"
     ]
    },
    {
     "name": "stdout",
     "output_type": "stream",
     "text": [
      "The patient did not undergo any major surgical, invasive, or diagnostic, or therapeutic procedures. However, the patient did undergo a stress echo test, echocardiography, and a CTA chest as part of their diagnostic workup. \n",
      "1004\n"
     ]
    },
    {
     "name": "stderr",
     "output_type": "stream",
     "text": [
      "\n",
      "Processed prompts:   0%|          | 0/1 [00:00<?, ?it/s, est. speed input: 0.00 toks/s, output: 0.00 toks/s]\u001b[A\n",
      "Processed prompts: 100%|██████████| 1/1 [00:25<00:00, 25.20s/it, est. speed input: 39.84 toks/s, output: 81.27 toks/s]\u001b[A\n"
     ]
    },
    {
     "name": "stdout",
     "output_type": "stream",
     "text": [
      "The changes to the patient's medications were:\n",
      "New medications: Lisinopril 5 mg PO DAILY\n",
      "Stopped medications: Diltiazem Extended-Release 120 mg PO DAILY (held for SBP < 100) and Glutamine ___ mg PO BID (dosage not specified) and Pravastatin 5 mg PO DAILY (although it was continued, it was not present in the admission list) and phosphatidylcholine (bulk) *NF* 97 % Miscellaneous daily (although it was continued, it was not present in the admission list) and Glucosamine-Chondroitin Complx *NF* ___ sod-vit C-Mn;<br>glucosamine-chondroit-vit C-Mn) 500-400 mg Oral daily (although it was continued, it was not present in the admission list) and Magnesium Citrate 800 mg PO QHS (although it was continued, it was not present in the admission list) and Guaifenesin 600 mg PO DAILY (although it was continued, it was not present in the admission list) and Pravastatin 5 mg PO DAILY (although it was continued, it was not present in the admission list) and phosphatidylcholine (bulk) *NF* 97 % Miscellaneous daily (although it was continued, it was not present in the admission list) and Glucosamine-Chondroitin Complx *NF* ___ sod-vit C-Mn;<br>glucosamine-chondroit-vit C-Mn) 500-400 mg Oral daily (although it was continued, it was not present in the admission list) and Magnesium Citrate 800 mg PO QHS (although it was continued, it was not present in the admission list) and Guaifenesin 600 mg PO DAILY (although it was continued, it was not present in the admission list) and Pravastatin 5 mg PO DAILY (although it was continued, it was not present in the admission list) and phosphatidylcholine (bulk) *NF* 97 % Miscellaneous daily (although it was continued, it was not present in the admission list) and Glucosamine-Chondroitin Complx *NF* ___ sod-vit C-Mn;<br>glucosamine-chondroit-vit C-Mn) 500-400 mg Oral daily (although it was continued, it was not present in the admission list) and Magnesium Citrate 800 mg PO QHS (although it was continued, it was not present in the admission list) and Guaifenesin 600 mg PO DAILY (although it was continued, it was not present in the admission list) and Pravastatin 5 mg PO DAILY (although it was continued, it was not present in the admission list) and phosphatidylcholine (bulk) *NF* 97 % Miscellaneous daily (although it was continued, it was not present in the admission list) and Glucosamine-Chondroitin Complx *NF* ___ sod-vit C-Mn;<br>glucosamine-chondroit-vit C-Mn) 500-400 mg Oral daily (although it was continued, it was not present in the admission list) and Magnesium Citrate 800 mg PO QHS (although it was continued, it was not present in the admission list) and Guaifenesin 600 mg PO DAILY (although it was continued, it was not present in the admission list) and Pravastatin 5 mg PO DAILY (although it was continued, it was not present in the admission list) and phosphatidylcholine (bulk) *NF* 97 % Miscellaneous daily (although it was continued, it was not present in the admission list) and Glucosamine-Chondroitin Complx *NF* ___ sod-vit C-Mn;<br>glucosamine-chondroit-vit C-Mn) 500-400 mg Oral daily (although it was continued, it was not present in the admission list) and Magnesium Citrate 800 mg PO QHS (although it was continued, it was not present in the admission list) and Guaifenesin 600 mg PO DAILY (although it was continued, it was not present in the admission list) and Pravastatin 5 mg PO DAILY (although it was continued, it was not present in the admission list) and phosphatidylcholine (bulk) *NF* 97 % Miscellaneous daily (although it was continued, it was not present in the admission list) and Glucosamine-Chondroitin Complx *NF* ___ sod-vit C-Mn;<br>glucosamine-chondroit-vit C-Mn) 500-400 mg Oral daily (although it was continued, it was not present in the admission list) and Magnesium Citrate 800 mg PO QHS (although it was continued, it was not present in the admission list) and Guaifenesin 600 mg PO DAILY (although it was continued, it was not present in the admission list) and Pravastatin 5 mg PO DAILY (although it was continued, it was not present in the admission list) and phosphatidylcholine (bulk) *NF* 97 % Miscellaneous daily (although it was continued, it was not present in the admission list) and Glucosamine-Chondroitin Complx *NF* ___ sod-vit C-Mn;<br>glucosamine-chondroit-vit C-Mn) 500-400 mg Oral daily (although it was continued, it was not present in the admission list) and Magnesium Citrate 800 mg PO QHS (although it was continued, it was not present in the admission list) and Guaifenesin 600 mg PO DAILY (although it was continued, it was not present in the admission list) and Pravastatin 5 mg PO DAILY (although it was continued, it was not present in the admission list) and phosphatidylcholine (bulk) *NF* 97 % Miscellaneous daily (although it was continued, it was not present in the admission list) and Glucosamine-Chondroitin Complx *NF* ___ sod-vit C-Mn;<br>glucosamine-chondroit-vit C-Mn) 500-400 mg Oral daily (although it was continued, it was not present in the admission list) and Magnesium Citrate 800 mg PO QHS (although it was continued, it was not present in the admission list) and Guaifenesin 600 mg PO DAILY (although it was continued, it was not present in the admission list) and Pravastatin 5 mg PO DAILY (although it was continued, it was not present in the admission list) and phosphatidylcholine (bulk) *NF* 97 % Miscellaneous daily (although it was continued, it was not present in the admission list) and Glucosamine-Chondroitin Complx *NF* ___ sod-vit C-Mn;<br>glucosamine-chondroit-vit C-Mn) 500-400 mg Oral daily (although it was continued, it was not present in the admission list) and Magnesium Citrate 800 mg PO QHS (although it was continued, it was not present in the admission list) and Guaifenesin 600 mg PO DAILY (although it was continued, it was not present in the admission list) and Pravastatin 5 mg PO DAILY (although it was continued, it was not present in the admission list) and phosphatidylcholine (bulk) *NF* 97 % Miscellaneous daily (although it was continued, it was not present in the admission list) and Glucosamine-Chondroitin Complx *NF* ___ sod-vit C-Mn;<br>glucosamine-chondroit-vit C-Mn) 500-400 mg Oral daily (although it was continued, it was not present in the admission list) and Magnesium Citrate 800 mg PO QHS (although it was continued, it was not present in the admission list) and Guaifenesin 600 mg PO DAILY (although it was continued, it was not present in the admission list) and Pravastatin 5 mg PO DAILY (although it was continued, it was not present in the admission list) and phosphatidylcholine (bulk) *NF* 97 % Miscellaneous daily (although it was continued, it was not present in the admission list) and Glucosamine-Chondroitin Complx *NF* ___ sod-vit C-Mn;<br>glucosamine-chondroit-vit C-Mn) 500-400 mg Oral daily (although it was continued, it was not present in the admission list) and Magnesium Citrate 800 mg PO QHS (although it was continued, it was not present in the admission list) and Guaifenesin 600 mg PO DAILY (although it was continued, it was not present in the admission list) and Pravastatin 5 mg PO DAILY (although it was continued, it was not present in the admission list) and phosphatidylcholine (bulk) *NF* 97 % Miscellaneous daily (although it was continued, it was not present in the admission list) and Glucosamine-Chondroitin Complx *NF* ___ sod-vit C-Mn;<br>glucosamine-chondroit-vit C-Mn) 500-400 mg Oral daily (\n",
      "2695\n"
     ]
    },
    {
     "name": "stderr",
     "output_type": "stream",
     "text": [
      "\n",
      "Processed prompts:   0%|          | 0/1 [00:00<?, ?it/s, est. speed input: 0.00 toks/s, output: 0.00 toks/s]\u001b[A\n",
      "Processed prompts: 100%|██████████| 1/1 [00:01<00:00,  1.97s/it, est. speed input: 1368.48 toks/s, output: 74.14 toks/s]\u001b[A\n"
     ]
    },
    {
     "name": "stdout",
     "output_type": "stream",
     "text": [
      "During this hospital admission, the patient was treated with Lisinopril 5 mg PO DAILY, which is a new medication. The patient's previous medications, Diltiazem Extended-Release 120 mg PO DAILY, Glutamine ___ mg PO BID, Pravastatin 5 mg PO DAILY, phosphatidylcholine (bulk) *NF* 97 % Miscellaneous daily, Glucosamine-Chondroitin Complx *NF* ___ sod-vit C-Mn, Magnesium Citrate 800 mg PO QHS, and Guaifenesin 600 mg PO DAILY, were stopped or continued but not present in the admission list. \n",
      "716\n"
     ]
    },
    {
     "name": "stderr",
     "output_type": "stream",
     "text": [
      "\n",
      "Processed prompts:   0%|          | 0/1 [00:00<?, ?it/s, est. speed input: 0.00 toks/s, output: 0.00 toks/s]\u001b[A\n",
      "Processed prompts: 100%|██████████| 1/1 [00:00<00:00,  1.18it/s, est. speed input: 844.93 toks/s, output: 77.88 toks/s]\u001b[A\n"
     ]
    },
    {
     "name": "stdout",
     "output_type": "stream",
     "text": [
      "The patient was treated for Aortic Regurgitation, Aortic Stenosis, and Coronary Artery Disease during their hospital admission. They also experienced symptoms of inducible ischemia and severe aortic insufficiency. Additionally, they had a history of CAD with a previous DES to LAD. \n",
      "732\n"
     ]
    },
    {
     "name": "stderr",
     "output_type": "stream",
     "text": [
      "\n",
      "Processed prompts:   0%|          | 0/1 [00:00<?, ?it/s, est. speed input: 0.00 toks/s, output: 0.00 toks/s]\u001b[A\n",
      "Processed prompts: 100%|██████████| 1/1 [00:01<00:00,  1.42s/it, est. speed input: 516.49 toks/s, output: 79.73 toks/s]\u001b[A\n"
     ]
    },
    {
     "name": "stdout",
     "output_type": "stream",
     "text": [
      "The patient was admitted to the hospital due to an abnormal stress test, which revealed evidence of inducible ischemia and severe aortic insufficiency. The patient developed left shoulder pain and ST changes on EKG during the stress test, which led to his admission to the emergency department and subsequent admission to the cardiology service for further management. The symptoms and medical condition that caused the patient to come to the hospital were the abnormal stress test results, which indicated a severe aortic insufficiency and inducible ischemia, requiring further evaluation and management.\n",
      "2678\n"
     ]
    },
    {
     "name": "stderr",
     "output_type": "stream",
     "text": [
      "\n",
      "Processed prompts:   0%|          | 0/1 [00:00<?, ?it/s, est. speed input: 0.00 toks/s, output: 0.00 toks/s]\u001b[A\n",
      "Processed prompts: 100%|██████████| 1/1 [00:02<00:00,  2.11s/it, est. speed input: 1267.30 toks/s, output: 74.77 toks/s]\u001b[A\n"
     ]
    },
    {
     "name": "stdout",
     "output_type": "stream",
     "text": [
      "For each acute medical condition, the treatments were:\n",
      "* Aortic Regurgitation: Lisinopril 5 mg PO DAILY\n",
      "* Aortic Stenosis: Lisinopril 5 mg PO DAILY\n",
      "* Coronary Artery Disease: Lisinopril 5 mg PO DAILY\n",
      "* Inducible Ischemia: Lisinopril 5 mg PO DAILY\n",
      "* Severe Aortic Insufficiency: Lisinopril 5 mg PO DAILY\n",
      "\n",
      "Note: The patient's previous medications were stopped or continued but not present in the admission list, and the patient did not undergo any major surgical, invasive, or diagnostic, or therapeutic procedures. The treatments listed above are based on the new medications added during the hospital admission.\n",
      "254\n"
     ]
    },
    {
     "name": "stderr",
     "output_type": "stream",
     "text": [
      "\n",
      "Processed prompts:   0%|          | 0/1 [00:00<?, ?it/s, est. speed input: 0.00 toks/s, output: 0.00 toks/s]\u001b[A\n",
      "Processed prompts: 100%|██████████| 1/1 [00:01<00:00,  1.37s/it, est. speed input: 185.52 toks/s, output: 81.80 toks/s]\u001b[A\n"
     ]
    },
    {
     "name": "stdout",
     "output_type": "stream",
     "text": [
      "The instructions for the receiving provider are to follow-up with the patient's cardiologist, Dr. ___, for further workup of his new Aortic Insufficiency, to discuss his stress test, and to discuss more aggressive LDL lowering. Additionally, the provider should be aware of the patient's code status, which is DNR, and that intubation is only acceptable for procedures, but prolonged intubation is not desired. The provider should also be aware of the patient's emergency contact, which is his ex-wife, HCP ___ ___.\n",
      "1004\n"
     ]
    },
    {
     "name": "stderr",
     "output_type": "stream",
     "text": [
      "\n",
      "Processed prompts:   0%|          | 0/1 [00:00<?, ?it/s, est. speed input: 0.00 toks/s, output: 0.00 toks/s]\u001b[A\n",
      "Processed prompts: 100%|██████████| 1/1 [00:25<00:00, 25.21s/it, est. speed input: 39.83 toks/s, output: 81.25 toks/s]\u001b[A\n"
     ]
    },
    {
     "name": "stdout",
     "output_type": "stream",
     "text": [
      "The changes to the patient's medications were:\n",
      "New medications: Lisinopril 5 mg PO DAILY\n",
      "Stopped medications: Diltiazem Extended-Release 120 mg PO DAILY (held for SBP < 100) and Glutamine ___ mg PO BID (dosage not specified) and Pravastatin 5 mg PO DAILY (although it was continued, it was not present in the admission list) and phosphatidylcholine (bulk) *NF* 97 % Miscellaneous daily (although it was continued, it was not present in the admission list) and Glucosamine-Chondroitin Complx *NF* ___ sod-vit C-Mn;<br>glucosamine-chondroit-vit C-Mn) 500-400 mg Oral daily (although it was continued, it was not present in the admission list) and Magnesium Citrate 800 mg PO QHS (although it was continued, it was not present in the admission list) and Guaifenesin 600 mg PO DAILY (although it was continued, it was not present in the admission list) and Pravastatin 5 mg PO DAILY (although it was continued, it was not present in the admission list) and phosphatidylcholine (bulk) *NF* 97 % Miscellaneous daily (although it was continued, it was not present in the admission list) and Glucosamine-Chondroitin Complx *NF* ___ sod-vit C-Mn;<br>glucosamine-chondroit-vit C-Mn) 500-400 mg Oral daily (although it was continued, it was not present in the admission list) and Magnesium Citrate 800 mg PO QHS (although it was continued, it was not present in the admission list) and Guaifenesin 600 mg PO DAILY (although it was continued, it was not present in the admission list) and Pravastatin 5 mg PO DAILY (although it was continued, it was not present in the admission list) and phosphatidylcholine (bulk) *NF* 97 % Miscellaneous daily (although it was continued, it was not present in the admission list) and Glucosamine-Chondroitin Complx *NF* ___ sod-vit C-Mn;<br>glucosamine-chondroit-vit C-Mn) 500-400 mg Oral daily (although it was continued, it was not present in the admission list) and Magnesium Citrate 800 mg PO QHS (although it was continued, it was not present in the admission list) and Guaifenesin 600 mg PO DAILY (although it was continued, it was not present in the admission list) and Pravastatin 5 mg PO DAILY (although it was continued, it was not present in the admission list) and phosphatidylcholine (bulk) *NF* 97 % Miscellaneous daily (although it was continued, it was not present in the admission list) and Glucosamine-Chondroitin Complx *NF* ___ sod-vit C-Mn;<br>glucosamine-chondroit-vit C-Mn) 500-400 mg Oral daily (although it was continued, it was not present in the admission list) and Magnesium Citrate 800 mg PO QHS (although it was continued, it was not present in the admission list) and Guaifenesin 600 mg PO DAILY (although it was continued, it was not present in the admission list) and Pravastatin 5 mg PO DAILY (although it was continued, it was not present in the admission list) and phosphatidylcholine (bulk) *NF* 97 % Miscellaneous daily (although it was continued, it was not present in the admission list) and Glucosamine-Chondroitin Complx *NF* ___ sod-vit C-Mn;<br>glucosamine-chondroit-vit C-Mn) 500-400 mg Oral daily (although it was continued, it was not present in the admission list) and Magnesium Citrate 800 mg PO QHS (although it was continued, it was not present in the admission list) and Guaifenesin 600 mg PO DAILY (although it was continued, it was not present in the admission list) and Pravastatin 5 mg PO DAILY (although it was continued, it was not present in the admission list) and phosphatidylcholine (bulk) *NF* 97 % Miscellaneous daily (although it was continued, it was not present in the admission list) and Glucosamine-Chondroitin Complx *NF* ___ sod-vit C-Mn;<br>glucosamine-chondroit-vit C-Mn) 500-400 mg Oral daily (although it was continued, it was not present in the admission list) and Magnesium Citrate 800 mg PO QHS (although it was continued, it was not present in the admission list) and Guaifenesin 600 mg PO DAILY (although it was continued, it was not present in the admission list) and Pravastatin 5 mg PO DAILY (although it was continued, it was not present in the admission list) and phosphatidylcholine (bulk) *NF* 97 % Miscellaneous daily (although it was continued, it was not present in the admission list) and Glucosamine-Chondroitin Complx *NF* ___ sod-vit C-Mn;<br>glucosamine-chondroit-vit C-Mn) 500-400 mg Oral daily (although it was continued, it was not present in the admission list) and Magnesium Citrate 800 mg PO QHS (although it was continued, it was not present in the admission list) and Guaifenesin 600 mg PO DAILY (although it was continued, it was not present in the admission list) and Pravastatin 5 mg PO DAILY (although it was continued, it was not present in the admission list) and phosphatidylcholine (bulk) *NF* 97 % Miscellaneous daily (although it was continued, it was not present in the admission list) and Glucosamine-Chondroitin Complx *NF* ___ sod-vit C-Mn;<br>glucosamine-chondroit-vit C-Mn) 500-400 mg Oral daily (although it was continued, it was not present in the admission list) and Magnesium Citrate 800 mg PO QHS (although it was continued, it was not present in the admission list) and Guaifenesin 600 mg PO DAILY (although it was continued, it was not present in the admission list) and Pravastatin 5 mg PO DAILY (although it was continued, it was not present in the admission list) and phosphatidylcholine (bulk) *NF* 97 % Miscellaneous daily (although it was continued, it was not present in the admission list) and Glucosamine-Chondroitin Complx *NF* ___ sod-vit C-Mn;<br>glucosamine-chondroit-vit C-Mn) 500-400 mg Oral daily (although it was continued, it was not present in the admission list) and Magnesium Citrate 800 mg PO QHS (although it was continued, it was not present in the admission list) and Guaifenesin 600 mg PO DAILY (although it was continued, it was not present in the admission list) and Pravastatin 5 mg PO DAILY (although it was continued, it was not present in the admission list) and phosphatidylcholine (bulk) *NF* 97 % Miscellaneous daily (although it was continued, it was not present in the admission list) and Glucosamine-Chondroitin Complx *NF* ___ sod-vit C-Mn;<br>glucosamine-chondroit-vit C-Mn) 500-400 mg Oral daily (although it was continued, it was not present in the admission list) and Magnesium Citrate 800 mg PO QHS (although it was continued, it was not present in the admission list) and Guaifenesin 600 mg PO DAILY (although it was continued, it was not present in the admission list) and Pravastatin 5 mg PO DAILY (although it was continued, it was not present in the admission list) and phosphatidylcholine (bulk) *NF* 97 % Miscellaneous daily (although it was continued, it was not present in the admission list) and Glucosamine-Chondroitin Complx *NF* ___ sod-vit C-Mn;<br>glucosamine-chondroit-vit C-Mn) 500-400 mg Oral daily (although it was continued, it was not present in the admission list) and Magnesium Citrate 800 mg PO QHS (although it was continued, it was not present in the admission list) and Guaifenesin 600 mg PO DAILY (although it was continued, it was not present in the admission list) and Pravastatin 5 mg PO DAILY (although it was continued, it was not present in the admission list) and phosphatidylcholine (bulk) *NF* 97 % Miscellaneous daily (although it was continued, it was not present in the admission list) and Glucosamine-Chondroitin Complx *NF* ___ sod-vit C-Mn;<br>glucosamine-chondroit-vit C-Mn) 500-400 mg Oral daily (\n",
      "2738\n"
     ]
    },
    {
     "name": "stderr",
     "output_type": "stream",
     "text": [
      "\n",
      "Processed prompts:   0%|          | 0/1 [00:00<?, ?it/s, est. speed input: 0.00 toks/s, output: 0.00 toks/s]\u001b[A\n",
      "Processed prompts: 100%|██████████| 1/1 [00:06<00:00,  6.18s/it, est. speed input: 443.42 toks/s, output: 79.03 toks/s]\u001b[A\n"
     ]
    },
    {
     "name": "stdout",
     "output_type": "stream",
     "text": [
      "Dear [Patient's Name],\n",
      "\n",
      "I am writing to inform you about your recent hospital admission and the treatments you received during your stay. You were admitted to the hospital due to an abnormal stress test, which revealed evidence of inducible ischemia and severe aortic insufficiency. The symptoms and medical condition that caused you to come to the hospital were the abnormal stress test results, which indicated a severe aortic insufficiency and inducible ischemia, requiring further evaluation and management.\n",
      "\n",
      "During your hospital stay, you received treatment for your aortic regurgitation, aortic stenosis, coronary artery disease, inducible ischemia, and severe aortic insufficiency. You were prescribed Lisinopril 5 mg PO DAILY for each of these conditions.\n",
      "\n",
      "As part of your treatment, we also stopped or continued some of your previous medications. The medications that were stopped or continued but not present in the admission list include Diltiazem Extended-Release 120 mg PO DAILY, Glutamine ___ mg PO BID, Pravastatin 5 mg PO DAILY, phosphatidylcholine (bulk) *NF* 97 % Miscellaneous daily, Glucosamine-Chondroitin Complx *NF* ___ sod-vit C-Mn, Magnesium Citrate 800 mg PO QHS, Guaifenesin 600 mg PO DAILY, and Pravastatin 5 mg PO DAILY.\n",
      "\n",
      "It is important to note that you have a code status of DNR, which means that you do not want to receive cardiopulmonary resuscitation (CPR) in the event of a cardiac arrest. Additionally, intubation is only acceptable for procedures, but prolonged intubation is not desired.\n",
      "\n",
      "Your emergency contact is your ex-wife, HCP ___ ___.\n",
      "\n",
      "We recommend that you follow up with your cardiologist, Dr. ___, for further workup of your new Aortic Insufficiency, to discuss your stress test, and to discuss more aggressive LDL lowering.\n",
      "\n",
      "Please note that there are pending results from some of the diagnostic tests you underwent during your hospital stay. We will keep you informed about the results as they become available.\n",
      "\n",
      "If you have any questions or concerns, please do not hesitate to reach out to us. We are committed to providing you with the best possible care and support.\n",
      "\n",
      "Sincerely,\n",
      "[Your Name]\n",
      "Time taken for generate_di: 67.6746985912323 seconds.\n",
      "2 of 10962, 0.01824484583105273% hadm_id: 22218665 **********\n",
      "\n",
      "\n",
      "697\n"
     ]
    },
    {
     "name": "stderr",
     "output_type": "stream",
     "text": [
      "\n",
      "Processed prompts:   0%|          | 0/1 [00:00<?, ?it/s, est. speed input: 0.00 toks/s, output: 0.00 toks/s]\u001b[A\n",
      "Processed prompts: 100%|██████████| 1/1 [00:02<00:00,  2.20s/it, est. speed input: 316.49 toks/s, output: 80.82 toks/s]\u001b[A\n"
     ]
    },
    {
     "name": "stdout",
     "output_type": "stream",
     "text": [
      "The patient was treated with IV fluids, and his blood pressure was raised to the 90-100s. He was also given diazepam for anxiety. A Foley catheter was placed to collect urine, and he produced 500cc. The patient's initial laboratory results showed elevated CK and Cr levels, which decreased after receiving IV fluids. The patient was also started on a CIWA scale. The diagnostic workup included an EKG, which showed SR at 103, IV delay, and QTc of 451. The patient's review of systems was negative for fever, chills, night sweats, recent weight loss or gain, and other symptoms. The patient denied current active suicidal or homicidal ideation. The patient's symptoms included nasal stuffiness and feeling warm. He felt safe and denied any current active suicidal or homicidal ideation.  \n",
      "369\n"
     ]
    },
    {
     "name": "stderr",
     "output_type": "stream",
     "text": [
      "\n",
      "Processed prompts:   0%|          | 0/1 [00:00<?, ?it/s, est. speed input: 0.00 toks/s, output: 0.00 toks/s]\u001b[A\n",
      "Processed prompts: 100%|██████████| 1/1 [00:00<00:00,  3.69it/s, est. speed input: 1366.89 toks/s, output: 74.08 toks/s]\u001b[A\n"
     ]
    },
    {
     "name": "stdout",
     "output_type": "stream",
     "text": [
      "There were no major surgical, invasive, or diagnostic procedures performed during the patient's hospitalization.\n",
      "484\n"
     ]
    },
    {
     "name": "stderr",
     "output_type": "stream",
     "text": [
      "\n",
      "Processed prompts:   0%|          | 0/1 [00:00<?, ?it/s, est. speed input: 0.00 toks/s, output: 0.00 toks/s]\u001b[A\n",
      "Processed prompts: 100%|██████████| 1/1 [00:00<00:00,  1.09it/s, est. speed input: 529.32 toks/s, output: 79.83 toks/s]\u001b[A\n"
     ]
    },
    {
     "name": "stdout",
     "output_type": "stream",
     "text": [
      "The changes to the patient's medications were the addition of ATRIPLA (efavirenz-emtricitabin-tenofov) and FoLIC Acid, and the discontinuation of Ibuprofen. The new medications were ATRIPLA and FoLIC Acid. The medications that were stopped were Ibuprofen.  \n",
      "782\n"
     ]
    },
    {
     "name": "stderr",
     "output_type": "stream",
     "text": [
      "\n",
      "Processed prompts:   0%|          | 0/1 [00:00<?, ?it/s, est. speed input: 0.00 toks/s, output: 0.00 toks/s]\u001b[A\n",
      "Processed prompts: 100%|██████████| 1/1 [00:02<00:00,  2.23s/it, est. speed input: 350.34 toks/s, output: 80.19 toks/s]\u001b[A\n"
     ]
    },
    {
     "name": "stdout",
     "output_type": "stream",
     "text": [
      "During this hospital admission, the patient was treated with medications and IV therapies to manage his symptoms and condition. According to the medical records, the patient was started on diazepam for anxiety, and he received IV fluids (2L of NS) to raise his blood pressure. Additionally, a Foley catheter was placed to collect urine, and he was given a CIWA scale with diazepam. The patient was also treated with ATRIPLA (efavirenz-emtricitabin-tenofov) and FoLIC Acid, which were new medications added during this admission. Ibuprofen was discontinued. There is no mention of IV therapies other than IV fluids. Therefore, the medications or IV therapies used to treat the patient during this hospital admission were diazepam, IV fluids, ATRIPLA, and FoLIC Acid. Ibuprofen was discontinued.\n",
      "809\n"
     ]
    },
    {
     "name": "stderr",
     "output_type": "stream",
     "text": [
      "\n",
      "Processed prompts:   0%|          | 0/1 [00:00<?, ?it/s, est. speed input: 0.00 toks/s, output: 0.00 toks/s]\u001b[A\n",
      "Processed prompts: 100%|██████████| 1/1 [00:01<00:00,  1.01s/it, est. speed input: 803.75 toks/s, output: 77.49 toks/s]\u001b[A\n"
     ]
    },
    {
     "name": "stdout",
     "output_type": "stream",
     "text": [
      "The patient was treated for Benztropine Overdose, Hypotension, Acute Kidney Injury, Rhabdomyolysis, and Alcohol Withdrawal in the hospital. Additionally, the patient has a history of HIV infection, Hypertension, and Schizoaffective disorder. The patient also presented with symptoms of self-harm in the past. \n",
      "803\n"
     ]
    },
    {
     "name": "stderr",
     "output_type": "stream",
     "text": [
      "\n",
      "Processed prompts:   0%|          | 0/1 [00:00<?, ?it/s, est. speed input: 0.00 toks/s, output: 0.00 toks/s]\u001b[A\n",
      "Processed prompts: 100%|██████████| 1/1 [00:01<00:00,  1.82s/it, est. speed input: 441.26 toks/s, output: 79.68 toks/s]\u001b[A\n"
     ]
    },
    {
     "name": "stdout",
     "output_type": "stream",
     "text": [
      "The patient was admitted to the hospital due to a chief complaint of benztropine ingestion, which was reportedly taken in an attempt to end his life. The patient had a history of HIV infection, hypertension, and a prior episode of self-harm. He presented to the emergency department after taking 40 to 150 tablets of benztropine and was brought to the hospital after drinking a pint of vodka. The patient's symptoms and medical condition, including his history of HIV infection and prior self-harm, likely caused him to come to or be brought into the hospital. Additionally, his ingestion of benztropine and subsequent symptoms, such as nasal stuffiness and feeling warm, also contributed to his admission.\n",
      "680\n"
     ]
    },
    {
     "name": "stderr",
     "output_type": "stream",
     "text": [
      "\n",
      "Processed prompts:   0%|          | 0/1 [00:00<?, ?it/s, est. speed input: 0.00 toks/s, output: 0.00 toks/s]\u001b[A\n",
      "Processed prompts: 100%|██████████| 1/1 [00:02<00:00,  2.41s/it, est. speed input: 282.82 toks/s, output: 81.10 toks/s]\u001b[A\n"
     ]
    },
    {
     "name": "stdout",
     "output_type": "stream",
     "text": [
      "The treatments for the acute medical conditions were:\n",
      "\n",
      "* Benztropine Overdose: IV fluids to raise blood pressure, diazepam for anxiety, and placement of a Foley catheter to collect urine.\n",
      "* Hypotension: IV fluids to raise blood pressure.\n",
      "* Acute Kidney Injury: IV fluids to raise blood pressure and decrease elevated CK and Cr levels.\n",
      "* Rhabdomyolysis: IV fluids to raise blood pressure and decrease elevated CK and Cr levels.\n",
      "* Alcohol Withdrawal: diazepam for anxiety, and placement of a Foley catheter to collect urine.\n",
      "* HIV infection: ATRIPLA (efavirenz-emtricitabin-tenofov) and FoLIC Acid were added as new medications.\n",
      "* Hypertension: IV fluids to raise blood pressure.\n",
      "* Schizoaffective disorder: no specific treatment mentioned in the medical records.\n",
      "* Self-harm: no specific treatment mentioned in the medical records.\n",
      "177\n"
     ]
    },
    {
     "name": "stderr",
     "output_type": "stream",
     "text": [
      "\n",
      "Processed prompts:   0%|          | 0/1 [00:00<?, ?it/s, est. speed input: 0.00 toks/s, output: 0.00 toks/s]\u001b[A\n",
      "Processed prompts: 100%|██████████| 1/1 [00:01<00:00,  1.41s/it, est. speed input: 125.74 toks/s, output: 82.40 toks/s]\u001b[A\n"
     ]
    },
    {
     "name": "stdout",
     "output_type": "stream",
     "text": [
      "The instructions for the receiving provider regarding the transitional issues are not provided in the given input text. However, it is likely that the receiving provider would be instructed to review the patient's medical records and clinical notes, including the transitional issues, to ensure a smooth transition of care. The provider may also be instructed to contact the patient's primary care physician or other healthcare providers involved in the patient's care to discuss any concerns or questions they may have. Additionally, the provider may be instructed to document any changes or updates to the patient's care plan in the patient's medical records.\n",
      "484\n"
     ]
    },
    {
     "name": "stderr",
     "output_type": "stream",
     "text": [
      "\n",
      "Processed prompts:   0%|          | 0/1 [00:00<?, ?it/s, est. speed input: 0.00 toks/s, output: 0.00 toks/s]\u001b[A\n",
      "Processed prompts: 100%|██████████| 1/1 [00:00<00:00,  1.09it/s, est. speed input: 529.04 toks/s, output: 79.79 toks/s]\u001b[A\n"
     ]
    },
    {
     "name": "stdout",
     "output_type": "stream",
     "text": [
      "The changes to the patient's medications were the addition of ATRIPLA (efavirenz-emtricitabin-tenofov) and FoLIC Acid, and the discontinuation of Ibuprofen. The new medications were ATRIPLA and FoLIC Acid. The medications that were stopped were Ibuprofen.  \n",
      "832\n"
     ]
    },
    {
     "name": "stderr",
     "output_type": "stream",
     "text": [
      "\n",
      "Processed prompts:   0%|          | 0/1 [00:00<?, ?it/s, est. speed input: 0.00 toks/s, output: 0.00 toks/s]\u001b[A\n",
      "Processed prompts: 100%|██████████| 1/1 [00:05<00:00,  5.00s/it, est. speed input: 166.42 toks/s, output: 81.01 toks/s]\u001b[A\n"
     ]
    },
    {
     "name": "stdout",
     "output_type": "stream",
     "text": [
      "Dear [Patient's Name],\n",
      "\n",
      "I am writing to inform you about your recent hospital admission and the treatments you received during your stay. You were admitted to the hospital due to a serious situation involving the ingestion of benztropine, a medication that can cause serious harm if taken in large quantities. You also had a history of HIV infection, hypertension, and a prior episode of self-harm, which contributed to your admission.\n",
      "\n",
      "During your stay, you received several treatments to address the acute medical conditions you were experiencing. These included IV fluids to raise your blood pressure, medication to manage anxiety, and placement of a Foley catheter to collect urine. You also received treatment for hypotension, acute kidney injury, rhabdomyolysis, and alcohol withdrawal.\n",
      "\n",
      "In addition to these treatments, we also added new medications to your regimen to help manage your HIV infection and hypertension. We also discontinued Ibuprofen, a medication you were previously taking.\n",
      "\n",
      "I want to assure you that we are committed to providing you with the best possible care and support during this challenging time. We understand that you may have many questions and concerns, and we are here to help you address them.\n",
      "\n",
      "As you continue your recovery, we recommend that you follow up with your primary care physician or other healthcare providers involved in your care to discuss any concerns or questions you may have. We also encourage you to document any changes or updates to your care plan in your medical records.\n",
      "\n",
      "Please do not hesitate to reach out to us if you have any questions or concerns. We are committed to supporting you throughout your recovery and ensuring a smooth transition of care.\n",
      "\n",
      "Sincerely,\n",
      "[Your Name]\n",
      "\n",
      "Note: The response is limited to 600 words as per the instruction. The letter is written in a courteous and easy-to-understand manner, avoiding medical jargon and focusing on the patient's experience and care. It provides a brief overview of the reason for admission, treatments received, and changes to the patient's medications, as well as recommendations for follow-up care.\n",
      "Time taken for generate_di: 18.230636835098267 seconds.\n",
      "3 of 10962, 0.02736726874657909% hadm_id: 25482427 **********\n",
      "\n",
      "\n",
      "343\n"
     ]
    },
    {
     "name": "stderr",
     "output_type": "stream",
     "text": [
      "\n",
      "Processed prompts:   0%|          | 0/1 [00:00<?, ?it/s, est. speed input: 0.00 toks/s, output: 0.00 toks/s]\u001b[A\n",
      "Processed prompts: 100%|██████████| 1/1 [00:02<00:00,  2.95s/it, est. speed input: 116.23 toks/s, output: 82.34 toks/s]\u001b[A\n"
     ]
    },
    {
     "name": "stdout",
     "output_type": "stream",
     "text": [
      "The patient was treated with a workup that included laboratory tests, which were normal, and a CT head and c-spine scan. The CT scan showed bifrontal subacute on chronic subdural hematomas with a small, acute right lateral-posterior component. The CT c-spine was consistent with chronic degenerative changes, but no acute traumatic injury was found. The patient was transferred to another facility for further evaluation and workup. The treatments and diagnostic workup were focused on evaluating the patient's syncopal episode and the subdural hematomas. The patient's medical history was also taken into consideration, including his history of hypertension and remote head injury. The patient's symptoms and physical examination findings were also assessed, including his report of loss of consciousness immediately surrounding the fall, but no difficulty with memory, motor/sensation, vision, or speech since. The patient's wife reported that he had fallen, but he was unable to describe any inciting events leading to the fall. The patient's history of present illness was notable for a presumed syncopal episode, and the diagnostic workup was focused on evaluating this episode and the patient's subdural hematomas. \n",
      "424\n"
     ]
    },
    {
     "name": "stderr",
     "output_type": "stream",
     "text": [
      "\n",
      "Processed prompts:   0%|          | 0/1 [00:00<?, ?it/s, est. speed input: 0.00 toks/s, output: 0.00 toks/s]\u001b[A\n",
      "Processed prompts: 100%|██████████| 1/1 [00:00<00:00,  1.08it/s, est. speed input: 457.52 toks/s, output: 79.85 toks/s]\u001b[A\n"
     ]
    },
    {
     "name": "stdout",
     "output_type": "stream",
     "text": [
      "The patient did not undergo any major surgical, invasive, or diagnostic, or therapeutic procedures during their hospital admission. The patient was transferred to another facility for further evaluation and workup, but no procedures were performed during their stay. The treatments and diagnostic workup were focused on evaluating the patient's syncopal episode and the subdural hematomas. \n",
      "377\n"
     ]
    },
    {
     "name": "stderr",
     "output_type": "stream",
     "text": [
      "\n",
      "Processed prompts:   0%|          | 0/1 [00:00<?, ?it/s, est. speed input: 0.00 toks/s, output: 0.00 toks/s]\u001b[A\n",
      "Processed prompts: 100%|██████████| 1/1 [00:01<00:00,  1.29s/it, est. speed input: 291.46 toks/s, output: 81.17 toks/s]\u001b[A\n"
     ]
    },
    {
     "name": "stdout",
     "output_type": "stream",
     "text": [
      "The changes to the patient's medications were the addition of Acetaminophen 650 mg PO Q6H:PRN Pain - Mild, Docusate Sodium 100 mg PO BID, and Polyethylene Glycol 17 g PO DAILY:PRN constipation. The medications that were new were Acetaminophen, Docusate Sodium, and Polyethylene Glycol. The medications that were stopped were none, as all medications listed on admission were continued at discharge.  \n",
      "460\n"
     ]
    },
    {
     "name": "stderr",
     "output_type": "stream",
     "text": [
      "\n",
      "Processed prompts:   0%|          | 0/1 [00:00<?, ?it/s, est. speed input: 0.00 toks/s, output: 0.00 toks/s]\u001b[A\n",
      "Processed prompts: 100%|██████████| 1/1 [00:01<00:00,  1.01s/it, est. speed input: 455.21 toks/s, output: 80.16 toks/s]\u001b[A\n"
     ]
    },
    {
     "name": "stdout",
     "output_type": "stream",
     "text": [
      "During this hospital admission, the patient was treated with Acetaminophen 650 mg PO Q6H:PRN Pain - Mild, Docusate Sodium 100 mg PO BID, and Polyethylene Glycol 17 g PO DAILY:PRN constipation. These medications were added to the patient's regimen to manage pain, constipation, and mild pain. \n",
      "406\n"
     ]
    },
    {
     "name": "stderr",
     "output_type": "stream",
     "text": [
      "\n",
      "Processed prompts:   0%|          | 0/1 [00:00<?, ?it/s, est. speed input: 0.00 toks/s, output: 0.00 toks/s]\u001b[A\n",
      "Processed prompts: 100%|██████████| 1/1 [00:01<00:00,  1.13s/it, est. speed input: 359.33 toks/s, output: 80.54 toks/s]\u001b[A\n"
     ]
    },
    {
     "name": "stdout",
     "output_type": "stream",
     "text": [
      "The patient was treated for acute on chronic right and chronic appearing left subdural hematomas, syncope and collapse, and essential hypertension during their hospital stay. The patient also had a history of remote head injury 40+ years prior. The patient's symptoms included a presumed syncopal episode, loss of consciousness (LOC) immediately surrounding the fall, and no difficulty with memory, motor/sensation, vision, or speech since. \n",
      "422\n"
     ]
    },
    {
     "name": "stderr",
     "output_type": "stream",
     "text": [
      "\n",
      "Processed prompts:   0%|          | 0/1 [00:00<?, ?it/s, est. speed input: 0.00 toks/s, output: 0.00 toks/s]\u001b[A\n",
      "Processed prompts: 100%|██████████| 1/1 [00:00<00:00,  1.12it/s, est. speed input: 474.28 toks/s, output: 79.79 toks/s]\u001b[A\n"
     ]
    },
    {
     "name": "stdout",
     "output_type": "stream",
     "text": [
      "The patient was admitted to the hospital due to a fall, specifically a presumed syncopal episode, which led to a head injury resulting in subacute on chronic subdural hemorrhages. The patient's symptoms, medical condition, and reason for admission were related to the fall and subsequent head injury, which required further evaluation and workup in the hospital.\n",
      "743\n"
     ]
    },
    {
     "name": "stderr",
     "output_type": "stream",
     "text": [
      "\n",
      "Processed prompts:   0%|          | 0/1 [00:00<?, ?it/s, est. speed input: 0.00 toks/s, output: 0.00 toks/s]\u001b[A\n",
      "Processed prompts: 100%|██████████| 1/1 [00:00<00:00,  1.07it/s, est. speed input: 796.05 toks/s, output: 78.21 toks/s]\u001b[A\n"
     ]
    },
    {
     "name": "stdout",
     "output_type": "stream",
     "text": [
      "The treatments for the acute medical conditions were:\n",
      "\n",
      "* Acetaminophen 650 mg PO Q6H:PRN Pain - Mild for pain management\n",
      "* Docusate Sodium 100 mg PO BID for constipation management\n",
      "* Polyethylene Glycol 17 g PO DAILY:PRN constipation for constipation management\n",
      "\n",
      "\n",
      "167\n"
     ]
    },
    {
     "name": "stderr",
     "output_type": "stream",
     "text": [
      "\n",
      "Processed prompts:   0%|          | 0/1 [00:00<?, ?it/s, est. speed input: 0.00 toks/s, output: 0.00 toks/s]\u001b[A\n",
      "Processed prompts: 100%|██████████| 1/1 [00:00<00:00,  1.11it/s, est. speed input: 184.77 toks/s, output: 81.87 toks/s]\u001b[A\n"
     ]
    },
    {
     "name": "stdout",
     "output_type": "stream",
     "text": [
      "The instructions for the receiving provider are to review the patient's medical history, current medications, and any allergies before the patient's discharge. The provider should also ensure that the patient has a clear understanding of their post-discharge care plan and any necessary follow-up appointments. Additionally, the provider should document any changes made to the patient's treatment plan in the medical record.\n",
      "377\n"
     ]
    },
    {
     "name": "stderr",
     "output_type": "stream",
     "text": [
      "\n",
      "Processed prompts:   0%|          | 0/1 [00:00<?, ?it/s, est. speed input: 0.00 toks/s, output: 0.00 toks/s]\u001b[A\n",
      "Processed prompts: 100%|██████████| 1/1 [00:01<00:00,  1.29s/it, est. speed input: 291.88 toks/s, output: 81.29 toks/s]\u001b[A\n"
     ]
    },
    {
     "name": "stdout",
     "output_type": "stream",
     "text": [
      "The changes to the patient's medications were the addition of Acetaminophen 650 mg PO Q6H:PRN Pain - Mild, Docusate Sodium 100 mg PO BID, and Polyethylene Glycol 17 g PO DAILY:PRN constipation. The medications that were new were Acetaminophen, Docusate Sodium, and Polyethylene Glycol. The medications that were stopped were none, as all medications listed on admission were continued at discharge.  \n",
      "623\n"
     ]
    },
    {
     "name": "stderr",
     "output_type": "stream",
     "text": [
      "\n",
      "Processed prompts:   0%|          | 0/1 [00:00<?, ?it/s, est. speed input: 0.00 toks/s, output: 0.00 toks/s]\u001b[A\n",
      "Processed prompts: 100%|██████████| 1/1 [00:05<00:00,  5.85s/it, est. speed input: 106.45 toks/s, output: 81.84 toks/s]\u001b[A\n"
     ]
    },
    {
     "name": "stdout",
     "output_type": "stream",
     "text": [
      "Dear [Patient],\n",
      "\n",
      "I am writing to inform you about your recent hospital stay and the care you received during your admission. You were admitted to the hospital after a fall, which resulted in a head injury and subacute on chronic subdural hemorrhages. Our medical team worked hard to evaluate and treat your condition, and I am happy to report that you are now recovering well.\n",
      "\n",
      "During your stay, we performed several diagnostic tests to better understand your condition. These tests showed that you had subacute on chronic subdural hemorrhages, which were caused by the fall. We also monitored your symptoms and medical condition closely to ensure that you received the best possible care.\n",
      "\n",
      "To manage your pain and discomfort, we prescribed you Acetaminophen 650 mg PO Q6H:PRN Pain - Mild. We also gave you Docusate Sodium 100 mg PO BID to help with constipation and Polyethylene Glycol 17 g PO DAILY:PRN constipation to manage any constipation issues. These medications were added to your treatment plan to help you feel more comfortable and to manage any symptoms you may have experienced.\n",
      "\n",
      "Before you were discharged, our medical team reviewed your medical history, current medications, and any allergies to ensure that you received the best possible care. We also made sure that you had a clear understanding of your post-discharge care plan and any necessary follow-up appointments. Additionally, we documented any changes made to your treatment plan in your medical record.\n",
      "\n",
      "The changes to your medications were the addition of Acetaminophen, Docusate Sodium, and Polyethylene Glycol. These medications were new additions to your treatment plan, and we will continue to monitor your condition and adjust your medications as needed.\n",
      "\n",
      "I want to assure you that our medical team is committed to providing you with the best possible care. If you have any questions or concerns about your hospital stay or your treatment plan, please do not hesitate to reach out to us. We are here to support you and help you recover from your injury.\n",
      "\n",
      "Thank you for choosing our hospital for your care. We are glad that you are recovering well and look forward to seeing you at your follow-up appointments.\n",
      "\n",
      "Sincerely,\n",
      "[Your Name] MD/DO/Other Healthcare Provider\n",
      "\n",
      "Please note that the response is limited to 600 words. If you need to add more information, please let me know.\n",
      "Time taken for generate_di: 17.235769987106323 seconds.\n",
      "4 of 10962, 0.03648969166210546% hadm_id: 21322534 **********\n",
      "\n",
      "\n",
      "773\n"
     ]
    },
    {
     "name": "stderr",
     "output_type": "stream",
     "text": [
      "\n",
      "Processed prompts:   0%|          | 0/1 [00:00<?, ?it/s, est. speed input: 0.00 toks/s, output: 0.00 toks/s]\u001b[A\n",
      "Processed prompts: 100%|██████████| 1/1 [00:09<00:00,  9.15s/it, est. speed input: 84.52 toks/s, output: 81.35 toks/s]\u001b[A\n"
     ]
    },
    {
     "name": "stdout",
     "output_type": "stream",
     "text": [
      "The patient, a 65-year-old female with a history of CAD, severe aortic stenosis, COPD, ESRD on hemodialysis, hypothyroidism, and chronic pain, was admitted to the hospital with new onset atrial fibrillation (Afib). She presented with severe shortness of breath (SOB) that worsened with activity, which was not accompanied by chest pain, lightheadedness, cough, nausea, abdominal pain, urinary symptoms, or diarrhea. \n",
      "\n",
      "The patient had a recent hospitalization at OSH for SOB thought to be secondary to acute heart failure (CHF), which was diagnosed based on a CXR showing bibasilar infiltrates and a troponin level of 0.19. An echocardiogram revealed a left ventricular ejection fraction (LVEF) of >50%, critical aortic stenosis with a valve area of 0.5 cm2, and moderate mitral regurgitation. The patient's cardiologist recommended catheterization in the outpatient setting, followed by transcatheter aortic valve replacement (TAVR) evaluation, but she declined further procedures and opted to \"live life as best I can.\" \n",
      "\n",
      "On admission, the patient had a CXR that showed a questionable right-sided pneumonia, which was treated with levofloxacin and ceftriaxone. She was initially hypotensive and received 1 L of intravenous fluids, but then became volume overloaded. \n",
      "\n",
      "The patient's initial vital signs in the emergency department were: temperature 99.4°F, blood pressure 136/68 mmHg, heart rate 126 beats per minute, respiratory rate 22 breaths per minute, and oxygen saturation 99% on 3 liters of nasal cannula. \n",
      "\n",
      "Laboratory results notable for: white blood cell count 8.7, hemoglobin 9.1 (baseline unknown), platelet count 135,000, sodium 139 mmol/L, potassium 5.4 mmol/L, creatinine 6.4 mg/dL, lactate 1.4 mmol/L, creatine kinase 103 IU/L, international normalized ratio 1.2, troponin 0.33 ng/mL, and brain natriuretic peptide >70,000 pg/mL. \n",
      "\n",
      "The patient was given 500 mL of intravenous fluids and calcium gluconate/insulin for her potassium level of 5.4 mmol/L. On the floor, the patient was comfortable with a heart rate in the 100-110 beats per minute range and a blood pressure in the 100-60 mmHg range. She reported feeling less short of breath. \n",
      "\n",
      "The diagnostic workup included a CXR, echocardiogram, and laboratory tests, including complete blood count, chemistry panel, and cardiac biomarkers. The patient was treated with intravenous fluids, calcium gluconate, and insulin for her hypokalemia. \n",
      "\n",
      "The treatments and diagnostic workup were aimed at managing the patient's atrial fibrillation, hypokalemia, and potential heart failure. The patient's cardiologist had recommended further evaluation and treatment, but she declined these recommendations and opted for conservative management. \n",
      "\n",
      "Please note that the patient's medical history and laboratory results suggest that she may have underlying heart disease, including aortic stenosis and heart failure, which may have contributed to her symptoms. The patient's decision to decline further evaluation and treatment may have implications for her long-term health and quality of life. \n",
      "\n",
      "Please let me know if you need any further information. I will be happy to help.\n",
      "930\n"
     ]
    },
    {
     "name": "stderr",
     "output_type": "stream",
     "text": [
      "\n",
      "Processed prompts:   0%|          | 0/1 [00:00<?, ?it/s, est. speed input: 0.00 toks/s, output: 0.00 toks/s]\u001b[A\n",
      "Processed prompts: 100%|██████████| 1/1 [00:00<00:00,  1.50it/s, est. speed input: 1400.74 toks/s, output: 73.80 toks/s]\u001b[A\n"
     ]
    },
    {
     "name": "stdout",
     "output_type": "stream",
     "text": [
      "The major surgical, invasive, or diagnostic, or therapeutic procedures were: ECHO (echocardiogram). There were no other major surgical, invasive, or diagnostic, or therapeutic procedures mentioned in the patient's medical records and clinical notes.\n",
      "568\n"
     ]
    },
    {
     "name": "stderr",
     "output_type": "stream",
     "text": [
      "\n",
      "Processed prompts:   0%|          | 0/1 [00:00<?, ?it/s, est. speed input: 0.00 toks/s, output: 0.00 toks/s]\u001b[A\n",
      "Processed prompts: 100%|██████████| 1/1 [00:02<00:00,  2.29s/it, est. speed input: 248.57 toks/s, output: 81.40 toks/s]\u001b[A\n"
     ]
    },
    {
     "name": "stdout",
     "output_type": "stream",
     "text": [
      "The changes to the patient's medications were the addition of Levofloxacin 500 mg PO Q48H and Metoprolol Succinate XL 25 mg PO DAILY. The medications that were new were Levofloxacin 500 mg PO Q48H. The medications that were stopped were none. The medications that remained the same were Docusate Sodium 100 mg PO DAILY, Gabapentin 300 mg PO QHS, Gabapentin 100 mg PO QAM, Levothyroxine Sodium 100 mcg PO DAILY, Methadone 5 mg PO BID, Nephrocaps 1 CAP PO DAILY, and Rosuvastatin Calcium 20 mg PO 5X/WEEK. Acetaminophen 650 mg PO Q8H:PRN Pain - Mild remained the same, but the frequency was not changed.  \n",
      "971\n"
     ]
    },
    {
     "name": "stderr",
     "output_type": "stream",
     "text": [
      "\n",
      "Processed prompts:   0%|          | 0/1 [00:00<?, ?it/s, est. speed input: 0.00 toks/s, output: 0.00 toks/s]\u001b[A\n",
      "Processed prompts: 100%|██████████| 1/1 [00:00<00:00,  1.11it/s, est. speed input: 1082.76 toks/s, output: 75.83 toks/s]\u001b[A\n"
     ]
    },
    {
     "name": "stdout",
     "output_type": "stream",
     "text": [
      "During this hospital admission, the patient was treated with Levofloxacin 500 mg PO Q48H and Metoprolol Succinate XL 25 mg PO DAILY. Additionally, she received IVF (500 cc) and calcium gluconate/insulin for her potassium level of 5.4. \n",
      "846\n"
     ]
    },
    {
     "name": "stderr",
     "output_type": "stream",
     "text": [
      "\n",
      "Processed prompts:   0%|          | 0/1 [00:00<?, ?it/s, est. speed input: 0.00 toks/s, output: 0.00 toks/s]\u001b[A\n",
      "Processed prompts: 100%|██████████| 1/1 [00:01<00:00,  1.30s/it, est. speed input: 649.70 toks/s, output: 78.33 toks/s]\u001b[A\n"
     ]
    },
    {
     "name": "stdout",
     "output_type": "stream",
     "text": [
      "This patient was treated for atrial fibrillation, severe aortic stenosis, chronic obstructive pulmonary disease (COPD), end-stage renal disease (ESRD) on hemodialysis three times a week, hypothyroidism, and chronic pain during their hospital admission. The patient also had a history of coronary artery disease (CAD) and had been previously hospitalized for symptoms of shortness of breath (SOB) thought to be secondary to acute heart failure (CHF). \n",
      "845\n"
     ]
    },
    {
     "name": "stderr",
     "output_type": "stream",
     "text": [
      "\n",
      "Processed prompts:   0%|          | 0/1 [00:00<?, ?it/s, est. speed input: 0.00 toks/s, output: 0.00 toks/s]\u001b[A\n",
      "Processed prompts: 100%|██████████| 1/1 [00:02<00:00,  2.40s/it, est. speed input: 352.86 toks/s, output: 80.18 toks/s]\u001b[A\n"
     ]
    },
    {
     "name": "stdout",
     "output_type": "stream",
     "text": [
      "The patient was admitted to the hospital due to new onset atrial fibrillation (Afib) and symptoms of severe shortness of breath (SOB) that worsened with activity. The patient reported SOB so severe that she had to sit on the couch and draw in deep breaths for 30 minutes. The patient's symptoms were severe enough that she was unable to walk from her bed to the door without experiencing SOB. The patient's recent hospitalization at OSH for SOB thought to be secondary to acute CHF and the presence of bibasilar infiltrates on CXR and elevated troponin levels also contributed to her admission. The patient's decision to not pursue procedures or surgery, including TAVR evaluation, also played a role in her admission. The patient's symptoms and medical condition, including Afib, severe aortic stenosis, and chronic pain, caused her to come to or be brought into the hospital.\n",
      "1302\n"
     ]
    },
    {
     "name": "stderr",
     "output_type": "stream",
     "text": [
      "\n",
      "Processed prompts:   0%|          | 0/1 [00:00<?, ?it/s, est. speed input: 0.00 toks/s, output: 0.00 toks/s]\u001b[A\n",
      "Processed prompts: 100%|██████████| 1/1 [00:01<00:00,  1.61s/it, est. speed input: 809.94 toks/s, output: 77.14 toks/s]\u001b[A\n"
     ]
    },
    {
     "name": "stdout",
     "output_type": "stream",
     "text": [
      "The patient was treated for atrial fibrillation with Levofloxacin 500 mg PO Q48H and Metoprolol Succinate XL 25 mg PO DAILY. For hypokalemia, the patient received IVF (500 cc) and calcium gluconate/insulin. For potential heart failure, the patient was treated with intravenous fluids, calcium gluconate, and insulin. The patient was also treated for a questionable right-sided pneumonia with levofloxacin and ceftriaxone. \n",
      "\n",
      "Please let me know if this is correct. I will be happy to help.\n",
      "249\n"
     ]
    },
    {
     "name": "stderr",
     "output_type": "stream",
     "text": [
      "\n",
      "Processed prompts:   0%|          | 0/1 [00:00<?, ?it/s, est. speed input: 0.00 toks/s, output: 0.00 toks/s]\u001b[A\n",
      "Processed prompts: 100%|██████████| 1/1 [00:00<00:00,  1.16it/s, est. speed input: 288.18 toks/s, output: 81.01 toks/s]\u001b[A\n"
     ]
    },
    {
     "name": "stdout",
     "output_type": "stream",
     "text": [
      "The instructions for the receiving provider are to start the patient on Metoprolol and Levofloxacin, and to monitor clinically for resolution of PNA. The patient will resume hemodialysis (HD) on a regular schedule and will not start warfarin at this time. The provider should also contact ___ and ___ for further information.\n",
      "568\n"
     ]
    },
    {
     "name": "stderr",
     "output_type": "stream",
     "text": [
      "\n",
      "Processed prompts:   0%|          | 0/1 [00:00<?, ?it/s, est. speed input: 0.00 toks/s, output: 0.00 toks/s]\u001b[A\n",
      "Processed prompts: 100%|██████████| 1/1 [00:01<00:00,  1.01s/it, est. speed input: 563.28 toks/s, output: 79.33 toks/s]\u001b[A\n"
     ]
    },
    {
     "name": "stdout",
     "output_type": "stream",
     "text": [
      "The changes to the patient's medications were the addition of Levofloxacin 500 mg PO Q48H and Metoprolol Succinate XL 25 mg PO DAILY. The medications that were new were Levofloxacin 500 mg PO Q48H. The medications that were stopped were none, as all medications from the admission list were continued at discharge.  \n",
      "769\n"
     ]
    },
    {
     "name": "stderr",
     "output_type": "stream",
     "text": [
      "\n",
      "Processed prompts:   0%|          | 0/1 [00:00<?, ?it/s, est. speed input: 0.00 toks/s, output: 0.00 toks/s]\u001b[A\n",
      "Processed prompts: 100%|██████████| 1/1 [00:04<00:00,  4.68s/it, est. speed input: 164.49 toks/s, output: 81.07 toks/s]\u001b[A\n"
     ]
    },
    {
     "name": "stdout",
     "output_type": "stream",
     "text": [
      "Dear [Patient],\n",
      "\n",
      "I am writing to inform you about your recent hospital stay and the treatment you received. You were admitted to the hospital due to new symptoms of atrial fibrillation (Afib) and severe shortness of breath (SOB) that made it difficult for you to breathe and walk.\n",
      "\n",
      "During your stay, we performed several diagnostic tests to understand the cause of your symptoms. These tests included blood work and imaging studies. The results showed that you had atrial fibrillation, which is a type of irregular heartbeat. We also found that you had severe aortic stenosis, which is a narrowing of the aortic valve that can make it difficult for blood to flow properly.\n",
      "\n",
      "To treat your atrial fibrillation, we started you on two medications: Levofloxacin and Metoprolol. These medications will help regulate your heartbeat and reduce your symptoms. We also treated you for hypokalemia, which is a condition where your body has too little potassium. This was done with IV fluids and calcium gluconate.\n",
      "\n",
      "In addition, we treated you for a possible right-sided pneumonia with antibiotics. We also gave you fluids and insulin to help manage your heart failure symptoms.\n",
      "\n",
      "As you continue your recovery, we recommend that you follow up with your primary care provider to monitor your progress. We will also be in touch with your other healthcare providers to ensure that you receive the best possible care.\n",
      "\n",
      "Please note that we have made some changes to your medication regimen. We have added Levofloxacin and Metoprolol, and we will continue to monitor your condition closely.\n",
      "\n",
      "If you have any questions or concerns, please do not hesitate to reach out to us. We are here to support you throughout your recovery.\n",
      "\n",
      "Sincerely,\n",
      "[Your Name]\n",
      "\n",
      "Please note that the response is limited to 600 words. If you need any further assistance, please let me know.\n",
      "Time taken for generate_di: 24.913514614105225 seconds.\n",
      "5 of 10962, 0.04561211457763182% hadm_id: 22196214 **********\n",
      "\n",
      "\n",
      "361\n"
     ]
    },
    {
     "name": "stderr",
     "output_type": "stream",
     "text": [
      "\n",
      "Processed prompts:   0%|          | 0/1 [00:00<?, ?it/s, est. speed input: 0.00 toks/s, output: 0.00 toks/s]\u001b[A\n",
      "Processed prompts: 100%|██████████| 1/1 [00:02<00:00,  2.23s/it, est. speed input: 161.99 toks/s, output: 82.11 toks/s]\u001b[A\n"
     ]
    },
    {
     "name": "stdout",
     "output_type": "stream",
     "text": [
      "The patient has a history of a motor vehicle collision (MVC) that resulted in a subarachnoid hemorrhage (SAH), multiple fractures, and a right hemothorax. She underwent several surgeries, including a C6-7 anterior cervical discectomy and fusion (ACDF), C6-7 posterior laminofusion, and T3-T11 laminofusion. She was discharged to continue her recovery and was doing well until she reported severe, pleuritic right scapula pain limiting her mobility one day prior to her current presentation. The patient has not experienced any new trauma and is not experiencing nausea, vomiting, fever, or chills. She was transferred for trauma surgery evaluation. The diagnostic workup has not been specified in the provided information. The treatments mentioned include the surgeries performed, but further information is needed to determine the specific treatments and diagnostic workup.\n",
      "373\n"
     ]
    },
    {
     "name": "stderr",
     "output_type": "stream",
     "text": [
      "\n",
      "Processed prompts:   0%|          | 0/1 [00:00<?, ?it/s, est. speed input: 0.00 toks/s, output: 0.00 toks/s]\u001b[A\n",
      "Processed prompts: 100%|██████████| 1/1 [00:00<00:00,  1.15it/s, est. speed input: 428.27 toks/s, output: 80.37 toks/s]\u001b[A\n"
     ]
    },
    {
     "name": "stdout",
     "output_type": "stream",
     "text": [
      "The major surgical, invasive, or diagnostic, or therapeutic procedures mentioned in the patient's medical records and clinical notes are:\n",
      "\n",
      "* Right chest tube placement\n",
      "* C6-7 anterior cervical discectomy and fusion (ACDF)\n",
      "* C6-7 posterior laminofusion\n",
      "* T3-T11 laminofusion\n",
      "\n",
      "\n",
      "533\n"
     ]
    },
    {
     "name": "stderr",
     "output_type": "stream",
     "text": [
      "\n",
      "Processed prompts:   0%|          | 0/1 [00:00<?, ?it/s, est. speed input: 0.00 toks/s, output: 0.00 toks/s]\u001b[A\n",
      "Processed prompts: 100%|██████████| 1/1 [00:03<00:00,  3.38s/it, est. speed input: 157.75 toks/s, output: 81.98 toks/s]\u001b[A\n"
     ]
    },
    {
     "name": "stdout",
     "output_type": "stream",
     "text": [
      "The changes to the patient's medications were:\n",
      "New medications: \n",
      "1. Acetaminophen 500 mg PO Q6H Pain \n",
      "2. Docusate Sodium 100 mg PO BID \n",
      "3. Heparin 5000 UNIT SC BID \n",
      "4. Morphine SR (MS ___ 30 mg PO Q8H \n",
      "5. Senna 8.6 mg PO BID:PRN constipation \n",
      "6. Polyethylene Glycol 17 g PO DAILY:PRN constipation \n",
      "\n",
      "Medications stopped: \n",
      "1. HYDROmorphone (Dilaudid) ___ mg PO Q2H:PRN pain (changed to HYDROmorphone (Dilaudid) ___ mg PO Q4H:PRN pain) \n",
      "2. Gabapentin 400 mg PO DAILY \n",
      "3. Baclofen 15 mg PO DAILY \n",
      "\n",
      "Note: The medication list on admission included Baclofen 15 mg PO DAILY, which was not present in the discharge medication list. It is likely that this medication was stopped. Similarly, Gabapentin 400 mg PO DAILY was not present in the discharge medication list, suggesting it was stopped. The dose of HYDROmorphone (Dilaudid) was changed from Q2H to Q4H.  \n",
      "650\n"
     ]
    },
    {
     "name": "stderr",
     "output_type": "stream",
     "text": [
      "\n",
      "Processed prompts:   0%|          | 0/1 [00:00<?, ?it/s, est. speed input: 0.00 toks/s, output: 0.00 toks/s]\u001b[A\n",
      "Processed prompts: 100%|██████████| 1/1 [00:01<00:00,  1.47s/it, est. speed input: 441.50 toks/s, output: 80.15 toks/s]\u001b[A\n"
     ]
    },
    {
     "name": "stdout",
     "output_type": "stream",
     "text": [
      "During this hospital admission, the patient received the following medications or IV therapies to treat their condition: Acetaminophen 500 mg PO Q6H Pain, Docusate Sodium 100 mg PO BID, Heparin 5000 UNIT SC BID, Morphine SR (MS ___ 30 mg PO Q8H, Senna 8.6 mg PO BID:PRN constipation, and Polyethylene Glycol 17 g PO DAILY:PRN constipation. Additionally, IV therapies were not mentioned in the provided data. \n",
      "404\n"
     ]
    },
    {
     "name": "stderr",
     "output_type": "stream",
     "text": [
      "\n",
      "Processed prompts:   0%|          | 0/1 [00:00<?, ?it/s, est. speed input: 0.00 toks/s, output: 0.00 toks/s]\u001b[A\n",
      "Processed prompts: 100%|██████████| 1/1 [00:01<00:00,  1.61s/it, est. speed input: 250.89 toks/s, output: 81.35 toks/s]\u001b[A\n"
     ]
    },
    {
     "name": "stdout",
     "output_type": "stream",
     "text": [
      "The patient was treated for a right nonhemorrhagic pleural effusion in the hospital. She also had a history of present illness related to a motor vehicle accident (MVC) that resulted in several injuries, including a subarachnoid hemorrhage (SAH), facet fractures, and spinous process fractures. She underwent surgeries, including anterior cervical discectomy and fusion (ACDF) and posterior lami/fusion, and was discharged to continue her recovery. However, she presented with severe, pleuritic right scapula pain limiting her mobility one day after discharge, which led to her transfer for trauma surgery evaluation.\n",
      "438\n"
     ]
    },
    {
     "name": "stderr",
     "output_type": "stream",
     "text": [
      "\n",
      "Processed prompts:   0%|          | 0/1 [00:00<?, ?it/s, est. speed input: 0.00 toks/s, output: 0.00 toks/s]\u001b[A\n",
      "Processed prompts: 100%|██████████| 1/1 [00:01<00:00,  1.19s/it, est. speed input: 367.83 toks/s, output: 80.62 toks/s]\u001b[A\n"
     ]
    },
    {
     "name": "stdout",
     "output_type": "stream",
     "text": [
      "The patient was admitted to the hospital due to severe, pleuritic right scapula pain limiting her mobility, which is a new symptom that developed one day after her discharge from the previous hospitalization. The pain is likely related to the right hemothorax and the recent chest tube placement, which may have caused a complication such as a pneumothorax or hemothorax. The patient was transferred for trauma surgery evaluation to assess and manage this new symptom.\n",
      "931\n"
     ]
    },
    {
     "name": "stderr",
     "output_type": "stream",
     "text": [
      "\n",
      "Processed prompts:   0%|          | 0/1 [00:00<?, ?it/s, est. speed input: 0.00 toks/s, output: 0.00 toks/s]\u001b[A\n",
      "Processed prompts: 100%|██████████| 1/1 [00:01<00:00,  1.48s/it, est. speed input: 629.33 toks/s, output: 78.41 toks/s]\u001b[A\n"
     ]
    },
    {
     "name": "stdout",
     "output_type": "stream",
     "text": [
      "The treatments for the acute medical condition of right nonhemorrhagic pleural effusion include:\n",
      "\n",
      "* Chest tube placement\n",
      "* Medications such as Acetaminophen 500 mg PO Q6H Pain, Docusate Sodium 100 mg PO BID, Heparin 5000 UNIT SC BID, Morphine SR (MS ___ 30 mg PO Q8H, Senna 8.6 mg PO BID:PRN constipation, and Polyethylene Glycol 17 g PO DAILY:PRN constipation. \n",
      "167\n"
     ]
    },
    {
     "name": "stderr",
     "output_type": "stream",
     "text": [
      "\n",
      "Processed prompts:   0%|          | 0/1 [00:00<?, ?it/s, est. speed input: 0.00 toks/s, output: 0.00 toks/s]\u001b[A\n",
      "Processed prompts: 100%|██████████| 1/1 [00:00<00:00,  1.11it/s, est. speed input: 184.80 toks/s, output: 81.89 toks/s]\u001b[A\n"
     ]
    },
    {
     "name": "stdout",
     "output_type": "stream",
     "text": [
      "The instructions for the receiving provider are to review the patient's medical history, current medications, and any allergies before the patient's discharge. The provider should also ensure that the patient has a clear understanding of their post-discharge care plan and any necessary follow-up appointments. Additionally, the provider should document any changes made to the patient's treatment plan in the medical record.\n",
      "533\n"
     ]
    },
    {
     "name": "stderr",
     "output_type": "stream",
     "text": [
      "\n",
      "Processed prompts:   0%|          | 0/1 [00:00<?, ?it/s, est. speed input: 0.00 toks/s, output: 0.00 toks/s]\u001b[A\n",
      "Processed prompts: 100%|██████████| 1/1 [00:02<00:00,  2.66s/it, est. speed input: 200.69 toks/s, output: 81.71 toks/s]\u001b[A\n"
     ]
    },
    {
     "name": "stdout",
     "output_type": "stream",
     "text": [
      "The changes to the patient's medications were:\n",
      "New medications: \n",
      "1. Acetaminophen 500 mg PO Q6H Pain\n",
      "2. Docusate Sodium 100 mg PO BID\n",
      "3. Heparin 5000 UNIT SC BID\n",
      "4. Morphine SR (MS ___ 30 mg PO Q8H\n",
      "5. Senna 8.6 mg PO BID:PRN constipation\n",
      "\n",
      "Stopped medications: \n",
      "1. Gabapentin 400 mg PO DAILY\n",
      "2. HYDROmorphone (Dilaudid) ___ mg PO Q2H:PRN pain (changed to HYDROmorphone (Dilaudid) ___ mg PO Q4H:PRN pain)\n",
      "3. Polyethylene Glycol 17 g PO DAILY:PRN constipation\n",
      "\n",
      "Note: The medication list on admission included Baclofen 15 mg PO DAILY, which is not present in the discharge medication list, but it is not explicitly stated whether it was stopped or changed.  \n",
      "804\n"
     ]
    },
    {
     "name": "stderr",
     "output_type": "stream",
     "text": [
      "\n",
      "Processed prompts:   0%|          | 0/1 [00:00<?, ?it/s, est. speed input: 0.00 toks/s, output: 0.00 toks/s]\u001b[A\n",
      "Processed prompts: 100%|██████████| 1/1 [00:04<00:00,  4.92s/it, est. speed input: 163.36 toks/s, output: 81.07 toks/s]\u001b[A\n"
     ]
    },
    {
     "name": "stdout",
     "output_type": "stream",
     "text": [
      "Dear [Patient's Name],\n",
      "\n",
      "I hope this letter finds you recovering well from your recent hospital admission. I wanted to take a moment to explain the reason for your admission and the treatments you received during your stay.\n",
      "\n",
      "You were admitted to the hospital due to severe pain in your right shoulder blade area, which limited your ability to move around comfortably. Our medical team suspected that this pain might be related to a condition called a hemothorax, which is a collection of blood in the space between your lungs and chest wall. We also considered the possibility of a pneumothorax, which is a collection of air in the same space.\n",
      "\n",
      "To help manage your symptoms, we placed a chest tube to drain the fluid and relieve the pressure. We also prescribed several medications to help with pain, constipation, and blood thinning. These medications included Acetaminophen, Docusate Sodium, Heparin, Morphine SR, and Senna.\n",
      "\n",
      "In addition to these medications, we also stopped a few medications that you were taking before your admission. These included Gabapentin, HYDROmorphone, and Polyethylene Glycol. We did not restart Baclofen, which was part of your previous medication regimen, but we did not explicitly stop it either.\n",
      "\n",
      "As you continue to recover, it is essential to follow the instructions provided by your healthcare provider. This includes reviewing your medical history, current medications, and any allergies before your discharge. You should also ensure that you understand your post-discharge care plan and any necessary follow-up appointments.\n",
      "\n",
      "Please note that we are still waiting for the results of some diagnostic tests, which will help us better understand the cause of your symptoms. We will keep you informed about any new developments and changes to your treatment plan.\n",
      "\n",
      "If you have any questions or concerns, please do not hesitate to reach out to your healthcare provider. We are committed to providing you with the best possible care and support during your recovery.\n",
      "\n",
      "Sincerely,\n",
      "[Your Name]\n",
      "Time taken for generate_di: 20.768397569656372 seconds.\n",
      "6 of 10962, 0.05473453749315818% hadm_id: 28481035 **********\n",
      "\n",
      "\n",
      "334\n"
     ]
    },
    {
     "name": "stderr",
     "output_type": "stream",
     "text": [
      "\n",
      "Processed prompts:   0%|          | 0/1 [00:00<?, ?it/s, est. speed input: 0.00 toks/s, output: 0.00 toks/s]\u001b[A\n",
      "Processed prompts: 100%|██████████| 1/1 [00:01<00:00,  1.23s/it, est. speed input: 271.17 toks/s, output: 81.19 toks/s]\u001b[A\n"
     ]
    },
    {
     "name": "stdout",
     "output_type": "stream",
     "text": [
      "The patient, a male prisoner, was treated for a left 10-11 posterior rib fracture and a left comminuted mandible fracture after being assaulted. Laboratory testing revealed a white cell count of 17.8, but other tests, including CBC, coags, and electrolytes, were normal. A CT scan of the head and torso confirmed the fractures. The patient was consulted for management and reported left chest pain and mandible tenderness, but denied other symptoms. \n",
      "316\n"
     ]
    },
    {
     "name": "stderr",
     "output_type": "stream",
     "text": [
      "\n",
      "Processed prompts:   0%|          | 0/1 [00:00<?, ?it/s, est. speed input: 0.00 toks/s, output: 0.00 toks/s]\u001b[A\n",
      "Processed prompts: 100%|██████████| 1/1 [00:00<00:00,  1.68it/s, est. speed input: 531.47 toks/s, output: 79.05 toks/s]\u001b[A\n"
     ]
    },
    {
     "name": "stdout",
     "output_type": "stream",
     "text": [
      "The major surgical, invasive, or diagnostic, or therapeutic procedures were: Open reduction internal fixation left mandibular fracture, placement of IMF screws, and wiring of jaw, and extraction of left upper third tooth (Number 16).\n",
      "626\n"
     ]
    },
    {
     "name": "stderr",
     "output_type": "stream",
     "text": [
      "\n",
      "Processed prompts:   0%|          | 0/1 [00:00<?, ?it/s, est. speed input: 0.00 toks/s, output: 0.00 toks/s]\u001b[A\n",
      "Processed prompts: 100%|██████████| 1/1 [00:01<00:00,  1.96s/it, est. speed input: 319.43 toks/s, output: 81.13 toks/s]\u001b[A\n"
     ]
    },
    {
     "name": "stdout",
     "output_type": "stream",
     "text": [
      "The patient's medications were changed as follows: \n",
      "New medications: \n",
      "1. Acetaminophen (Liquid) 650 mg PO Q6H:PRN Pain - Mild/Fever \n",
      "2. Ibuprofen Suspension 400 mg PO Q6H:PRN Pain - Mild \n",
      "3. Polyethylene Glycol 17 g PO DAILY:PRN Constipation \n",
      "4. TraMADol 50 mg PO Q6H:PRN Pain - Moderate \n",
      "\n",
      "Stopped medications: \n",
      "None mentioned in the discharge medication list. \n",
      "However, it is possible that some medications were stopped, but not mentioned in the discharge medication list. \n",
      "The patient's admission medication list was empty, so there were no medications to compare with the discharge medication list. \n",
      "\n",
      "505\n"
     ]
    },
    {
     "name": "stderr",
     "output_type": "stream",
     "text": [
      "\n",
      "Processed prompts:   0%|          | 0/1 [00:00<?, ?it/s, est. speed input: 0.00 toks/s, output: 0.00 toks/s]\u001b[A\n",
      "Processed prompts: 100%|██████████| 1/1 [00:01<00:00,  1.22s/it, est. speed input: 415.72 toks/s, output: 80.67 toks/s]\u001b[A\n"
     ]
    },
    {
     "name": "stdout",
     "output_type": "stream",
     "text": [
      "During this hospital admission, the patient was treated with the following medications or IV therapies: Acetaminophen (Liquid) 650 mg PO Q6H:PRN Pain - Mild/Fever, Ibuprofen Suspension 400 mg PO Q6H:PRN Pain - Mild, Polyethylene Glycol 17 g PO DAILY:PRN Constipation, and TraMADol 50 mg PO Q6H:PRN Pain - Moderate. \n",
      "404\n"
     ]
    },
    {
     "name": "stderr",
     "output_type": "stream",
     "text": [
      "\n",
      "Processed prompts:   0%|          | 0/1 [00:00<?, ?it/s, est. speed input: 0.00 toks/s, output: 0.00 toks/s]\u001b[A\n",
      "Processed prompts: 100%|██████████| 1/1 [00:00<00:00,  1.57it/s, est. speed input: 633.94 toks/s, output: 78.46 toks/s]\u001b[A\n"
     ]
    },
    {
     "name": "stdout",
     "output_type": "stream",
     "text": [
      "The patient was treated for left mandibular fracture and left 10-11 posterior rib fractures in the hospital. He also had a history of present illness related to an assault, including left chest pain and mandible tenderness. \n",
      "460\n"
     ]
    },
    {
     "name": "stderr",
     "output_type": "stream",
     "text": [
      "\n",
      "Processed prompts:   0%|          | 0/1 [00:00<?, ?it/s, est. speed input: 0.00 toks/s, output: 0.00 toks/s]\u001b[A\n",
      "Processed prompts: 100%|██████████| 1/1 [00:01<00:00,  1.25s/it, est. speed input: 367.88 toks/s, output: 80.77 toks/s]\u001b[A\n"
     ]
    },
    {
     "name": "stdout",
     "output_type": "stream",
     "text": [
      "The patient was admitted to the hospital due to facial trauma, specifically a left mandible fracture and left 10-11 posterior rib fracture, resulting from an assault. The patient presented to the emergency department with left chest pain and mandible tenderness, and underwent laboratory testing, CT scan, and a major surgical procedure, open reduction internal fixation of the left mandibular fracture. The patient's symptoms and medical condition, including the facial trauma and rib fracture, caused them to come to the hospital.\n",
      "605\n"
     ]
    },
    {
     "name": "stderr",
     "output_type": "stream",
     "text": [
      "\n",
      "Processed prompts:   0%|          | 0/1 [00:00<?, ?it/s, est. speed input: 0.00 toks/s, output: 0.00 toks/s]\u001b[A\n",
      "Processed prompts: 100%|██████████| 1/1 [00:02<00:00,  2.16s/it, est. speed input: 280.02 toks/s, output: 81.46 toks/s]\u001b[A\n"
     ]
    },
    {
     "name": "stdout",
     "output_type": "stream",
     "text": [
      "The patient was treated for left mandibular fracture and left 10-11 posterior rib fractures. The treatments included: \n",
      "1. Open reduction internal fixation left mandibular fracture, placement of IMF screws, and wiring of jaw, and extraction of left upper third tooth (Number 16) - major surgical procedure. \n",
      "2. Acetaminophen (Liquid) 650 mg PO Q6H:PRN Pain - Mild/Fever - medication for pain and fever. \n",
      "3. Ibuprofen Suspension 400 mg PO Q6H:PRN Pain - Mild - medication for pain. \n",
      "4. Polyethylene Glycol 17 g PO DAILY:PRN Constipation - medication for constipation. \n",
      "5. TraMADol 50 mg PO Q6H:PRN Pain - Moderate - medication for pain. \n",
      "\n",
      "\n",
      "167\n"
     ]
    },
    {
     "name": "stderr",
     "output_type": "stream",
     "text": [
      "\n",
      "Processed prompts:   0%|          | 0/1 [00:00<?, ?it/s, est. speed input: 0.00 toks/s, output: 0.00 toks/s]\u001b[A\n",
      "Processed prompts: 100%|██████████| 1/1 [00:00<00:00,  1.01it/s, est. speed input: 169.37 toks/s, output: 82.15 toks/s]\u001b[A\n"
     ]
    },
    {
     "name": "stdout",
     "output_type": "stream",
     "text": [
      "The instructions for the receiving provider are to review the patient's medical history, current medications, and any allergies before the patient's discharge. The provider should also ensure that the patient has a clear understanding of their post-discharge care plan and any necessary follow-up appointments. Additionally, the provider should document any changes made to the patient's medications or treatment plan in the patient's medical record. \n",
      "626\n"
     ]
    },
    {
     "name": "stderr",
     "output_type": "stream",
     "text": [
      "\n",
      "Processed prompts:   0%|          | 0/1 [00:00<?, ?it/s, est. speed input: 0.00 toks/s, output: 0.00 toks/s]\u001b[A\n",
      "Processed prompts: 100%|██████████| 1/1 [00:01<00:00,  1.92s/it, est. speed input: 326.02 toks/s, output: 81.25 toks/s]\u001b[A\n"
     ]
    },
    {
     "name": "stdout",
     "output_type": "stream",
     "text": [
      "The patient's medications were changed as follows: \n",
      "New medications: \n",
      "1. Acetaminophen (Liquid) 650 mg PO Q6H:PRN Pain - Mild/Fever \n",
      "2. Ibuprofen Suspension 400 mg PO Q6H:PRN Pain - Mild \n",
      "3. Polyethylene Glycol 17 g PO DAILY:PRN Constipation \n",
      "4. TraMADol 50 mg PO Q6H:PRN Pain - Moderate \n",
      "\n",
      "Stopped medications: \n",
      "None mentioned in the discharge medication list. However, it is possible that some medications were stopped, but not mentioned in the discharge list. \n",
      "\n",
      "Note: The admission medication list is empty, so there are no medications to compare with the discharge list.  \n",
      "812\n"
     ]
    },
    {
     "name": "stderr",
     "output_type": "stream",
     "text": [
      "\n",
      "Processed prompts:   0%|          | 0/1 [00:00<?, ?it/s, est. speed input: 0.00 toks/s, output: 0.00 toks/s]\u001b[A\n",
      "Processed prompts: 100%|██████████| 1/1 [00:04<00:00,  4.43s/it, est. speed input: 183.37 toks/s, output: 81.07 toks/s]\u001b[A\n"
     ]
    },
    {
     "name": "stdout",
     "output_type": "stream",
     "text": [
      "Dear [Patient],\n",
      "\n",
      "I am writing to inform you about your recent hospital stay and the treatment you received for your facial trauma. You were admitted to the hospital due to a left mandible fracture and left 10-11 posterior rib fracture, which were caused by an assault. You presented to the emergency department with left chest pain and mandible tenderness, and underwent laboratory testing, CT scan, and a major surgical procedure, open reduction internal fixation of the left mandibular fracture.\n",
      "\n",
      "During your hospital stay, you received several treatments to manage your symptoms and medical condition. These included open reduction internal fixation of the left mandibular fracture, placement of IMF screws, and wiring of your jaw. You were also given medications to manage your pain, fever, and constipation.\n",
      "\n",
      "In addition to these treatments, your medications were changed to better manage your symptoms. You were started on acetaminophen, ibuprofen, and polyethylene glycol to help with pain, fever, and constipation. You were also given tramadol for moderate pain.\n",
      "\n",
      "Before your discharge, your healthcare provider reviewed your medical history, current medications, and any allergies. They also made sure you understood your post-discharge care plan and any necessary follow-up appointments. Your healthcare provider documented any changes made to your medications or treatment plan in your medical record.\n",
      "\n",
      "Please note that your medications were changed during your hospital stay, and you were started on new medications to help manage your symptoms. It is important to take your medications as directed and to follow up with your healthcare provider as scheduled.\n",
      "\n",
      "If you have any questions or concerns about your hospital stay or treatment, please do not hesitate to reach out to your healthcare provider. We are here to support you and help you recover from your injuries.\n",
      "\n",
      "Sincerely,\n",
      "[Your Name]\n",
      "Time taken for generate_di: 16.440576791763306 seconds.\n",
      "7 of 10962, 0.06385696040868455% hadm_id: 25142813 **********\n",
      "\n",
      "\n",
      "438\n"
     ]
    },
    {
     "name": "stderr",
     "output_type": "stream",
     "text": [
      "\n",
      "Processed prompts:   0%|          | 0/1 [00:00<?, ?it/s, est. speed input: 0.00 toks/s, output: 0.00 toks/s]\u001b[A\n",
      "Processed prompts: 100%|██████████| 1/1 [00:01<00:00,  1.35s/it, est. speed input: 325.36 toks/s, output: 80.97 toks/s]\u001b[A\n"
     ]
    },
    {
     "name": "stdout",
     "output_type": "stream",
     "text": [
      "The patient, a 30-year-old female with a history of rheumatic heart disease and mechanical mitral valve replacement, was treated for left-sided facial swelling and pain. The diagnostic workup included a CT sinus that showed soft tissue edema without abscess. She was given Unasyn for buccal cellulitis, likely caused by a dental source. Her INR was 7.2, and she was monitored with regular vital signs. The patient continues to experience left-sided facial pain but has no other complaints. \n",
      "290\n"
     ]
    },
    {
     "name": "stderr",
     "output_type": "stream",
     "text": [
      "\n",
      "Processed prompts:   0%|          | 0/1 [00:00<?, ?it/s, est. speed input: 0.00 toks/s, output: 0.00 toks/s]\u001b[A\n",
      "Processed prompts: 100%|██████████| 1/1 [00:00<00:00,  1.31it/s, est. speed input: 381.17 toks/s, output: 80.18 toks/s]\u001b[A\n"
     ]
    },
    {
     "name": "stdout",
     "output_type": "stream",
     "text": [
      "The patient did not undergo any major surgical, invasive, or diagnostic, or therapeutic procedures. The only procedure mentioned was a CT sinus, which is a diagnostic imaging test. The patient was treated with antibiotics for buccal cellulitis, but this was not a surgical or invasive procedure. \n",
      "571\n"
     ]
    },
    {
     "name": "stderr",
     "output_type": "stream",
     "text": [
      "\n",
      "Processed prompts:   0%|          | 0/1 [00:00<?, ?it/s, est. speed input: 0.00 toks/s, output: 0.00 toks/s]\u001b[A\n",
      "Processed prompts: 100%|██████████| 1/1 [00:02<00:00,  2.39s/it, est. speed input: 239.21 toks/s, output: 81.69 toks/s]\u001b[A\n"
     ]
    },
    {
     "name": "stdout",
     "output_type": "stream",
     "text": [
      "The changes to the patient's medications were the addition of polyethylene glycol 3350 17 gram Powder in Packet and amoxicillin-pot clavulanate 875-125 mg Tablet. The medications that were stopped were Miralax 17g po daily and Docusate 200mg po bid. The medications that were new were polyethylene glycol 3350 17 gram Powder in Packet and amoxicillin-pot clavulanate 875-125 mg Tablet. The medications that were continued were metoprolol tartrate 50 mg, alendronate 70 mg, simvastatin 20 mg, aspirin 81 mg, Vitamin D3, lisinopril 5 mg, and warfarin 5 mg. The medication that was adjusted was warfarin, with a dose change from 5mg to 2.5mg on the evening of discharge.  \n",
      "645\n"
     ]
    },
    {
     "name": "stderr",
     "output_type": "stream",
     "text": [
      "\n",
      "Processed prompts:   0%|          | 0/1 [00:00<?, ?it/s, est. speed input: 0.00 toks/s, output: 0.00 toks/s]\u001b[A\n",
      "Processed prompts: 100%|██████████| 1/1 [00:01<00:00,  1.13s/it, est. speed input: 569.42 toks/s, output: 79.45 toks/s]\u001b[A\n"
     ]
    },
    {
     "name": "stdout",
     "output_type": "stream",
     "text": [
      "The patient was treated with Unasyn for buccal cellulitis with likely dental source during this hospital admission. Additionally, the patient was given polyethylene glycol 3350 17 gram Powder in Packet and amoxicillin-pot clavulanate 875-125 mg Tablet. Warfarin was also adjusted, with a dose change from 5mg to 2.5mg on the evening of discharge. \n",
      "506\n"
     ]
    },
    {
     "name": "stderr",
     "output_type": "stream",
     "text": [
      "\n",
      "Processed prompts:   0%|          | 0/1 [00:00<?, ?it/s, est. speed input: 0.00 toks/s, output: 0.00 toks/s]\u001b[A\n",
      "Processed prompts: 100%|██████████| 1/1 [00:00<00:00,  1.20it/s, est. speed input: 610.10 toks/s, output: 79.58 toks/s]\u001b[A\n"
     ]
    },
    {
     "name": "stdout",
     "output_type": "stream",
     "text": [
      "The patient was treated for left facial/pre-septal cellulitis and supratherapeutic INR during her hospital admission. She also had hypertension and was taking anticoagulant medication. Additionally, she had a history of rheumatic heart disease, mechanical mitral valve replacement, and previous MSSA endocarditis. \n",
      "530\n"
     ]
    },
    {
     "name": "stderr",
     "output_type": "stream",
     "text": [
      "\n",
      "Processed prompts:   0%|          | 0/1 [00:00<?, ?it/s, est. speed input: 0.00 toks/s, output: 0.00 toks/s]\u001b[A\n",
      "Processed prompts: 100%|██████████| 1/1 [00:02<00:00,  2.45s/it, est. speed input: 216.67 toks/s, output: 81.76 toks/s]\u001b[A\n"
     ]
    },
    {
     "name": "stdout",
     "output_type": "stream",
     "text": [
      "The patient was admitted to the hospital due to left-sided facial swelling and pain, which is likely caused by buccal cellulitis with a dental source. The patient's history of rheumatic heart disease, mechanical mitral valve replacement, and recent tooth extractions recommended but not arranged due to difficulty managing her coumadin periprocedurally, suggests that the cellulitis may be related to dental issues. The patient's symptoms, including facial swelling, redness, and pain, as well as chills, headache, and decreased appetite, are consistent with an infection. The initial CT sinus showed soft tissue edema without abscess, and the patient was given Unasyn for buccal cellulitis. The patient's abnormal coagulation profile, as evidenced by an INR of 7.2, may also be contributing to her symptoms. Overall, the patient was admitted to the hospital for management of her cellulitis and to address her abnormal coagulation profile. \n",
      "670\n"
     ]
    },
    {
     "name": "stderr",
     "output_type": "stream",
     "text": [
      "\n",
      "Processed prompts:   0%|          | 0/1 [00:00<?, ?it/s, est. speed input: 0.00 toks/s, output: 0.00 toks/s]\u001b[A\n",
      "Processed prompts: 100%|██████████| 1/1 [00:01<00:00,  1.58s/it, est. speed input: 424.60 toks/s, output: 80.48 toks/s]\u001b[A\n"
     ]
    },
    {
     "name": "stdout",
     "output_type": "stream",
     "text": [
      "The treatments for the acute medical conditions mentioned in the patient's medical records and clinical notes are as follows:\n",
      "\n",
      "* Left facial/pre-septal cellulitis: Unasyn for buccal cellulitis with likely dental source\n",
      "* Supratherapeutic INR: Warfarin was adjusted, with a dose change from 5mg to 2.5mg on the evening of discharge\n",
      "* Hypertension: No specific treatment mentioned\n",
      "* Rheumatic heart disease: No specific treatment mentioned\n",
      "* Mechanical mitral valve replacement: No specific treatment mentioned\n",
      "* Previous MSSA endocarditis: No specific treatment mentioned\n",
      "\n",
      "\n",
      "212\n"
     ]
    },
    {
     "name": "stderr",
     "output_type": "stream",
     "text": [
      "\n",
      "Processed prompts:   0%|          | 0/1 [00:00<?, ?it/s, est. speed input: 0.00 toks/s, output: 0.00 toks/s]\u001b[A\n",
      "Processed prompts: 100%|██████████| 1/1 [00:00<00:00,  1.83it/s, est. speed input: 387.90 toks/s, output: 80.51 toks/s]\u001b[A\n"
     ]
    },
    {
     "name": "stdout",
     "output_type": "stream",
     "text": [
      "The instructions for the receiving provider are to have the patient return to the clinic 2 days following discharge for an INR check and to follow up with the PCP as an outpatient to prepare for mouth clearance surgery.\n",
      "571\n"
     ]
    },
    {
     "name": "stderr",
     "output_type": "stream",
     "text": [
      "\n",
      "Processed prompts:   0%|          | 0/1 [00:00<?, ?it/s, est. speed input: 0.00 toks/s, output: 0.00 toks/s]\u001b[A\n",
      "Processed prompts: 100%|██████████| 1/1 [00:03<00:00,  3.21s/it, est. speed input: 177.94 toks/s, output: 81.96 toks/s]\u001b[A\n"
     ]
    },
    {
     "name": "stdout",
     "output_type": "stream",
     "text": [
      "The changes to the patient's medications were:\n",
      "- Miralax 17g po daily was stopped.\n",
      "- Docusate 200mg po bid was stopped.\n",
      "- ASA 81mg po daily was stopped.\n",
      "- Warfarin 5mg po daily was changed to take 2.5mg on the evening of discharge, then resume home dose.\n",
      "- New medications added: Polyethylene glycol 3350 17 gram Powder in Packet Sig: One (1) Powder in Packet PO DAILY (Daily) as needed for constipation.\n",
      "- Amoxicillin-pot clavulanate 875-125 mg Tablet Sig: One (1) Tablet PO Q12H (every 12 hours) for 3.5 days was added. \n",
      "\n",
      "New medications: Polyethylene glycol 3350 17 gram Powder in Packet Sig: One (1) Powder in Packet PO DAILY (Daily) as needed for constipation, Amoxicillin-pot clavulanate 875-125 mg Tablet Sig: One (1) Tablet PO Q12H (every 12 hours) for 3.5 days.\n",
      "\n",
      "Stopped medications: Miralax 17g po daily, Docusate 200mg po bid, ASA 81mg po daily.  \n",
      "932\n"
     ]
    },
    {
     "name": "stderr",
     "output_type": "stream",
     "text": [
      "\n",
      "Processed prompts:   0%|          | 0/1 [00:00<?, ?it/s, est. speed input: 0.00 toks/s, output: 0.00 toks/s]\u001b[A\n",
      "Processed prompts: 100%|██████████| 1/1 [00:03<00:00,  3.68s/it, est. speed input: 253.29 toks/s, output: 80.44 toks/s]\u001b[A\n"
     ]
    },
    {
     "name": "stdout",
     "output_type": "stream",
     "text": [
      "Dear [Patient's Name],\n",
      "\n",
      "I am writing to inform you about your recent hospital admission and the treatments you received during your stay. You were admitted to the hospital due to left-sided facial swelling and pain, which is likely caused by an infection in your mouth. Our doctors and nurses worked hard to manage your symptoms and treat the infection.\n",
      "\n",
      "During your stay, we performed some tests to help us understand the cause of your symptoms. A CT scan of your sinuses showed that you had soft tissue swelling, which is consistent with an infection. We also found that your blood was not clotting properly, which may have been contributing to your symptoms.\n",
      "\n",
      "To treat your infection, we gave you antibiotics called Unasyn. We also adjusted your medication to help your blood clot properly. In addition, we stopped some of your medications that were not necessary at this time.\n",
      "\n",
      "You will need to follow up with your primary care physician as an outpatient to prepare for a surgery to clear your mouth. You will also need to return to our clinic in 2 days to have your blood checked to make sure it is clotting properly.\n",
      "\n",
      "Please note that you have been prescribed some new medications to help with constipation and to continue treating your infection. You will need to take these medications as directed.\n",
      "\n",
      "If you have any questions or concerns, please do not hesitate to reach out to us. We are here to help you and want to make sure you are doing well.\n",
      "\n",
      "Sincerely,\n",
      "[Your Name]\n",
      "Time taken for generate_di: 17.972813606262207 seconds.\n",
      "8 of 10962, 0.07297938332421092% hadm_id: 29339128 **********\n",
      "\n",
      "\n",
      "664\n"
     ]
    },
    {
     "name": "stderr",
     "output_type": "stream",
     "text": [
      "\n",
      "Processed prompts:   0%|          | 0/1 [00:00<?, ?it/s, est. speed input: 0.00 toks/s, output: 0.00 toks/s]\u001b[A\n",
      "Processed prompts: 100%|██████████| 1/1 [00:01<00:00,  1.17s/it, est. speed input: 567.90 toks/s, output: 79.54 toks/s]\u001b[A\n"
     ]
    },
    {
     "name": "stdout",
     "output_type": "stream",
     "text": [
      "The patient was treated with oxygen therapy, lasix, and BiPAP. The diagnostic workup included lab tests, including troponin and BNP, as well as a chest X-ray. The patient's mental status improved with oxygen therapy, and she was alert and oriented upon arrival to the floor. She was later transferred to the ICU and put on BiPAP due to continued hypoxia and concern for somnolence. \n",
      "281\n"
     ]
    },
    {
     "name": "stderr",
     "output_type": "stream",
     "text": [
      "\n",
      "Processed prompts:   0%|          | 0/1 [00:00<?, ?it/s, est. speed input: 0.00 toks/s, output: 0.00 toks/s]\u001b[A\n",
      "Processed prompts: 100%|██████████| 1/1 [00:00<00:00,  3.41it/s, est. speed input: 960.06 toks/s, output: 75.16 toks/s]\u001b[A\n"
     ]
    },
    {
     "name": "stdout",
     "output_type": "stream",
     "text": [
      "The major surgical, invasive, or diagnostic, or therapeutic procedures were bronchoscopy and lymph node biopsy.\n",
      "475\n"
     ]
    },
    {
     "name": "stderr",
     "output_type": "stream",
     "text": [
      "\n",
      "Processed prompts:   0%|          | 0/1 [00:00<?, ?it/s, est. speed input: 0.00 toks/s, output: 0.00 toks/s]\u001b[A\n",
      "Processed prompts: 100%|██████████| 1/1 [00:01<00:00,  1.52s/it, est. speed input: 313.77 toks/s, output: 81.25 toks/s]\u001b[A\n"
     ]
    },
    {
     "name": "stdout",
     "output_type": "stream",
     "text": [
      "The changes to the patient's medications were the addition of ProAir HFA (albuterol sulfate), Symbicort (budesonide-formoterol), Amlodipine, and DiphenhydrAMINE, and the discontinuation of Lisinopril and Lorazepam. The new medications were ProAir HFA (albuterol sulfate), Symbicort (budesonide-formoterol), Amlodipine, and DiphenhydrAMINE. The medications that were stopped were Lisinopril and Lorazepam.  \n",
      "799\n"
     ]
    },
    {
     "name": "stderr",
     "output_type": "stream",
     "text": [
      "\n",
      "Processed prompts:   0%|          | 0/1 [00:00<?, ?it/s, est. speed input: 0.00 toks/s, output: 0.00 toks/s]\u001b[A\n",
      "Processed prompts: 100%|██████████| 1/1 [00:01<00:00,  1.24s/it, est. speed input: 646.60 toks/s, output: 78.50 toks/s]\u001b[A\n"
     ]
    },
    {
     "name": "stdout",
     "output_type": "stream",
     "text": [
      "During this hospital admission, the patient was treated with IV lasix and received medications such as ProAir HFA (albuterol sulfate), Symbicort (budesonide-formoterol), Amlodipine, and DiphenhydrAMINE. The patient was also put on BiPAP therapy. IV therapies included oxygen therapy and lasix. The patient was also given nasal cannula and facemask oxygen in the ED. \n",
      "\n",
      "\n",
      "822\n"
     ]
    },
    {
     "name": "stderr",
     "output_type": "stream",
     "text": [
      "\n",
      "Processed prompts:   0%|          | 0/1 [00:00<?, ?it/s, est. speed input: 0.00 toks/s, output: 0.00 toks/s]\u001b[A\n",
      "Processed prompts: 100%|██████████| 1/1 [00:01<00:00,  1.65s/it, est. speed input: 498.62 toks/s, output: 79.46 toks/s]\u001b[A\n"
     ]
    },
    {
     "name": "stdout",
     "output_type": "stream",
     "text": [
      "The patient was treated for acute exacerbation of COPD, acute diastolic heart failure, and respiratory failure in the hospital. She also had underlying medical conditions such as epilepsy, left frontal AVM, posterior communicating artery aneurysm, lumbar disc herniation, and hypertension. Additionally, she had sclerotic lesions in the T11 vertebral body and manubrium, and moderate mediastinal and hilar lymphadenopathy. The patient's symptoms included shortness of breath, hypoxia, and altered mental status. She also had a cough productive of gray sputum and was desaturating intermittently. \n",
      "753\n"
     ]
    },
    {
     "name": "stderr",
     "output_type": "stream",
     "text": [
      "\n",
      "Processed prompts:   0%|          | 0/1 [00:00<?, ?it/s, est. speed input: 0.00 toks/s, output: 0.00 toks/s]\u001b[A\n",
      "Processed prompts: 100%|██████████| 1/1 [00:01<00:00,  1.88s/it, est. speed input: 401.66 toks/s, output: 80.54 toks/s]\u001b[A\n"
     ]
    },
    {
     "name": "stdout",
     "output_type": "stream",
     "text": [
      "The patient was admitted to the hospital due to symptoms of confusion, shortness of breath, and hypoxia. The patient's mental status was altered, and she was experiencing respiratory distress, which led to her admission to the emergency room. The patient's son was concerned about her confusion and was trying to convince her to go to the hospital, and the patient's primary care physician recommended that she be taken to the emergency room. The patient's symptoms and medical condition, including her seizure disorder, multiple AVM, and possible obstructive lung disease, likely contributed to her admission to the hospital. Additionally, the patient's recent initiation of ACEI for hypertension and her elevated BNP levels may have also played a role in her admission. \n",
      "616\n"
     ]
    },
    {
     "name": "stderr",
     "output_type": "stream",
     "text": [
      "\n",
      "Processed prompts:   0%|          | 0/1 [00:00<?, ?it/s, est. speed input: 0.00 toks/s, output: 0.00 toks/s]\u001b[A\n",
      "Processed prompts: 100%|██████████| 1/1 [00:03<00:00,  3.10s/it, est. speed input: 198.53 toks/s, output: 81.86 toks/s]\u001b[A\n"
     ]
    },
    {
     "name": "stdout",
     "output_type": "stream",
     "text": [
      "The treatments for the acute medical conditions were:\n",
      "\n",
      "* Acute exacerbation of COPD: IV lasix, oxygen therapy, BiPAP therapy, and medications such as ProAir HFA (albuterol sulfate), Symbicort (budesonide-formoterol), Amlodipine, and DiphenhydrAMINE.\n",
      "* Acute diastolic heart failure: IV lasix, oxygen therapy, and BiPAP therapy.\n",
      "* Respiratory failure: IV lasix, oxygen therapy, and BiPAP therapy.\n",
      "* Epilepsy: medications such as ProAir HFA (albuterol sulfate), Symbicort (budesonide-formoterol), Amlodipine, and DiphenhydrAMINE.\n",
      "* Left frontal AVM: bronchoscopy and lymph node biopsy.\n",
      "* Posterior communicating artery aneurysm: no specific treatment mentioned.\n",
      "* Lumbar disc herniation: no specific treatment mentioned.\n",
      "* Hypertension: medications such as Amlodipine.\n",
      "* Sclerotic lesions in the T11 vertebral body and manubrium: no specific treatment mentioned.\n",
      "* Moderate mediastinal and hilar lymphadenopathy: no specific treatment mentioned. \n",
      "212\n"
     ]
    },
    {
     "name": "stderr",
     "output_type": "stream",
     "text": [
      "\n",
      "Processed prompts:   0%|          | 0/1 [00:00<?, ?it/s, est. speed input: 0.00 toks/s, output: 0.00 toks/s]\u001b[A\n",
      "Processed prompts: 100%|██████████| 1/1 [00:00<00:00,  1.83it/s, est. speed input: 388.25 toks/s, output: 80.58 toks/s]\u001b[A\n"
     ]
    },
    {
     "name": "stdout",
     "output_type": "stream",
     "text": [
      "The instructions for the receiving provider are to evaluate the patient's pruritis, rule out T cell lymphoma and histiocytosis with flow cytometry, and restart Lasix as needed to manage volume status.\n",
      "475\n"
     ]
    },
    {
     "name": "stderr",
     "output_type": "stream",
     "text": [
      "\n",
      "Processed prompts:   0%|          | 0/1 [00:00<?, ?it/s, est. speed input: 0.00 toks/s, output: 0.00 toks/s]\u001b[A\n",
      "Processed prompts: 100%|██████████| 1/1 [00:01<00:00,  1.93s/it, est. speed input: 245.76 toks/s, output: 81.75 toks/s]\u001b[A\n"
     ]
    },
    {
     "name": "stdout",
     "output_type": "stream",
     "text": [
      "The changes to the patient's medications were the addition of ProAir HFA (albuterol sulfate), Symbicort (budesonide-formoterol), Amlodipine, and DiphenhydrAMINE, and the addition of Sarna Lotion. The medications that were stopped were Lorazepam and Lisinopril. The medications that were new were ProAir HFA (albuterol sulfate), Symbicort (budesonide-formoterol), Amlodipine, DiphenhydrAMINE, and Sarna Lotion. The medications that were continued were LaMOTrigine, LeVETiracetam, PHENObarbital, and Phenytoin Sodium Extended.  \n",
      "906\n"
     ]
    },
    {
     "name": "stderr",
     "output_type": "stream",
     "text": [
      "\n",
      "Processed prompts:   0%|          | 0/1 [00:00<?, ?it/s, est. speed input: 0.00 toks/s, output: 0.00 toks/s]\u001b[A\n",
      "Processed prompts: 100%|██████████| 1/1 [00:05<00:00,  5.84s/it, est. speed input: 155.17 toks/s, output: 81.01 toks/s]\u001b[A"
     ]
    },
    {
     "name": "stdout",
     "output_type": "stream",
     "text": [
      "Dear [Patient's Name],\n",
      "\n",
      "I am writing to inform you about your recent hospital admission and the treatments you received during your stay. You were admitted to the hospital due to symptoms of confusion, shortness of breath, and hypoxia. Our medical team worked hard to address these symptoms and provide you with the best possible care.\n",
      "\n",
      "During your admission, we performed several diagnostic tests to determine the cause of your symptoms. These tests included bronchoscopy and lymph node biopsy, which helped us to identify the presence of an acute exacerbation of COPD, acute diastolic heart failure, respiratory failure, and epilepsy. We also found that you have a left frontal AVM, posterior communicating artery aneurysm, lumbar disc herniation, hypertension, sclerotic lesions in the T11 vertebral body and manubrium, and moderate mediastinal and hilar lymphadenopathy.\n",
      "\n",
      "To manage your symptoms and conditions, we provided you with several treatments. These included IV lasix, oxygen therapy, BiPAP therapy, and medications such as ProAir HFA (albuterol sulfate), Symbicort (budesonide-formoterol), Amlodipine, and DiphenhydrAMINE. We also performed bronchoscopy and lymph node biopsy to further evaluate your conditions.\n",
      "\n",
      "In addition to these treatments, we made some changes to your medication regimen. We added ProAir HFA (albuterol sulfate), Symbicort (budesonide-formoterol), Amlodipine, and DiphenhydrAMINE to help manage your symptoms. We also stopped Lorazepam and Lisinopril, and continued LaMOTrigine, LeVETiracetam, PHENObarbital, and Phenytoin Sodium Extended.\n",
      "\n",
      "As you continue to recover, we recommend that you follow up with your primary care physician to discuss any further treatment or management of your conditions. We also recommend that you schedule a follow-up appointment with your receiving provider to evaluate your pruritis and rule out T cell lymphoma and histiocytosis with flow cytometry.\n",
      "\n",
      "Please do not hesitate to reach out to us if you have any questions or concerns about your hospital admission or treatment. We are committed to providing you with the best possible care and support.\n",
      "\n",
      "Sincerely,\n",
      "[Your Name]\n",
      "Time taken for generate_di: 19.212805032730103 seconds.\n"
     ]
    },
    {
     "name": "stderr",
     "output_type": "stream",
     "text": [
      "\n"
     ]
    }
   ],
   "source": [
    "import pandas as pd\n",
    "import time\n",
    "\n",
    "# Create an empty results table\n",
    "results = pd.DataFrame(columns=['hadm_id', 'discharge_instructions'])\n",
    "\n",
    "# results path:\n",
    "results_path = '../../troyTest/'\n",
    "file_name = 'CoT_results_di.csv'\n",
    "results_file_path = os.path.join(results_path, file_name)\n",
    "\n",
    "count = 0\n",
    "total_records = len(target_df.hadm_id)\n",
    "for hadm_id in target_df['hadm_id'][5:13]:  # Replace with your actual hadm_id values\n",
    "    count += 1\n",
    "    percent_complete = count*100/total_records\n",
    "    print(f\"{count} of {total_records}, {percent_complete}% hadm_id: {hadm_id} **********\\n\\n\")\n",
    "    start_time_di = time.time()\n",
    "    discharge_instructions = generate_di(hadm_id)\n",
    "    end_time_di = time.time()\n",
    "    duration_di = end_time_di - start_time_di\n",
    "    print(f\"Time taken for generate_di: {duration_di} seconds.\")\n",
    "    # discharge_instructions = generate_discharge_instructions(hadm_id)\n",
    "    new_row = pd.DataFrame({'hadm_id': [hadm_id], 'discharge_instructions': [discharge_instructions]})\n",
    "    results = pd.concat([results, new_row], ignore_index=True)\n",
    "    # results = results.append({'hadm_id': hadm_id, 'brief_hospital_course': brief_hospital_course, 'discharge_instructions': discharge_instructions}, ignore_index=True)\n",
    "    results.to_csv(results_file_path, index=False)"
   ]
  }
 ],
 "metadata": {
  "kernelspec": {
   "display_name": "Python 3 (ipykernel)",
   "language": "python",
   "name": "python3"
  },
  "language_info": {
   "codemirror_mode": {
    "name": "ipython",
    "version": 3
   },
   "file_extension": ".py",
   "mimetype": "text/x-python",
   "name": "python",
   "nbconvert_exporter": "python",
   "pygments_lexer": "ipython3",
   "version": "3.9.12"
  }
 },
 "nbformat": 4,
 "nbformat_minor": 5
}
