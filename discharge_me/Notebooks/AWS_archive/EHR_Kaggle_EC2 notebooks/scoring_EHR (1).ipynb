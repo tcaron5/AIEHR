{
 "cells": [
  {
   "cell_type": "code",
   "execution_count": 3,
   "id": "e59709a0-7786-4714-b0a7-244c00f14a56",
   "metadata": {},
   "outputs": [],
   "source": [
    "import torch\n"
   ]
  },
  {
   "cell_type": "code",
   "execution_count": null,
   "id": "df15d11a-ad3f-4bcb-95c4-0096d3b98ca3",
   "metadata": {},
   "outputs": [],
   "source": [
    "# Discharge instructions for hadm 25142813"
   ]
  },
  {
   "cell_type": "code",
   "execution_count": 17,
   "id": "27a2182a-3067-406d-a299-44ab7e20f38a",
   "metadata": {},
   "outputs": [],
   "source": [
    "def preprocess_text(text):\n",
    "    # Simple preprocessing to remove placeholders and extra spaces\n",
    "    cleaned_text = text.replace(\"\\n\", \" \").strip()\n",
    "    return cleaned_text\n",
    "\n",
    "# Define your reference and hypothesis texts here\n",
    "# hadm_id: 24910162, \n",
    "refs_text = \"\"\"\n",
    "\n",
    "\n",
    "\"\"\"\n",
    "\n",
    "hyps_text = \"\"\"\n",
    "\n",
    "\n",
    "\"\"\"\n",
    "\n",
    "# hadm_id: 24910162, \n",
    "refs_bhc = \"\"\" ___ with ___ pemphigoid who presents with left lower \n",
    "extremity swelling, erythema, warmth, and tenderness consistent \n",
    "with cellulitis.  \n",
    "\n",
    " #Cellulitis: presents with left lower extremity swelling, \n",
    "erythema, warmth, and tenderness consistent with cellulitis. \n",
    "Given some ulceration and vanc allergy, given clindamycin for \n",
    "for possible MRSA and strep coverage. Discharged on clinda with \n",
    "improvement. \n",
    "\n",
    " #Bullous Pemphigoid: Seen by dermatology, who think Bullous \n",
    "Pemphigoid stable. Recommended decreasing home prednisone to \n",
    "15mg QD and follow up as outpatient. \n",
    "\n",
    "TRANSITIONAL \n",
    "\n",
    "- home prednisone decreased to 15mg QD and pt will follow up \n",
    "with outpatient dermatology\n",
    "- Discharged on clindamycin for cellulitis, evaluate for \n",
    "interval resolution \"\"\"\n",
    "\n",
    "\n",
    "refs_discharge_instructions = \"\"\" Dear Mr. ___,\n",
    "\n",
    "   You were admitted with left lower leg infection. You were \n",
    "given antibiotics with improvement which you will continue to \n",
    "take for some time once you leave the hospital. You were also \n",
    "skin by skin doctors who ___ your medication for bullous \n",
    "pemphigoid and suggested you follow up with them for further \n",
    "care. \n",
    "\n",
    "Take care,\n",
    "___ medical team \"\"\"\n",
    "\n",
    "hyps_bhc_walid = \"\"\"\n",
    "The patient's major medical problems include bipolar disorder, hepatitis C, hyperlipidemia, steroid-induced diabetes, COPD, cholelithiasis, GERD, aortic aneurysm, and osteoporosis. The patient was admitted to the hospital due to leg swelling, oral ulcers, bullous pemphigoid, lymphoma in the mouth, diffuse lymphadenopathy, and abdominal swelling. They were likely admitted to the medical service. A major procedure during the hospital visit was the treatment for left lower extremity cellulitis with Duonebs and CTX 1g IV.\n",
    "\n",
    "For the acute medical conditions:\n",
    "1. Leg swelling with erythema, warmth, tenderness, and ulcerated areas:\n",
    "   - Presenting symptom and severity: Significant leg swelling with associated symptoms.\n",
    "   - Differential diagnosis: Cellulitis, venous stasis dermatitis, DVT, PAD.\n",
    "   - Diagnostic workup and results: Lower extremity ultrasound ruled out DVT, chest X-ray showed mild cardiomegaly and vascular congestion, bedside ultrasound ruled out ascites.\n",
    "   - Treatments or procedures: Duonebs and CTX 1g IV for left lower extremity cellulitis.\n",
    "   - Physical exam findings: Lower leg edema with erythema, warmth, tenderness, and ulcerated areas.\n",
    "   - Pertinent lab work: Elevated WBC count of 12.5.\n",
    "   - Radiology, imaging, cardiac studies: Chest X-ray, lower extremity ultrasound, bedside ultrasound.\n",
    "   - Pending results: Not mentioned.\n",
    "   - Recommended follow-up: Monitor transitional progress closely.\n",
    "   - Medications: Clindamycin for cellulitis.\n",
    "\n",
    "2. Oral ulcers, abdominal swelling, and diffuse lymphadenopathy:\n",
    "   - Presenting symptom and severity: Oral ulcers, abdominal swelling, diffuse lymphadenopathy.\n",
    "   - Differential diagnosis: Bullous pemphigoid, lymphoma.\n",
    "   - Diagnostic workup and results: Diagnosis of bullous pemphigoid, lymphoma in the mouth.\n",
    "   - Treatments or procedures: Not explicitly mentioned.\n",
    "   - Physical exam findings: Not explicitly mentioned.\n",
    "   - Pertinent lab work: Not explicitly mentioned.\n",
    "   - Radiology, imaging, cardiac studies: Not explicitly mentioned.\n",
    "   - Pending results: Not mentioned.\n",
    "   - Recommended follow-up: Not mentioned.\n",
    "   - Medications: Not explicitly mentioned.\"\"\"\n",
    "\n",
    "hyps_discharge_instructions_walid = \"\"\"Dear Patient,\n",
    "\n",
    "I hope this letter finds you well. I wanted to provide you with a summary of your recent hospital admission to keep you informed about your care.\n",
    "\n",
    "You were admitted to the hospital due to significant swelling in your leg, which was causing pain and discomfort. The doctors were concerned about this swelling and wanted to make sure there were no serious issues causing it. They also noted that you had oral ulcers, abdominal swelling, and swollen lymph nodes, which were all part of the reason for your admission.\n",
    "\n",
    "During your stay, you underwent several tests to help the doctors understand what was causing your symptoms. These tests included an ultrasound of your leg to check for any blood clots, a chest X-ray to look at your heart and lungs, and an ultrasound of your abdomen to check for any fluid buildup. The results of these tests showed that there were no blood clots in your leg, but they did find some mild enlargement of your heart and signs of congestion in your blood vessels.\n",
    "\n",
    "To treat the swelling and pain in your leg, you were given Duonebs and CTX 1g IV for cellulitis. Cellulitis is an infection of the skin and soft tissues that can cause swelling and redness. The doctors believed this was the cause of your symptoms and wanted to treat it to help you feel better.\n",
    "\n",
    "There are no pending results mentioned in your medical records, so the doctors likely have all the information they need to provide you with the best care possible.\n",
    "\n",
    "In terms of changes to your medications, your prednisone dose was decreased to 15mg once daily, and you were discharged on clindamycin for the cellulitis. Clindamycin is an antibiotic that helps fight bacterial infections like cellulitis. It's important to take this medication as prescribed to ensure the infection clears up completely.\n",
    "\n",
    "As for follow-up care, it's essential to monitor your leg swelling and overall health closely. The doctors may want to see you for a follow-up appointment to check on your progress and make sure you're feeling better. If you have any concerns or notice any new symptoms, don't hesitate to reach out to your healthcare provider.\n",
    "\n",
    "I hope this summary helps you understand why you were admitted to the hospital, what tests were done, the treatments you received, and what changes were made to your medications. Your health and well-being are a top priority, and the medical team is here to support you every step of the way.\n",
    "\n",
    "Take care and wishing you a speedy recovery.\n",
    "\n",
    "Sincerely,\n",
    "[Your Healthcare Provider]\"\"\"\n",
    "\n",
    "hyps_bhc_llama70b = \"\"\" Here is a summary of the events and treatments during the hospital visit:\n",
    "\n",
    "The patient was admitted to the hospital with major medical problems including left lower extremity (LLE) cellulitis, diabetes, chronic obstructive pulmonary disease (COPD), and osteoporosis. The reason for admission was LLE cellulitis, and they were admitted to the medical service. There were no major procedures performed during the hospital stay.\n",
    "\n",
    "**Acute Medical Condition 1: LLE Cellulitis**\n",
    "\n",
    "* Presenting symptom and severity: Significant erythema and warmth to the mid-shin level, indicating possible cellulitis or infection\n",
    "* Differential diagnosis: Bacterial cellulitis, abscess, or other soft tissue infections\n",
    "* Related diagnostic workup and results: WBC count of 12.5, LLE US showing edema to the upper shin level, erythema, warmth, and tenderness\n",
    "* Related treatments or procedures: Duonebs (topical antibiotic ointment), CTX 1g IV (ceftriaxone for bacterial cellulitis)\n",
    "* Relevant physical exam findings: Left leg showed significant erythema and warmth to the mid-shin level, one bullous lesion, and edema to the upper shin level\n",
    "* Pertinent lab work: WBC count of 12.5\n",
    "* Radiology/imaging: LLE US showing edema to the upper shin level, erythema, warmth, and tenderness\n",
    "* Cardiac studies: None mentioned\n",
    "* Pending results: Review of laboratory results, including WBC count\n",
    "* Recommended follow-up: Continue treatment for LLE cellulitis with Duonebs and CTX 1g IV as ordered; monitor vital signs regularly\n",
    "* Medications related to this medical condition: Duonebs, CTX 1g IV\n",
    "\n",
    "**Acute Medical Condition 2: Cardiomegaly (Mild)**\n",
    "\n",
    "* Presenting symptom and severity: Not mentioned\n",
    "* Differential diagnosis: Not mentioned\n",
    "* Related diagnostic workup and results: CXR showing mild cardiomegaly\n",
    "* Related treatments or procedures: None mentioned\n",
    "* Relevant physical exam findings: None mentioned\n",
    "* Pertinent lab work: None mentioned\n",
    "* Radiology/imaging: CXR showing mild cardiomegaly\n",
    "* Cardiac studies: None mentioned\n",
    "* Pending results: Review of imaging studies, including CXR\n",
    "* Recommended follow-up: Monitor vital signs regularly; review laboratory and imaging results\n",
    "* Medications related to this medical condition: None mentioned\n",
    "\n",
    "**Acute Medical Condition 3: Vascular Congestion (Mild)**\n",
    "\n",
    "* Presenting symptom and severity: Not mentioned\n",
    "* Differential diagnosis: Not mentioned\n",
    "* Related diagnostic workup and results: Vital signs showing blood pressure of 92 mmHg\n",
    "* Related treatments or procedures: None mentioned\n",
    "* Relevant physical exam findings: None mentioned\n",
    "* Pertinent lab work: None mentioned\n",
    "* Radiology/imaging: None mentioned\n",
    "* Cardiac studies: None mentioned\n",
    "* Pending results: Review of vital signs and laboratory results\n",
    "* Recommended follow-up: Monitor vital signs regularly; review laboratory and imaging results\n",
    "* Medications related to this medical condition: None mentioned\n",
    "\n",
    "Note that there is limited information available about the patient's hospital visit, so some sections may be incomplete.\"\"\"\n",
    "\n",
    "\n",
    "\n",
    "hyps_discharge_instructions_llama70b = \"\"\"Dear [Patient's Name],\n",
    "\n",
    "I wanted to take a moment to review your recent hospital admission and provide you with an update on your care. You were admitted to our hospital due to concerns about an infection in your left leg, which was causing redness, warmth, and swelling.\n",
    "\n",
    "During your stay, we performed several diagnostic tests to help determine the cause of your symptoms. One of these tests was a ultrasound of your left leg, which showed signs of cellulitis, a bacterial infection of the skin. We also took some blood work, which indicated that you may have an underlying infection or inflammatory process.\n",
    "\n",
    "Based on these findings, we started you on antibiotics to treat the infection in your left leg. Specifically, you received Duonebs, a topical antibiotic ointment, and CTX 1g IV, a one-time dose of ceftriaxone to help combat the bacterial infection.\n",
    "\n",
    "In addition to treating your cellulitis, we also monitored your overall health and adjusted your treatment as needed. We paid close attention to your vital signs, including your blood pressure, pulse, and respiratory rate, to ensure that you were responding well to treatment.\n",
    "\n",
    "As a result of our evaluation, we did not identify any significant changes to your existing medical management. However, it is essential that you continue to monitor your left leg for any signs of infection or worsening symptoms.\n",
    "\n",
    "You may be wondering about any pending results from your hospital stay. At this time, there are no outstanding lab results. We have reviewed all available test results, including imaging studies such as the ultrasound of your left leg and chest X-ray, which did not show any significant abnormalities.\n",
    "\n",
    "Moving forward, it is crucial that you follow up with your primary care physician to review your progress and adjust your treatment plan as needed. We recommend that you schedule a follow-up appointment within the next few weeks to ensure that your infection is fully resolved.\n",
    "\n",
    "If you have any questions or concerns about your hospital stay or ongoing care, please do not hesitate to reach out to us. We are committed to providing you with high-quality care and support throughout your recovery.\n",
    "\n",
    "Sincerely,\n",
    "\n",
    "[Your Name]\"\"\"\n",
    "\n",
    "hyps_bhc_zeroshot = \"\"\"Brief Hospital Course\n",
    "The patient with a history of bullous pemphigoid and lymphoma presents with leg swelling and complaints of oral ulcers. They were admitted to the medical floor for evaluation of leg lesions and abdominal swelling, initially diagnosed with cellulitis of the left lower limb.\n",
    "\n",
    "Problem-based hospital course---\n",
    "# Cellulitis --- The patient presented with leg swelling and complaints of oral ulcers. The diagnostic work up included labs notable for WBC of 12.5, and imaging such as LLE US did not show evidence of DVT; CXR showed mild cardiomegaly and mild vascular congestion. The patient was given Duonebs and CTX 1g IV for LLE cellulitis.\n",
    "\n",
    "# Bullous pemphigoid --- The patient has a history of bullous pemphigoid and lymphoma in his mouth. The diagnostic work up included bedside US did not show any evidence of ascites.\n",
    "\n",
    " \"\"\"\n",
    "\n",
    "hyps_discharge_instructions_zeroshot = \"\"\"Discharge Instructions ---\n",
    "Dear ___,\n",
    "\n",
    "It was a pleasure to take care of you during your recent hospital admission. You were admitted to the hospital because of your leg swelling and complaints of oral ulcers. During your hospital stay, your treatments included antibiotics for cellulitis in your leg and a medication called Duonebs.\n",
    "\n",
    "You were diagnosed with cellulitis in your leg and were given a course of antibiotics to help clear up the infection. You were also treated for your bullous pemphigoid and lymphoma in your mouth. \n",
    "\n",
    "You will need to follow up with your doctor to monitor your condition and make sure that the infection has cleared up. You will also need to continue taking your medication as prescribed and follow up with your dermatologist to manage your bullous pemphigoid.\n",
    "\n",
    "If your symptoms return, please call our office (555-555-5555) or 911 for immediate assistance.\n",
    "\n",
    "Sincerely,\n",
    "Your Team---\n",
    "\n",
    "\"\"\" "
   ]
  },
  {
   "cell_type": "code",
   "execution_count": 26,
   "id": "b407a404",
   "metadata": {},
   "outputs": [],
   "source": [
    "\n",
    "# Preprocess texts\n",
    "\n",
    "refs = [preprocess_text(refs_bhc)]\n",
    "hyps = [preprocess_text(hyps_bhc_walid)]\n",
    "\n",
    "# Initialize evaluator\n",
    "device = \"cuda\" if torch.cuda.is_available() else \"cpu\""
   ]
  },
  {
   "cell_type": "code",
   "execution_count": 28,
   "id": "5f478a87",
   "metadata": {},
   "outputs": [],
   "source": [
    "# Preprocess texts\n",
    "\n",
    "refs = [preprocess_text(refs_bhc)]\n",
    "hyps = [preprocess_text(hyps_bhc_llama70b )]\n",
    "\n",
    "# Initialize evaluator\n",
    "device = \"cuda\" if torch.cuda.is_available() else \"cpu\""
   ]
  },
  {
   "cell_type": "code",
   "execution_count": 22,
   "id": "c976c6f6-a650-4d10-83f5-8d00ef590298",
   "metadata": {},
   "outputs": [],
   "source": [
    "# Preprocess texts\n",
    "\n",
    "refs = [preprocess_text(refs_bhc)]\n",
    "hyps = [preprocess_text(hyps_bhc_zeroshot )]\n",
    "\n",
    "# Initialize evaluator\n",
    "device = \"cuda\" if torch.cuda.is_available() else \"cpu\""
   ]
  },
  {
   "cell_type": "code",
   "execution_count": 29,
   "id": "80b598fd-ad60-4184-934a-71e4150e30ab",
   "metadata": {},
   "outputs": [
    {
     "name": "stderr",
     "output_type": "stream",
     "text": [
      "[nltk_data] Downloading package wordnet to\n",
      "[nltk_data]     C:\\Users\\s.wendelken\\AppData\\Roaming\\nltk_data...\n",
      "[nltk_data]   Package wordnet is already up-to-date!\n",
      "[nltk_data] Downloading package punkt to\n",
      "[nltk_data]     C:\\Users\\s.wendelken\\AppData\\Roaming\\nltk_data...\n",
      "[nltk_data]   Package punkt is already up-to-date!\n",
      "[nltk_data] Downloading package omw-1.4 to\n",
      "[nltk_data]     C:\\Users\\s.wendelken\\AppData\\Roaming\\nltk_data...\n",
      "[nltk_data]   Package omw-1.4 is already up-to-date!\n",
      "Some weights of RobertaModel were not initialized from the model checkpoint at roberta-large and are newly initialized: ['roberta.pooler.dense.bias', 'roberta.pooler.dense.weight']\n",
      "You should probably TRAIN this model on a down-stream task to be able to use it for predictions and inference.\n"
     ]
    },
    {
     "name": "stdout",
     "output_type": "stream",
     "text": [
      "calculating scores...\n",
      "computing bert embedding.\n"
     ]
    },
    {
     "data": {
      "application/vnd.jupyter.widget-view+json": {
       "model_id": "9801d7b5109246749d54a5ccb2324132",
       "version_major": 2,
       "version_minor": 0
      },
      "text/plain": [
       "  0%|          | 0/1 [00:00<?, ?it/s]"
      ]
     },
     "metadata": {},
     "output_type": "display_data"
    },
    {
     "name": "stdout",
     "output_type": "stream",
     "text": [
      "computing greedy matching.\n"
     ]
    },
    {
     "data": {
      "application/vnd.jupyter.widget-view+json": {
       "model_id": "cfd2aad1229f4aa3bfd1e5a07691aeea",
       "version_major": 2,
       "version_minor": 0
      },
      "text/plain": [
       "  0%|          | 0/1 [00:00<?, ?it/s]"
      ]
     },
     "metadata": {},
     "output_type": "display_data"
    },
    {
     "name": "stdout",
     "output_type": "stream",
     "text": [
      "done in 3.94 seconds, 0.25 sentences/sec\n",
      "BLEU Score: 0.01583586339001982\n",
      "ROUGE Scores:\n",
      " rouge1: 0.150197628458498\n",
      " rouge2: 0.043650793650793655\n",
      " rougeL: 0.09486166007905139\n",
      "BERTScore (F1): 0.8003472685813904\n",
      "METEOR Score: 0.16930810087288367\n"
     ]
    }
   ],
   "source": [
    "import numpy as np\n",
    "from nltk.translate.bleu_score import corpus_bleu, SmoothingFunction\n",
    "from rouge_score import rouge_scorer\n",
    "from bert_score import score as bert_score\n",
    "import evaluate\n",
    "import torch\n",
    "\n",
    "def calculate_bleu(refs, hyps):\n",
    "    list_of_references = [[ref.split()] for ref in refs]\n",
    "    hypotheses = [hyp.split() for hyp in hyps]\n",
    "    bleu_score = corpus_bleu(list_of_references, hypotheses, smoothing_function=SmoothingFunction().method1)\n",
    "    return bleu_score\n",
    "\n",
    "\n",
    "# Initialize the ROUGE scorer\n",
    "rouge_scorer = rouge_scorer.RougeScorer(['rouge1', 'rouge2', 'rougeL'], use_stemmer=True)\n",
    "# Initialize the METEOR scorer\n",
    "meteor_scorer = evaluate.load('meteor')\n",
    "\n",
    "# Calculate ROUGE scores\n",
    "rouge_scores = [rouge_scorer.score(ref, hyp) for ref, hyp in zip(refs, hyps)]\n",
    "# Calculate BERTScores\n",
    "_, _, bert_scores_f1 = bert_score(refs, hyps, lang=\"en\", verbose=True)\n",
    "# Calculate METEOR scores\n",
    "meteor_scores = [meteor_scorer.compute(predictions=[hyp], references=[ref])['meteor'] for ref, hyp in zip(refs, hyps)]\n",
    "# Calculate BLEU score\n",
    "bleu_score = calculate_bleu(refs, hyps)\n",
    "\n",
    "# Convert BERTScores' F1 scores from tensors to NumPy arrays and calculate the mean\n",
    "bert_scores_f1_mean = torch.mean(bert_scores_f1).item()\n",
    "\n",
    "# Print scores\n",
    "print(\"BLEU Score:\", bleu_score)\n",
    "print(\"ROUGE Scores:\")\n",
    "for rouge_type in ['rouge1', 'rouge2', 'rougeL']:\n",
    "    mean_score = np.mean([score[rouge_type].fmeasure for score in rouge_scores])\n",
    "    print(f\" {rouge_type}: {mean_score}\")\n",
    "print(\"BERTScore (F1):\", bert_scores_f1_mean)\n",
    "print(\"METEOR Score:\", np.mean(meteor_scores))\n"
   ]
  },
  {
   "cell_type": "code",
   "execution_count": null,
   "id": "8fe1eefc-2931-4547-a489-1731ecec64a3",
   "metadata": {},
   "outputs": [],
   "source": []
  },
  {
   "cell_type": "code",
   "execution_count": null,
   "id": "87109035-2126-4d6e-835c-9e6325a826ca",
   "metadata": {},
   "outputs": [],
   "source": []
  },
  {
   "cell_type": "code",
   "execution_count": null,
   "id": "aba86b18-579d-407b-9e4f-73e90e5337a2",
   "metadata": {},
   "outputs": [],
   "source": []
  },
  {
   "cell_type": "code",
   "execution_count": null,
   "id": "8018f0c4-fd26-47e5-a0e1-833d4e33ffe6",
   "metadata": {},
   "outputs": [],
   "source": []
  },
  {
   "cell_type": "code",
   "execution_count": null,
   "id": "c9e674a3-24a9-412f-8df3-72eec15f1ef9",
   "metadata": {},
   "outputs": [],
   "source": []
  },
  {
   "cell_type": "code",
   "execution_count": null,
   "id": "35b77700-adc3-40f5-ac89-f2d4296295e7",
   "metadata": {},
   "outputs": [],
   "source": [
    "# Brief Hospital Course for hadm of 25142813"
   ]
  },
  {
   "cell_type": "code",
   "execution_count": 14,
   "id": "2d17b69e-7436-4759-9ad8-5406c3c15092",
   "metadata": {},
   "outputs": [],
   "source": [
    "def preprocess_text(text):\n",
    "    # Simple preprocessing to remove placeholders and extra spaces\n",
    "    cleaned_text = text.replace(\"___\", \"\").strip()\n",
    "    return cleaned_text\n",
    "\n",
    "# Define your reference and hypothesis texts here\n",
    "refs_text = \"\"\"\n",
    "Dear Ms. ___,\n",
    "\n",
    "You were admitted to ___ after you developed \n",
    "shortness of breath and wheezing at home shortly after your last \n",
    "discharge. You were treated for a COPD exacerbation and your \n",
    "breathing quickly got better. Our physical therapists evaluated \n",
    "you and recommended that you have a short stay at Pulmonary \n",
    "___ before going home to improve your breathing. \n",
    "\n",
    "We wish you all the best at rehab and send our condolences to \n",
    "your family on your recent loss.\n",
    "\n",
    "It was truly a pleasure taking care of you.\n",
    "\n",
    "Your ___ Team\n",
    "\"\"\"\n",
    "\n",
    "hyps_text = \"\"\"\n",
    "Based on the provided patient-specific data, the major medical conditions include: \n",
    "\n",
    "1. Chronic Obstructive Pulmonary Disease (COPD) with an exacerbation\n",
    "2. Atrial Fibrillation (Afib)\n",
    "3. Hypertension (HTN)\n",
    "4. Coronary Artery Disease (CAD)\n",
    "5. Anxiety\n",
    "\n",
    "The reason for hospital admission was due to shortness of breath, cough, and wheezing, which was thought to be secondary to a COPD exacerbation with a component of anxiety.\n",
    "\n",
    "The diagnostic workup included:\n",
    "\n",
    "1. CT scan of the chest, which showed emphysema but no evidence of infection\n",
    "2. Laboratory tests, including complete blood count, electrolyte panel, and troponin level, which were within normal limits\n",
    "3. Chest X-ray, which showed mild basilar atelectasis without definite focal consolidation\n",
    "\n",
    "The treatment course included:\n",
    "\n",
    "1. Administration of Duonebs and solumedrol 125mg IV in the emergency department\n",
    "2. Initiation of a steroid taper with prednisone 30mg for 3 days, then 20mg for 3 days, then 10mg until outpatient follow-up\n",
    "3. Recommendation to increase the dose of Advair to 500/50 and switch from theophylline to roflumilast\n",
    "4. Deferral of azithromycin therapy for outpatient follow-up\n",
    "\n",
    "Overall, the patient's hospital admission was managed with a combination of medications and supportive care to alleviate symptoms and manage the underlying conditions.\n",
    "\"\"\"\n",
    "\n",
    "# Preprocess texts\n",
    "refs = [preprocess_text(refs_text)]\n",
    "hyps = [preprocess_text(hyps_text)]\n",
    "\n",
    "# Initialize evaluator\n",
    "device = \"cuda\" if torch.cuda.is_available() else \"cpu\""
   ]
  },
  {
   "cell_type": "code",
   "execution_count": 15,
   "id": "ff862352-044a-446e-882d-10c79bbaaa75",
   "metadata": {},
   "outputs": [
    {
     "name": "stderr",
     "output_type": "stream",
     "text": [
      "[nltk_data] Downloading package wordnet to /Users/raj/nltk_data...\n",
      "[nltk_data]   Package wordnet is already up-to-date!\n",
      "[nltk_data] Downloading package punkt to /Users/raj/nltk_data...\n",
      "[nltk_data]   Package punkt is already up-to-date!\n",
      "[nltk_data] Downloading package omw-1.4 to /Users/raj/nltk_data...\n",
      "[nltk_data]   Package omw-1.4 is already up-to-date!\n",
      "Some weights of RobertaModel were not initialized from the model checkpoint at roberta-large and are newly initialized: ['roberta.pooler.dense.bias', 'roberta.pooler.dense.weight']\n",
      "You should probably TRAIN this model on a down-stream task to be able to use it for predictions and inference.\n"
     ]
    },
    {
     "name": "stdout",
     "output_type": "stream",
     "text": [
      "calculating scores...\n",
      "computing bert embedding.\n"
     ]
    },
    {
     "data": {
      "application/vnd.jupyter.widget-view+json": {
       "model_id": "949ed822ddc84e4db901268206e5de74",
       "version_major": 2,
       "version_minor": 0
      },
      "text/plain": [
       "  0%|          | 0/1 [00:00<?, ?it/s]"
      ]
     },
     "metadata": {},
     "output_type": "display_data"
    },
    {
     "name": "stdout",
     "output_type": "stream",
     "text": [
      "computing greedy matching.\n"
     ]
    },
    {
     "data": {
      "application/vnd.jupyter.widget-view+json": {
       "model_id": "6a79d712514a49efb943fae1dc351218",
       "version_major": 2,
       "version_minor": 0
      },
      "text/plain": [
       "  0%|          | 0/1 [00:00<?, ?it/s]"
      ]
     },
     "metadata": {},
     "output_type": "display_data"
    },
    {
     "name": "stdout",
     "output_type": "stream",
     "text": [
      "done in 0.89 seconds, 1.12 sentences/sec\n",
      "BLEU Score: 0.038380994853864224\n",
      "ROUGE Scores:\n",
      " rouge1: 0.348993288590604\n",
      " rouge2: 0.11486486486486486\n",
      " rougeL: 0.20134228187919462\n",
      "BERTScore (F1): 0.8445114493370056\n",
      "METEOR Score: 0.32446190841011285\n"
     ]
    }
   ],
   "source": [
    "import numpy as np\n",
    "from nltk.translate.bleu_score import corpus_bleu, SmoothingFunction\n",
    "from rouge_score import rouge_scorer\n",
    "from bert_score import score as bert_score\n",
    "import evaluate\n",
    "import torch\n",
    "\n",
    "def calculate_bleu(refs, hyps):\n",
    "    list_of_references = [[ref.split()] for ref in refs]\n",
    "    hypotheses = [hyp.split() for hyp in hyps]\n",
    "    bleu_score = corpus_bleu(list_of_references, hypotheses, smoothing_function=SmoothingFunction().method1)\n",
    "    return bleu_score\n",
    "\n",
    "\n",
    "# Initialize the ROUGE scorer\n",
    "rouge_scorer = rouge_scorer.RougeScorer(['rouge1', 'rouge2', 'rougeL'], use_stemmer=True)\n",
    "# Initialize the METEOR scorer\n",
    "meteor_scorer = evaluate.load('meteor')\n",
    "\n",
    "# Calculate ROUGE scores\n",
    "rouge_scores = [rouge_scorer.score(ref, hyp) for ref, hyp in zip(refs, hyps)]\n",
    "# Calculate BERTScores\n",
    "_, _, bert_scores_f1 = bert_score(refs, hyps, lang=\"en\", verbose=True)\n",
    "# Calculate METEOR scores\n",
    "meteor_scores = [meteor_scorer.compute(predictions=[hyp], references=[ref])['meteor'] for ref, hyp in zip(refs, hyps)]\n",
    "# Calculate BLEU score\n",
    "bleu_score = calculate_bleu(refs, hyps)\n",
    "\n",
    "# Convert BERTScores' F1 scores from tensors to NumPy arrays and calculate the mean\n",
    "bert_scores_f1_mean = torch.mean(bert_scores_f1).item()\n",
    "\n",
    "# Print scores\n",
    "print(\"BLEU Score:\", bleu_score)\n",
    "print(\"ROUGE Scores:\")\n",
    "for rouge_type in ['rouge1', 'rouge2', 'rougeL']:\n",
    "    mean_score = np.mean([score[rouge_type].fmeasure for score in rouge_scores])\n",
    "    print(f\" {rouge_type}: {mean_score}\")\n",
    "print(\"BERTScore (F1):\", bert_scores_f1_mean)\n",
    "print(\"METEOR Score:\", np.mean(meteor_scores))\n"
   ]
  },
  {
   "cell_type": "code",
   "execution_count": null,
   "id": "898aa576-abaf-4688-9f02-9e59cbc4dbdb",
   "metadata": {},
   "outputs": [],
   "source": []
  },
  {
   "cell_type": "code",
   "execution_count": null,
   "id": "842bc23a-5e3c-44f4-920c-d99dabc416fe",
   "metadata": {},
   "outputs": [],
   "source": []
  },
  {
   "cell_type": "code",
   "execution_count": null,
   "id": "f7b49965-862c-4e3d-b1ef-adb6b3ad6dce",
   "metadata": {},
   "outputs": [],
   "source": []
  },
  {
   "cell_type": "code",
   "execution_count": null,
   "id": "d5c27105-6cd1-405a-bc97-e1b4e37d9c23",
   "metadata": {},
   "outputs": [],
   "source": []
  },
  {
   "cell_type": "code",
   "execution_count": null,
   "id": "3ce0fb3b-3855-41dc-a51e-f4c801dc5990",
   "metadata": {},
   "outputs": [],
   "source": []
  }
 ],
 "metadata": {
  "kernelspec": {
   "display_name": "Python 3 (ipykernel)",
   "language": "python",
   "name": "python3"
  },
  "language_info": {
   "codemirror_mode": {
    "name": "ipython",
    "version": 3
   },
   "file_extension": ".py",
   "mimetype": "text/x-python",
   "name": "python",
   "nbconvert_exporter": "python",
   "pygments_lexer": "ipython3",
   "version": "3.11.2"
  }
 },
 "nbformat": 4,
 "nbformat_minor": 5
}
