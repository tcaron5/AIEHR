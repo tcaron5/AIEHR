{
 "cells": [
  {
   "cell_type": "code",
   "execution_count": 1,
   "id": "1a6a28d1-b895-4ce3-bd8e-944ad3f4bb81",
   "metadata": {},
   "outputs": [
    {
     "name": "stdout",
     "output_type": "stream",
     "text": [
      "Requirement already satisfied: pypdf in /home/ubuntu/discharge_me/lib/python3.9/site-packages (4.2.0)\n",
      "Requirement already satisfied: typing_extensions>=4.0 in /home/ubuntu/discharge_me/lib/python3.9/site-packages (from pypdf) (4.11.0)\n"
     ]
    }
   ],
   "source": [
    "!pip install pypdf"
   ]
  },
  {
   "cell_type": "code",
   "execution_count": 2,
   "id": "07bda1a4-02bf-431b-9c60-bbdee471d96a",
   "metadata": {},
   "outputs": [],
   "source": [
    "!pip install -q transformers einops accelerate langchain bitsandbytes"
   ]
  },
  {
   "cell_type": "code",
   "execution_count": 3,
   "id": "9e56b78d-58af-4449-98e8-0e632ad6131d",
   "metadata": {},
   "outputs": [
    {
     "name": "stdout",
     "output_type": "stream",
     "text": [
      "Requirement already satisfied: install in /home/ubuntu/discharge_me/lib/python3.9/site-packages (1.3.5)\n",
      "Requirement already satisfied: sentence_transformers in /home/ubuntu/discharge_me/lib/python3.9/site-packages (2.7.0)\n",
      "Requirement already satisfied: transformers<5.0.0,>=4.34.0 in /home/ubuntu/discharge_me/lib/python3.9/site-packages (from sentence_transformers) (4.40.1)\n",
      "Requirement already satisfied: tqdm in /home/ubuntu/discharge_me/lib/python3.9/site-packages (from sentence_transformers) (4.66.2)\n",
      "Requirement already satisfied: torch>=1.11.0 in /home/ubuntu/discharge_me/lib/python3.9/site-packages (from sentence_transformers) (2.3.0)\n",
      "Requirement already satisfied: numpy in /home/ubuntu/discharge_me/lib/python3.9/site-packages (from sentence_transformers) (1.26.4)\n",
      "Requirement already satisfied: scikit-learn in /home/ubuntu/discharge_me/lib/python3.9/site-packages (from sentence_transformers) (1.4.2)\n",
      "Requirement already satisfied: scipy in /home/ubuntu/discharge_me/lib/python3.9/site-packages (from sentence_transformers) (1.13.0)\n",
      "Requirement already satisfied: huggingface-hub>=0.15.1 in /home/ubuntu/discharge_me/lib/python3.9/site-packages (from sentence_transformers) (0.20.3)\n",
      "Requirement already satisfied: Pillow in /home/ubuntu/discharge_me/lib/python3.9/site-packages (from sentence_transformers) (10.3.0)\n",
      "Requirement already satisfied: filelock in /home/ubuntu/discharge_me/lib/python3.9/site-packages (from huggingface-hub>=0.15.1->sentence_transformers) (3.13.4)\n",
      "Requirement already satisfied: fsspec>=2023.5.0 in /home/ubuntu/discharge_me/lib/python3.9/site-packages (from huggingface-hub>=0.15.1->sentence_transformers) (2024.3.1)\n",
      "Requirement already satisfied: requests in /home/ubuntu/discharge_me/lib/python3.9/site-packages (from huggingface-hub>=0.15.1->sentence_transformers) (2.31.0)\n",
      "Requirement already satisfied: pyyaml>=5.1 in /home/ubuntu/discharge_me/lib/python3.9/site-packages (from huggingface-hub>=0.15.1->sentence_transformers) (6.0.1)\n",
      "Requirement already satisfied: typing-extensions>=3.7.4.3 in /home/ubuntu/discharge_me/lib/python3.9/site-packages (from huggingface-hub>=0.15.1->sentence_transformers) (4.11.0)\n",
      "Requirement already satisfied: packaging>=20.9 in /home/ubuntu/discharge_me/lib/python3.9/site-packages (from huggingface-hub>=0.15.1->sentence_transformers) (23.2)\n",
      "Requirement already satisfied: sympy in /home/ubuntu/discharge_me/lib/python3.9/site-packages (from torch>=1.11.0->sentence_transformers) (1.12)\n",
      "Requirement already satisfied: networkx in /home/ubuntu/discharge_me/lib/python3.9/site-packages (from torch>=1.11.0->sentence_transformers) (3.2.1)\n",
      "Requirement already satisfied: jinja2 in /home/ubuntu/discharge_me/lib/python3.9/site-packages (from torch>=1.11.0->sentence_transformers) (3.1.3)\n",
      "Requirement already satisfied: nvidia-cuda-nvrtc-cu12==12.1.105 in /home/ubuntu/discharge_me/lib/python3.9/site-packages (from torch>=1.11.0->sentence_transformers) (12.1.105)\n",
      "Requirement already satisfied: nvidia-cuda-runtime-cu12==12.1.105 in /home/ubuntu/discharge_me/lib/python3.9/site-packages (from torch>=1.11.0->sentence_transformers) (12.1.105)\n",
      "Requirement already satisfied: nvidia-cuda-cupti-cu12==12.1.105 in /home/ubuntu/discharge_me/lib/python3.9/site-packages (from torch>=1.11.0->sentence_transformers) (12.1.105)\n",
      "Requirement already satisfied: nvidia-cudnn-cu12==8.9.2.26 in /home/ubuntu/discharge_me/lib/python3.9/site-packages (from torch>=1.11.0->sentence_transformers) (8.9.2.26)\n",
      "Requirement already satisfied: nvidia-cublas-cu12==12.1.3.1 in /home/ubuntu/discharge_me/lib/python3.9/site-packages (from torch>=1.11.0->sentence_transformers) (12.1.3.1)\n",
      "Requirement already satisfied: nvidia-cufft-cu12==11.0.2.54 in /home/ubuntu/discharge_me/lib/python3.9/site-packages (from torch>=1.11.0->sentence_transformers) (11.0.2.54)\n",
      "Requirement already satisfied: nvidia-curand-cu12==10.3.2.106 in /home/ubuntu/discharge_me/lib/python3.9/site-packages (from torch>=1.11.0->sentence_transformers) (10.3.2.106)\n",
      "Requirement already satisfied: nvidia-cusolver-cu12==11.4.5.107 in /home/ubuntu/discharge_me/lib/python3.9/site-packages (from torch>=1.11.0->sentence_transformers) (11.4.5.107)\n",
      "Requirement already satisfied: nvidia-cusparse-cu12==12.1.0.106 in /home/ubuntu/discharge_me/lib/python3.9/site-packages (from torch>=1.11.0->sentence_transformers) (12.1.0.106)\n",
      "Requirement already satisfied: nvidia-nccl-cu12==2.20.5 in /home/ubuntu/discharge_me/lib/python3.9/site-packages (from torch>=1.11.0->sentence_transformers) (2.20.5)\n",
      "Requirement already satisfied: nvidia-nvtx-cu12==12.1.105 in /home/ubuntu/discharge_me/lib/python3.9/site-packages (from torch>=1.11.0->sentence_transformers) (12.1.105)\n",
      "Requirement already satisfied: triton==2.3.0 in /home/ubuntu/discharge_me/lib/python3.9/site-packages (from torch>=1.11.0->sentence_transformers) (2.3.0)\n",
      "Requirement already satisfied: nvidia-nvjitlink-cu12 in /home/ubuntu/discharge_me/lib/python3.9/site-packages (from nvidia-cusolver-cu12==11.4.5.107->torch>=1.11.0->sentence_transformers) (12.4.127)\n",
      "Requirement already satisfied: regex!=2019.12.17 in /home/ubuntu/discharge_me/lib/python3.9/site-packages (from transformers<5.0.0,>=4.34.0->sentence_transformers) (2024.4.16)\n",
      "Requirement already satisfied: tokenizers<0.20,>=0.19 in /home/ubuntu/discharge_me/lib/python3.9/site-packages (from transformers<5.0.0,>=4.34.0->sentence_transformers) (0.19.1)\n",
      "Requirement already satisfied: safetensors>=0.4.1 in /home/ubuntu/discharge_me/lib/python3.9/site-packages (from transformers<5.0.0,>=4.34.0->sentence_transformers) (0.4.3)\n",
      "Requirement already satisfied: joblib>=1.2.0 in /home/ubuntu/discharge_me/lib/python3.9/site-packages (from scikit-learn->sentence_transformers) (1.4.0)\n",
      "Requirement already satisfied: threadpoolctl>=2.0.0 in /home/ubuntu/discharge_me/lib/python3.9/site-packages (from scikit-learn->sentence_transformers) (3.5.0)\n",
      "Requirement already satisfied: MarkupSafe>=2.0 in /home/ubuntu/discharge_me/lib/python3.9/site-packages (from jinja2->torch>=1.11.0->sentence_transformers) (2.1.5)\n",
      "Requirement already satisfied: charset-normalizer<4,>=2 in /home/ubuntu/discharge_me/lib/python3.9/site-packages (from requests->huggingface-hub>=0.15.1->sentence_transformers) (3.3.2)\n",
      "Requirement already satisfied: idna<4,>=2.5 in /home/ubuntu/discharge_me/lib/python3.9/site-packages (from requests->huggingface-hub>=0.15.1->sentence_transformers) (3.7)\n",
      "Requirement already satisfied: urllib3<3,>=1.21.1 in /home/ubuntu/discharge_me/lib/python3.9/site-packages (from requests->huggingface-hub>=0.15.1->sentence_transformers) (2.2.1)\n",
      "Requirement already satisfied: certifi>=2017.4.17 in /home/ubuntu/discharge_me/lib/python3.9/site-packages (from requests->huggingface-hub>=0.15.1->sentence_transformers) (2024.2.2)\n",
      "Requirement already satisfied: mpmath>=0.19 in /home/ubuntu/discharge_me/lib/python3.9/site-packages (from sympy->torch>=1.11.0->sentence_transformers) (1.3.0)\n"
     ]
    }
   ],
   "source": [
    "## Embedding\n",
    "!pip install install sentence_transformers"
   ]
  },
  {
   "cell_type": "code",
   "execution_count": 4,
   "id": "a6047b1a-3007-44eb-937d-2ee6f6372aa7",
   "metadata": {},
   "outputs": [
    {
     "name": "stdout",
     "output_type": "stream",
     "text": [
      "Requirement already satisfied: llama_index in /home/ubuntu/discharge_me/lib/python3.9/site-packages (0.10.33)\n",
      "Requirement already satisfied: llama-index-agent-openai<0.3.0,>=0.1.4 in /home/ubuntu/discharge_me/lib/python3.9/site-packages (from llama_index) (0.2.3)\n",
      "Requirement already satisfied: llama-index-cli<0.2.0,>=0.1.2 in /home/ubuntu/discharge_me/lib/python3.9/site-packages (from llama_index) (0.1.12)\n",
      "Requirement already satisfied: llama-index-core<0.11.0,>=0.10.32 in /home/ubuntu/discharge_me/lib/python3.9/site-packages (from llama_index) (0.10.33)\n",
      "Requirement already satisfied: llama-index-embeddings-openai<0.2.0,>=0.1.5 in /home/ubuntu/discharge_me/lib/python3.9/site-packages (from llama_index) (0.1.9)\n",
      "Requirement already satisfied: llama-index-indices-managed-llama-cloud<0.2.0,>=0.1.2 in /home/ubuntu/discharge_me/lib/python3.9/site-packages (from llama_index) (0.1.6)\n",
      "Requirement already satisfied: llama-index-legacy<0.10.0,>=0.9.48 in /home/ubuntu/discharge_me/lib/python3.9/site-packages (from llama_index) (0.9.48)\n",
      "Requirement already satisfied: llama-index-llms-openai<0.2.0,>=0.1.13 in /home/ubuntu/discharge_me/lib/python3.9/site-packages (from llama_index) (0.1.16)\n",
      "Requirement already satisfied: llama-index-multi-modal-llms-openai<0.2.0,>=0.1.3 in /home/ubuntu/discharge_me/lib/python3.9/site-packages (from llama_index) (0.1.5)\n",
      "Requirement already satisfied: llama-index-program-openai<0.2.0,>=0.1.3 in /home/ubuntu/discharge_me/lib/python3.9/site-packages (from llama_index) (0.1.6)\n",
      "Requirement already satisfied: llama-index-question-gen-openai<0.2.0,>=0.1.2 in /home/ubuntu/discharge_me/lib/python3.9/site-packages (from llama_index) (0.1.3)\n",
      "Requirement already satisfied: llama-index-readers-file<0.2.0,>=0.1.4 in /home/ubuntu/discharge_me/lib/python3.9/site-packages (from llama_index) (0.1.19)\n",
      "Requirement already satisfied: llama-index-readers-llama-parse<0.2.0,>=0.1.2 in /home/ubuntu/discharge_me/lib/python3.9/site-packages (from llama_index) (0.1.4)\n",
      "Requirement already satisfied: openai>=1.14.0 in /home/ubuntu/discharge_me/lib/python3.9/site-packages (from llama-index-agent-openai<0.3.0,>=0.1.4->llama_index) (1.25.0)\n",
      "Requirement already satisfied: PyYAML>=6.0.1 in /home/ubuntu/discharge_me/lib/python3.9/site-packages (from llama-index-core<0.11.0,>=0.10.32->llama_index) (6.0.1)\n",
      "Requirement already satisfied: SQLAlchemy>=1.4.49 in /home/ubuntu/discharge_me/lib/python3.9/site-packages (from SQLAlchemy[asyncio]>=1.4.49->llama-index-core<0.11.0,>=0.10.32->llama_index) (2.0.29)\n",
      "Requirement already satisfied: aiohttp<4.0.0,>=3.8.6 in /home/ubuntu/discharge_me/lib/python3.9/site-packages (from llama-index-core<0.11.0,>=0.10.32->llama_index) (3.9.5)\n",
      "Requirement already satisfied: dataclasses-json in /home/ubuntu/discharge_me/lib/python3.9/site-packages (from llama-index-core<0.11.0,>=0.10.32->llama_index) (0.6.5)\n",
      "Requirement already satisfied: deprecated>=1.2.9.3 in /home/ubuntu/discharge_me/lib/python3.9/site-packages (from llama-index-core<0.11.0,>=0.10.32->llama_index) (1.2.14)\n",
      "Requirement already satisfied: dirtyjson<2.0.0,>=1.0.8 in /home/ubuntu/discharge_me/lib/python3.9/site-packages (from llama-index-core<0.11.0,>=0.10.32->llama_index) (1.0.8)\n",
      "Requirement already satisfied: fsspec>=2023.5.0 in /home/ubuntu/discharge_me/lib/python3.9/site-packages (from llama-index-core<0.11.0,>=0.10.32->llama_index) (2024.3.1)\n",
      "Requirement already satisfied: httpx in /home/ubuntu/discharge_me/lib/python3.9/site-packages (from llama-index-core<0.11.0,>=0.10.32->llama_index) (0.27.0)\n",
      "Requirement already satisfied: llamaindex-py-client<0.2.0,>=0.1.18 in /home/ubuntu/discharge_me/lib/python3.9/site-packages (from llama-index-core<0.11.0,>=0.10.32->llama_index) (0.1.19)\n",
      "Requirement already satisfied: nest-asyncio<2.0.0,>=1.5.8 in /home/ubuntu/discharge_me/lib/python3.9/site-packages (from llama-index-core<0.11.0,>=0.10.32->llama_index) (1.6.0)\n",
      "Requirement already satisfied: networkx>=3.0 in /home/ubuntu/discharge_me/lib/python3.9/site-packages (from llama-index-core<0.11.0,>=0.10.32->llama_index) (3.2.1)\n",
      "Requirement already satisfied: nltk<4.0.0,>=3.8.1 in /home/ubuntu/discharge_me/lib/python3.9/site-packages (from llama-index-core<0.11.0,>=0.10.32->llama_index) (3.8.1)\n",
      "Requirement already satisfied: numpy in /home/ubuntu/discharge_me/lib/python3.9/site-packages (from llama-index-core<0.11.0,>=0.10.32->llama_index) (1.26.4)\n",
      "Requirement already satisfied: pandas in /home/ubuntu/discharge_me/lib/python3.9/site-packages (from llama-index-core<0.11.0,>=0.10.32->llama_index) (2.2.2)\n",
      "Requirement already satisfied: pillow>=9.0.0 in /home/ubuntu/discharge_me/lib/python3.9/site-packages (from llama-index-core<0.11.0,>=0.10.32->llama_index) (10.3.0)\n",
      "Requirement already satisfied: requests>=2.31.0 in /home/ubuntu/discharge_me/lib/python3.9/site-packages (from llama-index-core<0.11.0,>=0.10.32->llama_index) (2.31.0)\n",
      "Requirement already satisfied: tenacity<9.0.0,>=8.2.0 in /home/ubuntu/discharge_me/lib/python3.9/site-packages (from llama-index-core<0.11.0,>=0.10.32->llama_index) (8.2.3)\n",
      "Requirement already satisfied: tiktoken>=0.3.3 in /home/ubuntu/discharge_me/lib/python3.9/site-packages (from llama-index-core<0.11.0,>=0.10.32->llama_index) (0.6.0)\n",
      "Requirement already satisfied: tqdm<5.0.0,>=4.66.1 in /home/ubuntu/discharge_me/lib/python3.9/site-packages (from llama-index-core<0.11.0,>=0.10.32->llama_index) (4.66.2)\n",
      "Requirement already satisfied: typing-extensions>=4.5.0 in /home/ubuntu/discharge_me/lib/python3.9/site-packages (from llama-index-core<0.11.0,>=0.10.32->llama_index) (4.11.0)\n",
      "Requirement already satisfied: typing-inspect>=0.8.0 in /home/ubuntu/discharge_me/lib/python3.9/site-packages (from llama-index-core<0.11.0,>=0.10.32->llama_index) (0.9.0)\n",
      "Requirement already satisfied: wrapt in /home/ubuntu/discharge_me/lib/python3.9/site-packages (from llama-index-core<0.11.0,>=0.10.32->llama_index) (1.16.0)\n",
      "Requirement already satisfied: beautifulsoup4<5.0.0,>=4.12.3 in /home/ubuntu/discharge_me/lib/python3.9/site-packages (from llama-index-readers-file<0.2.0,>=0.1.4->llama_index) (4.12.3)\n",
      "Requirement already satisfied: pypdf<5.0.0,>=4.0.1 in /home/ubuntu/discharge_me/lib/python3.9/site-packages (from llama-index-readers-file<0.2.0,>=0.1.4->llama_index) (4.2.0)\n",
      "Requirement already satisfied: striprtf<0.0.27,>=0.0.26 in /home/ubuntu/discharge_me/lib/python3.9/site-packages (from llama-index-readers-file<0.2.0,>=0.1.4->llama_index) (0.0.26)\n",
      "Requirement already satisfied: llama-parse<0.5.0,>=0.4.0 in /home/ubuntu/discharge_me/lib/python3.9/site-packages (from llama-index-readers-llama-parse<0.2.0,>=0.1.2->llama_index) (0.4.2)\n",
      "Requirement already satisfied: aiosignal>=1.1.2 in /home/ubuntu/discharge_me/lib/python3.9/site-packages (from aiohttp<4.0.0,>=3.8.6->llama-index-core<0.11.0,>=0.10.32->llama_index) (1.3.1)\n",
      "Requirement already satisfied: attrs>=17.3.0 in /home/ubuntu/discharge_me/lib/python3.9/site-packages (from aiohttp<4.0.0,>=3.8.6->llama-index-core<0.11.0,>=0.10.32->llama_index) (23.2.0)\n",
      "Requirement already satisfied: frozenlist>=1.1.1 in /home/ubuntu/discharge_me/lib/python3.9/site-packages (from aiohttp<4.0.0,>=3.8.6->llama-index-core<0.11.0,>=0.10.32->llama_index) (1.4.1)\n",
      "Requirement already satisfied: multidict<7.0,>=4.5 in /home/ubuntu/discharge_me/lib/python3.9/site-packages (from aiohttp<4.0.0,>=3.8.6->llama-index-core<0.11.0,>=0.10.32->llama_index) (6.0.5)\n",
      "Requirement already satisfied: yarl<2.0,>=1.0 in /home/ubuntu/discharge_me/lib/python3.9/site-packages (from aiohttp<4.0.0,>=3.8.6->llama-index-core<0.11.0,>=0.10.32->llama_index) (1.9.4)\n",
      "Requirement already satisfied: async-timeout<5.0,>=4.0 in /home/ubuntu/discharge_me/lib/python3.9/site-packages (from aiohttp<4.0.0,>=3.8.6->llama-index-core<0.11.0,>=0.10.32->llama_index) (4.0.3)\n",
      "Requirement already satisfied: soupsieve>1.2 in /home/ubuntu/discharge_me/lib/python3.9/site-packages (from beautifulsoup4<5.0.0,>=4.12.3->llama-index-readers-file<0.2.0,>=0.1.4->llama_index) (2.5)\n",
      "Requirement already satisfied: pydantic>=1.10 in /home/ubuntu/discharge_me/lib/python3.9/site-packages (from llamaindex-py-client<0.2.0,>=0.1.18->llama-index-core<0.11.0,>=0.10.32->llama_index) (2.7.1)\n",
      "Requirement already satisfied: anyio in /home/ubuntu/discharge_me/lib/python3.9/site-packages (from httpx->llama-index-core<0.11.0,>=0.10.32->llama_index) (4.3.0)\n",
      "Requirement already satisfied: certifi in /home/ubuntu/discharge_me/lib/python3.9/site-packages (from httpx->llama-index-core<0.11.0,>=0.10.32->llama_index) (2024.2.2)\n",
      "Requirement already satisfied: httpcore==1.* in /home/ubuntu/discharge_me/lib/python3.9/site-packages (from httpx->llama-index-core<0.11.0,>=0.10.32->llama_index) (1.0.5)\n",
      "Requirement already satisfied: idna in /home/ubuntu/discharge_me/lib/python3.9/site-packages (from httpx->llama-index-core<0.11.0,>=0.10.32->llama_index) (3.7)\n",
      "Requirement already satisfied: sniffio in /home/ubuntu/discharge_me/lib/python3.9/site-packages (from httpx->llama-index-core<0.11.0,>=0.10.32->llama_index) (1.3.1)\n",
      "Requirement already satisfied: h11<0.15,>=0.13 in /home/ubuntu/discharge_me/lib/python3.9/site-packages (from httpcore==1.*->httpx->llama-index-core<0.11.0,>=0.10.32->llama_index) (0.14.0)\n",
      "Requirement already satisfied: click in /home/ubuntu/discharge_me/lib/python3.9/site-packages (from nltk<4.0.0,>=3.8.1->llama-index-core<0.11.0,>=0.10.32->llama_index) (8.1.7)\n",
      "Requirement already satisfied: joblib in /home/ubuntu/discharge_me/lib/python3.9/site-packages (from nltk<4.0.0,>=3.8.1->llama-index-core<0.11.0,>=0.10.32->llama_index) (1.4.0)\n",
      "Requirement already satisfied: regex>=2021.8.3 in /home/ubuntu/discharge_me/lib/python3.9/site-packages (from nltk<4.0.0,>=3.8.1->llama-index-core<0.11.0,>=0.10.32->llama_index) (2024.4.16)\n",
      "Requirement already satisfied: distro<2,>=1.7.0 in /home/ubuntu/discharge_me/lib/python3.9/site-packages (from openai>=1.14.0->llama-index-agent-openai<0.3.0,>=0.1.4->llama_index) (1.9.0)\n",
      "Requirement already satisfied: charset-normalizer<4,>=2 in /home/ubuntu/discharge_me/lib/python3.9/site-packages (from requests>=2.31.0->llama-index-core<0.11.0,>=0.10.32->llama_index) (3.3.2)\n",
      "Requirement already satisfied: urllib3<3,>=1.21.1 in /home/ubuntu/discharge_me/lib/python3.9/site-packages (from requests>=2.31.0->llama-index-core<0.11.0,>=0.10.32->llama_index) (2.2.1)\n",
      "Requirement already satisfied: greenlet!=0.4.17 in /home/ubuntu/discharge_me/lib/python3.9/site-packages (from SQLAlchemy>=1.4.49->SQLAlchemy[asyncio]>=1.4.49->llama-index-core<0.11.0,>=0.10.32->llama_index) (3.0.3)\n",
      "Requirement already satisfied: mypy-extensions>=0.3.0 in /home/ubuntu/discharge_me/lib/python3.9/site-packages (from typing-inspect>=0.8.0->llama-index-core<0.11.0,>=0.10.32->llama_index) (1.0.0)\n",
      "Requirement already satisfied: marshmallow<4.0.0,>=3.18.0 in /home/ubuntu/discharge_me/lib/python3.9/site-packages (from dataclasses-json->llama-index-core<0.11.0,>=0.10.32->llama_index) (3.21.1)\n",
      "Requirement already satisfied: python-dateutil>=2.8.2 in /home/ubuntu/discharge_me/lib/python3.9/site-packages (from pandas->llama-index-core<0.11.0,>=0.10.32->llama_index) (2.9.0.post0)\n",
      "Requirement already satisfied: pytz>=2020.1 in /home/ubuntu/discharge_me/lib/python3.9/site-packages (from pandas->llama-index-core<0.11.0,>=0.10.32->llama_index) (2024.1)\n",
      "Requirement already satisfied: tzdata>=2022.7 in /home/ubuntu/discharge_me/lib/python3.9/site-packages (from pandas->llama-index-core<0.11.0,>=0.10.32->llama_index) (2024.1)\n",
      "Requirement already satisfied: exceptiongroup>=1.0.2 in /home/ubuntu/discharge_me/lib/python3.9/site-packages (from anyio->httpx->llama-index-core<0.11.0,>=0.10.32->llama_index) (1.2.1)\n",
      "Requirement already satisfied: packaging>=17.0 in /home/ubuntu/discharge_me/lib/python3.9/site-packages (from marshmallow<4.0.0,>=3.18.0->dataclasses-json->llama-index-core<0.11.0,>=0.10.32->llama_index) (23.2)\n",
      "Requirement already satisfied: annotated-types>=0.4.0 in /home/ubuntu/discharge_me/lib/python3.9/site-packages (from pydantic>=1.10->llamaindex-py-client<0.2.0,>=0.1.18->llama-index-core<0.11.0,>=0.10.32->llama_index) (0.6.0)\n",
      "Requirement already satisfied: pydantic-core==2.18.2 in /home/ubuntu/discharge_me/lib/python3.9/site-packages (from pydantic>=1.10->llamaindex-py-client<0.2.0,>=0.1.18->llama-index-core<0.11.0,>=0.10.32->llama_index) (2.18.2)\n",
      "Requirement already satisfied: six>=1.5 in /home/ubuntu/discharge_me/lib/python3.9/site-packages (from python-dateutil>=2.8.2->pandas->llama-index-core<0.11.0,>=0.10.32->llama_index) (1.16.0)\n"
     ]
    }
   ],
   "source": [
    "!pip install llama_index"
   ]
  },
  {
   "cell_type": "code",
   "execution_count": 5,
   "id": "8e33a438-00a4-4248-8be9-d5d1a149fcf0",
   "metadata": {},
   "outputs": [
    {
     "name": "stdout",
     "output_type": "stream",
     "text": [
      "Requirement already satisfied: llama-index-llms-huggingface in /home/ubuntu/discharge_me/lib/python3.9/site-packages (0.1.4)\n",
      "Requirement already satisfied: huggingface-hub<0.21.0,>=0.20.3 in /home/ubuntu/discharge_me/lib/python3.9/site-packages (from llama-index-llms-huggingface) (0.20.3)\n",
      "Requirement already satisfied: llama-index-core<0.11.0,>=0.10.1 in /home/ubuntu/discharge_me/lib/python3.9/site-packages (from llama-index-llms-huggingface) (0.10.33)\n",
      "Requirement already satisfied: torch<3.0.0,>=2.1.2 in /home/ubuntu/discharge_me/lib/python3.9/site-packages (from llama-index-llms-huggingface) (2.3.0)\n",
      "Requirement already satisfied: transformers<5.0.0,>=4.37.0 in /home/ubuntu/discharge_me/lib/python3.9/site-packages (from transformers[torch]<5.0.0,>=4.37.0->llama-index-llms-huggingface) (4.40.1)\n",
      "Requirement already satisfied: filelock in /home/ubuntu/discharge_me/lib/python3.9/site-packages (from huggingface-hub<0.21.0,>=0.20.3->llama-index-llms-huggingface) (3.13.4)\n",
      "Requirement already satisfied: fsspec>=2023.5.0 in /home/ubuntu/discharge_me/lib/python3.9/site-packages (from huggingface-hub<0.21.0,>=0.20.3->llama-index-llms-huggingface) (2024.3.1)\n",
      "Requirement already satisfied: requests in /home/ubuntu/discharge_me/lib/python3.9/site-packages (from huggingface-hub<0.21.0,>=0.20.3->llama-index-llms-huggingface) (2.31.0)\n",
      "Requirement already satisfied: tqdm>=4.42.1 in /home/ubuntu/discharge_me/lib/python3.9/site-packages (from huggingface-hub<0.21.0,>=0.20.3->llama-index-llms-huggingface) (4.66.2)\n",
      "Requirement already satisfied: pyyaml>=5.1 in /home/ubuntu/discharge_me/lib/python3.9/site-packages (from huggingface-hub<0.21.0,>=0.20.3->llama-index-llms-huggingface) (6.0.1)\n",
      "Requirement already satisfied: typing-extensions>=3.7.4.3 in /home/ubuntu/discharge_me/lib/python3.9/site-packages (from huggingface-hub<0.21.0,>=0.20.3->llama-index-llms-huggingface) (4.11.0)\n",
      "Requirement already satisfied: packaging>=20.9 in /home/ubuntu/discharge_me/lib/python3.9/site-packages (from huggingface-hub<0.21.0,>=0.20.3->llama-index-llms-huggingface) (23.2)\n",
      "Requirement already satisfied: SQLAlchemy>=1.4.49 in /home/ubuntu/discharge_me/lib/python3.9/site-packages (from SQLAlchemy[asyncio]>=1.4.49->llama-index-core<0.11.0,>=0.10.1->llama-index-llms-huggingface) (2.0.29)\n",
      "Requirement already satisfied: aiohttp<4.0.0,>=3.8.6 in /home/ubuntu/discharge_me/lib/python3.9/site-packages (from llama-index-core<0.11.0,>=0.10.1->llama-index-llms-huggingface) (3.9.5)\n",
      "Requirement already satisfied: dataclasses-json in /home/ubuntu/discharge_me/lib/python3.9/site-packages (from llama-index-core<0.11.0,>=0.10.1->llama-index-llms-huggingface) (0.6.5)\n",
      "Requirement already satisfied: deprecated>=1.2.9.3 in /home/ubuntu/discharge_me/lib/python3.9/site-packages (from llama-index-core<0.11.0,>=0.10.1->llama-index-llms-huggingface) (1.2.14)\n",
      "Requirement already satisfied: dirtyjson<2.0.0,>=1.0.8 in /home/ubuntu/discharge_me/lib/python3.9/site-packages (from llama-index-core<0.11.0,>=0.10.1->llama-index-llms-huggingface) (1.0.8)\n",
      "Requirement already satisfied: httpx in /home/ubuntu/discharge_me/lib/python3.9/site-packages (from llama-index-core<0.11.0,>=0.10.1->llama-index-llms-huggingface) (0.27.0)\n",
      "Requirement already satisfied: llamaindex-py-client<0.2.0,>=0.1.18 in /home/ubuntu/discharge_me/lib/python3.9/site-packages (from llama-index-core<0.11.0,>=0.10.1->llama-index-llms-huggingface) (0.1.19)\n",
      "Requirement already satisfied: nest-asyncio<2.0.0,>=1.5.8 in /home/ubuntu/discharge_me/lib/python3.9/site-packages (from llama-index-core<0.11.0,>=0.10.1->llama-index-llms-huggingface) (1.6.0)\n",
      "Requirement already satisfied: networkx>=3.0 in /home/ubuntu/discharge_me/lib/python3.9/site-packages (from llama-index-core<0.11.0,>=0.10.1->llama-index-llms-huggingface) (3.2.1)\n",
      "Requirement already satisfied: nltk<4.0.0,>=3.8.1 in /home/ubuntu/discharge_me/lib/python3.9/site-packages (from llama-index-core<0.11.0,>=0.10.1->llama-index-llms-huggingface) (3.8.1)\n",
      "Requirement already satisfied: numpy in /home/ubuntu/discharge_me/lib/python3.9/site-packages (from llama-index-core<0.11.0,>=0.10.1->llama-index-llms-huggingface) (1.26.4)\n",
      "Requirement already satisfied: openai>=1.1.0 in /home/ubuntu/discharge_me/lib/python3.9/site-packages (from llama-index-core<0.11.0,>=0.10.1->llama-index-llms-huggingface) (1.25.0)\n",
      "Requirement already satisfied: pandas in /home/ubuntu/discharge_me/lib/python3.9/site-packages (from llama-index-core<0.11.0,>=0.10.1->llama-index-llms-huggingface) (2.2.2)\n",
      "Requirement already satisfied: pillow>=9.0.0 in /home/ubuntu/discharge_me/lib/python3.9/site-packages (from llama-index-core<0.11.0,>=0.10.1->llama-index-llms-huggingface) (10.3.0)\n",
      "Requirement already satisfied: tenacity<9.0.0,>=8.2.0 in /home/ubuntu/discharge_me/lib/python3.9/site-packages (from llama-index-core<0.11.0,>=0.10.1->llama-index-llms-huggingface) (8.2.3)\n",
      "Requirement already satisfied: tiktoken>=0.3.3 in /home/ubuntu/discharge_me/lib/python3.9/site-packages (from llama-index-core<0.11.0,>=0.10.1->llama-index-llms-huggingface) (0.6.0)\n",
      "Requirement already satisfied: typing-inspect>=0.8.0 in /home/ubuntu/discharge_me/lib/python3.9/site-packages (from llama-index-core<0.11.0,>=0.10.1->llama-index-llms-huggingface) (0.9.0)\n",
      "Requirement already satisfied: wrapt in /home/ubuntu/discharge_me/lib/python3.9/site-packages (from llama-index-core<0.11.0,>=0.10.1->llama-index-llms-huggingface) (1.16.0)\n",
      "Requirement already satisfied: sympy in /home/ubuntu/discharge_me/lib/python3.9/site-packages (from torch<3.0.0,>=2.1.2->llama-index-llms-huggingface) (1.12)\n",
      "Requirement already satisfied: jinja2 in /home/ubuntu/discharge_me/lib/python3.9/site-packages (from torch<3.0.0,>=2.1.2->llama-index-llms-huggingface) (3.1.3)\n",
      "Requirement already satisfied: nvidia-cuda-nvrtc-cu12==12.1.105 in /home/ubuntu/discharge_me/lib/python3.9/site-packages (from torch<3.0.0,>=2.1.2->llama-index-llms-huggingface) (12.1.105)\n",
      "Requirement already satisfied: nvidia-cuda-runtime-cu12==12.1.105 in /home/ubuntu/discharge_me/lib/python3.9/site-packages (from torch<3.0.0,>=2.1.2->llama-index-llms-huggingface) (12.1.105)\n",
      "Requirement already satisfied: nvidia-cuda-cupti-cu12==12.1.105 in /home/ubuntu/discharge_me/lib/python3.9/site-packages (from torch<3.0.0,>=2.1.2->llama-index-llms-huggingface) (12.1.105)\n",
      "Requirement already satisfied: nvidia-cudnn-cu12==8.9.2.26 in /home/ubuntu/discharge_me/lib/python3.9/site-packages (from torch<3.0.0,>=2.1.2->llama-index-llms-huggingface) (8.9.2.26)\n",
      "Requirement already satisfied: nvidia-cublas-cu12==12.1.3.1 in /home/ubuntu/discharge_me/lib/python3.9/site-packages (from torch<3.0.0,>=2.1.2->llama-index-llms-huggingface) (12.1.3.1)\n",
      "Requirement already satisfied: nvidia-cufft-cu12==11.0.2.54 in /home/ubuntu/discharge_me/lib/python3.9/site-packages (from torch<3.0.0,>=2.1.2->llama-index-llms-huggingface) (11.0.2.54)\n",
      "Requirement already satisfied: nvidia-curand-cu12==10.3.2.106 in /home/ubuntu/discharge_me/lib/python3.9/site-packages (from torch<3.0.0,>=2.1.2->llama-index-llms-huggingface) (10.3.2.106)\n",
      "Requirement already satisfied: nvidia-cusolver-cu12==11.4.5.107 in /home/ubuntu/discharge_me/lib/python3.9/site-packages (from torch<3.0.0,>=2.1.2->llama-index-llms-huggingface) (11.4.5.107)\n",
      "Requirement already satisfied: nvidia-cusparse-cu12==12.1.0.106 in /home/ubuntu/discharge_me/lib/python3.9/site-packages (from torch<3.0.0,>=2.1.2->llama-index-llms-huggingface) (12.1.0.106)\n",
      "Requirement already satisfied: nvidia-nccl-cu12==2.20.5 in /home/ubuntu/discharge_me/lib/python3.9/site-packages (from torch<3.0.0,>=2.1.2->llama-index-llms-huggingface) (2.20.5)\n",
      "Requirement already satisfied: nvidia-nvtx-cu12==12.1.105 in /home/ubuntu/discharge_me/lib/python3.9/site-packages (from torch<3.0.0,>=2.1.2->llama-index-llms-huggingface) (12.1.105)\n",
      "Requirement already satisfied: triton==2.3.0 in /home/ubuntu/discharge_me/lib/python3.9/site-packages (from torch<3.0.0,>=2.1.2->llama-index-llms-huggingface) (2.3.0)\n",
      "Requirement already satisfied: nvidia-nvjitlink-cu12 in /home/ubuntu/discharge_me/lib/python3.9/site-packages (from nvidia-cusolver-cu12==11.4.5.107->torch<3.0.0,>=2.1.2->llama-index-llms-huggingface) (12.4.127)\n",
      "Requirement already satisfied: regex!=2019.12.17 in /home/ubuntu/discharge_me/lib/python3.9/site-packages (from transformers<5.0.0,>=4.37.0->transformers[torch]<5.0.0,>=4.37.0->llama-index-llms-huggingface) (2024.4.16)\n",
      "Requirement already satisfied: tokenizers<0.20,>=0.19 in /home/ubuntu/discharge_me/lib/python3.9/site-packages (from transformers<5.0.0,>=4.37.0->transformers[torch]<5.0.0,>=4.37.0->llama-index-llms-huggingface) (0.19.1)\n",
      "Requirement already satisfied: safetensors>=0.4.1 in /home/ubuntu/discharge_me/lib/python3.9/site-packages (from transformers<5.0.0,>=4.37.0->transformers[torch]<5.0.0,>=4.37.0->llama-index-llms-huggingface) (0.4.3)\n",
      "Requirement already satisfied: accelerate>=0.21.0 in /home/ubuntu/discharge_me/lib/python3.9/site-packages (from transformers[torch]<5.0.0,>=4.37.0->llama-index-llms-huggingface) (0.29.3)\n",
      "Requirement already satisfied: psutil in /home/ubuntu/discharge_me/lib/python3.9/site-packages (from accelerate>=0.21.0->transformers[torch]<5.0.0,>=4.37.0->llama-index-llms-huggingface) (5.9.8)\n",
      "Requirement already satisfied: aiosignal>=1.1.2 in /home/ubuntu/discharge_me/lib/python3.9/site-packages (from aiohttp<4.0.0,>=3.8.6->llama-index-core<0.11.0,>=0.10.1->llama-index-llms-huggingface) (1.3.1)\n",
      "Requirement already satisfied: attrs>=17.3.0 in /home/ubuntu/discharge_me/lib/python3.9/site-packages (from aiohttp<4.0.0,>=3.8.6->llama-index-core<0.11.0,>=0.10.1->llama-index-llms-huggingface) (23.2.0)\n",
      "Requirement already satisfied: frozenlist>=1.1.1 in /home/ubuntu/discharge_me/lib/python3.9/site-packages (from aiohttp<4.0.0,>=3.8.6->llama-index-core<0.11.0,>=0.10.1->llama-index-llms-huggingface) (1.4.1)\n",
      "Requirement already satisfied: multidict<7.0,>=4.5 in /home/ubuntu/discharge_me/lib/python3.9/site-packages (from aiohttp<4.0.0,>=3.8.6->llama-index-core<0.11.0,>=0.10.1->llama-index-llms-huggingface) (6.0.5)\n",
      "Requirement already satisfied: yarl<2.0,>=1.0 in /home/ubuntu/discharge_me/lib/python3.9/site-packages (from aiohttp<4.0.0,>=3.8.6->llama-index-core<0.11.0,>=0.10.1->llama-index-llms-huggingface) (1.9.4)\n",
      "Requirement already satisfied: async-timeout<5.0,>=4.0 in /home/ubuntu/discharge_me/lib/python3.9/site-packages (from aiohttp<4.0.0,>=3.8.6->llama-index-core<0.11.0,>=0.10.1->llama-index-llms-huggingface) (4.0.3)\n",
      "Requirement already satisfied: pydantic>=1.10 in /home/ubuntu/discharge_me/lib/python3.9/site-packages (from llamaindex-py-client<0.2.0,>=0.1.18->llama-index-core<0.11.0,>=0.10.1->llama-index-llms-huggingface) (2.7.1)\n",
      "Requirement already satisfied: anyio in /home/ubuntu/discharge_me/lib/python3.9/site-packages (from httpx->llama-index-core<0.11.0,>=0.10.1->llama-index-llms-huggingface) (4.3.0)\n",
      "Requirement already satisfied: certifi in /home/ubuntu/discharge_me/lib/python3.9/site-packages (from httpx->llama-index-core<0.11.0,>=0.10.1->llama-index-llms-huggingface) (2024.2.2)\n",
      "Requirement already satisfied: httpcore==1.* in /home/ubuntu/discharge_me/lib/python3.9/site-packages (from httpx->llama-index-core<0.11.0,>=0.10.1->llama-index-llms-huggingface) (1.0.5)\n",
      "Requirement already satisfied: idna in /home/ubuntu/discharge_me/lib/python3.9/site-packages (from httpx->llama-index-core<0.11.0,>=0.10.1->llama-index-llms-huggingface) (3.7)\n",
      "Requirement already satisfied: sniffio in /home/ubuntu/discharge_me/lib/python3.9/site-packages (from httpx->llama-index-core<0.11.0,>=0.10.1->llama-index-llms-huggingface) (1.3.1)\n",
      "Requirement already satisfied: h11<0.15,>=0.13 in /home/ubuntu/discharge_me/lib/python3.9/site-packages (from httpcore==1.*->httpx->llama-index-core<0.11.0,>=0.10.1->llama-index-llms-huggingface) (0.14.0)\n",
      "Requirement already satisfied: click in /home/ubuntu/discharge_me/lib/python3.9/site-packages (from nltk<4.0.0,>=3.8.1->llama-index-core<0.11.0,>=0.10.1->llama-index-llms-huggingface) (8.1.7)\n",
      "Requirement already satisfied: joblib in /home/ubuntu/discharge_me/lib/python3.9/site-packages (from nltk<4.0.0,>=3.8.1->llama-index-core<0.11.0,>=0.10.1->llama-index-llms-huggingface) (1.4.0)\n",
      "Requirement already satisfied: distro<2,>=1.7.0 in /home/ubuntu/discharge_me/lib/python3.9/site-packages (from openai>=1.1.0->llama-index-core<0.11.0,>=0.10.1->llama-index-llms-huggingface) (1.9.0)\n",
      "Requirement already satisfied: charset-normalizer<4,>=2 in /home/ubuntu/discharge_me/lib/python3.9/site-packages (from requests->huggingface-hub<0.21.0,>=0.20.3->llama-index-llms-huggingface) (3.3.2)\n",
      "Requirement already satisfied: urllib3<3,>=1.21.1 in /home/ubuntu/discharge_me/lib/python3.9/site-packages (from requests->huggingface-hub<0.21.0,>=0.20.3->llama-index-llms-huggingface) (2.2.1)\n",
      "Requirement already satisfied: greenlet!=0.4.17 in /home/ubuntu/discharge_me/lib/python3.9/site-packages (from SQLAlchemy>=1.4.49->SQLAlchemy[asyncio]>=1.4.49->llama-index-core<0.11.0,>=0.10.1->llama-index-llms-huggingface) (3.0.3)\n",
      "Requirement already satisfied: mypy-extensions>=0.3.0 in /home/ubuntu/discharge_me/lib/python3.9/site-packages (from typing-inspect>=0.8.0->llama-index-core<0.11.0,>=0.10.1->llama-index-llms-huggingface) (1.0.0)\n",
      "Requirement already satisfied: marshmallow<4.0.0,>=3.18.0 in /home/ubuntu/discharge_me/lib/python3.9/site-packages (from dataclasses-json->llama-index-core<0.11.0,>=0.10.1->llama-index-llms-huggingface) (3.21.1)\n",
      "Requirement already satisfied: MarkupSafe>=2.0 in /home/ubuntu/discharge_me/lib/python3.9/site-packages (from jinja2->torch<3.0.0,>=2.1.2->llama-index-llms-huggingface) (2.1.5)\n",
      "Requirement already satisfied: python-dateutil>=2.8.2 in /home/ubuntu/discharge_me/lib/python3.9/site-packages (from pandas->llama-index-core<0.11.0,>=0.10.1->llama-index-llms-huggingface) (2.9.0.post0)\n",
      "Requirement already satisfied: pytz>=2020.1 in /home/ubuntu/discharge_me/lib/python3.9/site-packages (from pandas->llama-index-core<0.11.0,>=0.10.1->llama-index-llms-huggingface) (2024.1)\n",
      "Requirement already satisfied: tzdata>=2022.7 in /home/ubuntu/discharge_me/lib/python3.9/site-packages (from pandas->llama-index-core<0.11.0,>=0.10.1->llama-index-llms-huggingface) (2024.1)\n",
      "Requirement already satisfied: mpmath>=0.19 in /home/ubuntu/discharge_me/lib/python3.9/site-packages (from sympy->torch<3.0.0,>=2.1.2->llama-index-llms-huggingface) (1.3.0)\n",
      "Requirement already satisfied: exceptiongroup>=1.0.2 in /home/ubuntu/discharge_me/lib/python3.9/site-packages (from anyio->httpx->llama-index-core<0.11.0,>=0.10.1->llama-index-llms-huggingface) (1.2.1)\n",
      "Requirement already satisfied: annotated-types>=0.4.0 in /home/ubuntu/discharge_me/lib/python3.9/site-packages (from pydantic>=1.10->llamaindex-py-client<0.2.0,>=0.1.18->llama-index-core<0.11.0,>=0.10.1->llama-index-llms-huggingface) (0.6.0)\n",
      "Requirement already satisfied: pydantic-core==2.18.2 in /home/ubuntu/discharge_me/lib/python3.9/site-packages (from pydantic>=1.10->llamaindex-py-client<0.2.0,>=0.1.18->llama-index-core<0.11.0,>=0.10.1->llama-index-llms-huggingface) (2.18.2)\n",
      "Requirement already satisfied: six>=1.5 in /home/ubuntu/discharge_me/lib/python3.9/site-packages (from python-dateutil>=2.8.2->pandas->llama-index-core<0.11.0,>=0.10.1->llama-index-llms-huggingface) (1.16.0)\n",
      "Note: you may need to restart the kernel to use updated packages.\n"
     ]
    }
   ],
   "source": [
    "pip install llama-index-llms-huggingface"
   ]
  },
  {
   "cell_type": "code",
   "execution_count": 6,
   "id": "d8d31ae7-5f90-41fa-96f6-0e80f5104962",
   "metadata": {},
   "outputs": [],
   "source": [
    "from llama_index.core import VectorStoreIndex, SimpleDirectoryReader, ServiceContext\n",
    "from llama_index.llms.huggingface import HuggingFaceLLM\n",
    "from llama_index.core.prompts.prompts import SimpleInputPrompt"
   ]
  },
  {
   "cell_type": "code",
   "execution_count": 7,
   "id": "ac79d065-c87c-4c0a-9199-9c098b0dc6f9",
   "metadata": {},
   "outputs": [
    {
     "data": {
      "text/plain": [
       "[Document(id_='bbe295d6-d17e-407f-aa1a-e82a8be2aaef', embedding=None, metadata={'page_label': '1', 'file_name': 'discharge.pdf', 'file_path': '/home/ubuntu/notebooks/data/discharge.pdf', 'file_type': 'application/pdf', 'file_size': 35328, 'creation_date': '2024-05-01', 'last_modified_date': '2024-05-01'}, excluded_embed_metadata_keys=['file_name', 'file_type', 'file_size', 'creation_date', 'last_modified_date', 'last_accessed_date'], excluded_llm_metadata_keys=['file_name', 'file_type', 'file_size', 'creation_date', 'last_modified_date', 'last_accessed_date'], relationships={}, text='Name:  ___                     Unit No:   ___  \\n  \\nAdmission Date:  ___              Discharge Date:   ___  \\n  \\nDate of Birth:  ___             Sex:   F  \\n  \\nService: MEDICINE  \\n  \\nAllergies:  \\nNo Known Allergies / Adverse Drug Reactions  \\n  \\nAttending: ___  \\n  \\nChief Complaint:  \\nWorsening ABD distension and pain  \\n  \\nMajor Surgical or Invasive Procedure:  \\nParacentesis  \\n \\n  \\nHistory of Present Illness:  \\n___ HCV cirrhosis c/b ascites, hiv on ART, h/o IVDU, COPD,  \\nbioplar, PTSD, presented from OSH ED with worsening abd  \\ndistension over past week.   \\nPt reports self -discontinuing lasix and spirnolactone ___ weeks  \\nago, because she feels like \"they don\\'t do anything\" and that  \\nshe \"doesn\\'t want to put more chemicals in her.\" She does not  \\nfollow Na -restricted diets. In the past week, she notes that she  \\nhas been having worsening abd distension and discomfort. She  \\ndenies ___ edema, or SOB, or orthopnea. She denies f/c/n/v, d/c,  \\ndysuria. She had food poisoning a week ago from eating stale  \\ncake (n/v 20 min after food ingestion), which resolved the same  \\nday. She denies other recent illness or sick contacts. She notes  \\nthat she has been noticing gum bleeding while brushing her teeth  \\nin recent weeks. she denies easy bruising, melena, BRBPR,  \\nhemetesis, hemoptysis, or hematuria.   \\nBecause of her abd pain, she went to OSH ED and was transferred  \\nto ___ for further care. Per ED report, pt has brief period of  \\nconfusion - she did not recall the ultrasound or bloodwork at  \\nosh. She denies recent drug use or alcohol use. She denies  ', start_char_idx=None, end_char_idx=None, text_template='{metadata_str}\\n\\n{content}', metadata_template='{key}: {value}', metadata_seperator='\\n'),\n",
       " Document(id_='51d357dd-fca6-413b-9dcf-4a6a7e8c6240', embedding=None, metadata={'page_label': '2', 'file_name': 'discharge.pdf', 'file_path': '/home/ubuntu/notebooks/data/discharge.pdf', 'file_type': 'application/pdf', 'file_size': 35328, 'creation_date': '2024-05-01', 'last_modified_date': '2024-05-01'}, excluded_embed_metadata_keys=['file_name', 'file_type', 'file_size', 'creation_date', 'last_modified_date', 'last_accessed_date'], excluded_llm_metadata_keys=['file_name', 'file_type', 'file_size', 'creation_date', 'last_modified_date', 'last_accessed_date'], relationships={}, text=\"feeling confused, but reports that she is forgetful at times.   \\nIn the ED, initial vitals were 98.4 70 106/63 16 97%RA   \\nLabs notable for ALT/AST/AP ___ ___: ___,  \\nTbili1.6, WBC 5K, platelet 77, INR 1.6   \\n \\n  \\nPast Medical History:  \\n1. HCV Cirrhosis   \\n2. No history of abnormal Pap smears.   \\n3. She had calcification in her breast, which was removed   \\npreviously and per patient not, it was benign.   \\n4. For HIV disease, she is being followed by Dr. ___ Dr.   \\n___.   \\n5. COPD   \\n6. Past history of smoking.   \\n7. She also had a skin lesion, which was biopsied and showed   \\nskin cancer per patient report and is scheduled for a complete   \\nremoval of the skin lesion in ___ of this year.   \\n8. She also had another lesion in her forehead with purple   \\ndiscoloration. It was biopsied to exclude the possibility of   \\n___'s sarcoma, the results is pending.   \\n9. A 15 mm hypoechoic lesion on her ultrasound on ___   \\nand is being monitored by an MRI.   \\n10. History of dysplasia of anus in ___.   \\n11. Bipolar affective disorder, currently manic, mild, and PTSD.  \\n  \\n12. History of cocaine and heroin use.   \\n \\n  \\nSocial History:  \\n___ \\nFamily History:  \\nShe a total of five siblings, but she is not   \\ntalking to most of them. She only has one brother that she is in  \\n  \\ntouch with and lives in ___. She is not aware of any   \\nknown GI or liver disease in her family.   \\nHer last alcohol consumption was one drink two months ago. No   \\nregular alcohol consumption. Last drug use ___ years ago. She   \\nquit smoking a couple of years ago.   \", start_char_idx=None, end_char_idx=None, text_template='{metadata_str}\\n\\n{content}', metadata_template='{key}: {value}', metadata_seperator='\\n'),\n",
       " Document(id_='e6e9fea9-25ae-4731-b061-df8571286140', embedding=None, metadata={'page_label': '3', 'file_name': 'discharge.pdf', 'file_path': '/home/ubuntu/notebooks/data/discharge.pdf', 'file_type': 'application/pdf', 'file_size': 35328, 'creation_date': '2024-05-01', 'last_modified_date': '2024-05-01'}, excluded_embed_metadata_keys=['file_name', 'file_type', 'file_size', 'creation_date', 'last_modified_date', 'last_accessed_date'], excluded_llm_metadata_keys=['file_name', 'file_type', 'file_size', 'creation_date', 'last_modified_date', 'last_accessed_date'], relationships={}, text=' \\n  \\nPhysical Exam:  \\nVS: 98.1 107/61 78 18 97RA   \\nGeneral: in NAD   \\nHEENT: CTAB, anicteric sclera, OP clear   \\nNeck: supple, no LAD   \\nCV: RRR,S1S2, no m/r/g   \\nLungs: CTAb, prolonged expiratory phase, no w/r/r   \\nAbdomen: distended, mild diffuse tenderness, +flank dullness,  \\ncannot percuss liver/spleen edge ___ distension   \\nGU: no foley   \\nExt: wwp, no c/e/e, + clubbing   \\nNeuro: AAO3, converse normally, able to recall 3 times after 5  \\nminutes, CN II -XII intact   \\n \\nDischarge:  \\n \\nPHYSICAL EXAMINATION:   \\nVS: 98 105/70 95  \\nGeneral: in NAD   \\nHEENT: anicteric sclera, OP clear   \\nNeck: supple, no LAD   \\nCV: RRR,S1S2, no m/r/g   \\nLungs: CTAb, prolonged expiratory phase, no w/r/r   \\nAbdomen: distended but improved, TTP in RUQ,  \\nGU: no foley   \\nExt: wwp, no c/e/e, + clubbing   \\nNeuro: AAO3,  CN II -XII intact   \\n \\n  \\nPertinent Results:  \\n___ 10:25PM   GLUCOSE -109* UREA N -25* CREAT -0.3* SODIUM -138  \\nPOTASSIUM -3.4 CHLORIDE -105 TOTAL CO2 -27 ANION GAP -9 \\n___ 10:25PM   estGFR -Using this  \\n___ 10:25PM   ALT(SGPT) -100* AST(SGOT) -114* ALK PHOS -114*  \\nTOT BILI -1.6* \\n___ 10:25PM   LIPASE -77* \\n___ 10:25PM   ALBUMIN -3.3* \\n___ 10:25PM   WBC -5.0# RBC -4.29 HGB -14.3 HCT -42.6 MCV -99*  ', start_char_idx=None, end_char_idx=None, text_template='{metadata_str}\\n\\n{content}', metadata_template='{key}: {value}', metadata_seperator='\\n'),\n",
       " Document(id_='88555af3-e067-477c-a7f3-5718c7f601dc', embedding=None, metadata={'page_label': '4', 'file_name': 'discharge.pdf', 'file_path': '/home/ubuntu/notebooks/data/discharge.pdf', 'file_type': 'application/pdf', 'file_size': 35328, 'creation_date': '2024-05-01', 'last_modified_date': '2024-05-01'}, excluded_embed_metadata_keys=['file_name', 'file_type', 'file_size', 'creation_date', 'last_modified_date', 'last_accessed_date'], excluded_llm_metadata_keys=['file_name', 'file_type', 'file_size', 'creation_date', 'last_modified_date', 'last_accessed_date'], relationships={}, text='MCH -33.3* MCHC -33.5 RDW -15.7*  \\n___ 10:25PM   NEUTS -70.3* LYMPHS -16.5* MONOS -8.1 EOS -4.2*  \\nBASOS -0.8 \\n___ 10:25PM   PLT COUNT -71* \\n___ 10:25PM   ___ PTT -30.9 ___  \\n___ 10:25PM   ___  \\n. \\n \\nCXR: No acute cardiopulmonary process.   \\nU/S:   \\n1. Nodular appearance of the liver compatible with cirrhosis.  \\nSigns of portal   \\nhypertension including small amount of ascites and splenomegaly.  \\n  \\n2. Cholelithiasis.   \\n3. Patent portal veins with normal hepatopetal flow.   \\nDiagnostic para attempted in the ED, unsuccessful.   \\nOn the floor, pt c/o abd distension and discomfort.  \\n  \\nBrief Hospital Course:  \\n___ HCV cirrhosis c/b ascites, hiv on ART, h/o IVDU, COPD,  \\nbioplar , PTSD, presented from OSH ED with worsening abd  \\ndistension over past week and confusion.   \\n \\n# Ascites - p/w worsening abd distension and discomfort for last  \\nweek. likely ___ portal HTN given underlying liver disease,  \\nthough no ascitic fluid available on night of admission. No  \\nsigns of heart failure noted on exam. This was ___ to med  \\nnon-compliance and lack of diet restriction. SBP negative  \\ndiuretics:   \\n> Furosemide 40 mg PO DAILY   \\n> Spironolactone 50 mg PO DAILY, chosen over the usual 100mg  \\ndose d/t K+ of 4.5.    \\n CXR was wnl, UA negative, Urine culture blood culture negative.  \\n  \\nPt was losing excess fluid appropriately with stable lytes on  \\nthe above regimen. Pt was scheduled with current PCP for  \\n___ check upon discharge.    \\nPt was scheduled for new PCP with Dr. ___ at ___ and  \\nfollow up in Liver clinic to schedule outpatient screening EGD  ', start_char_idx=None, end_char_idx=None, text_template='{metadata_str}\\n\\n{content}', metadata_template='{key}: {value}', metadata_seperator='\\n'),\n",
       " Document(id_='425bf4a6-7b65-4c43-9c25-ecb38fca8706', embedding=None, metadata={'page_label': '5', 'file_name': 'discharge.pdf', 'file_path': '/home/ubuntu/notebooks/data/discharge.pdf', 'file_type': 'application/pdf', 'file_size': 35328, 'creation_date': '2024-05-01', 'last_modified_date': '2024-05-01'}, excluded_embed_metadata_keys=['file_name', 'file_type', 'file_size', 'creation_date', 'last_modified_date', 'last_accessed_date'], excluded_llm_metadata_keys=['file_name', 'file_type', 'file_size', 'creation_date', 'last_modified_date', 'last_accessed_date'], relationships={}, text='and ___.    \\n  \\n \\n  \\nMedications on Admission:  \\nThe Preadmission Medication list is accurate and complete.  \\n1. Furosemide 20 mg PO DAILY  \\n2. Spironolactone 50 mg PO DAILY  \\n3. Albuterol Inhaler 2 PUFF IH Q4H:PRN wheezing, SOB  \\n4. Raltegravir 400 mg PO BID  \\n5. Emtricitabine -Tenofovir (Truvada) 1 TAB PO DAILY  \\n6. Nicotine Patch 14 mg TD DAILY  \\n7. Ipratropium Bromide Neb 1 NEB IH Q6H SOB  \\n \\n  \\nDischarge Medications:  \\n1. Albuterol Inhaler 2 PUFF IH Q4H:PRN wheezing, SOB  \\n2. Emtricitabine -Tenofovir (Truvada) 1 TAB PO DAILY  \\n3. Furosemide 40 mg PO DAILY  \\nRX *furosemide 40 mg 1 tablet(s) by mouth Daily Disp #*30 Tablet  \\nRefills:*3  \\n4. Ipratropium Bromide Neb 1 NEB IH Q6H SOB  \\n5. Nicotine Patch 14 mg TD DAILY  \\n6. Raltegravir 400 mg PO BID  \\n7. Spironolactone 50 mg PO DAILY  \\n8. Acetaminophen 500 mg PO Q6H:PRN pain  \\n \\n  \\nDischarge Disposition:  \\nHome  \\n  \\nDischarge Diagnosis:  \\nAscites from Portal HTN  \\n \\n  \\nDischarge Condition:  \\nMental Status: Clear and coherent.  \\nLevel of Consciousness: Alert and interactive.  \\nActivity Status: Ambulatory - Independent.  \\n ', start_char_idx=None, end_char_idx=None, text_template='{metadata_str}\\n\\n{content}', metadata_template='{key}: {value}', metadata_seperator='\\n'),\n",
       " Document(id_='1ff4260e-2194-4643-8d0a-c3f9c33607ed', embedding=None, metadata={'page_label': '6', 'file_name': 'discharge.pdf', 'file_path': '/home/ubuntu/notebooks/data/discharge.pdf', 'file_type': 'application/pdf', 'file_size': 35328, 'creation_date': '2024-05-01', 'last_modified_date': '2024-05-01'}, excluded_embed_metadata_keys=['file_name', 'file_type', 'file_size', 'creation_date', 'last_modified_date', 'last_accessed_date'], excluded_llm_metadata_keys=['file_name', 'file_type', 'file_size', 'creation_date', 'last_modified_date', 'last_accessed_date'], relationships={}, text=\"  \\nDischarge Instructions:  \\nDear Ms. ___,  \\nIt was a pleasure taking care of you! You came to us with  \\nstomach pain and worsening distension. While you were here we  \\ndid a paracentesis to remove 1.5L of fluid from your belly. We  \\nalso placed you on you 40 mg of Lasix and 50 mg of Aldactone to  \\nhelp you urinate the excess fluid still in your belly. As we  \\ndiscussed, everyone has a different dose of lasix required to  \\nmake them urinate and it's likely that you weren't taking a high  \\nenough dose. Please take these medications daily to keep excess  \\nfluid off and eat a low salt diet. You will follow up with Dr.  \\n___ in liver clinic and from there have your colonoscopy  \\nand EGD scheduled. Of course, we are always here if you need us.  \\nWe wish you all the best!  \\nYour ___ Team.   \\n  \\nFollowup Instructions:  \\n___ \\n \", start_char_idx=None, end_char_idx=None, text_template='{metadata_str}\\n\\n{content}', metadata_template='{key}: {value}', metadata_seperator='\\n'),\n",
       " Document(id_='0b355d2f-319e-4d60-9fed-a8fc1bc568f5', embedding=None, metadata={'page_label': '1', 'file_name': 'radiology.pdf', 'file_path': '/home/ubuntu/notebooks/data/radiology.pdf', 'file_type': 'application/pdf', 'file_size': 17074, 'creation_date': '2024-05-01', 'last_modified_date': '2024-05-01'}, excluded_embed_metadata_keys=['file_name', 'file_type', 'file_size', 'creation_date', 'last_modified_date', 'last_accessed_date'], excluded_llm_metadata_keys=['file_name', 'file_type', 'file_size', 'creation_date', 'last_modified_date', 'last_accessed_date'], relationships={}, text='EXAMINATION:  LIVER OR GALLBLADDER US (SINGLE ORGAN)  \\n \\nINDICATION:  ___ year -old female with cirrhosis, jaundice.  \\n \\nTECHNIQUE:  Grey scale and color Doppler ultrasound images of the abdomen were  \\nobtained.  \\n \\nCOMPARISON:  None.  \\n \\nFINDINGS:  \\n \\nLIVER: The liver is coarsened and nodular in echotexture. There is no focal  \\nliver mass. Main portal vein and its major branches are patent with normal  \\nhepatopetal flow.  The main hepatic artery shows normal arterial waveform.  \\nThere is a small amount of ascites.  \\n \\nBILE DUCTS: There is no intrahepatic biliary dilation. The CBD measures 4 mm.  \\n \\nGALLBLADDER: The gallbladder is contracted with a shadowing gallstone.  \\n \\nPANCREAS: Imaged portion of the pancreas appears within normal limits, without  \\nmasses or pancreatic ductal dilation, with portions of the pancreatic tail  \\nobscured by overlying bowel gas.  \\n \\nSPLEEN: Normal echogenicity, measuring 13.5 cm.  \\n \\nKIDNEYS: The right kidney measures 12.1 cm. The left kidney measures 13.4 cm.  \\nNormal cortical echogenicity and corticomedullary differentiation is seen  \\nbilaterally.  \\nRETROPERITONEUM: Visualized portions of aorta and IVC are within normal  \\nlimits.  \\n \\nIMPRESSION:  \\n \\n1. Nodular appearance of the liver compatible with cirrhosis. Signs of portal  \\nhypertension including small amount of ascites and splenomegaly.  \\n2.  Cholelithiasis.  \\n3.  Patent portal veins with normal hepatopetal flow.  \\n ', start_char_idx=None, end_char_idx=None, text_template='{metadata_str}\\n\\n{content}', metadata_template='{key}: {value}', metadata_seperator='\\n')]"
      ]
     },
     "execution_count": 7,
     "metadata": {},
     "output_type": "execute_result"
    }
   ],
   "source": [
    "documents = SimpleDirectoryReader(\"./data\").load_data()\n",
    "documents"
   ]
  },
  {
   "cell_type": "code",
   "execution_count": 8,
   "id": "9a6f067c-6751-45c3-b48b-90d0ace17d10",
   "metadata": {},
   "outputs": [],
   "source": [
    "system_prompt=\"\"\"\n",
    "You are a Q&A assistant. Your goal is to answer questions as\n",
    "accurately as possible based on the instructions and context provided.\n",
    "\"\"\"\n",
    "## Default format supportable by LLama2\n",
    "query_wrapper_prompt=SimpleInputPrompt(\"<|USER|>{query_str}<|ASSISTANT|>\")"
   ]
  },
  {
   "cell_type": "code",
   "execution_count": 9,
   "id": "e9eb2c7b-9f00-4417-b278-122df0798ef6",
   "metadata": {},
   "outputs": [
    {
     "name": "stdout",
     "output_type": "stream",
     "text": [
      "\n",
      "    _|    _|  _|    _|    _|_|_|    _|_|_|  _|_|_|  _|      _|    _|_|_|      _|_|_|_|    _|_|      _|_|_|  _|_|_|_|\n",
      "    _|    _|  _|    _|  _|        _|          _|    _|_|    _|  _|            _|        _|    _|  _|        _|\n",
      "    _|_|_|_|  _|    _|  _|  _|_|  _|  _|_|    _|    _|  _|  _|  _|  _|_|      _|_|_|    _|_|_|_|  _|        _|_|_|\n",
      "    _|    _|  _|    _|  _|    _|  _|    _|    _|    _|    _|_|  _|    _|      _|        _|    _|  _|        _|\n",
      "    _|    _|    _|_|      _|_|_|    _|_|_|  _|_|_|  _|      _|    _|_|_|      _|        _|    _|    _|_|_|  _|_|_|_|\n",
      "\n",
      "    A token is already saved on your machine. Run `huggingface-cli whoami` to get more information or `huggingface-cli logout` if you want to log out.\n",
      "    Setting a new token will erase the existing one.\n",
      "    To login, `huggingface_hub` requires a token generated from https://huggingface.co/settings/tokens .\n",
      "Add token as git credential? (Y/n) Token is valid (permission: read).\n",
      "\u001b[1m\u001b[31mCannot authenticate through git-credential as no helper is defined on your machine.\n",
      "You might have to re-authenticate when pushing to the Hugging Face Hub.\n",
      "Run the following command in your terminal in case you want to set the 'store' credential helper as default.\n",
      "\n",
      "git config --global credential.helper store\n",
      "\n",
      "Read https://git-scm.com/book/en/v2/Git-Tools-Credential-Storage for more details.\u001b[0m\n",
      "Token has not been saved to git credential helper.\n",
      "Your token has been saved to /home/ubuntu/.cache/huggingface/token\n",
      "Login successful\n",
      "\n",
      "/usr/lib/python3.9/getpass.py:91: GetPassWarning: Can not control echo on the terminal.\n",
      "  passwd = fallback_getpass(prompt, stream)\n",
      "Warning: Password input may be echoed.\n",
      "Token: \n",
      "\n"
     ]
    }
   ],
   "source": [
    "import subprocess\n",
    "from config import BHANU_HF_TOKEN\n",
    "\n",
    "# Replace 'your_token_here' with your actual Hugging Face token\n",
    "token = BHANU_HF_TOKEN\n",
    "input_text = f\"{token}\\nY\\n\"  # Combine token and 'Y' input\n",
    "\n",
    "# Run the Huggingface CLI login command\n",
    "process = subprocess.Popen(['huggingface-cli', 'login'], stdin=subprocess.PIPE, stdout=subprocess.PIPE, stderr=subprocess.PIPE)\n",
    "stdout, stderr = process.communicate(input_text.encode())\n",
    "\n",
    "# Print any output or error if necessary (optional)\n",
    "print(stdout.decode())\n",
    "print(stderr.decode())"
   ]
  },
  {
   "cell_type": "code",
   "execution_count": 10,
   "id": "db58501f-a229-4d21-8c18-89722cb2d22f",
   "metadata": {},
   "outputs": [
    {
     "name": "stdout",
     "output_type": "stream",
     "text": [
      "Requirement already satisfied: accelerate in /home/ubuntu/discharge_me/lib/python3.9/site-packages (0.29.3)\n",
      "Requirement already satisfied: numpy>=1.17 in /home/ubuntu/discharge_me/lib/python3.9/site-packages (from accelerate) (1.26.4)\n",
      "Requirement already satisfied: packaging>=20.0 in /home/ubuntu/discharge_me/lib/python3.9/site-packages (from accelerate) (23.2)\n",
      "Requirement already satisfied: psutil in /home/ubuntu/discharge_me/lib/python3.9/site-packages (from accelerate) (5.9.8)\n",
      "Requirement already satisfied: pyyaml in /home/ubuntu/discharge_me/lib/python3.9/site-packages (from accelerate) (6.0.1)\n",
      "Requirement already satisfied: torch>=1.10.0 in /home/ubuntu/discharge_me/lib/python3.9/site-packages (from accelerate) (2.3.0)\n",
      "Requirement already satisfied: huggingface-hub in /home/ubuntu/discharge_me/lib/python3.9/site-packages (from accelerate) (0.20.3)\n",
      "Requirement already satisfied: safetensors>=0.3.1 in /home/ubuntu/discharge_me/lib/python3.9/site-packages (from accelerate) (0.4.3)\n",
      "Requirement already satisfied: filelock in /home/ubuntu/discharge_me/lib/python3.9/site-packages (from torch>=1.10.0->accelerate) (3.13.4)\n",
      "Requirement already satisfied: typing-extensions>=4.8.0 in /home/ubuntu/discharge_me/lib/python3.9/site-packages (from torch>=1.10.0->accelerate) (4.11.0)\n",
      "Requirement already satisfied: sympy in /home/ubuntu/discharge_me/lib/python3.9/site-packages (from torch>=1.10.0->accelerate) (1.12)\n",
      "Requirement already satisfied: networkx in /home/ubuntu/discharge_me/lib/python3.9/site-packages (from torch>=1.10.0->accelerate) (3.2.1)\n",
      "Requirement already satisfied: jinja2 in /home/ubuntu/discharge_me/lib/python3.9/site-packages (from torch>=1.10.0->accelerate) (3.1.3)\n",
      "Requirement already satisfied: fsspec in /home/ubuntu/discharge_me/lib/python3.9/site-packages (from torch>=1.10.0->accelerate) (2024.3.1)\n",
      "Requirement already satisfied: nvidia-cuda-nvrtc-cu12==12.1.105 in /home/ubuntu/discharge_me/lib/python3.9/site-packages (from torch>=1.10.0->accelerate) (12.1.105)\n",
      "Requirement already satisfied: nvidia-cuda-runtime-cu12==12.1.105 in /home/ubuntu/discharge_me/lib/python3.9/site-packages (from torch>=1.10.0->accelerate) (12.1.105)\n",
      "Requirement already satisfied: nvidia-cuda-cupti-cu12==12.1.105 in /home/ubuntu/discharge_me/lib/python3.9/site-packages (from torch>=1.10.0->accelerate) (12.1.105)\n",
      "Requirement already satisfied: nvidia-cudnn-cu12==8.9.2.26 in /home/ubuntu/discharge_me/lib/python3.9/site-packages (from torch>=1.10.0->accelerate) (8.9.2.26)\n",
      "Requirement already satisfied: nvidia-cublas-cu12==12.1.3.1 in /home/ubuntu/discharge_me/lib/python3.9/site-packages (from torch>=1.10.0->accelerate) (12.1.3.1)\n",
      "Requirement already satisfied: nvidia-cufft-cu12==11.0.2.54 in /home/ubuntu/discharge_me/lib/python3.9/site-packages (from torch>=1.10.0->accelerate) (11.0.2.54)\n",
      "Requirement already satisfied: nvidia-curand-cu12==10.3.2.106 in /home/ubuntu/discharge_me/lib/python3.9/site-packages (from torch>=1.10.0->accelerate) (10.3.2.106)\n",
      "Requirement already satisfied: nvidia-cusolver-cu12==11.4.5.107 in /home/ubuntu/discharge_me/lib/python3.9/site-packages (from torch>=1.10.0->accelerate) (11.4.5.107)\n",
      "Requirement already satisfied: nvidia-cusparse-cu12==12.1.0.106 in /home/ubuntu/discharge_me/lib/python3.9/site-packages (from torch>=1.10.0->accelerate) (12.1.0.106)\n",
      "Requirement already satisfied: nvidia-nccl-cu12==2.20.5 in /home/ubuntu/discharge_me/lib/python3.9/site-packages (from torch>=1.10.0->accelerate) (2.20.5)\n",
      "Requirement already satisfied: nvidia-nvtx-cu12==12.1.105 in /home/ubuntu/discharge_me/lib/python3.9/site-packages (from torch>=1.10.0->accelerate) (12.1.105)\n",
      "Requirement already satisfied: triton==2.3.0 in /home/ubuntu/discharge_me/lib/python3.9/site-packages (from torch>=1.10.0->accelerate) (2.3.0)\n",
      "Requirement already satisfied: nvidia-nvjitlink-cu12 in /home/ubuntu/discharge_me/lib/python3.9/site-packages (from nvidia-cusolver-cu12==11.4.5.107->torch>=1.10.0->accelerate) (12.4.127)\n",
      "Requirement already satisfied: requests in /home/ubuntu/discharge_me/lib/python3.9/site-packages (from huggingface-hub->accelerate) (2.31.0)\n",
      "Requirement already satisfied: tqdm>=4.42.1 in /home/ubuntu/discharge_me/lib/python3.9/site-packages (from huggingface-hub->accelerate) (4.66.2)\n",
      "Requirement already satisfied: MarkupSafe>=2.0 in /home/ubuntu/discharge_me/lib/python3.9/site-packages (from jinja2->torch>=1.10.0->accelerate) (2.1.5)\n",
      "Requirement already satisfied: charset-normalizer<4,>=2 in /home/ubuntu/discharge_me/lib/python3.9/site-packages (from requests->huggingface-hub->accelerate) (3.3.2)\n",
      "Requirement already satisfied: idna<4,>=2.5 in /home/ubuntu/discharge_me/lib/python3.9/site-packages (from requests->huggingface-hub->accelerate) (3.7)\n",
      "Requirement already satisfied: urllib3<3,>=1.21.1 in /home/ubuntu/discharge_me/lib/python3.9/site-packages (from requests->huggingface-hub->accelerate) (2.2.1)\n",
      "Requirement already satisfied: certifi>=2017.4.17 in /home/ubuntu/discharge_me/lib/python3.9/site-packages (from requests->huggingface-hub->accelerate) (2024.2.2)\n",
      "Requirement already satisfied: mpmath>=0.19 in /home/ubuntu/discharge_me/lib/python3.9/site-packages (from sympy->torch>=1.10.0->accelerate) (1.3.0)\n",
      "Looking in indexes: https://pypi.org/simple/\n",
      "Requirement already satisfied: bitsandbytes in /home/ubuntu/discharge_me/lib/python3.9/site-packages (0.43.1)\n",
      "Requirement already satisfied: torch in /home/ubuntu/discharge_me/lib/python3.9/site-packages (from bitsandbytes) (2.3.0)\n",
      "Requirement already satisfied: numpy in /home/ubuntu/discharge_me/lib/python3.9/site-packages (from bitsandbytes) (1.26.4)\n",
      "Requirement already satisfied: filelock in /home/ubuntu/discharge_me/lib/python3.9/site-packages (from torch->bitsandbytes) (3.13.4)\n",
      "Requirement already satisfied: typing-extensions>=4.8.0 in /home/ubuntu/discharge_me/lib/python3.9/site-packages (from torch->bitsandbytes) (4.11.0)\n",
      "Requirement already satisfied: sympy in /home/ubuntu/discharge_me/lib/python3.9/site-packages (from torch->bitsandbytes) (1.12)\n",
      "Requirement already satisfied: networkx in /home/ubuntu/discharge_me/lib/python3.9/site-packages (from torch->bitsandbytes) (3.2.1)\n",
      "Requirement already satisfied: jinja2 in /home/ubuntu/discharge_me/lib/python3.9/site-packages (from torch->bitsandbytes) (3.1.3)\n",
      "Requirement already satisfied: fsspec in /home/ubuntu/discharge_me/lib/python3.9/site-packages (from torch->bitsandbytes) (2024.3.1)\n",
      "Requirement already satisfied: nvidia-cuda-nvrtc-cu12==12.1.105 in /home/ubuntu/discharge_me/lib/python3.9/site-packages (from torch->bitsandbytes) (12.1.105)\n",
      "Requirement already satisfied: nvidia-cuda-runtime-cu12==12.1.105 in /home/ubuntu/discharge_me/lib/python3.9/site-packages (from torch->bitsandbytes) (12.1.105)\n",
      "Requirement already satisfied: nvidia-cuda-cupti-cu12==12.1.105 in /home/ubuntu/discharge_me/lib/python3.9/site-packages (from torch->bitsandbytes) (12.1.105)\n",
      "Requirement already satisfied: nvidia-cudnn-cu12==8.9.2.26 in /home/ubuntu/discharge_me/lib/python3.9/site-packages (from torch->bitsandbytes) (8.9.2.26)\n",
      "Requirement already satisfied: nvidia-cublas-cu12==12.1.3.1 in /home/ubuntu/discharge_me/lib/python3.9/site-packages (from torch->bitsandbytes) (12.1.3.1)\n",
      "Requirement already satisfied: nvidia-cufft-cu12==11.0.2.54 in /home/ubuntu/discharge_me/lib/python3.9/site-packages (from torch->bitsandbytes) (11.0.2.54)\n",
      "Requirement already satisfied: nvidia-curand-cu12==10.3.2.106 in /home/ubuntu/discharge_me/lib/python3.9/site-packages (from torch->bitsandbytes) (10.3.2.106)\n",
      "Requirement already satisfied: nvidia-cusolver-cu12==11.4.5.107 in /home/ubuntu/discharge_me/lib/python3.9/site-packages (from torch->bitsandbytes) (11.4.5.107)\n",
      "Requirement already satisfied: nvidia-cusparse-cu12==12.1.0.106 in /home/ubuntu/discharge_me/lib/python3.9/site-packages (from torch->bitsandbytes) (12.1.0.106)\n",
      "Requirement already satisfied: nvidia-nccl-cu12==2.20.5 in /home/ubuntu/discharge_me/lib/python3.9/site-packages (from torch->bitsandbytes) (2.20.5)\n",
      "Requirement already satisfied: nvidia-nvtx-cu12==12.1.105 in /home/ubuntu/discharge_me/lib/python3.9/site-packages (from torch->bitsandbytes) (12.1.105)\n",
      "Requirement already satisfied: triton==2.3.0 in /home/ubuntu/discharge_me/lib/python3.9/site-packages (from torch->bitsandbytes) (2.3.0)\n",
      "Requirement already satisfied: nvidia-nvjitlink-cu12 in /home/ubuntu/discharge_me/lib/python3.9/site-packages (from nvidia-cusolver-cu12==11.4.5.107->torch->bitsandbytes) (12.4.127)\n",
      "Requirement already satisfied: MarkupSafe>=2.0 in /home/ubuntu/discharge_me/lib/python3.9/site-packages (from jinja2->torch->bitsandbytes) (2.1.5)\n",
      "Requirement already satisfied: mpmath>=0.19 in /home/ubuntu/discharge_me/lib/python3.9/site-packages (from sympy->torch->bitsandbytes) (1.3.0)\n"
     ]
    }
   ],
   "source": [
    "!pip install accelerate\n",
    "!pip install -i https://pypi.org/simple/ bitsandbytes"
   ]
  },
  {
   "cell_type": "code",
   "execution_count": 11,
   "id": "0bdd451e-60d3-4369-b731-06f4142157a3",
   "metadata": {},
   "outputs": [
    {
     "name": "stdout",
     "output_type": "stream",
     "text": [
      "Requirement already satisfied: llama-index-embeddings-huggingface in /home/ubuntu/discharge_me/lib/python3.9/site-packages (0.2.0)\n",
      "Requirement already satisfied: huggingface-hub>=0.19.0 in /home/ubuntu/discharge_me/lib/python3.9/site-packages (from huggingface-hub[inference]>=0.19.0->llama-index-embeddings-huggingface) (0.20.3)\n",
      "Requirement already satisfied: llama-index-core<0.11.0,>=0.10.1 in /home/ubuntu/discharge_me/lib/python3.9/site-packages (from llama-index-embeddings-huggingface) (0.10.33)\n",
      "Requirement already satisfied: sentence-transformers<3.0.0,>=2.6.1 in /home/ubuntu/discharge_me/lib/python3.9/site-packages (from llama-index-embeddings-huggingface) (2.7.0)\n",
      "Requirement already satisfied: filelock in /home/ubuntu/discharge_me/lib/python3.9/site-packages (from huggingface-hub>=0.19.0->huggingface-hub[inference]>=0.19.0->llama-index-embeddings-huggingface) (3.13.4)\n",
      "Requirement already satisfied: fsspec>=2023.5.0 in /home/ubuntu/discharge_me/lib/python3.9/site-packages (from huggingface-hub>=0.19.0->huggingface-hub[inference]>=0.19.0->llama-index-embeddings-huggingface) (2024.3.1)\n",
      "Requirement already satisfied: requests in /home/ubuntu/discharge_me/lib/python3.9/site-packages (from huggingface-hub>=0.19.0->huggingface-hub[inference]>=0.19.0->llama-index-embeddings-huggingface) (2.31.0)\n",
      "Requirement already satisfied: tqdm>=4.42.1 in /home/ubuntu/discharge_me/lib/python3.9/site-packages (from huggingface-hub>=0.19.0->huggingface-hub[inference]>=0.19.0->llama-index-embeddings-huggingface) (4.66.2)\n",
      "Requirement already satisfied: pyyaml>=5.1 in /home/ubuntu/discharge_me/lib/python3.9/site-packages (from huggingface-hub>=0.19.0->huggingface-hub[inference]>=0.19.0->llama-index-embeddings-huggingface) (6.0.1)\n",
      "Requirement already satisfied: typing-extensions>=3.7.4.3 in /home/ubuntu/discharge_me/lib/python3.9/site-packages (from huggingface-hub>=0.19.0->huggingface-hub[inference]>=0.19.0->llama-index-embeddings-huggingface) (4.11.0)\n",
      "Requirement already satisfied: packaging>=20.9 in /home/ubuntu/discharge_me/lib/python3.9/site-packages (from huggingface-hub>=0.19.0->huggingface-hub[inference]>=0.19.0->llama-index-embeddings-huggingface) (23.2)\n",
      "Requirement already satisfied: aiohttp in /home/ubuntu/discharge_me/lib/python3.9/site-packages (from huggingface-hub[inference]>=0.19.0->llama-index-embeddings-huggingface) (3.9.5)\n",
      "Requirement already satisfied: pydantic<3.0,>1.1 in /home/ubuntu/discharge_me/lib/python3.9/site-packages (from huggingface-hub[inference]>=0.19.0->llama-index-embeddings-huggingface) (2.7.1)\n",
      "Requirement already satisfied: SQLAlchemy>=1.4.49 in /home/ubuntu/discharge_me/lib/python3.9/site-packages (from SQLAlchemy[asyncio]>=1.4.49->llama-index-core<0.11.0,>=0.10.1->llama-index-embeddings-huggingface) (2.0.29)\n",
      "Requirement already satisfied: dataclasses-json in /home/ubuntu/discharge_me/lib/python3.9/site-packages (from llama-index-core<0.11.0,>=0.10.1->llama-index-embeddings-huggingface) (0.6.5)\n",
      "Requirement already satisfied: deprecated>=1.2.9.3 in /home/ubuntu/discharge_me/lib/python3.9/site-packages (from llama-index-core<0.11.0,>=0.10.1->llama-index-embeddings-huggingface) (1.2.14)\n",
      "Requirement already satisfied: dirtyjson<2.0.0,>=1.0.8 in /home/ubuntu/discharge_me/lib/python3.9/site-packages (from llama-index-core<0.11.0,>=0.10.1->llama-index-embeddings-huggingface) (1.0.8)\n",
      "Requirement already satisfied: httpx in /home/ubuntu/discharge_me/lib/python3.9/site-packages (from llama-index-core<0.11.0,>=0.10.1->llama-index-embeddings-huggingface) (0.27.0)\n",
      "Requirement already satisfied: llamaindex-py-client<0.2.0,>=0.1.18 in /home/ubuntu/discharge_me/lib/python3.9/site-packages (from llama-index-core<0.11.0,>=0.10.1->llama-index-embeddings-huggingface) (0.1.19)\n",
      "Requirement already satisfied: nest-asyncio<2.0.0,>=1.5.8 in /home/ubuntu/discharge_me/lib/python3.9/site-packages (from llama-index-core<0.11.0,>=0.10.1->llama-index-embeddings-huggingface) (1.6.0)\n",
      "Requirement already satisfied: networkx>=3.0 in /home/ubuntu/discharge_me/lib/python3.9/site-packages (from llama-index-core<0.11.0,>=0.10.1->llama-index-embeddings-huggingface) (3.2.1)\n",
      "Requirement already satisfied: nltk<4.0.0,>=3.8.1 in /home/ubuntu/discharge_me/lib/python3.9/site-packages (from llama-index-core<0.11.0,>=0.10.1->llama-index-embeddings-huggingface) (3.8.1)\n",
      "Requirement already satisfied: numpy in /home/ubuntu/discharge_me/lib/python3.9/site-packages (from llama-index-core<0.11.0,>=0.10.1->llama-index-embeddings-huggingface) (1.26.4)\n",
      "Requirement already satisfied: openai>=1.1.0 in /home/ubuntu/discharge_me/lib/python3.9/site-packages (from llama-index-core<0.11.0,>=0.10.1->llama-index-embeddings-huggingface) (1.25.0)\n",
      "Requirement already satisfied: pandas in /home/ubuntu/discharge_me/lib/python3.9/site-packages (from llama-index-core<0.11.0,>=0.10.1->llama-index-embeddings-huggingface) (2.2.2)\n",
      "Requirement already satisfied: pillow>=9.0.0 in /home/ubuntu/discharge_me/lib/python3.9/site-packages (from llama-index-core<0.11.0,>=0.10.1->llama-index-embeddings-huggingface) (10.3.0)\n",
      "Requirement already satisfied: tenacity<9.0.0,>=8.2.0 in /home/ubuntu/discharge_me/lib/python3.9/site-packages (from llama-index-core<0.11.0,>=0.10.1->llama-index-embeddings-huggingface) (8.2.3)\n",
      "Requirement already satisfied: tiktoken>=0.3.3 in /home/ubuntu/discharge_me/lib/python3.9/site-packages (from llama-index-core<0.11.0,>=0.10.1->llama-index-embeddings-huggingface) (0.6.0)\n",
      "Requirement already satisfied: typing-inspect>=0.8.0 in /home/ubuntu/discharge_me/lib/python3.9/site-packages (from llama-index-core<0.11.0,>=0.10.1->llama-index-embeddings-huggingface) (0.9.0)\n",
      "Requirement already satisfied: wrapt in /home/ubuntu/discharge_me/lib/python3.9/site-packages (from llama-index-core<0.11.0,>=0.10.1->llama-index-embeddings-huggingface) (1.16.0)\n",
      "Requirement already satisfied: transformers<5.0.0,>=4.34.0 in /home/ubuntu/discharge_me/lib/python3.9/site-packages (from sentence-transformers<3.0.0,>=2.6.1->llama-index-embeddings-huggingface) (4.40.1)\n",
      "Requirement already satisfied: torch>=1.11.0 in /home/ubuntu/discharge_me/lib/python3.9/site-packages (from sentence-transformers<3.0.0,>=2.6.1->llama-index-embeddings-huggingface) (2.3.0)\n",
      "Requirement already satisfied: scikit-learn in /home/ubuntu/discharge_me/lib/python3.9/site-packages (from sentence-transformers<3.0.0,>=2.6.1->llama-index-embeddings-huggingface) (1.4.2)\n",
      "Requirement already satisfied: scipy in /home/ubuntu/discharge_me/lib/python3.9/site-packages (from sentence-transformers<3.0.0,>=2.6.1->llama-index-embeddings-huggingface) (1.13.0)\n",
      "Requirement already satisfied: aiosignal>=1.1.2 in /home/ubuntu/discharge_me/lib/python3.9/site-packages (from aiohttp->huggingface-hub[inference]>=0.19.0->llama-index-embeddings-huggingface) (1.3.1)\n",
      "Requirement already satisfied: attrs>=17.3.0 in /home/ubuntu/discharge_me/lib/python3.9/site-packages (from aiohttp->huggingface-hub[inference]>=0.19.0->llama-index-embeddings-huggingface) (23.2.0)\n",
      "Requirement already satisfied: frozenlist>=1.1.1 in /home/ubuntu/discharge_me/lib/python3.9/site-packages (from aiohttp->huggingface-hub[inference]>=0.19.0->llama-index-embeddings-huggingface) (1.4.1)\n",
      "Requirement already satisfied: multidict<7.0,>=4.5 in /home/ubuntu/discharge_me/lib/python3.9/site-packages (from aiohttp->huggingface-hub[inference]>=0.19.0->llama-index-embeddings-huggingface) (6.0.5)\n",
      "Requirement already satisfied: yarl<2.0,>=1.0 in /home/ubuntu/discharge_me/lib/python3.9/site-packages (from aiohttp->huggingface-hub[inference]>=0.19.0->llama-index-embeddings-huggingface) (1.9.4)\n",
      "Requirement already satisfied: async-timeout<5.0,>=4.0 in /home/ubuntu/discharge_me/lib/python3.9/site-packages (from aiohttp->huggingface-hub[inference]>=0.19.0->llama-index-embeddings-huggingface) (4.0.3)\n",
      "Requirement already satisfied: anyio in /home/ubuntu/discharge_me/lib/python3.9/site-packages (from httpx->llama-index-core<0.11.0,>=0.10.1->llama-index-embeddings-huggingface) (4.3.0)\n",
      "Requirement already satisfied: certifi in /home/ubuntu/discharge_me/lib/python3.9/site-packages (from httpx->llama-index-core<0.11.0,>=0.10.1->llama-index-embeddings-huggingface) (2024.2.2)\n",
      "Requirement already satisfied: httpcore==1.* in /home/ubuntu/discharge_me/lib/python3.9/site-packages (from httpx->llama-index-core<0.11.0,>=0.10.1->llama-index-embeddings-huggingface) (1.0.5)\n",
      "Requirement already satisfied: idna in /home/ubuntu/discharge_me/lib/python3.9/site-packages (from httpx->llama-index-core<0.11.0,>=0.10.1->llama-index-embeddings-huggingface) (3.7)\n",
      "Requirement already satisfied: sniffio in /home/ubuntu/discharge_me/lib/python3.9/site-packages (from httpx->llama-index-core<0.11.0,>=0.10.1->llama-index-embeddings-huggingface) (1.3.1)\n",
      "Requirement already satisfied: h11<0.15,>=0.13 in /home/ubuntu/discharge_me/lib/python3.9/site-packages (from httpcore==1.*->httpx->llama-index-core<0.11.0,>=0.10.1->llama-index-embeddings-huggingface) (0.14.0)\n",
      "Requirement already satisfied: click in /home/ubuntu/discharge_me/lib/python3.9/site-packages (from nltk<4.0.0,>=3.8.1->llama-index-core<0.11.0,>=0.10.1->llama-index-embeddings-huggingface) (8.1.7)\n",
      "Requirement already satisfied: joblib in /home/ubuntu/discharge_me/lib/python3.9/site-packages (from nltk<4.0.0,>=3.8.1->llama-index-core<0.11.0,>=0.10.1->llama-index-embeddings-huggingface) (1.4.0)\n",
      "Requirement already satisfied: regex>=2021.8.3 in /home/ubuntu/discharge_me/lib/python3.9/site-packages (from nltk<4.0.0,>=3.8.1->llama-index-core<0.11.0,>=0.10.1->llama-index-embeddings-huggingface) (2024.4.16)\n",
      "Requirement already satisfied: distro<2,>=1.7.0 in /home/ubuntu/discharge_me/lib/python3.9/site-packages (from openai>=1.1.0->llama-index-core<0.11.0,>=0.10.1->llama-index-embeddings-huggingface) (1.9.0)\n",
      "Requirement already satisfied: annotated-types>=0.4.0 in /home/ubuntu/discharge_me/lib/python3.9/site-packages (from pydantic<3.0,>1.1->huggingface-hub[inference]>=0.19.0->llama-index-embeddings-huggingface) (0.6.0)\n",
      "Requirement already satisfied: pydantic-core==2.18.2 in /home/ubuntu/discharge_me/lib/python3.9/site-packages (from pydantic<3.0,>1.1->huggingface-hub[inference]>=0.19.0->llama-index-embeddings-huggingface) (2.18.2)\n",
      "Requirement already satisfied: charset-normalizer<4,>=2 in /home/ubuntu/discharge_me/lib/python3.9/site-packages (from requests->huggingface-hub>=0.19.0->huggingface-hub[inference]>=0.19.0->llama-index-embeddings-huggingface) (3.3.2)\n",
      "Requirement already satisfied: urllib3<3,>=1.21.1 in /home/ubuntu/discharge_me/lib/python3.9/site-packages (from requests->huggingface-hub>=0.19.0->huggingface-hub[inference]>=0.19.0->llama-index-embeddings-huggingface) (2.2.1)\n",
      "Requirement already satisfied: greenlet!=0.4.17 in /home/ubuntu/discharge_me/lib/python3.9/site-packages (from SQLAlchemy>=1.4.49->SQLAlchemy[asyncio]>=1.4.49->llama-index-core<0.11.0,>=0.10.1->llama-index-embeddings-huggingface) (3.0.3)\n",
      "Requirement already satisfied: sympy in /home/ubuntu/discharge_me/lib/python3.9/site-packages (from torch>=1.11.0->sentence-transformers<3.0.0,>=2.6.1->llama-index-embeddings-huggingface) (1.12)\n",
      "Requirement already satisfied: jinja2 in /home/ubuntu/discharge_me/lib/python3.9/site-packages (from torch>=1.11.0->sentence-transformers<3.0.0,>=2.6.1->llama-index-embeddings-huggingface) (3.1.3)\n",
      "Requirement already satisfied: nvidia-cuda-nvrtc-cu12==12.1.105 in /home/ubuntu/discharge_me/lib/python3.9/site-packages (from torch>=1.11.0->sentence-transformers<3.0.0,>=2.6.1->llama-index-embeddings-huggingface) (12.1.105)\n",
      "Requirement already satisfied: nvidia-cuda-runtime-cu12==12.1.105 in /home/ubuntu/discharge_me/lib/python3.9/site-packages (from torch>=1.11.0->sentence-transformers<3.0.0,>=2.6.1->llama-index-embeddings-huggingface) (12.1.105)\n",
      "Requirement already satisfied: nvidia-cuda-cupti-cu12==12.1.105 in /home/ubuntu/discharge_me/lib/python3.9/site-packages (from torch>=1.11.0->sentence-transformers<3.0.0,>=2.6.1->llama-index-embeddings-huggingface) (12.1.105)\n",
      "Requirement already satisfied: nvidia-cudnn-cu12==8.9.2.26 in /home/ubuntu/discharge_me/lib/python3.9/site-packages (from torch>=1.11.0->sentence-transformers<3.0.0,>=2.6.1->llama-index-embeddings-huggingface) (8.9.2.26)\n",
      "Requirement already satisfied: nvidia-cublas-cu12==12.1.3.1 in /home/ubuntu/discharge_me/lib/python3.9/site-packages (from torch>=1.11.0->sentence-transformers<3.0.0,>=2.6.1->llama-index-embeddings-huggingface) (12.1.3.1)\n",
      "Requirement already satisfied: nvidia-cufft-cu12==11.0.2.54 in /home/ubuntu/discharge_me/lib/python3.9/site-packages (from torch>=1.11.0->sentence-transformers<3.0.0,>=2.6.1->llama-index-embeddings-huggingface) (11.0.2.54)\n",
      "Requirement already satisfied: nvidia-curand-cu12==10.3.2.106 in /home/ubuntu/discharge_me/lib/python3.9/site-packages (from torch>=1.11.0->sentence-transformers<3.0.0,>=2.6.1->llama-index-embeddings-huggingface) (10.3.2.106)\n",
      "Requirement already satisfied: nvidia-cusolver-cu12==11.4.5.107 in /home/ubuntu/discharge_me/lib/python3.9/site-packages (from torch>=1.11.0->sentence-transformers<3.0.0,>=2.6.1->llama-index-embeddings-huggingface) (11.4.5.107)\n",
      "Requirement already satisfied: nvidia-cusparse-cu12==12.1.0.106 in /home/ubuntu/discharge_me/lib/python3.9/site-packages (from torch>=1.11.0->sentence-transformers<3.0.0,>=2.6.1->llama-index-embeddings-huggingface) (12.1.0.106)\n",
      "Requirement already satisfied: nvidia-nccl-cu12==2.20.5 in /home/ubuntu/discharge_me/lib/python3.9/site-packages (from torch>=1.11.0->sentence-transformers<3.0.0,>=2.6.1->llama-index-embeddings-huggingface) (2.20.5)\n",
      "Requirement already satisfied: nvidia-nvtx-cu12==12.1.105 in /home/ubuntu/discharge_me/lib/python3.9/site-packages (from torch>=1.11.0->sentence-transformers<3.0.0,>=2.6.1->llama-index-embeddings-huggingface) (12.1.105)\n",
      "Requirement already satisfied: triton==2.3.0 in /home/ubuntu/discharge_me/lib/python3.9/site-packages (from torch>=1.11.0->sentence-transformers<3.0.0,>=2.6.1->llama-index-embeddings-huggingface) (2.3.0)\n",
      "Requirement already satisfied: nvidia-nvjitlink-cu12 in /home/ubuntu/discharge_me/lib/python3.9/site-packages (from nvidia-cusolver-cu12==11.4.5.107->torch>=1.11.0->sentence-transformers<3.0.0,>=2.6.1->llama-index-embeddings-huggingface) (12.4.127)\n",
      "Requirement already satisfied: tokenizers<0.20,>=0.19 in /home/ubuntu/discharge_me/lib/python3.9/site-packages (from transformers<5.0.0,>=4.34.0->sentence-transformers<3.0.0,>=2.6.1->llama-index-embeddings-huggingface) (0.19.1)\n",
      "Requirement already satisfied: safetensors>=0.4.1 in /home/ubuntu/discharge_me/lib/python3.9/site-packages (from transformers<5.0.0,>=4.34.0->sentence-transformers<3.0.0,>=2.6.1->llama-index-embeddings-huggingface) (0.4.3)\n",
      "Requirement already satisfied: mypy-extensions>=0.3.0 in /home/ubuntu/discharge_me/lib/python3.9/site-packages (from typing-inspect>=0.8.0->llama-index-core<0.11.0,>=0.10.1->llama-index-embeddings-huggingface) (1.0.0)\n",
      "Requirement already satisfied: marshmallow<4.0.0,>=3.18.0 in /home/ubuntu/discharge_me/lib/python3.9/site-packages (from dataclasses-json->llama-index-core<0.11.0,>=0.10.1->llama-index-embeddings-huggingface) (3.21.1)\n",
      "Requirement already satisfied: python-dateutil>=2.8.2 in /home/ubuntu/discharge_me/lib/python3.9/site-packages (from pandas->llama-index-core<0.11.0,>=0.10.1->llama-index-embeddings-huggingface) (2.9.0.post0)\n",
      "Requirement already satisfied: pytz>=2020.1 in /home/ubuntu/discharge_me/lib/python3.9/site-packages (from pandas->llama-index-core<0.11.0,>=0.10.1->llama-index-embeddings-huggingface) (2024.1)\n",
      "Requirement already satisfied: tzdata>=2022.7 in /home/ubuntu/discharge_me/lib/python3.9/site-packages (from pandas->llama-index-core<0.11.0,>=0.10.1->llama-index-embeddings-huggingface) (2024.1)\n",
      "Requirement already satisfied: threadpoolctl>=2.0.0 in /home/ubuntu/discharge_me/lib/python3.9/site-packages (from scikit-learn->sentence-transformers<3.0.0,>=2.6.1->llama-index-embeddings-huggingface) (3.5.0)\n",
      "Requirement already satisfied: exceptiongroup>=1.0.2 in /home/ubuntu/discharge_me/lib/python3.9/site-packages (from anyio->httpx->llama-index-core<0.11.0,>=0.10.1->llama-index-embeddings-huggingface) (1.2.1)\n",
      "Requirement already satisfied: six>=1.5 in /home/ubuntu/discharge_me/lib/python3.9/site-packages (from python-dateutil>=2.8.2->pandas->llama-index-core<0.11.0,>=0.10.1->llama-index-embeddings-huggingface) (1.16.0)\n",
      "Requirement already satisfied: MarkupSafe>=2.0 in /home/ubuntu/discharge_me/lib/python3.9/site-packages (from jinja2->torch>=1.11.0->sentence-transformers<3.0.0,>=2.6.1->llama-index-embeddings-huggingface) (2.1.5)\n",
      "Requirement already satisfied: mpmath>=0.19 in /home/ubuntu/discharge_me/lib/python3.9/site-packages (from sympy->torch>=1.11.0->sentence-transformers<3.0.0,>=2.6.1->llama-index-embeddings-huggingface) (1.3.0)\n"
     ]
    }
   ],
   "source": [
    "!pip install llama-index-embeddings-huggingface"
   ]
  },
  {
   "cell_type": "code",
   "execution_count": 24,
   "id": "62d38705-fb95-462a-b14d-577811f92730",
   "metadata": {},
   "outputs": [
    {
     "name": "stderr",
     "output_type": "stream",
     "text": [
      "The `load_in_4bit` and `load_in_8bit` arguments are deprecated and will be removed in the future versions. Please, pass a `BitsAndBytesConfig` object in `quantization_config` argument instead.\n"
     ]
    },
    {
     "data": {
      "application/vnd.jupyter.widget-view+json": {
       "model_id": "14dab00550d540f8bed7b64fb9d83e69",
       "version_major": 2,
       "version_minor": 0
      },
      "text/plain": [
       "Loading checkpoint shards:   0%|          | 0/2 [00:00<?, ?it/s]"
      ]
     },
     "metadata": {},
     "output_type": "display_data"
    },
    {
     "name": "stderr",
     "output_type": "stream",
     "text": [
      "huggingface/tokenizers: The current process just got forked, after parallelism has already been used. Disabling parallelism to avoid deadlocks...\n",
      "To disable this warning, you can either:\n",
      "\t- Avoid using `tokenizers` before the fork if possible\n",
      "\t- Explicitly set the environment variable TOKENIZERS_PARALLELISM=(true | false)\n"
     ]
    }
   ],
   "source": [
    "import torch\n",
    "from llama_index.llms.huggingface import HuggingFaceLLM\n",
    "from transformers import BitsAndBytesConfig\n",
    "\n",
    "\n",
    "llm = HuggingFaceLLM(\n",
    "    context_window=4096,\n",
    "    max_new_tokens=256,\n",
    "    generate_kwargs={\"temperature\": 0.0, \"do_sample\": False},\n",
    "    system_prompt=system_prompt,\n",
    "    query_wrapper_prompt=query_wrapper_prompt,\n",
    "    tokenizer_name=\"meta-llama/Llama-2-7b-chat-hf\",\n",
    "    model_name=\"meta-llama/Llama-2-7b-chat-hf\",\n",
    "    device_map=\"auto\",\n",
    "    # uncomment this if using CUDA to reduce memory usage\n",
    "    model_kwargs={\"torch_dtype\": torch.float16 , \"load_in_8bit\":True}\n",
    ")"
   ]
  },
  {
   "cell_type": "code",
   "execution_count": 13,
   "id": "aeda5935-31bc-4300-8fac-2e802648fe5c",
   "metadata": {},
   "outputs": [
    {
     "name": "stdout",
     "output_type": "stream",
     "text": [
      "Requirement already satisfied: llama-index-embeddings-langchain in /home/ubuntu/discharge_me/lib/python3.9/site-packages (0.1.2)\n",
      "Requirement already satisfied: llama-index-core<0.11.0,>=0.10.1 in /home/ubuntu/discharge_me/lib/python3.9/site-packages (from llama-index-embeddings-langchain) (0.10.33)\n",
      "Requirement already satisfied: PyYAML>=6.0.1 in /home/ubuntu/discharge_me/lib/python3.9/site-packages (from llama-index-core<0.11.0,>=0.10.1->llama-index-embeddings-langchain) (6.0.1)\n",
      "Requirement already satisfied: SQLAlchemy>=1.4.49 in /home/ubuntu/discharge_me/lib/python3.9/site-packages (from SQLAlchemy[asyncio]>=1.4.49->llama-index-core<0.11.0,>=0.10.1->llama-index-embeddings-langchain) (2.0.29)\n",
      "Requirement already satisfied: aiohttp<4.0.0,>=3.8.6 in /home/ubuntu/discharge_me/lib/python3.9/site-packages (from llama-index-core<0.11.0,>=0.10.1->llama-index-embeddings-langchain) (3.9.5)\n",
      "Requirement already satisfied: dataclasses-json in /home/ubuntu/discharge_me/lib/python3.9/site-packages (from llama-index-core<0.11.0,>=0.10.1->llama-index-embeddings-langchain) (0.6.5)\n",
      "Requirement already satisfied: deprecated>=1.2.9.3 in /home/ubuntu/discharge_me/lib/python3.9/site-packages (from llama-index-core<0.11.0,>=0.10.1->llama-index-embeddings-langchain) (1.2.14)\n",
      "Requirement already satisfied: dirtyjson<2.0.0,>=1.0.8 in /home/ubuntu/discharge_me/lib/python3.9/site-packages (from llama-index-core<0.11.0,>=0.10.1->llama-index-embeddings-langchain) (1.0.8)\n",
      "Requirement already satisfied: fsspec>=2023.5.0 in /home/ubuntu/discharge_me/lib/python3.9/site-packages (from llama-index-core<0.11.0,>=0.10.1->llama-index-embeddings-langchain) (2024.3.1)\n",
      "Requirement already satisfied: httpx in /home/ubuntu/discharge_me/lib/python3.9/site-packages (from llama-index-core<0.11.0,>=0.10.1->llama-index-embeddings-langchain) (0.27.0)\n",
      "Requirement already satisfied: llamaindex-py-client<0.2.0,>=0.1.18 in /home/ubuntu/discharge_me/lib/python3.9/site-packages (from llama-index-core<0.11.0,>=0.10.1->llama-index-embeddings-langchain) (0.1.19)\n",
      "Requirement already satisfied: nest-asyncio<2.0.0,>=1.5.8 in /home/ubuntu/discharge_me/lib/python3.9/site-packages (from llama-index-core<0.11.0,>=0.10.1->llama-index-embeddings-langchain) (1.6.0)\n",
      "Requirement already satisfied: networkx>=3.0 in /home/ubuntu/discharge_me/lib/python3.9/site-packages (from llama-index-core<0.11.0,>=0.10.1->llama-index-embeddings-langchain) (3.2.1)\n",
      "Requirement already satisfied: nltk<4.0.0,>=3.8.1 in /home/ubuntu/discharge_me/lib/python3.9/site-packages (from llama-index-core<0.11.0,>=0.10.1->llama-index-embeddings-langchain) (3.8.1)\n",
      "Requirement already satisfied: numpy in /home/ubuntu/discharge_me/lib/python3.9/site-packages (from llama-index-core<0.11.0,>=0.10.1->llama-index-embeddings-langchain) (1.26.4)\n",
      "Requirement already satisfied: openai>=1.1.0 in /home/ubuntu/discharge_me/lib/python3.9/site-packages (from llama-index-core<0.11.0,>=0.10.1->llama-index-embeddings-langchain) (1.25.0)\n",
      "Requirement already satisfied: pandas in /home/ubuntu/discharge_me/lib/python3.9/site-packages (from llama-index-core<0.11.0,>=0.10.1->llama-index-embeddings-langchain) (2.2.2)\n",
      "Requirement already satisfied: pillow>=9.0.0 in /home/ubuntu/discharge_me/lib/python3.9/site-packages (from llama-index-core<0.11.0,>=0.10.1->llama-index-embeddings-langchain) (10.3.0)\n",
      "Requirement already satisfied: requests>=2.31.0 in /home/ubuntu/discharge_me/lib/python3.9/site-packages (from llama-index-core<0.11.0,>=0.10.1->llama-index-embeddings-langchain) (2.31.0)\n",
      "Requirement already satisfied: tenacity<9.0.0,>=8.2.0 in /home/ubuntu/discharge_me/lib/python3.9/site-packages (from llama-index-core<0.11.0,>=0.10.1->llama-index-embeddings-langchain) (8.2.3)\n",
      "Requirement already satisfied: tiktoken>=0.3.3 in /home/ubuntu/discharge_me/lib/python3.9/site-packages (from llama-index-core<0.11.0,>=0.10.1->llama-index-embeddings-langchain) (0.6.0)\n",
      "Requirement already satisfied: tqdm<5.0.0,>=4.66.1 in /home/ubuntu/discharge_me/lib/python3.9/site-packages (from llama-index-core<0.11.0,>=0.10.1->llama-index-embeddings-langchain) (4.66.2)\n",
      "Requirement already satisfied: typing-extensions>=4.5.0 in /home/ubuntu/discharge_me/lib/python3.9/site-packages (from llama-index-core<0.11.0,>=0.10.1->llama-index-embeddings-langchain) (4.11.0)\n",
      "Requirement already satisfied: typing-inspect>=0.8.0 in /home/ubuntu/discharge_me/lib/python3.9/site-packages (from llama-index-core<0.11.0,>=0.10.1->llama-index-embeddings-langchain) (0.9.0)\n",
      "Requirement already satisfied: wrapt in /home/ubuntu/discharge_me/lib/python3.9/site-packages (from llama-index-core<0.11.0,>=0.10.1->llama-index-embeddings-langchain) (1.16.0)\n",
      "Requirement already satisfied: aiosignal>=1.1.2 in /home/ubuntu/discharge_me/lib/python3.9/site-packages (from aiohttp<4.0.0,>=3.8.6->llama-index-core<0.11.0,>=0.10.1->llama-index-embeddings-langchain) (1.3.1)\n",
      "Requirement already satisfied: attrs>=17.3.0 in /home/ubuntu/discharge_me/lib/python3.9/site-packages (from aiohttp<4.0.0,>=3.8.6->llama-index-core<0.11.0,>=0.10.1->llama-index-embeddings-langchain) (23.2.0)\n",
      "Requirement already satisfied: frozenlist>=1.1.1 in /home/ubuntu/discharge_me/lib/python3.9/site-packages (from aiohttp<4.0.0,>=3.8.6->llama-index-core<0.11.0,>=0.10.1->llama-index-embeddings-langchain) (1.4.1)\n",
      "Requirement already satisfied: multidict<7.0,>=4.5 in /home/ubuntu/discharge_me/lib/python3.9/site-packages (from aiohttp<4.0.0,>=3.8.6->llama-index-core<0.11.0,>=0.10.1->llama-index-embeddings-langchain) (6.0.5)\n",
      "Requirement already satisfied: yarl<2.0,>=1.0 in /home/ubuntu/discharge_me/lib/python3.9/site-packages (from aiohttp<4.0.0,>=3.8.6->llama-index-core<0.11.0,>=0.10.1->llama-index-embeddings-langchain) (1.9.4)\n",
      "Requirement already satisfied: async-timeout<5.0,>=4.0 in /home/ubuntu/discharge_me/lib/python3.9/site-packages (from aiohttp<4.0.0,>=3.8.6->llama-index-core<0.11.0,>=0.10.1->llama-index-embeddings-langchain) (4.0.3)\n",
      "Requirement already satisfied: pydantic>=1.10 in /home/ubuntu/discharge_me/lib/python3.9/site-packages (from llamaindex-py-client<0.2.0,>=0.1.18->llama-index-core<0.11.0,>=0.10.1->llama-index-embeddings-langchain) (2.7.1)\n",
      "Requirement already satisfied: anyio in /home/ubuntu/discharge_me/lib/python3.9/site-packages (from httpx->llama-index-core<0.11.0,>=0.10.1->llama-index-embeddings-langchain) (4.3.0)\n",
      "Requirement already satisfied: certifi in /home/ubuntu/discharge_me/lib/python3.9/site-packages (from httpx->llama-index-core<0.11.0,>=0.10.1->llama-index-embeddings-langchain) (2024.2.2)\n",
      "Requirement already satisfied: httpcore==1.* in /home/ubuntu/discharge_me/lib/python3.9/site-packages (from httpx->llama-index-core<0.11.0,>=0.10.1->llama-index-embeddings-langchain) (1.0.5)\n",
      "Requirement already satisfied: idna in /home/ubuntu/discharge_me/lib/python3.9/site-packages (from httpx->llama-index-core<0.11.0,>=0.10.1->llama-index-embeddings-langchain) (3.7)\n",
      "Requirement already satisfied: sniffio in /home/ubuntu/discharge_me/lib/python3.9/site-packages (from httpx->llama-index-core<0.11.0,>=0.10.1->llama-index-embeddings-langchain) (1.3.1)\n",
      "Requirement already satisfied: h11<0.15,>=0.13 in /home/ubuntu/discharge_me/lib/python3.9/site-packages (from httpcore==1.*->httpx->llama-index-core<0.11.0,>=0.10.1->llama-index-embeddings-langchain) (0.14.0)\n",
      "Requirement already satisfied: click in /home/ubuntu/discharge_me/lib/python3.9/site-packages (from nltk<4.0.0,>=3.8.1->llama-index-core<0.11.0,>=0.10.1->llama-index-embeddings-langchain) (8.1.7)\n",
      "Requirement already satisfied: joblib in /home/ubuntu/discharge_me/lib/python3.9/site-packages (from nltk<4.0.0,>=3.8.1->llama-index-core<0.11.0,>=0.10.1->llama-index-embeddings-langchain) (1.4.0)\n",
      "Requirement already satisfied: regex>=2021.8.3 in /home/ubuntu/discharge_me/lib/python3.9/site-packages (from nltk<4.0.0,>=3.8.1->llama-index-core<0.11.0,>=0.10.1->llama-index-embeddings-langchain) (2024.4.16)\n",
      "Requirement already satisfied: distro<2,>=1.7.0 in /home/ubuntu/discharge_me/lib/python3.9/site-packages (from openai>=1.1.0->llama-index-core<0.11.0,>=0.10.1->llama-index-embeddings-langchain) (1.9.0)\n",
      "Requirement already satisfied: charset-normalizer<4,>=2 in /home/ubuntu/discharge_me/lib/python3.9/site-packages (from requests>=2.31.0->llama-index-core<0.11.0,>=0.10.1->llama-index-embeddings-langchain) (3.3.2)\n",
      "Requirement already satisfied: urllib3<3,>=1.21.1 in /home/ubuntu/discharge_me/lib/python3.9/site-packages (from requests>=2.31.0->llama-index-core<0.11.0,>=0.10.1->llama-index-embeddings-langchain) (2.2.1)\n",
      "Requirement already satisfied: greenlet!=0.4.17 in /home/ubuntu/discharge_me/lib/python3.9/site-packages (from SQLAlchemy>=1.4.49->SQLAlchemy[asyncio]>=1.4.49->llama-index-core<0.11.0,>=0.10.1->llama-index-embeddings-langchain) (3.0.3)\n",
      "Requirement already satisfied: mypy-extensions>=0.3.0 in /home/ubuntu/discharge_me/lib/python3.9/site-packages (from typing-inspect>=0.8.0->llama-index-core<0.11.0,>=0.10.1->llama-index-embeddings-langchain) (1.0.0)\n",
      "Requirement already satisfied: marshmallow<4.0.0,>=3.18.0 in /home/ubuntu/discharge_me/lib/python3.9/site-packages (from dataclasses-json->llama-index-core<0.11.0,>=0.10.1->llama-index-embeddings-langchain) (3.21.1)\n",
      "Requirement already satisfied: python-dateutil>=2.8.2 in /home/ubuntu/discharge_me/lib/python3.9/site-packages (from pandas->llama-index-core<0.11.0,>=0.10.1->llama-index-embeddings-langchain) (2.9.0.post0)\n",
      "Requirement already satisfied: pytz>=2020.1 in /home/ubuntu/discharge_me/lib/python3.9/site-packages (from pandas->llama-index-core<0.11.0,>=0.10.1->llama-index-embeddings-langchain) (2024.1)\n",
      "Requirement already satisfied: tzdata>=2022.7 in /home/ubuntu/discharge_me/lib/python3.9/site-packages (from pandas->llama-index-core<0.11.0,>=0.10.1->llama-index-embeddings-langchain) (2024.1)\n",
      "Requirement already satisfied: exceptiongroup>=1.0.2 in /home/ubuntu/discharge_me/lib/python3.9/site-packages (from anyio->httpx->llama-index-core<0.11.0,>=0.10.1->llama-index-embeddings-langchain) (1.2.1)\n",
      "Requirement already satisfied: packaging>=17.0 in /home/ubuntu/discharge_me/lib/python3.9/site-packages (from marshmallow<4.0.0,>=3.18.0->dataclasses-json->llama-index-core<0.11.0,>=0.10.1->llama-index-embeddings-langchain) (23.2)\n",
      "Requirement already satisfied: annotated-types>=0.4.0 in /home/ubuntu/discharge_me/lib/python3.9/site-packages (from pydantic>=1.10->llamaindex-py-client<0.2.0,>=0.1.18->llama-index-core<0.11.0,>=0.10.1->llama-index-embeddings-langchain) (0.6.0)\n",
      "Requirement already satisfied: pydantic-core==2.18.2 in /home/ubuntu/discharge_me/lib/python3.9/site-packages (from pydantic>=1.10->llamaindex-py-client<0.2.0,>=0.1.18->llama-index-core<0.11.0,>=0.10.1->llama-index-embeddings-langchain) (2.18.2)\n",
      "Requirement already satisfied: six>=1.5 in /home/ubuntu/discharge_me/lib/python3.9/site-packages (from python-dateutil>=2.8.2->pandas->llama-index-core<0.11.0,>=0.10.1->llama-index-embeddings-langchain) (1.16.0)\n"
     ]
    }
   ],
   "source": [
    "!pip install llama-index-embeddings-langchain"
   ]
  },
  {
   "cell_type": "code",
   "execution_count": 25,
   "id": "a86ec5f9-8e9c-402a-a0d7-6cc4fc1f8b23",
   "metadata": {},
   "outputs": [],
   "source": [
    "from langchain.embeddings.huggingface import HuggingFaceEmbeddings\n",
    "from llama_index.core import ServiceContext\n",
    "from llama_index.embeddings.langchain import LangchainEmbedding\n",
    "\n",
    "embed_model=LangchainEmbedding(\n",
    "    HuggingFaceEmbeddings(model_name=\"sentence-transformers/all-mpnet-base-v2\"))"
   ]
  },
  {
   "cell_type": "code",
   "execution_count": 26,
   "id": "a366d5e2-9ed3-4854-b841-24f3478d6174",
   "metadata": {},
   "outputs": [
    {
     "name": "stderr",
     "output_type": "stream",
     "text": [
      "/tmp/ipykernel_58014/2250285859.py:1: DeprecationWarning: Call to deprecated class method from_defaults. (ServiceContext is deprecated, please use `llama_index.settings.Settings` instead.) -- Deprecated since version 0.10.0.\n",
      "  service_context=ServiceContext.from_defaults(\n"
     ]
    }
   ],
   "source": [
    "service_context=ServiceContext.from_defaults(\n",
    "    chunk_size=1024,\n",
    "    llm=llm,\n",
    "    embed_model=embed_model\n",
    ")"
   ]
  },
  {
   "cell_type": "code",
   "execution_count": 27,
   "id": "db298624-f650-4e64-865c-0cc52aa30c4f",
   "metadata": {},
   "outputs": [
    {
     "data": {
      "text/plain": [
       "ServiceContext(llm_predictor=LLMPredictor(system_prompt=None, query_wrapper_prompt=None, pydantic_program_mode=<PydanticProgramMode.DEFAULT: 'default'>), prompt_helper=PromptHelper(context_window=4096, num_output=256, chunk_overlap_ratio=0.1, chunk_size_limit=None, separator=' '), embed_model=LangchainEmbedding(model_name='sentence-transformers/all-mpnet-base-v2', embed_batch_size=10, callback_manager=<llama_index.core.callbacks.base.CallbackManager object at 0x7f220fbaa4f0>, num_workers=None), transformations=[SentenceSplitter(include_metadata=True, include_prev_next_rel=True, callback_manager=<llama_index.core.callbacks.base.CallbackManager object at 0x7f220fbaa4f0>, id_func=<function default_id_func at 0x7f217a3d8550>, chunk_size=1024, chunk_overlap=200, separator=' ', paragraph_separator='\\n\\n\\n', secondary_chunking_regex='[^,.;。？！]+[,.;。？！]?')], llama_logger=<llama_index.core.service_context_elements.llama_logger.LlamaLogger object at 0x7f229a561970>, callback_manager=<llama_index.core.callbacks.base.CallbackManager object at 0x7f220fbaa4f0>)"
      ]
     },
     "execution_count": 27,
     "metadata": {},
     "output_type": "execute_result"
    }
   ],
   "source": [
    "service_context"
   ]
  },
  {
   "cell_type": "code",
   "execution_count": 28,
   "id": "9883cbd0-a38d-45ec-9f9e-0f681bf79ec7",
   "metadata": {},
   "outputs": [],
   "source": [
    "index = VectorStoreIndex.from_documents(documents, service_context=service_context)"
   ]
  },
  {
   "cell_type": "code",
   "execution_count": 29,
   "id": "d8e37389-1808-4544-a076-4aeffffbaeae",
   "metadata": {},
   "outputs": [
    {
     "data": {
      "text/plain": [
       "<llama_index.core.indices.vector_store.base.VectorStoreIndex at 0x7f222b315460>"
      ]
     },
     "execution_count": 29,
     "metadata": {},
     "output_type": "execute_result"
    }
   ],
   "source": [
    "index"
   ]
  },
  {
   "cell_type": "code",
   "execution_count": 30,
   "id": "5a847c37-13e1-40c8-ab20-1ab005f6ed85",
   "metadata": {},
   "outputs": [],
   "source": [
    "query_engine=index.as_query_engine()"
   ]
  },
  {
   "cell_type": "code",
   "execution_count": 31,
   "id": "fddfa2ef-3186-404e-a017-24e8be1be3f8",
   "metadata": {},
   "outputs": [
    {
     "name": "stderr",
     "output_type": "stream",
     "text": [
      "/home/ubuntu/discharge_me/lib/python3.9/site-packages/transformers/generation/configuration_utils.py:492: UserWarning: `do_sample` is set to `False`. However, `temperature` is set to `0.0` -- this flag is only used in sample-based generation modes. You should set `do_sample=True` or unset `temperature`.\n",
      "  warnings.warn(\n",
      "/home/ubuntu/discharge_me/lib/python3.9/site-packages/transformers/generation/configuration_utils.py:497: UserWarning: `do_sample` is set to `False`. However, `top_p` is set to `0.9` -- this flag is only used in sample-based generation modes. You should set `do_sample=True` or unset `top_p`.\n",
      "  warnings.warn(\n"
     ]
    },
    {
     "name": "stdout",
     "output_type": "stream",
     "text": [
      "The Chief complaint (CC) is \"Worsening ABD distension and pain\".\n"
     ]
    }
   ],
   "source": [
    "response=query_engine.query(\"what is the Chief complaint(CC)?\")\n",
    "print(response)"
   ]
  },
  {
   "cell_type": "code",
   "execution_count": 32,
   "id": "43c9bf1d-9e4b-4875-a428-df3de92f007a",
   "metadata": {},
   "outputs": [
    {
     "name": "stdout",
     "output_type": "stream",
     "text": [
      "Sure, I'd be happy to help you with that! Here's a Brief Hospital Course section for a discharge summary note based on the information provided:\n",
      "\n",
      "Brief Hospital Course:\n",
      "\n",
      "The patient was admitted to the hospital for ascites due to portal hypertension. Upon admission, the patient was found to have a distended abdomen with mild diffuse tenderness, and there was no palpable liver edge. The patient was started on furosemide 40 mg orally daily, spironolactone 50 mg orally daily, and albuterol inhaler 2 puffs i.h. q4h-prn wheezing/soB. The patient's vital signs were within normal limits, and the patient was alert and interactive.\n",
      "\n",
      "During the hospital stay, the patient's ascites improved significantly, and the patient was able to ambulate independently. The patient's mental status remained clear and coherent, and the patient was able to converse normally. The patient's neurological examination also remained intact, with no evidence of cerebellar or extrapy\n"
     ]
    }
   ],
   "source": [
    "response=query_engine.query(\"Generate a Brief Hospital Course section for a discharge summary note.\")\n",
    "print(response)"
   ]
  },
  {
   "cell_type": "code",
   "execution_count": 33,
   "id": "0964146d-e8ee-447a-a61d-b407b005ac33",
   "metadata": {},
   "outputs": [
    {
     "name": "stdout",
     "output_type": "stream",
     "text": [
      "The patient was admitted to the hospital after presenting with worsening abdominal distension and pain, which was likely caused by ascites due to cirrhosis and HCV infection. The patient's history of MEDICINE and IVDU may have contributed to the development of ascites, and her recent discontinuation of Lasix and spirnolactone may have exacerbated the condition.\n"
     ]
    }
   ],
   "source": [
    "response=query_engine.query(\"Summarize in 1-2 sentences why the patient admitted to the hospital. E.g. This patient with a history of MI, AAA, COPD, and hypertension was admitted to the hospital after presenting with chest pain.\")\n",
    "print(response)"
   ]
  },
  {
   "cell_type": "code",
   "execution_count": 34,
   "id": "4b85cc67-e49c-469f-bbab-7919070d984a",
   "metadata": {},
   "outputs": [
    {
     "name": "stdout",
     "output_type": "stream",
     "text": [
      "The treatments in the emergency room were:\n",
      "\n",
      "1. Albuterol Inhaler 2 PUFF IH Q4H:PRN wheezing, SOB\n",
      "2. Emtricitabine -Tenofovir (Truvada) 1 TAB PO DAILY\n",
      "3. Furosemide 40 mg PO DAILY\n",
      "4. Ipratropium Bromide Neb 1 NEB IH Q6H SOB\n",
      "5. Nicotine Patch 14 mg TD DAILY\n",
      "\n",
      "Note: The information provided is based on the context information given and should not be considered as medical advice.\n"
     ]
    }
   ],
   "source": [
    "response=query_engine.query(\"What were the treatments in the emergency room?\")\n",
    "print(response)"
   ]
  },
  {
   "cell_type": "code",
   "execution_count": null,
   "id": "516b9fa2-8bb3-4e07-bcef-a63826aa619d",
   "metadata": {},
   "outputs": [],
   "source": []
  }
 ],
 "metadata": {
  "kernelspec": {
   "display_name": "Python 3 (ipykernel)",
   "language": "python",
   "name": "python3"
  },
  "language_info": {
   "codemirror_mode": {
    "name": "ipython",
    "version": 3
   },
   "file_extension": ".py",
   "mimetype": "text/x-python",
   "name": "python",
   "nbconvert_exporter": "python",
   "pygments_lexer": "ipython3",
   "version": "3.9.12"
  }
 },
 "nbformat": 4,
 "nbformat_minor": 5
}
