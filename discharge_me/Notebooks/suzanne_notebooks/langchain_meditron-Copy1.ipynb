{
 "cells": [
  {
   "cell_type": "code",
   "execution_count": null,
   "id": "2bc9378b-aa4a-480f-a08a-4a0177fa793f",
   "metadata": {},
   "outputs": [],
   "source": [
    "# !pip install langchain-community langchain-openai langchain-chroma langchain langchain-huggingface "
   ]
  },
  {
   "cell_type": "code",
   "execution_count": 1,
   "id": "55152de9-756b-4bfd-b609-01a36875c8d8",
   "metadata": {},
   "outputs": [
    {
     "name": "stderr",
     "output_type": "stream",
     "text": [
      "/home/s.wendelken/.conda/envs/ehr-env/lib/python3.11/site-packages/tqdm/auto.py:21: TqdmWarning: IProgress not found. Please update jupyter and ipywidgets. See https://ipywidgets.readthedocs.io/en/stable/user_install.html\n",
      "  from .autonotebook import tqdm as notebook_tqdm\n"
     ]
    }
   ],
   "source": [
    "from langchain_community.document_loaders import DirectoryLoader,TextLoader\n",
    "from langchain_openai import ChatOpenAI, OpenAIEmbeddings\n",
    "from langchain_chroma import Chroma\n",
    "from langchain.prompts import PromptTemplate\n",
    "from langchain.chains.combine_documents import create_stuff_documents_chain\n",
    "from langchain.chains import create_retrieval_chain\n",
    "# from langchain_huggingface.llms import HuggingFacePipeline\n",
    "# from transformers import AutoModelForCausalLM, AutoTokenizer, pipeline\n",
    "from langchain_google_genai import ChatGoogleGenerativeAI\n",
    "# from langchain_groq import ChatGroq\n",
    "import os"
   ]
  },
  {
   "cell_type": "code",
   "execution_count": 2,
   "id": "e21c6cf3-4d03-426e-bd0c-a51bfae67a91",
   "metadata": {},
   "outputs": [],
   "source": [
    "path = \"./data/\"\n",
    "loader = DirectoryLoader(path, glob=\"*.txt\", loader_cls=TextLoader)\n",
    "docs = loader.load()"
   ]
  },
  {
   "cell_type": "code",
   "execution_count": 3,
   "id": "65a45b71-ceb3-4307-a887-db63c2289818",
   "metadata": {},
   "outputs": [],
   "source": [
    "from config import OPENAI_API_KEY\n",
    "os.environ[\"OPENAI_API_KEY\"] = OPENAI_API_KEY #smw_personal open ai\""
   ]
  },
  {
   "cell_type": "code",
   "execution_count": 5,
   "id": "89e01cf4-3c63-49a6-98e0-13a7b39058c1",
   "metadata": {},
   "outputs": [],
   "source": [
    "embeddings = OpenAIEmbeddings()\n",
    "vectorstore = Chroma.from_documents(docs, embeddings)\n",
    "retriever = vectorstore.as_retriever(search_kwargs={\"k\": 1})"
   ]
  },
  {
   "cell_type": "code",
   "execution_count": 6,
   "id": "62642d0b-2942-4aa1-aa54-3d5079b83e6d",
   "metadata": {},
   "outputs": [],
   "source": [
    "from config import GOOGLE_API_KEY\n",
    "os.environ['GOOGLE_API_KEY'] = GOOGLE_API_KEY # smw personal "
   ]
  },
  {
   "cell_type": "code",
   "execution_count": 7,
   "id": "6753bbbc-d80c-42fe-a43e-2fb5cf53a007",
   "metadata": {},
   "outputs": [],
   "source": [
    "def generate_response(retriever, query):\n",
    "\n",
    "    try:\n",
    "        # llm = ChatGoogleGenerativeAI(model=\"gemini-pro\")\n",
    "        llm = ChatOpenAI(model=\"gpt-4\")\n",
    "        # llm =chat\n",
    "#         llm = HuggingFacePipeline.from_model_id(\n",
    "#     model_id=\"epfl-llm/meditron-7b\",\n",
    "#     task=\"text-generation\",\n",
    "# )\n",
    "        template = \"\"\"\n",
    "            You are a helpful Medical AI assistant. Answer the question based on the context provided. Respond only if the answer is in the context.\n",
    "            If the answer is not in the context then respond, Cannot answer the question.\n",
    "            Stick to the context while answering and be concise.\n",
    "            context: {context}\n",
    "            question: {input}\n",
    "            answer:\n",
    "            \"\"\"\n",
    "        prompt = PromptTemplate.from_template(template)\n",
    "        combine_docs_chain = create_stuff_documents_chain(llm, prompt)\n",
    "        retrieval_chain = create_retrieval_chain(retriever, combine_docs_chain)\n",
    "        response = retrieval_chain.invoke({\"input\": query})\n",
    "        # print(response[\"answer\"])\n",
    "        return response[\"answer\"]\n",
    "    except Exception as e:\n",
    "        print(f\"An error occurred while generating the response: {e}\")\n",
    "        return None"
   ]
  },
  {
   "cell_type": "code",
   "execution_count": 8,
   "id": "d2a9df09-b6fe-44e6-8979-02a8446abf5c",
   "metadata": {},
   "outputs": [],
   "source": [
    "# questions = [\n",
    "# \"Given the History of Present Illness, What is the relevant past medical history?\",\n",
    "# \"Given the HPI, chief complaint, and initial ICD diagnosis, Why was the patient admitted to the hospital? What symptoms, medical condition, or other reason caused the patient to come to or be brought into the hospital?\",\n",
    "# \"Based on the admission medication list, what other existing or ongoing medical conditions did the patient have?\",\n",
    "# \"Given the history of present illness, admission and discharge diagnosis, What medical conditions or symptoms was this patient treated for in the hospital?\",\n",
    "# \"given the history of present illness, What was the initial treatment course?\",\n",
    "# \"Given the History of Present illness, What was the initial diagnostic work up and pertinent results?\",\n",
    "# \"Given the radiology notes, What radiology, imaging or other studies that were performed and for what inducation? Summarize the impressions from each study. Make a table of Imaging study, indication, and impression.\"\n",
    "# ]\n",
    "\n",
    "# questions = [\"Find the History of Present Illness Section.  Summarize why the patient was admitted to the hospital, the relevant past medical history, and the events in this section.\"]\n",
    "\n",
    "# questions = [\"Find the admission and discharge medication lists.  What medications were changed? What medications were new?\"]\n",
    "\n",
    "questions = [\"Find and summarize the treatments that were administered to the patient\"]\n",
    "\n",
    "# questions = [\"List the pertinent radiological and imaging results and summarize the impressions\"]"
   ]
  },
  {
   "cell_type": "code",
   "execution_count": 9,
   "id": "5e251756-7ff2-4596-a6df-9b5e76f62aa3",
   "metadata": {},
   "outputs": [
    {
     "name": "stdout",
     "output_type": "stream",
     "text": [
      "The patient's treatment included a therapeutic and diagnostic paracentesis procedure where 3 L of clear orange fluid was removed from the right lower quadrant. The patient was also on several medications including: Valsartan 80 mg daily, Capecitabine 1500 mg daily, Humalog 10 units at breakfast and dinner, MetFORMIN (Glucophage) 500 mg daily, and Omeprazole 20 mg daily. The patient also had a nasogastric tube positioned appropriately.\n"
     ]
    }
   ],
   "source": [
    "response = generate_response(retriever, questions[0])\n",
    "print(response)"
   ]
  },
  {
   "cell_type": "code",
   "execution_count": 20,
   "id": "f206b895-963b-48ff-8483-282c50651ec1",
   "metadata": {},
   "outputs": [
    {
     "name": "stdout",
     "output_type": "stream",
     "text": [
      "The patient's past medical history includes chronic anemia, osteoporosis, hypertension, ataxia, recent L5 fracture due to recurrent falls, allergic rhinitis, irritable bowel syndrome, osteoarthritis, TMJ dysfunction, bilateral macular degeneration, glaucoma, cataract surgery, left shoulder hemiarthroplasty, bilateral salpingo-oophorectomy for benign ovarian mass, and umbilical hernia repair.\n"
     ]
    }
   ],
   "source": [
    "response = generate_response(retriever, questions[0])\n",
    "print(response)"
   ]
  },
  {
   "cell_type": "code",
   "execution_count": 27,
   "id": "8baeaab3-6239-4910-b2c5-51bc9087cb8a",
   "metadata": {},
   "outputs": [
    {
     "name": "stdout",
     "output_type": "stream",
     "text": [
      "Given the History of Present Illness, What is the relevant past medical history? \n",
      "\n",
      "The patient's past medical history includes chronic anemia, osteoporosis, hypertension, ataxia, and a recent L5 fracture due to recurrent falls. Other past medical conditions are allergic rhinitis, irritable bowel syndrome, osteoarthritis, TMJ dysfunction, bilateral macular degeneration, glaucoma, cataract surgery, left shoulder hemiarthroplasty, bilateral salpino-oophorectomy for benign ovarian mass, and umbilical hernia repair.\n",
      "\n",
      "*********************\n",
      "Given the HPI, chief complaint, and initial ICD diagnosis, Why was the patient admitted to the hospital? What symptoms, medical condition, or other reason caused the patient to come to or be brought into the hospital? \n",
      "\n",
      "The patient was admitted to the hospital due to weakness and diarrhea. The patient has a history of chronic anemia, osteoporosis, hypertension, ataxia, and recent L5 fracture. The weakness and diarrhea were likely due to her chronic anemia and a recent change in bowel movements due to the use of a \"natural laxative\".\n",
      "\n",
      "*********************\n",
      "Based on the admission medication list, what other existing or ongoing medical conditions did the patient have? \n",
      "\n",
      "The patient had pain, potentially related to their recent L5 fracture, as indicated by the prescription of OxyCODONE and Gabapentin for pain management. Furthermore, the patient was taking Lisinopril, which is commonly used to treat hypertension.\n",
      "\n",
      "*********************\n",
      "Given the history of present illness, admission and discharge diagnosis, What medical conditions or symptoms was this patient treated for in the hospital? \n",
      "\n",
      "The patient was treated for weakness, diarrhea, and chronic anemia.\n",
      "\n",
      "*********************\n",
      "given the history of present illness, What was the initial treatment course? \n",
      "\n",
      "The patient was administered OxyCODONE (Immediate Release) 2.5 mg, Gabapentin 100 mg, Thiamine 100 mg, FoLIC Acid 1 mg, and started 1u pRBC transfusion.\n",
      "\n",
      "*********************\n",
      "Given the History of Present illness, What was the initial diagnostic work up and pertinent results? \n",
      "\n",
      "The initial diagnostic work up included: \n",
      "- Vital signs measurement\n",
      "- Lab tests, including a Chem-7, CBC, iron studies, hemolysis labs, and a urinalysis. Pertinent results included a BUN/Cr of 36/1.1, H/H of 7.8/25.4 (baseline Hct 31), iron level of 49, ferritin level of 249, and LDH of 163.\n",
      "- A chest X-ray, which showed no acute intrathoracic process.\n",
      "- A CT scan of the abdomen and pelvis, which revealed no acute process.\n",
      "- Administration of medications including OxyCODONE, Gabapentin, Thiamine, FoLIC Acid, and a pRBC transfusion.\n",
      "\n",
      "*********************\n",
      "Given the radiology notes, What radiology, imaging or other studies that were performed and for what inducation? Summarize the impressions from each study. Make a table of Imaging study, indication, and impression. \n",
      "\n",
      "| Imaging Study | Indication | Impression |\n",
      "| --- | --- | --- |\n",
      "| Chest Radiograph | ___ with weakness  // r/o infiltrate | No acute intrathoracic abnormality. |\n",
      "| CT Abdomen and Pelvis | ___ with generalized weakness, H/H dropNO_PO contrast  // please eval for RP bleed | 1. No acute intra-abdominal process. 2. Diverticulosis without evidence of acute diverticulitis. 3. Small bowel containing right inguinal hernia with no evidence of obstruction. 4. Small hiatal hernia. 5. Vertebral plana abnormality involving the L3 vertebral body, multilevel degenerative changes, sacral deformity with presacral edema, and diffusely demineralized bones are unchanged in appearance relative to prior study. |\n",
      "\n",
      "\n",
      "*********************\n"
     ]
    }
   ],
   "source": [
    "for question in questions:\n",
    "    response = generate_response(retriever, question)\n",
    "    print(question,\"\\n\")\n",
    "    print(response)\n",
    "    print(\"\\n*********************\")"
   ]
  },
  {
   "cell_type": "code",
   "execution_count": 28,
   "id": "79e926f5-d792-49ec-baf6-8dbb80179a5f",
   "metadata": {},
   "outputs": [
    {
     "data": {
      "text/plain": [
       "\u001b[0;31mType:\u001b[0m           VectorStoreRetriever\n",
       "\u001b[0;31mString form:\u001b[0m    tags=['Chroma', 'OpenAIEmbeddings'] vectorstore=<langchain_chroma.vectorstores.Chroma object at 0x2ab2d48dded0> search_kwargs={'k': 1}\n",
       "\u001b[0;31mFile:\u001b[0m           ~/.conda/envs/ehr-env/lib/python3.11/site-packages/langchain_core/vectorstores.py\n",
       "\u001b[0;31mDocstring:\u001b[0m      Base Retriever class for VectorStore.\n",
       "\u001b[0;31mInit docstring:\u001b[0m\n",
       "Create a new model by parsing and validating input data from keyword arguments.\n",
       "\n",
       "Raises ValidationError if the input data cannot be parsed to form a valid model."
      ]
     },
     "metadata": {},
     "output_type": "display_data"
    }
   ],
   "source": [
    "retriever?"
   ]
  },
  {
   "cell_type": "code",
   "execution_count": null,
   "id": "c46d437f-e004-44cb-be43-0e08b6178209",
   "metadata": {},
   "outputs": [],
   "source": []
  }
 ],
 "metadata": {
  "kernelspec": {
   "display_name": "Python 3 (ipykernel)",
   "language": "python",
   "name": "python3"
  },
  "language_info": {
   "codemirror_mode": {
    "name": "ipython",
    "version": 3
   },
   "file_extension": ".py",
   "mimetype": "text/x-python",
   "name": "python",
   "nbconvert_exporter": "python",
   "pygments_lexer": "ipython3",
   "version": "3.9.12"
  }
 },
 "nbformat": 4,
 "nbformat_minor": 5
}
