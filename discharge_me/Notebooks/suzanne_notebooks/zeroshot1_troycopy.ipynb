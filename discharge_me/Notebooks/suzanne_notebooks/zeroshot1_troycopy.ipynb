{
 "cells": [
  {
   "cell_type": "code",
   "execution_count": 1,
   "id": "9027dcf0-c75d-4392-9a6d-03d13a4bed7f",
   "metadata": {},
   "outputs": [],
   "source": [
    "# load data from csv\n",
    "# path for input and target data tables\n",
    "\n",
    "diagnosis_path = '../../data/test_phase_2/diagnosis_hadm.csv'\n",
    "discharge_path ='../../data/test_phase_2/discharge.csv'\n",
    "edstays_path = '../../data/test_phase_2/edstays.csv'\n",
    "radiology_path = '../../data/test_phase_2/radiology.csv'\n",
    "triage_path = '../../data/test_phase_2/triage.csv'\n",
    "target_path = '../../data/test_phase_2/discharge_target.csv'\n",
    "discharge_sections_path = '../../data/test_phase_2/discharge_sections.csv'\n",
    "radiology_sections_path = '../../data/test_phase_2/radiology_sections.csv'\n",
    "\n",
    "import pandas as pd\n",
    "import re\n",
    "import os\n",
    "\n",
    "# read data\n",
    "diagnosis_df = pd.read_csv(diagnosis_path, keep_default_na=False)\n",
    "discharge_df = pd.read_csv(discharge_path, keep_default_na=False)\n",
    "edstays_df = pd.read_csv(edstays_path, keep_default_na=False)\n",
    "radiology_df = pd.read_csv(radiology_path, keep_default_na=False)\n",
    "triage_df = pd.read_csv(triage_path, keep_default_na=False)\n",
    "target_df = pd.read_csv(target_path, keep_default_na=False)\n",
    "\n",
    "discharge_sections_df = pd.read_csv(discharge_sections_path, keep_default_na=False)\n",
    "radiology_sections_df = pd.read_csv(radiology_sections_path, keep_default_na=False)"
   ]
  },
  {
   "cell_type": "code",
   "execution_count": 6,
   "id": "debdf335-7b03-41bf-9c04-b7c40dbb06f2",
   "metadata": {},
   "outputs": [
    {
     "name": "stdout",
     "output_type": "stream",
     "text": [
      "/work/AI-EHR/discharge_me/Notebooks/suzanne_notebooks\n"
     ]
    }
   ],
   "source": [
    "!pwd"
   ]
  },
  {
   "cell_type": "code",
   "execution_count": 7,
   "id": "f0eddcc9-1d44-4d66-9d4b-f199bc1bbc5d",
   "metadata": {
    "collapsed": true,
    "jupyter": {
     "outputs_hidden": true
    },
    "tags": []
   },
   "outputs": [
    {
     "name": "stdout",
     "output_type": "stream",
     "text": [
      "Requirement already satisfied: numpy in /home/s.wendelken/.conda/envs/ehr-env/lib/python3.11/site-packages (1.26.4)\n",
      "Collecting numpy\n",
      "  Downloading numpy-2.1.1-cp311-cp311-manylinux_2_17_x86_64.manylinux2014_x86_64.whl.metadata (60 kB)\n",
      "\u001b[2K     \u001b[90m━━━━━━━━━━━━━━━━━━━━━━━━━━━━━━━━━━━━━━━\u001b[0m \u001b[32m60.9/60.9 kB\u001b[0m \u001b[31m508.0 kB/s\u001b[0m eta \u001b[36m0:00:00\u001b[0m \u001b[36m0:00:01\u001b[0m\n",
      "\u001b[?25hDownloading numpy-2.1.1-cp311-cp311-manylinux_2_17_x86_64.manylinux2014_x86_64.whl (16.3 MB)\n",
      "\u001b[2K   \u001b[90m━━━━━━━━━━━━━━━━━━━━━━━━━━━━━━━━━━━━━━━━\u001b[0m \u001b[32m16.3/16.3 MB\u001b[0m \u001b[31m43.5 MB/s\u001b[0m eta \u001b[36m0:00:00\u001b[0m:00:01\u001b[0m00:01\u001b[0m\n",
      "\u001b[?25hInstalling collected packages: numpy\n",
      "  Attempting uninstall: numpy\n",
      "    Found existing installation: numpy 1.26.4\n",
      "    Uninstalling numpy-1.26.4:\n",
      "      Successfully uninstalled numpy-1.26.4\n",
      "\u001b[33m  WARNING: Failed to remove contents in a temporary directory '/home/s.wendelken/.conda/envs/ehr-env/lib/python3.11/site-packages/~umpy.libs'.\n",
      "  You can safely remove it manually.\u001b[0m\u001b[33m\n",
      "\u001b[0m\u001b[33m  WARNING: Failed to remove contents in a temporary directory '/home/s.wendelken/.conda/envs/ehr-env/lib/python3.11/site-packages/~umpy'.\n",
      "  You can safely remove it manually.\u001b[0m\u001b[33m\n",
      "\u001b[0m\u001b[31mERROR: pip's dependency resolver does not currently take into account all the packages that are installed. This behaviour is the source of the following dependency conflicts.\n",
      "chromadb 0.5.3 requires numpy<2.0.0,>=1.22.5, but you have numpy 2.1.1 which is incompatible.\n",
      "langchain 0.2.6 requires numpy<2,>=1; python_version < \"3.12\", but you have numpy 2.1.1 which is incompatible.\n",
      "langchain-chroma 0.1.2 requires numpy<2,>=1; python_version < \"3.12\", but you have numpy 2.1.1 which is incompatible.\n",
      "langchain-community 0.2.6 requires numpy<2,>=1; python_version < \"3.12\", but you have numpy 2.1.1 which is incompatible.\u001b[0m\u001b[31m\n",
      "\u001b[0mSuccessfully installed numpy-2.1.1\n"
     ]
    }
   ],
   "source": [
    "!pip install --upgrade numpy"
   ]
  },
  {
   "cell_type": "code",
   "execution_count": 8,
   "id": "519a3cbf-e07b-426c-9e81-353c76d06d72",
   "metadata": {
    "collapsed": true,
    "jupyter": {
     "outputs_hidden": true
    },
    "tags": []
   },
   "outputs": [
    {
     "name": "stdout",
     "output_type": "stream",
     "text": [
      "Collecting numba\n",
      "  Downloading numba-0.60.0-cp311-cp311-manylinux2014_x86_64.manylinux_2_17_x86_64.whl.metadata (2.7 kB)\n",
      "Collecting llvmlite<0.44,>=0.43.0dev0 (from numba)\n",
      "  Downloading llvmlite-0.43.0-cp311-cp311-manylinux_2_17_x86_64.manylinux2014_x86_64.whl.metadata (4.8 kB)\n",
      "Collecting numpy<2.1,>=1.22 (from numba)\n",
      "  Downloading numpy-2.0.2-cp311-cp311-manylinux_2_17_x86_64.manylinux2014_x86_64.whl.metadata (60 kB)\n",
      "\u001b[2K     \u001b[90m━━━━━━━━━━━━━━━━━━━━━━━━━━━━━━━━━━━━━━━\u001b[0m \u001b[32m60.9/60.9 kB\u001b[0m \u001b[31m400.9 kB/s\u001b[0m eta \u001b[36m0:00:00\u001b[0m \u001b[36m0:00:01\u001b[0m\n",
      "\u001b[?25hDownloading numba-0.60.0-cp311-cp311-manylinux2014_x86_64.manylinux_2_17_x86_64.whl (3.7 MB)\n",
      "\u001b[2K   \u001b[90m━━━━━━━━━━━━━━━━━━━━━━━━━━━━━━━━━━━━━━━━\u001b[0m \u001b[32m3.7/3.7 MB\u001b[0m \u001b[31m8.2 MB/s\u001b[0m eta \u001b[36m0:00:00\u001b[0m:00:01\u001b[0m0:01\u001b[0m\n",
      "\u001b[?25hDownloading llvmlite-0.43.0-cp311-cp311-manylinux_2_17_x86_64.manylinux2014_x86_64.whl (43.9 MB)\n",
      "\u001b[2K   \u001b[90m━━━━━━━━━━━━━━━━━━━━━━━━━━━━━━━━━━━━━━━━\u001b[0m \u001b[32m43.9/43.9 MB\u001b[0m \u001b[31m27.8 MB/s\u001b[0m eta \u001b[36m0:00:00\u001b[0m:00:01\u001b[0m00:01\u001b[0m\n",
      "\u001b[?25hDownloading numpy-2.0.2-cp311-cp311-manylinux_2_17_x86_64.manylinux2014_x86_64.whl (19.5 MB)\n",
      "\u001b[2K   \u001b[90m━━━━━━━━━━━━━━━━━━━━━━━━━━━━━━━━━━━━━━━━\u001b[0m \u001b[32m19.5/19.5 MB\u001b[0m \u001b[31m40.8 MB/s\u001b[0m eta \u001b[36m0:00:00\u001b[0m:00:01\u001b[0m00:01\u001b[0m\n",
      "\u001b[?25hInstalling collected packages: numpy, llvmlite, numba\n",
      "  Attempting uninstall: numpy\n",
      "    Found existing installation: numpy 2.1.1\n",
      "    Uninstalling numpy-2.1.1:\n",
      "      Successfully uninstalled numpy-2.1.1\n",
      "\u001b[31mERROR: pip's dependency resolver does not currently take into account all the packages that are installed. This behaviour is the source of the following dependency conflicts.\n",
      "chromadb 0.5.3 requires numpy<2.0.0,>=1.22.5, but you have numpy 2.0.2 which is incompatible.\n",
      "langchain 0.2.6 requires numpy<2,>=1; python_version < \"3.12\", but you have numpy 2.0.2 which is incompatible.\n",
      "langchain-chroma 0.1.2 requires numpy<2,>=1; python_version < \"3.12\", but you have numpy 2.0.2 which is incompatible.\n",
      "langchain-community 0.2.6 requires numpy<2,>=1; python_version < \"3.12\", but you have numpy 2.0.2 which is incompatible.\u001b[0m\u001b[31m\n",
      "\u001b[0mSuccessfully installed llvmlite-0.43.0 numba-0.60.0 numpy-2.0.2\n",
      "Note: you may need to restart the kernel to use updated packages.\n"
     ]
    }
   ],
   "source": [
    "pip install --upgrade numba"
   ]
  },
  {
   "cell_type": "code",
   "execution_count": 9,
   "id": "07334215-eb7c-4c86-8548-c11278a79357",
   "metadata": {
    "collapsed": true,
    "jupyter": {
     "outputs_hidden": true
    },
    "tags": []
   },
   "outputs": [
    {
     "name": "stdout",
     "output_type": "stream",
     "text": [
      "Collecting jsonschema\n",
      "  Downloading jsonschema-4.23.0-py3-none-any.whl.metadata (7.9 kB)\n",
      "Requirement already satisfied: attrs>=22.2.0 in /home/s.wendelken/.conda/envs/ehr-env/lib/python3.11/site-packages (from jsonschema) (23.2.0)\n",
      "Collecting jsonschema-specifications>=2023.03.6 (from jsonschema)\n",
      "  Downloading jsonschema_specifications-2023.12.1-py3-none-any.whl.metadata (3.0 kB)\n",
      "Collecting referencing>=0.28.4 (from jsonschema)\n",
      "  Downloading referencing-0.35.1-py3-none-any.whl.metadata (2.8 kB)\n",
      "Collecting rpds-py>=0.7.1 (from jsonschema)\n",
      "  Downloading rpds_py-0.20.0-cp311-cp311-manylinux_2_17_x86_64.manylinux2014_x86_64.whl.metadata (4.2 kB)\n",
      "Downloading jsonschema-4.23.0-py3-none-any.whl (88 kB)\n",
      "\u001b[2K   \u001b[90m━━━━━━━━━━━━━━━━━━━━━━━━━━━━━━━━━━━━━━━━\u001b[0m \u001b[32m88.5/88.5 kB\u001b[0m \u001b[31m899.7 kB/s\u001b[0m eta \u001b[36m0:00:00\u001b[0m\u001b[36m0:00:01\u001b[0m\n",
      "\u001b[?25hDownloading jsonschema_specifications-2023.12.1-py3-none-any.whl (18 kB)\n",
      "Downloading referencing-0.35.1-py3-none-any.whl (26 kB)\n",
      "Downloading rpds_py-0.20.0-cp311-cp311-manylinux_2_17_x86_64.manylinux2014_x86_64.whl (354 kB)\n",
      "\u001b[2K   \u001b[90m━━━━━━━━━━━━━━━━━━━━━━━━━━━━━━━━━━━━━━━━\u001b[0m \u001b[32m354.8/354.8 kB\u001b[0m \u001b[31m3.2 MB/s\u001b[0m eta \u001b[36m0:00:00\u001b[0m:00:01\u001b[0m\n",
      "\u001b[?25hInstalling collected packages: rpds-py, referencing, jsonschema-specifications, jsonschema\n",
      "Successfully installed jsonschema-4.23.0 jsonschema-specifications-2023.12.1 referencing-0.35.1 rpds-py-0.20.0\n"
     ]
    }
   ],
   "source": [
    "!pip install --upgrade jsonschema\n",
    "#!pip install -U ipywidgets"
   ]
  },
  {
   "cell_type": "code",
   "execution_count": 12,
   "id": "87358765-8354-424d-94c8-19f0d6443825",
   "metadata": {},
   "outputs": [
    {
     "name": "stdout",
     "output_type": "stream",
     "text": [
      "\n",
      "    _|    _|  _|    _|    _|_|_|    _|_|_|  _|_|_|  _|      _|    _|_|_|      _|_|_|_|    _|_|      _|_|_|  _|_|_|_|\n",
      "    _|    _|  _|    _|  _|        _|          _|    _|_|    _|  _|            _|        _|    _|  _|        _|\n",
      "    _|_|_|_|  _|    _|  _|  _|_|  _|  _|_|    _|    _|  _|  _|  _|  _|_|      _|_|_|    _|_|_|_|  _|        _|_|_|\n",
      "    _|    _|  _|    _|  _|    _|  _|    _|    _|    _|    _|_|  _|    _|      _|        _|    _|  _|        _|\n",
      "    _|    _|    _|_|      _|_|_|    _|_|_|  _|_|_|  _|      _|    _|_|_|      _|        _|    _|    _|_|_|  _|_|_|_|\n",
      "\n",
      "    To login, `huggingface_hub` requires a token generated from https://huggingface.co/settings/tokens .\n",
      "Enter your token (input will not be visible): Traceback (most recent call last):\n",
      "  File \"/home/s.wendelken/.conda/envs/ehr-env/bin/huggingface-cli\", line 8, in <module>\n",
      "    sys.exit(main())\n",
      "             ^^^^^^\n",
      "  File \"/home/s.wendelken/.conda/envs/ehr-env/lib/python3.11/site-packages/huggingface_hub/commands/huggingface_cli.py\", line 51, in main\n",
      "    service.run()\n",
      "  File \"/home/s.wendelken/.conda/envs/ehr-env/lib/python3.11/site-packages/huggingface_hub/commands/user.py\", line 98, in run\n",
      "    login(token=self.args.token, add_to_git_credential=self.args.add_to_git_credential)\n",
      "  File \"/home/s.wendelken/.conda/envs/ehr-env/lib/python3.11/site-packages/huggingface_hub/_login.py\", line 115, in login\n",
      "    interpreter_login(new_session=new_session, write_permission=write_permission)\n",
      "  File \"/home/s.wendelken/.conda/envs/ehr-env/lib/python3.11/site-packages/huggingface_hub/_login.py\", line 191, in interpreter_login\n",
      "    token = getpass(\"Enter your token (input will not be visible): \")\n",
      "            ^^^^^^^^^^^^^^^^^^^^^^^^^^^^^^^^^^^^^^^^^^^^^^^^^^^^^^^^^\n",
      "  File \"/home/s.wendelken/.conda/envs/ehr-env/lib/python3.11/getpass.py\", line 77, in unix_getpass\n",
      "    passwd = _raw_input(prompt, stream, input=input)\n",
      "             ^^^^^^^^^^^^^^^^^^^^^^^^^^^^^^^^^^^^^^^\n",
      "  File \"/home/s.wendelken/.conda/envs/ehr-env/lib/python3.11/getpass.py\", line 146, in _raw_input\n",
      "    line = input.readline()\n",
      "           ^^^^^^^^^^^^^^^^\n",
      "  File \"<frozen codecs>\", line 319, in decode\n",
      "KeyboardInterrupt\n"
     ]
    }
   ],
   "source": [
    "!huggingface-cli login"
   ]
  },
  {
   "cell_type": "code",
   "execution_count": 2,
   "id": "9120d4f2-3e42-48cd-8d66-8477c768697b",
   "metadata": {},
   "outputs": [],
   "source": [
    "import os"
   ]
  },
  {
   "cell_type": "code",
   "execution_count": 3,
   "id": "0c33564e-3470-48fc-98c1-412f67f1412e",
   "metadata": {
    "collapsed": true,
    "jupyter": {
     "outputs_hidden": true
    },
    "tags": []
   },
   "outputs": [
    {
     "name": "stdout",
     "output_type": "stream",
     "text": [
      "Collecting vllm\n",
      "  Using cached vllm-0.6.1-cp38-abi3-manylinux1_x86_64.whl.metadata (2.3 kB)\n",
      "Requirement already satisfied: psutil in /home/s.wendelken/.conda/envs/ehr-env/lib/python3.11/site-packages (from vllm) (5.9.0)\n",
      "Requirement already satisfied: sentencepiece in /home/s.wendelken/.conda/envs/ehr-env/lib/python3.11/site-packages (from vllm) (0.2.0)\n",
      "Requirement already satisfied: numpy<2.0.0 in /home/s.wendelken/.conda/envs/ehr-env/lib/python3.11/site-packages (from vllm) (1.26.4)\n",
      "Requirement already satisfied: requests in /home/s.wendelken/.conda/envs/ehr-env/lib/python3.11/site-packages (from vllm) (2.32.3)\n",
      "Requirement already satisfied: tqdm in /home/s.wendelken/.conda/envs/ehr-env/lib/python3.11/site-packages (from vllm) (4.66.4)\n",
      "Requirement already satisfied: py-cpuinfo in /home/s.wendelken/.conda/envs/ehr-env/lib/python3.11/site-packages (from vllm) (9.0.0)\n",
      "Requirement already satisfied: transformers>=4.43.2 in /home/s.wendelken/.conda/envs/ehr-env/lib/python3.11/site-packages (from vllm) (4.44.2)\n",
      "Requirement already satisfied: tokenizers>=0.19.1 in /home/s.wendelken/.conda/envs/ehr-env/lib/python3.11/site-packages (from vllm) (0.19.1)\n",
      "Requirement already satisfied: protobuf in /home/s.wendelken/.conda/envs/ehr-env/lib/python3.11/site-packages (from vllm) (4.25.3)\n",
      "Requirement already satisfied: fastapi in /home/s.wendelken/.conda/envs/ehr-env/lib/python3.11/site-packages (from vllm) (0.111.0)\n",
      "Requirement already satisfied: aiohttp in /home/s.wendelken/.conda/envs/ehr-env/lib/python3.11/site-packages (from vllm) (3.9.5)\n",
      "Requirement already satisfied: openai>=1.40.0 in /home/s.wendelken/.conda/envs/ehr-env/lib/python3.11/site-packages (from vllm) (1.44.1)\n",
      "Requirement already satisfied: uvicorn[standard] in /home/s.wendelken/.conda/envs/ehr-env/lib/python3.11/site-packages (from vllm) (0.30.1)\n",
      "Requirement already satisfied: pydantic>=2.8 in /home/s.wendelken/.conda/envs/ehr-env/lib/python3.11/site-packages (from vllm) (2.8.0)\n",
      "Requirement already satisfied: pillow in /home/s.wendelken/.conda/envs/ehr-env/lib/python3.11/site-packages (from vllm) (10.4.0)\n",
      "Requirement already satisfied: prometheus-client>=0.18.0 in /home/s.wendelken/.conda/envs/ehr-env/lib/python3.11/site-packages (from vllm) (0.20.0)\n",
      "Requirement already satisfied: prometheus-fastapi-instrumentator>=7.0.0 in /home/s.wendelken/.conda/envs/ehr-env/lib/python3.11/site-packages (from vllm) (7.0.0)\n",
      "Requirement already satisfied: tiktoken>=0.6.0 in /home/s.wendelken/.conda/envs/ehr-env/lib/python3.11/site-packages (from vllm) (0.7.0)\n",
      "Requirement already satisfied: lm-format-enforcer==0.10.6 in /home/s.wendelken/.conda/envs/ehr-env/lib/python3.11/site-packages (from vllm) (0.10.6)\n",
      "Collecting outlines<0.1,>=0.0.43 (from vllm)\n",
      "  Using cached outlines-0.0.46-py3-none-any.whl.metadata (15 kB)\n",
      "Requirement already satisfied: typing-extensions>=4.10 in /home/s.wendelken/.conda/envs/ehr-env/lib/python3.11/site-packages (from vllm) (4.12.2)\n",
      "Requirement already satisfied: filelock>=3.10.4 in /home/s.wendelken/.conda/envs/ehr-env/lib/python3.11/site-packages (from vllm) (3.15.4)\n",
      "Requirement already satisfied: partial-json-parser in /home/s.wendelken/.conda/envs/ehr-env/lib/python3.11/site-packages (from vllm) (0.2.1.1.post4)\n",
      "Requirement already satisfied: pyzmq in /home/s.wendelken/.conda/envs/ehr-env/lib/python3.11/site-packages (from vllm) (25.1.0)\n",
      "Requirement already satisfied: msgspec in /home/s.wendelken/.conda/envs/ehr-env/lib/python3.11/site-packages (from vllm) (0.18.6)\n",
      "Requirement already satisfied: gguf==0.9.1 in /home/s.wendelken/.conda/envs/ehr-env/lib/python3.11/site-packages (from vllm) (0.9.1)\n",
      "Requirement already satisfied: importlib-metadata in /home/s.wendelken/.conda/envs/ehr-env/lib/python3.11/site-packages (from vllm) (7.1.0)\n",
      "Collecting mistral-common>=1.4.0 (from vllm)\n",
      "  Using cached mistral_common-1.4.0-py3-none-any.whl.metadata (4.4 kB)\n",
      "Requirement already satisfied: pyyaml in /home/s.wendelken/.conda/envs/ehr-env/lib/python3.11/site-packages (from vllm) (6.0.1)\n",
      "Requirement already satisfied: einops in /home/s.wendelken/.conda/envs/ehr-env/lib/python3.11/site-packages (from vllm) (0.8.0)\n",
      "Collecting ray>=2.9 (from vllm)\n",
      "  Using cached ray-2.35.0-cp311-cp311-manylinux2014_x86_64.whl.metadata (16 kB)\n",
      "Requirement already satisfied: nvidia-ml-py in /home/s.wendelken/.conda/envs/ehr-env/lib/python3.11/site-packages (from vllm) (12.560.30)\n",
      "Requirement already satisfied: torch==2.4.0 in /home/s.wendelken/.conda/envs/ehr-env/lib/python3.11/site-packages (from vllm) (2.4.0)\n",
      "Collecting torchvision==0.19 (from vllm)\n",
      "  Using cached torchvision-0.19.0-cp311-cp311-manylinux1_x86_64.whl.metadata (6.0 kB)\n",
      "Collecting xformers==0.0.27.post2 (from vllm)\n",
      "  Using cached xformers-0.0.27.post2-cp311-cp311-manylinux2014_x86_64.whl.metadata (1.0 kB)\n",
      "Collecting vllm-flash-attn==2.6.1 (from vllm)\n",
      "  Using cached vllm_flash_attn-2.6.1-cp311-cp311-manylinux1_x86_64.whl.metadata (476 bytes)\n",
      "Requirement already satisfied: interegular>=0.3.2 in /home/s.wendelken/.conda/envs/ehr-env/lib/python3.11/site-packages (from lm-format-enforcer==0.10.6->vllm) (0.3.3)\n",
      "Requirement already satisfied: packaging in /home/s.wendelken/.conda/envs/ehr-env/lib/python3.11/site-packages (from lm-format-enforcer==0.10.6->vllm) (24.1)\n",
      "Requirement already satisfied: sympy in /home/s.wendelken/.conda/envs/ehr-env/lib/python3.11/site-packages (from torch==2.4.0->vllm) (1.12.1)\n",
      "Requirement already satisfied: networkx in /home/s.wendelken/.conda/envs/ehr-env/lib/python3.11/site-packages (from torch==2.4.0->vllm) (3.3)\n",
      "Requirement already satisfied: jinja2 in /home/s.wendelken/.conda/envs/ehr-env/lib/python3.11/site-packages (from torch==2.4.0->vllm) (3.1.4)\n",
      "Requirement already satisfied: fsspec in /home/s.wendelken/.conda/envs/ehr-env/lib/python3.11/site-packages (from torch==2.4.0->vllm) (2024.6.1)\n",
      "Requirement already satisfied: nvidia-cuda-nvrtc-cu12==12.1.105 in /home/s.wendelken/.conda/envs/ehr-env/lib/python3.11/site-packages (from torch==2.4.0->vllm) (12.1.105)\n",
      "Requirement already satisfied: nvidia-cuda-runtime-cu12==12.1.105 in /home/s.wendelken/.conda/envs/ehr-env/lib/python3.11/site-packages (from torch==2.4.0->vllm) (12.1.105)\n",
      "Requirement already satisfied: nvidia-cuda-cupti-cu12==12.1.105 in /home/s.wendelken/.conda/envs/ehr-env/lib/python3.11/site-packages (from torch==2.4.0->vllm) (12.1.105)\n",
      "Requirement already satisfied: nvidia-cudnn-cu12==9.1.0.70 in /home/s.wendelken/.conda/envs/ehr-env/lib/python3.11/site-packages (from torch==2.4.0->vllm) (9.1.0.70)\n",
      "Requirement already satisfied: nvidia-cublas-cu12==12.1.3.1 in /home/s.wendelken/.conda/envs/ehr-env/lib/python3.11/site-packages (from torch==2.4.0->vllm) (12.1.3.1)\n",
      "Requirement already satisfied: nvidia-cufft-cu12==11.0.2.54 in /home/s.wendelken/.conda/envs/ehr-env/lib/python3.11/site-packages (from torch==2.4.0->vllm) (11.0.2.54)\n",
      "Requirement already satisfied: nvidia-curand-cu12==10.3.2.106 in /home/s.wendelken/.conda/envs/ehr-env/lib/python3.11/site-packages (from torch==2.4.0->vllm) (10.3.2.106)\n",
      "Requirement already satisfied: nvidia-cusolver-cu12==11.4.5.107 in /home/s.wendelken/.conda/envs/ehr-env/lib/python3.11/site-packages (from torch==2.4.0->vllm) (11.4.5.107)\n",
      "Requirement already satisfied: nvidia-cusparse-cu12==12.1.0.106 in /home/s.wendelken/.conda/envs/ehr-env/lib/python3.11/site-packages (from torch==2.4.0->vllm) (12.1.0.106)\n",
      "Requirement already satisfied: nvidia-nccl-cu12==2.20.5 in /home/s.wendelken/.conda/envs/ehr-env/lib/python3.11/site-packages (from torch==2.4.0->vllm) (2.20.5)\n",
      "Requirement already satisfied: nvidia-nvtx-cu12==12.1.105 in /home/s.wendelken/.conda/envs/ehr-env/lib/python3.11/site-packages (from torch==2.4.0->vllm) (12.1.105)\n",
      "Requirement already satisfied: triton==3.0.0 in /home/s.wendelken/.conda/envs/ehr-env/lib/python3.11/site-packages (from torch==2.4.0->vllm) (3.0.0)\n",
      "Requirement already satisfied: nvidia-nvjitlink-cu12 in /home/s.wendelken/.conda/envs/ehr-env/lib/python3.11/site-packages (from nvidia-cusolver-cu12==11.4.5.107->torch==2.4.0->vllm) (12.6.68)\n",
      "Requirement already satisfied: jsonschema<5.0.0,>=4.21.1 in /home/s.wendelken/.conda/envs/ehr-env/lib/python3.11/site-packages (from mistral-common>=1.4.0->vllm) (4.23.0)\n",
      "Requirement already satisfied: anyio<5,>=3.5.0 in /home/s.wendelken/.conda/envs/ehr-env/lib/python3.11/site-packages (from openai>=1.40.0->vllm) (4.4.0)\n",
      "Requirement already satisfied: distro<2,>=1.7.0 in /home/s.wendelken/.conda/envs/ehr-env/lib/python3.11/site-packages (from openai>=1.40.0->vllm) (1.9.0)\n",
      "Requirement already satisfied: httpx<1,>=0.23.0 in /home/s.wendelken/.conda/envs/ehr-env/lib/python3.11/site-packages (from openai>=1.40.0->vllm) (0.27.0)\n",
      "Requirement already satisfied: jiter<1,>=0.4.0 in /home/s.wendelken/.conda/envs/ehr-env/lib/python3.11/site-packages (from openai>=1.40.0->vllm) (0.5.0)\n",
      "Requirement already satisfied: sniffio in /home/s.wendelken/.conda/envs/ehr-env/lib/python3.11/site-packages (from openai>=1.40.0->vllm) (1.3.1)\n",
      "Requirement already satisfied: lark in /home/s.wendelken/.conda/envs/ehr-env/lib/python3.11/site-packages (from outlines<0.1,>=0.0.43->vllm) (1.2.2)\n",
      "Requirement already satisfied: nest-asyncio in /home/s.wendelken/.conda/envs/ehr-env/lib/python3.11/site-packages (from outlines<0.1,>=0.0.43->vllm) (1.5.6)\n",
      "Requirement already satisfied: cloudpickle in /home/s.wendelken/.conda/envs/ehr-env/lib/python3.11/site-packages (from outlines<0.1,>=0.0.43->vllm) (3.0.0)\n",
      "Requirement already satisfied: diskcache in /home/s.wendelken/.conda/envs/ehr-env/lib/python3.11/site-packages (from outlines<0.1,>=0.0.43->vllm) (5.6.3)\n",
      "Requirement already satisfied: numba in /home/s.wendelken/.conda/envs/ehr-env/lib/python3.11/site-packages (from outlines<0.1,>=0.0.43->vllm) (0.60.0)\n",
      "Requirement already satisfied: referencing in /home/s.wendelken/.conda/envs/ehr-env/lib/python3.11/site-packages (from outlines<0.1,>=0.0.43->vllm) (0.35.1)\n",
      "Collecting datasets (from outlines<0.1,>=0.0.43->vllm)\n",
      "  Using cached datasets-3.0.0-py3-none-any.whl.metadata (19 kB)\n",
      "Requirement already satisfied: pycountry in /home/s.wendelken/.conda/envs/ehr-env/lib/python3.11/site-packages (from outlines<0.1,>=0.0.43->vllm) (24.6.1)\n",
      "Requirement already satisfied: pyairports in /home/s.wendelken/.conda/envs/ehr-env/lib/python3.11/site-packages (from outlines<0.1,>=0.0.43->vllm) (2.1.1)\n",
      "Requirement already satisfied: starlette<1.0.0,>=0.30.0 in /home/s.wendelken/.conda/envs/ehr-env/lib/python3.11/site-packages (from prometheus-fastapi-instrumentator>=7.0.0->vllm) (0.37.2)\n",
      "Requirement already satisfied: annotated-types>=0.4.0 in /home/s.wendelken/.conda/envs/ehr-env/lib/python3.11/site-packages (from pydantic>=2.8->vllm) (0.7.0)\n",
      "Requirement already satisfied: pydantic-core==2.20.0 in /home/s.wendelken/.conda/envs/ehr-env/lib/python3.11/site-packages (from pydantic>=2.8->vllm) (2.20.0)\n",
      "Requirement already satisfied: click>=7.0 in /home/s.wendelken/.conda/envs/ehr-env/lib/python3.11/site-packages (from ray>=2.9->vllm) (8.1.7)\n",
      "Requirement already satisfied: msgpack<2.0.0,>=1.0.0 in /home/s.wendelken/.conda/envs/ehr-env/lib/python3.11/site-packages (from ray>=2.9->vllm) (1.1.0)\n",
      "Requirement already satisfied: aiosignal in /home/s.wendelken/.conda/envs/ehr-env/lib/python3.11/site-packages (from ray>=2.9->vllm) (1.3.1)\n",
      "Requirement already satisfied: frozenlist in /home/s.wendelken/.conda/envs/ehr-env/lib/python3.11/site-packages (from ray>=2.9->vllm) (1.4.1)\n",
      "Requirement already satisfied: charset-normalizer<4,>=2 in /home/s.wendelken/.conda/envs/ehr-env/lib/python3.11/site-packages (from requests->vllm) (3.3.2)\n",
      "Requirement already satisfied: idna<4,>=2.5 in /home/s.wendelken/.conda/envs/ehr-env/lib/python3.11/site-packages (from requests->vllm) (3.7)\n",
      "Requirement already satisfied: urllib3<3,>=1.21.1 in /home/s.wendelken/.conda/envs/ehr-env/lib/python3.11/site-packages (from requests->vllm) (2.2.2)\n",
      "Requirement already satisfied: certifi>=2017.4.17 in /home/s.wendelken/.conda/envs/ehr-env/lib/python3.11/site-packages (from requests->vllm) (2024.6.2)\n",
      "Requirement already satisfied: regex>=2022.1.18 in /home/s.wendelken/.conda/envs/ehr-env/lib/python3.11/site-packages (from tiktoken>=0.6.0->vllm) (2024.5.15)\n",
      "Requirement already satisfied: huggingface-hub<1.0,>=0.16.4 in /home/s.wendelken/.conda/envs/ehr-env/lib/python3.11/site-packages (from tokenizers>=0.19.1->vllm) (0.23.4)\n",
      "Requirement already satisfied: safetensors>=0.4.1 in /home/s.wendelken/.conda/envs/ehr-env/lib/python3.11/site-packages (from transformers>=4.43.2->vllm) (0.4.5)\n",
      "Requirement already satisfied: attrs>=17.3.0 in /home/s.wendelken/.conda/envs/ehr-env/lib/python3.11/site-packages (from aiohttp->vllm) (23.2.0)\n",
      "Requirement already satisfied: multidict<7.0,>=4.5 in /home/s.wendelken/.conda/envs/ehr-env/lib/python3.11/site-packages (from aiohttp->vllm) (6.0.5)\n",
      "Requirement already satisfied: yarl<2.0,>=1.0 in /home/s.wendelken/.conda/envs/ehr-env/lib/python3.11/site-packages (from aiohttp->vllm) (1.9.4)\n",
      "Requirement already satisfied: fastapi-cli>=0.0.2 in /home/s.wendelken/.conda/envs/ehr-env/lib/python3.11/site-packages (from fastapi->vllm) (0.0.4)\n",
      "Requirement already satisfied: python-multipart>=0.0.7 in /home/s.wendelken/.conda/envs/ehr-env/lib/python3.11/site-packages (from fastapi->vllm) (0.0.9)\n",
      "Requirement already satisfied: ujson!=4.0.2,!=4.1.0,!=4.2.0,!=4.3.0,!=5.0.0,!=5.1.0,>=4.0.1 in /home/s.wendelken/.conda/envs/ehr-env/lib/python3.11/site-packages (from fastapi->vllm) (5.10.0)\n",
      "Requirement already satisfied: orjson>=3.2.1 in /home/s.wendelken/.conda/envs/ehr-env/lib/python3.11/site-packages (from fastapi->vllm) (3.10.5)\n",
      "Requirement already satisfied: email_validator>=2.0.0 in /home/s.wendelken/.conda/envs/ehr-env/lib/python3.11/site-packages (from fastapi->vllm) (2.2.0)\n",
      "Requirement already satisfied: h11>=0.8 in /home/s.wendelken/.conda/envs/ehr-env/lib/python3.11/site-packages (from uvicorn[standard]->vllm) (0.14.0)\n",
      "Requirement already satisfied: httptools>=0.5.0 in /home/s.wendelken/.conda/envs/ehr-env/lib/python3.11/site-packages (from uvicorn[standard]->vllm) (0.6.1)\n",
      "Requirement already satisfied: python-dotenv>=0.13 in /home/s.wendelken/.conda/envs/ehr-env/lib/python3.11/site-packages (from uvicorn[standard]->vllm) (1.0.1)\n",
      "Requirement already satisfied: uvloop!=0.15.0,!=0.15.1,>=0.14.0 in /home/s.wendelken/.conda/envs/ehr-env/lib/python3.11/site-packages (from uvicorn[standard]->vllm) (0.19.0)\n",
      "Requirement already satisfied: watchfiles>=0.13 in /home/s.wendelken/.conda/envs/ehr-env/lib/python3.11/site-packages (from uvicorn[standard]->vllm) (0.22.0)\n",
      "Requirement already satisfied: websockets>=10.4 in /home/s.wendelken/.conda/envs/ehr-env/lib/python3.11/site-packages (from uvicorn[standard]->vllm) (12.0)\n",
      "Requirement already satisfied: zipp>=0.5 in /home/s.wendelken/.conda/envs/ehr-env/lib/python3.11/site-packages (from importlib-metadata->vllm) (3.19.2)\n",
      "Requirement already satisfied: dnspython>=2.0.0 in /home/s.wendelken/.conda/envs/ehr-env/lib/python3.11/site-packages (from email_validator>=2.0.0->fastapi->vllm) (2.6.1)\n",
      "Requirement already satisfied: typer>=0.12.3 in /home/s.wendelken/.conda/envs/ehr-env/lib/python3.11/site-packages (from fastapi-cli>=0.0.2->fastapi->vllm) (0.12.3)\n",
      "Requirement already satisfied: httpcore==1.* in /home/s.wendelken/.conda/envs/ehr-env/lib/python3.11/site-packages (from httpx<1,>=0.23.0->openai>=1.40.0->vllm) (1.0.5)\n",
      "Requirement already satisfied: MarkupSafe>=2.0 in /home/s.wendelken/.conda/envs/ehr-env/lib/python3.11/site-packages (from jinja2->torch==2.4.0->vllm) (2.1.5)\n",
      "Requirement already satisfied: jsonschema-specifications>=2023.03.6 in /home/s.wendelken/.conda/envs/ehr-env/lib/python3.11/site-packages (from jsonschema<5.0.0,>=4.21.1->mistral-common>=1.4.0->vllm) (2023.12.1)\n",
      "Requirement already satisfied: rpds-py>=0.7.1 in /home/s.wendelken/.conda/envs/ehr-env/lib/python3.11/site-packages (from jsonschema<5.0.0,>=4.21.1->mistral-common>=1.4.0->vllm) (0.20.0)\n",
      "Requirement already satisfied: pyarrow>=15.0.0 in /home/s.wendelken/.conda/envs/ehr-env/lib/python3.11/site-packages (from datasets->outlines<0.1,>=0.0.43->vllm) (17.0.0)\n",
      "Requirement already satisfied: dill<0.3.9,>=0.3.0 in /home/s.wendelken/.conda/envs/ehr-env/lib/python3.11/site-packages (from datasets->outlines<0.1,>=0.0.43->vllm) (0.3.8)\n",
      "Requirement already satisfied: pandas in /home/s.wendelken/.conda/envs/ehr-env/lib/python3.11/site-packages (from datasets->outlines<0.1,>=0.0.43->vllm) (2.2.2)\n",
      "Requirement already satisfied: xxhash in /home/s.wendelken/.conda/envs/ehr-env/lib/python3.11/site-packages (from datasets->outlines<0.1,>=0.0.43->vllm) (3.5.0)\n",
      "Requirement already satisfied: multiprocess in /home/s.wendelken/.conda/envs/ehr-env/lib/python3.11/site-packages (from datasets->outlines<0.1,>=0.0.43->vllm) (0.70.16)\n",
      "Requirement already satisfied: llvmlite<0.44,>=0.43.0dev0 in /home/s.wendelken/.conda/envs/ehr-env/lib/python3.11/site-packages (from numba->outlines<0.1,>=0.0.43->vllm) (0.43.0)\n",
      "Requirement already satisfied: mpmath<1.4.0,>=1.1.0 in /home/s.wendelken/.conda/envs/ehr-env/lib/python3.11/site-packages (from sympy->torch==2.4.0->vllm) (1.3.0)\n",
      "Requirement already satisfied: shellingham>=1.3.0 in /home/s.wendelken/.conda/envs/ehr-env/lib/python3.11/site-packages (from typer>=0.12.3->fastapi-cli>=0.0.2->fastapi->vllm) (1.5.4)\n",
      "Requirement already satisfied: rich>=10.11.0 in /home/s.wendelken/.conda/envs/ehr-env/lib/python3.11/site-packages (from typer>=0.12.3->fastapi-cli>=0.0.2->fastapi->vllm) (13.7.1)\n",
      "Requirement already satisfied: python-dateutil>=2.8.2 in /home/s.wendelken/.conda/envs/ehr-env/lib/python3.11/site-packages (from pandas->datasets->outlines<0.1,>=0.0.43->vllm) (2.8.2)\n",
      "Requirement already satisfied: pytz>=2020.1 in /home/s.wendelken/.conda/envs/ehr-env/lib/python3.11/site-packages (from pandas->datasets->outlines<0.1,>=0.0.43->vllm) (2024.2)\n",
      "Requirement already satisfied: tzdata>=2022.7 in /home/s.wendelken/.conda/envs/ehr-env/lib/python3.11/site-packages (from pandas->datasets->outlines<0.1,>=0.0.43->vllm) (2024.1)\n",
      "Requirement already satisfied: six>=1.5 in /home/s.wendelken/.conda/envs/ehr-env/lib/python3.11/site-packages (from python-dateutil>=2.8.2->pandas->datasets->outlines<0.1,>=0.0.43->vllm) (1.16.0)\n",
      "Requirement already satisfied: markdown-it-py>=2.2.0 in /home/s.wendelken/.conda/envs/ehr-env/lib/python3.11/site-packages (from rich>=10.11.0->typer>=0.12.3->fastapi-cli>=0.0.2->fastapi->vllm) (3.0.0)\n",
      "Requirement already satisfied: pygments<3.0.0,>=2.13.0 in /home/s.wendelken/.conda/envs/ehr-env/lib/python3.11/site-packages (from rich>=10.11.0->typer>=0.12.3->fastapi-cli>=0.0.2->fastapi->vllm) (2.15.1)\n",
      "Requirement already satisfied: mdurl~=0.1 in /home/s.wendelken/.conda/envs/ehr-env/lib/python3.11/site-packages (from markdown-it-py>=2.2.0->rich>=10.11.0->typer>=0.12.3->fastapi-cli>=0.0.2->fastapi->vllm) (0.1.2)\n",
      "Using cached vllm-0.6.1-cp38-abi3-manylinux1_x86_64.whl (170.6 MB)\n",
      "Using cached torchvision-0.19.0-cp311-cp311-manylinux1_x86_64.whl (7.0 MB)\n",
      "Using cached vllm_flash_attn-2.6.1-cp311-cp311-manylinux1_x86_64.whl (75.9 MB)\n",
      "Using cached xformers-0.0.27.post2-cp311-cp311-manylinux2014_x86_64.whl (20.8 MB)\n",
      "Using cached mistral_common-1.4.0-py3-none-any.whl (6.0 MB)\n",
      "Using cached outlines-0.0.46-py3-none-any.whl (101 kB)\n",
      "Using cached ray-2.35.0-cp311-cp311-manylinux2014_x86_64.whl (65.1 MB)\n",
      "Using cached datasets-3.0.0-py3-none-any.whl (474 kB)\n",
      "Installing collected packages: xformers, vllm-flash-attn, torchvision, ray, mistral-common, datasets, outlines, vllm\n",
      "Successfully installed datasets-3.0.0 mistral-common-1.4.0 outlines-0.0.46 ray-2.35.0 torchvision-0.19.0 vllm-0.6.1 vllm-flash-attn-2.6.1 xformers-0.0.27.post2\n"
     ]
    }
   ],
   "source": [
    "!pip install vllm"
   ]
  },
  {
   "cell_type": "code",
   "execution_count": 13,
   "id": "3410c205-fc40-446f-981c-2fbf487c179c",
   "metadata": {
    "collapsed": true,
    "jupyter": {
     "outputs_hidden": true
    },
    "tags": []
   },
   "outputs": [
    {
     "name": "stdout",
     "output_type": "stream",
     "text": [
      "Requirement already satisfied: torch in /home/s.wendelken/.conda/envs/ehr-env/lib/python3.11/site-packages (2.4.1)\n",
      "Requirement already satisfied: filelock in /home/s.wendelken/.conda/envs/ehr-env/lib/python3.11/site-packages (from torch) (3.15.4)\n",
      "Requirement already satisfied: typing-extensions>=4.8.0 in /home/s.wendelken/.conda/envs/ehr-env/lib/python3.11/site-packages (from torch) (4.12.2)\n",
      "Requirement already satisfied: sympy in /home/s.wendelken/.conda/envs/ehr-env/lib/python3.11/site-packages (from torch) (1.12.1)\n",
      "Requirement already satisfied: networkx in /home/s.wendelken/.conda/envs/ehr-env/lib/python3.11/site-packages (from torch) (3.3)\n",
      "Requirement already satisfied: jinja2 in /home/s.wendelken/.conda/envs/ehr-env/lib/python3.11/site-packages (from torch) (3.1.4)\n",
      "Requirement already satisfied: fsspec in /home/s.wendelken/.conda/envs/ehr-env/lib/python3.11/site-packages (from torch) (2024.6.1)\n",
      "Requirement already satisfied: nvidia-cuda-nvrtc-cu12==12.1.105 in /home/s.wendelken/.conda/envs/ehr-env/lib/python3.11/site-packages (from torch) (12.1.105)\n",
      "Requirement already satisfied: nvidia-cuda-runtime-cu12==12.1.105 in /home/s.wendelken/.conda/envs/ehr-env/lib/python3.11/site-packages (from torch) (12.1.105)\n",
      "Requirement already satisfied: nvidia-cuda-cupti-cu12==12.1.105 in /home/s.wendelken/.conda/envs/ehr-env/lib/python3.11/site-packages (from torch) (12.1.105)\n",
      "Requirement already satisfied: nvidia-cudnn-cu12==9.1.0.70 in /home/s.wendelken/.conda/envs/ehr-env/lib/python3.11/site-packages (from torch) (9.1.0.70)\n",
      "Requirement already satisfied: nvidia-cublas-cu12==12.1.3.1 in /home/s.wendelken/.conda/envs/ehr-env/lib/python3.11/site-packages (from torch) (12.1.3.1)\n",
      "Requirement already satisfied: nvidia-cufft-cu12==11.0.2.54 in /home/s.wendelken/.conda/envs/ehr-env/lib/python3.11/site-packages (from torch) (11.0.2.54)\n",
      "Requirement already satisfied: nvidia-curand-cu12==10.3.2.106 in /home/s.wendelken/.conda/envs/ehr-env/lib/python3.11/site-packages (from torch) (10.3.2.106)\n",
      "Requirement already satisfied: nvidia-cusolver-cu12==11.4.5.107 in /home/s.wendelken/.conda/envs/ehr-env/lib/python3.11/site-packages (from torch) (11.4.5.107)\n",
      "Requirement already satisfied: nvidia-cusparse-cu12==12.1.0.106 in /home/s.wendelken/.conda/envs/ehr-env/lib/python3.11/site-packages (from torch) (12.1.0.106)\n",
      "Requirement already satisfied: nvidia-nccl-cu12==2.20.5 in /home/s.wendelken/.conda/envs/ehr-env/lib/python3.11/site-packages (from torch) (2.20.5)\n",
      "Requirement already satisfied: nvidia-nvtx-cu12==12.1.105 in /home/s.wendelken/.conda/envs/ehr-env/lib/python3.11/site-packages (from torch) (12.1.105)\n",
      "Requirement already satisfied: triton==3.0.0 in /home/s.wendelken/.conda/envs/ehr-env/lib/python3.11/site-packages (from torch) (3.0.0)\n",
      "Requirement already satisfied: nvidia-nvjitlink-cu12 in /home/s.wendelken/.conda/envs/ehr-env/lib/python3.11/site-packages (from nvidia-cusolver-cu12==11.4.5.107->torch) (12.6.68)\n",
      "Requirement already satisfied: MarkupSafe>=2.0 in /home/s.wendelken/.conda/envs/ehr-env/lib/python3.11/site-packages (from jinja2->torch) (2.1.5)\n",
      "Requirement already satisfied: mpmath<1.4.0,>=1.1.0 in /home/s.wendelken/.conda/envs/ehr-env/lib/python3.11/site-packages (from sympy->torch) (1.3.0)\n"
     ]
    }
   ],
   "source": [
    "!pip install torch --upgrade"
   ]
  },
  {
   "cell_type": "code",
   "execution_count": null,
   "id": "5271dccc-f47b-4fa0-a873-4ef66df4426e",
   "metadata": {
    "tags": []
   },
   "outputs": [
    {
     "name": "stdout",
     "output_type": "stream",
     "text": [
      "The token has not been saved to the git credentials helper. Pass `add_to_git_credential=True` in this function directly or `--add-to-git-credential` if using via `huggingface-cli` if you want to set the git credential as well.\n",
      "Token is valid (permission: write).\n",
      "Your token has been saved to /home/tr.caron/.cache/huggingface/token\n",
      "Login successful\n"
     ]
    }
   ],
   "source": [
    "from huggingface_hub import login\n",
    "from config import HF_TOKEN\n",
    "\n",
    "login(token=HF_TOKEN) # suzanne key\n"
   ]
  },
  {
   "cell_type": "code",
   "execution_count": 9,
   "id": "cb1ed36c-5624-4ac9-af48-f1f1375614bb",
   "metadata": {
    "collapsed": true,
    "jupyter": {
     "outputs_hidden": true
    },
    "tags": []
   },
   "outputs": [
    {
     "name": "stdout",
     "output_type": "stream",
     "text": [
      "Collecting ipywidgets==7.7.1\n",
      "  Downloading ipywidgets-7.7.1-py2.py3-none-any.whl.metadata (1.9 kB)\n",
      "Requirement already satisfied: ipykernel>=4.5.1 in /home/s.wendelken/.conda/envs/ehr-env/lib/python3.11/site-packages (from ipywidgets==7.7.1) (6.25.0)\n",
      "Collecting ipython-genutils~=0.2.0 (from ipywidgets==7.7.1)\n",
      "  Downloading ipython_genutils-0.2.0-py2.py3-none-any.whl.metadata (755 bytes)\n",
      "Requirement already satisfied: traitlets>=4.3.1 in /home/s.wendelken/.conda/envs/ehr-env/lib/python3.11/site-packages (from ipywidgets==7.7.1) (5.7.1)\n",
      "Collecting widgetsnbextension~=3.6.0 (from ipywidgets==7.7.1)\n",
      "  Downloading widgetsnbextension-3.6.9-py2.py3-none-any.whl.metadata (1.3 kB)\n",
      "Requirement already satisfied: ipython>=4.0.0 in /home/s.wendelken/.conda/envs/ehr-env/lib/python3.11/site-packages (from ipywidgets==7.7.1) (8.15.0)\n",
      "Collecting jupyterlab-widgets>=1.0.0 (from ipywidgets==7.7.1)\n",
      "  Downloading jupyterlab_widgets-3.0.13-py3-none-any.whl.metadata (4.1 kB)\n",
      "Requirement already satisfied: comm>=0.1.1 in /home/s.wendelken/.conda/envs/ehr-env/lib/python3.11/site-packages (from ipykernel>=4.5.1->ipywidgets==7.7.1) (0.1.2)\n",
      "Requirement already satisfied: debugpy>=1.6.5 in /home/s.wendelken/.conda/envs/ehr-env/lib/python3.11/site-packages (from ipykernel>=4.5.1->ipywidgets==7.7.1) (1.6.7)\n",
      "Requirement already satisfied: jupyter-client>=6.1.12 in /home/s.wendelken/.conda/envs/ehr-env/lib/python3.11/site-packages (from ipykernel>=4.5.1->ipywidgets==7.7.1) (8.6.0)\n",
      "Requirement already satisfied: jupyter-core!=5.0.*,>=4.12 in /home/s.wendelken/.conda/envs/ehr-env/lib/python3.11/site-packages (from ipykernel>=4.5.1->ipywidgets==7.7.1) (5.5.0)\n",
      "Requirement already satisfied: matplotlib-inline>=0.1 in /home/s.wendelken/.conda/envs/ehr-env/lib/python3.11/site-packages (from ipykernel>=4.5.1->ipywidgets==7.7.1) (0.1.6)\n",
      "Requirement already satisfied: nest-asyncio in /home/s.wendelken/.conda/envs/ehr-env/lib/python3.11/site-packages (from ipykernel>=4.5.1->ipywidgets==7.7.1) (1.5.6)\n",
      "Requirement already satisfied: packaging in /home/s.wendelken/.conda/envs/ehr-env/lib/python3.11/site-packages (from ipykernel>=4.5.1->ipywidgets==7.7.1) (24.1)\n",
      "Requirement already satisfied: psutil in /home/s.wendelken/.conda/envs/ehr-env/lib/python3.11/site-packages (from ipykernel>=4.5.1->ipywidgets==7.7.1) (5.9.0)\n",
      "Requirement already satisfied: pyzmq>=20 in /home/s.wendelken/.conda/envs/ehr-env/lib/python3.11/site-packages (from ipykernel>=4.5.1->ipywidgets==7.7.1) (25.1.0)\n",
      "Requirement already satisfied: tornado>=6.1 in /home/s.wendelken/.conda/envs/ehr-env/lib/python3.11/site-packages (from ipykernel>=4.5.1->ipywidgets==7.7.1) (6.3.3)\n",
      "Requirement already satisfied: backcall in /home/s.wendelken/.conda/envs/ehr-env/lib/python3.11/site-packages (from ipython>=4.0.0->ipywidgets==7.7.1) (0.2.0)\n",
      "Requirement already satisfied: decorator in /home/s.wendelken/.conda/envs/ehr-env/lib/python3.11/site-packages (from ipython>=4.0.0->ipywidgets==7.7.1) (5.1.1)\n",
      "Requirement already satisfied: jedi>=0.16 in /home/s.wendelken/.conda/envs/ehr-env/lib/python3.11/site-packages (from ipython>=4.0.0->ipywidgets==7.7.1) (0.18.1)\n",
      "Requirement already satisfied: pickleshare in /home/s.wendelken/.conda/envs/ehr-env/lib/python3.11/site-packages (from ipython>=4.0.0->ipywidgets==7.7.1) (0.7.5)\n",
      "Requirement already satisfied: prompt-toolkit!=3.0.37,<3.1.0,>=3.0.30 in /home/s.wendelken/.conda/envs/ehr-env/lib/python3.11/site-packages (from ipython>=4.0.0->ipywidgets==7.7.1) (3.0.36)\n",
      "Requirement already satisfied: pygments>=2.4.0 in /home/s.wendelken/.conda/envs/ehr-env/lib/python3.11/site-packages (from ipython>=4.0.0->ipywidgets==7.7.1) (2.15.1)\n",
      "Requirement already satisfied: stack-data in /home/s.wendelken/.conda/envs/ehr-env/lib/python3.11/site-packages (from ipython>=4.0.0->ipywidgets==7.7.1) (0.2.0)\n",
      "Requirement already satisfied: pexpect>4.3 in /home/s.wendelken/.conda/envs/ehr-env/lib/python3.11/site-packages (from ipython>=4.0.0->ipywidgets==7.7.1) (4.8.0)\n",
      "Collecting notebook>=4.4.1 (from widgetsnbextension~=3.6.0->ipywidgets==7.7.1)\n",
      "  Downloading notebook-7.2.2-py3-none-any.whl.metadata (10 kB)\n",
      "Requirement already satisfied: parso<0.9.0,>=0.8.0 in /home/s.wendelken/.conda/envs/ehr-env/lib/python3.11/site-packages (from jedi>=0.16->ipython>=4.0.0->ipywidgets==7.7.1) (0.8.3)\n",
      "Requirement already satisfied: python-dateutil>=2.8.2 in /home/s.wendelken/.conda/envs/ehr-env/lib/python3.11/site-packages (from jupyter-client>=6.1.12->ipykernel>=4.5.1->ipywidgets==7.7.1) (2.8.2)\n",
      "Requirement already satisfied: platformdirs>=2.5 in /home/s.wendelken/.conda/envs/ehr-env/lib/python3.11/site-packages (from jupyter-core!=5.0.*,>=4.12->ipykernel>=4.5.1->ipywidgets==7.7.1) (3.10.0)\n",
      "Collecting jupyter-server<3,>=2.4.0 (from notebook>=4.4.1->widgetsnbextension~=3.6.0->ipywidgets==7.7.1)\n",
      "  Downloading jupyter_server-2.14.2-py3-none-any.whl.metadata (8.4 kB)\n",
      "Collecting jupyterlab-server<3,>=2.27.1 (from notebook>=4.4.1->widgetsnbextension~=3.6.0->ipywidgets==7.7.1)\n",
      "  Downloading jupyterlab_server-2.27.3-py3-none-any.whl.metadata (5.9 kB)\n",
      "Collecting jupyterlab<4.3,>=4.2.0 (from notebook>=4.4.1->widgetsnbextension~=3.6.0->ipywidgets==7.7.1)\n",
      "  Downloading jupyterlab-4.2.5-py3-none-any.whl.metadata (16 kB)\n",
      "Collecting notebook-shim<0.3,>=0.2 (from notebook>=4.4.1->widgetsnbextension~=3.6.0->ipywidgets==7.7.1)\n",
      "  Downloading notebook_shim-0.2.4-py3-none-any.whl.metadata (4.0 kB)\n",
      "Requirement already satisfied: ptyprocess>=0.5 in /home/s.wendelken/.conda/envs/ehr-env/lib/python3.11/site-packages (from pexpect>4.3->ipython>=4.0.0->ipywidgets==7.7.1) (0.7.0)\n",
      "Requirement already satisfied: wcwidth in /home/s.wendelken/.conda/envs/ehr-env/lib/python3.11/site-packages (from prompt-toolkit!=3.0.37,<3.1.0,>=3.0.30->ipython>=4.0.0->ipywidgets==7.7.1) (0.2.5)\n",
      "Requirement already satisfied: executing in /home/s.wendelken/.conda/envs/ehr-env/lib/python3.11/site-packages (from stack-data->ipython>=4.0.0->ipywidgets==7.7.1) (0.8.3)\n",
      "Requirement already satisfied: asttokens in /home/s.wendelken/.conda/envs/ehr-env/lib/python3.11/site-packages (from stack-data->ipython>=4.0.0->ipywidgets==7.7.1) (2.0.5)\n",
      "Requirement already satisfied: pure-eval in /home/s.wendelken/.conda/envs/ehr-env/lib/python3.11/site-packages (from stack-data->ipython>=4.0.0->ipywidgets==7.7.1) (0.2.2)\n",
      "Requirement already satisfied: anyio>=3.1.0 in /home/s.wendelken/.conda/envs/ehr-env/lib/python3.11/site-packages (from jupyter-server<3,>=2.4.0->notebook>=4.4.1->widgetsnbextension~=3.6.0->ipywidgets==7.7.1) (4.4.0)\n",
      "Collecting argon2-cffi>=21.1 (from jupyter-server<3,>=2.4.0->notebook>=4.4.1->widgetsnbextension~=3.6.0->ipywidgets==7.7.1)\n",
      "  Downloading argon2_cffi-23.1.0-py3-none-any.whl.metadata (5.2 kB)\n",
      "Requirement already satisfied: jinja2>=3.0.3 in /home/s.wendelken/.conda/envs/ehr-env/lib/python3.11/site-packages (from jupyter-server<3,>=2.4.0->notebook>=4.4.1->widgetsnbextension~=3.6.0->ipywidgets==7.7.1) (3.1.4)\n",
      "Collecting jupyter-events>=0.9.0 (from jupyter-server<3,>=2.4.0->notebook>=4.4.1->widgetsnbextension~=3.6.0->ipywidgets==7.7.1)\n",
      "  Downloading jupyter_events-0.10.0-py3-none-any.whl.metadata (5.9 kB)\n",
      "Collecting jupyter-server-terminals>=0.4.4 (from jupyter-server<3,>=2.4.0->notebook>=4.4.1->widgetsnbextension~=3.6.0->ipywidgets==7.7.1)\n",
      "  Downloading jupyter_server_terminals-0.5.3-py3-none-any.whl.metadata (5.6 kB)\n",
      "Collecting nbconvert>=6.4.4 (from jupyter-server<3,>=2.4.0->notebook>=4.4.1->widgetsnbextension~=3.6.0->ipywidgets==7.7.1)\n",
      "  Downloading nbconvert-7.16.4-py3-none-any.whl.metadata (8.5 kB)\n",
      "Collecting nbformat>=5.3.0 (from jupyter-server<3,>=2.4.0->notebook>=4.4.1->widgetsnbextension~=3.6.0->ipywidgets==7.7.1)\n",
      "  Downloading nbformat-5.10.4-py3-none-any.whl.metadata (3.6 kB)\n",
      "Requirement already satisfied: overrides>=5.0 in /home/s.wendelken/.conda/envs/ehr-env/lib/python3.11/site-packages (from jupyter-server<3,>=2.4.0->notebook>=4.4.1->widgetsnbextension~=3.6.0->ipywidgets==7.7.1) (7.7.0)\n",
      "Requirement already satisfied: prometheus-client>=0.9 in /home/s.wendelken/.conda/envs/ehr-env/lib/python3.11/site-packages (from jupyter-server<3,>=2.4.0->notebook>=4.4.1->widgetsnbextension~=3.6.0->ipywidgets==7.7.1) (0.20.0)\n",
      "Collecting send2trash>=1.8.2 (from jupyter-server<3,>=2.4.0->notebook>=4.4.1->widgetsnbextension~=3.6.0->ipywidgets==7.7.1)\n",
      "  Downloading Send2Trash-1.8.3-py3-none-any.whl.metadata (4.0 kB)\n",
      "Collecting terminado>=0.8.3 (from jupyter-server<3,>=2.4.0->notebook>=4.4.1->widgetsnbextension~=3.6.0->ipywidgets==7.7.1)\n",
      "  Downloading terminado-0.18.1-py3-none-any.whl.metadata (5.8 kB)\n",
      "Requirement already satisfied: websocket-client>=1.7 in /home/s.wendelken/.conda/envs/ehr-env/lib/python3.11/site-packages (from jupyter-server<3,>=2.4.0->notebook>=4.4.1->widgetsnbextension~=3.6.0->ipywidgets==7.7.1) (1.8.0)\n",
      "Collecting async-lru>=1.0.0 (from jupyterlab<4.3,>=4.2.0->notebook>=4.4.1->widgetsnbextension~=3.6.0->ipywidgets==7.7.1)\n",
      "  Downloading async_lru-2.0.4-py3-none-any.whl.metadata (4.5 kB)\n",
      "Requirement already satisfied: httpx>=0.25.0 in /home/s.wendelken/.conda/envs/ehr-env/lib/python3.11/site-packages (from jupyterlab<4.3,>=4.2.0->notebook>=4.4.1->widgetsnbextension~=3.6.0->ipywidgets==7.7.1) (0.27.0)\n",
      "Collecting jupyter-lsp>=2.0.0 (from jupyterlab<4.3,>=4.2.0->notebook>=4.4.1->widgetsnbextension~=3.6.0->ipywidgets==7.7.1)\n",
      "  Downloading jupyter_lsp-2.2.5-py3-none-any.whl.metadata (1.8 kB)\n",
      "Requirement already satisfied: setuptools>=40.1.0 in /home/s.wendelken/.conda/envs/ehr-env/lib/python3.11/site-packages (from jupyterlab<4.3,>=4.2.0->notebook>=4.4.1->widgetsnbextension~=3.6.0->ipywidgets==7.7.1) (68.0.0)\n",
      "Collecting babel>=2.10 (from jupyterlab-server<3,>=2.27.1->notebook>=4.4.1->widgetsnbextension~=3.6.0->ipywidgets==7.7.1)\n",
      "  Downloading babel-2.16.0-py3-none-any.whl.metadata (1.5 kB)\n",
      "Collecting json5>=0.9.0 (from jupyterlab-server<3,>=2.27.1->notebook>=4.4.1->widgetsnbextension~=3.6.0->ipywidgets==7.7.1)\n",
      "  Downloading json5-0.9.25-py3-none-any.whl.metadata (30 kB)\n",
      "Requirement already satisfied: jsonschema>=4.18.0 in /home/s.wendelken/.conda/envs/ehr-env/lib/python3.11/site-packages (from jupyterlab-server<3,>=2.27.1->notebook>=4.4.1->widgetsnbextension~=3.6.0->ipywidgets==7.7.1) (4.23.0)\n",
      "Requirement already satisfied: requests>=2.31 in /home/s.wendelken/.conda/envs/ehr-env/lib/python3.11/site-packages (from jupyterlab-server<3,>=2.27.1->notebook>=4.4.1->widgetsnbextension~=3.6.0->ipywidgets==7.7.1) (2.32.3)\n",
      "Requirement already satisfied: six>=1.5 in /home/s.wendelken/.conda/envs/ehr-env/lib/python3.11/site-packages (from python-dateutil>=2.8.2->jupyter-client>=6.1.12->ipykernel>=4.5.1->ipywidgets==7.7.1) (1.16.0)\n",
      "Requirement already satisfied: idna>=2.8 in /home/s.wendelken/.conda/envs/ehr-env/lib/python3.11/site-packages (from anyio>=3.1.0->jupyter-server<3,>=2.4.0->notebook>=4.4.1->widgetsnbextension~=3.6.0->ipywidgets==7.7.1) (3.7)\n",
      "Requirement already satisfied: sniffio>=1.1 in /home/s.wendelken/.conda/envs/ehr-env/lib/python3.11/site-packages (from anyio>=3.1.0->jupyter-server<3,>=2.4.0->notebook>=4.4.1->widgetsnbextension~=3.6.0->ipywidgets==7.7.1) (1.3.1)\n",
      "Collecting argon2-cffi-bindings (from argon2-cffi>=21.1->jupyter-server<3,>=2.4.0->notebook>=4.4.1->widgetsnbextension~=3.6.0->ipywidgets==7.7.1)\n",
      "  Downloading argon2_cffi_bindings-21.2.0-cp36-abi3-manylinux_2_17_x86_64.manylinux2014_x86_64.whl.metadata (6.7 kB)\n",
      "Requirement already satisfied: certifi in /home/s.wendelken/.conda/envs/ehr-env/lib/python3.11/site-packages (from httpx>=0.25.0->jupyterlab<4.3,>=4.2.0->notebook>=4.4.1->widgetsnbextension~=3.6.0->ipywidgets==7.7.1) (2024.6.2)\n",
      "Requirement already satisfied: httpcore==1.* in /home/s.wendelken/.conda/envs/ehr-env/lib/python3.11/site-packages (from httpx>=0.25.0->jupyterlab<4.3,>=4.2.0->notebook>=4.4.1->widgetsnbextension~=3.6.0->ipywidgets==7.7.1) (1.0.5)\n",
      "Requirement already satisfied: h11<0.15,>=0.13 in /home/s.wendelken/.conda/envs/ehr-env/lib/python3.11/site-packages (from httpcore==1.*->httpx>=0.25.0->jupyterlab<4.3,>=4.2.0->notebook>=4.4.1->widgetsnbextension~=3.6.0->ipywidgets==7.7.1) (0.14.0)\n",
      "Requirement already satisfied: MarkupSafe>=2.0 in /home/s.wendelken/.conda/envs/ehr-env/lib/python3.11/site-packages (from jinja2>=3.0.3->jupyter-server<3,>=2.4.0->notebook>=4.4.1->widgetsnbextension~=3.6.0->ipywidgets==7.7.1) (2.1.5)\n",
      "Requirement already satisfied: attrs>=22.2.0 in /home/s.wendelken/.conda/envs/ehr-env/lib/python3.11/site-packages (from jsonschema>=4.18.0->jupyterlab-server<3,>=2.27.1->notebook>=4.4.1->widgetsnbextension~=3.6.0->ipywidgets==7.7.1) (23.2.0)\n",
      "Requirement already satisfied: jsonschema-specifications>=2023.03.6 in /home/s.wendelken/.conda/envs/ehr-env/lib/python3.11/site-packages (from jsonschema>=4.18.0->jupyterlab-server<3,>=2.27.1->notebook>=4.4.1->widgetsnbextension~=3.6.0->ipywidgets==7.7.1) (2023.12.1)\n",
      "Requirement already satisfied: referencing>=0.28.4 in /home/s.wendelken/.conda/envs/ehr-env/lib/python3.11/site-packages (from jsonschema>=4.18.0->jupyterlab-server<3,>=2.27.1->notebook>=4.4.1->widgetsnbextension~=3.6.0->ipywidgets==7.7.1) (0.35.1)\n",
      "Requirement already satisfied: rpds-py>=0.7.1 in /home/s.wendelken/.conda/envs/ehr-env/lib/python3.11/site-packages (from jsonschema>=4.18.0->jupyterlab-server<3,>=2.27.1->notebook>=4.4.1->widgetsnbextension~=3.6.0->ipywidgets==7.7.1) (0.20.0)\n",
      "Collecting python-json-logger>=2.0.4 (from jupyter-events>=0.9.0->jupyter-server<3,>=2.4.0->notebook>=4.4.1->widgetsnbextension~=3.6.0->ipywidgets==7.7.1)\n",
      "  Downloading python_json_logger-2.0.7-py3-none-any.whl.metadata (6.5 kB)\n",
      "Requirement already satisfied: pyyaml>=5.3 in /home/s.wendelken/.conda/envs/ehr-env/lib/python3.11/site-packages (from jupyter-events>=0.9.0->jupyter-server<3,>=2.4.0->notebook>=4.4.1->widgetsnbextension~=3.6.0->ipywidgets==7.7.1) (6.0.1)\n",
      "Collecting rfc3339-validator (from jupyter-events>=0.9.0->jupyter-server<3,>=2.4.0->notebook>=4.4.1->widgetsnbextension~=3.6.0->ipywidgets==7.7.1)\n",
      "  Downloading rfc3339_validator-0.1.4-py2.py3-none-any.whl.metadata (1.5 kB)\n",
      "Collecting rfc3986-validator>=0.1.1 (from jupyter-events>=0.9.0->jupyter-server<3,>=2.4.0->notebook>=4.4.1->widgetsnbextension~=3.6.0->ipywidgets==7.7.1)\n",
      "  Downloading rfc3986_validator-0.1.1-py2.py3-none-any.whl.metadata (1.7 kB)\n",
      "Collecting beautifulsoup4 (from nbconvert>=6.4.4->jupyter-server<3,>=2.4.0->notebook>=4.4.1->widgetsnbextension~=3.6.0->ipywidgets==7.7.1)\n",
      "  Downloading beautifulsoup4-4.12.3-py3-none-any.whl.metadata (3.8 kB)\n",
      "Collecting bleach!=5.0.0 (from nbconvert>=6.4.4->jupyter-server<3,>=2.4.0->notebook>=4.4.1->widgetsnbextension~=3.6.0->ipywidgets==7.7.1)\n",
      "  Downloading bleach-6.1.0-py3-none-any.whl.metadata (30 kB)\n",
      "Collecting defusedxml (from nbconvert>=6.4.4->jupyter-server<3,>=2.4.0->notebook>=4.4.1->widgetsnbextension~=3.6.0->ipywidgets==7.7.1)\n",
      "  Downloading defusedxml-0.7.1-py2.py3-none-any.whl.metadata (32 kB)\n",
      "Collecting jupyterlab-pygments (from nbconvert>=6.4.4->jupyter-server<3,>=2.4.0->notebook>=4.4.1->widgetsnbextension~=3.6.0->ipywidgets==7.7.1)\n",
      "  Downloading jupyterlab_pygments-0.3.0-py3-none-any.whl.metadata (4.4 kB)\n",
      "Collecting mistune<4,>=2.0.3 (from nbconvert>=6.4.4->jupyter-server<3,>=2.4.0->notebook>=4.4.1->widgetsnbextension~=3.6.0->ipywidgets==7.7.1)\n",
      "  Downloading mistune-3.0.2-py3-none-any.whl.metadata (1.7 kB)\n",
      "Collecting nbclient>=0.5.0 (from nbconvert>=6.4.4->jupyter-server<3,>=2.4.0->notebook>=4.4.1->widgetsnbextension~=3.6.0->ipywidgets==7.7.1)\n",
      "  Downloading nbclient-0.10.0-py3-none-any.whl.metadata (7.8 kB)\n",
      "Collecting pandocfilters>=1.4.1 (from nbconvert>=6.4.4->jupyter-server<3,>=2.4.0->notebook>=4.4.1->widgetsnbextension~=3.6.0->ipywidgets==7.7.1)\n",
      "  Downloading pandocfilters-1.5.1-py2.py3-none-any.whl.metadata (9.0 kB)\n",
      "Collecting tinycss2 (from nbconvert>=6.4.4->jupyter-server<3,>=2.4.0->notebook>=4.4.1->widgetsnbextension~=3.6.0->ipywidgets==7.7.1)\n",
      "  Downloading tinycss2-1.3.0-py3-none-any.whl.metadata (3.0 kB)\n",
      "Collecting fastjsonschema>=2.15 (from nbformat>=5.3.0->jupyter-server<3,>=2.4.0->notebook>=4.4.1->widgetsnbextension~=3.6.0->ipywidgets==7.7.1)\n",
      "  Downloading fastjsonschema-2.20.0-py3-none-any.whl.metadata (2.1 kB)\n",
      "Requirement already satisfied: charset-normalizer<4,>=2 in /home/s.wendelken/.conda/envs/ehr-env/lib/python3.11/site-packages (from requests>=2.31->jupyterlab-server<3,>=2.27.1->notebook>=4.4.1->widgetsnbextension~=3.6.0->ipywidgets==7.7.1) (3.3.2)\n",
      "Requirement already satisfied: urllib3<3,>=1.21.1 in /home/s.wendelken/.conda/envs/ehr-env/lib/python3.11/site-packages (from requests>=2.31->jupyterlab-server<3,>=2.27.1->notebook>=4.4.1->widgetsnbextension~=3.6.0->ipywidgets==7.7.1) (2.2.2)\n",
      "Collecting webencodings (from bleach!=5.0.0->nbconvert>=6.4.4->jupyter-server<3,>=2.4.0->notebook>=4.4.1->widgetsnbextension~=3.6.0->ipywidgets==7.7.1)\n",
      "  Downloading webencodings-0.5.1-py2.py3-none-any.whl.metadata (2.1 kB)\n",
      "Collecting fqdn (from jsonschema[format-nongpl]>=4.18.0->jupyter-events>=0.9.0->jupyter-server<3,>=2.4.0->notebook>=4.4.1->widgetsnbextension~=3.6.0->ipywidgets==7.7.1)\n",
      "  Downloading fqdn-1.5.1-py3-none-any.whl.metadata (1.4 kB)\n",
      "Collecting isoduration (from jsonschema[format-nongpl]>=4.18.0->jupyter-events>=0.9.0->jupyter-server<3,>=2.4.0->notebook>=4.4.1->widgetsnbextension~=3.6.0->ipywidgets==7.7.1)\n",
      "  Downloading isoduration-20.11.0-py3-none-any.whl.metadata (5.7 kB)\n",
      "Requirement already satisfied: jsonpointer>1.13 in /home/s.wendelken/.conda/envs/ehr-env/lib/python3.11/site-packages (from jsonschema[format-nongpl]>=4.18.0->jupyter-events>=0.9.0->jupyter-server<3,>=2.4.0->notebook>=4.4.1->widgetsnbextension~=3.6.0->ipywidgets==7.7.1) (3.0.0)\n",
      "Collecting uri-template (from jsonschema[format-nongpl]>=4.18.0->jupyter-events>=0.9.0->jupyter-server<3,>=2.4.0->notebook>=4.4.1->widgetsnbextension~=3.6.0->ipywidgets==7.7.1)\n",
      "  Downloading uri_template-1.3.0-py3-none-any.whl.metadata (8.8 kB)\n",
      "Collecting webcolors>=24.6.0 (from jsonschema[format-nongpl]>=4.18.0->jupyter-events>=0.9.0->jupyter-server<3,>=2.4.0->notebook>=4.4.1->widgetsnbextension~=3.6.0->ipywidgets==7.7.1)\n",
      "  Downloading webcolors-24.8.0-py3-none-any.whl.metadata (2.6 kB)\n",
      "Collecting cffi>=1.0.1 (from argon2-cffi-bindings->argon2-cffi>=21.1->jupyter-server<3,>=2.4.0->notebook>=4.4.1->widgetsnbextension~=3.6.0->ipywidgets==7.7.1)\n",
      "  Downloading cffi-1.17.1-cp311-cp311-manylinux_2_17_x86_64.manylinux2014_x86_64.whl.metadata (1.5 kB)\n",
      "Collecting soupsieve>1.2 (from beautifulsoup4->nbconvert>=6.4.4->jupyter-server<3,>=2.4.0->notebook>=4.4.1->widgetsnbextension~=3.6.0->ipywidgets==7.7.1)\n",
      "  Downloading soupsieve-2.6-py3-none-any.whl.metadata (4.6 kB)\n",
      "Collecting pycparser (from cffi>=1.0.1->argon2-cffi-bindings->argon2-cffi>=21.1->jupyter-server<3,>=2.4.0->notebook>=4.4.1->widgetsnbextension~=3.6.0->ipywidgets==7.7.1)\n",
      "  Downloading pycparser-2.22-py3-none-any.whl.metadata (943 bytes)\n",
      "Collecting arrow>=0.15.0 (from isoduration->jsonschema[format-nongpl]>=4.18.0->jupyter-events>=0.9.0->jupyter-server<3,>=2.4.0->notebook>=4.4.1->widgetsnbextension~=3.6.0->ipywidgets==7.7.1)\n",
      "  Downloading arrow-1.3.0-py3-none-any.whl.metadata (7.5 kB)\n",
      "Collecting types-python-dateutil>=2.8.10 (from arrow>=0.15.0->isoduration->jsonschema[format-nongpl]>=4.18.0->jupyter-events>=0.9.0->jupyter-server<3,>=2.4.0->notebook>=4.4.1->widgetsnbextension~=3.6.0->ipywidgets==7.7.1)\n",
      "  Downloading types_python_dateutil-2.9.0.20240906-py3-none-any.whl.metadata (1.9 kB)\n",
      "Downloading ipywidgets-7.7.1-py2.py3-none-any.whl (123 kB)\n",
      "\u001b[2K   \u001b[90m━━━━━━━━━━━━━━━━━━━━━━━━━━━━━━━━━━━━━━━━\u001b[0m \u001b[32m123.4/123.4 kB\u001b[0m \u001b[31m1.2 MB/s\u001b[0m eta \u001b[36m0:00:00\u001b[0m00:01\u001b[0m\n",
      "\u001b[?25hDownloading ipython_genutils-0.2.0-py2.py3-none-any.whl (26 kB)\n",
      "Downloading jupyterlab_widgets-3.0.13-py3-none-any.whl (214 kB)\n",
      "\u001b[2K   \u001b[90m━━━━━━━━━━━━━━━━━━━━━━━━━━━━━━━━━━━━━━━━\u001b[0m \u001b[32m214.4/214.4 kB\u001b[0m \u001b[31m1.3 MB/s\u001b[0m eta \u001b[36m0:00:00\u001b[0mta \u001b[36m0:00:01\u001b[0m\n",
      "\u001b[?25hDownloading widgetsnbextension-3.6.9-py2.py3-none-any.whl (1.5 MB)\n",
      "\u001b[2K   \u001b[90m━━━━━━━━━━━━━━━━━━━━━━━━━━━━━━━━━━━━━━━━\u001b[0m \u001b[32m1.5/1.5 MB\u001b[0m \u001b[31m8.3 MB/s\u001b[0m eta \u001b[36m0:00:00\u001b[0m:00:01\u001b[0m\n",
      "\u001b[?25hDownloading notebook-7.2.2-py3-none-any.whl (5.0 MB)\n",
      "\u001b[2K   \u001b[90m━━━━━━━━━━━━━━━━━━━━━━━━━━━━━━━━━━━━━━━━\u001b[0m \u001b[32m5.0/5.0 MB\u001b[0m \u001b[31m22.6 MB/s\u001b[0m eta \u001b[36m0:00:00\u001b[0m:00:01\u001b[0m00:01\u001b[0m\n",
      "\u001b[?25hDownloading jupyter_server-2.14.2-py3-none-any.whl (383 kB)\n",
      "\u001b[2K   \u001b[90m━━━━━━━━━━━━━━━━━━━━━━━━━━━━━━━━━━━━━━━━\u001b[0m \u001b[32m383.6/383.6 kB\u001b[0m \u001b[31m3.2 MB/s\u001b[0m eta \u001b[36m0:00:00\u001b[0m:00:01\u001b[0m\n",
      "\u001b[?25hDownloading jupyterlab-4.2.5-py3-none-any.whl (11.6 MB)\n",
      "\u001b[2K   \u001b[90m━━━━━━━━━━━━━━━━━━━━━━━━━━━━━━━━━━━━━━━━\u001b[0m \u001b[32m11.6/11.6 MB\u001b[0m \u001b[31m29.7 MB/s\u001b[0m eta \u001b[36m0:00:00\u001b[0m:00:01\u001b[0m0:01\u001b[0m\n",
      "\u001b[?25hDownloading jupyterlab_server-2.27.3-py3-none-any.whl (59 kB)\n",
      "\u001b[2K   \u001b[90m━━━━━━━━━━━━━━━━━━━━━━━━━━━━━━━━━━━━━━━━\u001b[0m \u001b[32m59.7/59.7 kB\u001b[0m \u001b[31m293.3 kB/s\u001b[0m eta \u001b[36m0:00:00\u001b[0m \u001b[36m0:00:01\u001b[0m\n",
      "\u001b[?25hDownloading notebook_shim-0.2.4-py3-none-any.whl (13 kB)\n",
      "Downloading argon2_cffi-23.1.0-py3-none-any.whl (15 kB)\n",
      "Downloading async_lru-2.0.4-py3-none-any.whl (6.1 kB)\n",
      "Downloading babel-2.16.0-py3-none-any.whl (9.6 MB)\n",
      "\u001b[2K   \u001b[90m━━━━━━━━━━━━━━━━━━━━━━━━━━━━━━━━━━━━━━━━\u001b[0m \u001b[32m9.6/9.6 MB\u001b[0m \u001b[31m33.9 MB/s\u001b[0m eta \u001b[36m0:00:00\u001b[0m:00:01\u001b[0m00:01\u001b[0m\n",
      "\u001b[?25hDownloading json5-0.9.25-py3-none-any.whl (30 kB)\n",
      "Downloading jupyter_events-0.10.0-py3-none-any.whl (18 kB)\n",
      "Downloading jupyter_lsp-2.2.5-py3-none-any.whl (69 kB)\n",
      "\u001b[2K   \u001b[90m━━━━━━━━━━━━━━━━━━━━━━━━━━━━━━━━━━━━━━━━\u001b[0m \u001b[32m69.1/69.1 kB\u001b[0m \u001b[31m266.2 kB/s\u001b[0m eta \u001b[36m0:00:00\u001b[0m \u001b[36m0:00:01\u001b[0m\n",
      "\u001b[?25hDownloading jupyter_server_terminals-0.5.3-py3-none-any.whl (13 kB)\n",
      "Downloading nbconvert-7.16.4-py3-none-any.whl (257 kB)\n",
      "\u001b[2K   \u001b[90m━━━━━━━━━━━━━━━━━━━━━━━━━━━━━━━━━━━━━━━━\u001b[0m \u001b[32m257.4/257.4 kB\u001b[0m \u001b[31m1.7 MB/s\u001b[0m eta \u001b[36m0:00:00\u001b[0m:00:01\u001b[0m\n",
      "\u001b[?25hDownloading nbformat-5.10.4-py3-none-any.whl (78 kB)\n",
      "\u001b[2K   \u001b[90m━━━━━━━━━━━━━━━━━━━━━━━━━━━━━━━━━━━━━━━━\u001b[0m \u001b[32m78.5/78.5 kB\u001b[0m \u001b[31m324.8 kB/s\u001b[0m eta \u001b[36m0:00:00\u001b[0ma \u001b[36m0:00:01\u001b[0m\n",
      "\u001b[?25hDownloading Send2Trash-1.8.3-py3-none-any.whl (18 kB)\n",
      "Downloading terminado-0.18.1-py3-none-any.whl (14 kB)\n",
      "Downloading bleach-6.1.0-py3-none-any.whl (162 kB)\n",
      "\u001b[2K   \u001b[90m━━━━━━━━━━━━━━━━━━━━━━━━━━━━━━━━━━━━━━━\u001b[0m \u001b[32m162.8/162.8 kB\u001b[0m \u001b[31m925.0 kB/s\u001b[0m eta \u001b[36m0:00:00\u001b[0ma \u001b[36m0:00:01\u001b[0m\n",
      "\u001b[?25hDownloading fastjsonschema-2.20.0-py3-none-any.whl (23 kB)\n",
      "Downloading mistune-3.0.2-py3-none-any.whl (47 kB)\n",
      "\u001b[2K   \u001b[90m━━━━━━━━━━━━━━━━━━━━━━━━━━━━━━━━━━━━━━━━\u001b[0m \u001b[32m48.0/48.0 kB\u001b[0m \u001b[31m220.5 kB/s\u001b[0m eta \u001b[36m0:00:00\u001b[0m \u001b[36m0:00:01\u001b[0m\n",
      "\u001b[?25hDownloading nbclient-0.10.0-py3-none-any.whl (25 kB)\n",
      "Downloading pandocfilters-1.5.1-py2.py3-none-any.whl (8.7 kB)\n",
      "Downloading python_json_logger-2.0.7-py3-none-any.whl (8.1 kB)\n",
      "Downloading rfc3986_validator-0.1.1-py2.py3-none-any.whl (4.2 kB)\n",
      "Downloading argon2_cffi_bindings-21.2.0-cp36-abi3-manylinux_2_17_x86_64.manylinux2014_x86_64.whl (86 kB)\n",
      "\u001b[2K   \u001b[90m━━━━━━━━━━━━━━━━━━━━━━━━━━━━━━━━━━━━━━━━\u001b[0m \u001b[32m86.2/86.2 kB\u001b[0m \u001b[31m464.8 kB/s\u001b[0m eta \u001b[36m0:00:00\u001b[0m \u001b[36m0:00:01\u001b[0m\n",
      "\u001b[?25hDownloading beautifulsoup4-4.12.3-py3-none-any.whl (147 kB)\n",
      "\u001b[2K   \u001b[90m━━━━━━━━━━━━━━━━━━━━━━━━━━━━━━━━━━━━━━━\u001b[0m \u001b[32m147.9/147.9 kB\u001b[0m \u001b[31m681.9 kB/s\u001b[0m eta \u001b[36m0:00:00\u001b[0ma \u001b[36m0:00:01\u001b[0m\n",
      "\u001b[?25hDownloading defusedxml-0.7.1-py2.py3-none-any.whl (25 kB)\n",
      "Downloading jupyterlab_pygments-0.3.0-py3-none-any.whl (15 kB)\n",
      "Downloading rfc3339_validator-0.1.4-py2.py3-none-any.whl (3.5 kB)\n",
      "Downloading tinycss2-1.3.0-py3-none-any.whl (22 kB)\n",
      "Downloading cffi-1.17.1-cp311-cp311-manylinux_2_17_x86_64.manylinux2014_x86_64.whl (467 kB)\n",
      "\u001b[2K   \u001b[90m━━━━━━━━━━━━━━━━━━━━━━━━━━━━━━━━━━━━━━━━\u001b[0m \u001b[32m467.2/467.2 kB\u001b[0m \u001b[31m2.3 MB/s\u001b[0m eta \u001b[36m0:00:00\u001b[0m:00:01\u001b[0m\n",
      "\u001b[?25hDownloading soupsieve-2.6-py3-none-any.whl (36 kB)\n",
      "Downloading webcolors-24.8.0-py3-none-any.whl (15 kB)\n",
      "Downloading webencodings-0.5.1-py2.py3-none-any.whl (11 kB)\n",
      "Downloading fqdn-1.5.1-py3-none-any.whl (9.1 kB)\n",
      "Downloading isoduration-20.11.0-py3-none-any.whl (11 kB)\n",
      "Downloading uri_template-1.3.0-py3-none-any.whl (11 kB)\n",
      "Downloading arrow-1.3.0-py3-none-any.whl (66 kB)\n",
      "\u001b[2K   \u001b[90m━━━━━━━━━━━━━━━━━━━━━━━━━━━━━━━━━━━━━━━━\u001b[0m \u001b[32m66.4/66.4 kB\u001b[0m \u001b[31m425.7 kB/s\u001b[0m eta \u001b[36m0:00:00\u001b[0m \u001b[36m0:00:01\u001b[0m\n",
      "\u001b[?25hDownloading pycparser-2.22-py3-none-any.whl (117 kB)\n",
      "\u001b[2K   \u001b[90m━━━━━━━━━━━━━━━━━━━━━━━━━━━━━━━━━━━━━━━\u001b[0m \u001b[32m117.6/117.6 kB\u001b[0m \u001b[31m537.5 kB/s\u001b[0m eta \u001b[36m0:00:00\u001b[0ma \u001b[36m0:00:01\u001b[0m\n",
      "\u001b[?25hDownloading types_python_dateutil-2.9.0.20240906-py3-none-any.whl (9.7 kB)\n",
      "Installing collected packages: webencodings, ipython-genutils, fastjsonschema, webcolors, uri-template, types-python-dateutil, tinycss2, terminado, soupsieve, send2trash, rfc3986-validator, rfc3339-validator, python-json-logger, pycparser, pandocfilters, mistune, jupyterlab-widgets, jupyterlab-pygments, json5, fqdn, defusedxml, bleach, babel, async-lru, jupyter-server-terminals, cffi, beautifulsoup4, arrow, isoduration, argon2-cffi-bindings, nbformat, argon2-cffi, nbclient, jupyter-events, nbconvert, jupyter-server, notebook-shim, jupyterlab-server, jupyter-lsp, jupyterlab, notebook, widgetsnbextension, ipywidgets\n",
      "Successfully installed argon2-cffi-23.1.0 argon2-cffi-bindings-21.2.0 arrow-1.3.0 async-lru-2.0.4 babel-2.16.0 beautifulsoup4-4.12.3 bleach-6.1.0 cffi-1.17.1 defusedxml-0.7.1 fastjsonschema-2.20.0 fqdn-1.5.1 ipython-genutils-0.2.0 ipywidgets-7.7.1 isoduration-20.11.0 json5-0.9.25 jupyter-events-0.10.0 jupyter-lsp-2.2.5 jupyter-server-2.14.2 jupyter-server-terminals-0.5.3 jupyterlab-4.2.5 jupyterlab-pygments-0.3.0 jupyterlab-server-2.27.3 jupyterlab-widgets-3.0.13 mistune-3.0.2 nbclient-0.10.0 nbconvert-7.16.4 nbformat-5.10.4 notebook-7.2.2 notebook-shim-0.2.4 pandocfilters-1.5.1 pycparser-2.22 python-json-logger-2.0.7 rfc3339-validator-0.1.4 rfc3986-validator-0.1.1 send2trash-1.8.3 soupsieve-2.6 terminado-0.18.1 tinycss2-1.3.0 types-python-dateutil-2.9.0.20240906 uri-template-1.3.0 webcolors-24.8.0 webencodings-0.5.1 widgetsnbextension-3.6.9\n"
     ]
    }
   ],
   "source": [
    "!pip install ipywidgets==7.7.1"
   ]
  },
  {
   "cell_type": "code",
   "execution_count": 16,
   "id": "dfdbc516",
   "metadata": {},
   "outputs": [
    {
     "name": "stdout",
     "output_type": "stream",
     "text": [
      "Requirement already satisfied: vllm in /home/s.wendelken/.conda/envs/ehr-env/lib/python3.11/site-packages (0.6.1)\n",
      "Requirement already satisfied: psutil in /home/s.wendelken/.conda/envs/ehr-env/lib/python3.11/site-packages (from vllm) (5.9.0)\n",
      "Requirement already satisfied: sentencepiece in /home/s.wendelken/.conda/envs/ehr-env/lib/python3.11/site-packages (from vllm) (0.2.0)\n",
      "Requirement already satisfied: numpy<2.0.0 in /home/s.wendelken/.conda/envs/ehr-env/lib/python3.11/site-packages (from vllm) (1.26.4)\n",
      "Requirement already satisfied: requests in /home/s.wendelken/.conda/envs/ehr-env/lib/python3.11/site-packages (from vllm) (2.32.3)\n",
      "Requirement already satisfied: tqdm in /home/s.wendelken/.conda/envs/ehr-env/lib/python3.11/site-packages (from vllm) (4.66.4)\n",
      "Requirement already satisfied: py-cpuinfo in /home/s.wendelken/.conda/envs/ehr-env/lib/python3.11/site-packages (from vllm) (9.0.0)\n",
      "Requirement already satisfied: transformers>=4.43.2 in /home/s.wendelken/.conda/envs/ehr-env/lib/python3.11/site-packages (from vllm) (4.44.2)\n",
      "Requirement already satisfied: tokenizers>=0.19.1 in /home/s.wendelken/.conda/envs/ehr-env/lib/python3.11/site-packages (from vllm) (0.19.1)\n",
      "Requirement already satisfied: protobuf in /home/s.wendelken/.conda/envs/ehr-env/lib/python3.11/site-packages (from vllm) (4.25.3)\n",
      "Requirement already satisfied: fastapi in /home/s.wendelken/.conda/envs/ehr-env/lib/python3.11/site-packages (from vllm) (0.111.0)\n",
      "Requirement already satisfied: aiohttp in /home/s.wendelken/.conda/envs/ehr-env/lib/python3.11/site-packages (from vllm) (3.9.5)\n",
      "Requirement already satisfied: openai>=1.40.0 in /home/s.wendelken/.conda/envs/ehr-env/lib/python3.11/site-packages (from vllm) (1.44.1)\n",
      "Requirement already satisfied: uvicorn[standard] in /home/s.wendelken/.conda/envs/ehr-env/lib/python3.11/site-packages (from vllm) (0.30.1)\n",
      "Requirement already satisfied: pydantic>=2.8 in /home/s.wendelken/.conda/envs/ehr-env/lib/python3.11/site-packages (from vllm) (2.8.0)\n",
      "Requirement already satisfied: pillow in /home/s.wendelken/.conda/envs/ehr-env/lib/python3.11/site-packages (from vllm) (10.4.0)\n",
      "Requirement already satisfied: prometheus-client>=0.18.0 in /home/s.wendelken/.conda/envs/ehr-env/lib/python3.11/site-packages (from vllm) (0.20.0)\n",
      "Requirement already satisfied: prometheus-fastapi-instrumentator>=7.0.0 in /home/s.wendelken/.conda/envs/ehr-env/lib/python3.11/site-packages (from vllm) (7.0.0)\n",
      "Requirement already satisfied: tiktoken>=0.6.0 in /home/s.wendelken/.conda/envs/ehr-env/lib/python3.11/site-packages (from vllm) (0.7.0)\n",
      "Requirement already satisfied: lm-format-enforcer==0.10.6 in /home/s.wendelken/.conda/envs/ehr-env/lib/python3.11/site-packages (from vllm) (0.10.6)\n",
      "Requirement already satisfied: outlines<0.1,>=0.0.43 in /home/s.wendelken/.conda/envs/ehr-env/lib/python3.11/site-packages (from vllm) (0.0.46)\n",
      "Requirement already satisfied: typing-extensions>=4.10 in /home/s.wendelken/.conda/envs/ehr-env/lib/python3.11/site-packages (from vllm) (4.12.2)\n",
      "Requirement already satisfied: filelock>=3.10.4 in /home/s.wendelken/.conda/envs/ehr-env/lib/python3.11/site-packages (from vllm) (3.15.4)\n",
      "Requirement already satisfied: partial-json-parser in /home/s.wendelken/.conda/envs/ehr-env/lib/python3.11/site-packages (from vllm) (0.2.1.1.post4)\n",
      "Requirement already satisfied: pyzmq in /home/s.wendelken/.conda/envs/ehr-env/lib/python3.11/site-packages (from vllm) (25.1.0)\n",
      "Requirement already satisfied: msgspec in /home/s.wendelken/.conda/envs/ehr-env/lib/python3.11/site-packages (from vllm) (0.18.6)\n",
      "Requirement already satisfied: gguf==0.9.1 in /home/s.wendelken/.conda/envs/ehr-env/lib/python3.11/site-packages (from vllm) (0.9.1)\n",
      "Requirement already satisfied: importlib-metadata in /home/s.wendelken/.conda/envs/ehr-env/lib/python3.11/site-packages (from vllm) (7.1.0)\n",
      "Requirement already satisfied: mistral-common>=1.4.0 in /home/s.wendelken/.conda/envs/ehr-env/lib/python3.11/site-packages (from vllm) (1.4.0)\n",
      "Requirement already satisfied: pyyaml in /home/s.wendelken/.conda/envs/ehr-env/lib/python3.11/site-packages (from vllm) (6.0.1)\n",
      "Requirement already satisfied: einops in /home/s.wendelken/.conda/envs/ehr-env/lib/python3.11/site-packages (from vllm) (0.8.0)\n",
      "Requirement already satisfied: ray>=2.9 in /home/s.wendelken/.conda/envs/ehr-env/lib/python3.11/site-packages (from vllm) (2.35.0)\n",
      "Requirement already satisfied: nvidia-ml-py in /home/s.wendelken/.conda/envs/ehr-env/lib/python3.11/site-packages (from vllm) (12.560.30)\n",
      "Collecting torch==2.4.0 (from vllm)\n",
      "  Using cached torch-2.4.0-cp311-cp311-manylinux1_x86_64.whl.metadata (26 kB)\n",
      "Requirement already satisfied: torchvision==0.19 in /home/s.wendelken/.conda/envs/ehr-env/lib/python3.11/site-packages (from vllm) (0.19.0)\n",
      "Requirement already satisfied: xformers==0.0.27.post2 in /home/s.wendelken/.conda/envs/ehr-env/lib/python3.11/site-packages (from vllm) (0.0.27.post2)\n",
      "Requirement already satisfied: vllm-flash-attn==2.6.1 in /home/s.wendelken/.conda/envs/ehr-env/lib/python3.11/site-packages (from vllm) (2.6.1)\n",
      "Requirement already satisfied: interegular>=0.3.2 in /home/s.wendelken/.conda/envs/ehr-env/lib/python3.11/site-packages (from lm-format-enforcer==0.10.6->vllm) (0.3.3)\n",
      "Requirement already satisfied: packaging in /home/s.wendelken/.conda/envs/ehr-env/lib/python3.11/site-packages (from lm-format-enforcer==0.10.6->vllm) (24.1)\n",
      "Requirement already satisfied: sympy in /home/s.wendelken/.conda/envs/ehr-env/lib/python3.11/site-packages (from torch==2.4.0->vllm) (1.12.1)\n",
      "Requirement already satisfied: networkx in /home/s.wendelken/.conda/envs/ehr-env/lib/python3.11/site-packages (from torch==2.4.0->vllm) (3.3)\n",
      "Requirement already satisfied: jinja2 in /home/s.wendelken/.conda/envs/ehr-env/lib/python3.11/site-packages (from torch==2.4.0->vllm) (3.1.4)\n",
      "Requirement already satisfied: fsspec in /home/s.wendelken/.conda/envs/ehr-env/lib/python3.11/site-packages (from torch==2.4.0->vllm) (2024.6.1)\n",
      "Requirement already satisfied: nvidia-cuda-nvrtc-cu12==12.1.105 in /home/s.wendelken/.conda/envs/ehr-env/lib/python3.11/site-packages (from torch==2.4.0->vllm) (12.1.105)\n",
      "Requirement already satisfied: nvidia-cuda-runtime-cu12==12.1.105 in /home/s.wendelken/.conda/envs/ehr-env/lib/python3.11/site-packages (from torch==2.4.0->vllm) (12.1.105)\n",
      "Requirement already satisfied: nvidia-cuda-cupti-cu12==12.1.105 in /home/s.wendelken/.conda/envs/ehr-env/lib/python3.11/site-packages (from torch==2.4.0->vllm) (12.1.105)\n",
      "Requirement already satisfied: nvidia-cudnn-cu12==9.1.0.70 in /home/s.wendelken/.conda/envs/ehr-env/lib/python3.11/site-packages (from torch==2.4.0->vllm) (9.1.0.70)\n",
      "Requirement already satisfied: nvidia-cublas-cu12==12.1.3.1 in /home/s.wendelken/.conda/envs/ehr-env/lib/python3.11/site-packages (from torch==2.4.0->vllm) (12.1.3.1)\n",
      "Requirement already satisfied: nvidia-cufft-cu12==11.0.2.54 in /home/s.wendelken/.conda/envs/ehr-env/lib/python3.11/site-packages (from torch==2.4.0->vllm) (11.0.2.54)\n",
      "Requirement already satisfied: nvidia-curand-cu12==10.3.2.106 in /home/s.wendelken/.conda/envs/ehr-env/lib/python3.11/site-packages (from torch==2.4.0->vllm) (10.3.2.106)\n",
      "Requirement already satisfied: nvidia-cusolver-cu12==11.4.5.107 in /home/s.wendelken/.conda/envs/ehr-env/lib/python3.11/site-packages (from torch==2.4.0->vllm) (11.4.5.107)\n",
      "Requirement already satisfied: nvidia-cusparse-cu12==12.1.0.106 in /home/s.wendelken/.conda/envs/ehr-env/lib/python3.11/site-packages (from torch==2.4.0->vllm) (12.1.0.106)\n",
      "Requirement already satisfied: nvidia-nccl-cu12==2.20.5 in /home/s.wendelken/.conda/envs/ehr-env/lib/python3.11/site-packages (from torch==2.4.0->vllm) (2.20.5)\n",
      "Requirement already satisfied: nvidia-nvtx-cu12==12.1.105 in /home/s.wendelken/.conda/envs/ehr-env/lib/python3.11/site-packages (from torch==2.4.0->vllm) (12.1.105)\n",
      "Requirement already satisfied: triton==3.0.0 in /home/s.wendelken/.conda/envs/ehr-env/lib/python3.11/site-packages (from torch==2.4.0->vllm) (3.0.0)\n",
      "Requirement already satisfied: nvidia-nvjitlink-cu12 in /home/s.wendelken/.conda/envs/ehr-env/lib/python3.11/site-packages (from nvidia-cusolver-cu12==11.4.5.107->torch==2.4.0->vllm) (12.6.68)\n",
      "Requirement already satisfied: jsonschema<5.0.0,>=4.21.1 in /home/s.wendelken/.conda/envs/ehr-env/lib/python3.11/site-packages (from mistral-common>=1.4.0->vllm) (4.23.0)\n",
      "Requirement already satisfied: anyio<5,>=3.5.0 in /home/s.wendelken/.conda/envs/ehr-env/lib/python3.11/site-packages (from openai>=1.40.0->vllm) (4.4.0)\n",
      "Requirement already satisfied: distro<2,>=1.7.0 in /home/s.wendelken/.conda/envs/ehr-env/lib/python3.11/site-packages (from openai>=1.40.0->vllm) (1.9.0)\n",
      "Requirement already satisfied: httpx<1,>=0.23.0 in /home/s.wendelken/.conda/envs/ehr-env/lib/python3.11/site-packages (from openai>=1.40.0->vllm) (0.27.0)\n",
      "Requirement already satisfied: jiter<1,>=0.4.0 in /home/s.wendelken/.conda/envs/ehr-env/lib/python3.11/site-packages (from openai>=1.40.0->vllm) (0.5.0)\n",
      "Requirement already satisfied: sniffio in /home/s.wendelken/.conda/envs/ehr-env/lib/python3.11/site-packages (from openai>=1.40.0->vllm) (1.3.1)\n",
      "Requirement already satisfied: lark in /home/s.wendelken/.conda/envs/ehr-env/lib/python3.11/site-packages (from outlines<0.1,>=0.0.43->vllm) (1.2.2)\n",
      "Requirement already satisfied: nest-asyncio in /home/s.wendelken/.conda/envs/ehr-env/lib/python3.11/site-packages (from outlines<0.1,>=0.0.43->vllm) (1.5.6)\n",
      "Requirement already satisfied: cloudpickle in /home/s.wendelken/.conda/envs/ehr-env/lib/python3.11/site-packages (from outlines<0.1,>=0.0.43->vllm) (3.0.0)\n",
      "Requirement already satisfied: diskcache in /home/s.wendelken/.conda/envs/ehr-env/lib/python3.11/site-packages (from outlines<0.1,>=0.0.43->vllm) (5.6.3)\n",
      "Requirement already satisfied: numba in /home/s.wendelken/.conda/envs/ehr-env/lib/python3.11/site-packages (from outlines<0.1,>=0.0.43->vllm) (0.60.0)\n",
      "Requirement already satisfied: referencing in /home/s.wendelken/.conda/envs/ehr-env/lib/python3.11/site-packages (from outlines<0.1,>=0.0.43->vllm) (0.35.1)\n",
      "Requirement already satisfied: datasets in /home/s.wendelken/.conda/envs/ehr-env/lib/python3.11/site-packages (from outlines<0.1,>=0.0.43->vllm) (3.0.0)\n",
      "Requirement already satisfied: pycountry in /home/s.wendelken/.conda/envs/ehr-env/lib/python3.11/site-packages (from outlines<0.1,>=0.0.43->vllm) (24.6.1)\n",
      "Requirement already satisfied: pyairports in /home/s.wendelken/.conda/envs/ehr-env/lib/python3.11/site-packages (from outlines<0.1,>=0.0.43->vllm) (2.1.1)\n",
      "Requirement already satisfied: starlette<1.0.0,>=0.30.0 in /home/s.wendelken/.conda/envs/ehr-env/lib/python3.11/site-packages (from prometheus-fastapi-instrumentator>=7.0.0->vllm) (0.37.2)\n",
      "Requirement already satisfied: annotated-types>=0.4.0 in /home/s.wendelken/.conda/envs/ehr-env/lib/python3.11/site-packages (from pydantic>=2.8->vllm) (0.7.0)\n",
      "Requirement already satisfied: pydantic-core==2.20.0 in /home/s.wendelken/.conda/envs/ehr-env/lib/python3.11/site-packages (from pydantic>=2.8->vllm) (2.20.0)\n",
      "Requirement already satisfied: click>=7.0 in /home/s.wendelken/.conda/envs/ehr-env/lib/python3.11/site-packages (from ray>=2.9->vllm) (8.1.7)\n",
      "Requirement already satisfied: msgpack<2.0.0,>=1.0.0 in /home/s.wendelken/.conda/envs/ehr-env/lib/python3.11/site-packages (from ray>=2.9->vllm) (1.1.0)\n",
      "Requirement already satisfied: aiosignal in /home/s.wendelken/.conda/envs/ehr-env/lib/python3.11/site-packages (from ray>=2.9->vllm) (1.3.1)\n",
      "Requirement already satisfied: frozenlist in /home/s.wendelken/.conda/envs/ehr-env/lib/python3.11/site-packages (from ray>=2.9->vllm) (1.4.1)\n",
      "Requirement already satisfied: charset-normalizer<4,>=2 in /home/s.wendelken/.conda/envs/ehr-env/lib/python3.11/site-packages (from requests->vllm) (3.3.2)\n",
      "Requirement already satisfied: idna<4,>=2.5 in /home/s.wendelken/.conda/envs/ehr-env/lib/python3.11/site-packages (from requests->vllm) (3.7)\n",
      "Requirement already satisfied: urllib3<3,>=1.21.1 in /home/s.wendelken/.conda/envs/ehr-env/lib/python3.11/site-packages (from requests->vllm) (2.2.2)\n",
      "Requirement already satisfied: certifi>=2017.4.17 in /home/s.wendelken/.conda/envs/ehr-env/lib/python3.11/site-packages (from requests->vllm) (2024.6.2)\n",
      "Requirement already satisfied: regex>=2022.1.18 in /home/s.wendelken/.conda/envs/ehr-env/lib/python3.11/site-packages (from tiktoken>=0.6.0->vllm) (2024.5.15)\n",
      "Requirement already satisfied: huggingface-hub<1.0,>=0.16.4 in /home/s.wendelken/.conda/envs/ehr-env/lib/python3.11/site-packages (from tokenizers>=0.19.1->vllm) (0.23.4)\n",
      "Requirement already satisfied: safetensors>=0.4.1 in /home/s.wendelken/.conda/envs/ehr-env/lib/python3.11/site-packages (from transformers>=4.43.2->vllm) (0.4.5)\n",
      "Requirement already satisfied: attrs>=17.3.0 in /home/s.wendelken/.conda/envs/ehr-env/lib/python3.11/site-packages (from aiohttp->vllm) (23.2.0)\n",
      "Requirement already satisfied: multidict<7.0,>=4.5 in /home/s.wendelken/.conda/envs/ehr-env/lib/python3.11/site-packages (from aiohttp->vllm) (6.0.5)\n",
      "Requirement already satisfied: yarl<2.0,>=1.0 in /home/s.wendelken/.conda/envs/ehr-env/lib/python3.11/site-packages (from aiohttp->vllm) (1.9.4)\n",
      "Requirement already satisfied: fastapi-cli>=0.0.2 in /home/s.wendelken/.conda/envs/ehr-env/lib/python3.11/site-packages (from fastapi->vllm) (0.0.4)\n",
      "Requirement already satisfied: python-multipart>=0.0.7 in /home/s.wendelken/.conda/envs/ehr-env/lib/python3.11/site-packages (from fastapi->vllm) (0.0.9)\n",
      "Requirement already satisfied: ujson!=4.0.2,!=4.1.0,!=4.2.0,!=4.3.0,!=5.0.0,!=5.1.0,>=4.0.1 in /home/s.wendelken/.conda/envs/ehr-env/lib/python3.11/site-packages (from fastapi->vllm) (5.10.0)\n",
      "Requirement already satisfied: orjson>=3.2.1 in /home/s.wendelken/.conda/envs/ehr-env/lib/python3.11/site-packages (from fastapi->vllm) (3.10.5)\n",
      "Requirement already satisfied: email_validator>=2.0.0 in /home/s.wendelken/.conda/envs/ehr-env/lib/python3.11/site-packages (from fastapi->vllm) (2.2.0)\n",
      "Requirement already satisfied: h11>=0.8 in /home/s.wendelken/.conda/envs/ehr-env/lib/python3.11/site-packages (from uvicorn[standard]->vllm) (0.14.0)\n",
      "Requirement already satisfied: httptools>=0.5.0 in /home/s.wendelken/.conda/envs/ehr-env/lib/python3.11/site-packages (from uvicorn[standard]->vllm) (0.6.1)\n",
      "Requirement already satisfied: python-dotenv>=0.13 in /home/s.wendelken/.conda/envs/ehr-env/lib/python3.11/site-packages (from uvicorn[standard]->vllm) (1.0.1)\n",
      "Requirement already satisfied: uvloop!=0.15.0,!=0.15.1,>=0.14.0 in /home/s.wendelken/.conda/envs/ehr-env/lib/python3.11/site-packages (from uvicorn[standard]->vllm) (0.19.0)\n",
      "Requirement already satisfied: watchfiles>=0.13 in /home/s.wendelken/.conda/envs/ehr-env/lib/python3.11/site-packages (from uvicorn[standard]->vllm) (0.22.0)\n",
      "Requirement already satisfied: websockets>=10.4 in /home/s.wendelken/.conda/envs/ehr-env/lib/python3.11/site-packages (from uvicorn[standard]->vllm) (12.0)\n",
      "Requirement already satisfied: zipp>=0.5 in /home/s.wendelken/.conda/envs/ehr-env/lib/python3.11/site-packages (from importlib-metadata->vllm) (3.19.2)\n",
      "Requirement already satisfied: dnspython>=2.0.0 in /home/s.wendelken/.conda/envs/ehr-env/lib/python3.11/site-packages (from email_validator>=2.0.0->fastapi->vllm) (2.6.1)\n",
      "Requirement already satisfied: typer>=0.12.3 in /home/s.wendelken/.conda/envs/ehr-env/lib/python3.11/site-packages (from fastapi-cli>=0.0.2->fastapi->vllm) (0.12.3)\n",
      "Requirement already satisfied: httpcore==1.* in /home/s.wendelken/.conda/envs/ehr-env/lib/python3.11/site-packages (from httpx<1,>=0.23.0->openai>=1.40.0->vllm) (1.0.5)\n",
      "Requirement already satisfied: MarkupSafe>=2.0 in /home/s.wendelken/.conda/envs/ehr-env/lib/python3.11/site-packages (from jinja2->torch==2.4.0->vllm) (2.1.5)\n",
      "Requirement already satisfied: jsonschema-specifications>=2023.03.6 in /home/s.wendelken/.conda/envs/ehr-env/lib/python3.11/site-packages (from jsonschema<5.0.0,>=4.21.1->mistral-common>=1.4.0->vllm) (2023.12.1)\n",
      "Requirement already satisfied: rpds-py>=0.7.1 in /home/s.wendelken/.conda/envs/ehr-env/lib/python3.11/site-packages (from jsonschema<5.0.0,>=4.21.1->mistral-common>=1.4.0->vllm) (0.20.0)\n",
      "Requirement already satisfied: pyarrow>=15.0.0 in /home/s.wendelken/.conda/envs/ehr-env/lib/python3.11/site-packages (from datasets->outlines<0.1,>=0.0.43->vllm) (17.0.0)\n",
      "Requirement already satisfied: dill<0.3.9,>=0.3.0 in /home/s.wendelken/.conda/envs/ehr-env/lib/python3.11/site-packages (from datasets->outlines<0.1,>=0.0.43->vllm) (0.3.8)\n",
      "Requirement already satisfied: pandas in /home/s.wendelken/.conda/envs/ehr-env/lib/python3.11/site-packages (from datasets->outlines<0.1,>=0.0.43->vllm) (2.2.2)\n",
      "Requirement already satisfied: xxhash in /home/s.wendelken/.conda/envs/ehr-env/lib/python3.11/site-packages (from datasets->outlines<0.1,>=0.0.43->vllm) (3.5.0)\n",
      "Requirement already satisfied: multiprocess in /home/s.wendelken/.conda/envs/ehr-env/lib/python3.11/site-packages (from datasets->outlines<0.1,>=0.0.43->vllm) (0.70.16)\n",
      "Requirement already satisfied: llvmlite<0.44,>=0.43.0dev0 in /home/s.wendelken/.conda/envs/ehr-env/lib/python3.11/site-packages (from numba->outlines<0.1,>=0.0.43->vllm) (0.43.0)\n",
      "Requirement already satisfied: mpmath<1.4.0,>=1.1.0 in /home/s.wendelken/.conda/envs/ehr-env/lib/python3.11/site-packages (from sympy->torch==2.4.0->vllm) (1.3.0)\n",
      "Requirement already satisfied: shellingham>=1.3.0 in /home/s.wendelken/.conda/envs/ehr-env/lib/python3.11/site-packages (from typer>=0.12.3->fastapi-cli>=0.0.2->fastapi->vllm) (1.5.4)\n",
      "Requirement already satisfied: rich>=10.11.0 in /home/s.wendelken/.conda/envs/ehr-env/lib/python3.11/site-packages (from typer>=0.12.3->fastapi-cli>=0.0.2->fastapi->vllm) (13.7.1)\n",
      "Requirement already satisfied: python-dateutil>=2.8.2 in /home/s.wendelken/.conda/envs/ehr-env/lib/python3.11/site-packages (from pandas->datasets->outlines<0.1,>=0.0.43->vllm) (2.8.2)\n",
      "Requirement already satisfied: pytz>=2020.1 in /home/s.wendelken/.conda/envs/ehr-env/lib/python3.11/site-packages (from pandas->datasets->outlines<0.1,>=0.0.43->vllm) (2024.2)\n",
      "Requirement already satisfied: tzdata>=2022.7 in /home/s.wendelken/.conda/envs/ehr-env/lib/python3.11/site-packages (from pandas->datasets->outlines<0.1,>=0.0.43->vllm) (2024.1)\n",
      "Requirement already satisfied: six>=1.5 in /home/s.wendelken/.conda/envs/ehr-env/lib/python3.11/site-packages (from python-dateutil>=2.8.2->pandas->datasets->outlines<0.1,>=0.0.43->vllm) (1.16.0)\n",
      "Requirement already satisfied: markdown-it-py>=2.2.0 in /home/s.wendelken/.conda/envs/ehr-env/lib/python3.11/site-packages (from rich>=10.11.0->typer>=0.12.3->fastapi-cli>=0.0.2->fastapi->vllm) (3.0.0)\n",
      "Requirement already satisfied: pygments<3.0.0,>=2.13.0 in /home/s.wendelken/.conda/envs/ehr-env/lib/python3.11/site-packages (from rich>=10.11.0->typer>=0.12.3->fastapi-cli>=0.0.2->fastapi->vllm) (2.15.1)\n",
      "Requirement already satisfied: mdurl~=0.1 in /home/s.wendelken/.conda/envs/ehr-env/lib/python3.11/site-packages (from markdown-it-py>=2.2.0->rich>=10.11.0->typer>=0.12.3->fastapi-cli>=0.0.2->fastapi->vllm) (0.1.2)\n",
      "Using cached torch-2.4.0-cp311-cp311-manylinux1_x86_64.whl (797.3 MB)\n",
      "Installing collected packages: torch\n",
      "  Attempting uninstall: torch\n",
      "    Found existing installation: torch 2.4.1\n",
      "    Uninstalling torch-2.4.1:\n",
      "      Successfully uninstalled torch-2.4.1\n",
      "Successfully installed torch-2.4.0\n"
     ]
    }
   ],
   "source": [
    "!pip install vllm"
   ]
  },
  {
   "cell_type": "code",
   "execution_count": 6,
   "id": "3a3c8e86-7907-405b-9f40-0bbf5e2062a3",
   "metadata": {},
   "outputs": [
    {
     "name": "stdout",
     "output_type": "stream",
     "text": [
      "WARNING 09-12 16:20:32 config.py:1650] Casting torch.bfloat16 to torch.float16.\n",
      "INFO 09-12 16:20:32 llm_engine.py:232] Initializing an LLM engine (v0.6.1) with config: model='meta-llama/Meta-Llama-3-8B-Instruct', speculative_config=None, tokenizer='meta-llama/Meta-Llama-3-8B-Instruct', skip_tokenizer_init=False, tokenizer_mode=auto, revision=None, override_neuron_config=None, rope_scaling=None, rope_theta=None, tokenizer_revision=None, trust_remote_code=False, dtype=torch.float16, max_seq_len=8192, download_dir=None, load_format=LoadFormat.AUTO, tensor_parallel_size=1, pipeline_parallel_size=1, disable_custom_all_reduce=False, quantization=None, enforce_eager=False, kv_cache_dtype=auto, quantization_param_path=None, device_config=cuda, decoding_config=DecodingConfig(guided_decoding_backend='outlines'), observability_config=ObservabilityConfig(otlp_traces_endpoint=None, collect_model_forward_time=False, collect_model_execute_time=False), seed=0, served_model_name=meta-llama/Meta-Llama-3-8B-Instruct, use_v2_block_manager=False, num_scheduler_steps=1, enable_prefix_caching=False, use_async_output_proc=True)\n",
      "INFO 09-12 16:20:33 selector.py:217] Cannot use FlashAttention-2 backend for Volta and Turing GPUs.\n",
      "INFO 09-12 16:20:33 selector.py:116] Using XFormers backend.\n",
      "INFO 09-12 16:20:34 model_runner.py:997] Starting to load model meta-llama/Meta-Llama-3-8B-Instruct...\n",
      "INFO 09-12 16:20:34 selector.py:217] Cannot use FlashAttention-2 backend for Volta and Turing GPUs.\n",
      "INFO 09-12 16:20:34 selector.py:116] Using XFormers backend.\n",
      "INFO 09-12 16:20:34 weight_utils.py:242] Using model weights format ['*.safetensors']\n"
     ]
    },
    {
     "data": {
      "application/vnd.jupyter.widget-view+json": {
       "model_id": "159e9721be3f496e8734a85c254185bc",
       "version_major": 2,
       "version_minor": 0
      },
      "text/plain": [
       "model-00003-of-00004.safetensors:   0%|          | 0.00/4.92G [00:00<?, ?B/s]"
      ]
     },
     "metadata": {},
     "output_type": "display_data"
    },
    {
     "data": {
      "application/vnd.jupyter.widget-view+json": {
       "model_id": "b050529c0b654a3aa9441ca805b22a56",
       "version_major": 2,
       "version_minor": 0
      },
      "text/plain": [
       "model-00002-of-00004.safetensors:   0%|          | 0.00/5.00G [00:00<?, ?B/s]"
      ]
     },
     "metadata": {},
     "output_type": "display_data"
    },
    {
     "data": {
      "application/vnd.jupyter.widget-view+json": {
       "model_id": "1543e7de24eb4c72a56ada3e1cdd7e0b",
       "version_major": 2,
       "version_minor": 0
      },
      "text/plain": [
       "model-00004-of-00004.safetensors:   0%|          | 0.00/1.17G [00:00<?, ?B/s]"
      ]
     },
     "metadata": {},
     "output_type": "display_data"
    },
    {
     "data": {
      "application/vnd.jupyter.widget-view+json": {
       "model_id": "802e362b5c25485baaa637823bf1297f",
       "version_major": 2,
       "version_minor": 0
      },
      "text/plain": [
       "model-00001-of-00004.safetensors:   0%|          | 0.00/4.98G [00:00<?, ?B/s]"
      ]
     },
     "metadata": {},
     "output_type": "display_data"
    },
    {
     "data": {
      "application/vnd.jupyter.widget-view+json": {
       "model_id": "0dc9c8471b334b11ad3c2aa69991b19f",
       "version_major": 2,
       "version_minor": 0
      },
      "text/plain": [
       "model.safetensors.index.json:   0%|          | 0.00/23.9k [00:00<?, ?B/s]"
      ]
     },
     "metadata": {},
     "output_type": "display_data"
    },
    {
     "data": {
      "application/vnd.jupyter.widget-view+json": {
       "model_id": "81f1219956774a47a5065ebff665acc5",
       "version_major": 2,
       "version_minor": 0
      },
      "text/plain": [
       "Loading safetensors checkpoint shards:   0% Completed | 0/4 [00:00<?, ?it/s]\n"
      ]
     },
     "metadata": {},
     "output_type": "display_data"
    },
    {
     "name": "stdout",
     "output_type": "stream",
     "text": [
      "INFO 09-12 16:22:12 model_runner.py:1008] Loading model weights took 14.9595 GB\n",
      "INFO 09-12 16:22:14 gpu_executor.py:122] # GPU blocks: 5765, # CPU blocks: 2048\n",
      "INFO 09-12 16:22:16 model_runner.py:1309] Capturing the model for CUDA graphs. This may lead to unexpected consequences if the model is not static. To run the model in eager mode, set 'enforce_eager=True' or use '--enforce-eager' in the CLI.\n",
      "INFO 09-12 16:22:16 model_runner.py:1313] CUDA graphs can take additional 1~3 GiB memory per GPU. If you are running out of memory, consider decreasing `gpu_memory_utilization` or enforcing eager mode. You can also reduce the `max_num_seqs` as needed to decrease memory usage.\n",
      "INFO 09-12 16:22:35 model_runner.py:1428] Graph capturing finished in 18 secs.\n"
     ]
    },
    {
     "data": {
      "application/vnd.jupyter.widget-view+json": {
       "model_id": "b2212527820148fa922eeccbd67c953c",
       "version_major": 2,
       "version_minor": 0
      },
      "text/plain": [
       "tokenizer_config.json:   0%|          | 0.00/50.6k [00:00<?, ?B/s]"
      ]
     },
     "metadata": {},
     "output_type": "display_data"
    },
    {
     "data": {
      "application/vnd.jupyter.widget-view+json": {
       "model_id": "52528c5393e148749ad8d720dde8664d",
       "version_major": 2,
       "version_minor": 0
      },
      "text/plain": [
       "tokenizer.json:   0%|          | 0.00/9.09M [00:00<?, ?B/s]"
      ]
     },
     "metadata": {},
     "output_type": "display_data"
    },
    {
     "data": {
      "application/vnd.jupyter.widget-view+json": {
       "model_id": "f441b3022fbd4a9083ee3437c2de0394",
       "version_major": 2,
       "version_minor": 0
      },
      "text/plain": [
       "special_tokens_map.json:   0%|          | 0.00/73.0 [00:00<?, ?B/s]"
      ]
     },
     "metadata": {},
     "output_type": "display_data"
    }
   ],
   "source": [
    "from vllm import LLM, SamplingParams\n",
    "from transformers import AutoTokenizer\n",
    "\n",
    "# Initialize the LLM object with the specified model\n",
    "model = LLM(model=\"meta-llama/Meta-Llama-3-8B-Instruct\", dtype='half')\n",
    "# model = LLM(model=\"meta-llama/Meta-Llama-3-8B\")\n",
    "tokenizer = AutoTokenizer.from_pretrained('meta-llama/Meta-Llama-3-8B')\n",
    "# Imports\n",
    "import torch\n",
    "# generate_prompt function\n",
    "def generate_prompt(instruction, input=None):\n",
    "    if input:\n",
    "        return f\"\"\"Below is an instruction that describes a task, paired with an input that provides further context. Write a response that appropriately completes the request. \n",
    " \n",
    "### Instruction:\n",
    "{instruction}\n",
    "\n",
    "### Input:\n",
    "{input}\n",
    "\n",
    "### Response:\n",
    "\"\"\"\n",
    "    else:\n",
    "        return f\"\"\"Below is an instruction that describes a task. Write a response that appropriately completes the request.  # noqa: E501\n",
    "\n",
    "### Instruction:\n",
    "{instruction}\n",
    "\n",
    "### Response:\n",
    "\"\"\"\n"
   ]
  },
  {
   "cell_type": "code",
   "execution_count": 7,
   "id": "72aba9f3-4c23-4f58-ae13-1027dc68e627",
   "metadata": {},
   "outputs": [
    {
     "name": "stdout",
     "output_type": "stream",
     "text": [
      "\u001b[0;31mInit signature:\u001b[0m\n",
      "\u001b[0mSamplingParams\u001b[0m\u001b[0;34m(\u001b[0m\u001b[0;34m\u001b[0m\n",
      "\u001b[0;34m\u001b[0m    \u001b[0mn\u001b[0m\u001b[0;34m:\u001b[0m \u001b[0mint\u001b[0m \u001b[0;34m=\u001b[0m \u001b[0;36m1\u001b[0m\u001b[0;34m,\u001b[0m\u001b[0;34m\u001b[0m\n",
      "\u001b[0;34m\u001b[0m    \u001b[0mbest_of\u001b[0m\u001b[0;34m:\u001b[0m \u001b[0mOptional\u001b[0m\u001b[0;34m[\u001b[0m\u001b[0mint\u001b[0m\u001b[0;34m]\u001b[0m \u001b[0;34m=\u001b[0m \u001b[0;32mNone\u001b[0m\u001b[0;34m,\u001b[0m\u001b[0;34m\u001b[0m\n",
      "\u001b[0;34m\u001b[0m    \u001b[0mpresence_penalty\u001b[0m\u001b[0;34m:\u001b[0m \u001b[0mfloat\u001b[0m \u001b[0;34m=\u001b[0m \u001b[0;36m0.0\u001b[0m\u001b[0;34m,\u001b[0m\u001b[0;34m\u001b[0m\n",
      "\u001b[0;34m\u001b[0m    \u001b[0mfrequency_penalty\u001b[0m\u001b[0;34m:\u001b[0m \u001b[0mfloat\u001b[0m \u001b[0;34m=\u001b[0m \u001b[0;36m0.0\u001b[0m\u001b[0;34m,\u001b[0m\u001b[0;34m\u001b[0m\n",
      "\u001b[0;34m\u001b[0m    \u001b[0mrepetition_penalty\u001b[0m\u001b[0;34m:\u001b[0m \u001b[0mfloat\u001b[0m \u001b[0;34m=\u001b[0m \u001b[0;36m1.0\u001b[0m\u001b[0;34m,\u001b[0m\u001b[0;34m\u001b[0m\n",
      "\u001b[0;34m\u001b[0m    \u001b[0mtemperature\u001b[0m\u001b[0;34m:\u001b[0m \u001b[0mfloat\u001b[0m \u001b[0;34m=\u001b[0m \u001b[0;36m1.0\u001b[0m\u001b[0;34m,\u001b[0m\u001b[0;34m\u001b[0m\n",
      "\u001b[0;34m\u001b[0m    \u001b[0mtop_p\u001b[0m\u001b[0;34m:\u001b[0m \u001b[0mfloat\u001b[0m \u001b[0;34m=\u001b[0m \u001b[0;36m1.0\u001b[0m\u001b[0;34m,\u001b[0m\u001b[0;34m\u001b[0m\n",
      "\u001b[0;34m\u001b[0m    \u001b[0mtop_k\u001b[0m\u001b[0;34m:\u001b[0m \u001b[0mint\u001b[0m \u001b[0;34m=\u001b[0m \u001b[0;34m-\u001b[0m\u001b[0;36m1\u001b[0m\u001b[0;34m,\u001b[0m\u001b[0;34m\u001b[0m\n",
      "\u001b[0;34m\u001b[0m    \u001b[0mmin_p\u001b[0m\u001b[0;34m:\u001b[0m \u001b[0mfloat\u001b[0m \u001b[0;34m=\u001b[0m \u001b[0;36m0.0\u001b[0m\u001b[0;34m,\u001b[0m\u001b[0;34m\u001b[0m\n",
      "\u001b[0;34m\u001b[0m    \u001b[0mseed\u001b[0m\u001b[0;34m:\u001b[0m \u001b[0mOptional\u001b[0m\u001b[0;34m[\u001b[0m\u001b[0mint\u001b[0m\u001b[0;34m]\u001b[0m \u001b[0;34m=\u001b[0m \u001b[0;32mNone\u001b[0m\u001b[0;34m,\u001b[0m\u001b[0;34m\u001b[0m\n",
      "\u001b[0;34m\u001b[0m    \u001b[0muse_beam_search\u001b[0m\u001b[0;34m:\u001b[0m \u001b[0mbool\u001b[0m \u001b[0;34m=\u001b[0m \u001b[0;32mFalse\u001b[0m\u001b[0;34m,\u001b[0m\u001b[0;34m\u001b[0m\n",
      "\u001b[0;34m\u001b[0m    \u001b[0mlength_penalty\u001b[0m\u001b[0;34m:\u001b[0m \u001b[0mfloat\u001b[0m \u001b[0;34m=\u001b[0m \u001b[0;36m1.0\u001b[0m\u001b[0;34m,\u001b[0m\u001b[0;34m\u001b[0m\n",
      "\u001b[0;34m\u001b[0m    \u001b[0mearly_stopping\u001b[0m\u001b[0;34m:\u001b[0m \u001b[0mUnion\u001b[0m\u001b[0;34m[\u001b[0m\u001b[0mbool\u001b[0m\u001b[0;34m,\u001b[0m \u001b[0mstr\u001b[0m\u001b[0;34m]\u001b[0m \u001b[0;34m=\u001b[0m \u001b[0;32mFalse\u001b[0m\u001b[0;34m,\u001b[0m\u001b[0;34m\u001b[0m\n",
      "\u001b[0;34m\u001b[0m    \u001b[0mstop\u001b[0m\u001b[0;34m:\u001b[0m \u001b[0mUnion\u001b[0m\u001b[0;34m[\u001b[0m\u001b[0mstr\u001b[0m\u001b[0;34m,\u001b[0m \u001b[0mList\u001b[0m\u001b[0;34m[\u001b[0m\u001b[0mstr\u001b[0m\u001b[0;34m]\u001b[0m\u001b[0;34m,\u001b[0m \u001b[0mNoneType\u001b[0m\u001b[0;34m]\u001b[0m \u001b[0;34m=\u001b[0m \u001b[0;32mNone\u001b[0m\u001b[0;34m,\u001b[0m\u001b[0;34m\u001b[0m\n",
      "\u001b[0;34m\u001b[0m    \u001b[0mstop_token_ids\u001b[0m\u001b[0;34m:\u001b[0m \u001b[0mOptional\u001b[0m\u001b[0;34m[\u001b[0m\u001b[0mList\u001b[0m\u001b[0;34m[\u001b[0m\u001b[0mint\u001b[0m\u001b[0;34m]\u001b[0m\u001b[0;34m]\u001b[0m \u001b[0;34m=\u001b[0m \u001b[0;32mNone\u001b[0m\u001b[0;34m,\u001b[0m\u001b[0;34m\u001b[0m\n",
      "\u001b[0;34m\u001b[0m    \u001b[0mignore_eos\u001b[0m\u001b[0;34m:\u001b[0m \u001b[0mbool\u001b[0m \u001b[0;34m=\u001b[0m \u001b[0;32mFalse\u001b[0m\u001b[0;34m,\u001b[0m\u001b[0;34m\u001b[0m\n",
      "\u001b[0;34m\u001b[0m    \u001b[0mmax_tokens\u001b[0m\u001b[0;34m:\u001b[0m \u001b[0mOptional\u001b[0m\u001b[0;34m[\u001b[0m\u001b[0mint\u001b[0m\u001b[0;34m]\u001b[0m \u001b[0;34m=\u001b[0m \u001b[0;36m16\u001b[0m\u001b[0;34m,\u001b[0m\u001b[0;34m\u001b[0m\n",
      "\u001b[0;34m\u001b[0m    \u001b[0mmin_tokens\u001b[0m\u001b[0;34m:\u001b[0m \u001b[0mint\u001b[0m \u001b[0;34m=\u001b[0m \u001b[0;36m0\u001b[0m\u001b[0;34m,\u001b[0m\u001b[0;34m\u001b[0m\n",
      "\u001b[0;34m\u001b[0m    \u001b[0mlogprobs\u001b[0m\u001b[0;34m:\u001b[0m \u001b[0mOptional\u001b[0m\u001b[0;34m[\u001b[0m\u001b[0mint\u001b[0m\u001b[0;34m]\u001b[0m \u001b[0;34m=\u001b[0m \u001b[0;32mNone\u001b[0m\u001b[0;34m,\u001b[0m\u001b[0;34m\u001b[0m\n",
      "\u001b[0;34m\u001b[0m    \u001b[0mprompt_logprobs\u001b[0m\u001b[0;34m:\u001b[0m \u001b[0mOptional\u001b[0m\u001b[0;34m[\u001b[0m\u001b[0mint\u001b[0m\u001b[0;34m]\u001b[0m \u001b[0;34m=\u001b[0m \u001b[0;32mNone\u001b[0m\u001b[0;34m,\u001b[0m\u001b[0;34m\u001b[0m\n",
      "\u001b[0;34m\u001b[0m    \u001b[0mdetokenize\u001b[0m\u001b[0;34m:\u001b[0m \u001b[0mbool\u001b[0m \u001b[0;34m=\u001b[0m \u001b[0;32mTrue\u001b[0m\u001b[0;34m,\u001b[0m\u001b[0;34m\u001b[0m\n",
      "\u001b[0;34m\u001b[0m    \u001b[0mskip_special_tokens\u001b[0m\u001b[0;34m:\u001b[0m \u001b[0mbool\u001b[0m \u001b[0;34m=\u001b[0m \u001b[0;32mTrue\u001b[0m\u001b[0;34m,\u001b[0m\u001b[0;34m\u001b[0m\n",
      "\u001b[0;34m\u001b[0m    \u001b[0mspaces_between_special_tokens\u001b[0m\u001b[0;34m:\u001b[0m \u001b[0mbool\u001b[0m \u001b[0;34m=\u001b[0m \u001b[0;32mTrue\u001b[0m\u001b[0;34m,\u001b[0m\u001b[0;34m\u001b[0m\n",
      "\u001b[0;34m\u001b[0m    \u001b[0mlogits_processors\u001b[0m\u001b[0;34m:\u001b[0m \u001b[0mOptional\u001b[0m\u001b[0;34m[\u001b[0m\u001b[0mAny\u001b[0m\u001b[0;34m]\u001b[0m \u001b[0;34m=\u001b[0m \u001b[0;32mNone\u001b[0m\u001b[0;34m,\u001b[0m\u001b[0;34m\u001b[0m\n",
      "\u001b[0;34m\u001b[0m    \u001b[0minclude_stop_str_in_output\u001b[0m\u001b[0;34m:\u001b[0m \u001b[0mbool\u001b[0m \u001b[0;34m=\u001b[0m \u001b[0;32mFalse\u001b[0m\u001b[0;34m,\u001b[0m\u001b[0;34m\u001b[0m\n",
      "\u001b[0;34m\u001b[0m    \u001b[0mtruncate_prompt_tokens\u001b[0m\u001b[0;34m:\u001b[0m \u001b[0mOptional\u001b[0m\u001b[0;34m[\u001b[0m\u001b[0mAnnotated\u001b[0m\u001b[0;34m[\u001b[0m\u001b[0mint\u001b[0m\u001b[0;34m,\u001b[0m \u001b[0mmsgspec\u001b[0m\u001b[0;34m.\u001b[0m\u001b[0mMeta\u001b[0m\u001b[0;34m(\u001b[0m\u001b[0mge\u001b[0m\u001b[0;34m=\u001b[0m\u001b[0;36m1\u001b[0m\u001b[0;34m)\u001b[0m\u001b[0;34m]\u001b[0m\u001b[0;34m]\u001b[0m \u001b[0;34m=\u001b[0m \u001b[0;32mNone\u001b[0m\u001b[0;34m,\u001b[0m\u001b[0;34m\u001b[0m\n",
      "\u001b[0;34m\u001b[0m    \u001b[0moutput_text_buffer_length\u001b[0m\u001b[0;34m:\u001b[0m \u001b[0mint\u001b[0m \u001b[0;34m=\u001b[0m \u001b[0;36m0\u001b[0m\u001b[0;34m,\u001b[0m\u001b[0;34m\u001b[0m\n",
      "\u001b[0;34m\u001b[0m    \u001b[0m_all_stop_token_ids\u001b[0m\u001b[0;34m:\u001b[0m \u001b[0mSet\u001b[0m\u001b[0;34m[\u001b[0m\u001b[0mint\u001b[0m\u001b[0;34m]\u001b[0m \u001b[0;34m=\u001b[0m \u001b[0;34m<\u001b[0m\u001b[0mfactory\u001b[0m\u001b[0;34m>\u001b[0m\u001b[0;34m,\u001b[0m\u001b[0;34m\u001b[0m\n",
      "\u001b[0;34m\u001b[0m\u001b[0;34m)\u001b[0m\u001b[0;34m\u001b[0m\u001b[0;34m\u001b[0m\u001b[0m\n",
      "\u001b[0;31mDocstring:\u001b[0m     \n",
      "Sampling parameters for text generation.\n",
      "\n",
      "Overall, we follow the sampling parameters from the OpenAI text completion\n",
      "API (https://platform.openai.com/docs/api-reference/completions/create).\n",
      "In addition, we support beam search, which is not supported by OpenAI.\n",
      "\n",
      "Args:\n",
      "    n: Number of output sequences to return for the given prompt.\n",
      "    best_of: Number of output sequences that are generated from the prompt.\n",
      "        From these `best_of` sequences, the top `n` sequences are returned.\n",
      "        `best_of` must be greater than or equal to `n`. This is treated as\n",
      "        the beam width when `use_beam_search` is True. By default, `best_of`\n",
      "        is set to `n`.\n",
      "    presence_penalty: Float that penalizes new tokens based on whether they\n",
      "        appear in the generated text so far. Values > 0 encourage the model\n",
      "        to use new tokens, while values < 0 encourage the model to repeat\n",
      "        tokens.\n",
      "    frequency_penalty: Float that penalizes new tokens based on their\n",
      "        frequency in the generated text so far. Values > 0 encourage the\n",
      "        model to use new tokens, while values < 0 encourage the model to\n",
      "        repeat tokens.\n",
      "    repetition_penalty: Float that penalizes new tokens based on whether\n",
      "        they appear in the prompt and the generated text so far. Values > 1\n",
      "        encourage the model to use new tokens, while values < 1 encourage\n",
      "        the model to repeat tokens.\n",
      "    temperature: Float that controls the randomness of the sampling. Lower\n",
      "        values make the model more deterministic, while higher values make\n",
      "        the model more random. Zero means greedy sampling.\n",
      "    top_p: Float that controls the cumulative probability of the top tokens\n",
      "        to consider. Must be in (0, 1]. Set to 1 to consider all tokens.\n",
      "    top_k: Integer that controls the number of top tokens to consider. Set\n",
      "        to -1 to consider all tokens.\n",
      "    min_p: Float that represents the minimum probability for a token to be\n",
      "        considered, relative to the probability of the most likely token.\n",
      "        Must be in [0, 1]. Set to 0 to disable this.\n",
      "    seed: Random seed to use for the generation.\n",
      "    use_beam_search: Whether to use beam search instead of sampling.\n",
      "    length_penalty: Float that penalizes sequences based on their length.\n",
      "        Used in beam search.\n",
      "    early_stopping: Controls the stopping condition for beam search. It\n",
      "        accepts the following values: `True`, where the generation stops as\n",
      "        soon as there are `best_of` complete candidates; `False`, where an\n",
      "        heuristic is applied and the generation stops when is it very\n",
      "        unlikely to find better candidates; `\"never\"`, where the beam search\n",
      "        procedure only stops when there cannot be better candidates\n",
      "        (canonical beam search algorithm).\n",
      "    stop: List of strings that stop the generation when they are generated.\n",
      "        The returned output will not contain the stop strings.\n",
      "    stop_token_ids: List of tokens that stop the generation when they are\n",
      "        generated. The returned output will contain the stop tokens unless\n",
      "        the stop tokens are special tokens.\n",
      "    include_stop_str_in_output: Whether to include the stop strings in\n",
      "        output text. Defaults to False.\n",
      "    ignore_eos: Whether to ignore the EOS token and continue generating\n",
      "        tokens after the EOS token is generated.\n",
      "    max_tokens: Maximum number of tokens to generate per output sequence.\n",
      "    min_tokens: Minimum number of tokens to generate per output sequence\n",
      "        before EOS or stop_token_ids can be generated\n",
      "    logprobs: Number of log probabilities to return per output token.\n",
      "        When set to None, no probability is returned. If set to a non-None\n",
      "        value, the result includes the log probabilities of the specified\n",
      "        number of most likely tokens, as well as the chosen tokens.\n",
      "        Note that the implementation follows the OpenAI API: The API will\n",
      "        always return the log probability of the sampled token, so there\n",
      "        may be up to `logprobs+1` elements in the response.\n",
      "    prompt_logprobs: Number of log probabilities to return per prompt token.\n",
      "    detokenize: Whether to detokenize the output. Defaults to True.\n",
      "    skip_special_tokens: Whether to skip special tokens in the output.\n",
      "    spaces_between_special_tokens: Whether to add spaces between special\n",
      "        tokens in the output.  Defaults to True.\n",
      "    logits_processors: List of functions that modify logits based on\n",
      "        previously generated tokens, and optionally prompt tokens as\n",
      "        a first argument.\n",
      "    truncate_prompt_tokens: If set to an integer k, will use only the last k\n",
      "        tokens from the prompt (i.e., left truncation). Defaults to None\n",
      "        (i.e., no truncation).\n",
      "\u001b[0;31mFile:\u001b[0m           ~/.conda/envs/ehr-env/lib/python3.11/site-packages/vllm/sampling_params.py\n",
      "\u001b[0;31mType:\u001b[0m           StructMeta\n",
      "\u001b[0;31mSubclasses:\u001b[0m     "
     ]
    }
   ],
   "source": [
    "SamplingParams?"
   ]
  },
  {
   "cell_type": "code",
   "execution_count": 8,
   "id": "ab07ee34-ff1f-48fa-ada2-6ad080e1da45",
   "metadata": {},
   "outputs": [],
   "source": [
    "def generate_with_model(instruction, context_input, model):\n",
    "    # Generate the prompt using the instruction and context\n",
    "    prompt = generate_prompt(instruction, context_input)\n",
    "\n",
    "    # Setup sampling parameters for generation\n",
    "    # Here we only calculate length to control the output length dynamically\n",
    "    context_length = len(tokenizer(prompt, return_tensors=\"pt\").input_ids[0])\n",
    "    print(context_length)\n",
    "    stop_str = \"--- end of response\"\n",
    "    max_input_length = min(2048, tokenizer.model_max_length - context_length)\n",
    "    sampling_params = SamplingParams(temperature=0.01, max_tokens=max_input_length, stop=stop_str,)\n",
    "\n",
    "    # Generate the response using the model\n",
    "    outputs = model.generate(prompt, sampling_params)\n",
    "    response_text = outputs[0].outputs[0].text  # Adjust based on actual output structure\n",
    "\n",
    "    # outputs = llm.generate(final_prompt, sampling_params)\n",
    "    # answer_texts = [output.outputs[0].text for output in outputs]\n",
    "    \n",
    "    # # Extract the \"Response\" part from the generated text\n",
    "    # response = response_text.split(\"### Response:\")[1].strip()\n",
    "    # response = response_text.split(\"--- end of response\")[1].strip() \n",
    "    \n",
    "    # Print and return the response\n",
    "    print(response_text)\n",
    "    return response_text"
   ]
  },
  {
   "cell_type": "code",
   "execution_count": 12,
   "id": "4427ae2a-5456-4e1c-8c12-fe53d7962330",
   "metadata": {},
   "outputs": [],
   "source": [
    "# extract HPI summary USE THIS\n",
    "def generate_bhc(hadm_id):\n",
    "    # topic = '''\n",
    "    # The topic is about clinical notes, medical records, and other text documents from electronic health records (EHR) \n",
    "    # from a patient's hospital admission. \n",
    "    # You will be provided with input text and data from a specific patient's medical records and clinical notes\n",
    "    # delimited by xml tags <text> </text>. Use only this data to answer questions about the EHR.  \n",
    "    # Answer clearly and concisely.\n",
    "    # '''.replace('\\n', '')\n",
    "    topic = '''\n",
    "    The topic is about clinical notes, medical records, and other text documents from electronic health records (EHR) \n",
    "    from a patient's hospital admission. \n",
    "    You will be provided with input text and data from a specific patient's medical records and clinical notes \n",
    "    delimited by xml tags <text> </text>. Use only this data to answer questions about the EHR.  \n",
    "    '''.replace('\\n', '').replace('    ', '')\n",
    "    \n",
    "    prompt = '''\\n\n",
    "    Write the text for the \"brief hospital course\" section of a discharge summary note \n",
    "    based on the input text using the following template:\n",
    "    \n",
    "    Brief Hospital Course\n",
    "    The patient with a history of [briefly describe the relevent medical history or existing medical problems] \n",
    "    presents with [briefly summarize the patient's symptoms]. They were admitted to the [what unit, service or floor were they admitted to?]\n",
    "    for [briefly summarize the reason for admission, initial diagnosis, and any major procedures or treatments].\n",
    "    [Briefly summarize the discharge diagnosis at discharge]\n",
    "    \n",
    "    Problem-based hospital course---\n",
    "    # [Medical condition 1] --- [briefly describe presentation and severity for this medical condition or symptom].\n",
    "    [Summarize the related diagnostic work up and notable results]. \n",
    "    [Summarize the related medical or surgical treatment course].\n",
    "\n",
    "    # [Medical condition 2] -- [briefly describe presentation and severity for this medical condition or symptom].\n",
    "    [Summarize the diagnostic work up and notable results related to this medical condition]. \n",
    "    [Summarize the related medical or surgical treatment course]. \n",
    "\n",
    "    --- end of response\n",
    "\n",
    "    Based on the input text, answer these questions about the patient's hospital admission:\n",
    "    What are the patient's major medical conditions?\n",
    "    Why was the patient admitted to the hospital?\n",
    "    What symptoms did the patient present with? What was the severity and duration of the presenting symptoms?\n",
    "    What treatments and procedures were administered and for what symptoms or medical conditions?\n",
    "    What unit or floor were they admitted to?\n",
    "    What was the diagnostic work up? What were the notable results?\n",
    "    What medications were used to treat the patient? Were any medications new or discontinued?\n",
    "    Are there changes to the existing medications?\n",
    "    What was the patient diagnosed with at discharge?\n",
    "    What was the patient initially diagnosed with?\n",
    "    \n",
    "    Fill in the blanks:\n",
    "    Use the answers to the questions above to fill in the blanks.\n",
    "    If you do not know the answer, fill in the blank with \"___\".\n",
    "    Answer clearly and concisely. Do not include information about the review of systems.\n",
    "    Stop generating when you reach \"--- end of response\"\n",
    "    Do not repeat the instructions in your response or make comments after your response.\n",
    "    '''.replace('    ', '')\n",
    "    \n",
    "    # Using the following input data as context, \n",
    "    # Summarize the patient's hospital course in the following way --\n",
    "    # Start with brief description of the patient's major medical conditions and why they were admitted to the hospital.\n",
    "    # Then, in a new section, outline the details of the treatment course and events of the hospital stay, \n",
    "    # focusing on the relevant diagnosis, medical conditions,\n",
    "    # diagnostic work up, relevant results, procedures, medications that were used, and changes to baseline medication therapies. \n",
    "    # Organize the outline according to the major medical conditions and diagnosis.\n",
    "    # Limit your response to 1024 words or less.\n",
    "    # '''.replace('\\n', '')\n",
    "    # prompt = '''\n",
    "    # Using the following patient specific data, \n",
    "    # briefly summarize the major medical conditions, reason for hospital admission, diagnostic workup, and treatment course.\n",
    "    # '''.replace('\\n', '')\n",
    "    \n",
    "    context_str =''\n",
    "    df = discharge_sections_df\n",
    "    cur_df = df[df['hadm_id'] == hadm_id]\n",
    "    cols = ['CC']\n",
    "    context_data = cur_df[cols].apply(lambda x: ' '.join(x.dropna().astype(str)), axis=1).str.cat(sep='\\n')\n",
    "    context_str = f\"The chief complaint was --- {context_data} \\n\"\n",
    "    cols = ['HPI']\n",
    "    context_data = cur_df[cols].apply(lambda x: ' '.join(x.dropna().astype(str)), axis=1).str.cat(sep='\\n')\n",
    "    context_str = context_str + f\"The History of present illness --- \\n{context_data} \\n\"\n",
    "    # cols = ['Medication Lists']\n",
    "    # context_data = cur_df[cols].apply(lambda x: ' '.join(x.dropna().astype(str)), axis=1).str.cat(sep='\\n')\n",
    "    # context_str = context_str + f\"The admission and discharge medication lists:\\n{context_data} \\n\"\n",
    "    cols = ['Pertinent Results']\n",
    "    context_data = cur_df[cols].apply(lambda x: ' '.join(x.dropna().astype(str)), axis=1).str.cat(sep='\\n')\n",
    "    context_str = context_str + f\"The Pertinent Results were:\\n{context_data} \\n\"\n",
    "    cols = ['Major Surgical Procedure']\n",
    "    context_data = cur_df[cols].apply(lambda x: ' '.join(x.dropna().astype(str)), axis=1).str.cat(sep='\\n')\n",
    "    context_str = context_str + f\"The major procedures were --- \\n{context_data} \\n\"\n",
    "    cols = ['Discharge Diagnosis']\n",
    "    context_data = cur_df[cols].apply(lambda x: ' '.join(x.dropna().astype(str)), axis=1).str.cat(sep='\\n')\n",
    "    context_str = context_str + f\"At discharge, the patient was diagnosed with --- \\n{context_data} \\n\"\n",
    "    context_str = context_str.replace(\":\", '---').replace(\"==\", '')\n",
    "    \n",
    "    df = diagnosis_df\n",
    "    cols = ['icd_title']\n",
    "    cur_df = df[df['hadm_id'] == hadm_id]\n",
    "    context_data = cur_df[cols].apply(lambda x: ' '.join(x.dropna().astype(str)), axis=1).str.cat(sep='\\n ')\n",
    "    context_str = context_str + f\"The patient was initially diagnosed with ICD Diagnosis titles --- \\n{context_data}\\n \"\n",
    "    \n",
    "    \n",
    "    instruction = f\"{topic} \\n {prompt}\"\n",
    "    context_input = f\"<text> {context_str}</text> \"\n",
    "    \n",
    "    response = generate_with_model(instruction, context_input, model)\n",
    "    return response\n",
    "    \n",
    "# # extract HPI summary USE THIS\n",
    "# def generate_bhc(hadm_id):\n",
    "#     topic = '''\n",
    "#     The topic is about clinical notes, medical records, and other text documents from electronic health records (EHR) \n",
    "#     from a patient's hospital admission. \n",
    "#     You will be provided with text and data from a specific patient's medical records and clinical notes\n",
    "#     delimited by xml tags <text> </text>. Use only this data to answer questions about the EHR.  \n",
    "#     Answer clearly and concisely.\n",
    "#     '''.replace('\\n', '')\n",
    "    \n",
    "#     # prompt = '''\n",
    "#     # Using the following patient specific data, \n",
    "#     # briefly summarize the major medical conditions, reason for hospital admission, diagnostic workup, and treatment course.\n",
    "#     # Then, create a list of the patient's acute and chronic medical conditions and the associated treatments course.\n",
    "#     # '''.replace('\\n', '')\n",
    "#     prompt = '''\n",
    "#     Using the following patient specific data, \n",
    "#     briefly summarize the major medical conditions, reason for hospital admission, diagnostic workup, and treatment course.\n",
    "#     '''.replace('\\n', '')\n",
    "    \n",
    "#     context_str =''\n",
    "#     df = discharge_sections_df\n",
    "#     cur_df = df[df['hadm_id'] == hadm_id]\n",
    "#     cols = ['CC']\n",
    "#     context_data = cur_df[cols].apply(lambda x: ' '.join(x.dropna().astype(str)), axis=1).str.cat(sep='\\n')\n",
    "#     context_str = f\"The chief complaint was - {context_data} \\n\"\n",
    "#     cols = ['HPI']\n",
    "#     context_data = cur_df[cols].apply(lambda x: ' '.join(x.dropna().astype(str)), axis=1).str.cat(sep='\\n')\n",
    "#     context_str = context_str + f\"The History of present illness: \\n{context_data} \\n\"\n",
    "#     # cols = ['Medication Lists']\n",
    "#     # context_data = cur_df[cols].apply(lambda x: ' '.join(x.dropna().astype(str)), axis=1).str.cat(sep='\\n')\n",
    "#     # context_str = context_str + f\"The admission and discharge medication lists:\\n{context_data} \\n\"\n",
    "#     # cols = ['Pertinent Results']\n",
    "#     # context_data = cur_df[cols].apply(lambda x: ' '.join(x.dropna().astype(str)), axis=1).str.cat(sep='\\n')\n",
    "#     # context_str = context_str + f\"The Pertinent Results were:\\n{context_data} \\n\"\n",
    "#     cols = ['Major Surgical Procedure']\n",
    "#     context_data = cur_df[cols].apply(lambda x: ' '.join(x.dropna().astype(str)), axis=1).str.cat(sep='\\n')\n",
    "#     context_str = context_str + f\"The major procedures were:\\n{context_data} \\n\"\n",
    "#     cols = ['Discharge Diagnosis']\n",
    "#     context_data = cur_df[cols].apply(lambda x: ' '.join(x.dropna().astype(str)), axis=1).str.cat(sep='\\n')\n",
    "#     context_str = context_str + f\"The patient was diagnosed with:\\n{context_data} \\n\"\n",
    "    \n",
    "#     df = diagnosis_df\n",
    "#     cols = ['icd_title']\n",
    "#     cur_df = df[df['hadm_id'] == hadm_id]\n",
    "#     context_data = cur_df[cols].apply(lambda x: ' '.join(x.dropna().astype(str)), axis=1).str.cat(sep='\\n ')\n",
    "#     context_str = context_str + f\"The patient was initially diagnosed with ICD Diagnosis titles: \\n{context_data}\\n \"\n",
    "    \n",
    "    \n",
    "#     instruction = f\"{topic} \\n Instruction: {prompt}\"\n",
    "#     context_input = f\"<text> Text:{context_str}</text> \"\n",
    "    \n",
    "#     response = generate_with_model(instruction, context_input, model)\n",
    "#     return response"
   ]
  },
  {
   "cell_type": "code",
   "execution_count": 13,
   "id": "f6634c34-926e-4dce-aa48-4bca1af131d2",
   "metadata": {},
   "outputs": [],
   "source": [
    "def generate_discharge_instructions(hadm_id):\n",
    "    # topic = '''\n",
    "    # The topic is about clinical notes, medical records, and other text documents from electronic health records (EHR) \n",
    "    # from a patient's hospital admission. \n",
    "    # You will be provided with input text and data from a specific patient's medical records and clinical notes\n",
    "    # delimited by xml tags <text> </text>. Use only this data to answer questions about the EHR.  \n",
    "    # Answer clearly and concisely.\n",
    "    # '''.replace('\\n', '')\n",
    "    \n",
    "    # prompt = '''\n",
    "    # Given the following input data from a patient's hospital stay,\n",
    "    # Compose a letter to the patient that includes answers to the following questions.\n",
    "    # What was the patient admitted for? What were the major treatments and exam findings?\n",
    "    # What is the recommended follow-up plan or instructions?\n",
    "    # Are there any changes to the patient's existing medication, \n",
    "    # and if so, what are the new medications, dose changes, or medications that should be stopped?\n",
    "    # The letter should be courteous, easy to understand, and it should be written in layman's language. \n",
    "    # Limit the use of medical jargon and acronyms.\n",
    "    # Limit your response to 500 words or less.\n",
    "    # '''.replace('\\n', '')\n",
    "\n",
    "    topic = '''\n",
    "    The topic is about clinical notes, medical records, and other text documents from electronic health records (EHR) \n",
    "    from a patient's hospital admission. \n",
    "    You will be provided with input text and data from a specific patient's medical records and clinical notes \n",
    "    delimited by xml tags <text> </text>.  \n",
    "    '''.replace('\\n', '').replace('    ', '')\n",
    "    \n",
    "    prompt = '''\\n\n",
    "    Write a brief and curteous letter to the patient that summarizes their hospital stay and communicates \n",
    "    follow-up instructions as well as important changes to their medications. Use the \n",
    "    following template:\n",
    "    \n",
    "    Discharge Instructions ---\n",
    "    Dear ____,\n",
    "\n",
    "    It was a pleasure to take care of you during your recent hospital admission. \n",
    "    You were admitted to the hospital because [explain the reason for admission]. \n",
    "    [Briefly explain the diagnostic work up and explain the results]\n",
    "    During your hospital stay your treatments included [briefly explain the major treatments and procedures].\n",
    "\n",
    "    [Briefly explain ongoing issues and follow-up recommendations].\n",
    "\n",
    "    [Briefly explain any new medications and changes to medications].\n",
    "\n",
    "    If your symptoms return, please call our office (555-555-5555) or 911 for immedicate assistance\n",
    "\n",
    "    Sincerely,\n",
    "    Your Team___\n",
    "    \n",
    "    --- end of response\n",
    "\n",
    "    Questions to answer based on the input text:\n",
    "    Why was the patient admitted to the hospital?\n",
    "    What treatments and procedures were administered and for what symptoms or medical conditions?\n",
    "    What was the diagnostic work up related to the chief complaint? What were the notable results?\n",
    "    What medications were used to treat the patient? Were any medications new or discontinued?\n",
    "    Are there changes to the existing medications?\n",
    "    What are the ongoing issues and follow-up recommendations?\n",
    "    \n",
    "    Fill in the blanks:\n",
    "    Use the input data and answers to the questions above to fill in the blanks.\n",
    "    If you do not know the answer, fill in the blank with \"___\".\n",
    "    Answer clearly and concisely. Use easy to understand language or layman's terms.\n",
    "    Address the patient as \"you\". Do not refer to the patient in the third person.\n",
    "    Minimize the use of medical jargon and acronyms.\n",
    "    Stop generating when you reach \"--- end of response\".\n",
    "    Do not repeat the instructions in your response.\n",
    "    '''.replace('    ', '')\n",
    "    \n",
    "    context_str = ''\n",
    "    df = discharge_sections_df\n",
    "    cur_df = df[df['hadm_id'] == hadm_id]\n",
    "    cols = ['CC']\n",
    "    context_data = cur_df[cols].apply(lambda x: ' '.join(x.dropna().astype(str)), axis=1).str.cat(sep='\\n')\n",
    "    context_str = f\"The chief complaint was --- {context_data} \\n\"\n",
    "    cols = ['HPI']\n",
    "    context_data = cur_df[cols].apply(lambda x: ' '.join(x.dropna().astype(str)), axis=1).str.cat(sep='\\n')\n",
    "    context_str = f\"The history of present illness was --- {context_data} \\n\"\n",
    "    cols = ['BHC']\n",
    "    context_data = cur_df[cols].apply(lambda x: ' '.join(x.dropna().astype(str)), axis=1).str.cat(sep='\\n')\n",
    "    context_str = f\"The hospital course was --- {context_data} \\n\"\n",
    "    # cols = ['Medication Lists']\n",
    "    # context_data = cur_df[cols].apply(lambda x: ' '.join(x.dropna().astype(str)), axis=1).str.cat(sep='\\n')\n",
    "    # context_str = context_str + f\"The admission and discharge medication list --- \\n{context_data} \\n\"\n",
    "    cols = ['Transitional Issues']\n",
    "    context_data = cur_df[cols].apply(lambda x: ' '.join(x.dropna().astype(str)), axis=1).str.cat(sep='\\n')\n",
    "    context_str = context_str + f\"The ongoing issues and followup instructions include ---  \\n{context_data} \\n\"\n",
    "    # cols = ['BHC']\n",
    "    # context_data = cur_df[cols].apply(lambda x: ' '.join(x.dropna().astype(str)), axis=1).str.cat(sep='\\n')\n",
    "    # context_str = context_str + f\"The Brief Hospital course was:\\n{context_data} \\n\"\n",
    "    cols = ['Discharge Diagnosis']\n",
    "    context_data = cur_df[cols].apply(lambda x: ' '.join(x.dropna().astype(str)), axis=1).str.cat(sep='\\n')\n",
    "    context_str = context_str + f\"At discharge, the patient was diagnosed with --- \\n{context_data} \\n\"\n",
    "    context_str = context_str.replace(\":\", '---').replace(\"==\", '')\n",
    "    \n",
    "    # df = diagnosis_df\n",
    "    # cols = ['icd_title']\n",
    "    # cur_df = df[df['hadm_id'] == hadm_id]\n",
    "    # context_data = cur_df[cols].apply(lambda x: ' '.join(x.dropna().astype(str)), axis=1).str.cat(sep='\\n ')\n",
    "    # context_str = context_str + f\"The patient was initially diagnosed with ICD Diagnosis titles --- \\n{context_data}\\n \"\n",
    "    \n",
    "    instruction = f\"{topic} \\n {prompt}\"\n",
    "    context_input = f\"<text> {context_str}</text> \"\n",
    "    \n",
    "    response = generate_with_model(instruction, context_input, model)\n",
    "    return response\n",
    "    \n",
    "# def generate_discharge_instructions(hadm_id):\n",
    "#     topic = '''\n",
    "#     The topic is about clinical notes, medical records, and other text documents from electronic health records (EHR) \n",
    "#     from a patient's hospital admission. \n",
    "#     You will be provided with text and data from a specific patient's medical records and clinical notes\n",
    "#     delimited by xml tags <text> </text>. Use only this data to answer questions about the EHR.  \n",
    "#     Answer clearly and concisely.\n",
    "#     '''.replace('\\n', '')\n",
    "    \n",
    "#     prompt = '''\n",
    "#     Given the following information from a patient's hospital stay,\n",
    "#     Compose a letter to the patient that is courteous and easy to understand. \n",
    "#     There should be limited medical jargon and it should be written in layman's language.  \n",
    "#     The letter will briefly summarize the reason for admission, the treatment course, relevant tests and results.  \n",
    "#     It will also summarize any changes to the patient's current medical management including medication changes. \n",
    "#     Is there any scheduled or recommended follow up?\n",
    "#     If there was a surgery, what are the post-operative or wound care instructions?\n",
    "#     Limit the letter to 3 paragraphs.\n",
    "#     '''.replace('\\n', '')\n",
    "    \n",
    "#     context_str = ''\n",
    "#     df = discharge_sections_df\n",
    "#     cur_df = df[df['hadm_id'] == hadm_id]\n",
    "#     cols = ['HPI']\n",
    "#     context_data = cur_df[cols].apply(lambda x: ' '.join(x.dropna().astype(str)), axis=1).str.cat(sep='\\n')\n",
    "#     context_str = f\"The history of present illness was: {context_data} \\n\"\n",
    "#     # cols = ['Medication Lists']\n",
    "#     # context_data = cur_df[cols].apply(lambda x: ' '.join(x.dropna().astype(str)), axis=1).str.cat(sep='\\n')\n",
    "#     # context_str = context_str + f\"The admission medication list: \\n{context_data} \\n\"\n",
    "#     cols = ['Transitional Issues']\n",
    "#     context_data = cur_df[cols].apply(lambda x: ' '.join(x.dropna().astype(str)), axis=1).str.cat(sep='\\n')\n",
    "#     context_str = context_str + f\"The ongoing issues to be addressed after discharge: \\n{context_data} \\n\"\n",
    "#     # cols = ['BHC']\n",
    "#     # context_data = cur_df[cols].apply(lambda x: ' '.join(x.dropna().astype(str)), axis=1).str.cat(sep='\\n')\n",
    "#     # context_str = context_str + f\"The Brief Hospital course was:\\n{context_data} \\n\"\n",
    "#     df = diagnosis_df\n",
    "#     cols = ['icd_title']\n",
    "#     cur_df = df[df['hadm_id'] == hadm_id]\n",
    "#     context_data = cur_df[cols].apply(lambda x: ' '.join(x.dropna().astype(str)), axis=1).str.cat(sep='\\n ')\n",
    "#     context_str = context_str + f\"The patient was initially diagnosed with ICD Diagnosis titles: \\n{context_data}\\n \"\n",
    "    \n",
    "    \n",
    "#     instruction = f\"{topic} \\n Instruction: {prompt}\"\n",
    "#     context_input = f\"<text> Text:{context_str}</text> \"\n",
    "    \n",
    "#     response = generate_with_model(instruction, context_input, model)\n",
    "#     discharge_instructions = response\n",
    "#     return discharge_instructions\n"
   ]
  },
  {
   "cell_type": "code",
   "execution_count": 14,
   "id": "ee64d1a8",
   "metadata": {},
   "outputs": [
    {
     "data": {
      "text/html": [
       "<div>\n",
       "<style scoped>\n",
       "    .dataframe tbody tr th:only-of-type {\n",
       "        vertical-align: middle;\n",
       "    }\n",
       "\n",
       "    .dataframe tbody tr th {\n",
       "        vertical-align: top;\n",
       "    }\n",
       "\n",
       "    .dataframe thead th {\n",
       "        text-align: right;\n",
       "    }\n",
       "</style>\n",
       "<table border=\"1\" class=\"dataframe\">\n",
       "  <thead>\n",
       "    <tr style=\"text-align: right;\">\n",
       "      <th></th>\n",
       "      <th>hadm_id</th>\n",
       "    </tr>\n",
       "  </thead>\n",
       "  <tbody>\n",
       "    <tr>\n",
       "      <th>0</th>\n",
       "      <td>24798710</td>\n",
       "    </tr>\n",
       "    <tr>\n",
       "      <th>1</th>\n",
       "      <td>23193003</td>\n",
       "    </tr>\n",
       "    <tr>\n",
       "      <th>2</th>\n",
       "      <td>29984324</td>\n",
       "    </tr>\n",
       "    <tr>\n",
       "      <th>3</th>\n",
       "      <td>26483510</td>\n",
       "    </tr>\n",
       "    <tr>\n",
       "      <th>4</th>\n",
       "      <td>21137825</td>\n",
       "    </tr>\n",
       "  </tbody>\n",
       "</table>\n",
       "</div>"
      ],
      "text/plain": [
       "    hadm_id\n",
       "0  24798710\n",
       "1  23193003\n",
       "2  29984324\n",
       "3  26483510\n",
       "4  21137825"
      ]
     },
     "execution_count": 14,
     "metadata": {},
     "output_type": "execute_result"
    }
   ],
   "source": [
    "hadm_subset_df = pd.read_csv('/work/AI-EHR/discharge_me/data/Experiments/hadm_id_for_discharge_me_scoring.csv')\n",
    "hadm_subset_df.head()"
   ]
  },
  {
   "cell_type": "code",
   "execution_count": 16,
   "id": "08920cf4-ad8e-494d-b219-0e71261a9378",
   "metadata": {},
   "outputs": [
    {
     "name": "stdout",
     "output_type": "stream",
     "text": [
      "1 of 250, 0.4% hadm_id: 24798710 **********\n",
      "\n",
      "\n",
      "1433\n"
     ]
    },
    {
     "name": "stderr",
     "output_type": "stream",
     "text": [
      "Processed prompts:   0%|          | 0/1 [00:00<?, ?it/s, est. speed input: 0.00 toks/s, output: 0.00 toks/s]Processed prompts: 100%|██████████| 1/1 [00:06<00:00,  6.84s/it, est. speed input: 209.71 toks/s, output: 38.05 toks/s]\n"
     ]
    },
    {
     "name": "stdout",
     "output_type": "stream",
     "text": [
      "Brief Hospital Course\n",
      "The patient with a history of diabetes mellitus, hypertension, hyperlipidemia, transient ischemic attacks, temporal arteritis, and 3-vessel coronary artery disease with multiple percutaneous coronary interventions and stents, peripheral vascular disease presents with chest pain and concern for unstable angina. She was admitted to the cardiology floor for cardiac catheterization and evaluation of her symptoms.\n",
      "\n",
      "The patient's symptoms included intermittent left back pain for three weeks, which progressed to substernal chest pain with radiation to the left arm, pleuritic, and somewhat relieved by nitroglycerin. She also experienced mild shortness of breath, nausea, and no diaphoresis.\n",
      "\n",
      "Problem-based hospital course---\n",
      "# Chest pain --- The patient presented with chest pain and concern for unstable angina.\n",
      "The diagnostic work up included cardiac catheterization, which revealed no angiographically-apparent flow-limiting stenoses. The left main coronary artery had a 10% stenosis at its origin, and the left anterior descending artery had mild disease with patent stents. The left circumflex artery had a mid 50% lesion with no gradient during fractional flow reserve before or after adenosine administration.\n",
      "\n",
      "The patient underwent cardiac catheterization as a major procedure.\n",
      "\n",
      "\n",
      "Time taken for generate_bhc: 6.879213809967041 seconds.\n",
      "2 of 250, 0.8% hadm_id: 23193003 **********\n",
      "\n",
      "\n",
      "1368\n"
     ]
    },
    {
     "name": "stderr",
     "output_type": "stream",
     "text": [
      "Processed prompts: 100%|██████████| 1/1 [00:04<00:00,  4.17s/it, est. speed input: 328.43 toks/s, output: 36.97 toks/s]\n"
     ]
    },
    {
     "name": "stdout",
     "output_type": "stream",
     "text": [
      "Brief Hospital Course\n",
      "The patient with a history of pregnancy at 17 weeks and fibroid uterus presents with abdominal/pelvic pain. She was admitted to the obstetrics service for evaluation and management of a 13 cm degenerating fibroid and multiple smaller fibroids on MRI.\n",
      "\n",
      "Problem-based hospital course---\n",
      "# Fibroid uterus --- The patient presented with intermittent, sharp and crampy abdominal/pelvic pain, radiating upwards and down towards her pelvis. She received IV morphine and PO Benadryl in the ED. The patient underwent diagnostic work up including laboratory tests and imaging studies. Notable results include a complete blood count, chemistry panel, and urinalysis. The patient was treated with antibiotics for a urinary tract infection.\n",
      "\n",
      "\n",
      "Time taken for generate_bhc: 4.195441484451294 seconds.\n",
      "3 of 250, 1.2% hadm_id: 29984324 **********\n",
      "\n",
      "\n",
      "2319\n"
     ]
    },
    {
     "name": "stderr",
     "output_type": "stream",
     "text": [
      "Processed prompts: 100%|██████████| 1/1 [00:06<00:00,  6.22s/it, est. speed input: 372.99 toks/s, output: 36.67 toks/s]\n"
     ]
    },
    {
     "name": "stdout",
     "output_type": "stream",
     "text": [
      "Brief Hospital Course\n",
      "The patient with a history of subarachnoid hemorrhage secondary to aneurysm rupture, now status post right MCA aneurysm coiling and hemicraniectomy and cranioplasty with seizure disorder presents with status epilepticus. He was admitted to the Neurological Intensive Care Unit for management of his seizure disorder and treatment of his status epilepticus.\n",
      "\n",
      "Problem-based hospital course---\n",
      "# Status Epilepticus --- \n",
      "The patient presented with convulsive status epilepticus, which was treated with ativan and propofol in the emergency department. The patient's phenytoin level was 14.6 at 1 dose presumed taken in the morning.\n",
      "\n",
      "# Seizure Disorder --- \n",
      "The patient has a history of seizure disorder, which was complicated by cerebral edema and mass effect requiring hemicraniectomy, seizure treated with keppra, vasospasm s/p angioplasty, as well as HCAP and meningitis. The patient's neurologic status has improved, although he has residual difficulties with visuospatial tasks and attention.\n",
      "\n",
      "\n",
      "Time taken for generate_bhc: 6.297987461090088 seconds.\n",
      "4 of 250, 1.6% hadm_id: 26483510 **********\n",
      "\n",
      "\n",
      "988\n"
     ]
    },
    {
     "name": "stderr",
     "output_type": "stream",
     "text": [
      "Processed prompts: 100%|██████████| 1/1 [00:05<00:00,  5.19s/it, est. speed input: 190.44 toks/s, output: 38.36 toks/s]\n"
     ]
    },
    {
     "name": "stdout",
     "output_type": "stream",
     "text": [
      "Brief Hospital Course\n",
      "The patient with a history of bilateral below-knee amputation presents with 1 day of left lower extremity pain and swelling. She was admitted to the surgical floor for evaluation and management of the pain and swelling.\n",
      "\n",
      "Problem-based hospital course---\n",
      "# Left Lower Extremity Pain --- The patient presented with 1 day of left lower extremity pain and swelling.\n",
      "The related diagnostic work up included laboratory tests, including blood calcium, phosphorus, magnesium, glucose, urea nitrogen, creatinine, sodium, potassium, chloride, bicarbonate, and anion gap, which were all within normal limits. The patient's platelet count was not reported. The patient's complete blood count showed a white blood cell count of 6.7, red blood cell count of 3.05, hemoglobin of 8.1, and hematocrit of 26.4.\n",
      "The related medical treatment course included management of the patient's pain with medication.\n",
      "\n",
      "\n",
      "Time taken for generate_bhc: 5.209270000457764 seconds.\n",
      "5 of 250, 2.0% hadm_id: 21137825 **********\n",
      "\n",
      "\n",
      "1465\n"
     ]
    },
    {
     "name": "stderr",
     "output_type": "stream",
     "text": [
      "Processed prompts: 100%|██████████| 1/1 [00:07<00:00,  7.12s/it, est. speed input: 205.89 toks/s, output: 38.09 toks/s]\n"
     ]
    },
    {
     "name": "stdout",
     "output_type": "stream",
     "text": [
      "Brief Hospital Course\n",
      "The patient with a history of bipolar/schizoaffective disorder, epilepsy, and a history of cancer presents with a chief complaint of a broken leg, despite being able to weight bear. She was admitted to the psychiatric unit for evaluation of her symptoms and concerns.\n",
      "\n",
      "The patient was admitted for evaluation of her symptoms, including her fear that her hip is broken, despite being able to weight bear, as well as her reports of renal failure, cancer of the lungs, esophagus, heart, and brain. She also reported being a psychic and having made some bizarre statements.\n",
      "\n",
      "Problem-based hospital course---\n",
      "# Renal failure --- The patient reported having renal failure, but no further evaluation was performed.\n",
      "[Summarize the related diagnostic work up and notable results]. \n",
      "[Summarize the related medical or surgical treatment course].\n",
      "\n",
      "# Cancer --- The patient reported having cancer of the lungs, esophagus, heart, and brain, but no further evaluation was performed.\n",
      "[Summarize the related diagnostic work up and notable results]. \n",
      "[Summarize the related medical or surgical treatment course].\n",
      "\n",
      "# Psychosis --- The patient presented with psychotic symptoms, including delusions and hallucinations.\n",
      "[Summarize the related diagnostic work up and notable results]. \n",
      "[Summarize the related medical or surgical treatment course].\n",
      "\n",
      "\n",
      "Time taken for generate_bhc: 7.1416192054748535 seconds.\n",
      "6 of 250, 2.4% hadm_id: 20681868 **********\n",
      "\n",
      "\n",
      "1031\n"
     ]
    },
    {
     "name": "stderr",
     "output_type": "stream",
     "text": [
      "Processed prompts: 100%|██████████| 1/1 [00:03<00:00,  3.59s/it, est. speed input: 287.29 toks/s, output: 37.62 toks/s]\n"
     ]
    },
    {
     "name": "stdout",
     "output_type": "stream",
     "text": [
      "Brief Hospital Course\n",
      "The patient with a history of abdominal pain and ovarian cyst presents with sudden onset of sharp abdominal pain and nausea. She was admitted to the emergency department for further workup and management of her symptoms.\n",
      "\n",
      "Problem-based hospital course---\n",
      "# Abdominal pain --- The patient presented with sharp and diffuse lower abdominal pain, which improved with IV Dilaudid but continued to have sharp pain. The diagnostic workup included a CT of the abdomen without contrast, which showed no evidence of appendicitis. The patient received IV Morphine for pain management.\n",
      "\n",
      "# Headache --- The patient presented with a headache, which was managed with Benadryl.\n",
      "\n",
      "\n",
      "Time taken for generate_bhc: 3.6160426139831543 seconds.\n",
      "7 of 250, 2.8% hadm_id: 24910162 **********\n",
      "\n",
      "\n",
      "1452\n"
     ]
    },
    {
     "name": "stderr",
     "output_type": "stream",
     "text": [
      "Processed prompts: 100%|██████████| 1/1 [00:05<00:00,  5.50s/it, est. speed input: 264.06 toks/s, output: 37.83 toks/s]\n"
     ]
    },
    {
     "name": "stdout",
     "output_type": "stream",
     "text": [
      "Brief Hospital Course\n",
      "The patient with a history of bullous pemphigoid and lymphoma presents with leg swelling and complaints of oral ulcers. He was admitted to the medical floor for evaluation of leg lesions and abdominal swelling.\n",
      "\n",
      "The patient was initially diagnosed with cellulitis of the left lower limb, and was treated with Duonebs and CTX 1g IV for LLE cellulitis.\n",
      "\n",
      "Problem-based hospital course---\n",
      "# Leg pain --- The patient presented with leg swelling and complaints of oral ulcers. The diagnostic work up included LLE US, which did not show evidence of DVT, and CXR, which showed mild cardiomegaly and mild vascular congestion. The patient was treated with Duonebs and CTX 1g IV for LLE cellulitis.\n",
      "\n",
      "# Abdominal swelling --- The patient complained of abdominal swelling, but the bedside US did not show any evidence of ascites. The patient was referred to the ED by his PCP for evaluation of his leg lesions and abdominal swelling.\n",
      "\n",
      "\n",
      "Time taken for generate_bhc: 5.52620530128479 seconds.\n",
      "8 of 250, 3.2% hadm_id: 22651831 **********\n",
      "\n",
      "\n",
      "2136\n"
     ]
    },
    {
     "name": "stderr",
     "output_type": "stream",
     "text": [
      "Processed prompts: 100%|██████████| 1/1 [00:06<00:00,  6.95s/it, est. speed input: 307.44 toks/s, output: 37.57 toks/s]\n"
     ]
    },
    {
     "name": "stdout",
     "output_type": "stream",
     "text": [
      "Brief Hospital Course\n",
      "The patient with a history of endocarditis, diabetes mellitus, and coronary artery disease presents with fever. She was admitted to the medicine floor for cellulitis, suspected recurrent endocarditis, and sepsis.\n",
      "\n",
      "The patient was given Linezolid IV and fluids. She was seen by podiatry who recommended ultrasound of the foot to ensure no fluid collection and admission to medicine. Decision was made to admit for cellulitis, c/f recurrent endocarditis.\n",
      "\n",
      "Problem-based hospital course---\n",
      "# Cellulitis --- The patient presented with redness, warmth, and edema on her right shin. The diagnostic work up included labs and imaging, with notable results including WBC 28.5, lactate 2.8, CRP 50.4, and imaging showing no radiographic evidence of osteomyelitis or DVT. The patient was treated with antibiotics and fluids.\n",
      "\n",
      "# Sepsis --- The patient presented with fever and chills. The diagnostic work up included labs and imaging, with notable results including WBC 28.5, lactate 2.8, CRP 50.4, and imaging showing no radiographic evidence of osteomyelitis or DVT. The patient was treated with antibiotics and fluids.\n",
      "\n",
      "\n",
      "Time taken for generate_bhc: 7.005330562591553 seconds.\n",
      "9 of 250, 3.6% hadm_id: 24195190 **********\n",
      "\n",
      "\n",
      "1515\n"
     ]
    },
    {
     "name": "stderr",
     "output_type": "stream",
     "text": [
      "Processed prompts: 100%|██████████| 1/1 [00:05<00:00,  5.27s/it, est. speed input: 287.47 toks/s, output: 37.76 toks/s]\n"
     ]
    },
    {
     "name": "stdout",
     "output_type": "stream",
     "text": [
      "Brief Hospital Course\n",
      "The patient with a history of intestinal malrotation/crohn's disease and surgery for resection presents with abdominal pain. They were admitted to the medical floor for acute on chronic Crohn's disease with skip lesions of inflamed small bowel as well as probable strictures, and bowel obstruction without signs of perforation.\n",
      "\n",
      "Problem-based hospital course---\n",
      "# Crohn's disease --- The patient presented with intermittent diffuse lower abdominal pain, which was sporadic and occurred about every 5 minutes. The patient was diagnosed with a flare of known Crohn's disease based on CT abdomen/pelvis, which showed small bowel dilation and extensive wall edema with surrounding mesenteric fluid.\n",
      "\n",
      "The patient was treated with morphine for pain control, and was started on PO steroids (40 mg prednisone), PO cipro/flagyl, and PO pain meds. The patient was admitted for observation and was discharged in the morning after touching base with the primary GI attending.\n",
      "\n",
      "\n",
      "Time taken for generate_bhc: 5.297145843505859 seconds.\n",
      "10 of 250, 4.0% hadm_id: 29030546 **********\n",
      "\n",
      "\n",
      "2037\n"
     ]
    },
    {
     "name": "stderr",
     "output_type": "stream",
     "text": [
      "Processed prompts: 100%|██████████| 1/1 [00:08<00:00,  8.42s/it, est. speed input: 242.05 toks/s, output: 37.79 toks/s]\n"
     ]
    },
    {
     "name": "stdout",
     "output_type": "stream",
     "text": [
      "Brief Hospital Course\n",
      "The patient with a history of coronary artery disease presents with chest pain. He was admitted to the Cardiovascular Intensive Care Unit for non-ST elevation myocardial infarction with two-vessel disease. He was found to have inferior ST segment changes concerning for ischemia with troponin 1.39. He was given aspirin and started on heparin and nitroglycerin. It was determined to transfer him to the operating room for further management and cardiac catheterization. Upon cardiac catheterization, he was found to have two-vessel disease. He is now being referred to cardiac surgery for revascularization.\n",
      "\n",
      "Problem-based hospital course---\n",
      "# Coronary artery disease --- The patient presented with chest pain with a duration of approximately 18 hours. He had abrupt onset of non-radiating chest pain associated with diaphoresis and shortness of breath starting around 4 pm. Decreased intensity throughout the day and overnight last night after taking Tums. Due to persistent chest pressure and \"not feeling right\" he presented to the emergency department.\n",
      "\n",
      "[Summarize the related diagnostic work up and notable results]. The patient underwent cardiac catheterization and was found to have two-vessel disease.\n",
      "\n",
      "[Summarize the related medical or surgical treatment course]. The patient was given aspirin and started on heparin and nitroglycerin. He underwent coronary artery bypass grafting times two with a left internal mammary artery to the left anterior descending artery and reverse saphenous vein graft to the posterior descending artery.\n",
      "\n",
      "\n",
      "Time taken for generate_bhc: 8.44582486152649 seconds.\n",
      "11 of 250, 4.4% hadm_id: 20070958 **********\n",
      "\n",
      "\n",
      "1493\n"
     ]
    },
    {
     "name": "stderr",
     "output_type": "stream",
     "text": [
      "Processed prompts: 100%|██████████| 1/1 [00:06<00:00,  6.10s/it, est. speed input: 245.01 toks/s, output: 37.91 toks/s]\n"
     ]
    },
    {
     "name": "stdout",
     "output_type": "stream",
     "text": [
      "Brief Hospital Course\n",
      "The patient with a history of coronary artery disease status post recent CABG X3, aortic stenosis, and prior myocardial infarction presents with facial droop and slurred speech. He was admitted to the neurology service for further evaluation.\n",
      "\n",
      "The patient was initially diagnosed with facial weakness and was found to have a right internal carotid artery occlusion on CTA head/neck. He was transferred to the hospital for further evaluation and treatment.\n",
      "\n",
      "Problem-based hospital course---\n",
      "# Right Internal Carotid Artery Occlusion --- The patient presented with facial droop and slurred speech, which were evaluated with CT head and CTA head/neck. The CTA head/neck showed total occlusion of the right internal carotid artery from just distal to the carotid bifurcation to the circle of Willis, with filling of the right MCA via the circle of Willis.\n",
      "\n",
      "The patient underwent diagnostic workup, including blood tests, which showed elevated CK-MB and cTropnT levels. He was treated with supportive care and was diagnosed with CVA at discharge.\n",
      "\n",
      "\n",
      "Time taken for generate_bhc: 6.119138240814209 seconds.\n",
      "12 of 250, 4.8% hadm_id: 22614106 **********\n",
      "\n",
      "\n",
      "2233\n"
     ]
    },
    {
     "name": "stderr",
     "output_type": "stream",
     "text": [
      "Processed prompts: 100%|██████████| 1/1 [00:06<00:00,  6.78s/it, est. speed input: 329.58 toks/s, output: 37.05 toks/s]\n"
     ]
    },
    {
     "name": "stdout",
     "output_type": "stream",
     "text": [
      "Brief Hospital Course\n",
      "The patient with a history of HIV (CD4 in 500s, suppressed VL), rectal cancer status post surgery, radiation and chemotherapy, presents with abdominal pain, diarrhea, and nausea, vomiting, and diarrhea. They were admitted to the floor for acute worsening of symptoms, initial diagnosis of diarrhea, and related medical treatment.\n",
      "\n",
      "Problem-based hospital course---\n",
      "# Diarrhea --- The patient presented with a 4-day history of nonbloody diarrhea, which worsened with nausea, vomiting, and abdominal pain. The diagnostic work up included laboratory tests, which showed a lactate level of 9.7, trending down to 3.8. The patient was treated with IV Ondansetron, IV Piperacillin-Tazobactam, IVF NS, IV Morphine Sulfate, and IV Magnesium Sulfate.\n",
      "\n",
      "# Unspecified abdominal pain --- The patient presented with sharp left lower quadrant abdominal pain associated with multiple episodes of nonbloody nonbilious emesis. The diagnostic work up included laboratory tests, which showed a normal ECG. The patient was treated with IV Ondansetron, IV Morphine Sulfate, and IV Prochlorperazine.\n",
      "\n",
      "\n",
      "Time taken for generate_bhc: 6.8089919090271 seconds.\n",
      "13 of 250, 5.2% hadm_id: 29957752 **********\n",
      "\n",
      "\n",
      "1858\n"
     ]
    },
    {
     "name": "stderr",
     "output_type": "stream",
     "text": [
      "Processed prompts: 100%|██████████| 1/1 [00:05<00:00,  5.39s/it, est. speed input: 344.74 toks/s, output: 36.92 toks/s]\n"
     ]
    },
    {
     "name": "stdout",
     "output_type": "stream",
     "text": [
      "Brief Hospital Course\n",
      "The patient with a history of migraines and a previous episode of left-sided tingling presents with left-sided paresthesias. She was admitted to the Neurology service for evaluation and management of her symptoms.\n",
      "\n",
      "Problem-based hospital course---\n",
      "# Left-sided paresthesias --- The patient presented with left-sided tingling and numbness in her upper arm, spreading to her fingers, neck, and down her left leg to the ankle. The symptoms were constant and largely unchanged throughout the day, with no pain.\n",
      "The diagnostic work up included laboratory evaluation, which showed normal complete blood count, electrolyte panel, and liver function tests. The imaging evaluation included a CTA head and neck, which showed no evidence of acute intracranial hemorrhage or vascular territorial infarction, and a MRI head, which showed no evidence of acute intracranial hemorrhage or infarction. The patient was diagnosed with transient left arm tingling at discharge.\n",
      "\n",
      "\n",
      "Time taken for generate_bhc: 5.433972120285034 seconds.\n",
      "14 of 250, 5.6% hadm_id: 22698456 **********\n",
      "\n",
      "\n",
      "2142\n"
     ]
    },
    {
     "name": "stderr",
     "output_type": "stream",
     "text": [
      "Processed prompts: 100%|██████████| 1/1 [00:06<00:00,  6.03s/it, est. speed input: 355.62 toks/s, output: 36.86 toks/s]\n"
     ]
    },
    {
     "name": "stdout",
     "output_type": "stream",
     "text": [
      "Brief Hospital Course\n",
      "The patient with a history of end-stage renal disease on hemodialysis status-post failed renal allograft, recurrent venous thromboembolism status-post IVC filter placement, hypertension, chronic opioid use, and gastrointestinal bleeding presents with altered mental status and possible pneumonia. They were admitted to the intensive care unit for acute respiratory failure and gastrointestinal bleeding.\n",
      "\n",
      "Problem-based hospital course---\n",
      "# Altered Mental Status / Toxic-Metabolic Encephalopathy --- The patient presented with altered mental status, initially found to have a Glasgow Coma Scale of 8, and later intubated due to respiratory failure. The diagnostic workup included a CT head, which was negative for acute bleed, and a CT torso with contrast, which showed atelectasis versus pneumonia. The patient received vancomycin and zosyn, and was sedated.\n",
      "\n",
      "# Acute Respiratory Failure --- The patient presented with acute respiratory failure, requiring intubation and mechanical ventilation. The diagnostic workup included a CT chest, which showed mild pulmonary edema and atelectasis versus pneumonia.\n",
      "\n",
      "\n",
      "Time taken for generate_bhc: 6.053446531295776 seconds.\n",
      "15 of 250, 6.0% hadm_id: 29666557 **********\n",
      "\n",
      "\n",
      "724\n"
     ]
    },
    {
     "name": "stderr",
     "output_type": "stream",
     "text": [
      "Processed prompts: 100%|██████████| 1/1 [00:02<00:00,  2.62s/it, est. speed input: 276.67 toks/s, output: 37.45 toks/s]\n"
     ]
    },
    {
     "name": "stdout",
     "output_type": "stream",
     "text": [
      "Brief Hospital Course\n",
      "The patient with a history of MVC presents with symptoms of a s/p MVC, restrained roll over. She was admitted to the Neurosurgery service for a L4 compression fracture, initially diagnosed with a stable burst fracture of fourth lumbar vertebra.\n",
      "\n",
      "Problem-based hospital course---\n",
      "# MVC --- The patient presented with a MVC, restrained roll over. The diagnostic work up included OMR for pertinent lab results and imaging. The patient underwent no major procedures.\n",
      "\n",
      "Time taken for generate_bhc: 2.6446049213409424 seconds.\n",
      "16 of 250, 6.4% hadm_id: 27729294 **********\n",
      "\n",
      "\n",
      "1232\n"
     ]
    },
    {
     "name": "stderr",
     "output_type": "stream",
     "text": [
      "Processed prompts: 100%|██████████| 1/1 [00:09<00:00,  9.26s/it, est. speed input: 133.07 toks/s, output: 38.88 toks/s]\n"
     ]
    },
    {
     "name": "stdout",
     "output_type": "stream",
     "text": [
      "Brief Hospital Course\n",
      "The patient with a history of esophagus and interstitial lung disease presents with several days of fever and productive cough. He was admitted to the floor for further management of bilateral pneumonia and suspected interstitial lung disease. The patient was initially diagnosed with community acquired pneumonia and interstitial lung disease.\n",
      "\n",
      "Problem-based hospital course---\n",
      "# Bilateral Pneumonia --- The patient presented with several days of fever and productive cough. He was started on IV ceftriaxone and azithromycin and admitted to the floor for further management.\n",
      "[Summarize the related diagnostic work up and notable results]. The patient had a CXR which showed bilateral pneumonia and suspected interstitial lung disease. The patient's lactate level was 1.4, glucose level was 105, urea level was 14, creatinine level was 0.9, sodium level was 134, potassium level was 4.8, chloride level was 96, and total CO2 level was 29. The patient's cTropnT level was <0.01, proBNP level was 131, and D-DIMER level was 724.\n",
      "\n",
      "# Interstitial Lung Disease --- The patient presented with a drop off in exercise tolerance over the last few months. He had a history of frequent PVCs, which was unremarkable on a 48 hour Holter monitor. He was scheduled for an exercise stress echo but this was not performed. He started metoprolol 25mg PO daily but stopped this in the last 2 weeks as directed by PCP because of the new cough.\n",
      "[Summarize the related diagnostic work up and notable results]. The patient had a CXR which showed bilateral pneumonia and suspected interstitial lung disease.\n",
      "\n",
      "\n",
      "Time taken for generate_bhc: 9.283727645874023 seconds.\n",
      "17 of 250, 6.8% hadm_id: 23099182 **********\n",
      "\n",
      "\n",
      "2102\n"
     ]
    },
    {
     "name": "stderr",
     "output_type": "stream",
     "text": [
      "Processed prompts: 100%|██████████| 1/1 [00:06<00:00,  6.75s/it, est. speed input: 311.42 toks/s, output: 37.34 toks/s]\n"
     ]
    },
    {
     "name": "stdout",
     "output_type": "stream",
     "text": [
      "Brief Hospital Course\n",
      "The patient with a history of chronic progressive multiple sclerosis, sarcoidosis, pulmonary embolism, and trach/PEG presents with tachypnea. She was admitted to the rehabilitation unit for evaluation and management of her symptoms.\n",
      "\n",
      "The patient was initially diagnosed with pneumonia and treated with antibiotics, which were discontinued due to a colonizing organism. Mental status improved to her limited baseline, and she was discharged to rehab.\n",
      "\n",
      "Problem-based hospital course---\n",
      "\n",
      "# Tachypnea --- The patient presented with tachypnea with a respiratory rate of ___ and was afebrile.\n",
      "\n",
      "[Summarize the related diagnostic work up and notable results]. \n",
      "The patient underwent a series of diagnostic tests, including blood cultures, which grew Serratia marcescens. Imaging studies, including CT scans of the head, RUQUS, and CT a/p, revealed no evidence of pneumonia or focal consolidation.\n",
      "\n",
      "# Sepsis secondary to Serratia Bacteremia --- The patient was diagnosed with sepsis secondary to Serratia bacteremia.\n",
      "\n",
      "[Summarize the related medical or surgical treatment course]. \n",
      "The patient received treatment for sepsis, including antibiotics, and underwent a port-a-cath removal.\n",
      "\n",
      "\n",
      "Time taken for generate_bhc: 6.779850721359253 seconds.\n",
      "18 of 250, 7.2% hadm_id: 20449726 **********\n",
      "\n",
      "\n",
      "1458\n"
     ]
    },
    {
     "name": "stderr",
     "output_type": "stream",
     "text": [
      "Processed prompts: 100%|██████████| 1/1 [00:06<00:00,  6.88s/it, est. speed input: 212.08 toks/s, output: 38.26 toks/s]\n"
     ]
    },
    {
     "name": "stdout",
     "output_type": "stream",
     "text": [
      "Brief Hospital Course\n",
      "The patient with a history of H. pylori presents with severe abdominal pain. They were admitted to the surgical service for workup of severe abdominal pain. However, there was no clear reason for his persistent abdominal pain and tenderness that persisted to his date of discharge. \n",
      "\n",
      "Problem-based hospital course---\n",
      "# Abdominal pain --- severe abdominal pain with epigastric and diffuse abdominal tenderness and distention, radiation to right, no relation to PO intake, diarrhea about ___ times/day, fever to 100 at home for two days, denies nausea or vomiting.\n",
      "The diagnostic work up included blood tests, urinalysis, CT abdomen and pelvis without contrast, liver or gallbladder US, gallbladder scan, and MRCP. Notable results include gallbladder wall edema and possible small amount of pericholecystic fluid, gallbladder wall thickening, a small amount of pericholecystic fluid, and mild gallbladder wall edema, abdominal wall anasarca and trace abdominal ascites.\n",
      "\n",
      "# H. pylori --- positive sonographic sign concerning for cholecystitis given no other clear cause for gallbladder wall edema has been identified.\n",
      "The related medical treatment course included antibiotics for H. pylori.\n",
      "\n",
      "\n",
      "Time taken for generate_bhc: 6.898852348327637 seconds.\n",
      "19 of 250, 7.6% hadm_id: 23659047 **********\n",
      "\n",
      "\n",
      "1795\n"
     ]
    },
    {
     "name": "stderr",
     "output_type": "stream",
     "text": [
      "Processed prompts: 100%|██████████| 1/1 [00:06<00:00,  6.90s/it, est. speed input: 260.22 toks/s, output: 37.84 toks/s]\n"
     ]
    },
    {
     "name": "stdout",
     "output_type": "stream",
     "text": [
      "Brief Hospital Course\n",
      "The patient with a history of HFPEF, COPD, and mild pulmonary hypertension \n",
      "presents with progressive dyspnea, weight gain, and dyspnea from home. \n",
      "He was admitted to the floor for acute on chronic diastolic heart failure, \n",
      "acute kidney injury, and worsening symptoms.\n",
      "\n",
      "Problem-based hospital course---\n",
      "# Heart Failure --- \n",
      "The patient presented with progressive dyspnea, weight gain, and \n",
      "dyspnea from home. He was initially treated with furosemide drip at \n",
      "5 mg/hr for 3 days, then transitioned to torsemide 80 mg BID. \n",
      "He was subsequently increased to 100 mg BID, and metolazone 2.5 \n",
      "mg x1 was added. He did not appear to diurese to his increased \n",
      "dosing, and he is now referred for inpatient admission.\n",
      "\n",
      "# Chronic Obstructive Pulmonary Disease --- \n",
      "The patient has a history of COPD and mild pulmonary hypertension. \n",
      "There is no specific information about the presentation and severity \n",
      "of this medical condition or symptom.\n",
      "\n",
      "# Acute Kidney Injury --- \n",
      "The patient presented with acute kidney injury, which was diagnosed \n",
      "based on laboratory results. He was treated with supportive care.\n",
      "\n",
      "\n",
      "Time taken for generate_bhc: 6.923303127288818 seconds.\n",
      "20 of 250, 8.0% hadm_id: 22424687 **********\n",
      "\n",
      "\n",
      "2101\n"
     ]
    },
    {
     "name": "stderr",
     "output_type": "stream",
     "text": [
      "Processed prompts: 100%|██████████| 1/1 [00:09<00:00,  9.18s/it, est. speed input: 228.99 toks/s, output: 38.04 toks/s]\n"
     ]
    },
    {
     "name": "stdout",
     "output_type": "stream",
     "text": [
      "Brief Hospital Course\n",
      "The patient with a history of cholecystectomy and epigastric pain presents with severe perimenstrual pelvic pain, s/p CCY s/p ERCP with extraction of gallstones for epigastric pain in the past. They were admitted to the medical floor for epigastric pain worsened with eating, yellow and bilious emesis, and dark green diarrhea. The patient was initially diagnosed with abdominal pain epigastric.\n",
      "\n",
      "Problem-based hospital course---\n",
      "# Epigastric abdominal pain --- severe perimenstrual pelvic pain worsened with eating, yellow and bilious emesis, and dark green diarrhea.\n",
      "The patient presented with intermittent epigastric pain associated with yellow and bilious emesis and dark green diarrhea. The pain was sharp burning and lasted for seconds at a time. The patient had 4 episodes of emesis green and yellow. The patient was given oxycodone, viscous lidocaine, donntatol, ketoralac, zofran, and morphine sulfate, but was unable to tolerate POs and was thus admitted.\n",
      "\n",
      "# Possible ampullary stenosis --- mild central intrahepatic and extrahepatic bile duct dilation, likely related to a combination of post cholecystectomy status, and ampullary stenosis or sphincter of Oddi dysfunction.\n",
      "The patient underwent ERCP, which showed mild central intrahepatic and extrahepatic bile duct dilation, likely related to a combination of post cholecystectomy status, and ampullary stenosis or sphincter of Oddi dysfunction. The patient was diagnosed with possible ampullary stenosis.\n",
      "\n",
      "\n",
      "Time taken for generate_bhc: 9.220664978027344 seconds.\n",
      "21 of 250, 8.4% hadm_id: 21965462 **********\n",
      "\n",
      "\n",
      "816\n"
     ]
    },
    {
     "name": "stderr",
     "output_type": "stream",
     "text": [
      "Processed prompts: 100%|██████████| 1/1 [00:06<00:00,  6.11s/it, est. speed input: 133.61 toks/s, output: 39.13 toks/s]\n"
     ]
    },
    {
     "name": "stdout",
     "output_type": "stream",
     "text": [
      "Brief Hospital Course\n",
      "The patient with a history of no significant medical history presents with self-inflicted razor blade wound to the neck. They were admitted to the Intensive Care Unit for neck exploration given active bleeding upon arrival to the Emergency Department. The patient was found laying in a pool of blood and was taken to the Operating Room immediately. The bleeding was venous, and a laceration to the external jugular vein was ligated. There was also thyroid cartilage injury, which appeared to be partial thickness. The patient was diagnosed with self-inflicted neck injury s/p neck exploration at discharge.\n",
      "\n",
      "Problem-based hospital course---\n",
      "# Self-inflicted neck wound --- The patient presented with a self-inflicted razor blade wound to the neck. The patient was found laying in a pool of blood and was taken to the Operating Room immediately for neck exploration given active bleeding upon arrival to the Emergency Department.\n",
      "[Summarize the related diagnostic work up and notable results]. \n",
      "The patient underwent neck exploration and left external jugular ligation.\n",
      "[Summarize the related medical or surgical treatment course]. \n",
      "The patient was treated with neck exploration and ligation of the external jugular vein.\n",
      "\n",
      "\n",
      "Time taken for generate_bhc: 6.146134376525879 seconds.\n",
      "22 of 250, 8.8% hadm_id: 21905091 **********\n",
      "\n",
      "\n",
      "1672\n"
     ]
    },
    {
     "name": "stderr",
     "output_type": "stream",
     "text": [
      "Processed prompts: 100%|██████████| 1/1 [00:04<00:00,  4.73s/it, est. speed input: 354.07 toks/s, output: 37.27 toks/s]\n"
     ]
    },
    {
     "name": "stdout",
     "output_type": "stream",
     "text": [
      "Brief Hospital Course\n",
      "The patient with a history of ectopic pregnancy and fibroid presents with diffuse lower abdominal pain, nausea, and vomiting. She was admitted to the obstetrics service for further evaluation of her abdominal pain and suspected pregnancy complications.\n",
      "\n",
      "Problem-based hospital course---\n",
      "# Abdominal Pain --- The patient presented with persistent and severe abdominal pain, associated with nausea, vomiting, and weight loss. The diagnostic work up included laboratory tests, which revealed elevated lipase levels and a urine culture positive for alpha hemolytic bacteria. The patient received fluids, zofran, and tylenol, but was unable to tolerate oral intake.\n",
      "\n",
      "# Hyperemesis --- The patient presented with severe nausea and vomiting, which was treated with zofran and tylenol. The patient was unable to eat or drink for the past week and had lost 10 pounds.\n",
      "\n",
      "\n",
      "Time taken for generate_bhc: 4.747945308685303 seconds.\n",
      "23 of 250, 9.2% hadm_id: 21626778 **********\n",
      "\n",
      "\n",
      "2119\n"
     ]
    },
    {
     "name": "stderr",
     "output_type": "stream",
     "text": [
      "Processed prompts: 100%|██████████| 1/1 [00:06<00:00,  6.98s/it, est. speed input: 303.72 toks/s, output: 37.41 toks/s]\n"
     ]
    },
    {
     "name": "stdout",
     "output_type": "stream",
     "text": [
      "Brief Hospital Course\n",
      "The patient with a history of Cerebral Amyloid Angiopathy with prior frontal IPH and s/p L ACA aneurysm clippin presents with symptomatic seizures. She was admitted to the Neurology service for further evaluation.\n",
      "\n",
      "The patient was admitted for a nontraumatic left frontal intraparenchymal hemorrhage with symptomatic seizures. She was initially diagnosed with a nontraumatic intracranial hemorrhage, unspecified.\n",
      "\n",
      "Problem-based hospital course---\n",
      "# Nontraumatic left frontal intraparenchymal hemorrhage --- The patient presented with a nontraumatic left frontal intraparenchymal hemorrhage with symptomatic seizures. The diagnostic work up included a non-contrast head CT, which revealed a left frontal IPH, a small subdural hematoma, bilateral intraventricular extension, 1 mm midline shift, and a prior bilateral anterior frontal lobe encephalomalacia. The patient was maintained on propofol and fentanyl.\n",
      "\n",
      "# Symptomatic seizures --- The patient presented with symptomatic seizures. The diagnostic work up included an electroencephalogram (EEG), which revealed abnormal activity consistent with seizure activity. The patient was treated with Ativan and phenobarbital.\n",
      "\n",
      "\n",
      "Time taken for generate_bhc: 7.0054638385772705 seconds.\n",
      "24 of 250, 9.6% hadm_id: 20681458 **********\n",
      "\n",
      "\n",
      "1448\n"
     ]
    },
    {
     "name": "stderr",
     "output_type": "stream",
     "text": [
      "Processed prompts: 100%|██████████| 1/1 [00:04<00:00,  4.67s/it, est. speed input: 310.40 toks/s, output: 37.51 toks/s]\n"
     ]
    },
    {
     "name": "stdout",
     "output_type": "stream",
     "text": [
      "Brief Hospital Course\n",
      "The patient with a history of vagnal bleeding presents with heavy vaginal bleeding. She was admitted to the hospital for further evaluation and management of the bleeding.\n",
      "\n",
      "Problem-based hospital course---\n",
      "# Vagnal Bleeding --- The patient presented with heavy vaginal bleeding that brought her to the hospital. The bleeding resolved after initial evaluation, but further evaluation revealed an AVM of the uterus.\n",
      "[Summarize the related diagnostic work up and notable results]. \n",
      "The patient underwent a uterine arteriogram and bilateral uterine artery embolization to near stasis.\n",
      "\n",
      "# AVM of uterus -- The patient was diagnosed with an AVM of the uterus, which was confirmed by imaging studies.\n",
      "[Summarize the related medical or surgical treatment course]. \n",
      "The patient underwent bilateral uterine artery embolization to near stasis.\n",
      "\n",
      "\n",
      "Time taken for generate_bhc: 4.687771320343018 seconds.\n",
      "25 of 250, 10.0% hadm_id: 29461608 **********\n",
      "\n",
      "\n",
      "1148\n"
     ]
    },
    {
     "name": "stderr",
     "output_type": "stream",
     "text": [
      "Processed prompts: 100%|██████████| 1/1 [00:03<00:00,  3.85s/it, est. speed input: 298.64 toks/s, output: 37.72 toks/s]\n"
     ]
    },
    {
     "name": "stdout",
     "output_type": "stream",
     "text": [
      "Brief Hospital Course\n",
      "The patient with a history of GI polyps presents with severe abdominal pain, initially in the left upper quadrant, radiating to the left shoulder and left flank. She was admitted to the emergency department for further care after a CT scan showed an 8mm inferior splenic laceration with hemoperitoneum.\n",
      "\n",
      "Problem-based hospital course---\n",
      "# Splenic rupture --- The patient presented with severe abdominal pain, initially in the left upper quadrant, radiating to the left shoulder and left flank. The diagnostic work up included a CT scan showing an 8mm inferior splenic laceration with hemoperitoneum. The patient was treated with serial abdominal checks and serial Hct checks.\n",
      "\n",
      "\n",
      "Time taken for generate_bhc: 3.8657279014587402 seconds.\n",
      "26 of 250, 10.4% hadm_id: 27514294 **********\n",
      "\n",
      "\n",
      "1865\n"
     ]
    },
    {
     "name": "stderr",
     "output_type": "stream",
     "text": [
      "Processed prompts: 100%|██████████| 1/1 [00:12<00:00, 12.72s/it, est. speed input: 146.63 toks/s, output: 38.76 toks/s]\n"
     ]
    },
    {
     "name": "stdout",
     "output_type": "stream",
     "text": [
      "Brief Hospital Course\n",
      "The patient with a history of severe aortic stenosis, RBBB, dementia, hypertension with orthostasis, normocytic anemia, and recent admission for UTI with sepsis, presents with syncope and report of small volume hematemesis. She was admitted to the MICU for evaluation and management of her syncopal event and upper gastrointestinal bleed.\n",
      "\n",
      "The patient was initially diagnosed with hematemesis, syncope and collapse, hypertension NOS. She was started on Pantoprazole 40 mg IV Q12H and Sucralfate 1 gram PO Q6H for treatment of her upper gastrointestinal bleed. She was also given a NS 1000 ml bolus and PRBCs 1 unit for treatment of her anemia.\n",
      "\n",
      "Problem-based hospital course---\n",
      "# Upper Gastrointestinal Bleed --- The patient presented with hematemesis and was found to have a 9 pt Hct drop from 27.2 on admission. She was started on Pantoprazole 40 mg IV Q12H and Sucralfate 1 gram PO Q6H for treatment of her upper gastrointestinal bleed.\n",
      "\n",
      "[Summarize the related diagnostic work up and notable results]. The patient underwent an EGD which showed normal mucosa in the esophagus and duodenum, with erythema in the antrum and an ulcer in the margin of hiatal hernia.\n",
      "\n",
      "[Summarize the related medical or surgical treatment course]. The patient was given a NS 1000 ml bolus and PRBCs 1 unit for treatment of her anemia. She was also started on Pantoprazole 40 mg IV Q12H and Sucralfate 1 gram PO Q6H for treatment of her upper gastrointestinal bleed.\n",
      "\n",
      "# Syncope --- The patient presented with a syncopal event this morning, which was thought to be a vasovagal event. She was given a NS 1000 ml bolus and PRBCs 1 unit for treatment of her anemia.\n",
      "\n",
      "[Summarize the diagnostic work up and notable results related to this medical condition]. The patient underwent a CT head w/o contrast which showed no acute intracranial process.\n",
      "\n",
      "[Summarize the related medical or surgical treatment course]. The patient was given a NS 1000 ml bolus and PRBCs 1 unit for treatment of her anemia.\n",
      "\n",
      "\n",
      "Time taken for generate_bhc: 12.744041681289673 seconds.\n",
      "27 of 250, 10.8% hadm_id: 23109945 **********\n",
      "\n",
      "\n",
      "1649\n"
     ]
    },
    {
     "name": "stderr",
     "output_type": "stream",
     "text": [
      "Processed prompts: 100%|██████████| 1/1 [00:05<00:00,  5.50s/it, est. speed input: 299.73 toks/s, output: 37.63 toks/s]\n"
     ]
    },
    {
     "name": "stdout",
     "output_type": "stream",
     "text": [
      "Brief Hospital Course\n",
      "The patient with a history of dementia, hypertension, and benign prostatic hyperplasia (BPH) presents with behavior changes. He was admitted to the medicine floor for altered mental status, suspected urinary tract infection, and possible dementia progression.\n",
      "\n",
      "Problem-based hospital course---\n",
      "# Dementia --- The patient presented with progressive dementia, with worsening agitation, visual hallucinations, and memory problems. The diagnostic workup included normal CBC, BMP, and head CT. The patient was given 1g ceftriaxone. The related medical treatment course included supportive care and monitoring.\n",
      "\n",
      "# Altered mental status --- The patient presented with altered mental status, with difficulty answering questions coherently. The diagnostic workup included normal head CT and CXR. The patient was given supportive care and monitoring.\n",
      "\n",
      "# Urinary tract infection --- The patient presented with urinary frequency, urgency, and dysuria. The diagnostic workup included normal urine culture and urinalysis. The patient was given supportive care and monitoring.\n",
      "\n",
      "\n",
      "Time taken for generate_bhc: 5.5236756801605225 seconds.\n",
      "28 of 250, 11.2% hadm_id: 26754574 **********\n",
      "\n",
      "\n",
      "1113\n"
     ]
    },
    {
     "name": "stderr",
     "output_type": "stream",
     "text": [
      "Processed prompts: 100%|██████████| 1/1 [00:04<00:00,  4.02s/it, est. speed input: 277.14 toks/s, output: 37.85 toks/s]\n"
     ]
    },
    {
     "name": "stdout",
     "output_type": "stream",
     "text": [
      "Brief Hospital Course\n",
      "The patient with a history of asthma presents with shortness of breath. She was admitted to the medicine service for further management of her asthma exacerbation.\n",
      "\n",
      "Problem-based hospital course---\n",
      "# Asthma exacerbation --- The patient presented with wheezing typical of asthma attack x 3d. She was initially treated with ipratropium and albuterol nebulizer treatments x 3 in addition to 60 mg of prednisone.\n",
      "[Summarize the related diagnostic work up and notable results]. The patient's chest xray was clear, showing no acute cardiopulmonary process.\n",
      "[Summarize the related medical or surgical treatment course]. The patient received nebulizer treatments and prednisone.\n",
      "\n",
      "\n",
      "Time taken for generate_bhc: 4.036153316497803 seconds.\n",
      "29 of 250, 11.6% hadm_id: 23280326 **********\n",
      "\n",
      "\n",
      "2204\n"
     ]
    },
    {
     "name": "stderr",
     "output_type": "stream",
     "text": [
      "Processed prompts: 100%|██████████| 1/1 [00:04<00:00,  4.76s/it, est. speed input: 462.74 toks/s, output: 36.11 toks/s]\n"
     ]
    },
    {
     "name": "stdout",
     "output_type": "stream",
     "text": [
      "Brief Hospital Course\n",
      "The patient with a history of hypertension, breast cancer status post right axillary lymph node dissection ___ years ago maintained on aromatase inhibitor presents with acute on chronic right-sided chest pain ×1 day. They were admitted to the medical floor for segmental pulmonary embolism in the apicoposterior branch of the left superior lobe. The patient was initially diagnosed with chest pain, unspecified, and later diagnosed with pulmonary embolism.\n",
      "\n",
      "Problem-based hospital course---\n",
      "# Segmental Pulmonary Embolism --- The patient presented with acute on chronic right-sided chest pain ×1 day. The patient was diagnosed with segmental pulmonary embolism in the apicoposterior branch of the left superior lobe based on CT scan. The patient received heparin gtt and morphine sulfate for treatment.\n",
      "\n",
      "\n",
      "Time taken for generate_bhc: 4.78675103187561 seconds.\n",
      "30 of 250, 12.0% hadm_id: 24620425 **********\n",
      "\n",
      "\n",
      "1672\n"
     ]
    },
    {
     "name": "stderr",
     "output_type": "stream",
     "text": [
      "Processed prompts: 100%|██████████| 1/1 [00:06<00:00,  6.65s/it, est. speed input: 251.40 toks/s, output: 37.89 toks/s]\n"
     ]
    },
    {
     "name": "stdout",
     "output_type": "stream",
     "text": [
      "Brief Hospital Course\n",
      "The patient with a history of primary generalized epilepsy, \n",
      "followed by Dr. ___, presents with altered mental status. \n",
      "She was admitted to the Emergency Department for evaluation \n",
      "of a possible breakthrough seizure.\n",
      "\n",
      "The patient initially presented with a possible breakthrough \n",
      "seizure, with a history of primary generalized epilepsy, \n",
      "followed by Dr. ___, with relatively good control on \n",
      "carbamazepine monotherapy. She was admitted to the Emergency \n",
      "Department for evaluation of a possible breakthrough seizure.\n",
      "\n",
      "Problem-based hospital course---\n",
      "# Altered mental status --- \n",
      "The patient presented with altered mental status, \n",
      "including confusion, disorientation, and inability to \n",
      "elaborate on the events of the day. The diagnostic work up \n",
      "included a complete blood count, comprehensive metabolic \n",
      "panel, and liver function tests. The notable results were \n",
      "within normal limits.\n",
      "\n",
      "# Possible breakthrough seizure --- \n",
      "The patient presented with a possible breakthrough seizure, \n",
      "with a history of primary generalized epilepsy, followed by \n",
      "Dr. ___, with relatively good control on carbamazepine \n",
      "monotherapy. The diagnostic work up included a complete blood \n",
      "count, comprehensive metabolic panel, and liver function \n",
      "tests. The notable results were within normal limits.\n",
      "\n",
      "\n",
      "Time taken for generate_bhc: 6.676645278930664 seconds.\n",
      "31 of 250, 12.4% hadm_id: 24538994 **********\n",
      "\n",
      "\n",
      "1341\n"
     ]
    },
    {
     "name": "stderr",
     "output_type": "stream",
     "text": [
      "Processed prompts: 100%|██████████| 1/1 [00:04<00:00,  4.11s/it, est. speed input: 326.59 toks/s, output: 37.26 toks/s]\n"
     ]
    },
    {
     "name": "stdout",
     "output_type": "stream",
     "text": [
      "Brief Hospital Course\n",
      "The patient with a history of multiple abdominal operations presents with LLQ abdominal pain that began acutely at this evening. They were admitted to the Surgical Intensive Care Unit for partial small bowel obstruction, likely secondary to adhesion at the anastomosis.\n",
      "\n",
      "Problem-based hospital course---\n",
      "# Partial small bowel obstruction --- The patient presented with LLQ abdominal pain that began acutely at this evening. The diagnostic work up included CT a/p, which showed dilated proximal small bowel with transition point in the left lower quadrant and contrast seen in the distal small bowel, consistent with partial small-bowel obstruction, likely secondary to adhesion at the anastomosis. The patient underwent NGT placement and was managed conservatively.\n",
      "\n",
      "\n",
      "Time taken for generate_bhc: 4.130868196487427 seconds.\n",
      "32 of 250, 12.8% hadm_id: 20599264 **********\n",
      "\n",
      "\n",
      "2948\n"
     ]
    },
    {
     "name": "stderr",
     "output_type": "stream",
     "text": [
      "Processed prompts: 100%|██████████| 1/1 [00:08<00:00,  8.34s/it, est. speed input: 353.54 toks/s, output: 36.82 toks/s]\n"
     ]
    },
    {
     "name": "stdout",
     "output_type": "stream",
     "text": [
      "Brief Hospital Course\n",
      "The patient with a history of sickle cell anemia and transfusion-related iron overload presents with total body pain and concern for sickle cell crisis. He was admitted to the medical floor for evaluation and management of his symptoms.\n",
      "\n",
      "The patient was initially diagnosed with Hb-SS disease with crisis, unspecified. He was treated with hydromorphone, ketorolac, and normal saline for pain control. His pain began in his knees on the night of admission and spread to his lower back and shoulders. He describes the pain as \"sharp\" and severe in his back.\n",
      "\n",
      "The patient's laboratory results showed anemia, hypertension, and hypoxia. His imaging studies, including a chest X-ray and echocardiogram, were normal. He did not have any acute pulmonary parenchymal abnormality seen.\n",
      "\n",
      "The patient's major medical conditions include sickle cell anemia, transfusion-related iron overload, and hypertension. He was diagnosed with vasoocclusive crisis, anemia requiring transfusion, and hypoxia at discharge.\n",
      "\n",
      "Problem-based hospital course---\n",
      "\n",
      "# Sickle Cell Anemia --- The patient has a history of sickle cell anemia and was admitted for evaluation and management of his symptoms. He was treated with pain medications and transfusions as needed.\n",
      "\n",
      "# Vasoocclusive Crisis --- The patient presented with total body pain and concern for sickle cell crisis. He was diagnosed with vasoocclusive crisis and treated with pain medications and transfusions as needed.\n",
      "\n",
      "\n",
      "Time taken for generate_bhc: 8.368964195251465 seconds.\n",
      "33 of 250, 13.2% hadm_id: 27265394 **********\n",
      "\n",
      "\n",
      "1207\n"
     ]
    },
    {
     "name": "stderr",
     "output_type": "stream",
     "text": [
      "Processed prompts: 100%|██████████| 1/1 [00:07<00:00,  7.57s/it, est. speed input: 159.46 toks/s, output: 38.84 toks/s]\n"
     ]
    },
    {
     "name": "stdout",
     "output_type": "stream",
     "text": [
      "Brief Hospital Course\n",
      "The patient with a history of benign prostatic hyperplasia (BPH) and hypertension (HTN) presents with dizziness, high blood pressure. He was admitted to the cardiology unit for evaluation of episodic lightheadedness, suspected coronary artery disease (CAD), and abnormal electrocardiogram (ECG) findings.\n",
      "\n",
      "Problem-based hospital course---\n",
      "# Dizziness --- The patient presented with episodic lightheadedness intermittently for one week, with one pronounced episode of lightheadedness with diaphoresis when working outside in the heat.\n",
      "The related diagnostic work up included laboratory tests, cardiac catheterization, head CT, and echocardiogram. Notable results included normal coronary anatomy, minimal LAD irregularities, mild to moderate left ventricular hypertrophy, and normal global and regional systolic function.\n",
      "The related medical treatment course included administration of ASA 325 in the office and further treatment for hypertension.\n",
      "\n",
      "# Hypertension --- The patient was noted to be hypertensive in his outpatient PCP's office and had bradycardia with ?ST elevation in V1/V2 w/dynamic lateral TWI on EKG.\n",
      "The related diagnostic work up included laboratory tests, which showed normal results for blood glucose, urea nitrogen, creatinine, sodium, potassium, chloride, bicarbonate, and anion gap.\n",
      "The related medical treatment course included treatment for hypertension.\n",
      "\n",
      "\n",
      "Time taken for generate_bhc: 7.589807033538818 seconds.\n",
      "34 of 250, 13.6% hadm_id: 22164883 **********\n",
      "\n",
      "\n",
      "2412\n"
     ]
    },
    {
     "name": "stderr",
     "output_type": "stream",
     "text": [
      "Processed prompts: 100%|██████████| 1/1 [00:05<00:00,  5.06s/it, est. speed input: 476.84 toks/s, output: 36.18 toks/s]\n"
     ]
    },
    {
     "name": "stdout",
     "output_type": "stream",
     "text": [
      "Brief Hospital Course\n",
      "The patient with a history of asthma, hypertension, and coronary artery disease presents with stridor. They were admitted to the Intensive Care Unit for severe respiratory distress, initial diagnosis of tracheal stenosis, and major procedures including bronchoscopy, flexible and rigid, electrocautery, and balloon dilation.\n",
      "\n",
      "Problem-based hospital course---\n",
      "#Stridor --- The patient presented with severe respiratory distress and stridor, which was managed with oxygen therapy, bronchodilators, and corticosteroids. The diagnostic work up included a flexible and rigid bronchoscopy, which revealed tracheal stenosis. The patient underwent balloon dilation, which improved their respiratory status.\n",
      "\n",
      "#Tracheal stenosis --- The patient was diagnosed with tracheal stenosis, which was confirmed by bronchoscopy. The patient underwent balloon dilation to improve their respiratory status.\n",
      "\n",
      "\n",
      "Time taken for generate_bhc: 5.084032773971558 seconds.\n",
      "35 of 250, 14.0% hadm_id: 22505068 **********\n",
      "\n",
      "\n",
      "867\n"
     ]
    },
    {
     "name": "stderr",
     "output_type": "stream",
     "text": [
      "Processed prompts: 100%|██████████| 1/1 [00:03<00:00,  3.49s/it, est. speed input: 248.65 toks/s, output: 38.14 toks/s]\n"
     ]
    },
    {
     "name": "stdout",
     "output_type": "stream",
     "text": [
      "Brief Hospital Course\n",
      "The patient with a history of smoking and existing medical problems presents with pleuritic chest pain since waking up in the morning today. He was admitted to the Medical Intensive Care Unit for a small left apical pneumothorax without tension, initial diagnosis, and major procedures or treatments.\n",
      "\n",
      "Problem-based hospital course---\n",
      "# Left Pneumothorax --- The patient presented with pleuritic chest pain and \"gurgling\" in his chest with inspiration. The diagnostic work up included a chest x-ray, which showed a small left apical pneumothorax without tension. The patient received no major procedures or treatments.\n",
      "\n",
      "\n",
      "Time taken for generate_bhc: 3.50585675239563 seconds.\n",
      "36 of 250, 14.4% hadm_id: 26793988 **********\n",
      "\n",
      "\n",
      "963\n"
     ]
    },
    {
     "name": "stderr",
     "output_type": "stream",
     "text": [
      "Processed prompts: 100%|██████████| 1/1 [00:07<00:00,  7.24s/it, est. speed input: 133.06 toks/s, output: 38.83 toks/s]\n"
     ]
    },
    {
     "name": "stdout",
     "output_type": "stream",
     "text": [
      "Brief Hospital Course\n",
      "The patient with a history of cirrhosis, vertebral osteomyelitis, sacroiliitis, and intravenous drug use (IVDU) presents with left hip pain and fever. She was admitted to the hospital for evaluation and management of her symptoms.\n",
      "\n",
      "Problem-based hospital course---\n",
      "# Fever --- The patient presented with a fever, which was reported to be the day prior to admission. The fever was not severe, and the patient denied any sick contacts.\n",
      "[Summarize the related diagnostic work up and notable results]. The patient's complete blood count (CBC) showed a white blood cell count of 6.0, and the patient's liver function tests (LFTs) were within normal limits.\n",
      "[Summarize the related medical or surgical treatment course]. The patient was treated with antibiotics for the fever, and her pain was managed with medication.\n",
      "\n",
      "# Chronic left hip pain --- The patient presented with chronic left hip pain, which was described as a 7 out of 10. The patient reported that the pain was not acute, but rather a chronic condition.\n",
      "[Summarize the related diagnostic work up and notable results]. The patient's radiographs showed no acute changes in the hip joint.\n",
      "[Summarize the related medical or surgical treatment course]. The patient was treated with pain medication and physical therapy to manage her chronic hip pain.\n",
      "\n",
      "\n",
      "Time taken for generate_bhc: 7.264596700668335 seconds.\n",
      "37 of 250, 14.8% hadm_id: 23992819 **********\n",
      "\n",
      "\n",
      "1277\n"
     ]
    },
    {
     "name": "stderr",
     "output_type": "stream",
     "text": [
      "Processed prompts: 100%|██████████| 1/1 [00:03<00:00,  3.10s/it, est. speed input: 412.27 toks/s, output: 36.80 toks/s]\n"
     ]
    },
    {
     "name": "stdout",
     "output_type": "stream",
     "text": [
      "Brief Hospital Course\n",
      "The patient with a history of perforated diverticulitis and ostomy placement presents with 5 days of left lower rib pain. They were admitted to the medical-surgical unit for bilateral pulmonary emboli, acute pulmonary infarct, and suspected thrombosis in the right internal iliac venous branches.\n",
      "\n",
      "Problem-based hospital course---\n",
      "# Pulmonary Embolism --- The patient presented with bilateral pulmonary emboli, which were diagnosed with a CT scan. The patient was started on heparin drip in the emergency department.\n",
      "\n",
      "\n",
      "Time taken for generate_bhc: 3.140277147293091 seconds.\n",
      "38 of 250, 15.2% hadm_id: 24397287 **********\n",
      "\n",
      "\n",
      "1821\n"
     ]
    },
    {
     "name": "stderr",
     "output_type": "stream",
     "text": [
      "Processed prompts: 100%|██████████| 1/1 [00:08<00:00,  8.99s/it, est. speed input: 202.67 toks/s, output: 37.95 toks/s]\n"
     ]
    },
    {
     "name": "stdout",
     "output_type": "stream",
     "text": [
      "Brief Hospital Course\n",
      "The patient with a history of myofascial pain syndrome, cervical spondylosis, cervical radiculopathy, and pain amplification syndrome presents with abdominal pain, nonbilious and nonbloody emesis, and headache. She was admitted to the medicine service for pain control and inability to tolerate POs. The patient initially presented with similar complaints two days ago and was admitted for pain control and inability to tolerate POs. She signed out AMA last night over an accusation that she may have been tampering with her IV pain medications. Her pain had stopped upon admission, after pain medication. After she left AMA, her pain came back, and she re-presented to the ED.\n",
      "\n",
      "Problem-based hospital course---\n",
      "# Abdominal pain --- The patient presented with abdominal pain, nonbilious and nonbloody emesis, and headache. The pain was mainly in the epigastric region, does not radiate, and is very similar to what she originally presented with on admission. The patient denied it being similar to her GERD pain, is not a shooting pain. Cannot characterize it more than this, other than it being severe. Also, is having a headache across the front of her forehead that started with the abdominal pain again this morning. Is having episodes of dry heaving, producing only saliva. She endorses subjective fevers and chills, no new foods, does associate the onset of her symptoms with tizanidine. She has also had diarrhea x 2 today, no blood.\n",
      "\n",
      "# Headache --- The patient presented with a headache across the front of her forehead that started with the abdominal pain again this morning.\n",
      "\n",
      "\n",
      "Time taken for generate_bhc: 9.051504850387573 seconds.\n",
      "39 of 250, 15.6% hadm_id: 23991946 **********\n",
      "\n",
      "\n",
      "1487\n"
     ]
    },
    {
     "name": "stderr",
     "output_type": "stream",
     "text": [
      "Processed prompts: 100%|██████████| 1/1 [00:08<00:00,  8.69s/it, est. speed input: 171.07 toks/s, output: 38.54 toks/s]\n"
     ]
    },
    {
     "name": "stdout",
     "output_type": "stream",
     "text": [
      "Brief Hospital Course\n",
      "The patient with a history of subdural hematoma, dementia, prostate cancer, type 2 diabetes, peripheral vascular disease, diastolic CHF, and hypertension presents with altered mental status. He was admitted to the intensive care unit for further evaluation and management of hyperkalemia, hyperglycemia, acute kidney injury, and concern for subdural hematoma.\n",
      "\n",
      "The patient was initially sent to an outside hospital after routine labs showed hyperkalemia. He reportedly had a change in mental status in route there, and had a head CT that was concerning for a new subdural hematoma. There is no history of fall. Patient received IV insulin (up to 26 U) for hyperkalemia and was transferred to the hospital for further evaluation.\n",
      "\n",
      "Problem-based hospital course---\n",
      "# Altered Mental Status --- The patient presented with nonverbal status at baseline and unable to provide additional history.\n",
      "[Summarize the related diagnostic work up and notable results]. The patient's CT scan in comparison to his most recent prior here, revealed stable SDH, and patient was cleared by neurosurgery as his mental status is at baseline.\n",
      "\n",
      "# Hyperkalemia --- The patient's labs at the outside hospital were notable for significantly elevated creatinine, with a very elevated BUN. He received 10 units IV insulin x 2 with some improvement in his blood sugar levels. Patient was placed on ISS.\n",
      "\n",
      "# Urinary Tract Infection --- The patient was treated empirically for urinary tract infection after urology performed cystoscopy and placed a catheter at bedside, with output of cloudy urine.\n",
      "\n",
      "\n",
      "Time taken for generate_bhc: 8.715811729431152 seconds.\n",
      "40 of 250, 16.0% hadm_id: 21530525 **********\n",
      "\n",
      "\n",
      "752\n"
     ]
    },
    {
     "name": "stderr",
     "output_type": "stream",
     "text": [
      "Processed prompts: 100%|██████████| 1/1 [00:03<00:00,  3.45s/it, est. speed input: 217.81 toks/s, output: 38.23 toks/s]\n"
     ]
    },
    {
     "name": "stdout",
     "output_type": "stream",
     "text": [
      "Brief Hospital Course\n",
      "The patient with a history of ventriculoperitoneal shunt revision for malfunction presents with headache and dizziness for 24 hours. She was admitted to the Neurology service for evaluation of recent VP shunt revision and worsening symptoms. The patient was diagnosed with headache and vertigo/dizziness.\n",
      "\n",
      "Problem-based hospital course---\n",
      "# Headache --- The patient presented with a headache, which was described as mild. The related diagnostic work up included a CT Head, which showed a stable left ventricle with mild improvement in hydrocephalus. The related medical treatment course included monitoring and management of the patient's headache symptoms.\n",
      "\n",
      "\n",
      "Time taken for generate_bhc: 3.4705493450164795 seconds.\n",
      "41 of 250, 16.4% hadm_id: 23664158 **********\n",
      "\n",
      "\n",
      "1160\n"
     ]
    },
    {
     "name": "stderr",
     "output_type": "stream",
     "text": [
      "Processed prompts: 100%|██████████| 1/1 [00:07<00:00,  7.52s/it, est. speed input: 154.30 toks/s, output: 38.71 toks/s]\n"
     ]
    },
    {
     "name": "stdout",
     "output_type": "stream",
     "text": [
      "Brief Hospital Course\n",
      "The patient with a history of end-stage renal disease (ESRD) due to diabetes mellitus (DM) and hypertension (HTN) on hemodialysis (HD) since ___ presents with left arm pain. They were admitted to the transplant surgery service for suspected steal syndrome of left upper extremity, initially diagnosed with pain in limb.\n",
      "\n",
      "Problem-based hospital course---\n",
      "# Left arm pain --- The patient presented with worsening left arm pain over the last ___ weeks, which goes up to a ___ during HD and slowly gets better until her next HD session. The pain extends from her upper arm all the way down to her hand. She received 1mg IV dilaudid which has relieved most of her pain.\n",
      "[Summarize the related diagnostic work up and notable results]. The patient underwent blood tests, including complete blood count (CBC), blood urea nitrogen (BUN), creatinine, electrolytes, and calcium, phosphorus, and magnesium levels. The results showed WBC-5.3, RBC-3.65, Hgb-11.2, Hct-36.2, MCV-99, MCH-30.7, MCHC-31.0, RDW-15.9, Plt ___.\n",
      "[Summarize the related medical or surgical treatment course]. The patient underwent banding of the left brachiocephalic AV fistula.\n",
      "\n",
      "\n",
      "Time taken for generate_bhc: 7.540480375289917 seconds.\n",
      "42 of 250, 16.8% hadm_id: 24417333 **********\n",
      "\n",
      "\n",
      "2889\n"
     ]
    },
    {
     "name": "stderr",
     "output_type": "stream",
     "text": [
      "Processed prompts: 100%|██████████| 1/1 [00:07<00:00,  7.13s/it, est. speed input: 405.30 toks/s, output: 36.34 toks/s]\n"
     ]
    },
    {
     "name": "stdout",
     "output_type": "stream",
     "text": [
      "Brief Hospital Course\n",
      "The patient with a history of ileocolonic Crohn's disease, complicated by a history of perianal fistula and phlegmon, presents with a 3-day history of right lower quadrant abdominal pain. She was admitted to the hospital for evaluation of her symptoms and management of her Crohn's disease.\n",
      "\n",
      "The patient was initially diagnosed with Crohn's disease, unspecified, without complications. She was treated with IV antibiotics, including cipro and flagyl, and was placed on NPO with IV fluids. The patient's symptoms improved, and she was diagnosed with a Crohn's flare.\n",
      "\n",
      "Problem-based hospital course---\n",
      "\n",
      "# Crohn's disease --- The patient presented with a 3-day history of right lower quadrant abdominal pain, which was preceded by pizza and spicy food intake. The pain was described as severe and was accompanied by bloating, nausea, and decreased appetite. The patient was diagnosed with a Crohn's flare and was treated with IV antibiotics and NPO with IV fluids.\n",
      "\n",
      "# Perianal fistula and phlegmon --- The patient had a history of perianal fistula and phlegmon, which was complicated by Crohn's disease. The patient was treated with antibiotics and was placed on NPO with IV fluids.\n",
      "\n",
      "\n",
      "Time taken for generate_bhc: 7.186528444290161 seconds.\n",
      "43 of 250, 17.2% hadm_id: 22243805 **********\n",
      "\n",
      "\n",
      "1607\n"
     ]
    },
    {
     "name": "stderr",
     "output_type": "stream",
     "text": [
      "Processed prompts: 100%|██████████| 1/1 [00:11<00:00, 11.74s/it, est. speed input: 136.91 toks/s, output: 38.59 toks/s]\n"
     ]
    },
    {
     "name": "stdout",
     "output_type": "stream",
     "text": [
      "Brief Hospital Course\n",
      "The patient with a history of left-sided weakness and chronic headaches presents with progressive left-sided weakness and right-sided headaches. She was admitted to the Neurology service for further evaluation including an MRI of the brain.\n",
      "\n",
      "Problem-based hospital course---\n",
      "# Left-sided weakness --- The patient initially noticed some left hand weakness and clumsiness after hip surgery around ___ year ago, but she attributed it to anesthesia side effects. In ___ year, the symptoms began to worsen and it has continued to worsen over the past several months to the point that now, she has difficulty doing everyday tasks with it. She has trouble picking up small items, like ___ fries, and cannot turn sinks on. She's also noticed slowness in her left leg. She's always had issues walking, though currently feels more likely to lose her balance than baseline.\n",
      "The related diagnostic work up included an MRI of the brain, which was unremarkable. The related medical treatment course included referral to a neurologist, which was lost to follow up.\n",
      "\n",
      "# Right-sided headaches --- The patient began to get right-sided headaches in ___. The headaches are stable and sharp and then gradually get more dull. It's in a distinct strip of her head on the right frontoparietal region. At first she got them every 2 weeks, now she gets them weekly, up to 3x/day. She never gets them at night, rather usually in the afternoon. The HA typically lasts a few minutes (longest 45 minutes). She has no identified triggers or alleviating factors. She has no associated ptosis or conjunctival injection, but sometimes her right eyes water with the pain. The HA pain is a ___ in severity. She also reports a pressure like sensation in her head, ringing in her ears (left>right), and thinks she is not hearing as well as she did at baseline. Occasionally she gets double vision and has trouble focusing; this began in the last 3 months. For the past few days she's been nauseated without vomiting.\n",
      "The related diagnostic work up included an MRI of the brain, which was unremarkable. The related medical treatment course included referral to a neurologist, which was lost to follow up.\n",
      "\n",
      "\n",
      "Time taken for generate_bhc: 11.765496492385864 seconds.\n",
      "44 of 250, 17.6% hadm_id: 26690404 **********\n",
      "\n",
      "\n",
      "1334\n"
     ]
    },
    {
     "name": "stderr",
     "output_type": "stream",
     "text": [
      "Processed prompts: 100%|██████████| 1/1 [00:05<00:00,  5.21s/it, est. speed input: 256.13 toks/s, output: 37.63 toks/s]\n"
     ]
    },
    {
     "name": "stdout",
     "output_type": "stream",
     "text": [
      "Brief Hospital Course\n",
      "The patient with a history of metastatic pancreatic cancer and lung metastasis presents with progressive dyspnea and fatigue. She was admitted to the intensive care unit for acute hypoxemic respiratory failure due to metastatic disease and malignant pleural effusions.\n",
      "\n",
      "Problem-based hospital course---\n",
      "# Metastatic pancreatic cancer --- The patient presented with progressive dyspnea and fatigue, which worsened over time. The diagnostic work up included a CT chest, which showed stable bilateral pulmonary nodules and pleural nodularity consistent with metastatic disease. The patient was treated with supportive care and diuresis maintenance with Lasix.\n",
      "\n",
      "# Acute hypoxemic respiratory failure --- The patient presented with acute hypoxemic respiratory failure due to metastatic disease and malignant pleural effusions. The diagnostic work up included a CT chest, which showed no evidence of pulmonary embolism or aortic abnormality. The patient was treated with supportive care and oxygen therapy.\n",
      "\n",
      "\n",
      "Time taken for generate_bhc: 5.237788677215576 seconds.\n",
      "45 of 250, 18.0% hadm_id: 29623755 **********\n",
      "\n",
      "\n",
      "1589\n"
     ]
    },
    {
     "name": "stderr",
     "output_type": "stream",
     "text": [
      "Processed prompts: 100%|██████████| 1/1 [00:03<00:00,  3.36s/it, est. speed input: 472.95 toks/s, output: 36.01 toks/s]\n"
     ]
    },
    {
     "name": "stdout",
     "output_type": "stream",
     "text": [
      "Brief Hospital Course\n",
      "The patient with a history of coronary artery bypass grafting (CABG) x 3 presents with shortness of breath and cough. They were admitted to the intensive care unit for multiple pulmonary emboli. The patient was initially diagnosed with pulmonary embolism without acute cor pulmonale.\n",
      "\n",
      "Problem-based hospital course---\n",
      "# Pulmonary Embolism --- The patient presented with shortness of breath and cough. The diagnostic work up included a CT scan, which revealed multiple pulmonary emboli. The patient was treated with heparin and was transferred for further management.\n",
      "\n",
      "Time taken for generate_bhc: 3.3851070404052734 seconds.\n",
      "46 of 250, 18.4% hadm_id: 27008937 **********\n",
      "\n",
      "\n",
      "2056\n"
     ]
    },
    {
     "name": "stderr",
     "output_type": "stream",
     "text": [
      "Processed prompts: 100%|██████████| 1/1 [00:07<00:00,  7.80s/it, est. speed input: 263.75 toks/s, output: 37.46 toks/s]\n"
     ]
    },
    {
     "name": "stdout",
     "output_type": "stream",
     "text": [
      "Brief Hospital Course\n",
      "The patient with a history of EtOH cirrhosis, h/o SBP, portal hypertension, h/o HCV with undetectable viral load, bipolar disorder, and chronic pain presents with fall. He was admitted to the medical floor for new anemia, right sided chest pain, and left knee pain. The patient was initially diagnosed with gastrointestinal hemorrhage, unspecified.\n",
      "\n",
      "Problem-based hospital course---\n",
      "# New anemia --- The patient presented with new anemia, with a hemoglobin level of 11.9 (from 15.6 six months ago).\n",
      "The diagnostic work up included laboratory tests, which showed a decrease in hemoglobin and hematocrit levels. The patient was diagnosed with new anemia.\n",
      "\n",
      "# Right sided chest pain --- The patient presented with right sided chest pain, which was reproducible on examination. The diagnostic work up included a chest x-ray, which showed loculated pleural fluid in the left major fissure, no fracture or pneumothorax.\n",
      "The patient was treated with diagnostic paracentesis, which was attempted twice but was not successful.\n",
      "\n",
      "# Left knee pain --- The patient presented with left knee pain, which was painful but no instability. The diagnostic work up included a left knee x-ray, which showed no acute fracture or dislocation, status post left total knee arthroplasty with minimal nonspecific perihardware lucency about the anterior aspect of the femoral component.\n",
      "\n",
      "\n",
      "Time taken for generate_bhc: 7.82338809967041 seconds.\n",
      "47 of 250, 18.8% hadm_id: 23596928 **********\n",
      "\n",
      "\n",
      "1626\n"
     ]
    },
    {
     "name": "stderr",
     "output_type": "stream",
     "text": [
      "Processed prompts: 100%|██████████| 1/1 [00:11<00:00, 11.41s/it, est. speed input: 142.61 toks/s, output: 38.59 toks/s]\n"
     ]
    },
    {
     "name": "stdout",
     "output_type": "stream",
     "text": [
      "Brief Hospital Course\n",
      "The patient with a history of advanced Alzheimer's dementia, DVT, and HTN presents with an unwitnessed fall. She was admitted to the medical floor for evaluation and management of her fall, initial diagnosis of transaminitis, and supratheropeutic INR with Hx DVT.\n",
      "\n",
      "Problem-based hospital course---\n",
      "#Unwitnessed fall --- The patient presented with an unwitnessed fall, with an unknown duration of loss of consciousness or head strike.\n",
      "[Summarize the related diagnostic work up and notable results]. \n",
      "The patient underwent a CT head and CT C-Spine, which showed no acute intracranial abnormalities or acute displaced calvarial fracture, and no displaced fracture or acute subluxation.\n",
      "[Summarize the related medical or surgical treatment course]. \n",
      "The patient received supportive care and was monitored for any potential complications.\n",
      "\n",
      "#Supratheropeutic INR with Hx DVT --- The patient had a supratheropeutic INR, which was managed with supportive care.\n",
      "[Summarize the diagnostic work up and notable results]. \n",
      "The patient's INR was monitored, and the patient received supportive care.\n",
      "\n",
      "#Transaminitis --- The patient had transaminitis, which was managed with supportive care.\n",
      "[Summarize the related diagnostic work up and notable results]. \n",
      "The patient's liver function tests were monitored, and the patient received supportive care.\n",
      "\n",
      "#Alzheimers dementia, advanced --- The patient had advanced Alzheimer's dementia, which was managed with supportive care.\n",
      "[Summarize the related diagnostic work up and notable results]. \n",
      "The patient's cognitive function was monitored, and the patient received supportive care.\n",
      "\n",
      "#Depression --- The patient had depression, which was managed with supportive care.\n",
      "[Summarize the related diagnostic work up and notable results]. \n",
      "The patient's mental health was monitored, and the patient received supportive care.\n",
      "\n",
      "#Hypertension --- The patient had hypertension, which was managed with supportive care.\n",
      "[Summarize the related diagnostic work up and notable results]. \n",
      "The patient's blood pressure was monitored, and the patient received supportive care.\n",
      "\n",
      "\n",
      "Time taken for generate_bhc: 11.429405212402344 seconds.\n",
      "48 of 250, 19.2% hadm_id: 22597934 **********\n",
      "\n",
      "\n",
      "1695\n"
     ]
    },
    {
     "name": "stderr",
     "output_type": "stream",
     "text": [
      "Processed prompts: 100%|██████████| 1/1 [00:05<00:00,  5.94s/it, est. speed input: 285.75 toks/s, output: 37.43 toks/s]\n"
     ]
    },
    {
     "name": "stdout",
     "output_type": "stream",
     "text": [
      "Brief Hospital Course\n",
      "The patient with a history of tension headaches, recurrent chest pain of unclear etiology, possible panic attacks presents with left-sided numbness. She was admitted to the Neurology unit for evaluation after code stroke activation within 5 minutes.\n",
      "\n",
      "The patient was admitted for acute onset left upper and lower extremity \"heaviness\" and was initially diagnosed with stroke. She underwent t-PA administration and endovascular intervention.\n",
      "\n",
      "Problem-based hospital course---\n",
      "# Stroke --- The patient presented with acute onset left upper and lower extremity \"heaviness\" and was initially diagnosed with stroke. She underwent t-PA administration and endovascular intervention.\n",
      "\n",
      "Summarize the related diagnostic work up and notable results. The patient underwent CT scanning and MRI brain, which showed no evidence of intracranial hemorrhage or acute infarction, and essentially normal MRI of the brain with no evidence of acute intracranial process or acute/subacute ischemic changes.\n",
      "\n",
      "Summarize the related medical or surgical treatment course. The patient received t-PA administration and endovascular intervention.\n",
      "\n",
      "\n",
      "Time taken for generate_bhc: 5.971075773239136 seconds.\n",
      "49 of 250, 19.6% hadm_id: 25529448 **********\n",
      "\n",
      "\n",
      "1226\n"
     ]
    },
    {
     "name": "stderr",
     "output_type": "stream",
     "text": [
      "Processed prompts: 100%|██████████| 1/1 [00:05<00:00,  5.50s/it, est. speed input: 223.01 toks/s, output: 38.02 toks/s]\n"
     ]
    },
    {
     "name": "stdout",
     "output_type": "stream",
     "text": [
      "Brief Hospital Course\n",
      "The patient with a history of sarcoidosis, HCV/EtOH cirrhosis (MELD 16, Class B) presents with abdominal pain. They were admitted to the hospital for cholelithiasis, with no intra or extra-hepatic ductal dilation, and equivocal wall thickening on MRCP.\n",
      "\n",
      "The patient was initially diagnosed with abdominal pain RUQ, sarcoidosis, and alcohol cirrhosis liver.\n",
      "\n",
      "Problem-based hospital course---\n",
      "# Abdominal pain RUQ --- The patient presented with epigastric and RUQ pain that recurred after being discharged home. The pain did not radiate to the back and was accompanied by one episode of nausea and bilious vomiting.\n",
      "The patient underwent MRCP, which revealed cholethiasis with no intra or extra-hepatic ductal dilation and equivocal wall thickening. The patient was treated with IV Unaysn for 3 days during a previous hospital admission for cholecystitis.\n",
      "\n",
      "\n",
      "Time taken for generate_bhc: 5.521823406219482 seconds.\n",
      "50 of 250, 20.0% hadm_id: 29762104 **********\n",
      "\n",
      "\n",
      "1094\n"
     ]
    },
    {
     "name": "stderr",
     "output_type": "stream",
     "text": [
      "Processed prompts: 100%|██████████| 1/1 [00:05<00:00,  5.17s/it, est. speed input: 211.81 toks/s, output: 38.14 toks/s]\n"
     ]
    },
    {
     "name": "stdout",
     "output_type": "stream",
     "text": [
      "Brief Hospital Course\n",
      "The patient with a history of exploratory laparotomy/reduction of gastric volvulus/removal of foreign body presents with a 1-day history of painful abdominal bulge. They were admitted to the surgical floor for painful abdominal bulge, suspected abscess, and cellulitis. The patient was diagnosed with cellulitis at discharge.\n",
      "\n",
      "Problem-based hospital course---\n",
      "# Painful abdominal bulge --- The patient presented with a painful abdominal bulge, exacerbated by bumping or touching it, with a 1-day history. The diagnostic work up included ultrasound, which showed a 1.4 x 2.2 cm complex fluid collection along the right lower aspect of the incision. The patient underwent ultrasound-guided aspiration of the fluid collection, with results sent to microbiology. The gram stain and fluid culture were negative for microorganisms.\n",
      "The patient received treatment for the painful abdominal bulge, including ultrasound-guided aspiration of the fluid collection.\n",
      "\n",
      "\n",
      "Time taken for generate_bhc: 5.2031779289245605 seconds.\n",
      "51 of 250, 20.4% hadm_id: 22007257 **********\n",
      "\n",
      "\n",
      "2513\n"
     ]
    },
    {
     "name": "stderr",
     "output_type": "stream",
     "text": [
      "Processed prompts: 100%|██████████| 1/1 [00:08<00:00,  8.07s/it, est. speed input: 311.43 toks/s, output: 37.18 toks/s]\n"
     ]
    },
    {
     "name": "stdout",
     "output_type": "stream",
     "text": [
      "Brief Hospital Course\n",
      "The patient with a history of coronary artery disease, type 2 diabetes, hypertension, and hyperlipidemia presents with chest pain that woke her from sleep around 4am. She was admitted to the Cardiology Unit for evaluation and management of her symptoms.\n",
      "\n",
      "The patient was initially diagnosed with chest pain not otherwise specified (NOS) and was found to have a 90% stenosis of the ostial and proximal LAD extending to the Xience stent in the mid LAD. She underwent cardiac catheterization and coronary angiography, which revealed single vessel coronary artery disease with a 90% mid LAD stenosis, which was successfully stented after treatment with Rotoblater.\n",
      "\n",
      "Problem-based hospital course---\n",
      "\n",
      "# Coronary Artery Disease --- The patient presented with chest pain that woke her from sleep around 4am. The pain was relieved by 2x NTG. She describes the pain as left sided pain, with associated bilateral chest tightness, lasting 10 minutes, and with associated dyspnea, sweating, and hypertension. The patient was diagnosed with a 90% stenosis of the ostial and proximal LAD extending to the Xience stent in the mid LAD.\n",
      "\n",
      "The patient underwent cardiac catheterization and coronary angiography, which revealed single vessel coronary artery disease with a 90% mid LAD stenosis, which was successfully stented after treatment with Rotoblater.\n",
      "\n",
      "\n",
      "Time taken for generate_bhc: 8.103561401367188 seconds.\n",
      "52 of 250, 20.8% hadm_id: 28119245 **********\n",
      "\n",
      "\n",
      "1679\n"
     ]
    },
    {
     "name": "stderr",
     "output_type": "stream",
     "text": [
      "Processed prompts: 100%|██████████| 1/1 [00:03<00:00,  3.64s/it, est. speed input: 461.26 toks/s, output: 35.99 toks/s]\n"
     ]
    },
    {
     "name": "stdout",
     "output_type": "stream",
     "text": [
      "Brief Hospital Course\n",
      "The patient with a history of hepatitis C and HIV presents with reported GI bleeding, syncopal episode, and proctitis. They were admitted to the intensive care unit for endoscopy and management of gastrointestinal bleeding.\n",
      "\n",
      "Problem-based hospital course---\n",
      "# Proctitis --- The patient presented with proctitis, which was unchanged from prior imaging studies. The patient underwent endoscopy and was given Ceftriaxone and Flagyl.\n",
      "\n",
      "# Gastrointestinal bleeding --- The patient presented with gastrointestinal bleeding, including hematemesis and melena. The patient was given Ceftriaxone and Flagyl.\n",
      "\n",
      "\n",
      "Time taken for generate_bhc: 3.666456937789917 seconds.\n",
      "53 of 250, 21.2% hadm_id: 27709651 **********\n",
      "\n",
      "\n",
      "2408\n"
     ]
    },
    {
     "name": "stderr",
     "output_type": "stream",
     "text": [
      "Processed prompts: 100%|██████████| 1/1 [00:06<00:00,  6.93s/it, est. speed input: 347.78 toks/s, output: 36.83 toks/s]\n"
     ]
    },
    {
     "name": "stdout",
     "output_type": "stream",
     "text": [
      "Brief Hospital Course\n",
      "The patient with a history of non-ischemic cardiomyopathy (EF 30 on last echo) and a history of Staph Epi bacteremia infection in the past, presents with elevated CK and Cr, admitted due to concern for daptomycin-related rhabdomyolysis.\n",
      "\n",
      "He was admitted to the Heart Failure Service for further evaluation and management of his symptoms.\n",
      "\n",
      "The patient was initially diagnosed with ICD Diagnosis titles: Acute kidney failure, unspecified and Bacteremia.\n",
      "\n",
      "Problem-based hospital course---\n",
      "\n",
      "# Elevated creatinine kinase secondary to daptomycin --- The patient presented with elevated CK to 769 and Cr from 1.4 to 1.7. The diagnostic work up included laboratory tests, including CK, Cr, and CRP, which revealed newly elevated CK and Cr. The patient was treated with supportive care, including hydration and diuresis.\n",
      "\n",
      "# Staph Epi bacteremia --- The patient had a history of Staph Epi bacteremia infection in the past and presented with bacteremia. The diagnostic work up included blood cultures, which revealed Enterobacter gergoviae. The patient was treated with antibiotics, including daptomycin, and was monitored for signs of infection.\n",
      "\n",
      "\n",
      "Time taken for generate_bhc: 6.955522060394287 seconds.\n",
      "54 of 250, 21.6% hadm_id: 20609686 **********\n",
      "\n",
      "\n",
      "1982\n"
     ]
    },
    {
     "name": "stderr",
     "output_type": "stream",
     "text": [
      "Processed prompts: 100%|██████████| 1/1 [00:06<00:00,  6.02s/it, est. speed input: 329.50 toks/s, output: 37.07 toks/s]\n"
     ]
    },
    {
     "name": "stdout",
     "output_type": "stream",
     "text": [
      "Brief Hospital Course\n",
      "The patient with a history of hypertension and essential hypertension presents with sudden onset dysarthria, visual changes, and gait instability. He was admitted to the Neurology service for evaluation and management of a suspected stroke.\n",
      "\n",
      "Problem-based hospital course---\n",
      "# Hypertensive Encephalopathy --- The patient presented with sudden onset dysarthria, visual changes, and gait instability, which are consistent with the symptoms of hypertensive encephalopathy. The diagnostic work up included laboratory tests, including complete blood count, coagulation studies, and electrolyte panels, which were all within normal limits. The patient was treated with lisinopril and other medications to control his blood pressure and alleviate his symptoms.\n",
      "\n",
      "# Stroke --- The patient was initially diagnosed with a suspected stroke, which was evaluated with a computed tomography angiogram (CTA) and magnetic resonance imaging (MRI). The CTA and MRI showed no acute intracranial process, and the vasculature was normal without evidence of stenosis, occlusion, dissection, or aneurysm.\n",
      "\n",
      "\n",
      "Time taken for generate_bhc: 6.04382848739624 seconds.\n",
      "55 of 250, 22.0% hadm_id: 26653954 **********\n",
      "\n",
      "\n",
      "1272\n"
     ]
    },
    {
     "name": "stderr",
     "output_type": "stream",
     "text": [
      "Processed prompts: 100%|██████████| 1/1 [00:05<00:00,  5.11s/it, est. speed input: 249.18 toks/s, output: 37.81 toks/s]\n"
     ]
    },
    {
     "name": "stdout",
     "output_type": "stream",
     "text": [
      "Brief Hospital Course\n",
      "The patient with a history of atrial fibrillation on Coumadin presents with lethargy, difficulty ambulating, and gait instability. She was admitted to the Intensive Care Unit (ICU) for close monitoring.\n",
      "\n",
      "Problem-based hospital course---\n",
      "# Right Intraparenchymal Hemorrhage --- The patient presented with a right intraparenchymal hemorrhage with 6 mm of midline shift and small intraventricular hemorrhage. The diagnostic work up included a CT HEAD W/O CONTRAST and MRI Brain with and without Contrast. The notable results showed mild peripheral enhancement and no definitive nodular enhancement to suggest underlying mass. The patient received vitamin K, Kcentra, and 500 mg of Keppra at the OSH prior to transfer to the hospital, and received an additional 500 mg of Keppra and 2 units of FFP upon arrival to the hospital.\n",
      "\n",
      "\n",
      "Time taken for generate_bhc: 5.133094549179077 seconds.\n",
      "56 of 250, 22.4% hadm_id: 26822429 **********\n",
      "\n",
      "\n",
      "2773\n"
     ]
    },
    {
     "name": "stderr",
     "output_type": "stream",
     "text": [
      "Processed prompts: 100%|██████████| 1/1 [00:06<00:00,  6.86s/it, est. speed input: 404.65 toks/s, output: 36.33 toks/s]\n"
     ]
    },
    {
     "name": "stdout",
     "output_type": "stream",
     "text": [
      "Brief Hospital Course\n",
      "The patient with a history of alcoholic cirrhosis, portal hypertension, esophageal varices, ascites, hepatic hydrothorax, and non-occlusive thrombus in the portal vein presents with melena. She was admitted to the MICU for urgent endoscopy given an acute fall in hemoglobin (was 13.7/40.9 in ___).\n",
      "\n",
      "Problem-based hospital course---\n",
      "# Esophageal variceal bleed --- The patient presented with melena and was diagnosed with esophageal variceal bleed. She was given 80IV protonix and started on protonix gtt and octreotride gtt. She underwent urgent endoscopy and was intubated for the procedure.\n",
      "\n",
      "# GBS Bacteremia --- The patient was diagnosed with GBS Bacteremia. She was treated with antibiotics.\n",
      "\n",
      "# Recurrent hepatic hydrothorax --- The patient had a large right pleural effusion, which was treated with drainage.\n",
      "\n",
      "# Spontaneous Bacterial Periotonitis --- The patient had ascites, which was treated with antibiotics.\n",
      "\n",
      "# Recurrent fevers --- The patient had recurrent fevers, which were treated with antibiotics.\n",
      "\n",
      "\n",
      "Time taken for generate_bhc: 6.885931730270386 seconds.\n",
      "57 of 250, 22.8% hadm_id: 29257732 **********\n",
      "\n",
      "\n",
      "1317\n"
     ]
    },
    {
     "name": "stderr",
     "output_type": "stream",
     "text": [
      "Processed prompts: 100%|██████████| 1/1 [00:05<00:00,  5.21s/it, est. speed input: 252.70 toks/s, output: 37.80 toks/s]\n"
     ]
    },
    {
     "name": "stdout",
     "output_type": "stream",
     "text": [
      "Brief Hospital Course\n",
      "The patient with a history of acute on chronic diastolic heart failure, severe aortic stenosis, and hyperlipidemia presents with symptoms of worsening shortness of breath and chest pain. They were admitted to the Cardiology floor for acute on chronic diastolic heart failure and community acquired pneumonia.\n",
      "\n",
      "Problem-based hospital course---\n",
      "# Diastolic Heart Failure --- The patient presented with worsening shortness of breath and chest pain. The diagnostic work up included cardiac enzymes, which showed elevated CK-MB and cTropnT levels. The patient received treatment with diuretics and vasodilators.\n",
      "\n",
      "# Community Acquired Pneumonia --- The patient presented with symptoms of cough and fever. The diagnostic work up included chest x-ray, which showed right lower hemithorax opacification worrisome for pleural effusion with overlying atelectasis, underlying consolidation due to pneumonia. The patient received treatment with antibiotics.\n",
      "\n",
      "\n",
      "Time taken for generate_bhc: 5.235994100570679 seconds.\n",
      "58 of 250, 23.2% hadm_id: 29493324 **********\n",
      "\n",
      "\n",
      "1817\n"
     ]
    },
    {
     "name": "stderr",
     "output_type": "stream",
     "text": [
      "Processed prompts: 100%|██████████| 1/1 [00:05<00:00,  5.73s/it, est. speed input: 317.04 toks/s, output: 37.34 toks/s]\n"
     ]
    },
    {
     "name": "stdout",
     "output_type": "stream",
     "text": [
      "Brief Hospital Course\n",
      "The patient with a history of afib on coumadin and several prior ischemic infarcts (right parietal and bilateral cerebellar), as well as new right renal mass \n",
      "presents with seizures. He was admitted to the Neurology service \n",
      "for altered mental status, suspected seizure activity, and \n",
      "evaluation of new right renal mass.\n",
      "\n",
      "Problem-based hospital course---\n",
      "# Seizures --- \n",
      "The patient presented with three episodes of altered mental status, \n",
      "including staring off to the left, left arm stiffening, and \n",
      "brief loss of consciousness. The diagnostic work up included \n",
      "normal labs, a normal NCHCT, and a pending MRI. The patient \n",
      "received no specific treatment for the seizures.\n",
      "\n",
      "# Altered Mental Status --- \n",
      "The patient presented with altered mental status, including \n",
      "difficulty recalling events of the morning and a slight dull \n",
      "headache on the left forehead. The diagnostic work up included \n",
      "normal labs and a pending MRI. The patient received no specific \n",
      "treatment for the altered mental status.\n",
      "\n",
      "\n",
      "Time taken for generate_bhc: 5.758660554885864 seconds.\n",
      "59 of 250, 23.6% hadm_id: 20593906 **********\n",
      "\n",
      "\n",
      "1936\n"
     ]
    },
    {
     "name": "stderr",
     "output_type": "stream",
     "text": [
      "Processed prompts: 100%|██████████| 1/1 [00:05<00:00,  5.91s/it, est. speed input: 327.71 toks/s, output: 37.24 toks/s]\n"
     ]
    },
    {
     "name": "stdout",
     "output_type": "stream",
     "text": [
      "Brief Hospital Course\n",
      "The patient with a history of breast cancer with bone mets, currently on faslodex and palbociclib, presents with weakness, dyspnea on exertion, and Hct drop. She was admitted to the Medical Oncology floor for further evaluation and management of her anemia and bone metastatic disease.\n",
      "\n",
      "Problem-based hospital course---\n",
      "# Anemia --- The patient presented with worsening anemia, with a drop in H/H from 11.3/33.6 to 8.2/24.2 over several days. She was referred to Urgent Care and then the ED for further evaluation. The diagnostic work up included complete blood counts, which showed a drop in H/H. The patient was treated with 20mg PO oxycontin for pain management.\n",
      "\n",
      "# Bone metastatic disease --- The patient presented with back pain, which was managed with oxycontin 20mg q8 and breakthrough oxycodone and APAP. The diagnostic work up included a CXR, which showed osseous metastatic disease without acute process.\n",
      "\n",
      "\n",
      "Time taken for generate_bhc: 5.933737754821777 seconds.\n",
      "60 of 250, 24.0% hadm_id: 28002741 **********\n",
      "\n",
      "\n",
      "2156\n"
     ]
    },
    {
     "name": "stderr",
     "output_type": "stream",
     "text": [
      "Processed prompts: 100%|██████████| 1/1 [00:06<00:00,  6.29s/it, est. speed input: 343.13 toks/s, output: 36.92 toks/s]\n"
     ]
    },
    {
     "name": "stdout",
     "output_type": "stream",
     "text": [
      "Brief Hospital Course\n",
      "The patient with a history of chronic alcohol use and previous episodes of sinusitis and constipation presents with epigastric abdominal pain radiating to the back for 3 days in duration. They were admitted to the Medical Intensive Care Unit (MICU) for acute pancreatitis, initial diagnosis, and management of symptoms.\n",
      "\n",
      "Problem-based hospital course---\n",
      "# Abdominal pain --- The patient presented with intermittent epigastric abdominal pain radiating to the back, which was initially intermittent but became constant. The pain was managed with morphine sulfate.\n",
      "[Summarize the related diagnostic work up and notable results]. \n",
      "The patient underwent laboratory tests, including complete blood count, liver function tests, and pancreatic enzymes, which revealed elevated lipase levels and mild elevation of liver enzymes.\n",
      "\n",
      "# Pancreatitis --- The patient was diagnosed with acute pancreatitis based on the clinical presentation, laboratory results, and imaging studies.\n",
      "[Summarize the related medical or surgical treatment course]. \n",
      "The patient received supportive care, including fluid management, pain management with morphine sulfate, and monitoring of vital signs. No surgical intervention was necessary.\n",
      "\n",
      "\n",
      "Time taken for generate_bhc: 6.333352565765381 seconds.\n",
      "61 of 250, 24.4% hadm_id: 21449537 **********\n",
      "\n",
      "\n",
      "901\n"
     ]
    },
    {
     "name": "stderr",
     "output_type": "stream",
     "text": [
      "Processed prompts: 100%|██████████| 1/1 [00:04<00:00,  4.83s/it, est. speed input: 186.85 toks/s, output: 38.16 toks/s]\n"
     ]
    },
    {
     "name": "stdout",
     "output_type": "stream",
     "text": [
      "Brief Hospital Course\n",
      "The patient with a history of right posterior fossa craniectomy for resection of 2 right cerebellar AVMs presents with enlarging fluid collection at the surgical site, behind her right ear, extending into her right neck, and associated with pain. She was admitted to the Neurosurgical Intensive Care Unit for management of the fluid collection and possible infection.\n",
      "\n",
      "Problem-based hospital course---\n",
      "# Right Occipital Fluid Collection --- The patient presented with a fluid collection extending from the posterolateral right suboccipital craniectomy site, likely containing CSF, which communicates intracranially.\n",
      "The related diagnostic work up included a CT Head with and without contrast, which showed no evidence of intracranial hemorrhage, edema or pathologic enhancement.\n",
      "The related medical treatment course included observation and monitoring for signs of infection or worsening of the fluid collection.\n",
      "\n",
      "\n",
      "Time taken for generate_bhc: 4.851796865463257 seconds.\n",
      "62 of 250, 24.8% hadm_id: 29693911 **********\n",
      "\n",
      "\n",
      "2676\n"
     ]
    },
    {
     "name": "stderr",
     "output_type": "stream",
     "text": [
      "Processed prompts: 100%|██████████| 1/1 [00:21<00:00, 21.47s/it, est. speed input: 124.64 toks/s, output: 38.52 toks/s]\n"
     ]
    },
    {
     "name": "stdout",
     "output_type": "stream",
     "text": [
      "Brief Hospital Course\n",
      "The patient with a history of hypertension, hyperlipidemia, and migraines presents with a severe headache different from her typical migraines. She was admitted to the Neurology service for evaluation and management of her headache.\n",
      "\n",
      "The patient initially presented to the emergency department with a headache which was different from her typical headache, pressure-like, bilaterally in her temples and forehead. This headache had high pressure features such as getting worse with laughing, coughing, blowing her nose, and bending over. She had an asthma exacerbation at that time with a dramatic worsening of her headache. She also had mild photophobia and phonophobia. No transient visual obscurations or photopsias were noted. She has chronic tinnitus and hearing loss in the right ear, which was unchanged.\n",
      "\n",
      "In the emergency department, she received a cocktail to treat her headache with Benadryl, Compazine, and IVF. Neurology was consulted and recommended an MRI/A/V to rule out venous sinus thrombosis or dissection. This was initially read as negative. Lumbar puncture was performed as well given concern for high-pressure headache. Unfortunately, no opening pressure was documented. Lumbar puncture showed 5 WBC and 239 RBCs in tube 1 and 4 WBC with 169 RBCs in tube 4. Later, MRI was noted to show temporal lobe FLAIR hyperintensities. Given this finding and LP results, there was concern for HSV, and the patient was called repeatedly at home to ask her to come back to the emergency department, but did not answer since she \"didn't know that doctor.\"\n",
      "\n",
      "The patient states she initially felt better after the \"headache cocktail\" in the emergency department but by the time she got to the parking lot, her headache returned. She continues to endorse worsening with coughing/sneezing but now also states her headache gets much worse with sitting upright or standing up at 9:10, and is better when she lies flat but doesn't go completely away (minimum is ___). Since yesterday, she had onset of nausea, and today she vomited x 2. She has had low PO intake and lightheadedness/presyncope with standing.\n",
      "\n",
      "Problem-based hospital course---\n",
      "\n",
      "# Viral Encephalitis --- The patient presented with a severe headache different from her typical migraines, which was different from her typical headache, pressure-like, bilaterally in her temples and forehead. This headache had high pressure features such as getting worse with laughing, coughing, blowing her nose, and bending over. She had an asthma exacerbation at that time with a dramatic worsening of her headache. She also had mild photophobia and phonophobia. No transient visual obscurations or photopsias were noted. She has chronic tinnitus and hearing loss in the right ear, which was unchanged.\n",
      "\n",
      "The diagnostic work-up included MRI/A/V to rule out venous sinus thrombosis or dissection, which was initially read as negative. Lumbar puncture was performed as well given concern for high-pressure headache. Unfortunately, no opening pressure was documented. Lumbar puncture showed 5 WBC and 239 RBCs in tube 1 and 4 WBC with 169 RBCs in tube 4. Later, MRI was noted to show temporal lobe FLAIR hyperintensities. Given this finding and LP results, there was concern for HSV, and the patient was called repeatedly at home to ask her to come back to the emergency department, but did not answer since she \"didn't know that doctor.\"\n",
      "\n",
      "The patient was treated with Benadryl, Compazine, and IVF in the emergency department. She was also given a lumbar puncture to rule out meningitis.\n",
      "\n",
      "# Subependymoma --- The patient had a previously known subependymal my at the level of foramen of Magendie, which was not well visualized on the CT scan. Otherwise, unremarkable CT without acute intracranial abnormality.\n",
      "\n",
      "\n",
      "Time taken for generate_bhc: 21.527718544006348 seconds.\n",
      "63 of 250, 25.2% hadm_id: 26390130 **********\n",
      "\n",
      "\n",
      "1333\n"
     ]
    },
    {
     "name": "stderr",
     "output_type": "stream",
     "text": [
      "Processed prompts: 100%|██████████| 1/1 [00:14<00:00, 14.42s/it, est. speed input: 92.46 toks/s, output: 39.19 toks/s]\n"
     ]
    },
    {
     "name": "stdout",
     "output_type": "stream",
     "text": [
      "Brief Hospital Course\n",
      "The patient with a history of chronic obstructive pulmonary disease (COPD) and coronary artery disease presents with worsening dyspnea. They were admitted to the intensive care unit for acute exacerbation of COPD, initial diagnosis of pneumonia, and major procedures including left pneumonectomy.\n",
      "\n",
      "Problem-based hospital course---\n",
      "# Acute on chronic obstructive pulmonary disease --- The patient presented with worsening dyspnea, which was severe and lasted for several days. The diagnostic work up included laboratory tests, imaging studies, and clinical evaluation. The notable results included abnormal blood gas analysis, elevated white blood cell count, and abnormal chest X-ray. The patient received treatment with antibiotics, bronchodilators, and oxygen therapy.\n",
      "\n",
      "# Anemia, macrocytic --- The patient presented with anemia, which was diagnosed based on laboratory tests. The diagnostic work up included complete blood count and peripheral blood smear. The notable results included low hemoglobin and hematocrit levels. The patient received treatment with vitamin B12 supplements.\n",
      "\n",
      "# Coronary artery disease --- The patient presented with coronary artery disease, which was diagnosed based on imaging studies. The diagnostic work up included resting MIBI and CTA chest. The notable results included normal myocardial perfusion at rest and normal left ventricular cavity size and systolic wall motion. The patient received treatment with medications to manage hypertension and heart failure with preserved ejection fraction.\n",
      "\n",
      "# Hypertension --- The patient presented with hypertension, which was diagnosed based on laboratory tests. The diagnostic work up included blood pressure monitoring. The notable results included elevated blood pressure levels. The patient received treatment with medications to manage hypertension.\n",
      "\n",
      "# Heart failure with preserved ejection fraction --- The patient presented with heart failure with preserved ejection fraction, which was diagnosed based on imaging studies. The diagnostic work up included resting MIBI and CTA chest. The notable results included normal left ventricular cavity size and systolic wall motion. The patient received treatment with medications to manage heart failure.\n",
      "\n",
      "# Gastroesophageal reflux disease --- The patient presented with gastroesophageal reflux disease, which was diagnosed based on clinical evaluation. The diagnostic work up included upper gastrointestinal endoscopy. The notable results included esophagitis. The patient received treatment with medications to manage gastroesophageal reflux disease.\n",
      "\n",
      "# Anxiety --- The patient presented with anxiety, which was diagnosed based on clinical evaluation. The diagnostic work up included psychological evaluation. The notable results included symptoms of anxiety. The patient received treatment with medications to manage anxiety.\n",
      "\n",
      "# Chronic pain secondary to pneumonectomy --- The patient presented with chronic pain secondary to pneumonectomy, which was diagnosed based on clinical evaluation. The diagnostic work up included physical examination. The notable results included chronic pain. The patient received treatment with medications to manage chronic pain.\n",
      "\n",
      "\n",
      "Time taken for generate_bhc: 14.439364910125732 seconds.\n",
      "64 of 250, 25.6% hadm_id: 20226692 **********\n",
      "\n",
      "\n",
      "1391\n"
     ]
    },
    {
     "name": "stderr",
     "output_type": "stream",
     "text": [
      "Processed prompts: 100%|██████████| 1/1 [00:03<00:00,  3.75s/it, est. speed input: 370.88 toks/s, output: 37.06 toks/s]\n"
     ]
    },
    {
     "name": "stdout",
     "output_type": "stream",
     "text": [
      "Brief Hospital Course\n",
      "The patient with a history of baseline GI symptoms and celiac disease presents with acute onset RLQ pain that started at approximately 5pm. They were admitted to the GYN service for GYN evaluation.\n",
      "\n",
      "Problem-based hospital course---\n",
      "# Right Adnexal Mass --- The patient presented with severe sharp, non-radiating RLQ pain associated with intense nausea, vomiting, subjective fevers/chills, and malaise.\n",
      "The diagnostic work up included a CT ABD PELVIS, which was notable for a RLQ mass, appendix not visualized. The patient did not have a documented fever.\n",
      "The related medical treatment course included IV narcotics for pain management.\n",
      "\n",
      "\n",
      "Time taken for generate_bhc: 3.772498607635498 seconds.\n",
      "65 of 250, 26.0% hadm_id: 25433900 **********\n",
      "\n",
      "\n",
      "1777\n"
     ]
    },
    {
     "name": "stderr",
     "output_type": "stream",
     "text": [
      "Processed prompts: 100%|██████████| 1/1 [00:05<00:00,  5.05s/it, est. speed input: 351.79 toks/s, output: 37.22 toks/s]\n"
     ]
    },
    {
     "name": "stdout",
     "output_type": "stream",
     "text": [
      "Brief Hospital Course\n",
      "The patient with a history of cholecystectomy complicated by Bile-Salt Diarrhea presents with 3 days of abdominal pain, fevers, rigors, and lethargy. He was admitted to the Medical Intensive Care Unit for cholangitis due to probable retained gallstone.\n",
      "\n",
      "Problem-based hospital course---\n",
      "# Cholangitis --- The patient presented with severe symptoms of cholangitis, including fever, rigors, and lethargy. The diagnostic work up included blood cultures, which are pending, and urine cultures, which showed no growth. The patient underwent ERCP, which revealed a filling defect in the lower third of the common bile duct consistent with a small stone. A sphincterotomy was performed, and balloon sweeps were performed until no debris was noted. The patient was treated with antibiotics, Ciprofloxacin 500mg BID x 5 days.\n",
      "\n",
      "\n",
      "Time taken for generate_bhc: 5.0743114948272705 seconds.\n",
      "66 of 250, 26.4% hadm_id: 21746496 **********\n",
      "\n",
      "\n",
      "1424\n"
     ]
    },
    {
     "name": "stderr",
     "output_type": "stream",
     "text": [
      "Processed prompts: 100%|██████████| 1/1 [00:05<00:00,  6.00s/it, est. speed input: 237.64 toks/s, output: 38.05 toks/s]\n"
     ]
    },
    {
     "name": "stdout",
     "output_type": "stream",
     "text": [
      "Brief Hospital Course\n",
      "The patient with a history of atrial fibrillation with cardioversions, mechanical aortic valve prosthesis, and a history of glaucoma presents with shortness of breath. She was admitted to the cardiac surgery service for evaluation of hypotension and atrial fibrillation with symptoms of shortness of breath. The patient was initially diagnosed with unspecified atrial fibrillation.\n",
      "\n",
      "Problem-based hospital course---\n",
      "# Atrial Fibrillation --- The patient presented with atrial fibrillation with a heart rate of 120 beats per minute. The diagnostic work up included a transesophageal echocardiogram, which showed a well-seated mechanical aortic valve with trace regurgitation and normal biventricular cavity sizes with preserved global biventricular systolic function. The patient received cardioversion.\n",
      "\n",
      "# Hypotension --- The patient presented with hypotension with a blood pressure of 70's systolic and 120 beats per minute heart rate. The diagnostic work up included laboratory tests, which showed stable results. The patient received 1 liter of fluid, which improved her blood pressure.\n",
      "\n",
      "\n",
      "Time taken for generate_bhc: 6.01230263710022 seconds.\n",
      "67 of 250, 26.8% hadm_id: 24173632 **********\n",
      "\n",
      "\n",
      "889\n"
     ]
    },
    {
     "name": "stderr",
     "output_type": "stream",
     "text": [
      "Processed prompts: 100%|██████████| 1/1 [00:05<00:00,  5.27s/it, est. speed input: 168.88 toks/s, output: 38.75 toks/s]\n"
     ]
    },
    {
     "name": "stdout",
     "output_type": "stream",
     "text": [
      "Brief Hospital Course\n",
      "The patient with a history of cervical stenosis presents with symptoms of neck pain and bilateral upper extremity paresthesias after a fall with loss of consciousness. She was admitted to the hospital for further evaluation and management of her cervical stenosis.\n",
      "The patient was initially diagnosed with syncope and collapse, cervical disc displacement, and was later diagnosed with a cervical herniated disc at C5-6.\n",
      "\n",
      "Problem-based hospital course---\n",
      "# Cervical Herniated disc at C5-6 --- The patient presented with neck pain and bilateral upper extremity paresthesias after a fall with loss of consciousness.\n",
      "The diagnostic work up included a CT of the cervical spine, which was negative for fracture but concerning for cervical stenosis at C5-6, and an MRI Cervical Spine, which showed a small central and left-sided disc herniation at C5-6 indenting the spinal cord and narrowing the foramina.\n",
      "The patient underwent no major procedures.\n",
      "\n",
      "\n",
      "Time taken for generate_bhc: 5.282405853271484 seconds.\n",
      "68 of 250, 27.2% hadm_id: 28671814 **********\n",
      "\n",
      "\n",
      "2976\n"
     ]
    },
    {
     "name": "stderr",
     "output_type": "stream",
     "text": [
      "Processed prompts: 100%|██████████| 1/1 [00:08<00:00,  8.28s/it, est. speed input: 359.47 toks/s, output: 36.84 toks/s]\n"
     ]
    },
    {
     "name": "stdout",
     "output_type": "stream",
     "text": [
      "Brief Hospital Course\n",
      "The patient with a history of ischemic dilated cardiomyopathy presents with worsening shortness of breath on exertion, which has limited her activities of daily living. She was admitted to the Cardiology floor for evaluation of her symptoms and management of her heart failure.\n",
      "\n",
      "The patient was initially diagnosed with non-ST elevation myocardial infarction and acute on chronic systolic heart failure. She underwent cardiac catheterization, which showed no significant coronary artery disease in her right dominant coronary system. The catheterization also revealed moderate pulmonary hypertension, elevated left ventricular filling pressures, and mitral regurgitation presumably secondary to dilated cardiomyopathy.\n",
      "\n",
      "Problem-based hospital course---\n",
      "\n",
      "# Heart Failure --- \n",
      "The patient presented with worsening shortness of breath on exertion, which is a common symptom of heart failure. The diagnostic work up included a cardiac catheterization, which showed elevated left ventricular filling pressures and mitral regurgitation. The patient was treated with full dose aspirin, 20mg IV Furosemide, and heparin gtt.\n",
      "\n",
      "# Pulmonary Edema --- \n",
      "The patient's CTA chest showed mild pulmonary edema, which is a common complication of heart failure. The patient was treated with diuretics and oxygen therapy.\n",
      "\n",
      "# Abdominal Pain --- \n",
      "The patient's abdominal pain was likely related to her heart failure and pulmonary edema. The patient was treated with antacid medication and was referred to a gastroenterologist for further evaluation.\n",
      "\n",
      "\n",
      "Time taken for generate_bhc: 8.309601783752441 seconds.\n",
      "69 of 250, 27.6% hadm_id: 20279012 **********\n",
      "\n",
      "\n",
      "1935\n"
     ]
    },
    {
     "name": "stderr",
     "output_type": "stream",
     "text": [
      "Processed prompts: 100%|██████████| 1/1 [00:06<00:00,  6.46s/it, est. speed input: 299.71 toks/s, output: 37.48 toks/s]\n"
     ]
    },
    {
     "name": "stdout",
     "output_type": "stream",
     "text": [
      "Brief Hospital Course\n",
      "The patient with a history of acute on chronic diastolic heart failure and pericarditis presents with shortness of breath. They were admitted to the cardiology service for acute exacerbation of heart failure and suspected pericarditis.\n",
      "\n",
      "Problem-based hospital course---\n",
      "# Acute on chronic diastolic heart failure --- The patient presented with shortness of breath, which worsened over the past few days. The patient was initially diagnosed with acute exacerbation of heart failure. The diagnostic work up included laboratory tests, which showed elevated troponin and brain natriuretic peptide levels. The patient underwent echocardiogram, which showed normal left ventricular wall thickness with a normal cavity size and normal regional left ventricular systolic function. The patient was treated with diuretics and vasodilators.\n",
      "\n",
      "# Pericarditis, subacute, idiopathic --- The patient presented with chest pain and shortness of breath. The patient was diagnosed with pericarditis based on echocardiogram findings of a small circumferential echo dense pericardial effusion. The patient was treated with nonsteroidal anti-inflammatory drugs and colchicine.\n",
      "\n",
      "\n",
      "Time taken for generate_bhc: 6.477236032485962 seconds.\n",
      "70 of 250, 28.0% hadm_id: 27478919 **********\n",
      "\n",
      "\n",
      "2075\n"
     ]
    },
    {
     "name": "stderr",
     "output_type": "stream",
     "text": [
      "Processed prompts: 100%|██████████| 1/1 [00:05<00:00,  5.57s/it, est. speed input: 372.94 toks/s, output: 36.84 toks/s]\n"
     ]
    },
    {
     "name": "stdout",
     "output_type": "stream",
     "text": [
      "Brief Hospital Course\n",
      "The patient with a history of borderline hypertension and hyperlipidemia presents with an episode of memory loss. He was admitted to the Neurology service for further evaluation and management.\n",
      "\n",
      "Problem-based hospital course---\n",
      "# Memory Loss --- The patient presented with an episode of memory loss, which lasted approximately 40 minutes. He was unable to remember the events of his day, including his work and his return home. He was able to dress himself normally and drink a glass of water, but was confused and agitated. The episode gradually resolved, and he was able to remember most of his day with the exception of a few scattered details.\n",
      "\n",
      "The diagnostic work up included a CT head, which was reportedly negative, and labs, which were all within normal limits. He was then transferred to our institution for an MRI and further evaluation.\n",
      "\n",
      "The patient was treated with supportive care and was monitored for any signs of seizure activity. He was also evaluated for any underlying medical conditions that may have contributed to his symptoms.\n",
      "\n",
      "\n",
      "Time taken for generate_bhc: 5.588502883911133 seconds.\n",
      "71 of 250, 28.4% hadm_id: 24405291 **********\n",
      "\n",
      "\n",
      "1607\n"
     ]
    },
    {
     "name": "stderr",
     "output_type": "stream",
     "text": [
      "Processed prompts: 100%|██████████| 1/1 [00:04<00:00,  4.84s/it, est. speed input: 331.85 toks/s, output: 37.58 toks/s]\n"
     ]
    },
    {
     "name": "stdout",
     "output_type": "stream",
     "text": [
      "Brief Hospital Course\n",
      "The patient with a history of COPD, HFpEF, and necrotizing PNA presents with acute on chronic dyspnea. He was admitted to the medical floor for acute exacerbation of COPD, initial diagnosis of chronic obstructive pulmonary disease with acute exacerbation, and treatment with nebulizers and antibiotics.\n",
      "\n",
      "Problem-based hospital course---\n",
      "# Chronic obstructive pulmonary disease --- The patient presented with acute on chronic dyspnea, which was treated with nebulizers and antibiotics. The diagnostic work up included a chest X-ray, which showed mild pulmonary vascular congestion with trace interstitial edema. The patient was prescribed Prednisone and Azithromycin for COPD exacerbation, though he refused treatment.\n",
      "\n",
      "# Chronic diastolic heart failure --- The patient had a history of HFpEF and was diagnosed with chronic diastolic heart failure at discharge.\n",
      "\n",
      "\n",
      "Time taken for generate_bhc: 4.881246566772461 seconds.\n",
      "72 of 250, 28.8% hadm_id: 21789807 **********\n",
      "\n",
      "\n",
      "2017\n"
     ]
    },
    {
     "name": "stderr",
     "output_type": "stream",
     "text": [
      "Processed prompts: 100%|██████████| 1/1 [00:05<00:00,  5.18s/it, est. speed input: 389.68 toks/s, output: 37.09 toks/s]\n"
     ]
    },
    {
     "name": "stdout",
     "output_type": "stream",
     "text": [
      "Brief Hospital Course\n",
      "The patient with a history of right frontal glioblastoma s/p resection and XRT, and disease on multiple agents, presents with dislodged g-tube. They were admitted to the medicine service for treatment of UTI and further GI follow-up for his G-tube.\n",
      "\n",
      "Problem-based hospital course---\n",
      "# Dislodged G-tube --- The patient presented with a dislodged G-tube, which was unable to be replaced due to superficial scar tissue. A foley was placed into the track easily and balloon inflated. KUB was performed, which showed contrast instilled into the gastrostomy tube opacifying the stomach. No evidence of contrast extravasation.\n",
      "\n",
      "# UTI --- The patient was diagnosed with a UTI, with a urine culture showing ESCHERICHIA COLI. The patient was treated with antibiotics, with sensitivities showing that the bacteria was resistant to multiple antibiotics.\n",
      "\n",
      "\n",
      "Time taken for generate_bhc: 5.1964452266693115 seconds.\n",
      "73 of 250, 29.2% hadm_id: 26432495 **********\n",
      "\n",
      "\n",
      "2111\n"
     ]
    },
    {
     "name": "stderr",
     "output_type": "stream",
     "text": [
      "Processed prompts: 100%|██████████| 1/1 [00:07<00:00,  7.10s/it, est. speed input: 297.60 toks/s, output: 37.78 toks/s]\n"
     ]
    },
    {
     "name": "stdout",
     "output_type": "stream",
     "text": [
      "Brief Hospital Course\n",
      "The patient with a history of end-stage renal disease on hemodialysis, ischemic cardiomyopathy with an ejection fraction of 40%, and a history of myocardial infarction, atrial fibrillation not on anticoagulation, and a history of ventricular tachycardia storm presents with 5 days worsening right buttock redness, swelling, and discharge. He was admitted to the medicine service for observation and treatment of extensive abscess and cellulitis.\n",
      "\n",
      "Problem-based hospital course---\n",
      "# Cellulitis --- The patient presented with 5 days worsening right buttock redness, swelling, and discharge. The diagnostic work up included laboratory tests, which showed a white blood cell count of 7.8, hemoglobin of 10.0, and platelet count of 98. The patient was given vancomycin and cefazolin. The patient's lactate level was elevated to 2.1, and he was given a 500cc bolus of normal saline.\n",
      "\n",
      "# Abscess --- The patient underwent incision and drainage of the abscess, which was found to have a 1 cm deep cavity tracking inferomedially. An iodoform wick was placed, and the patient was given vancomycin and cefazolin.\n",
      "\n",
      "\n",
      "Time taken for generate_bhc: 7.136657476425171 seconds.\n",
      "74 of 250, 29.6% hadm_id: 26383401 **********\n",
      "\n",
      "\n",
      "2029\n"
     ]
    },
    {
     "name": "stderr",
     "output_type": "stream",
     "text": [
      "Processed prompts: 100%|██████████| 1/1 [00:05<00:00,  5.03s/it, est. speed input: 403.69 toks/s, output: 37.01 toks/s]\n"
     ]
    },
    {
     "name": "stdout",
     "output_type": "stream",
     "text": [
      "Brief Hospital Course\n",
      "The patient with a history of schizoaffective disorder, hyperlipidemia, and hypothyroidism presents with overdose, concern for cerebellar stroke. They were admitted to the Neurology service for cerebellar stroke, initial diagnosis, and treatment of anticholinergic toxicity.\n",
      "\n",
      "Problem-based hospital course---\n",
      "# Cerebellar stroke --- The patient presented with altered mental status and slurring of speech. The diagnostic work up included a NIHSS score of 0, CTA head and neck with no large vessel occlusion, and patent vertebral arteries. The related medical treatment course included observation for posterior fossa edema/swelling.\n",
      "\n",
      "# Anticholinergic toxicity --- The patient presented with altered mental status and slurring of speech. The diagnostic work up included laboratory tests showing elevated liver enzymes and creatine kinase. The related medical treatment course included supportive care and observation.\n",
      "\n",
      "\n",
      "Time taken for generate_bhc: 5.048177480697632 seconds.\n",
      "75 of 250, 30.0% hadm_id: 22009342 **********\n",
      "\n",
      "\n",
      "1332\n"
     ]
    },
    {
     "name": "stderr",
     "output_type": "stream",
     "text": [
      "Processed prompts: 100%|██████████| 1/1 [00:05<00:00,  5.63s/it, est. speed input: 236.66 toks/s, output: 38.38 toks/s]\n"
     ]
    },
    {
     "name": "stdout",
     "output_type": "stream",
     "text": [
      "Brief Hospital Course\n",
      "The patient with a history of right lower quadrant abdominal pain presents with RLQ abdominal pain. She was admitted to the emergency department for evaluation of RLQ abdominal pain and possible ectopic pregnancy.\n",
      "\n",
      "The patient was initially diagnosed with right lower quadrant abdominal pain and hemorrhagic cyst vs. ectopic pregnancy. She was given morphine for pain management.\n",
      "\n",
      "Problem-based hospital course---\n",
      "# Right Lower Quadrant Abdominal Pain --- The patient presented with sharp and intermittent RLQ abdominal pain that started yesterday evening and persisted throughout the day. The pain was described as sharp like a knife and intermittent, lasting only a few seconds. She denied N/V/CP/SOB. She had not had a bowel movement since last ___.\n",
      "The patient underwent a pelvic ultrasound, which showed a 2 mm fluid collection within the endometrial canal, and a normal appearance of the ovaries with a hemorrhagic cyst and a corpus luteum seen on the right. The patient was diagnosed with right lower quadrant abdominal pain and hemorrhagic cyst vs. ectopic pregnancy.\n",
      "\n",
      "\n",
      "Time taken for generate_bhc: 5.645878791809082 seconds.\n",
      "76 of 250, 30.4% hadm_id: 27744668 **********\n",
      "\n",
      "\n",
      "905\n"
     ]
    },
    {
     "name": "stderr",
     "output_type": "stream",
     "text": [
      "Processed prompts: 100%|██████████| 1/1 [00:04<00:00,  4.01s/it, est. speed input: 226.01 toks/s, output: 38.46 toks/s]\n"
     ]
    },
    {
     "name": "stdout",
     "output_type": "stream",
     "text": [
      "Brief Hospital Course\n",
      "The patient with a history of recurrent right femoral/inguinal hernia repairs presents with small bowel obstruction. He was admitted to the surgical service for partial small bowel obstruction with a transition point in the right lower quadrant, initially diagnosed with intestinal obstruction NOS. The patient's symptoms included colicky abdominal pain, nausea, and vomiting, which became unbearable and led to his admission to the emergency department.\n",
      "\n",
      "Problem-based hospital course---\n",
      "# Small bowel obstruction --- The patient presented with colicky abdominal pain, which became unbearable and led to his admission to the emergency department. The diagnostic work up included a CT scan, which revealed a partial SBO with a transition point in the right lower quadrant. The patient did not undergo any major procedures.\n",
      "\n",
      "\n",
      "Time taken for generate_bhc: 4.019062519073486 seconds.\n",
      "77 of 250, 30.8% hadm_id: 26396284 **********\n",
      "\n",
      "\n",
      "1107\n"
     ]
    },
    {
     "name": "stderr",
     "output_type": "stream",
     "text": [
      "Processed prompts: 100%|██████████| 1/1 [00:03<00:00,  3.67s/it, est. speed input: 301.85 toks/s, output: 37.90 toks/s]\n"
     ]
    },
    {
     "name": "stdout",
     "output_type": "stream",
     "text": [
      "Brief Hospital Course\n",
      "The patient with a history of sick sinus syndrome and pacemaker placement presents with asymptomatic left pneumothorax. They were admitted to the pulmonary service for evaluation of syncope and suspected pulmonary embolism, which was later ruled out. The patient was diagnosed with left pneumothorax at discharge.\n",
      "\n",
      "Problem-based hospital course---\n",
      "# Left Pneumothorax --- The patient presented with asymptomatic left pneumothorax. The diagnostic work up included a V/Q scan, which showed findings consistent with left pneumothorax. The patient underwent a CXR, which confirmed the diagnosis. The patient received no medical or surgical treatment for this condition.\n",
      "\n",
      "\n",
      "Time taken for generate_bhc: 3.6850132942199707 seconds.\n",
      "78 of 250, 31.2% hadm_id: 27470085 **********\n",
      "\n",
      "\n",
      "2183\n"
     ]
    },
    {
     "name": "stderr",
     "output_type": "stream",
     "text": [
      "Processed prompts: 100%|██████████| 1/1 [00:05<00:00,  5.50s/it, est. speed input: 396.84 toks/s, output: 36.90 toks/s]\n"
     ]
    },
    {
     "name": "stdout",
     "output_type": "stream",
     "text": [
      "Brief Hospital Course\n",
      "The patient with a history of chronic kidney disease presents with neck pain and lightheadedness with exertion. She was admitted to the medical floor for management of hyperkalemia.\n",
      "\n",
      "Problem-based hospital course---\n",
      "# Neck pain --- The patient presented with neck pain and stiffness in her neck and shoulders. There was no numbness, tingling, weakness, double vision, or blurry vision. \n",
      "The related diagnostic work up and notable results were a normal cervical, thoracic, and lumbar spine examination. \n",
      "The related medical treatment course was the administration of IV Lasix and kayexalate without success.\n",
      "\n",
      "# Hyperkalemia --- The patient was found to have hyperkalemia with a potassium level of 5.8. \n",
      "The related diagnostic work up and notable results were a normal electrocardiogram and a normal chest X-ray. \n",
      "The related medical treatment course was the administration of IV furosemide, insulin, and sodium bicarbonate.\n",
      "\n",
      "\n",
      "Time taken for generate_bhc: 5.523955583572388 seconds.\n",
      "79 of 250, 31.6% hadm_id: 24717214 **********\n",
      "\n",
      "\n",
      "1178\n"
     ]
    },
    {
     "name": "stderr",
     "output_type": "stream",
     "text": [
      "Processed prompts: 100%|██████████| 1/1 [00:07<00:00,  7.42s/it, est. speed input: 158.74 toks/s, output: 39.08 toks/s]\n"
     ]
    },
    {
     "name": "stdout",
     "output_type": "stream",
     "text": [
      "Brief Hospital Course\n",
      "The patient with a history of Addison's Disease and PE's presents with left flank pain. They were admitted to the Emergency Department for left flank pain and suspected passed stone. The patient was initially diagnosed with left renal colic and was treated with morphine and oxycodone. However, the patient's symptoms worsened, including fever, headache, and chills, prompting further evaluation.\n",
      "\n",
      "Problem-based hospital course---\n",
      "# Left Renal Colic --- The patient presented with severe left flank pain, which was described as \"terrible\". The pain was controlled with morphine and oxycodone.\n",
      "[Summarize the related diagnostic work up and notable results]. The patient had a CT scan showing mild left hydronephrosis with hyperdense material in the bladder.\n",
      "[Summarize the related medical or surgical treatment course]. The patient was treated with morphine and oxycodone for pain control.\n",
      "\n",
      "# Fever --- The patient presented with fever to 102 degrees Fahrenheit.\n",
      "[Summarize the diagnostic work up and notable results related to this medical condition]. The patient had a urine analysis showing a blood-mod, nitrite-negative, protein-30, glucose-negative, ketone-negative, bilirubin-negative, urobilinogen-normal, pH-7.0, and leuk-negative.\n",
      "[Summarize the related medical or surgical treatment course]. The patient was treated with antibiotics for the fever.\n",
      "\n",
      "\n",
      "Time taken for generate_bhc: 7.441913604736328 seconds.\n",
      "80 of 250, 32.0% hadm_id: 25166517 **********\n",
      "\n",
      "\n",
      "1202\n"
     ]
    },
    {
     "name": "stderr",
     "output_type": "stream",
     "text": [
      "Processed prompts: 100%|██████████| 1/1 [00:03<00:00,  3.28s/it, est. speed input: 366.66 toks/s, output: 37.52 toks/s]\n"
     ]
    },
    {
     "name": "stdout",
     "output_type": "stream",
     "text": [
      "Brief Hospital Course\n",
      "The patient with a history of EtOH abuse presents with jaundice, yellow eyes, and abdominal distention. \n",
      "She was admitted to the hospital for acute hepatitis, initial diagnosis, and management of symptoms.\n",
      "Acute alcoholic hepatitis\n",
      "\n",
      "Problem-based hospital course---\n",
      "# Acute Alcoholic Hepatitis --- \n",
      "The patient presented with jaundice, yellow eyes, and abdominal distention. \n",
      "The diagnostic work up included laboratory tests, which showed elevated liver enzymes, bilirubin, and alkaline phosphatase. \n",
      "The patient received supportive care, including hydration and nutrition.\n",
      "\n",
      "\n",
      "Time taken for generate_bhc: 3.295008420944214 seconds.\n",
      "81 of 250, 32.4% hadm_id: 20172512 **********\n",
      "\n",
      "\n",
      "1327\n"
     ]
    },
    {
     "name": "stderr",
     "output_type": "stream",
     "text": [
      "Processed prompts: 100%|██████████| 1/1 [00:06<00:00,  6.11s/it, est. speed input: 217.36 toks/s, output: 38.33 toks/s]\n"
     ]
    },
    {
     "name": "stdout",
     "output_type": "stream",
     "text": [
      "Brief Hospital Course\n",
      "The patient with a history of no significant past medical history \n",
      "presents with neck pain, headache, and stiff neck. They were admitted to the Neurology service \n",
      "for presumed right vertebral artery dissection, initial diagnosis, and lumbar puncture.\n",
      "Viral meningitis was diagnosed at discharge.\n",
      "\n",
      "Problem-based hospital course---\n",
      "# Neck pain --- The patient presented with severe neck pain and stiffness.\n",
      "Summarize the related diagnostic work up and notable results. \n",
      "The patient underwent a head CT and CTA head/neck, which showed a congenitally small right vertebral artery but right vertebral artery dissection cannot be excluded.\n",
      "Summarize the related medical or surgical treatment course. \n",
      "The patient was treated with supportive care.\n",
      "\n",
      "# Headache --- The patient presented with severe headache.\n",
      "Summarize the related diagnostic work up and notable results. \n",
      "The patient underwent a head CT and CTA head/neck, which showed a congenitally small right vertebral artery but right vertebral artery dissection cannot be excluded.\n",
      "Summarize the related medical or surgical treatment course. \n",
      "The patient was treated with supportive care.\n",
      "\n",
      "\n",
      "Time taken for generate_bhc: 6.122194528579712 seconds.\n",
      "82 of 250, 32.8% hadm_id: 24982158 **********\n",
      "\n",
      "\n",
      "1562\n"
     ]
    },
    {
     "name": "stderr",
     "output_type": "stream",
     "text": [
      "Processed prompts: 100%|██████████| 1/1 [00:05<00:00,  5.61s/it, est. speed input: 278.36 toks/s, output: 37.60 toks/s]\n"
     ]
    },
    {
     "name": "stdout",
     "output_type": "stream",
     "text": [
      "Brief Hospital Course\n",
      "The patient with a history of morbid obesity s/p laparoscopic Roux-en-Y gastric bypass and cholecystectomy presents with acute onset of epigastric/chest pain. She was admitted to the medical floor for evaluation of acute epigastric pain, suspected gallstone pancreatitis, and possible esophageal reflux disease.\n",
      "\n",
      "Problem-based hospital course---\n",
      "# Epigastric pain --- The patient presented with sharp, constant, and some radiation into the left shoulder. She denied fevers/chills/nausea/vomiting.\n",
      "[Summarize the related diagnostic work up and notable results]. \n",
      "The patient underwent imaging studies, including abdominal/pelvic CT scan, which showed no evidence of acute intra-abdominal pathology. An upper GI endoscopy was also performed, which revealed normal mucosa in the whole esophagus, evidence of a previous Roux-en-Y gastric bypass, and normal gastro-jejunal anastomosis.\n",
      "\n",
      "# Other medical conditions --- None mentioned.\n",
      "\n",
      "\n",
      "Time taken for generate_bhc: 5.6451640129089355 seconds.\n",
      "83 of 250, 33.2% hadm_id: 24303484 **********\n",
      "\n",
      "\n",
      "1266\n"
     ]
    },
    {
     "name": "stderr",
     "output_type": "stream",
     "text": [
      "Processed prompts: 100%|██████████| 1/1 [00:03<00:00,  3.30s/it, est. speed input: 383.77 toks/s, output: 37.29 toks/s]\n"
     ]
    },
    {
     "name": "stdout",
     "output_type": "stream",
     "text": [
      "Brief Hospital Course\n",
      "The patient with a history of multiple myeloma presents with asymptomatic atrial fibrillation. They were admitted to the hospital for atrial fibrillation, initial diagnosis, and treatment. The patient was diagnosed with paroxysmal atrial fibrillation at discharge.\n",
      "\n",
      "Problem-based hospital course---\n",
      "# Atrial Fibrillation --- The patient presented with asymptomatic atrial fibrillation. The diagnostic work up included an EKG, which showed atrial fibrillation with rapid ventricular response. The patient returned to sinus rhythm without interventions. The related medical treatment course included no interventions.\n",
      "\n",
      "\n",
      "Time taken for generate_bhc: 3.325377941131592 seconds.\n",
      "84 of 250, 33.6% hadm_id: 23576885 **********\n",
      "\n",
      "\n",
      "2276\n"
     ]
    },
    {
     "name": "stderr",
     "output_type": "stream",
     "text": [
      "Processed prompts: 100%|██████████| 1/1 [00:06<00:00,  6.83s/it, est. speed input: 333.08 toks/s, output: 37.17 toks/s]\n"
     ]
    },
    {
     "name": "stdout",
     "output_type": "stream",
     "text": [
      "Brief Hospital Course\n",
      "The patient with a history of EtOH cirrhosis, ascites, HE, SBP, variceal bleeding, and portopulmonary hypertension presents with bright red blood per rectum. She was admitted to the intensive care unit for gastrointestinal bleeding, dilated common hepatic duct, and alcoholic cirrhosis.\n",
      "\n",
      "Problem-based hospital course---\n",
      "# Gastrointestinal bleeding --- \n",
      "The patient presented with bright red blood per rectum. She was diagnosed with gastrointestinal bleeding. The diagnostic work up included an EGD, which showed esophageal varices, abnormal mucosa in the stomach, angioectasia in the antrum, and otherwise normal EGD to third part of the duodenum. The patient received IV Pantoprazole, IV Octreotide Acetate, and IV CeftriaXONE. The patient's symptoms improved, and she was transferred to the floor.\n",
      "\n",
      "# Clostridium difficile diarrhea --- \n",
      "The patient was diagnosed with Clostridium difficile diarrhea. The diagnostic work up included a stool culture, which was negative. The patient received PO Vancomycin. The patient's symptoms improved, and she was discharged with a diagnosis of Clostridium difficile diarrhea.\n",
      "\n",
      "\n",
      "Time taken for generate_bhc: 6.85585355758667 seconds.\n",
      "85 of 250, 34.0% hadm_id: 24348313 **********\n",
      "\n",
      "\n",
      "1152\n"
     ]
    },
    {
     "name": "stderr",
     "output_type": "stream",
     "text": [
      "Processed prompts: 100%|██████████| 1/1 [00:04<00:00,  4.67s/it, est. speed input: 246.97 toks/s, output: 37.95 toks/s]\n"
     ]
    },
    {
     "name": "stdout",
     "output_type": "stream",
     "text": [
      "Brief Hospital Course\n",
      "The patient with a history of mixed connective tissue disease on 10mg daily prednisone and azathioprine presents with 4 days of clear nasal drainage, productive cough (green and clear), fevers, and vomited once day prior to admission. They were admitted to the medical floor for community-acquired pneumonia, initially diagnosed with pneumonia, unspecified organism, and later confirmed with lingular and left lower lobe pneumonia.\n",
      "\n",
      "Problem-based hospital course---\n",
      "# Pneumonia --- The patient presented with symptoms of pneumonia, including fever, productive cough, and clear nasal drainage. The diagnostic work up included admission labs, which showed leukocytosis, and imaging studies, which confirmed the diagnosis of lingular and left lower lobe pneumonia. The patient received treatment with antibiotics and follow-up radiographs were recommended to ensure resolution of the finding.\n",
      "\n",
      "\n",
      "Time taken for generate_bhc: 4.690805435180664 seconds.\n",
      "86 of 250, 34.4% hadm_id: 21147243 **********\n",
      "\n",
      "\n",
      "1613\n"
     ]
    },
    {
     "name": "stderr",
     "output_type": "stream",
     "text": [
      "Processed prompts: 100%|██████████| 1/1 [00:06<00:00,  6.22s/it, est. speed input: 259.50 toks/s, output: 37.81 toks/s]\n"
     ]
    },
    {
     "name": "stdout",
     "output_type": "stream",
     "text": [
      "Brief Hospital Course\n",
      "The patient with a history of coronary artery disease (CAD) and hyperlipidemia presents with substernal chest pain. He was admitted to the cardiology unit for non-ST elevation myocardial infarction (NSTEMI) and coronary artery disease.\n",
      "\n",
      "Problem-based hospital course---\n",
      "# Coronary Artery Disease --- The patient presented with persistent chest pain of 10/10 severity, which was constant and not worsened with exertion. He had a history of CAD with prior PCI and was taking Plavix until recently. The diagnostic work up included troponin testing, which showed a level of 0.13. The patient was treated with heparin, nitroglycerin, and morphine.\n",
      "\n",
      "# Non-ST Elevation Myocardial Infarction --- The patient presented with chest pain and was diagnosed with NSTEMI based on the troponin level. The diagnostic work up included a cardiac catheterization, which showed a distal RCA lesion that was stented with a drug-eluting stent (DES). The patient was treated with heparin, nitroglycerin, and morphine.\n",
      "\n",
      "\n",
      "Time taken for generate_bhc: 6.248524904251099 seconds.\n",
      "87 of 250, 34.8% hadm_id: 25567083 **********\n",
      "\n",
      "\n",
      "1384\n"
     ]
    },
    {
     "name": "stderr",
     "output_type": "stream",
     "text": [
      "Processed prompts: 100%|██████████| 1/1 [00:05<00:00,  5.14s/it, est. speed input: 269.26 toks/s, output: 37.74 toks/s]\n"
     ]
    },
    {
     "name": "stdout",
     "output_type": "stream",
     "text": [
      "Brief Hospital Course\n",
      "The patient with a history of left temporal CVA with residual fluent aphasia and vascular dementia presents with new onset seizure. He was admitted to the Neurology service for evaluation and management of seizures.\n",
      "\n",
      "The patient was initially diagnosed with unspecified convulsions.\n",
      "\n",
      "Problem-based hospital course---\n",
      "# Seizures --- The patient presented with two seizures, one generalized tonic-clonic (GTC) lasting 1 minute, and another seizure at CT scan. He received Ativan twice to stop the seizures.\n",
      "The diagnostic work up included blood tests, which showed elevated troponins, and imaging studies, including MRI Brain/MRA, which showed no evidence of acute infarction or intracranial mass, but did show a large chronic left MCA territory infarction.\n",
      "\n",
      "# Other medical conditions --- The patient's blood tests showed elevated creatine kinase (CK) levels, and his blood glucose levels were elevated, but within normal range.\n",
      "\n",
      "\n",
      "Time taken for generate_bhc: 5.163552522659302 seconds.\n",
      "88 of 250, 35.2% hadm_id: 25698168 **********\n",
      "\n",
      "\n",
      "1357\n"
     ]
    },
    {
     "name": "stderr",
     "output_type": "stream",
     "text": [
      "Processed prompts: 100%|██████████| 1/1 [00:03<00:00,  3.90s/it, est. speed input: 347.91 toks/s, output: 37.17 toks/s]\n"
     ]
    },
    {
     "name": "stdout",
     "output_type": "stream",
     "text": [
      "Brief Hospital Course\n",
      "The patient with a history of dementia, prostate and bladder cancer, and longstanding problems with memory and occasional confusion presents with new onset right sided weakness. He was admitted to the Neurology service for evaluation and management of suspected stroke.\n",
      "\n",
      "Problem-based hospital course---\n",
      "# Cerebral thrombosis with infarct --- The patient presented with new onset right sided weakness, slurring of speech, and difficulty walking. The diagnostic work up included laboratory tests, including UA and BMP, which showed elevated WBCs and bacteria. The patient also underwent NCHCT and MRI, which revealed a small left basal ganglia infarct. The patient received supportive care and was treated with aspirin.\n",
      "\n",
      "\n",
      "Time taken for generate_bhc: 3.927229404449463 seconds.\n",
      "89 of 250, 35.6% hadm_id: 21102518 **********\n",
      "\n",
      "\n",
      "2426\n"
     ]
    },
    {
     "name": "stderr",
     "output_type": "stream",
     "text": [
      "Processed prompts: 100%|██████████| 1/1 [00:08<00:00,  8.85s/it, est. speed input: 274.26 toks/s, output: 37.53 toks/s]\n"
     ]
    },
    {
     "name": "stdout",
     "output_type": "stream",
     "text": [
      "Brief Hospital Course\n",
      "The patient with a history of no significant medical history or existing medical problems presents with 4 days of malaise, low-grade fevers, and diffuse body aches with abdominal pain. They were admitted to the Emergency Department for evaluation of their symptoms, initial diagnosis, and treatment.\n",
      "\n",
      "Problem-based hospital course---\n",
      "# Fever and diffuse body aches --- The patient presented with a fever of 100.9°F and diffuse body aches, which were severe and worsening. The diagnostic work-up included a complete blood count, which showed a white blood cell count of 7.0 with 95% polymorphonuclear cells, and a lactate level of 3.7, which improved to 2.4 with one liter of intravenous fluid. The patient was treated with 2 liters of normal saline, 5mg of IV morphine, zofran, 1g of tylenol, vanc/cefepime, and calcium carbonate.\n",
      "\n",
      "# Abdominal pain --- The patient reported diffuse abdominal pain, which was a dull pain throughout the abdomen without nausea, vomiting, or diarrhea. The diagnostic work-up included a complete blood count, which showed a white blood cell count of 7.0 with 95% polymorphonuclear cells, and a lactate level of 3.7, which improved to 2.4 with one liter of intravenous fluid. The patient was treated with 2 liters of normal saline, 5mg of IV morphine, zofran, 1g of tylenol, vanc/cefepime, and calcium carbonate.\n",
      "\n",
      "\n",
      "Time taken for generate_bhc: 8.875004291534424 seconds.\n",
      "90 of 250, 36.0% hadm_id: 24387869 **********\n",
      "\n",
      "\n",
      "1401\n"
     ]
    },
    {
     "name": "stderr",
     "output_type": "stream",
     "text": [
      "Processed prompts: 100%|██████████| 1/1 [00:05<00:00,  5.97s/it, est. speed input: 234.80 toks/s, output: 37.88 toks/s]\n"
     ]
    },
    {
     "name": "stdout",
     "output_type": "stream",
     "text": [
      "Brief Hospital Course\n",
      "The patient with a history of chronic heart failure with reduced ejection fraction s/p VAD placement presents with lightheadedness. They were admitted to the cardiology unit for chest pain, unspecified, and initial diagnosis of chronic heart failure with reduced ejection fraction.\n",
      "\n",
      "Problem-based hospital course---\n",
      "# Chronic heart failure with reduced ejection fraction --- The patient presented with lightheadedness, which was evaluated with laboratory tests and imaging studies.\n",
      "The diagnostic work up included laboratory tests, including complete blood count, electrolyte panel, and liver function tests, which showed elevated LDH and AST levels. The patient's troponin level was elevated, indicating cardiac injury.\n",
      "The related medical treatment course included administration of medications to manage heart failure, including diuretics and vasodilators.\n",
      "\n",
      "# Chest pain, unspecified --- The patient presented with chest pain, which was evaluated with electrocardiogram and cardiac enzymes.\n",
      "The diagnostic work up included electrocardiogram and cardiac enzymes, which showed no significant changes.\n",
      "The related medical treatment course included administration of pain medication and antiplatelet agents.\n",
      "\n",
      "\n",
      "Time taken for generate_bhc: 5.996948003768921 seconds.\n",
      "91 of 250, 36.4% hadm_id: 28993343 **********\n",
      "\n",
      "\n",
      "2629\n"
     ]
    },
    {
     "name": "stderr",
     "output_type": "stream",
     "text": [
      "Processed prompts: 100%|██████████| 1/1 [00:06<00:00,  6.44s/it, est. speed input: 408.51 toks/s, output: 36.36 toks/s]\n"
     ]
    },
    {
     "name": "stdout",
     "output_type": "stream",
     "text": [
      "Brief Hospital Course\n",
      "The patient with a history of ovarian cancer, diagnosed s/p TAH/SBO w/ debulking, presents with abdominal pain and vomiting. She was admitted to the medical floor for evaluation and management of her symptoms.\n",
      "\n",
      "The patient was initially diagnosed with an unspecified intestinal obstruction, which was later confirmed as a partial small bowel obstruction. She underwent conservative management, including bowel rest and hydration, and was treated with BKM120 (40mg QD) and a PARP inhibitor Olaparib (200mg BID).\n",
      "\n",
      "Problem-based hospital course---\n",
      "\n",
      "# Partial Small Bowel Obstruction --- The patient presented with abdominal pain and vomiting, which was initially thought to be related to a small bowel obstruction. A CT A/P without IV contrast showed possible early SBO. The patient's symptoms improved with conservative management, including bowel rest and hydration.\n",
      "\n",
      "# Ovarian Cancer --- The patient has a history of ovarian cancer, diagnosed s/p TAH/SBO w/ debulking. She is currently being treated with BKM120 (40mg QD) and a PARP inhibitor Olaparib (200mg BID).\n",
      "\n",
      "\n",
      "Time taken for generate_bhc: 6.483964920043945 seconds.\n",
      "92 of 250, 36.8% hadm_id: 24434099 **********\n",
      "\n",
      "\n",
      "1642\n"
     ]
    },
    {
     "name": "stderr",
     "output_type": "stream",
     "text": [
      "Processed prompts: 100%|██████████| 1/1 [00:06<00:00,  6.31s/it, est. speed input: 260.19 toks/s, output: 37.87 toks/s]\n"
     ]
    },
    {
     "name": "stdout",
     "output_type": "stream",
     "text": [
      "Brief Hospital Course\n",
      "The patient with a history of BOOP and COPD on chronic oxygen, breast cancer on letrozole, and a-fib on coumadin presents with nausea, vomiting, and spitting up blood. She was admitted to the Medical Intensive Care Unit for multifocal pneumonia, aspiration, or cryptogenic organizing pneumonia, and was initially diagnosed with abdominal pain other specified.\n",
      "\n",
      "Problem-based hospital course---\n",
      "# Multifocal pneumonia --- The patient presented with multifocal consolidative opacities involving the left upper lobe, lingula, and right upper lobe, new or increased compared to the previous chest CT, concerning for multifocal pneumonia, aspiration, or cryptogenic organizing pneumonia.\n",
      "The diagnostic work up included a CT chest, which showed multifocal opacities, and a CT A/P, which showed probable chronic dissection of the infrarenal abdominal aorta. The notable results were leukocytosis to 20.7, and abnormal liver function tests. The patient was treated with IV fluids, levaquin, and protonix.\n",
      "\n",
      "# Atrial fibrillation --- The patient presented with atrial fibrillation, which was managed medically.\n",
      "\n",
      "\n",
      "Time taken for generate_bhc: 6.337842226028442 seconds.\n",
      "93 of 250, 37.2% hadm_id: 25995757 **********\n",
      "\n",
      "\n",
      "1406\n"
     ]
    },
    {
     "name": "stderr",
     "output_type": "stream",
     "text": [
      "Processed prompts: 100%|██████████| 1/1 [00:05<00:00,  5.57s/it, est. speed input: 252.50 toks/s, output: 37.89 toks/s]\n"
     ]
    },
    {
     "name": "stdout",
     "output_type": "stream",
     "text": [
      "Brief Hospital Course\n",
      "The patient with a history of previous right pneumothorax and moderate enlargement of cardiac silhouette presents with dyspnea. They were admitted to the intensive care unit for evaluation and treatment of a small pericardial effusion and right pleural effusion.\n",
      "\n",
      "The patient was initially diagnosed with shortness of breath, pleural effusion NOS, and pericardial disease NOS. They were diagnosed with a small pericardial effusion and a small right pleural effusion.\n",
      "\n",
      "Problem-based hospital course---\n",
      "# Right Pleural Effusion --- The patient presented with a small right pleural effusion. The diagnostic work up included a CTA which revealed a moderate right effusion. The patient underwent further evaluation and treatment in the hospital.\n",
      "\n",
      "# Pericardial Disease --- The patient presented with a small pericardial effusion. The diagnostic work up included an echocardiogram which showed a small pericardial effusion. The patient underwent further evaluation and treatment in the hospital.\n",
      "\n",
      "\n",
      "Time taken for generate_bhc: 5.601999759674072 seconds.\n",
      "94 of 250, 37.6% hadm_id: 29991915 **********\n",
      "\n",
      "\n",
      "1929\n"
     ]
    },
    {
     "name": "stderr",
     "output_type": "stream",
     "text": [
      "Processed prompts: 100%|██████████| 1/1 [00:06<00:00,  6.53s/it, est. speed input: 295.36 toks/s, output: 37.36 toks/s]\n"
     ]
    },
    {
     "name": "stdout",
     "output_type": "stream",
     "text": [
      "Brief Hospital Course\n",
      "The patient with a history of proctocolitis and biliary dilation \n",
      "presents with symptoms of vasovagal syncope. They were admitted \n",
      "to the Medical Intensive Care Unit for evaluation and management \n",
      "of their symptoms, initial diagnosis of syncope and collapse, \n",
      "and further evaluation of their proctocolitis and biliary \n",
      "dilation.\n",
      "\n",
      "Problem-based hospital course---\n",
      "# Vasovagal Syncope --- \n",
      "The patient presented with symptoms of vasovagal syncope, \n",
      "including lightheadedness, dizziness, and near-fall. The \n",
      "diagnostic work up included a thorough physical examination, \n",
      "electrolyte panel, and cardiac enzymes. The notable results \n",
      "included normal cardiac enzymes and electrolyte panel. The \n",
      "patient was treated with fluids and observation.\n",
      "\n",
      "# Proctocolitis --- \n",
      "The patient presented with symptoms of proctocolitis, including \n",
      "abdominal pain, diarrhea, and rectal bleeding. The diagnostic \n",
      "work up included a thorough physical examination, stool \n",
      "examination, and imaging studies. The notable results included \n",
      "diffuse proctocolitis on imaging studies. The patient was treated \n",
      "with antibiotics and supportive care.\n",
      "\n",
      "\n",
      "Time taken for generate_bhc: 6.560629367828369 seconds.\n",
      "95 of 250, 38.0% hadm_id: 29980084 **********\n",
      "\n",
      "\n",
      "1139\n"
     ]
    },
    {
     "name": "stderr",
     "output_type": "stream",
     "text": [
      "Processed prompts: 100%|██████████| 1/1 [00:05<00:00,  5.59s/it, est. speed input: 203.82 toks/s, output: 38.30 toks/s]\n"
     ]
    },
    {
     "name": "stdout",
     "output_type": "stream",
     "text": [
      "Brief Hospital Course\n",
      "The patient with a history of hypertension and MGUS presents with left leg erythema and discomfort. He was admitted to the medical ward for gram negative bacteremia, cellulitis, and sepsis. The patient was initially diagnosed with septicemia NOS, cellulitis of leg, sepsis, and accident NOS.\n",
      "\n",
      "Problem-based hospital course---\n",
      "# Gram negative bacteremia --- The patient presented with spreading erythema along the left thigh. Blood cultures returned positive with gram negative rods.\n",
      "The related diagnostic work up included bilateral lower extremity ultrasounds which were negative. The related medical treatment course included broad spectrum antibiotics, including vancomycin, cephalexin, and doxycycline.\n",
      "\n",
      "# Cellulitis --- The patient presented with erythema and discomfort of the left leg. The diagnostic work up included bilateral lower extremity ultrasounds which were negative. The related medical treatment course included broad spectrum antibiotics, including vancomycin, cephalexin, and doxycycline.\n",
      "\n",
      "\n",
      "Time taken for generate_bhc: 5.610585451126099 seconds.\n",
      "96 of 250, 38.4% hadm_id: 24997127 **********\n",
      "\n",
      "\n",
      "1075\n"
     ]
    },
    {
     "name": "stderr",
     "output_type": "stream",
     "text": [
      "Processed prompts: 100%|██████████| 1/1 [00:05<00:00,  5.73s/it, est. speed input: 187.84 toks/s, output: 38.44 toks/s]\n"
     ]
    },
    {
     "name": "stdout",
     "output_type": "stream",
     "text": [
      "Brief Hospital Course\n",
      "The patient with a history of transient ischemic attacks (TIAs) and facial weakness presents with a subjective sensation of a left facial droop this morning. She was admitted to the Neurology service for evaluation and management of the facial droop and decreased verbal output.\n",
      "\n",
      "Problem-based hospital course---\n",
      "# Facial weakness --- The patient presented with a left facial droop that was initially noticed by her daughter. The patient was unable to provide many details about her previous TIAs, but they did endorse that it involved a left-sided facial droop, but nowhere near as pronounced as what was observed today.\n",
      "The diagnostic work up included a neurology consultation and an MRI of the brain, which read pending. No evidence of infarct was noted, but diffuse atrophy was observed.\n",
      "The patient received no major procedures or treatments.\n",
      "\n",
      "# Other medical conditions --- The patient also reported a tight band sensation around her abdomen that causes a marked squeezing sensation, chronic constipation, and an open rash over her hands, feet, and body that she is currently on prednisone for.\n",
      "\n",
      "\n",
      "Time taken for generate_bhc: 5.747114181518555 seconds.\n",
      "97 of 250, 38.8% hadm_id: 26292595 **********\n",
      "\n",
      "\n",
      "2066\n"
     ]
    },
    {
     "name": "stderr",
     "output_type": "stream",
     "text": [
      "Processed prompts: 100%|██████████| 1/1 [00:05<00:00,  5.17s/it, est. speed input: 399.65 toks/s, output: 36.56 toks/s]\n"
     ]
    },
    {
     "name": "stdout",
     "output_type": "stream",
     "text": [
      "Brief Hospital Course\n",
      "The patient with a history of anoxic brain injury, seizure disorder, SIADH, chronic contractions, and baseline hypothermia presents with hypothermia, unsteady gait, and altered mental status. He was admitted to the Intensive Care Unit for hypothermia, anoxic encephalopathy, and potential urinary tract infection.\n",
      "\n",
      "Problem-based hospital course---\n",
      "# Hypothermia --- The patient presented with mild hypothermia (T94.9) on triage, which worsened to T90.86. He was given IV fluids and antibiotics, and his temperature improved to T95.\n",
      "\n",
      "# Anoxic Encephalopathy --- The patient was diagnosed with anoxic encephalopathy due to his anoxic brain injury and altered mental status.\n",
      "\n",
      "# Urinary Tract Infection --- The patient was initially suspected to have a urinary tract infection, but the urine culture was negative.\n",
      "\n",
      "\n",
      "Time taken for generate_bhc: 5.212064743041992 seconds.\n",
      "98 of 250, 39.2% hadm_id: 23504194 **********\n",
      "\n",
      "\n",
      "1618\n"
     ]
    },
    {
     "name": "stderr",
     "output_type": "stream",
     "text": [
      "Processed prompts: 100%|██████████| 1/1 [00:05<00:00,  5.95s/it, est. speed input: 272.11 toks/s, output: 37.50 toks/s]\n"
     ]
    },
    {
     "name": "stdout",
     "output_type": "stream",
     "text": [
      "Brief Hospital Course\n",
      "The patient with a history of metastatic stage 4 lung cancer, on chemo, known left-sided rib fractures with increasing chest pain and productive cough presents with cough, chest pain. They were admitted to the medical floor for worsening chest pain, suspected pneumonia, and worsening metastatic disease.\n",
      "\n",
      "Problem-based hospital course---\n",
      "# Metastatic Lung Cancer --- The patient presented with worsening chest pain and productive cough, which is a worsening of their known metastatic disease. The diagnostic work up included a CT-PA, which was negative for acute PE, though poor study. The related medical treatment course included maintenance nab-paclitaxel treatment and chronic opiate therapy for pain.\n",
      "\n",
      "# Healthcare Associated Pneumonia --- The patient presented with cough, chest pain, and worsening chest pain, which is concerning for worsening metastatic disease. The diagnostic work up included a CXR, which showed little overall change, and a CTA, which showed worsening left perihilar soft tissue with new bilateral ground glass surrounding pulmonary nodules. The related medical treatment course included antibiotics for suspected pneumonia.\n",
      "\n",
      "\n",
      "Time taken for generate_bhc: 5.973071813583374 seconds.\n",
      "99 of 250, 39.6% hadm_id: 25779173 **********\n",
      "\n",
      "\n",
      "1274\n"
     ]
    },
    {
     "name": "stderr",
     "output_type": "stream",
     "text": [
      "Processed prompts: 100%|██████████| 1/1 [00:05<00:00,  5.19s/it, est. speed input: 245.54 toks/s, output: 37.97 toks/s]\n"
     ]
    },
    {
     "name": "stdout",
     "output_type": "stream",
     "text": [
      "Brief Hospital Course\n",
      "The patient with a history of Crohn's disease with two prior ileal resections presents with acute onset epigastric and right lower quadrant abdominal pain. He was admitted to the hospital for distal small bowel obstruction epicentered in the right lower quadrant near the surgical anastomosis with fecalized small bowel loops. The patient was initially diagnosed with distal small bowel obstruction and was treated with morphine and dilaudid in the emergency room with some improvement in his symptoms.\n",
      "\n",
      "Problem-based hospital course---\n",
      "# Distal small bowel obstruction --- \n",
      "The patient presented with acute onset epigastric and right lower quadrant abdominal pain. The diagnostic work up included a CT abdomen pelvis that revealed \"Distal small bowel obstruction epicentered in the right lower quadrant near the surgical anastomosis with fecalized small bowel.\" The patient was treated with morphine and dilaudid in the emergency room with some improvement in his symptoms.\n",
      "\n",
      "\n",
      "Time taken for generate_bhc: 5.2240660190582275 seconds.\n",
      "100 of 250, 40.0% hadm_id: 25090148 **********\n",
      "\n",
      "\n",
      "2477\n"
     ]
    },
    {
     "name": "stderr",
     "output_type": "stream",
     "text": [
      "Processed prompts: 100%|██████████| 1/1 [00:08<00:00,  8.17s/it, est. speed input: 303.32 toks/s, output: 37.23 toks/s]\n"
     ]
    },
    {
     "name": "stdout",
     "output_type": "stream",
     "text": [
      "Brief Hospital Course\n",
      "The patient with a history of anaplastic astrocytoma, CAD with pacemaker in place, DVT on ASA, + smoker, OSA off CPAP, and L temporal anaplastic astrocytoma presents with an episode of confusion, increased word finding difficulty, and ? hemorrhage in the brain. He was admitted to the Neurology service for evaluation and management of his symptoms.\n",
      "\n",
      "The patient was initially diagnosed with altered mental status, unspecified, and was treated with dexamethasone and zonisamide. He was also started on lisinopril for hypertension. However, his symptoms worsened, and he was diagnosed with seizure.\n",
      "\n",
      "Problem-based hospital course---\n",
      "\n",
      "# Anaplastic Astrocytoma --- The patient presented with an episode of confusion, increased word finding difficulty, and ? hemorrhage in the brain. He was diagnosed with anaplastic astrocytoma and was treated with TMZ and Avastin IV infusions. The patient's symptoms worsened, and he was admitted to the hospital for further evaluation and management.\n",
      "\n",
      "# Hypertension --- The patient's blood pressure was difficult to control, and he was diagnosed with hypertension. He was started on lisinopril and his blood pressure was controlled.\n",
      "\n",
      "# Seizure --- The patient presented with an episode of confusion, increased word finding difficulty, and ? hemorrhage in the brain. He was diagnosed with seizure and was treated with dexamethasone and zonisamide.\n",
      "\n",
      "\n",
      "Time taken for generate_bhc: 8.197137832641602 seconds.\n",
      "101 of 250, 40.4% hadm_id: 21393530 **********\n",
      "\n",
      "\n",
      "1236\n"
     ]
    },
    {
     "name": "stderr",
     "output_type": "stream",
     "text": [
      "Processed prompts: 100%|██████████| 1/1 [00:04<00:00,  4.57s/it, est. speed input: 270.48 toks/s, output: 37.86 toks/s]\n"
     ]
    },
    {
     "name": "stdout",
     "output_type": "stream",
     "text": [
      "Brief Hospital Course\n",
      "The patient with a history of prostate cancer presents with dyspnea. They were admitted to the hospital for evaluation of right lower extremity swelling and a possible deep venous thrombosis.\n",
      "for evaluation of right lower extremity swelling and a possible deep venous thrombosis, initial diagnosis of enlarged lymph node, and LN biopsy.\n",
      "Enlarged Lymph Node\n",
      "\n",
      "Problem-based hospital course---\n",
      "# Enlarged Lymph Node --- The patient presented with right lower extremity swelling and tenderness over medial thigh.\n",
      "[Summarize the related diagnostic work up and notable results]. \n",
      "The patient underwent a right lower extremity ultrasound and CT pelvis with contrast, which showed no evidence of deep venous thrombosis and an enlarged distal right external iliac lymph node with a small cystic focus suggesting necrosis.\n",
      "\n",
      "\n",
      "Time taken for generate_bhc: 4.598629713058472 seconds.\n",
      "102 of 250, 40.8% hadm_id: 20289285 **********\n",
      "\n",
      "\n",
      "1598\n"
     ]
    },
    {
     "name": "stderr",
     "output_type": "stream",
     "text": [
      "Processed prompts: 100%|██████████| 1/1 [00:07<00:00,  7.76s/it, est. speed input: 205.90 toks/s, output: 38.14 toks/s]\n"
     ]
    },
    {
     "name": "stdout",
     "output_type": "stream",
     "text": [
      "Brief Hospital Course\n",
      "The patient with a history of dilated cardiomyopathy with EF 11%, EtOH cirrhosis, HTN, DM, and sarcoidosis presents with 1 week of shortness of breath and dyspnea on exertion. He was admitted to the cardiology unit for evaluation and management of worsening heart failure.\n",
      "\n",
      "The patient was initially diagnosed with heart failure, unspecified, and was treated with iv Lasix 20 mg x 2 in the ED. He received no major procedures or invasive treatments during his hospital stay.\n",
      "\n",
      "Problem-based hospital course---\n",
      "# Systolic Congestive Heart Failure --- The patient presented with worsening shortness of breath and dyspnea on exertion, with a reported 10 lb weight gain over the past week. He had a history of poor medication compliance and was found to have a BNP of 2442. He received iv Lasix 20 mg x 2 in the ED and was diagnosed with systolic congestive heart failure.\n",
      "\n",
      "# Cirrhosis --- The patient had a history of EtOH cirrhosis and was found to have a BNP of 2442, indicating possible liver dysfunction.\n",
      "\n",
      "# Hypertension --- The patient had a history of hypertension and was found to have a BNP of 2442, indicating possible hypertension.\n",
      "\n",
      "# Diabetes --- The patient had a history of diabetes and was found to have a BNP of 2442, indicating possible diabetes.\n",
      "\n",
      "\n",
      "Time taken for generate_bhc: 7.7914323806762695 seconds.\n",
      "103 of 250, 41.2% hadm_id: 26670180 **********\n",
      "\n",
      "\n",
      "1610\n"
     ]
    },
    {
     "name": "stderr",
     "output_type": "stream",
     "text": [
      "Processed prompts: 100%|██████████| 1/1 [00:05<00:00,  5.49s/it, est. speed input: 293.51 toks/s, output: 37.55 toks/s]\n"
     ]
    },
    {
     "name": "stdout",
     "output_type": "stream",
     "text": [
      "Brief Hospital Course\n",
      "The patient with a history of asthma/COPD, allergies, osteoarthritis, and bipolar disorder presents with shortness of breath. She was admitted to the observation unit for evaluation of pneumonia or chronic heart failure.\n",
      "\n",
      "Problem-based hospital course---\n",
      "# Asthma exacerbation --- The patient presented with shortness of breath, which began 5 days ago with runny nose. She had a frequent productive cough with white sputum and had taken mucinex, cough suppressants, and Tylenol at home, which helped. She was prescribed a nasal spray by her PCP, which provided some improvement.\n",
      "\n",
      "[Summarize the related diagnostic work up and notable results]. The patient was treated with nebs, magnesium, and azithromycin in the ED. However, room air saturation remained at 87% with ambulation, leading to admission to the observation unit.\n",
      "\n",
      "[Summarize the related medical or surgical treatment course]. The patient did not undergo any major procedures.\n",
      "\n",
      "\n",
      "Time taken for generate_bhc: 5.514667749404907 seconds.\n",
      "104 of 250, 41.6% hadm_id: 26239204 **********\n",
      "\n",
      "\n",
      "1151\n"
     ]
    },
    {
     "name": "stderr",
     "output_type": "stream",
     "text": [
      "Processed prompts: 100%|██████████| 1/1 [00:04<00:00,  4.58s/it, est. speed input: 251.39 toks/s, output: 37.78 toks/s]\n"
     ]
    },
    {
     "name": "stdout",
     "output_type": "stream",
     "text": [
      "Brief Hospital Course\n",
      "The patient with a history of cesarean scar ectopic pregnancy presents with cramping and spotting. She was admitted to the maternal-fetal medicine service for consultation and management of her recent diagnosis of a cesarean scar ectopic.\n",
      "\n",
      "Problem-based hospital course---\n",
      "# Cesarean Scar Ectopic Pregnancy --- The patient presented with cramping and spotting. She was diagnosed with a cesarean scar ectopic pregnancy. The diagnostic work up included laboratory tests, including complete blood count, blood chemistry, and urinalysis. Notable results included a complete blood count with a white blood cell count of 6.1, a hemoglobin level of 11.3, and a platelet count of ___.\n",
      "The patient underwent an intrasac injection of methotrexate as a treatment for the ectopic pregnancy.\n",
      "\n",
      "\n",
      "Time taken for generate_bhc: 4.6156134605407715 seconds.\n",
      "105 of 250, 42.0% hadm_id: 26485477 **********\n",
      "\n",
      "\n",
      "1451\n"
     ]
    },
    {
     "name": "stderr",
     "output_type": "stream",
     "text": [
      "Processed prompts: 100%|██████████| 1/1 [00:05<00:00,  5.64s/it, est. speed input: 257.44 toks/s, output: 37.79 toks/s]\n"
     ]
    },
    {
     "name": "stdout",
     "output_type": "stream",
     "text": [
      "Brief Hospital Course\n",
      "The patient with a history of chronic lymphocytic leukemia (CLL) presents with scalp swelling and malaise. He was admitted to the emergency department for evaluation of a head mass. The patient was initially diagnosed with lymphadenopathy, CLL, and was treated with supportive care.\n",
      "\n",
      "Problem-based hospital course---\n",
      "# Scalp swelling --- The patient presented with a scalp swelling that was not painful and was not accompanied by any other symptoms.\n",
      "[Summarize the related diagnostic work up and notable results]. \n",
      "The patient underwent a CT scan of the neck with contrast, which showed diffuse bilateral prominent cervical lymph nodes with conglomerate masses of para-aortic and right level 2 lymph nodes, consistent with the patient's reported history of CLL.\n",
      "\n",
      "# Malaise --- The patient presented with malaise, which was treated with supportive care.\n",
      "[Summarize the related diagnostic work up and notable results]. \n",
      "The patient underwent a CT scan of the abdomen and pelvis, which showed no abdominal or pelvic lymphadenopathy by CT size criteria.\n",
      "\n",
      "\n",
      "Time taken for generate_bhc: 5.661015748977661 seconds.\n",
      "106 of 250, 42.4% hadm_id: 29210582 **********\n",
      "\n",
      "\n",
      "1976\n"
     ]
    },
    {
     "name": "stderr",
     "output_type": "stream",
     "text": [
      "Processed prompts: 100%|██████████| 1/1 [00:12<00:00, 12.63s/it, est. speed input: 156.56 toks/s, output: 38.43 toks/s]\n"
     ]
    },
    {
     "name": "stdout",
     "output_type": "stream",
     "text": [
      "Brief Hospital Course\n",
      "The patient with a history of COPD, hypertension, and CKD presents with leg pain. She was admitted to the BI for an open right tibial fracture in c/b infection over the surgical site with subsequent multiple washouts/Vac placement and MRSA wound infection requiring vancomycin. She was later switched to daptomycin because of eosinophilia and completed a 6-week course. She was again admitted in ___ for a free flap and skin graft over the surgical site taken from her left thigh. Her third admission was in ___ of this year when she started developing serous drainage from the donor site. However, on evaluation it was thought that was likely seroma and will just need outpatient follow-up. Pt was discharged from rehab last week. Currently, the pt is weight-bearing on the right lower limb as tolerated. She is able to ambulate to the restroom with assistance. Pt noticed swelling and redness of right lower leg for past 3 days which is progressive. She also complains of pain of her RLE. Pt denies any fevers/chills/sweats. She was seen in ___ clinic today where they were concerned for infection and sent in to the ED.\n",
      "\n",
      "Problem-based hospital course---\n",
      "\n",
      "# Leg pain --- The patient presented with progressive swelling and redness of the right lower leg with pain. The patient was initially evaluated in the ED with initial vitals of 97.9 90 136/76 16 93%. Initial evaluation showed erythema surrounding the right lower extremity flap site. Labs were notable for stable CBC, stable chem 7, lactate 1.0, mildly positive UA, mildly elevated LFTs. Blood cultures and urine culture were sent. The patient received fentanyl 25mcg, daptomycin 250mg, and ceftriaxone 1gm in the ED. On transfer, vitals were ___ 153/80 16 97%.\n",
      "\n",
      "# Cellulitis --- The patient was diagnosed with cellulitis of the leg. The patient underwent US-guided aspiration of a possible small superficial fluid collection identified by ultrasound in the right lower leg. The procedure was performed under ultrasound guidance, and aspiration did not produce any fluid. The pocket was lavaged with a small amount of sterile saline and this fluid was sent for Gram stain and culture by the microbiology laboratory.\n",
      "\n",
      "\n",
      "Time taken for generate_bhc: 12.666804075241089 seconds.\n",
      "107 of 250, 42.8% hadm_id: 27140600 **********\n",
      "\n",
      "\n",
      "1252\n"
     ]
    },
    {
     "name": "stderr",
     "output_type": "stream",
     "text": [
      "Processed prompts: 100%|██████████| 1/1 [00:03<00:00,  3.92s/it, est. speed input: 319.99 toks/s, output: 37.57 toks/s]\n"
     ]
    },
    {
     "name": "stdout",
     "output_type": "stream",
     "text": [
      "Brief Hospital Course\n",
      "The patient with a history of pancreatitis presents with syncope, nausea, and vomiting. They were admitted to the medicine unit for acute pancreatitis, initial diagnosis, and treatment of symptoms.\n",
      "\n",
      "Problem-based hospital course---\n",
      "# Acute Pancreatitis --- The patient presented with severe abdominal pain, nausea, and vomiting. The diagnostic work up included laboratory tests, including blood and urine cultures, which were negative. The patient received supportive care, including fluid resuscitation and pain management.\n",
      "# Small Left Pleural Effusion --- The patient had a small left pleural effusion with overlying atelectasis, which was likely due to pancreatitis. The patient received no specific treatment for this condition.\n",
      "\n",
      "\n",
      "Time taken for generate_bhc: 3.937826633453369 seconds.\n",
      "108 of 250, 43.2% hadm_id: 24900386 **********\n",
      "\n",
      "\n",
      "1764\n"
     ]
    },
    {
     "name": "stderr",
     "output_type": "stream",
     "text": [
      "Processed prompts: 100%|██████████| 1/1 [00:05<00:00,  5.21s/it, est. speed input: 338.79 toks/s, output: 37.45 toks/s]\n"
     ]
    },
    {
     "name": "stdout",
     "output_type": "stream",
     "text": [
      "Brief Hospital Course\n",
      "The patient with a history of hypertension and osteoarthritis presents with a fall at home. She was admitted to the emergency department for evaluation of a possible head injury and a small right frontal hyperdensity on computed tomography (CT) scan. The patient was found to have a laceration of her left hand and a small right frontal hyperdensity on CT scan.\n",
      "\n",
      "Problem-based hospital course---\n",
      "# Head Injury --- The patient presented with a fall at home and was brought to the emergency department with a possible head injury. She was evaluated with a CT scan, which showed a small right frontal hyperdensity. The patient was diagnosed with a mechanical fall and a stable right frontal cavernoma.\n",
      "\n",
      "# Osteoarthritis --- The patient has a history of osteoarthritis, which was evaluated with a CT scan of the spine, which showed mild-to-moderate cervical spine osteoarthritis and multilevel spinal canal narrowing.\n",
      "\n",
      "\n",
      "Time taken for generate_bhc: 5.248801946640015 seconds.\n",
      "109 of 250, 43.6% hadm_id: 27294143 **********\n",
      "\n",
      "\n",
      "2514\n"
     ]
    },
    {
     "name": "stderr",
     "output_type": "stream",
     "text": [
      "Processed prompts: 100%|██████████| 1/1 [00:08<00:00,  8.42s/it, est. speed input: 298.82 toks/s, output: 37.68 toks/s]\n"
     ]
    },
    {
     "name": "stdout",
     "output_type": "stream",
     "text": [
      "Brief Hospital Course\n",
      "The patient with a history of atrial fibrillation, coronary artery disease, hypertension, hyperlipidemia, and mild multiple sclerosis presents with transient quadraparesis. He was admitted to the Neurology service for evaluation and management of his symptoms.\n",
      "\n",
      "The patient was initially diagnosed with a possible stroke, and further evaluation revealed a small acute infarction in the right posterior lateral thalamus extending into the periventricular white matter with no evidence of hemorrhage. He underwent MRI, MRA, and ECHO studies, which showed mild symmetric left ventricular hypertrophy with preserved regional and global biventricular systolic function, trace aortic regurgitation with normal valve morphology, and borderline pulmonary artery systolic hypertension.\n",
      "\n",
      "Problem-based hospital course---\n",
      "\n",
      "# Transient Quadraparesis --- The patient presented with a transient episode of quadraparesis, which lasted about 30 minutes. The diagnostic work-up included MRI, MRA, and ECHO studies, which showed a small acute infarction in the right posterior lateral thalamus. The patient was treated with supportive care and was discharged with a diagnosis of stroke.\n",
      "\n",
      "# Other Medical Conditions --- The patient has a history of atrial fibrillation, coronary artery disease, hypertension, hyperlipidemia, and mild multiple sclerosis. He was treated with Apixaban for atrial fibrillation and had a normal neurological exam 5 days after the head injury. The patient's symptoms of difficulty walking upstairs, riding a bike, and running were attributed to his mild multiple sclerosis.\n",
      "\n",
      "\n",
      "Time taken for generate_bhc: 8.443682670593262 seconds.\n",
      "110 of 250, 44.0% hadm_id: 27195024 **********\n",
      "\n",
      "\n",
      "1743\n"
     ]
    },
    {
     "name": "stderr",
     "output_type": "stream",
     "text": [
      "Processed prompts: 100%|██████████| 1/1 [00:08<00:00,  8.17s/it, est. speed input: 213.30 toks/s, output: 38.18 toks/s]\n"
     ]
    },
    {
     "name": "stdout",
     "output_type": "stream",
     "text": [
      "Brief Hospital Course\n",
      "The patient with a history of sickle cell anemia, right parietal intraparenchymal hemorrhage, partial seizures with secondary generalization, and migraines \n",
      "presents with bilateral hand twitching since the evening of ___, an episode of nocturnal urinary incontinence, and daily headaches. \n",
      "He was admitted to the Neurology service for a new onset of seizure activity, suspected concussion, and possible intracranial hemorrhage.\n",
      "\n",
      "The patient was initially diagnosed with ICD Diagnosis titles OTHER FORMS OF EPILEPSY AND RECURRENT SEIZURES, WITHOUT MENTION OF INTRACTABLE EPILEPSY, ANEMIA NOS.\n",
      "\n",
      "Problem-based hospital course---\n",
      "# Sickle cell anemia --- The patient has a history of sickle cell anemia and was admitted for suspected intracranial hemorrhage.\n",
      "[Summarize the related diagnostic work up and notable results]. \n",
      "[Summarize the related medical or surgical treatment course].\n",
      "\n",
      "# Migraines --- The patient has a history of migraines and was admitted for suspected concussion and possible intracranial hemorrhage.\n",
      "[Summarize the related diagnostic work up and notable results]. \n",
      "[Summarize the related medical or surgical treatment course].\n",
      "\n",
      "# Seizure disorder --- The patient has a history of partial seizures with secondary generalization and was admitted for new onset of seizure activity.\n",
      "[Summarize the related diagnostic work up and notable results]. \n",
      "[Summarize the related medical or surgical treatment course].\n",
      "\n",
      "\n",
      "Time taken for generate_bhc: 8.204633712768555 seconds.\n",
      "111 of 250, 44.4% hadm_id: 21238653 **********\n",
      "\n",
      "\n",
      "3426\n"
     ]
    },
    {
     "name": "stderr",
     "output_type": "stream",
     "text": [
      "Processed prompts: 100%|██████████| 1/1 [00:10<00:00, 10.07s/it, est. speed input: 340.18 toks/s, output: 36.84 toks/s]\n"
     ]
    },
    {
     "name": "stdout",
     "output_type": "stream",
     "text": [
      "Brief Hospital Course\n",
      "The patient with a history of hypertension, diabetes, and supraventricular tachycardia s/p ablation presents with a convulsion. She was admitted to the Neurology floor for evaluation and management of the seizure.\n",
      "\n",
      "The patient was admitted for evaluation of a seizure, initial diagnosis of possible neurocysticercosis, and dural enhancement on MRI. The patient underwent a routine EEG, which showed a normal waking and sleeping state with no focal or epileptiform features.\n",
      "\n",
      "Problem-based hospital course---\n",
      "\n",
      "# Seizure --- The patient presented with a convulsion, which lasted about 5 minutes. The patient had foaming at the mouth but no tongue bite or incontinence. The patient had no history of seizure, no ethanol use, no recent illness or trauma.\n",
      "\n",
      "The patient underwent a CT scan of the head, which showed no evidence of hemorrhage, edema, or mass effect. The patient also underwent an MRI of the head, which showed multiple rounded foci of calcification scattered throughout both hemispheres, with preferential distribution at the gray-white junction, which could represent neurocysticercosis. The MRI also showed dural enhancement in the right temporal fossa anteriorly, possibly consistent with meningioma.\n",
      "\n",
      "The patient underwent an MRI of the spine, which showed moderate spondylosis of the cervical spine, most severe at C4-C5 and C5-C6, with moderate spinal canal narrowing but no cord signal abnormality. The patient also had multi-level neural foraminal narrowing, most severe at C5-C6.\n",
      "\n",
      "The patient was diagnosed with meningioma, neurocysticercosis, and symptomatic seizure at discharge. The patient was initially diagnosed with other forms of epilepsy and recurrent seizures, without mention of intractable epilepsy.\n",
      "\n",
      "\n",
      "Time taken for generate_bhc: 10.106535911560059 seconds.\n",
      "112 of 250, 44.8% hadm_id: 23479932 **********\n",
      "\n",
      "\n",
      "1431\n"
     ]
    },
    {
     "name": "stderr",
     "output_type": "stream",
     "text": [
      "Processed prompts: 100%|██████████| 1/1 [00:05<00:00,  5.04s/it, est. speed input: 283.89 toks/s, output: 37.69 toks/s]\n"
     ]
    },
    {
     "name": "stdout",
     "output_type": "stream",
     "text": [
      "Brief Hospital Course\n",
      "The patient with a history of conversion disorder, manifest in syncope with extensive negative work-up and non-epileptiform seizures, presents with increased frequency of PNES. She was admitted to the medicine service for evaluation and management of her symptoms.\n",
      "\n",
      "Problem-based hospital course---\n",
      "# Conversion Disorder --- The patient presented with increasing episodes of pseudo-seizures and syncope over the past few days. The diagnostic work up included a normal MRI with and without contrast, a negative EEG, both inpatient and outpatient, and a thorough evaluation including EKG, Holter monitor, and TTE, all of which were negative. The patient was started on antibiotics, given IVF, and admitted to medicine.\n",
      "\n",
      "# Urinary Tract Infection --- The patient had a positive urine culture with a WBC count of 45 and a pH of 6.5. The patient was diagnosed with a urinary tract infection.\n",
      "\n",
      "\n",
      "Time taken for generate_bhc: 5.068061351776123 seconds.\n",
      "113 of 250, 45.2% hadm_id: 25917554 **********\n",
      "\n",
      "\n",
      "1634\n"
     ]
    },
    {
     "name": "stderr",
     "output_type": "stream",
     "text": [
      "Processed prompts: 100%|██████████| 1/1 [00:06<00:00,  6.63s/it, est. speed input: 246.64 toks/s, output: 38.04 toks/s]\n"
     ]
    },
    {
     "name": "stdout",
     "output_type": "stream",
     "text": [
      "Brief Hospital Course\n",
      "The patient with a history of severe asthma, known superficial popliteal thrombus, and s/p AVR on ___ presents with R leg swelling and dyspnea. She was admitted to the Medical Intensive Care Unit for evaluation and management of her symptoms, initial diagnosis of DVT, and treatment of her underlying medical conditions.\n",
      "\n",
      "Problem-based hospital course---\n",
      "# Superficial R greater saphenous vein thrombus --- The patient presented with R leg swelling and dyspnea. The diagnostic work up included a CTA and a venous ultrasound, which revealed an extensive occlusive superficial thrombosis of the greater saphenous vein extending to 1 cm from the common femoral vein. The patient was treated with anticoagulation therapy.\n",
      "\n",
      "# Bicuspid Aortic Valve with Aortic Stenosis, s/p Aortic valve replacement with a 23 mm Biocor Epic tissue valve --- The patient was diagnosed with a bicuspid aortic valve with aortic stenosis, which was treated with aortic valve replacement with a 23 mm Biocor Epic tissue valve. The patient was initially diagnosed with aortic stenosis, which was later confirmed by echocardiogram.\n",
      "\n",
      "\n",
      "Time taken for generate_bhc: 6.647461652755737 seconds.\n",
      "114 of 250, 45.6% hadm_id: 25052186 **********\n",
      "\n",
      "\n",
      "1946\n"
     ]
    },
    {
     "name": "stderr",
     "output_type": "stream",
     "text": [
      "Processed prompts: 100%|██████████| 1/1 [00:07<00:00,  7.70s/it, est. speed input: 252.84 toks/s, output: 37.81 toks/s]\n"
     ]
    },
    {
     "name": "stdout",
     "output_type": "stream",
     "text": [
      "Brief Hospital Course\n",
      "The patient with a history of chronic kidney disease, stage 4, \n",
      "multiple myeloma, hypertension, hypercholesterolemia, diet-controlled \n",
      "diabetes, and gout presents with worsening renal function, oliguria \n",
      "following a recent course of Bactrim for a urinary tract infection. \n",
      "She was admitted to the emergency department for worsening kidney \n",
      "function and mild hyperkalemia. The patient was given IV fluids, \n",
      "insulin, and dextrose for hyperkalemia and acetaminophen. Renal \n",
      "ultrasound was unrevealing. Cr improved with fluids from 4.4 to 3.9.\n",
      "\n",
      "Problem-based hospital course---\n",
      "# Oliguria --- \n",
      "The patient presented with oliguria, which improved with IV \n",
      "fluids. The diagnostic work up included renal ultrasound, which was \n",
      "unrevealing. The related medical treatment course included IV \n",
      "fluids, insulin, and dextrose for hyperkalemia and acetaminophen.\n",
      "\n",
      "# Acute kidney failure --- \n",
      "The patient was diagnosed with acute kidney failure, which was \n",
      "initially diagnosed as acute kidney failure, unspecified. The \n",
      "diagnostic work up included laboratory tests, which showed worsening \n",
      "kidney function and mild hyperkalemia. The related medical \n",
      "treatment course included IV fluids, insulin, and dextrose for \n",
      "hyperkalemia and acetaminophen.\n",
      "\n",
      "\n",
      "Time taken for generate_bhc: 7.724345922470093 seconds.\n",
      "115 of 250, 46.0% hadm_id: 24610327 **********\n",
      "\n",
      "\n",
      "1482\n"
     ]
    },
    {
     "name": "stderr",
     "output_type": "stream",
     "text": [
      "Processed prompts: 100%|██████████| 1/1 [00:09<00:00,  9.64s/it, est. speed input: 153.86 toks/s, output: 38.93 toks/s]\n"
     ]
    },
    {
     "name": "stdout",
     "output_type": "stream",
     "text": [
      "Brief Hospital Course\n",
      "The patient with a history of peptic ulcer disease (PUD) and esophagitis presents with abdominal pain. They were admitted to the hospital for abdominal pain, initially diagnosed with acute pancreatitis due to ethanol consumption, and treated with a 3-day hospital stay with non-painful diet (npo) and no imaging or procedures done. The patient reports continued pain since discharge and was able to manage it with marijuana. On admission, the patient presented with constant epigastric pain with intermittent, sharp spasms in the flanks that last for a few minutes, not related to food, and reported loose, tarry, black, foul-smelling stools 3 times a day for a few weeks.\n",
      "\n",
      "Problem-based hospital course---\n",
      "# Peptic Ulcer Disease --- The patient presented with abdominal pain and was diagnosed with antral ulcer and gastritis.\n",
      "[Summarize the related diagnostic work up and notable results]. \n",
      "The patient underwent an EGD with biopsy, which showed an irregular Z line, erosion in the stomach body, erythema in the stomach compatible with mild gastritis, ulcer in the antrum (biopsy), nodularity in the second part of the duodenum (biopsy), and Brunner gland hyperplasia in the duodenal bulb. The patient was diagnosed with antral ulcer and gastritis at discharge.\n",
      "\n",
      "# Acute Pancreatitis --- The patient was initially diagnosed with acute pancreatitis due to ethanol consumption, but the CT scan without acute process or etiology of pain did not support this diagnosis.\n",
      "[Summarize the related medical or surgical treatment course]. \n",
      "The patient was treated with morphine 5mg IV x2, 2Lns, and zofran in the emergency department. The GI/pancreas team was consulted.\n",
      "\n",
      "\n",
      "Time taken for generate_bhc: 9.667990446090698 seconds.\n",
      "116 of 250, 46.4% hadm_id: 22939202 **********\n",
      "\n",
      "\n",
      "844\n"
     ]
    },
    {
     "name": "stderr",
     "output_type": "stream",
     "text": [
      "Processed prompts: 100%|██████████| 1/1 [00:07<00:00,  7.09s/it, est. speed input: 119.16 toks/s, output: 39.39 toks/s]\n"
     ]
    },
    {
     "name": "stdout",
     "output_type": "stream",
     "text": [
      "Brief Hospital Course\n",
      "The patient with a history of mood symptoms, concussion, and multiple hand lacerations and fractures, self-inflicted, presents with right elbow pain. He was admitted to the surgical service for right arm laceration, right ulnar nerve transection, and right triceps tendon partial laceration.\n",
      "\n",
      "Problem-based hospital course---\n",
      "# Right arm laceration --- The patient presented with a right arm laceration over the triceps and ulnar nerve injury. The related diagnostic work up included irrigation and closure of the wound. The notable results were loss of ulnar nerve sensation in the hand and weak intrinsics. The related medical treatment course included oxycodone administration, which was discontinued due to the patient's threat of overdose.\n",
      "\n",
      "# Right ulnar nerve transection --- The patient presented with numbness in the right hand due to the ulnar nerve transection. The diagnostic work up included a primary repair of the ulnar nerve. The notable results were successful repair of the ulnar nerve. The related medical treatment course included placement of a vacuum dressing.\n",
      "\n",
      "# Right triceps tendon partial laceration --- The patient presented with a partial laceration of the right triceps tendon. The diagnostic work up included repair of the tendon. The notable results were successful repair of the tendon. The related medical treatment course included placement of a vacuum dressing.\n",
      "\n",
      "\n",
      "Time taken for generate_bhc: 7.102528095245361 seconds.\n",
      "117 of 250, 46.8% hadm_id: 24852569 **********\n",
      "\n",
      "\n",
      "1567\n"
     ]
    },
    {
     "name": "stderr",
     "output_type": "stream",
     "text": [
      "Processed prompts: 100%|██████████| 1/1 [00:04<00:00,  4.64s/it, est. speed input: 338.14 toks/s, output: 37.55 toks/s]\n"
     ]
    },
    {
     "name": "stdout",
     "output_type": "stream",
     "text": [
      "Brief Hospital Course\n",
      "The patient with a history of HCV, polysubstance use, HTN, CKD, COPD, and bipolar disorder presents with concern for abscess/cellulitis. They were admitted to the Medical Intensive Care Unit for cellulitis or abscess of the right scalp, initial diagnosis, and treatment with antibiotics.\n",
      "\n",
      "Problem-based hospital course---\n",
      "# Cellulitis or abscess of the right scalp --- The patient presented with one week of pain and drainage from a wound on his right scalp, which has progressed to severe pain with redness, swelling, and subjective fevers and chills.\n",
      "The diagnostic work up included a CT head, which noted focal cutaneous and subcutaneous soft tissue density in the right occipital region representing cellulitis or abscess. The patient was treated with antibiotics and supportive care.\n",
      "\n",
      "Time taken for generate_bhc: 4.656899452209473 seconds.\n",
      "118 of 250, 47.2% hadm_id: 26847127 **********\n",
      "\n",
      "\n",
      "2385\n"
     ]
    },
    {
     "name": "stderr",
     "output_type": "stream",
     "text": [
      "Processed prompts: 100%|██████████| 1/1 [00:06<00:00,  6.30s/it, est. speed input: 378.55 toks/s, output: 37.14 toks/s]\n"
     ]
    },
    {
     "name": "stdout",
     "output_type": "stream",
     "text": [
      "Brief Hospital Course\n",
      "The patient with a history of EToH abuse, small intestinal bacterial overgrowth syndrome, and epigastric pain presents with two weeks of ongoing epigastric pain, heartburn, nausea, vomiting, and inability to tolerate oral intake. She was admitted to the hospital for subsequent workup.\n",
      "\n",
      "Problem-based hospital course---\n",
      "# Epigastric pain --- The patient presented with worsening epigastric pain, intractable nausea, inability to tolerate oral intake, reported dysphagia to solids, heartburn, and reported weight loss.\n",
      "The diagnostic work up included a complete blood count, basic metabolic panel, liver function tests, and serum toxicology, which were all within normal limits. The patient received 1L of normal saline and viscous lidocaine and simethicone in the emergency department.\n",
      "\n",
      "# Pancreatitis --- The patient was initially diagnosed with pancreatitis after an elevated lipase level was found during a previous admission. She reported that her abdominal pain improved after discharge, but then worsened over the past two weeks, with intermittent, radiating pain to the RUQ or substernal area.\n",
      "\n",
      "\n",
      "Time taken for generate_bhc: 6.327127456665039 seconds.\n",
      "119 of 250, 47.6% hadm_id: 26872224 **********\n",
      "\n",
      "\n",
      "1132\n"
     ]
    },
    {
     "name": "stderr",
     "output_type": "stream",
     "text": [
      "Processed prompts: 100%|██████████| 1/1 [00:04<00:00,  4.61s/it, est. speed input: 245.54 toks/s, output: 38.39 toks/s]\n"
     ]
    },
    {
     "name": "stdout",
     "output_type": "stream",
     "text": [
      "Brief Hospital Course\n",
      "The patient with a history of s/p discectomy 6 days ago presents with worsening back pain on the left greater than the right. They were admitted to the hospital for further management of their symptoms and to rule out any complications from the surgery.\n",
      "\n",
      "Problem-based hospital course---\n",
      "# Back pain --- The patient presented with worsening back pain on the left greater than the right, which began approximately one day after surgery and had steadily increased in intensity.\n",
      "The diagnostic work up included an MRI, which showed a fluid collection in the region of the L4-5 level, possibly contacting the L4 nerve root on the left side. Mild disc degenerative changes were also noted at L2-L3, L3-L4, and L5-S1 levels.\n",
      "The related medical treatment course included administration of medications to manage the patient's pain and discomfort.\n",
      "\n",
      "\n",
      "Time taken for generate_bhc: 4.634161710739136 seconds.\n",
      "120 of 250, 48.0% hadm_id: 23628550 **********\n",
      "\n",
      "\n",
      "2530\n"
     ]
    },
    {
     "name": "stderr",
     "output_type": "stream",
     "text": [
      "Processed prompts: 100%|██████████| 1/1 [00:07<00:00,  7.90s/it, est. speed input: 320.36 toks/s, output: 37.61 toks/s]\n"
     ]
    },
    {
     "name": "stdout",
     "output_type": "stream",
     "text": [
      "Brief Hospital Course\n",
      "The patient with a history of type 2 diabetes mellitus and cellulitis presents with a 2-week history of loose, foul-smelling stools and was found to have C Diff on admission. They were admitted to the medicine service for severe C. diff associated diarrhea and UTI.\n",
      "\n",
      "The patient was initially diagnosed with C Difficile Colitis and E Coli Urinary Tract Infection.\n",
      "\n",
      "Problem-based hospital course---\n",
      "\n",
      "# C Difficile Colitis --- The patient presented with a 2-week history of loose, foul-smelling stools. They were found to have C Diff on admission and were treated with a 10-day course of clindamycin.\n",
      "\n",
      "Summarize the related diagnostic work up and notable results: The patient's stool was positive for toxigenic C. difficile by the Illumigene DNA amplification.\n",
      "\n",
      "Summarize the related medical or surgical treatment course: The patient was treated with a 10-day course of clindamycin.\n",
      "\n",
      "# E Coli Urinary Tract Infection --- The patient presented with a UTI, which was confirmed by urine culture. They were treated with levaquin 750 mg.\n",
      "\n",
      "Summarize the diagnostic work up and notable results: The patient's urine culture was positive for E Coli, with a sensitivity testing confirming cefepime sensitivity.\n",
      "\n",
      "Summarize the related medical or surgical treatment course: The patient was treated with levaquin 750 mg.\n",
      "\n",
      "\n",
      "Time taken for generate_bhc: 7.924051761627197 seconds.\n",
      "121 of 250, 48.4% hadm_id: 29989258 **********\n",
      "\n",
      "\n",
      "1633\n"
     ]
    },
    {
     "name": "stderr",
     "output_type": "stream",
     "text": [
      "Processed prompts: 100%|██████████| 1/1 [00:05<00:00,  5.38s/it, est. speed input: 303.61 toks/s, output: 37.56 toks/s]\n"
     ]
    },
    {
     "name": "stdout",
     "output_type": "stream",
     "text": [
      "Brief Hospital Course\n",
      "The patient with a history of exercise-induced Mobitz II on stress echo presents with increasing frequency of lightheadness and shortness of breath. He was admitted to the Cardiology floor for further evaluation and management of his symptoms.\n",
      "\n",
      "Problem-based hospital course---\n",
      "# Exercise-induced Mobitz type II heart block --- The patient presented with increasing frequency of lightheadness and shortness of breath, triggered by less exertion, and was admitted to the hospital for further evaluation and management.\n",
      "\n",
      "[Summarize the related diagnostic work up and notable results]. The patient underwent stress TTE last week which showed exercise-induced Mobitz II, and was scheduled to see his Dr. tomorrow to discuss this further. In the ED, initial labs were normal, and imaging was not performed.\n",
      "\n",
      "[Summarize the related medical or surgical treatment course]. The patient was given nothing in the ED, and upon arrival to the floor, he was lying comfortably in bed with no symptoms while resting.\n",
      "\n",
      "\n",
      "Time taken for generate_bhc: 5.41595196723938 seconds.\n",
      "122 of 250, 48.8% hadm_id: 29428106 **********\n",
      "\n",
      "\n",
      "1692\n"
     ]
    },
    {
     "name": "stderr",
     "output_type": "stream",
     "text": [
      "Processed prompts: 100%|██████████| 1/1 [00:05<00:00,  5.90s/it, est. speed input: 286.79 toks/s, output: 37.63 toks/s]\n"
     ]
    },
    {
     "name": "stdout",
     "output_type": "stream",
     "text": [
      "Brief Hospital Course\n",
      "The patient with a history of asthma, diverticulosis, hemorrhoids, constipation, and a recent circumcision presents with dysuria and urinary retention. He was admitted to the medicine floor for evaluation and management of his symptoms.\n",
      "\n",
      "Problem-based hospital course---\n",
      "# Urinary retention --- The patient presented with severe urinary retention, with a bladder scan showing 1L PVR. A Foley catheter was placed, and creatinine improved to 1.8.\n",
      "[Summarize the related diagnostic work up and notable results]. The patient underwent a CT A/P with contrast, which showed colonic diverticulosis without evidence of diverticulitis, and a small amount of right retroperitoneal fluid. The appendix was normal, and a 1.7 cm ill-defined hypodensity in the left hepatic lobe may represent a hemangioma.\n",
      "\n",
      "# Constipation --- The patient had limited bowel movements and was constipated, with a sense of incomplete voiding. He used an enema and had 2x bowel movements during his hospital stay.\n",
      "\n",
      "\n",
      "Time taken for generate_bhc: 5.921013832092285 seconds.\n",
      "123 of 250, 49.2% hadm_id: 25691986 **********\n",
      "\n",
      "\n",
      "2106\n"
     ]
    },
    {
     "name": "stderr",
     "output_type": "stream",
     "text": [
      "Processed prompts: 100%|██████████| 1/1 [00:04<00:00,  4.00s/it, est. speed input: 526.43 toks/s, output: 35.75 toks/s]\n"
     ]
    },
    {
     "name": "stdout",
     "output_type": "stream",
     "text": [
      "Brief Hospital Course\n",
      "The patient with a history of hypertension and dementia presents with syncope. She was admitted to the telemetry floor for evaluation of her symptoms. The patient was initially diagnosed with syncope and collapse, pain in limb, and unspecified fall.\n",
      "\n",
      "Problem-based hospital course---\n",
      "# Vasovagal syncope --- The patient presented with syncope, which was unwitnessed. She reported no loss of consciousness initially but later reported fainting. She was treated with tylenol, ibuprofen, and 325mg ASA.\n",
      "\n",
      "# Ligamentous knee injury --- The patient reported left knee pain after the fall, which made it difficult for her to stand. She was treated with pain management.\n",
      "\n",
      "\n",
      "Time taken for generate_bhc: 4.025828123092651 seconds.\n",
      "124 of 250, 49.6% hadm_id: 26353063 **********\n",
      "\n",
      "\n",
      "1086\n"
     ]
    },
    {
     "name": "stderr",
     "output_type": "stream",
     "text": [
      "Processed prompts: 100%|██████████| 1/1 [00:04<00:00,  4.92s/it, est. speed input: 220.63 toks/s, output: 38.19 toks/s]\n"
     ]
    },
    {
     "name": "stdout",
     "output_type": "stream",
     "text": [
      "Brief Hospital Course\n",
      "The patient with a history of sigmoid colectomy and ventral hernia presents with abdominal pain. She was admitted to the surgical intensive care unit for small bowel obstruction related to a right paracentral ventral hernia.\n",
      "\n",
      "Problem-based hospital course---\n",
      "# Small bowel obstruction --- The patient presented with a one week history of increasing abdominal pain, which became more severe and localized throughout the right lower quadrant over the past 24 hours. The pain is constant, sharp, severe, and radiates across the upper aspect of the abdomen. The patient had several episodes of nonbilious, nonbloody emesis since the prior night. She was diagnosed with small bowel obstruction based on CT findings consistent with a small bowel obstruction with transition related to a right paracentral ventral hernia. The patient underwent no major procedures. She was treated with supportive care and was diagnosed with small bowel obstruction at discharge.\n",
      "\n",
      "\n",
      "Time taken for generate_bhc: 4.942954778671265 seconds.\n",
      "125 of 250, 50.0% hadm_id: 21209166 **********\n",
      "\n",
      "\n",
      "2449\n"
     ]
    },
    {
     "name": "stderr",
     "output_type": "stream",
     "text": [
      "Processed prompts: 100%|██████████| 1/1 [00:09<00:00,  9.05s/it, est. speed input: 270.74 toks/s, output: 37.70 toks/s]\n"
     ]
    },
    {
     "name": "stdout",
     "output_type": "stream",
     "text": [
      "Brief Hospital Course\n",
      "The patient with a history of chronic HCV, type 2 DM, multiple fractures, COPD, and T1N1M0 esophageal Ca presents with dyspnea. They were admitted to the MICU for respiratory failure and encephalopathy.\n",
      "\n",
      "The patient was initially diagnosed with respiratory failure and encephalopathy. They were treated with BIPAP, insulin, and Lasix. The patient's condition improved, and they were weaned off BIPAP.\n",
      "\n",
      "Problem-based hospital course---\n",
      "\n",
      "# Respiratory Failure --- The patient presented with respiratory distress and was placed on BIPAP at 60% with improvement in sats. They were hyperglycemic to 400s and failed coming off BiPAP as they were 88% on 6L.\n",
      "\n",
      "Summarize the related diagnostic work up and notable results. The patient's ABG showed pH 7.35, pCO2 44, and O2 sat 99%. The patient's CXR showed low lung volumes, mild cardiomegaly, and moderate central pulmonary vascular congestion.\n",
      "\n",
      "Summarize the related medical or surgical treatment course. The patient was treated with BIPAP, insulin, and Lasix.\n",
      "\n",
      "# Encephalopathy --- The patient presented with encephalopathy and was treated with Solumedrol, DuoNeb, and Lactulose.\n",
      "\n",
      "Summarize the diagnostic work up and notable results. The patient's labs showed lactate 3.7, negative troponin, and negative EtOH.\n",
      "\n",
      "Summarize the related medical or surgical treatment course. The patient was treated with vanc/zosyn.\n",
      "\n",
      "\n",
      "Time taken for generate_bhc: 9.071300983428955 seconds.\n",
      "126 of 250, 50.4% hadm_id: 26376325 **********\n",
      "\n",
      "\n",
      "2340\n"
     ]
    },
    {
     "name": "stderr",
     "output_type": "stream",
     "text": [
      "Processed prompts: 100%|██████████| 1/1 [00:06<00:00,  6.23s/it, est. speed input: 375.37 toks/s, output: 36.90 toks/s]\n"
     ]
    },
    {
     "name": "stdout",
     "output_type": "stream",
     "text": [
      "Brief Hospital Course\n",
      "The patient with a history of lumbar degenerative disease and no history of prior headaches presents with 1-week of worsening headache, neck pain, and dizziness. They were admitted to the Neurology service for severe, stabbing, throbbing focal occipital headache, associated neck stiffness/discomfort, photophobia, nausea without vomit, and gait unsteadiness.\n",
      "\n",
      "Problem-based hospital course---\n",
      "# Headache --- The patient presented with a severe, stabbing, throbbing focal occipital headache, which was constant, severe, and unchanged in severity since admission. The diagnostic work up included MRI non-contrast, which showed no pathology per report. The patient was treated with valium, oxycodone, and gabapentin, but these medications did not help her pain.\n",
      "\n",
      "# Neck pain --- The patient presented with neck pain, which was associated with neck stiffness/discomfort. The diagnostic work up included MRI C-Spine, which showed multilevel degenerative changes of the cervical spine without spinal canal or neural foraminal stenosis. The patient was treated with physical therapy and pain management.\n",
      "\n",
      "\n",
      "Time taken for generate_bhc: 6.258074760437012 seconds.\n",
      "127 of 250, 50.8% hadm_id: 26657384 **********\n",
      "\n",
      "\n",
      "1860\n"
     ]
    },
    {
     "name": "stderr",
     "output_type": "stream",
     "text": [
      "Processed prompts: 100%|██████████| 1/1 [00:07<00:00,  7.68s/it, est. speed input: 242.42 toks/s, output: 38.32 toks/s]\n"
     ]
    },
    {
     "name": "stdout",
     "output_type": "stream",
     "text": [
      "Brief Hospital Course\n",
      "The patient with a history of CHF, AS s/p bovine ARV, PPM, afib on coumadin, s/p cholecystectomy presents with altered mental status. They were admitted to the ICU for abdominal pain and suspected infection. The patient was initially evaluated for abdominal pain and was found to have fluid around the liver without active extravasation. They were transferred to the ICU for surgical evaluation and were found to have no indication for surgical intervention. The patient was diagnosed with metabolic encephalopathy, CHF, and abdominal pain.\n",
      "\n",
      "Problem-based hospital course---\n",
      "# Metabolic Encephalopathy --- The patient presented with altered mental status, anxiety, and agitation. The diagnostic work up included a head CT, which was pending at the time of transfer. The patient was treated with cefepime and valium. The notable results were an abnormal ABG, and the patient was found to be in alcohol withdrawal.\n",
      "\n",
      "# CHF --- The patient had a history of CHF and was admitted with abdominal pain. The diagnostic work up included labs, which showed stable Hct and INR. The patient was treated with coumadin and was monitored for improvement in abdominal pain and nausea.\n",
      "\n",
      "# Abdominal Pain --- The patient presented with abdominal pain, which was initially evaluated with a CT scan. The patient was treated with cefepime and was monitored for improvement in abdominal pain and nausea.\n",
      "\n",
      "\n",
      "Time taken for generate_bhc: 7.697725534439087 seconds.\n",
      "128 of 250, 51.2% hadm_id: 25086586 **********\n",
      "\n",
      "\n",
      "2148\n"
     ]
    },
    {
     "name": "stderr",
     "output_type": "stream",
     "text": [
      "Processed prompts: 100%|██████████| 1/1 [00:09<00:00,  9.02s/it, est. speed input: 238.14 toks/s, output: 38.25 toks/s]\n"
     ]
    },
    {
     "name": "stdout",
     "output_type": "stream",
     "text": [
      "Brief Hospital Course\n",
      "The patient with a history of reactive airway disease, recurrent sinus disease, possible bronchiectasis, and recent admission for possible allergic bronchopulmonary aspergillosis (ABPA) presents with an episode of crushing/sharp bilateral chest pain which latterly spread to her neck with associated transient neck numbness and then a transient episode of possible tongue deviation to the right and a Code Stroke was called. They were admitted to the Emergency Department for evaluation of chest pain and possible stroke symptoms.\n",
      "\n",
      "The patient was initially diagnosed with possible TIA and was given aspirin 325mg. Initial NIHSS was 1 per ED for facial asymmetry which was questionable and latterly on review by me had left arm subtle drift and noticeable left leg drift which fluctuated during assessment. The patient's pain lasted until roughly 23:55 and then resolved. The patient did not note any other neurological symptoms but during her examination by me felt that her left side was weak and she had give-way weakness on examination.\n",
      "\n",
      "Problem-based hospital course---\n",
      "# Chest pain --- The patient presented with crushing/sharp bilateral chest pain which latterly spread to her neck with associated transient neck numbness and then a transient episode of possible tongue deviation to the right and a Code Stroke was called. The patient was given aspirin 325mg and the pain lasted until roughly 23:55 and then resolved.\n",
      "\n",
      "# Possible TIA --- The patient was initially diagnosed with possible TIA and was given aspirin 325mg. Initial NIHSS was 1 per ED for facial asymmetry which was questionable and latterly on review by me had left arm subtle drift and noticeable left leg drift which fluctuated during assessment.\n",
      "\n",
      "\n",
      "Time taken for generate_bhc: 9.04412055015564 seconds.\n",
      "129 of 250, 51.6% hadm_id: 26381518 **********\n",
      "\n",
      "\n",
      "1729\n"
     ]
    },
    {
     "name": "stderr",
     "output_type": "stream",
     "text": [
      "Processed prompts: 100%|██████████| 1/1 [00:06<00:00,  6.90s/it, est. speed input: 250.48 toks/s, output: 37.96 toks/s]\n"
     ]
    },
    {
     "name": "stdout",
     "output_type": "stream",
     "text": [
      "Brief Hospital Course\n",
      "The patient with a history of HIV, DVT/PE, COPD, and hypertension presents with diarrhea x3 weeks. They were admitted to the emergency department for evaluation of acute on chronic diarrhea of undetermined etiology.\n",
      "\n",
      "Problem-based hospital course---\n",
      "# Diarrhea --- The patient presented with loose, frequent stools at baseline, attributed to his HIV medications. However, he developed an increase in watery diarrhea, sometimes >10 episodes per day, nonbloody, after eating a tuna fish sandwich. The day prior to presentation, he was unable to leave the house due to frequent stools. He endorses associated lightheadedness, without fevers or chills.\n",
      "\n",
      "The diagnostic work up included a CT abdomen/pelvis, which showed compression deformities at T11, T12, and L1, new at T11 and slightly progressed at L1. The patient was given 3L NS, morphine 5 mg IV x2, ondansetron, and albuterol/ipratropium nebs.\n",
      "\n",
      "The patient was initially diagnosed with diarrhea, unspecified, and vomiting without nausea. At discharge, the patient was diagnosed with acute on chronic diarrhea of undetermined etiology, HIV, and history of DVT/PE.\n",
      "\n",
      "\n",
      "Time taken for generate_bhc: 6.930002212524414 seconds.\n",
      "130 of 250, 52.0% hadm_id: 25000870 **********\n",
      "\n",
      "\n",
      "2435\n"
     ]
    },
    {
     "name": "stderr",
     "output_type": "stream",
     "text": [
      "Processed prompts: 100%|██████████| 1/1 [00:07<00:00,  7.65s/it, est. speed input: 318.60 toks/s, output: 37.16 toks/s]\n"
     ]
    },
    {
     "name": "stdout",
     "output_type": "stream",
     "text": [
      "Brief Hospital Course\n",
      "The patient with a history of biliary colic presents with RUQ abdominal pain since this morning, worse at 1330, which feels similar to gallstone pain that she had in the past. They were admitted to the ACS service for suspected acute cholecystitis versus symptomatic gallstone disease.\n",
      "\n",
      "Problem-based hospital course---\n",
      "# Biliary colic --- The patient presented with RUQ abdominal pain since this morning, worse at 1330, which feels similar to gallstone pain that she had in the past.\n",
      "The related diagnostic work up included RUQ ultrasound, MRCP, and EUS, which were notable for cholelithiasis, no clear intrinsic or extrinsic common duct obstruction or stenosis, duodenal erosions, a prominent major papilla, and likely pancreatic tail IPMNs.\n",
      "The related medical treatment course included conservative management.\n",
      "\n",
      "# Acute cholecystitis --- The patient was admitted to the ACS service for suspected acute cholecystitis versus symptomatic gallstone disease.\n",
      "The related diagnostic work up included RUQ ultrasound, MRCP, and EUS, which were notable for cholelithiasis, no clear intrinsic or extrinsic common duct obstruction or stenosis, duodenal erosions, a prominent major papilla, and likely pancreatic tail IPMNs.\n",
      "The related medical treatment course included conservative management.\n",
      "\n",
      "\n",
      "Time taken for generate_bhc: 7.682815790176392 seconds.\n",
      "131 of 250, 52.4% hadm_id: 24567832 **********\n",
      "\n",
      "\n",
      "1707\n"
     ]
    },
    {
     "name": "stderr",
     "output_type": "stream",
     "text": [
      "Processed prompts: 100%|██████████| 1/1 [00:03<00:00,  3.70s/it, est. speed input: 461.14 toks/s, output: 36.20 toks/s]\n"
     ]
    },
    {
     "name": "stdout",
     "output_type": "stream",
     "text": [
      "Brief Hospital Course\n",
      "The patient with a history of chronic heart failure with preserved ejection fraction, hypertension, hyperlipidemia, paroxysmal atrial fibrillation, and a history of breast cancer and Hodgkin's lymphoma presents with back pain and bilateral hip pain. She was admitted to the medicine service for ID consultation and spine consultation for possible ___ guided biopsy.\n",
      "\n",
      "Problem-based hospital course---\n",
      "# Discitis --- The patient presented with a one-month history of lower back pain and three months of bilateral hip pain. The diagnostic work up included an MRI, which showed L1-L2 discitis. The patient underwent a ___ guided spine biopsy.\n",
      "\n",
      "\n",
      "Time taken for generate_bhc: 3.724066972732544 seconds.\n",
      "132 of 250, 52.8% hadm_id: 27453254 **********\n",
      "\n",
      "\n",
      "1267\n"
     ]
    },
    {
     "name": "stderr",
     "output_type": "stream",
     "text": [
      "Processed prompts: 100%|██████████| 1/1 [00:06<00:00,  6.14s/it, est. speed input: 206.31 toks/s, output: 38.59 toks/s]\n"
     ]
    },
    {
     "name": "stdout",
     "output_type": "stream",
     "text": [
      "Brief Hospital Course\n",
      "The patient with a history of sleep apnea presents with abdominal pain, diarrhea, nausea, starting 1 week after completion of Augmentin for dental abscess, and about 3 weeks after completion of clindamycin. She was admitted to the hospital for abdominal pain, diarrhea, nausea, and suspected C. difficile colitis.\n",
      "The patient was initially diagnosed with abdominal pain, generalized, and was later diagnosed with C. difficile colitis and elevated liver function tests.\n",
      "\n",
      "Problem-based hospital course---\n",
      "# Abdominal pain --- The patient presented with abdominal pain, which was described as severe and persistent.\n",
      "The related diagnostic work up included a CT abdomen, which was preliminary and did not show colitis. Blood tests showed a left shift in the white blood cell count, but no bands.\n",
      "The related medical treatment course included administration of antibiotics and supportive care.\n",
      "\n",
      "# Diarrhea --- The patient presented with diarrhea, which was described as non-bloody and explosive.\n",
      "The related diagnostic work up included blood tests, which showed a normal white blood cell count and no evidence of infection.\n",
      "The related medical treatment course included administration of antibiotics and supportive care.\n",
      "\n",
      "\n",
      "Time taken for generate_bhc: 6.163207292556763 seconds.\n",
      "133 of 250, 53.2% hadm_id: 23256237 **********\n",
      "\n",
      "\n",
      "1741\n"
     ]
    },
    {
     "name": "stderr",
     "output_type": "stream",
     "text": [
      "Processed prompts: 100%|██████████| 1/1 [00:04<00:00,  4.55s/it, est. speed input: 382.93 toks/s, output: 36.73 toks/s]\n"
     ]
    },
    {
     "name": "stdout",
     "output_type": "stream",
     "text": [
      "Brief Hospital Course\n",
      "The patient with a history of lung adenocarcinoma metastatic to pleura and brain, s/p CyberKnife, previously on chemo/immunotherapy and radiation, presents with worsening fatigue, cough, and sputum production. He was admitted to the MICU for BiPAP.\n",
      "\n",
      "Problem-based hospital course---\n",
      "# Respiratory Distress --- \n",
      "The patient presented with worsening respiratory distress, with initial vitals showing a pO2 of 88% on RA. He was given vancomycin, Zosyn, morphine 4 mg, and 500 cc NS in the ED. Upon arrival to the floor, he was noted to have rhonchi bilaterally with expiration, with retractions. He was admitted to the MICU for BiPAP.\n",
      "\n",
      "\n",
      "Time taken for generate_bhc: 4.572436094284058 seconds.\n",
      "134 of 250, 53.6% hadm_id: 28636140 **********\n",
      "\n",
      "\n",
      "3583\n"
     ]
    },
    {
     "name": "stderr",
     "output_type": "stream",
     "text": [
      "Processed prompts: 100%|██████████| 1/1 [00:05<00:00,  5.85s/it, est. speed input: 612.91 toks/s, output: 34.55 toks/s]\n"
     ]
    },
    {
     "name": "stdout",
     "output_type": "stream",
     "text": [
      "Brief Hospital Course\n",
      "The patient with a history of liver transplantation, chronic abdominal pain, and anxiety presents with abdominal pain, diaphoresis, and one episode of bloody bowel movement. They were admitted to the medicine floor for further evaluation and management.\n",
      "\n",
      "Problem-based hospital course---\n",
      "# Descending colonic colitis --- The patient presented with abdominal pain, diaphoresis, and one episode of bloody bowel movement. The diagnostic workup included a CT scan with IV and PO contrast, which demonstrated inflammatory or infectious colonic colitis, as well as two left upper quadrant short-segment, small bowel intussusceptions, likely transient in nature. The patient was given several doses of IV morphine and admitted to the medicine floor for further management.\n",
      "\n",
      "# Chronic abdominal pain --- The patient has a history of chronic abdominal pain of unclear etiology, which has been managed with various treatments in the past. The patient's abdominal pain has been ongoing, with varying accounts of its severity and duration.\n",
      "\n",
      "\n",
      "Time taken for generate_bhc: 5.900334119796753 seconds.\n",
      "135 of 250, 54.0% hadm_id: 24506656 **********\n",
      "\n",
      "\n",
      "1635\n"
     ]
    },
    {
     "name": "stderr",
     "output_type": "stream",
     "text": [
      "Processed prompts: 100%|██████████| 1/1 [00:04<00:00,  4.99s/it, est. speed input: 327.73 toks/s, output: 37.08 toks/s]\n"
     ]
    },
    {
     "name": "stdout",
     "output_type": "stream",
     "text": [
      "Brief Hospital Course\n",
      "The patient with a history of lung cancer and aortic root repair presents with hypoxemia. They were admitted to the intensive care unit for worsening respiratory failure, initial diagnosis of right heart failure, and treatment of pulmonary embolism.\n",
      "\n",
      "Problem-based hospital course---\n",
      "#Right heart failure --- The patient presented with worsening shortness of breath and hypoxemia. The diagnostic work up included a CT scan of the chest, which showed enlargement of the right heart, suggestive of heart failure. The patient received treatment with oxygen therapy and diuretics.\n",
      "\n",
      "#Lung cancer --- The patient presented with progressive lung cancer, with increased size of the dominant right lower lobe mass and numerous new and enlarging predominantly pleural-based nodules throughout the right lung. The diagnostic work up included a CT scan of the chest, which showed progression of the known lung cancer. The patient received treatment with chemotherapy.\n",
      "\n",
      "\n",
      "Time taken for generate_bhc: 5.013992071151733 seconds.\n",
      "136 of 250, 54.4% hadm_id: 21213093 **********\n",
      "\n",
      "\n",
      "2943\n"
     ]
    },
    {
     "name": "stderr",
     "output_type": "stream",
     "text": [
      "Processed prompts: 100%|██████████| 1/1 [00:06<00:00,  6.24s/it, est. speed input: 472.06 toks/s, output: 35.61 toks/s]\n"
     ]
    },
    {
     "name": "stdout",
     "output_type": "stream",
     "text": [
      "Brief Hospital Course\n",
      "The patient with a history of chronic obstructive pulmonary disease (COPD) and hyperparathyroidism presents with acute onset of shortness of breath and wheezing. She was admitted to the intensive care unit (ICU) for acute respiratory failure and suspected pneumonia.\n",
      "\n",
      "The patient was initially diagnosed with pneumonia and started on antibiotics, but her symptoms did not improve. She was then diagnosed with COPD exacerbation and treated with bronchodilators and oxygen therapy. Her condition improved, and she was eventually discharged with a diagnosis of COPD exacerbation and hyperparathyroidism.\n",
      "\n",
      "Problem-based hospital course---\n",
      "\n",
      "# COPD exacerbation --- The patient presented with acute onset of shortness of breath and wheezing, which worsened over time. She was treated with bronchodilators and oxygen therapy, and her condition improved.\n",
      "\n",
      "# Hyperparathyroidism --- The patient's hyperparathyroidism was diagnosed based on laboratory results, which showed elevated calcium and phosphorus levels. She was treated with medication to control her hyperparathyroidism.\n",
      "\n",
      "\n",
      "Time taken for generate_bhc: 6.269528865814209 seconds.\n",
      "137 of 250, 54.8% hadm_id: 24183710 **********\n",
      "\n",
      "\n",
      "1460\n"
     ]
    },
    {
     "name": "stderr",
     "output_type": "stream",
     "text": [
      "Processed prompts: 100%|██████████| 1/1 [00:05<00:00,  5.16s/it, est. speed input: 283.29 toks/s, output: 37.45 toks/s]\n"
     ]
    },
    {
     "name": "stdout",
     "output_type": "stream",
     "text": [
      "Brief Hospital Course\n",
      "The patient with a history of dementia, DM2, HTN, and chronic abdominal pain of unclear etiology presents with symptoms of abdominal pain. She was admitted to the medicine service for further management.\n",
      "\n",
      "Problem-based hospital course---\n",
      "# Abdominal pain --- The patient presented with moderately distended firm abdomen tender to palpation intraumbilically, no peripheral edema.\n",
      "[Summarize the related diagnostic work up and notable results]. \n",
      "The patient underwent imaging, which showed mild perivesicular stranding, unchanged from prior study, and bilateral renal hypodensities, one lesion on the right is compatible with an angiomyolipoma.\n",
      "\n",
      "# Urinary tract infection --- The patient had a UTI, which was diagnosed based on lab results and imaging.\n",
      "[Summarize the related medical or surgical treatment course]. \n",
      "The patient received 2L NS, morphine, CTX, and Tylenol.\n",
      "\n",
      "\n",
      "Time taken for generate_bhc: 5.1875317096710205 seconds.\n",
      "138 of 250, 55.2% hadm_id: 27241757 **********\n",
      "\n",
      "\n",
      "1060\n"
     ]
    },
    {
     "name": "stderr",
     "output_type": "stream",
     "text": [
      "Processed prompts: 100%|██████████| 1/1 [00:03<00:00,  3.49s/it, est. speed input: 303.98 toks/s, output: 37.28 toks/s]\n"
     ]
    },
    {
     "name": "stdout",
     "output_type": "stream",
     "text": [
      "Brief Hospital Course\n",
      "The patient with a history of postpartum mastitis presents with one day of left breast pain and fever. She was admitted to the post-partum unit for presumed mastitis and initial diagnosis of fever and unspecified inflammatory disease of the breast. \n",
      "\n",
      "Problem-based hospital course---\n",
      "# Mastitis --- The patient presented with one day of left breast pain and fever. The related diagnostic work up included blood cultures x2, which are pending, and ultrasound of axillae, which showed normal-sized lymph nodes bilaterally. The patient received Kefzol 1g IV x1 for presumed mastitis. \n",
      "\n",
      "\n",
      "Time taken for generate_bhc: 3.508798360824585 seconds.\n",
      "139 of 250, 55.6% hadm_id: 27295999 **********\n",
      "\n",
      "\n",
      "1847\n"
     ]
    },
    {
     "name": "stderr",
     "output_type": "stream",
     "text": [
      "Processed prompts: 100%|██████████| 1/1 [00:06<00:00,  6.21s/it, est. speed input: 297.52 toks/s, output: 37.37 toks/s]\n"
     ]
    },
    {
     "name": "stdout",
     "output_type": "stream",
     "text": [
      "Brief Hospital Course\n",
      "The patient with a history of cirrhosis, pancytopenia, and psoriasis presents with acute alcohol intoxication and symptoms of abdominal pain. They were admitted to the medical intensive care unit for acute alcohol intoxication, alcohol withdrawal, and anasarca.\n",
      "The patient was diagnosed with acute alcohol intoxication, alcohol withdrawal, cirrhosis, abdominal pain, pancytopenia, psoriasis, and GERD.\n",
      "\n",
      "Problem-based hospital course---\n",
      "#Acute alcohol intoxication --- The patient presented with acute alcohol intoxication, with a blood alcohol level of 89 mg/dL. The patient was treated with supportive care, including fluids and electrolyte replacement, and was monitored for signs of withdrawal.\n",
      "#Alcohol withdrawal --- The patient was diagnosed with alcohol withdrawal, with symptoms of tremors, anxiety, and insomnia. The patient was treated with benzodiazepines and other medications to manage symptoms.\n",
      "#Anasarca --- The patient was diagnosed with anasarca, a condition characterized by swelling of the legs and feet. The patient was treated with diuretics and other medications to manage symptoms.\n",
      "\n",
      "\n",
      "Time taken for generate_bhc: 6.238293647766113 seconds.\n",
      "140 of 250, 56.0% hadm_id: 23271418 **********\n",
      "\n",
      "\n",
      "1850\n"
     ]
    },
    {
     "name": "stderr",
     "output_type": "stream",
     "text": [
      "Processed prompts: 100%|██████████| 1/1 [00:07<00:00,  7.56s/it, est. speed input: 244.93 toks/s, output: 38.00 toks/s]\n"
     ]
    },
    {
     "name": "stdout",
     "output_type": "stream",
     "text": [
      "Brief Hospital Course\n",
      "The patient with a history of coronary artery disease x4, PVD with bypass, atrial fibrillation with RVR, LGIB, HTN, HLD, sCHF, NIDDM, and GERD presents with failure to thrive. He was admitted to the medicine service for atrial fibrillation with RVR and LGIB, and inability to care for himself at home.\n",
      "\n",
      "Problem-based hospital course---\n",
      "# Failure to thrive --- The patient presented with failure to thrive, with a history of poor historian and denial of any complaints. He was recently admitted for chest pain diagnosed as atrial fibrillation with RVR and LGIB, and was discharged to rehab on ___. He was seen at an appointment with his cardiologist, PCP, and his daughter all feel that he is unsafe to live at home, and he was therefore sent to the ED for evaluation and further management.\n",
      "\n",
      "# Atrial fibrillation with RVR and LGIB --- The patient was diagnosed with atrial fibrillation with RVR and LGIB, and was treated with his home meds. His initial VS in the ED were 98.6, HR 78, BP ___, RR 18, O2 92%. Labs notable for Cr 1.7 (at baseline) and HCT 36.4 (at baseline). UA, CXR and NCHCT were unremarkable.\n",
      "\n",
      "\n",
      "Time taken for generate_bhc: 7.593303203582764 seconds.\n",
      "141 of 250, 56.4% hadm_id: 27937691 **********\n",
      "\n",
      "\n",
      "2952\n"
     ]
    },
    {
     "name": "stderr",
     "output_type": "stream",
     "text": [
      "Processed prompts: 100%|██████████| 1/1 [00:11<00:00, 11.51s/it, est. speed input: 256.47 toks/s, output: 37.44 toks/s]\n"
     ]
    },
    {
     "name": "stdout",
     "output_type": "stream",
     "text": [
      "Brief Hospital Course\n",
      "The patient with a history of coronary artery disease, chronic kidney disease stage 5, asthma, hypertension, hyperlipidemia, and chronic obstructive pulmonary disease presents with shortness of breath of 7 days duration. He was admitted to the medical intensive care unit for acute on chronic systolic heart failure, community-acquired pneumonia, and interstitial lung disease.\n",
      "\n",
      "The patient was initially diagnosed with worsening hypoxemia and was treated with diuresis, but his respiratory status declined requiring transfer to the medical intensive care unit. An extensive interstitial lung disease work-up was sent, which was notable for positive rheumatoid factor and anti-GMB antibodies. He was treated with prednisone taper and ceftriaxone/azithromycin, and subsequently improved.\n",
      "\n",
      "For his current presentation, the patient reports that he first noticed his shortness of breath after returning from a flight and gradually worsened over the next several days. He also began noticing significant fatigue, unsteadiness on his feet, and occasional hemoptysis. He was treated with albuterol inhaler every 4 hours, but felt like it didn't improve his symptoms.\n",
      "\n",
      "Problem-based hospital course---\n",
      "\n",
      "# Interstitial lung disease --- The patient presented with diffuse ground-glass opacities in bilateral lungs on CT scan, which was consistent with interstitial lung disease. The patient was treated with prednisone taper and ceftriaxone/azithromycin, and subsequently improved.\n",
      "\n",
      "# Acute on chronic systolic heart failure --- The patient presented with worsening hypoxemia and was treated with diuresis, but his respiratory status declined requiring transfer to the medical intensive care unit. The patient was diagnosed with acute on chronic systolic heart failure based on new PND, orthopnea, and elevated BNP.\n",
      "\n",
      "# Community-acquired pneumonia --- The patient presented with fever, pneumonia, and diffuse ground-glass opacities in bilateral lungs on CT scan, which was consistent with community-acquired pneumonia. The patient was treated with ceftriaxone/azithromycin, and subsequently improved.\n",
      "\n",
      "\n",
      "Time taken for generate_bhc: 11.544435977935791 seconds.\n",
      "142 of 250, 56.8% hadm_id: 28523206 **********\n",
      "\n",
      "\n",
      "1276\n"
     ]
    },
    {
     "name": "stderr",
     "output_type": "stream",
     "text": [
      "Processed prompts: 100%|██████████| 1/1 [00:05<00:00,  5.99s/it, est. speed input: 213.06 toks/s, output: 38.57 toks/s]\n"
     ]
    },
    {
     "name": "stdout",
     "output_type": "stream",
     "text": [
      "Brief Hospital Course\n",
      "The patient with a history of type 1 diabetes and sepsis presents with fever, pain, and tachycardia. They were admitted to the medical floor for sepsis, pyelonephritis, and fever. The patient was diagnosed with pyelonephritis and sepsis.\n",
      "\n",
      "Problem-based hospital course---\n",
      "# Pyelonephritis --- The patient presented with fever, pain, and tachycardia. The diagnostic work up included laboratory tests, including a complete blood count, blood chemistry, and urinalysis. Notable results included a platelet count of 242, neutrophils of 87.1%, and a urine culture that was negative. The patient received treatment with antibiotics and fluids.\n",
      "# Sepsis --- The patient presented with fever, tachycardia, and sepsis. The diagnostic work up included laboratory tests, including a complete blood count, blood chemistry, and urinalysis. Notable results included a lactate level of 2.1% and 2.9%. The patient received treatment with antibiotics and fluids.\n",
      "\n",
      "\n",
      "Time taken for generate_bhc: 6.012248516082764 seconds.\n",
      "143 of 250, 57.2% hadm_id: 20202032 **********\n",
      "\n",
      "\n",
      "1204\n"
     ]
    },
    {
     "name": "stderr",
     "output_type": "stream",
     "text": [
      "Processed prompts: 100%|██████████| 1/1 [00:05<00:00,  5.10s/it, est. speed input: 236.42 toks/s, output: 38.29 toks/s]\n"
     ]
    },
    {
     "name": "stdout",
     "output_type": "stream",
     "text": [
      "Brief Hospital Course\n",
      "The patient with a history of [briefly describe the relevent medical history or existing medical problems] \n",
      "presents with [briefly summarize the patient's symptoms]. They were admitted to the [what unit, service or floor were they admitted to?]\n",
      "for [briefly summarize the reason for admission, initial diagnosis, and any major procedures or treatments].\n",
      "[Briefly summarize the discharge diagnosis at discharge]\n",
      "\n",
      "Problem-based hospital course---\n",
      "# [Medical condition 1] --- [briefly describe presentation and severity for this medical condition or symptom].\n",
      "[Summarize the related diagnostic work up and notable results]. \n",
      "[Summarize the related medical or surgical treatment course].\n",
      "\n",
      "# [Medical condition 2] -- [briefly describe presentation and severity for this medical condition or symptom].\n",
      "[Summarize the diagnostic work up and notable results related to this medical condition]. \n",
      "[Summarize the related medical or surgical treatment course]. \n",
      "\n",
      "\n",
      "Time taken for generate_bhc: 5.114606857299805 seconds.\n",
      "144 of 250, 57.6% hadm_id: 22289537 **********\n",
      "\n",
      "\n",
      "1576\n"
     ]
    },
    {
     "name": "stderr",
     "output_type": "stream",
     "text": [
      "Processed prompts: 100%|██████████| 1/1 [00:05<00:00,  5.18s/it, est. speed input: 304.60 toks/s, output: 37.30 toks/s]\n"
     ]
    },
    {
     "name": "stdout",
     "output_type": "stream",
     "text": [
      "Brief Hospital Course\n",
      "The patient with a history of coronary artery disease, hypertension, and diabetes mellitus type II presents with a fall on the morning of ___. She was admitted to the medical floor for further pain control and management of her rib fractures.\n",
      "\n",
      "Problem-based hospital course---\n",
      "# Rib Fractures --- The patient presented with right-sided chest and shoulder pain following a fall. The diagnostic work up included a CT chest, which was notable for anterior right 2nd rib fracture as well as lateral rib fractures of the right 3rd, 4th, and 5th ribs with no pneumothorax. The patient's pain was difficult to control, and she was found to have elevated blood pressure to 190, prompting admission for further pain control.\n",
      "\n",
      "# Coronary Artery Disease --- The patient has a history of CAD s/p DES to LCX. There was no specific presentation or symptom related to CAD during this hospital admission.\n",
      "\n",
      "\n",
      "Time taken for generate_bhc: 5.199863910675049 seconds.\n",
      "145 of 250, 58.0% hadm_id: 25223014 **********\n",
      "\n",
      "\n",
      "1820\n"
     ]
    },
    {
     "name": "stderr",
     "output_type": "stream",
     "text": [
      "Processed prompts: 100%|██████████| 1/1 [00:04<00:00,  4.62s/it, est. speed input: 394.30 toks/s, output: 36.83 toks/s]\n"
     ]
    },
    {
     "name": "stdout",
     "output_type": "stream",
     "text": [
      "Brief Hospital Course\n",
      "The patient with a history of Afib and bladder cancer presents with chest pain. They were admitted to the hospital for evaluation of chest pain and suspected urinary tract infection.\n",
      "\n",
      "Problem-based hospital course---\n",
      "# Chest Pain --- The patient presented with chest pain that began yesterday AM while at rest, shortly after waking and was a constant pressure for about 2 hours at its worst. The pain was nonradiating, associated with shortness of breath, and fever at home around the same time. The patient was given 2 liters of fluids, cipro, and flagyl in the emergency department.\n",
      "\n",
      "# Urinary Tract Infection --- The patient was diagnosed with urinary tract infection based on the urine culture results, which showed a positive nitrite test and a protein level of 30. The patient was treated with antibiotics.\n",
      "\n",
      "\n",
      "Time taken for generate_bhc: 4.643739223480225 seconds.\n",
      "146 of 250, 58.4% hadm_id: 26148549 **********\n",
      "\n",
      "\n",
      "2185\n"
     ]
    },
    {
     "name": "stderr",
     "output_type": "stream",
     "text": [
      "Processed prompts: 100%|██████████| 1/1 [00:05<00:00,  5.25s/it, est. speed input: 416.35 toks/s, output: 36.20 toks/s]\n"
     ]
    },
    {
     "name": "stdout",
     "output_type": "stream",
     "text": [
      "Brief Hospital Course\n",
      "The patient with a history of Crohn's disease presents with worsening abdominal pain in the right lower quadrant associated with nausea and vomiting. She was admitted to the medical floor for evaluation of a suspected Crohn's flare. The patient was initially diagnosed with partial small bowel obstruction and was treated with pulse dose steroids and NPO.\n",
      "\n",
      "Problem-based hospital course---\n",
      "# Crohn's flare --- The patient presented with worsening abdominal pain in the right lower quadrant associated with nausea and vomiting. The patient was treated with pulse dose steroids and NPO.\n",
      "[Summarize the related diagnostic work up and notable results]. The patient underwent a CT scan of the abdomen which showed a 3 cm segment of distal ileum hyperenhancement and stricturing in the right lower quadrant with fluid-filled and dilated small bowel both proximal and distal to this point up to a maximum of 6 cm compatible with partial small bowel obstruction.\n",
      "\n",
      "\n",
      "Time taken for generate_bhc: 5.283182382583618 seconds.\n",
      "147 of 250, 58.8% hadm_id: 28734619 **********\n",
      "\n",
      "\n",
      "1725\n"
     ]
    },
    {
     "name": "stderr",
     "output_type": "stream",
     "text": [
      "Processed prompts: 100%|██████████| 1/1 [00:05<00:00,  5.15s/it, est. speed input: 335.12 toks/s, output: 36.91 toks/s]\n"
     ]
    },
    {
     "name": "stdout",
     "output_type": "stream",
     "text": [
      "Brief Hospital Course\n",
      "The patient with a history of frequent headaches and visual changes presents with an episode of vision loss. He was admitted to the Neurology service for evaluation of his symptoms.\n",
      "\n",
      "The patient was initially diagnosed with visual disturbances, likely migraine. He presented with an episode of vision loss, which lasted 20 seconds, followed by a dull constant pain over the right side of his head and vertex. He had no concurrent symptoms with his episode. He had a history of similar episodes in the last 3 weeks, none prior.\n",
      "\n",
      "Problem-based hospital course---\n",
      "# Visual disturbances --- \n",
      "The patient presented with an episode of vision loss, which lasted 20 seconds, followed by a dull constant pain over the right side of his head and vertex. The diagnostic work up included a CT head, MRI head, and CTA head/neck, which were all unremarkable. The patient was diagnosed with subjective visual changes, likely migraine.\n",
      "\n",
      "\n",
      "Time taken for generate_bhc: 5.19911789894104 seconds.\n",
      "148 of 250, 59.2% hadm_id: 25645877 **********\n",
      "\n",
      "\n",
      "1386\n"
     ]
    },
    {
     "name": "stderr",
     "output_type": "stream",
     "text": [
      "Processed prompts: 100%|██████████| 1/1 [00:04<00:00,  4.03s/it, est. speed input: 344.61 toks/s, output: 37.05 toks/s]\n"
     ]
    },
    {
     "name": "stdout",
     "output_type": "stream",
     "text": [
      "Brief Hospital Course\n",
      "The patient with a history of hep C, CAD presents with chest pain. He was admitted to the cardiology floor for acute coronary syndrome, initial diagnosis, and treatment of chest pain.\n",
      "\n",
      "Problem-based hospital course---\n",
      "# CAD --- The patient presented with sharp left-sided chest pain, different from his prior chest dullness/presure. He was diagnosed with CAD and underwent a stress echo, which showed no diagnostic ST-T wave changes and normal regional and global left ventricular systolic function.\n",
      "\n",
      "# Hypertension --- The patient's blood pressure was 136/85 mmHg on admission, and he was treated with ASA 81 x3 and enoxaparin sodium 100 mg SC ONCE.\n",
      "\n",
      "\n",
      "Time taken for generate_bhc: 4.050323486328125 seconds.\n",
      "149 of 250, 59.6% hadm_id: 21344509 **********\n",
      "\n",
      "\n",
      "1330\n"
     ]
    },
    {
     "name": "stderr",
     "output_type": "stream",
     "text": [
      "Processed prompts: 100%|██████████| 1/1 [00:06<00:00,  6.11s/it, est. speed input: 217.66 toks/s, output: 37.97 toks/s]\n"
     ]
    },
    {
     "name": "stdout",
     "output_type": "stream",
     "text": [
      "Brief Hospital Course\n",
      "The patient with a history of abdominal pain presents with right lower quadrant abdominal pain. She was admitted to the gynecological service for further evaluation.\n",
      "for a cystic pelvic mass found on CT scan, initial diagnosis of a large dumbell shaped septated cystic lesion in the left adnexa, and further evaluation with US and MRI.\n",
      "Abdominal pain.\n",
      "\n",
      "Problem-based hospital course---\n",
      "# Abdominal pain --- The patient presented with mild right lower quadrant discomfort, which was initially reported as constant, aching periumbilical pain around 8pm the day prior to presentation to OSH. The pain was not in the right lower quadrant on arrival to OSH, and was found to be afebrile and hemodynamically stable. \n",
      "The patient underwent US that showed a 6.7cm cystic structure with internal echoes and peripheral septation in the left adnexa that had the appearance of a hydrosalpinx, vs a primary septated ovarian lesion, with recommendations for a non urgent MRI. \n",
      "The patient was admitted to the gynecological service for further monitoring.\n",
      "\n",
      "\n",
      "Time taken for generate_bhc: 6.135709524154663 seconds.\n",
      "150 of 250, 60.0% hadm_id: 24367016 **********\n",
      "\n",
      "\n",
      "1948\n"
     ]
    },
    {
     "name": "stderr",
     "output_type": "stream",
     "text": [
      "Processed prompts: 100%|██████████| 1/1 [00:06<00:00,  6.81s/it, est. speed input: 286.21 toks/s, output: 37.32 toks/s]\n"
     ]
    },
    {
     "name": "stdout",
     "output_type": "stream",
     "text": [
      "Brief Hospital Course\n",
      "The patient with a history of congenital bilateral lower extremity deformity, status post L BKA as a child, presents with pain and swelling of her left stump. She was admitted to the surgical intensive care unit for debridement and drainage of left stump abscess, initial diagnosis of ulcer of other part of lower limb, and lower limb anomaly NOS.\n",
      "\n",
      "Problem-based hospital course---\n",
      "# Abscess and cellulitis of lower extremity --- The patient presented with erythema and swelling of her left stump, with worsening erythema and swelling over the last 2 days, and increased pain while wearing prosthesis.\n",
      "The diagnostic work up included stump US which was negative for abscess, stump x-ray with diffuse soft tissue edema and ulcer, without evidence of osteomyelitis, and MRI left stump showing prominent fluid collection at the distal stump of the left lower extremity with surrounding soft tissue edema and enhancement, concerning for cellulitis with soft tissue abscess.\n",
      "The related medical treatment course included vancomycin 1 gram IV, and debridement and drainage of left stump abscess.\n",
      "\n",
      "# Hypertension --- The patient was diagnosed with hypertension, but there is no information about the treatment course.\n",
      "\n",
      "\n",
      "Time taken for generate_bhc: 6.837783098220825 seconds.\n",
      "151 of 250, 60.4% hadm_id: 28401393 **********\n",
      "\n",
      "\n",
      "2245\n"
     ]
    },
    {
     "name": "stderr",
     "output_type": "stream",
     "text": [
      "Processed prompts: 100%|██████████| 1/1 [00:05<00:00,  5.71s/it, est. speed input: 393.42 toks/s, output: 36.45 toks/s]\n"
     ]
    },
    {
     "name": "stdout",
     "output_type": "stream",
     "text": [
      "Brief Hospital Course\n",
      "The patient with a history of CAD, Hep C, leukocytoclastic vasculitis, mononeuritis multiplex, nephropathy, and retinal detachment presents with increased tremor. He was admitted to the hospital for evaluation and management of his symptoms.\n",
      "\n",
      "Problem-based hospital course---\n",
      "# Tremor --- The patient presented with a severe tremor that interfered with his daily activities. The diagnostic work up included laboratory tests, including CK, CK-MB, and troponin, which were all within normal limits. The patient was treated with prednisone for his vasculitis and was tapered off the medication. The patient's tremor improved with treatment.\n",
      "\n",
      "# Chronic Kidney Injury --- The patient had a history of nephropathy and was found to have chronic kidney injury on admission. The diagnostic work up included laboratory tests, including creatinine and urea nitrogen, which were elevated. The patient was treated with supportive care and was discharged with a diagnosis of chronic kidney injury.\n",
      "\n",
      "\n",
      "Time taken for generate_bhc: 5.748043775558472 seconds.\n",
      "152 of 250, 60.8% hadm_id: 27853305 **********\n",
      "\n",
      "\n",
      "1452\n"
     ]
    },
    {
     "name": "stderr",
     "output_type": "stream",
     "text": [
      "Processed prompts: 100%|██████████| 1/1 [00:06<00:00,  6.16s/it, est. speed input: 235.74 toks/s, output: 37.99 toks/s]\n"
     ]
    },
    {
     "name": "stdout",
     "output_type": "stream",
     "text": [
      "Brief Hospital Course\n",
      "The patient with a history of ovarian hyperstimulation syndrome presents with nausea, vomiting, and abdominal discomfort. She was admitted to the gynecology service for evaluation and management of ovarian hyperstimulation syndrome.\n",
      "\n",
      "The patient was initially diagnosed with right lower quadrant pain and was placed on dostinex postprocedure. She reported ongoing abdominal discomfort and nausea since the procedure. She was seen in the office and had a small amount of pelvic free fluid, but not enough for a culdocentesis.\n",
      "\n",
      "Problem-based hospital course---\n",
      "# Ovarian Hyperstimulation Syndrome --- The patient presented with worsening abdominal discomfort, nausea, and vomiting over the last two days. She had a high peak estradiol level and underwent egg retrieval. The patient was placed on IVF and Zofran and felt somewhat better initially, but symptoms worsened over time.\n",
      "\n",
      "The diagnostic work up included complete blood counts, blood chemistries, and urinalysis. Notable results included elevated white blood cell count, platelet count, and D-dimer level. The patient was treated with supportive care and was diagnosed with ovarian hyperstimulation syndrome at discharge.\n",
      "\n",
      "\n",
      "Time taken for generate_bhc: 6.186732053756714 seconds.\n",
      "153 of 250, 61.2% hadm_id: 24493606 **********\n",
      "\n",
      "\n",
      "1647\n"
     ]
    },
    {
     "name": "stderr",
     "output_type": "stream",
     "text": [
      "Processed prompts: 100%|██████████| 1/1 [00:06<00:00,  6.12s/it, est. speed input: 269.18 toks/s, output: 37.75 toks/s]\n"
     ]
    },
    {
     "name": "stdout",
     "output_type": "stream",
     "text": [
      "Brief Hospital Course\n",
      "The patient with a history of atrial fibrillation on Coumadin, spontaneous sustained VTach s/p ICD placement, IDDM, ischemic cardiomyopathy presents with gross hematuria after a recent increase in her Coumadin dose. She was admitted to the floor for supratherapeutic INR and hematuria.\n",
      "\n",
      "Problem-based hospital course---\n",
      "# Hematuria --- \n",
      "The patient presented with hematuria of one day's duration, initially red and later turning almost blackish in color. No pain or recent trauma/fall. No dizziness, lightheadedness, CP, SOB, abdominal pain, or back pain. No ecchymoses or petechiae. Urinating without difficulty, no dysuria. No recent foley catheterization or urinary tract instrumentation.\n",
      "\n",
      "The diagnostic work up included a renal US, which showed atrophic kidneys with thin cortex bilaterally, but no evidence of hydronephrosis, stones, or focal masses. The patient was given IVF, IV CefTRIAXone, and PO/NG Phytonadione.\n",
      "\n",
      "\n",
      "Time taken for generate_bhc: 6.167698383331299 seconds.\n",
      "154 of 250, 61.6% hadm_id: 27711429 **********\n",
      "\n",
      "\n",
      "2080\n"
     ]
    },
    {
     "name": "stderr",
     "output_type": "stream",
     "text": [
      "Processed prompts: 100%|██████████| 1/1 [00:06<00:00,  6.88s/it, est. speed input: 302.25 toks/s, output: 37.34 toks/s]\n"
     ]
    },
    {
     "name": "stdout",
     "output_type": "stream",
     "text": [
      "Brief Hospital Course\n",
      "The patient with a history of left lower extremity lymphedema, ESRD (on HD), and recent left lower extremity cellulitis presents with left lower extremity pain and swelling. He was admitted to the medical floor for worsening cellulitis and pain.\n",
      "\n",
      "The patient was initially diagnosed with cellulitis of the left lower limb and was treated with IV ceftriaxone and vancomycin, followed by PO cephalexin and doxycycline. He was also given oxycodone for pain management.\n",
      "\n",
      "Problem-based hospital course---\n",
      "# Left lower extremity cellulitis --- The patient presented with worsening pain and swelling in his left lower extremity, which was initially treated with IV antibiotics and later transitioned to oral antibiotics.\n",
      "\n",
      "[Summarize the related diagnostic work up and notable results]. \n",
      "The patient underwent a left lower extremity ultrasound, which showed no evidence of deep venous thrombosis in the left lower extremity veins. The patient also had prominent left inguinal lymph nodes re-demonstrated.\n",
      "\n",
      "[Summarize the related medical or surgical treatment course]. \n",
      "The patient was treated with IV antibiotics, followed by oral antibiotics, and was also given oxycodone for pain management.\n",
      "\n",
      "\n",
      "Time taken for generate_bhc: 6.911451578140259 seconds.\n",
      "155 of 250, 62.0% hadm_id: 22173370 **********\n",
      "\n",
      "\n",
      "1752\n"
     ]
    },
    {
     "name": "stderr",
     "output_type": "stream",
     "text": [
      "Processed prompts: 100%|██████████| 1/1 [00:06<00:00,  6.08s/it, est. speed input: 288.39 toks/s, output: 37.53 toks/s]\n"
     ]
    },
    {
     "name": "stdout",
     "output_type": "stream",
     "text": [
      "Brief Hospital Course\n",
      "The patient with a history of hypertension, hyperlipidemia, and remote migraine presents with headache and vertigo. She was admitted to the emergency department for evaluation of persistent headache and vertigo that began overnight and has remained persistent since then, causing gait unsteadiness.\n",
      "\n",
      "Problem-based hospital course---\n",
      "# Headache and vertigo --- The patient presented with a severe headache and vertigo that began overnight and has remained persistent since then, causing gait unsteadiness.\n",
      "[Summarize the related diagnostic work up and notable results]. \n",
      "The patient underwent a CT angiogram of the head and neck, which showed no acute intracranial abnormalities identified. The MRI brain without contrast showed no acute infarction and no evidence for other acute intracranial abnormalities.\n",
      "\n",
      "# Migraine --- The patient had a history of remote migraine and presented with symptoms consistent with a migraine, including headache, vertigo, and photophobia.\n",
      "[Summarize the related medical or surgical treatment course]. \n",
      "The patient was treated with supportive care and was discharged with a diagnosis of migrainous vertigo.\n",
      "\n",
      "\n",
      "Time taken for generate_bhc: 6.101179361343384 seconds.\n",
      "156 of 250, 62.4% hadm_id: 29443276 **********\n",
      "\n",
      "\n",
      "1181\n"
     ]
    },
    {
     "name": "stderr",
     "output_type": "stream",
     "text": [
      "Processed prompts: 100%|██████████| 1/1 [00:07<00:00,  7.25s/it, est. speed input: 163.02 toks/s, output: 38.65 toks/s]\n"
     ]
    },
    {
     "name": "stdout",
     "output_type": "stream",
     "text": [
      "Brief Hospital Course\n",
      "The patient with a history of postoperative lumbar spine surgery presents with a headache of gradual onset, worsening in severity over the past 4 days. They were admitted to the hospital for CT-guided aspiration with fibrin glue patch of epidural abscess fluid collection.\n",
      "The patient was admitted for a CT-guided aspiration with fibrin glue patch of epidural abscess fluid collection.\n",
      "\n",
      "Problem-based hospital course---\n",
      "# Post-op lumbar seroma --- The patient presented with a headache of gradual onset, worsening in severity over the past 4 days. The diagnostic work up included a CT-guided aspiration with fibrin glue patch of epidural abscess fluid collection. The notable results were successful aspiration of approximately 1 mL of straw-colored fluid from the epidural abscess at the level of L4-5 in the posterior spinal soft tissues. The related medical treatment course included the introduction of 1 mL of fibrin sealant Evicel into the cavity.\n",
      "\n",
      "# Migraine headache --- The patient presented with a headache of gradual onset, worsening in severity over the past 4 days. The diagnostic work up included a review of the patient's medical history and symptoms. The notable results were the patient's response to treatment with oxycodone and OxyContin for postoperative pain control. The related medical treatment course included the continuation of these medications.\n",
      "\n",
      "\n",
      "Time taken for generate_bhc: 7.266136407852173 seconds.\n",
      "157 of 250, 62.8% hadm_id: 25799624 **********\n",
      "\n",
      "\n",
      "1882\n"
     ]
    },
    {
     "name": "stderr",
     "output_type": "stream",
     "text": [
      "Processed prompts: 100%|██████████| 1/1 [00:05<00:00,  5.79s/it, est. speed input: 325.23 toks/s, output: 37.33 toks/s]\n"
     ]
    },
    {
     "name": "stdout",
     "output_type": "stream",
     "text": [
      "Brief Hospital Course\n",
      "The patient with a history of renal transplant and diabetic nephropathy, left breast IDC s/p lumpectomy and XRT, and DMI on insulin pump presents with nausea, vomiting, diarrhea, myalgias, and fever/chills. She was admitted to the medical service for suspected viral gastroenteritis and acute febrile illness.\n",
      "\n",
      "Problem-based hospital course---\n",
      "# Viral gastroenteritis --- The patient presented with diarrhea, nausea, vomiting, and abdominal pain. She was treated with IV fluids, acetaminophen, and ondansetron. The diagnostic work up included blood cultures, CXR, and urine analysis, which were all negative. The patient was started back on her home medications and immunosuppressives, and was observed overnight to assess for improvement.\n",
      "\n",
      "# Acute febrile illness --- The patient presented with fever, chills, and headache. She was treated with IV fluids and acetaminophen. The diagnostic work up included blood cultures, which were pending at the time of discharge.\n",
      "\n",
      "\n",
      "Time taken for generate_bhc: 5.815863132476807 seconds.\n",
      "158 of 250, 63.2% hadm_id: 27572224 **********\n",
      "\n",
      "\n",
      "1544\n"
     ]
    },
    {
     "name": "stderr",
     "output_type": "stream",
     "text": [
      "Processed prompts: 100%|██████████| 1/1 [00:06<00:00,  6.39s/it, est. speed input: 241.71 toks/s, output: 37.73 toks/s]\n"
     ]
    },
    {
     "name": "stdout",
     "output_type": "stream",
     "text": [
      "Brief Hospital Course\n",
      "The patient with a history of ulcerative colitis on TNF alpha inhibitor presents with frequent bloody bowel movements for several weeks and now with subjective fever. He was admitted to the EAST unit for infectious work-up including blood cultures, UA/culture, CXR, stool cultures (including c.diff), as well as ESR/CRP and KUB.\n",
      "\n",
      "Problem-based hospital course---\n",
      "# Ulcerative colitis --- The patient presented with frequent bloody bowel movements for several weeks, which had not improved with prednisone treatment. He was admitted for further evaluation and treatment.\n",
      "\n",
      "[Summarize the related diagnostic work up and notable results]. \n",
      "The patient underwent a flexible sigmoidoscopy, which showed abnormal mucosa in the colon with erythema, granularity, edema, and scattered ulcerations.\n",
      "\n",
      "[Summarize the related medical or surgical treatment course]. \n",
      "The patient was started on a TNF alpha inhibitor in September and was tapered off prednisone around that time. He was restarted on prednisone at 2.5mg daily and then increased to 10mg daily for several days before admission. He was given no medications in the ED.\n",
      "\n",
      "\n",
      "Time taken for generate_bhc: 6.41423225402832 seconds.\n",
      "159 of 250, 63.6% hadm_id: 21020022 **********\n",
      "\n",
      "\n",
      "1513\n"
     ]
    },
    {
     "name": "stderr",
     "output_type": "stream",
     "text": [
      "Processed prompts: 100%|██████████| 1/1 [00:04<00:00,  4.87s/it, est. speed input: 310.76 toks/s, output: 37.38 toks/s]\n"
     ]
    },
    {
     "name": "stdout",
     "output_type": "stream",
     "text": [
      "Brief Hospital Course\n",
      "The patient with a history of depression and anxiety presents with acute onset vertigo, nausea, vomiting. She was admitted to the emergency department for evaluation and management of her symptoms.\n",
      "\n",
      "The patient was initially diagnosed with dizziness and giddiness, and was treated with Ativan and meclizine in the emergency department without improvement. She was then transferred to the hospital for further evaluation and management.\n",
      "\n",
      "Problem-based hospital course---\n",
      "# Vestibular neuritis --- The patient presented with acute onset vertigo, nausea, vomiting, and difficulty walking. She was diagnosed with vestibular neuritis based on the results of her CT and MRI scans, which showed no evidence of intracranial hemorrhage, edema, mass, or infarction.\n",
      "\n",
      "The patient was treated with supportive care, including rest and hydration, and was discharged with a diagnosis of vestibular neuritis.\n",
      "\n",
      "\n",
      "Time taken for generate_bhc: 4.896656036376953 seconds.\n",
      "160 of 250, 64.0% hadm_id: 25768504 **********\n",
      "\n",
      "\n",
      "992\n"
     ]
    },
    {
     "name": "stderr",
     "output_type": "stream",
     "text": [
      "Processed prompts: 100%|██████████| 1/1 [00:05<00:00,  5.74s/it, est. speed input: 173.05 toks/s, output: 38.38 toks/s]\n"
     ]
    },
    {
     "name": "stdout",
     "output_type": "stream",
     "text": [
      "Brief Hospital Course\n",
      "The patient with a history of chronic heel ulceration and failed conservative measures \n",
      "presents with a left heel infection. They were admitted to the Orthopedic Service \n",
      "for chronic osteomyelitis of the left heel, initial diagnosis, and debridement. \n",
      "Chronic osteomyelitis of the left heel at discharge.\n",
      "\n",
      "Problem-based hospital course---\n",
      "# Left heel infection --- The patient presented with a left heel infection with x-ray changes.\n",
      "[Summarize the related diagnostic work up and notable results]. \n",
      "The patient underwent blood work, including complete blood count, blood chemistry, and inflammatory markers. Notable results include elevated white blood cell count, erythrocyte sedimentation rate, and C-reactive protein.\n",
      "\n",
      "# Chronic osteomyelitis of the left heel -- The patient presented with chronic osteomyelitis of the left heel.\n",
      "[Summarize the related diagnostic work up and notable results]. \n",
      "The patient underwent x-ray of the left heel, which showed chronic osteomyelitis of the left calcaneus near the ulceration.\n",
      "\n",
      "\n",
      "Time taken for generate_bhc: 5.754668474197388 seconds.\n",
      "161 of 250, 64.4% hadm_id: 26173464 **********\n",
      "\n",
      "\n",
      "1203\n"
     ]
    },
    {
     "name": "stderr",
     "output_type": "stream",
     "text": [
      "Processed prompts: 100%|██████████| 1/1 [00:07<00:00,  7.61s/it, est. speed input: 158.08 toks/s, output: 38.63 toks/s]\n"
     ]
    },
    {
     "name": "stdout",
     "output_type": "stream",
     "text": [
      "Brief Hospital Course\n",
      "The patient with a history of abdominal pain presents with abdominal pain. He was admitted to the Medical Intensive Care Unit for acute cholecystitis, suspected small bowel obstruction, and possible portal vein thrombosis. For acute cholecystitis, he underwent ultrasound-guided percutaneous cholecystostomy with placement of an 8 ___ ___ catheter, which was technically successful.\n",
      "\n",
      "Problem-based hospital course---\n",
      "# Acute Cholecystitis --- The patient presented with sharp RUQ abdominal pain since ___. He had not moved his bowels in many days, had +abd distention, no appetite, +nausea, and a low-grade fever.\n",
      "The diagnostic work up included blood tests, which showed WBC-11.8* RBC-4.50* Hgb-14.1 Hct-43.3 MCV-96 MCH-31.4 MCHC-32.6 RDW-13.4 Plt ___ and WBC-18.1* RBC-5.01 Hgb-15.8 Hct-47.5 MCV-95 MCH-31.6 MCHC-33.3 RDW-13.1 Plt ___.\n",
      "The patient also underwent ultrasound and CT scans, which showed findings consistent with acute cholecystitis and probable thrombus in a branch of the right portal vein in hepatic segment.\n",
      "\n",
      "\n",
      "Time taken for generate_bhc: 7.634400129318237 seconds.\n",
      "162 of 250, 64.8% hadm_id: 26017163 **********\n",
      "\n",
      "\n",
      "1601\n"
     ]
    },
    {
     "name": "stderr",
     "output_type": "stream",
     "text": [
      "Processed prompts: 100%|██████████| 1/1 [00:05<00:00,  5.23s/it, est. speed input: 306.34 toks/s, output: 37.31 toks/s]\n"
     ]
    },
    {
     "name": "stdout",
     "output_type": "stream",
     "text": [
      "Brief Hospital Course\n",
      "The patient with a history of prior left MCA stroke with residual aphasia presents with a seizure. She was admitted to the Neurology service for evaluation of right head twitching.\n",
      "\n",
      "The patient was admitted for evaluation of a seizure, initial diagnosis of altered mental status, and related diagnostic workup.\n",
      "\n",
      "The patient presents with a seizure, which was evaluated with a CT head and neck, and the discharge diagnosis was focal motor seizure originating in the area of encephalomalacia from her prior stroke.\n",
      "\n",
      "Problem-based hospital course---\n",
      "# Focal motor seizure --- The patient presented with a seizure, which was evaluated with a CT head and neck.\n",
      "[Summarize the related diagnostic work up and notable results]. \n",
      "The patient was diagnosed with a focal motor seizure originating in the area of encephalomalacia from her prior stroke.\n",
      "[Summarize the related medical or surgical treatment course]. \n",
      "The patient did not undergo any major procedures.\n",
      "\n",
      "\n",
      "Time taken for generate_bhc: 5.252086877822876 seconds.\n",
      "163 of 250, 65.2% hadm_id: 26112482 **********\n",
      "\n",
      "\n",
      "925\n"
     ]
    },
    {
     "name": "stderr",
     "output_type": "stream",
     "text": [
      "Processed prompts: 100%|██████████| 1/1 [00:02<00:00,  2.88s/it, est. speed input: 321.46 toks/s, output: 37.18 toks/s]\n"
     ]
    },
    {
     "name": "stdout",
     "output_type": "stream",
     "text": [
      "Brief Hospital Course\n",
      "The patient with a history of facial contusion \n",
      "presents with left brow pain and swelling. They were admitted to the Emergency Department \n",
      "for facial contusion with suspected cellulitis of the face.\n",
      "Facial contusion --- \n",
      "The patient presented with left brow pain and swelling, which was severe and lasted for several hours.\n",
      "The related diagnostic work up included blood tests, which showed mild leukocytosis and normal electrolyte levels.\n",
      "The related medical treatment course included administration of antibiotics and pain management.\n",
      "\n",
      "\n",
      "Time taken for generate_bhc: 2.9004807472229004 seconds.\n",
      "164 of 250, 65.6% hadm_id: 29540663 **********\n",
      "\n",
      "\n",
      "1985\n"
     ]
    },
    {
     "name": "stderr",
     "output_type": "stream",
     "text": [
      "Processed prompts: 100%|██████████| 1/1 [00:08<00:00,  8.80s/it, est. speed input: 225.60 toks/s, output: 37.85 toks/s]\n"
     ]
    },
    {
     "name": "stdout",
     "output_type": "stream",
     "text": [
      "Brief Hospital Course\n",
      "The patient with a history of diabetes mellitus, hypertension, and renal failure presents with falls, nausea, vomiting, and dizziness. He was admitted to the medicine floor for left blood glucose bleed, which presented with generalized weakness and confusion, who presents again for frequent falls, nausea, vomiting, and dizziness.\n",
      "\n",
      "Problem-based hospital course---\n",
      "# Left Blood Glucose Bleed --- The patient presented with generalized weakness and confusion, which was diagnosed as a left blood glucose bleed.\n",
      "[Summarize the related diagnostic work up and notable results]. The patient's blood glucose level was 245 mg/dL, and his creatinine level was 1.8 mg/dL. He had a CK-MB level of 2, and his troponin level was less than 0.01.\n",
      "[Summarize the related medical or surgical treatment course]. The patient received treatment for his left blood glucose bleed, including insulin therapy and fluid management.\n",
      "\n",
      "# Abnormal Gait --- The patient had difficulty with his left leg for the past 4 days, which was diagnosed as an abnormal gait.\n",
      "[Summarize the diagnostic work up and notable results related to this medical condition]. The patient's MRI brain showed scattered FLAIR abnormalities in the periventricular distribution, which were likely sequela of small vessel ischemic disease. He also had an area of bright signal on diffusion-weighted imaging in the right posterior internal capsule, which was likely subacute infarction.\n",
      "\n",
      "[Summarize the related medical or surgical treatment course]. The patient received treatment for his abnormal gait, including physical therapy and medication management.\n",
      "\n",
      "\n",
      "Time taken for generate_bhc: 8.831333637237549 seconds.\n",
      "165 of 250, 66.0% hadm_id: 23510283 **********\n",
      "\n",
      "\n",
      "1799\n"
     ]
    },
    {
     "name": "stderr",
     "output_type": "stream",
     "text": [
      "Processed prompts: 100%|██████████| 1/1 [00:06<00:00,  6.81s/it, est. speed input: 264.48 toks/s, output: 37.63 toks/s]\n"
     ]
    },
    {
     "name": "stdout",
     "output_type": "stream",
     "text": [
      "Brief Hospital Course\n",
      "The patient with a history of hypertension, unclear history of possible seizure, prior TIA s/p CEA after finding of L ICA occlusion and right ICA stenosis, and baseline slowly progressive short term memory deficits presents with visual disturbance. He was admitted to the Neurology service for evaluation of IPH.\n",
      "\n",
      "The patient initially presented with a chief complaint of visual disturbance, which was later found to be a posterior reversible encephalopathy syndrome (PRES).\n",
      "\n",
      "Problem-based hospital course---\n",
      "# Visual Disturbance --- The patient presented with a visual disturbance, which was described as a brief \"visual aura\" followed by a loss of consciousness. The patient did not recall the event and was found by his colleague at work with visual disturbances that lasted approximately 20 minutes without a headache.\n",
      "\n",
      "The patient underwent a series of laboratory tests, including complete blood count, electrolyte panel, and blood glucose level, which were all within normal limits. The patient's blood pressure was controlled with medication.\n",
      "\n",
      "# Seizure History --- The patient has a history of possible seizure, which was diagnosed several years ago. He was maintained on keppra 500mg BID for a while, but he hasn't filled this medication for >6 months.\n",
      "\n",
      "\n",
      "Time taken for generate_bhc: 6.8310792446136475 seconds.\n",
      "166 of 250, 66.4% hadm_id: 27395071 **********\n",
      "\n",
      "\n",
      "2305\n"
     ]
    },
    {
     "name": "stderr",
     "output_type": "stream",
     "text": [
      "Processed prompts: 100%|██████████| 1/1 [00:09<00:00,  9.24s/it, est. speed input: 249.62 toks/s, output: 37.58 toks/s]\n"
     ]
    },
    {
     "name": "stdout",
     "output_type": "stream",
     "text": [
      "Brief Hospital Course\n",
      "The patient with a history of osteoarthritis (OA) and rheumatoid arthritis (RA) on chronic prednisone and tofacitinib, sciatica due to disc herniation presents with progressive inability to walk resulting in a fall on the morning of [___]. They were admitted to the [___] for [___], initial diagnosis of cellulitis of leg, and major procedures or treatments.\n",
      "\n",
      "The patient was diagnosed with [___] at discharge.\n",
      "\n",
      "Problem-based hospital course---\n",
      "\n",
      "# Chronic Steroid Myopathy --- The patient presented with progressive weakness of her lower extremities and progressive pain in her left hip radiating down her anterior left thigh. The patient was admitted to the hospital for evaluation and management of her symptoms. The diagnostic work up included laboratory tests, imaging studies, and physical examination. The notable results included elevated creatine kinase (CK) levels, mild symmetric left ventricular hypertrophy with normal cavity size and hyperdynamic systolic function on echocardiogram, and moderate osteoarthritic changes of the femoral acetabular joints bilaterally on hip radiographs. The patient received treatment with physical therapy, pain management, and medication adjustments.\n",
      "\n",
      "# Trochanteric Bursitis --- The patient presented with progressive pain in her left hip radiating down her anterior left thigh. The patient was admitted to the hospital for evaluation and management of her symptoms. The diagnostic work up included laboratory tests, imaging studies, and physical examination. The notable results included mild enthesopathy at the gluteus medius insertion on the greater tuberosity of the right femur on hip radiographs. The patient received treatment with physical therapy, pain management, and medication adjustments.\n",
      "\n",
      "\n",
      "Time taken for generate_bhc: 9.276259660720825 seconds.\n",
      "167 of 250, 66.8% hadm_id: 24462890 **********\n",
      "\n",
      "\n",
      "1076\n"
     ]
    },
    {
     "name": "stderr",
     "output_type": "stream",
     "text": [
      "Processed prompts: 100%|██████████| 1/1 [00:05<00:00,  5.07s/it, est. speed input: 212.36 toks/s, output: 38.09 toks/s]\n"
     ]
    },
    {
     "name": "stdout",
     "output_type": "stream",
     "text": [
      "Brief Hospital Course\n",
      "The patient with a history of hidradenitis suppurativa presents with left breast pain. She was admitted to the surgical service for a left breast abscess, initial diagnosis of abscess of the breast and nipple, and incision and drainage.\n",
      "\n",
      "Problem-based hospital course---\n",
      "# Hidradenitis Suppurativa --- The patient has a history of hidradenitis suppurativa with multiple episodes of hidradenitis on her bilateral breasts.\n",
      "[Summarize the related diagnostic work up and notable results]. \n",
      "[Summarize the related medical or surgical treatment course].\n",
      "\n",
      "# Left Breast Abscess --- The patient presented to the Emergency Room with a left breast abscess, with a 4.8 cm area of abscess and phlegmon in the medial left breast.\n",
      "[Summarize the related diagnostic work up and notable results]. \n",
      "[Summarize the related medical or surgical treatment course]. \n",
      "\n",
      "\n",
      "Time taken for generate_bhc: 5.089714050292969 seconds.\n",
      "168 of 250, 67.2% hadm_id: 24898500 **********\n",
      "\n",
      "\n",
      "2047\n"
     ]
    },
    {
     "name": "stderr",
     "output_type": "stream",
     "text": [
      "Processed prompts: 100%|██████████| 1/1 [00:06<00:00,  6.66s/it, est. speed input: 307.51 toks/s, output: 37.25 toks/s]\n"
     ]
    },
    {
     "name": "stdout",
     "output_type": "stream",
     "text": [
      "Brief Hospital Course\n",
      "The patient with a history of coronary artery disease, hypertension, hyperlipidemia, and benign prostatic hyperplasia presents with severe constipation and retroperitoneal lymphadenopathy concerning for malignancy. They were admitted to the emergency department for inpatient colonoscopy prep after failing outpatient prep. Colonoscopy was scheduled for work-up of worsening constipation over the past month.\n",
      "\n",
      "Problem-based hospital course---\n",
      "# Constipation --- The patient presented with severe constipation, which had grown progressively worse over the past three days, with three episodes of non-bloody non-bilious vomiting. The patient was diagnosed with constipation and was treated with IV fluids, ondansetron, and acetaminophen.\n",
      "\n",
      "# Retroperitoneal lymphadenopathy --- The patient was diagnosed with retroperitoneal lymphadenopathy resulting in left-sided hydroureter and slight fullness of the left collecting system, with malignancy a high concern. The patient underwent CT abdomen/pelvis, which showed prominent retroperitoneal and pelvic adenopathy. The patient was seen by urology, who did not think there was any evidence of infection or need for urgent decompression.\n",
      "\n",
      "\n",
      "Time taken for generate_bhc: 6.687471151351929 seconds.\n",
      "169 of 250, 67.6% hadm_id: 25695282 **********\n",
      "\n",
      "\n",
      "1411\n"
     ]
    },
    {
     "name": "stderr",
     "output_type": "stream",
     "text": [
      "Processed prompts: 100%|██████████| 1/1 [00:07<00:00,  7.15s/it, est. speed input: 197.53 toks/s, output: 38.22 toks/s]\n"
     ]
    },
    {
     "name": "stdout",
     "output_type": "stream",
     "text": [
      "Brief Hospital Course\n",
      "The patient with a history of chronic allograft nephropathy and a previous left upper extremity (LUE) AV fistula presents with swelling at the previous LUE AV fistula site, which has increased by about 25% over the past 2 weeks and has become painful. He was admitted to the surgical service for excision of the left brachial artery aneurysm and patch angioplasty of the left brachial artery.\n",
      "\n",
      "Problem-based hospital course---\n",
      "# LUE swelling --- The patient presented with swelling at the previous LUE AV fistula site, which has increased by about 25% over the past 2 weeks and has become painful.\n",
      "The diagnostic work up included laboratory tests, which showed normal white blood cell count, normal platelet count, and normal electrolyte levels. The urine analysis showed normal results. The patient underwent excision of the left brachial artery aneurysm and patch angioplasty of the left brachial artery.\n",
      "\n",
      "# Chronic allograft nephropathy --- The patient has a history of chronic allograft nephropathy, which is a complication of his kidney transplant.\n",
      "The diagnostic work up included laboratory tests, which showed normal kidney function and normal electrolyte levels. The patient was treated with tacrolimus and other medications as needed.\n",
      "\n",
      "\n",
      "Time taken for generate_bhc: 7.172262907028198 seconds.\n",
      "170 of 250, 68.0% hadm_id: 29485987 **********\n",
      "\n",
      "\n",
      "1931\n"
     ]
    },
    {
     "name": "stderr",
     "output_type": "stream",
     "text": [
      "Processed prompts: 100%|██████████| 1/1 [00:05<00:00,  5.51s/it, est. speed input: 351.00 toks/s, output: 36.72 toks/s]\n"
     ]
    },
    {
     "name": "stdout",
     "output_type": "stream",
     "text": [
      "Brief Hospital Course\n",
      "The patient with a history of alcoholic hepatitis, anemia, and leukocytosis presents with leukocytosis. They were admitted to the medical floor for alcoholic hepatitis, anemia, and suspected gastrointestinal bleeding.\n",
      "\n",
      "Problem-based hospital course---\n",
      "# Alcoholic Hepatitis --- The patient presented with a WBC of 30 and AST 198, ALT 51, TB 9.5, and Lactate 4.1. The diagnostic work up included labs notable for WBC of 26, AST 198, ALT 51, TB 9.5, and Lactate 4.1. The patient was given 1g CTX, 40meq KCL, and 1LNS.\n",
      "\n",
      "# Gastrointestinal Bleeding --- The patient presented with suspected gastrointestinal bleeding. The diagnostic work up included RUQUS showing moderate ascites, steatosis, and splenomegaly. The patient was given Lasix.\n",
      "\n",
      "\n",
      "Time taken for generate_bhc: 5.530813694000244 seconds.\n",
      "171 of 250, 68.4% hadm_id: 25817840 **********\n",
      "\n",
      "\n",
      "1261\n"
     ]
    },
    {
     "name": "stderr",
     "output_type": "stream",
     "text": [
      "Processed prompts: 100%|██████████| 1/1 [00:04<00:00,  4.81s/it, est. speed input: 262.58 toks/s, output: 37.90 toks/s]\n"
     ]
    },
    {
     "name": "stdout",
     "output_type": "stream",
     "text": [
      "Brief Hospital Course\n",
      "The patient with a history of cholangitis, asthma, and DM2 presents with a complaint of chills, malaise, and RUQ abdominal pain. They were admitted to the intensive care unit for klebsiella pneumoniae bacteremia complicated by soft blood pressure during ERCP requiring pressors and intubation. The patient was treated with CTX and zosyn.\n",
      "\n",
      "Problem-based hospital course---\n",
      "# Klebsiella pneumoniae bacteremia --- The patient presented with fever, not measured at home, as well as rigors. The patient was treated with CTX and zosyn.\n",
      "\n",
      "# Cholangitis --- The patient presented with RUQ abdominal pain, nausea, and vomiting. The patient was diagnosed with patchy areas of mild diffusion restriction throughout the right and left hepatic lobes, suspicious for cholangitis without a drainable abscess.\n",
      "\n",
      "\n",
      "Time taken for generate_bhc: 4.837270259857178 seconds.\n",
      "172 of 250, 68.8% hadm_id: 28203938 **********\n",
      "\n",
      "\n",
      "785\n"
     ]
    },
    {
     "name": "stderr",
     "output_type": "stream",
     "text": [
      "Processed prompts: 100%|██████████| 1/1 [00:03<00:00,  3.69s/it, est. speed input: 212.80 toks/s, output: 38.22 toks/s]\n"
     ]
    },
    {
     "name": "stdout",
     "output_type": "stream",
     "text": [
      "Brief Hospital Course\n",
      "The patient with a history of no prior medical history (pmh) presents with right wrist pain. They were admitted to the orthopedic service for a distal radius and ulna fracture, which was initially diagnosed as a fall from slipping, tripping, or stumbling, and later confirmed as a fracture. The patient was diagnosed with distal radius and ulna fracture at discharge.\n",
      "\n",
      "Problem-based hospital course---\n",
      "# Distal radius and ulna fracture --- The patient presented with right wrist pain after a mechanical fall on ice. The patient underwent no major procedures. The patient was treated with rest, ice, compression, and elevation (RICE) and pain management.\n",
      "\n",
      "\n",
      "Time taken for generate_bhc: 3.7093496322631836 seconds.\n",
      "173 of 250, 69.2% hadm_id: 21275379 **********\n",
      "\n",
      "\n",
      "1354\n"
     ]
    },
    {
     "name": "stderr",
     "output_type": "stream",
     "text": [
      "Processed prompts: 100%|██████████| 1/1 [00:06<00:00,  6.94s/it, est. speed input: 195.32 toks/s, output: 38.37 toks/s]\n"
     ]
    },
    {
     "name": "stdout",
     "output_type": "stream",
     "text": [
      "Brief Hospital Course\n",
      "The patient with a history of Lyme disease presents with abdominal pain, lower extremity weakness, nausea, vomiting, diarrhea, and weight loss of unclear etiology. They were admitted to the neurosurgery service for evaluation and management of multiple perineural cysts in the neural foramina bilaterally from T12-L1 through L5-S1 as well as a large left S1 nerve root Tarlov cyst.\n",
      "\n",
      "Problem-based hospital course---\n",
      "# Abdominal pain --- The patient presented with abdominal pain, nausea, vomiting, diarrhea, and weight loss of unclear etiology. The diagnostic work up included laboratory tests, including complete blood count, comprehensive metabolic panel, and liver function tests, which were all within normal limits. The patient underwent a lumbar puncture.\n",
      "\n",
      "# Lower extremity weakness --- The patient presented with lower extremity weakness, numbness, tingling, and burning sensation on top of her feet. The diagnostic work up included imaging studies, including CT abdomen and pelvis and MRI Lumbar and Sacral spine, which showed evidence of multiple perineural cysts in the neural foramina bilaterally from T12-L1 through L5-S1 as well as a large left S1 nerve root Tarlov cyst. The patient underwent a lumbar puncture.\n",
      "\n",
      "\n",
      "Time taken for generate_bhc: 6.956141948699951 seconds.\n",
      "174 of 250, 69.6% hadm_id: 24570999 **********\n",
      "\n",
      "\n",
      "1835\n"
     ]
    },
    {
     "name": "stderr",
     "output_type": "stream",
     "text": [
      "Processed prompts: 100%|██████████| 1/1 [00:04<00:00,  4.02s/it, est. speed input: 456.69 toks/s, output: 36.34 toks/s]\n"
     ]
    },
    {
     "name": "stdout",
     "output_type": "stream",
     "text": [
      "Brief Hospital Course\n",
      "The patient with a history of severe COPD, multiple pneumothoraces, HTN, adrenal insufficiency, and s/p Spiration Endobronchial Valve presents with dyspnea on exertion for 3 weeks and left sided chest/back pain for a few days. They were admitted to the medical floor for evaluation of worsening COPD symptoms and chest pain.\n",
      "\n",
      "Problem-based hospital course---\n",
      "# Chronic Obstructive Pulmonary Disease --- The patient presented with severe dyspnea on exertion and chest wall pain. The diagnostic work up included PFTs, which showed worsening lung function. The patient was treated with Duoneb and oxycodone for pain management.\n",
      "\n",
      "\n",
      "Time taken for generate_bhc: 4.044471025466919 seconds.\n",
      "175 of 250, 70.0% hadm_id: 24797227 **********\n",
      "\n",
      "\n",
      "1046\n"
     ]
    },
    {
     "name": "stderr",
     "output_type": "stream",
     "text": [
      "Processed prompts: 100%|██████████| 1/1 [00:03<00:00,  3.81s/it, est. speed input: 274.53 toks/s, output: 37.79 toks/s]\n"
     ]
    },
    {
     "name": "stdout",
     "output_type": "stream",
     "text": [
      "Brief Hospital Course\n",
      "The patient with a history of type I DM with associated ESRD, HD dependent presents with abdominal pain. They were admitted to the surgical service for laparoscopic appendectomy due to acute appendicitis.\n",
      "\n",
      "Problem-based hospital course---\n",
      "# Abdominal Pain --- The patient presented with worsening abdominal pain in the right lower quadrant, associated with diarrhea, nausea, and no vomiting.\n",
      "The related diagnostic work up included laboratory tests, which showed elevated white blood cell count, and blood urea nitrogen and creatinine levels. The notable results included a blood glucose level of 250 and urea nitrogen level of 38.\n",
      "The related medical treatment course included administration of antibiotics and pain management.\n",
      "\n",
      "\n",
      "Time taken for generate_bhc: 3.831048011779785 seconds.\n",
      "176 of 250, 70.4% hadm_id: 26826432 **********\n",
      "\n",
      "\n",
      "1966\n"
     ]
    },
    {
     "name": "stderr",
     "output_type": "stream",
     "text": [
      "Processed prompts: 100%|██████████| 1/1 [00:06<00:00,  6.72s/it, est. speed input: 292.75 toks/s, output: 37.52 toks/s]\n"
     ]
    },
    {
     "name": "stdout",
     "output_type": "stream",
     "text": [
      "Brief Hospital Course\n",
      "The patient with a history of hypertension, tobacco abuse, and attention deficit disorder on ritalin presents with fever, malaise, and a rash. He was admitted to the medical floor for pneumonia, organism unspecified, and cellulitis of the arm.\n",
      "\n",
      "Problem-based hospital course---\n",
      "# Fever and malaise --- The patient presented with a 3-day history of fever with a maximum temperature of 103°F, accompanied by chills and myalgias. He was initially treated with ceftriaxone and azithromycin in the emergency department.\n",
      "[Summarize the related diagnostic work up and notable results]. The patient's initial laboratory results showed a white blood cell count of 8.7, with a neutrophil count of 80.8%. His blood glucose level was 138 mg/dL, and his liver enzymes were elevated, with an ALT of 46 and an AST of 53.\n",
      "\n",
      "# Rash --- The patient developed a blanching erythematous rash on his back and chest, which was not present earlier in the day.\n",
      "[Summarize the related medical or surgical treatment course]. The patient was treated with antibiotics and antiviral medications, and his rash improved.\n",
      "\n",
      "\n",
      "Time taken for generate_bhc: 6.740568399429321 seconds.\n",
      "177 of 250, 70.8% hadm_id: 27739146 **********\n",
      "\n",
      "\n",
      "1496\n"
     ]
    },
    {
     "name": "stderr",
     "output_type": "stream",
     "text": [
      "Processed prompts: 100%|██████████| 1/1 [00:04<00:00,  4.83s/it, est. speed input: 309.98 toks/s, output: 37.50 toks/s]\n"
     ]
    },
    {
     "name": "stdout",
     "output_type": "stream",
     "text": [
      "Brief Hospital Course\n",
      "The patient with a history of recent uterine artery embolization presents with worsening LLQ pain for 1 day. She was admitted to the medicine service for pain control after failing PO pain medications.\n",
      "\n",
      "Problem-based hospital course---\n",
      "# Abdominal pain --- The patient presented with worsening LLQ pain for 1 day, which did not change much with the pain meds given in the ED. She denied any nausea or vomiting.\n",
      "[Summarize the related diagnostic work up and notable results]. The patient underwent CT scan, which did not show abscess. The patient's urine culture and blood culture are pending.\n",
      "[Summarize the related medical or surgical treatment course]. The patient was given dilaudid 1 mg IV x 3, dilaudid 4 mg PO x 1, and zofran 4 mg IV x 1.\n",
      "\n",
      "\n",
      "Time taken for generate_bhc: 4.8493332862854 seconds.\n",
      "178 of 250, 71.2% hadm_id: 22172451 **********\n",
      "\n",
      "\n",
      "2060\n"
     ]
    },
    {
     "name": "stderr",
     "output_type": "stream",
     "text": [
      "Processed prompts: 100%|██████████| 1/1 [00:07<00:00,  7.34s/it, est. speed input: 280.60 toks/s, output: 37.59 toks/s]\n"
     ]
    },
    {
     "name": "stdout",
     "output_type": "stream",
     "text": [
      "Brief Hospital Course\n",
      "The patient with a history of celiac disease, small PFO, and migraines presents with headache, right arm and foot heaviness. She was admitted to the Neurology service for evaluation of right arm and foot heaviness in the setting of a migraine during a flight from ___.\n",
      "\n",
      "She was admitted for evaluation of her symptoms, initial diagnosis of complex migraine, and related diagnostic work up and treatment course.\n",
      "\n",
      "Discharge diagnosis at discharge was complex migraine.\n",
      "\n",
      "Problem-based hospital course---\n",
      "\n",
      "# Complex Migraine --- \n",
      "The patient presented with bifrontal, sharp pain out of 10, which is unusual for her. She denied double vision, blurry vision, and photophobia. She took 1 dose of zolmitriptan with no significant relief and noted that it was difficult to hold things with her right hand as her arm and hand felt heavy. She denied a sensation of pins and needles and was able to lift her arm and hand antigravity but felt that it was not functioning appropriately.\n",
      "\n",
      "The diagnostic work up included laboratory evaluation, imaging evaluation, and review of systems. The notable results were normal laboratory results, normal imaging studies, and a normal review of systems.\n",
      "\n",
      "The related medical treatment course included treatment with zolmitriptan, which did not provide significant relief. The patient was diagnosed with complex migraine at discharge.\n",
      "\n",
      "\n",
      "Time taken for generate_bhc: 7.366822719573975 seconds.\n",
      "179 of 250, 71.6% hadm_id: 22784007 **********\n",
      "\n",
      "\n",
      "1616\n"
     ]
    },
    {
     "name": "stderr",
     "output_type": "stream",
     "text": [
      "Processed prompts: 100%|██████████| 1/1 [00:04<00:00,  4.30s/it, est. speed input: 376.28 toks/s, output: 37.02 toks/s]\n"
     ]
    },
    {
     "name": "stdout",
     "output_type": "stream",
     "text": [
      "Brief Hospital Course\n",
      "The patient with a history of chronic kidney disease status post renal transplant, peripheral vascular disease, diabetes mellitus, and hypertension presents with cellulitis. She was admitted to the medical floor for cellulitis, initially diagnosed with worsening cellulitis on PO Cipro outpatient, and treated with IV Cefepime.\n",
      "\n",
      "Problem-based hospital course---\n",
      "# Cellulitis --- The patient presented with cellulitis of the right lower extremity, with symptoms of pain, swelling, and yellow-green drainage. The diagnostic work up included laboratory values, ultrasound, and MRI. Notable results included moderate right calf edema on ultrasound and focal skin irregularity along the anterior aspect of the mid right calf on MRI. The patient received IV Cipro and then IV Cefepime.\n",
      "\n",
      "\n",
      "Time taken for generate_bhc: 4.316908836364746 seconds.\n",
      "180 of 250, 72.0% hadm_id: 24032571 **********\n",
      "\n",
      "\n",
      "1375\n"
     ]
    },
    {
     "name": "stderr",
     "output_type": "stream",
     "text": [
      "Processed prompts: 100%|██████████| 1/1 [00:05<00:00,  5.73s/it, est. speed input: 240.11 toks/s, output: 38.07 toks/s]\n"
     ]
    },
    {
     "name": "stdout",
     "output_type": "stream",
     "text": [
      "Brief Hospital Course\n",
      "The patient with a history of diverticulitis s/p laparoscopic sigmoidectomy and multiple additional abdominal surgeries presents with an enterocutaneous fistula. She was admitted to the hospital for further evaluation and management of the fistula.\n",
      "\n",
      "Problem-based hospital course---\n",
      "# Enterocutaneous Fistula --- The patient presented with a large leak in the lower part of her incision, later proven to be a ECF on CT scan. She was taken back to the OR for drainage of intra-abdominal abscesses. On admission, she was noted to have a large skin defect and tethering of the small bowel at the level of the enteric anastomosis to the anterior abdominal wall without a definite air or fluid-filled tract connecting to the skin. There is an overlying skin defect so an enterocutaneous fistula cannot be definitely excluded. Please correlate with clinical exam findings.\n",
      "\n",
      "# Dehydration --- The patient was readmitted for dehydration. She had been intermittently NPO vs regular diet and had been on TPN.\n",
      "\n",
      "\n",
      "Time taken for generate_bhc: 5.747264862060547 seconds.\n",
      "181 of 250, 72.4% hadm_id: 25304472 **********\n",
      "\n",
      "\n",
      "1493\n"
     ]
    },
    {
     "name": "stderr",
     "output_type": "stream",
     "text": [
      "Processed prompts: 100%|██████████| 1/1 [00:06<00:00,  6.70s/it, est. speed input: 222.81 toks/s, output: 38.21 toks/s]\n"
     ]
    },
    {
     "name": "stdout",
     "output_type": "stream",
     "text": [
      "Brief Hospital Course\n",
      "The patient with a history of depression, ADHD, and chronic constipation presents with abdominal pain, nausea, dysuria, and difficulty ambulating. She was admitted to the hospital for possible UTI, cholangitis, and biliary obstruction.\n",
      "\n",
      "Problem-based hospital course---\n",
      "# Abdominal Pain --- The patient presented with severe abdominal pain, nausea, and dysuria. The diagnostic work up included RUQ US, which found biliary obstruction, and UA, which was dirty but not clean catch. The patient was given ceftriaxone for possible UTI and flagyl for likely cholangitis and tylenol for fever.\n",
      "\n",
      "# Cholangitis --- The patient presented with cholangitis, which was diagnosed based on RUQ US and ERCP findings. The diagnostic work up included ERCP, which showed impacted stone in the major papilla, multiple filling defects in the mid and lower thirds of the common bile duct, and successful extraction of at least 6 stones.\n",
      "\n",
      "# Possible UTI --- The patient presented with possible UTI, which was diagnosed based on UA findings. The diagnostic work up included UA, which was dirty but not clean catch, and ceftriaxone was given for possible UTI.\n",
      "\n",
      "\n",
      "Time taken for generate_bhc: 6.720677137374878 seconds.\n",
      "182 of 250, 72.8% hadm_id: 24658172 **********\n",
      "\n",
      "\n",
      "1757\n"
     ]
    },
    {
     "name": "stderr",
     "output_type": "stream",
     "text": [
      "Processed prompts: 100%|██████████| 1/1 [00:03<00:00,  3.72s/it, est. speed input: 471.88 toks/s, output: 36.26 toks/s]\n"
     ]
    },
    {
     "name": "stdout",
     "output_type": "stream",
     "text": [
      "Brief Hospital Course\n",
      "The patient with a history of retained bullet fragments after being shot in the right posterior knee presents with knee pain. He was admitted to the medicine service for septic arthritis and surgical drainage and washout.\n",
      "\n",
      "Problem-based hospital course---\n",
      "# Septic arthritis --- The patient presented with severe knee pain and swelling. He was evaluated by orthopedic surgery who recommended admission to medicine with ID consult for duration of antibiotics. The patient was given one dose of 1000 mg IV vancomycin and 1 tab of 5 mg oxycodone-325 mg acetominophen. The patient underwent surgical drainage and washout on ___.\n",
      "\n",
      "\n",
      "Time taken for generate_bhc: 3.744981288909912 seconds.\n",
      "183 of 250, 73.2% hadm_id: 25653356 **********\n",
      "\n",
      "\n",
      "1625\n"
     ]
    },
    {
     "name": "stderr",
     "output_type": "stream",
     "text": [
      "Processed prompts: 100%|██████████| 1/1 [00:05<00:00,  5.75s/it, est. speed input: 282.54 toks/s, output: 37.73 toks/s]\n"
     ]
    },
    {
     "name": "stdout",
     "output_type": "stream",
     "text": [
      "Brief Hospital Course\n",
      "The patient with a history of polycystic kidney disease, recent partial colectomy, recurrent ileus, and Clostridium difficile presents with worsening abdominal pain. She was admitted to the general medicine floor for evaluation and management of her symptoms.\n",
      "\n",
      "Problem-based hospital course---\n",
      "# Abdominal pain --- The patient presented with a dull ache in the epigastric region, which worsened to a severe level last night. She reports that it never completely goes away but does seem to come in waves. It is worst lying on her side, and she reports associated worsening nausea, but denies any vomiting.\n",
      "The diagnostic work up included a CT scan, which showed small bowel dilatation, concerning for adynamic ileus versus obstruction. The patient was treated conservatively with nasogastric tube and antibiotics.\n",
      "\n",
      "# Clostridium difficile --- The patient was found to be C. diff positive and began a course of PO flagyl to complete treatment.\n",
      "The patient was diagnosed with abdominal pain and Clostridium difficile at discharge.\n",
      "\n",
      "\n",
      "Time taken for generate_bhc: 5.772814512252808 seconds.\n",
      "184 of 250, 73.6% hadm_id: 28309601 **********\n",
      "\n",
      "\n",
      "1755\n"
     ]
    },
    {
     "name": "stderr",
     "output_type": "stream",
     "text": [
      "Processed prompts: 100%|██████████| 1/1 [00:05<00:00,  5.40s/it, est. speed input: 325.02 toks/s, output: 37.41 toks/s]\n"
     ]
    },
    {
     "name": "stdout",
     "output_type": "stream",
     "text": [
      "Brief Hospital Course\n",
      "The patient with a history of bipolar disorder, fibromyalgia, and possible VTACH with prolonged QT at ECT presents with chest/neck/back/arm/shoulder pain. She was admitted to the floor for chest pain with radiation to her back and left shoulder.\n",
      "\n",
      "The patient was admitted for chest pain with radiation to her back and left shoulder, initial diagnosis of possible anxiety-related chest pain, and major procedures or treatments including stress test EKG.\n",
      "\n",
      "At discharge, the patient was diagnosed with primary diagnosis of pain secondary to anxiety/fibromathygia.\n",
      "\n",
      "Problem-based hospital course---\n",
      "# Chest pain --- The patient presented with chest pain with radiation to her back and left shoulder, which lasted approximately 1 minute at a time and then spontaneously resolved. The diagnostic work up included blood tests, which showed normal results. The patient underwent a stress test EKG, which showed no anginal type symptoms or ischemic EKG changes at a high cardiac demand and average functional capacity.\n",
      "\n",
      "\n",
      "Time taken for generate_bhc: 5.419395685195923 seconds.\n",
      "185 of 250, 74.0% hadm_id: 24424395 **********\n",
      "\n",
      "\n",
      "1946\n"
     ]
    },
    {
     "name": "stderr",
     "output_type": "stream",
     "text": [
      "Processed prompts: 100%|██████████| 1/1 [00:08<00:00,  8.99s/it, est. speed input: 216.42 toks/s, output: 38.15 toks/s]\n"
     ]
    },
    {
     "name": "stdout",
     "output_type": "stream",
     "text": [
      "Brief Hospital Course\n",
      "The patient with a history of alcohol abuse and cirrhosis presents with hematemesis. He was admitted to the Intensive Care Unit (ICU) for further evaluation and management of his bleeding gastric varix.\n",
      "\n",
      "The patient was initially diagnosed with bleeding gastric varix near the GE junction that was actively bleeding, which could not be banded. He underwent an emergent TIPS procedure, but the patient DEcompensated during the procedure, and the gradient was only brought down to 15mmHg. During this admission, there was concern for TIPS occlusion, and possible continued bleeding, but per the consultant, the current TIPS cannot be revised or dilated, and it was determined that the patient would need a repeat procedure if he had recurrent bleed.\n",
      "\n",
      "Problem-based hospital course---\n",
      "# Bleeding gastric varix --- The patient presented with hematemesis, and the bleeding gastric varix was diagnosed near the GE junction that was actively bleeding, which could not be banded.\n",
      "The related diagnostic work up included an EGD, which showed small and localized area of portal hypertensive gastropathy, otherwise normal EGD to third part of the duodenum.\n",
      "The related medical treatment course included IV PPI drip, octreotide drip, and holding diuretics.\n",
      "\n",
      "# Alcoholic cirrhosis --- The patient has a history of alcohol abuse and cirrhosis, which was diagnosed on prior admission.\n",
      "The related diagnostic work up included laboratory tests, which showed elevated liver enzymes, and imaging studies, which showed cirrhotic hepatic morphology.\n",
      "The related medical treatment course included management of the patient's cirrhosis, including holding diuretics.\n",
      "\n",
      "\n",
      "Time taken for generate_bhc: 9.013877391815186 seconds.\n",
      "186 of 250, 74.4% hadm_id: 26788539 **********\n",
      "\n",
      "\n",
      "1379\n"
     ]
    },
    {
     "name": "stderr",
     "output_type": "stream",
     "text": [
      "Processed prompts: 100%|██████████| 1/1 [00:06<00:00,  6.50s/it, est. speed input: 212.10 toks/s, output: 38.30 toks/s]\n"
     ]
    },
    {
     "name": "stdout",
     "output_type": "stream",
     "text": [
      "Brief Hospital Course\n",
      "The patient with a history of HIV, tobacco dependence, and prior cocaine abuse presents with unstable angina. He was admitted to the Cardiology floor for acute coronary syndrome, initial diagnosis, and management of symptoms.\n",
      "\n",
      "Problem-based hospital course---\n",
      "# Unstable Angina --- \n",
      "The patient presented with exertional chest pain, squeezing, substernal, without radiation, provoked by exertion and smoking, and relieved by rest. The pain was not pleuritic, positional, or affected by pressing on his chest. Each episode lasted approximately 5 minutes before remitting. These episodes began to occur more frequently until he experienced multiple episodes so he called his PCP and presented to clinic for an urgent care visit.\n",
      "\n",
      "The diagnostic work up included blood tests, which showed normal glucose, urea, creatinine, sodium, potassium, chloride, and total CO2 levels. The patient's WBC count was 9.1, RBC count was 4.63, HGB was 13.4, and HCT was 39.9. The patient's platelet count was 278.\n",
      "\n",
      "The patient was treated with medications and procedures as needed. The patient was diagnosed with acute coronary syndrome at discharge.\n",
      "\n",
      "\n",
      "Time taken for generate_bhc: 6.52140736579895 seconds.\n",
      "187 of 250, 74.8% hadm_id: 26693076 **********\n",
      "\n",
      "\n",
      "1004\n"
     ]
    },
    {
     "name": "stderr",
     "output_type": "stream",
     "text": [
      "Processed prompts: 100%|██████████| 1/1 [00:07<00:00,  7.17s/it, est. speed input: 140.15 toks/s, output: 39.22 toks/s]\n"
     ]
    },
    {
     "name": "stdout",
     "output_type": "stream",
     "text": [
      "Brief Hospital Course\n",
      "The patient with a history of aortic stenosis, coronary artery disease, hyperlipidemia, hypertension, diabetes mellitus type II, gout, and alcohol abuse presents with dyspnea and cough with thick sputum. They were admitted to the floor for worsening dyspnea and productive cough, initially diagnosed with dyspnea, unspecified, and possible pneumonia with thick secretions and leukocytosis.\n",
      "\n",
      "Problem-based hospital course---\n",
      "# Pulmonary Edema --- The patient presented with mild to moderate pulmonary edema with grown small bilateral pleural effusions and bibasilar opacities which may reflect atelectasis adjacent to the pleural effusions although superinfection cannot be excluded. The related diagnostic work up included CXR, which showed mild to moderate pulmonary edema with grown small bilateral pleural effusions and bibasilar opacities. The related medical treatment course included oxygen therapy and diuresis.\n",
      "\n",
      "# Possible Pneumonia --- The patient presented with cough and possible pneumonia with thick secretions and leukocytosis. The related diagnostic work up included CXR, which showed mild to moderate pulmonary edema with grown small bilateral pleural effusions and bibasilar opacities which may reflect atelectasis adjacent to the pleural effusions although superinfection cannot be excluded. The related medical treatment course included antibiotics.\n",
      "\n",
      "\n",
      "Time taken for generate_bhc: 7.1801159381866455 seconds.\n",
      "188 of 250, 75.2% hadm_id: 23099948 **********\n",
      "\n",
      "\n",
      "1131\n"
     ]
    },
    {
     "name": "stderr",
     "output_type": "stream",
     "text": [
      "Processed prompts: 100%|██████████| 1/1 [00:06<00:00,  6.92s/it, est. speed input: 163.38 toks/s, output: 38.71 toks/s]\n"
     ]
    },
    {
     "name": "stdout",
     "output_type": "stream",
     "text": [
      "Brief Hospital Course\n",
      "The patient with a history of coronary artery bypass grafting (CABG) x 4, one month prior, presents with persistent left sided chest pain, fever, and mild shortness of breath. They were admitted to the intensive care unit for further evaluation and management of a persistent left pleural effusion and possible pneumonia.\n",
      "\n",
      "Problem-based hospital course---\n",
      "# Left sided pleural effusion --- The patient presented with a persistent left sided chest pain and fever, which was initially evaluated with a computed tomography angiogram (CTA) of the chest, which ruled out a pulmonary embolism but showed a left pleural effusion. The patient was initially treated with diuresis and sent home, but symptoms persisted. On admission, the patient was found to have a persistent left effusion and possible pneumonia, and was started on azithromycin and ceftriaxone.\n",
      "[Summarize the related diagnostic work up and notable results]. The patient underwent a chest computed tomography (CT) scan, which showed a substantially more extensive left pleural effusion than on the previous image, with adjacent parenchymal opacity likely reflecting atelectasis.\n",
      "\n",
      "# Fever, unspecified --- The patient presented with fever, which was evaluated and managed as part of the patient's overall care.\n",
      "\n",
      "\n",
      "Time taken for generate_bhc: 6.94057035446167 seconds.\n",
      "189 of 250, 75.6% hadm_id: 22896534 **********\n",
      "\n",
      "\n",
      "1563\n"
     ]
    },
    {
     "name": "stderr",
     "output_type": "stream",
     "text": [
      "Processed prompts: 100%|██████████| 1/1 [00:10<00:00, 10.56s/it, est. speed input: 148.08 toks/s, output: 38.56 toks/s]\n"
     ]
    },
    {
     "name": "stdout",
     "output_type": "stream",
     "text": [
      "Brief Hospital Course\n",
      "The patient with a history of no significant past medical history presents with bilateral flank pain, with the right flank worse than the left, which began approximately 48 hours prior to presentation and has not worsened nor improved throughout this time. She was admitted to the emergency department for evaluation of right lower quadrant pain and suspected appendicitis.\n",
      "\n",
      "The patient was initially diagnosed with right lower quadrant pain and nausea. The patient's symptoms were evaluated, and she was found to have a mixed bacterial flora in her urine culture, consistent with skin and/or genital contamination. Imaging studies, including a pelvic ultrasound and CT scan, were performed to evaluate the patient's symptoms. The ultrasound showed a non-peristalsing, 6 mm, blind-ending tubular structure with minimal increased echogenicity in the wall, concerning for possible acute appendicitis. The CT scan showed an appendix that was fluid-filled throughout the majority of its course with dilation up to approximately 6 mm in size, with some suggestion of wall hyperemia with no convincing surrounding fat stranding. These findings were equivocal, while likely within the spectrum of normal, early acute appendicitis could not be entirely excluded.\n",
      "\n",
      "Problem-based hospital course---\n",
      "# Abdominal pain --- The patient presented with bilateral flank pain, with the right flank worse than the left, which began approximately 48 hours prior to presentation and has not worsened nor improved throughout this time.\n",
      "The patient underwent a pelvic ultrasound and CT scan to evaluate her symptoms. The ultrasound showed a non-peristalsing, 6 mm, blind-ending tubular structure with minimal increased echogenicity in the wall, concerning for possible acute appendicitis. The CT scan showed an appendix that was fluid-filled throughout the majority of its course with dilation up to approximately 6 mm in size, with some suggestion of wall hyperemia with no convincing surrounding fat stranding. These findings were equivocal, while likely within the spectrum of normal, early acute appendicitis could not be entirely excluded.\n",
      "\n",
      "\n",
      "Time taken for generate_bhc: 10.577904224395752 seconds.\n",
      "190 of 250, 76.0% hadm_id: 23452625 **********\n",
      "\n",
      "\n",
      "2153\n"
     ]
    },
    {
     "name": "stderr",
     "output_type": "stream",
     "text": [
      "Processed prompts: 100%|██████████| 1/1 [00:10<00:00, 10.29s/it, est. speed input: 209.36 toks/s, output: 38.12 toks/s]\n"
     ]
    },
    {
     "name": "stdout",
     "output_type": "stream",
     "text": [
      "Brief Hospital Course\n",
      "The patient with a history of metastatic neuroendocrine carcinoma of the gallbladder to the liver and periportal nodes presents with weakness. She was admitted to the medical floor for fever, atypical chest pain, thrombocytopenia, and hyperbilirubinemia found to have biliary stricture s/p ERCP with fully covered metal stent to common hepatic duct. She was discharged home without services on ___ and later readmitted for prolonged hospitalization due to FUO c/b partial right portal vein thrombosis now on Lovenox, atypical chest pain during ___ infusion s/p successful ___ challenge, thrombocytopenia, and hyperbilirubinemia.\n",
      "\n",
      "Problem-based hospital course---\n",
      "# Metastatic gallbladder adenocarcinoma --- The patient presented with weakness, which was attributed to the patient's known malignancy.\n",
      "[Summarize the related diagnostic work up and notable results]. \n",
      "The patient underwent various imaging studies, including CXR, CTA chest, CT abdomen and pelvis w/ contrast, abdominal US, and RUQ US, which showed no evidence of pulmonary embolism or acute aortic abnormality, chronic occlusion invasion of the portal venous system, and stable perihepatic fluid collections.\n",
      "\n",
      "# Thrombocytopenia --- The patient presented with thrombocytopenia, which was attributed to the patient's known malignancy.\n",
      "[Summarize the related diagnostic work up and notable results]. \n",
      "The patient's platelet count was 69 on admission and decreased to 35 after platelet transfusion.\n",
      "\n",
      "# Hospital acquired pneumonia --- The patient presented with hospital acquired pneumonia, which was attributed to the patient's prolonged hospitalization.\n",
      "[Summarize the related diagnostic work up and notable results]. \n",
      "The patient's CXR showed bibasal atelectasis and right 4 right lower lobe pneumonia.\n",
      "\n",
      "\n",
      "Time taken for generate_bhc: 10.31607460975647 seconds.\n",
      "191 of 250, 76.4% hadm_id: 21957178 **********\n",
      "\n",
      "\n",
      "2255\n"
     ]
    },
    {
     "name": "stderr",
     "output_type": "stream",
     "text": [
      "Processed prompts: 100%|██████████| 1/1 [00:06<00:00,  6.42s/it, est. speed input: 351.36 toks/s, output: 36.77 toks/s]\n"
     ]
    },
    {
     "name": "stdout",
     "output_type": "stream",
     "text": [
      "Brief Hospital Course\n",
      "The patient with a history of Irritable Bowel Syndrome (IBS), recurrent Clostridioides difficile (C. diff) infection, diverticulitis, depression/anxiety, gastroesophageal reflux disease (GERD)/epigastric pain, and hepatitis C presents with diarrhea, emesis, and abdominal pain. He was admitted to the hospital for possible recurrent C. diff infection or IBS flare, as well as concern for influenza.\n",
      "\n",
      "Problem-based hospital course---\n",
      "# Irritable Bowel Syndrome Flare --- The patient presented with 30 episodes of non-bloody watery diarrhea daily for the past few days, alongside presyncopal symptoms. He was noted to have mild RUQ tenderness, which is chronic per his primary care physician. Labs showed dehydration with hypercalcemia and mildly elevated white blood cell count. Stool studies were sent for C. diff and culture.\n",
      "\n",
      "# Recurrent C. diff infection --- The patient had a history of C. diff infection treated with fecal microbiota transplantation (FMT) twice. He was admitted for possible recurrent C. diff infection or IBS flare.\n",
      "\n",
      "\n",
      "Time taken for generate_bhc: 6.4600830078125 seconds.\n",
      "192 of 250, 76.8% hadm_id: 25173310 **********\n",
      "\n",
      "\n",
      "1615\n"
     ]
    },
    {
     "name": "stderr",
     "output_type": "stream",
     "text": [
      "Processed prompts: 100%|██████████| 1/1 [00:08<00:00,  8.71s/it, est. speed input: 185.41 toks/s, output: 38.34 toks/s]\n"
     ]
    },
    {
     "name": "stdout",
     "output_type": "stream",
     "text": [
      "Brief Hospital Course\n",
      "The patient with a history of hypertension, hyperlipidemia, irregular heart beat, dementia, and recent subarachnoid hemorrhage presents with \"not feeling well\" today, mild headache, left arm tingling in the morning, dizziness, fall, and confusion in the afternoon, and garbled speech/aphasia in the ambulance ride to the hospital. She was admitted to the emergency department for evaluation of stroke symptoms and subsequent diagnosis of acute toxic metabolic encephalopathy.\n",
      "\n",
      "Problem-based hospital course---\n",
      "# Aphasia --- The patient presented with garbled speech/aphasia in the ambulance ride to the hospital, which was resolving when she arrived at the emergency department.\n",
      "[Summarize the related diagnostic work up and notable results]. \n",
      "The patient underwent a head CT and CTA, which showed bilateral carotid disease but no occlusions or large vessel cutoffs. \n",
      "[Summarize the related medical or surgical treatment course]. \n",
      "The patient was given ceftriaxone and consulted for a code stroke.\n",
      "\n",
      "# Subarachnoid hemorrhage --- The patient has a history of recent subarachnoid hemorrhage, which was unchanged on admission head CT and CTA.\n",
      "[Summarize the diagnostic work up and notable results related to this medical condition]. \n",
      "The patient underwent a head CT and CTA, which showed a patent circle of Willis and patent vasculature in the neck with no evidence of internal carotid artery stenosis by NASCET criteria.\n",
      "[Summarize the related medical or surgical treatment course]. \n",
      "The patient did not undergo any major procedures.\n",
      "\n",
      "\n",
      "Time taken for generate_bhc: 8.737322092056274 seconds.\n",
      "193 of 250, 77.2% hadm_id: 22988214 **********\n",
      "\n",
      "\n",
      "2629\n"
     ]
    },
    {
     "name": "stderr",
     "output_type": "stream",
     "text": [
      "Processed prompts: 100%|██████████| 1/1 [00:05<00:00,  5.41s/it, est. speed input: 486.14 toks/s, output: 35.50 toks/s]\n"
     ]
    },
    {
     "name": "stdout",
     "output_type": "stream",
     "text": [
      "Brief Hospital Course\n",
      "The patient with a history of strep viridians endocarditis status post mitral valve replacement presents with dyspnea on exertion and left leg pain. He was admitted to the medical floor for evaluation and management of a 19 cm heterogeneous mass found in the medial left thigh on ultrasound consistent with a hematoma.\n",
      "\n",
      "Problem-based hospital course---\n",
      "#Left leg hematoma --- The patient presented with worsening left leg pain and shortness of breath as well as subjective fevers and chills. He had an ultrasound to rule out DVT and the heterogeneous mass consistent with hematoma was found. He also had a CTA chest that was negative for PE and a CXR that was negative for pneumonia.\n",
      "\n",
      "#Anemia --- The patient's anemia was diagnosed based on laboratory results, including HCT 37.7, WBC 12.9, INR 4.4, and CK 515.\n",
      "\n",
      "\n",
      "Time taken for generate_bhc: 5.447775602340698 seconds.\n",
      "194 of 250, 77.6% hadm_id: 29372961 **********\n",
      "\n",
      "\n",
      "1644\n"
     ]
    },
    {
     "name": "stderr",
     "output_type": "stream",
     "text": [
      "Processed prompts: 100%|██████████| 1/1 [00:04<00:00,  4.58s/it, est. speed input: 359.35 toks/s, output: 37.16 toks/s]\n"
     ]
    },
    {
     "name": "stdout",
     "output_type": "stream",
     "text": [
      "Brief Hospital Course\n",
      "The patient with a history of Hodgkin's Disease in remission for ___ years, s/p autologous stem cell transplant, and hypothyroidism presents with chills, nausea/vomiting, diffuse abdominal pain, diarrhea, dyspnea, cough, and syncope in the shower on the day of presentation. She was admitted to the Emergency Department for evaluation of her symptoms and potential source of infection.\n",
      "\n",
      "Problem-based hospital course---\n",
      "# Asthma exacerbation --- The patient presented with symptoms of asthma exacerbation, including wheezing and shortness of breath. She received albuterol treatment and supplemental oxygen via nasal cannula.\n",
      "# Viral gastroenteritis --- The patient presented with symptoms of viral gastroenteritis, including nausea, vomiting, and diarrhea. She received supportive care and hydration.\n",
      "\n",
      "\n",
      "Time taken for generate_bhc: 4.614207029342651 seconds.\n",
      "195 of 250, 78.0% hadm_id: 23487323 **********\n",
      "\n",
      "\n",
      "2158\n"
     ]
    },
    {
     "name": "stderr",
     "output_type": "stream",
     "text": [
      "Processed prompts: 100%|██████████| 1/1 [00:07<00:00,  7.09s/it, est. speed input: 304.47 toks/s, output: 37.53 toks/s]\n"
     ]
    },
    {
     "name": "stdout",
     "output_type": "stream",
     "text": [
      "Brief Hospital Course\n",
      "The patient with a history of coronary artery disease, cardiomyopathy, and chronic kidney disease presents with chest pain, shortness of breath, and fatigue. He was admitted to the Cardiology Unit for acute on chronic systolic decompensated heart failure and ventricular dyssynchrony.\n",
      "\n",
      "Problem-based hospital course---\n",
      "# Acute on chronic systolic decompensated heart failure --- The patient presented with chest pain, shortness of breath, and fatigue. He had a history of CAD and cardiomyopathy. The diagnostic work up included EKG, labs, and TTE. The notable results were LBBB with PVC, Trop < 0.01, Cr 1.4, and LVEF 25%. The patient was treated with medical therapy and was diagnosed with acute on chronic systolic decompensated heart failure.\n",
      "\n",
      "# Ventricular dyssynchrony --- The patient had a history of ventricular dyssynchrony and was diagnosed with severe global hypokinesis secondary to severe left ventricular systolic dysfunction. The diagnostic work up included TTE, which showed left ventricular cavity severely dilated, LVEF 25%, and left ventricular dysnchrony. The patient was treated with pacemaker placement for cardiac resynchronization therapy.\n",
      "\n",
      "\n",
      "Time taken for generate_bhc: 7.117544412612915 seconds.\n",
      "196 of 250, 78.4% hadm_id: 23635234 **********\n",
      "\n",
      "\n",
      "1090\n"
     ]
    },
    {
     "name": "stderr",
     "output_type": "stream",
     "text": [
      "Processed prompts: 100%|██████████| 1/1 [00:04<00:00,  4.91s/it, est. speed input: 222.01 toks/s, output: 38.49 toks/s]\n"
     ]
    },
    {
     "name": "stdout",
     "output_type": "stream",
     "text": [
      "Brief Hospital Course\n",
      "The patient with a history of chronic pancreatitis, upper extremity deep vein thrombosis, and past hospitalizations for acute on chronic abdominal pain presents with recurrent abdominal pain. They were admitted to the Medical Intensive Care Unit for acute on chronic pancreatitis, abdominal pain, and moderate epigastric abdominal pain with radiation to the back. The patient was initially diagnosed with acute pancreatitis and was treated with dilaudid/morphine, IV fluids, and zofran.\n",
      "\n",
      "Problem-based hospital course---\n",
      "# Acute on chronic pancreatitis --- The patient presented with moderate epigastric abdominal pain with radiation to the back, similar to past episodes of pancreatitis. The patient was treated with dilaudid/morphine, IV fluids, and zofran.\n",
      "\n",
      "# Upper extremity deep vein thrombosis --- The patient had a past history of upper extremity deep vein thrombosis.\n",
      "\n",
      "\n",
      "Time taken for generate_bhc: 4.9339118003845215 seconds.\n",
      "197 of 250, 78.8% hadm_id: 25781728 **********\n",
      "\n",
      "\n",
      "1600\n"
     ]
    },
    {
     "name": "stderr",
     "output_type": "stream",
     "text": [
      "Processed prompts: 100%|██████████| 1/1 [00:04<00:00,  4.97s/it, est. speed input: 322.36 toks/s, output: 37.68 toks/s]\n"
     ]
    },
    {
     "name": "stdout",
     "output_type": "stream",
     "text": [
      "Brief Hospital Course\n",
      "The patient with a history of epilepsy, developmental delay, and behavioral dysregulation presents with increased seizure frequency, altered mental status, and confusion. She was admitted to the Neurology service for breakthrough seizures, behavioral changes, and altered mental status.\n",
      "\n",
      "Problem-based hospital course---\n",
      "# Epilepsy --- The patient presented with breakthrough seizures, with a history of complex partial seizures with secondary generalization, s/p left partial temporal lobectomy, and s/p VNS. The related diagnostic work up included blood tests, which showed normal results. The related medical treatment course included swiping her VNS, but the benefit or change in behavior was not certain.\n",
      "\n",
      "# Behavioral changes/Altered mental status --- The patient presented with confusion, amnesia, and behavioral arrest. The related diagnostic work up included blood tests, which showed normal results. The related medical treatment course included observation and management of her behavioral changes.\n",
      "\n",
      "\n",
      "Time taken for generate_bhc: 4.9965760707855225 seconds.\n",
      "198 of 250, 79.2% hadm_id: 21978680 **********\n",
      "\n",
      "\n",
      "1185\n"
     ]
    },
    {
     "name": "stderr",
     "output_type": "stream",
     "text": [
      "Processed prompts: 100%|██████████| 1/1 [00:06<00:00,  6.61s/it, est. speed input: 179.44 toks/s, output: 38.92 toks/s]\n"
     ]
    },
    {
     "name": "stdout",
     "output_type": "stream",
     "text": [
      "Brief Hospital Course\n",
      "The patient with a history of hypertension, hypercholesterolemia, and atrial fibrillation presents with confusion and transient memory loss. They were admitted to the Cardiovascular Intensive Care Unit (CVICU) for coronary artery bypass grafting (CABG) x 4, ascending aorta replacement, and Maze procedure with Dr. ___.\n",
      "\n",
      "The patient was initially diagnosed with altered mental status, hypertension NOS, and hypercholesterolemia.\n",
      "\n",
      "Problem-based hospital course---\n",
      "# Altered Mental Status --- The patient presented with confusion and transient memory loss.\n",
      "The related diagnostic work up included a head CT, which was negative for ischemic changes or hemorrhage.\n",
      "The related medical treatment course included Coumadin and amiodarone therapy.\n",
      "\n",
      "# Hypertension NOS --- The patient's blood pressure was monitored and managed during their hospital stay.\n",
      "The related diagnostic work up included blood work, which showed normal blood pressure.\n",
      "The related medical treatment course included antihypertensive medications.\n",
      "\n",
      "# Hypercholesterolemia --- The patient's cholesterol levels were monitored and managed during their hospital stay.\n",
      "The related diagnostic work up included blood work, which showed elevated cholesterol levels.\n",
      "The related medical treatment course included lipid-lowering medications.\n",
      "\n",
      "\n",
      "Time taken for generate_bhc: 6.632084846496582 seconds.\n",
      "199 of 250, 79.6% hadm_id: 22524892 **********\n",
      "\n",
      "\n",
      "1390\n"
     ]
    },
    {
     "name": "stderr",
     "output_type": "stream",
     "text": [
      "Processed prompts: 100%|██████████| 1/1 [00:05<00:00,  5.98s/it, est. speed input: 232.41 toks/s, output: 38.46 toks/s]\n"
     ]
    },
    {
     "name": "stdout",
     "output_type": "stream",
     "text": [
      "Brief Hospital Course\n",
      "The patient with a history of mucinous cystic neoplasm in pancreas s/p resection, breast cancer s/p bilateral mastectomy, chemo and current radiation presents with bilateral facial numbness and weakness. She was admitted to the Emergency Department for evaluation of an episode of bilateral facial numbness/tingling which started on both cheeks, spread to cover all of her face, chin and also radiated to her forehead.\n",
      "\n",
      "The patient was admitted for evaluation of facial numbness and weakness, initial diagnosis of neuroopathy, and related diagnostic work up and treatment course.\n",
      "\n",
      "At discharge, the patient was diagnosed with neuroopathy.\n",
      "\n",
      "Problem-based hospital course---\n",
      "# Neuroopathy --- Bilateral facial numbness and weakness presented with an episode of bilateral facial numbness/tingling which started on both cheeks, spread to cover all of her face, chin and also radiated to her forehead. The patient was evaluated with laboratory tests, including complete blood count, comprehensive metabolic panel, and liver function tests, which were all within normal limits. The patient was treated with supportive care and was discharged with a diagnosis of neuroopathy.\n",
      "\n",
      "\n",
      "Time taken for generate_bhc: 6.004371404647827 seconds.\n",
      "200 of 250, 80.0% hadm_id: 27201120 **********\n",
      "\n",
      "\n",
      "1478\n"
     ]
    },
    {
     "name": "stderr",
     "output_type": "stream",
     "text": [
      "Processed prompts: 100%|██████████| 1/1 [00:08<00:00,  8.37s/it, est. speed input: 176.56 toks/s, output: 38.82 toks/s]\n"
     ]
    },
    {
     "name": "stdout",
     "output_type": "stream",
     "text": [
      "Brief Hospital Course\n",
      "The patient with a history of Neuromyelitis optica presents with worsening back pain and numbness. She was admitted to the hospital for an exacerbation of NMO restricted to the cord, occurring around [___], which was complicated following PLEX by thrombosis of the jugular artery s/p anticoagulation.\n",
      "\n",
      "The patient was initially diagnosed with an exacerbation of NMO restricted to the cord, occurring around [___], which was complicated following PLEX by thrombosis of the jugular artery s/p anticoagulation. At discharge, the patient was diagnosed with Musculoskeletal hip pain vs NMO flare.\n",
      "\n",
      "Problem-based hospital course---\n",
      "# Neuromyelitis optica --- The patient presented with worsening back pain and numbness. The related diagnostic work up included MRI of spinal cord demonstrating multiple small, foci of T2 hyperintensity extending from C2 to T1, with no postcontrast enhancement consistent with neuromyelitis optica. Serum aquaporin-4 (aka NMO) antibodies were sent and recently came back negative. The related medical treatment course included completion of two more sessions of PLEX as an outpatient on [___] and [___]. She was also continued on MMF 1000mg twice daily.\n",
      "\n",
      "# Musculoskeletal hip pain --- The patient presented with acute lower back pain on the right side with associated numbness. The related diagnostic work up included admission labs and imaging studies. The related medical treatment course included administration of 80mg of prednisone today as instructed by Dr. ___.\n",
      "\n",
      "\n",
      "Time taken for generate_bhc: 8.395392894744873 seconds.\n",
      "201 of 250, 80.4% hadm_id: 24627114 **********\n",
      "\n",
      "\n",
      "2263\n"
     ]
    },
    {
     "name": "stderr",
     "output_type": "stream",
     "text": [
      "Processed prompts: 100%|██████████| 1/1 [00:04<00:00,  4.66s/it, est. speed input: 485.70 toks/s, output: 36.27 toks/s]\n"
     ]
    },
    {
     "name": "stdout",
     "output_type": "stream",
     "text": [
      "Brief Hospital Course\n",
      "The patient with a history of diffuse large B cell lymphoma (DLBCL) and recent diagnosis of tonsillar involvement, presents with 2 days of small volume hemoptysis. He was admitted to the medical oncology floor for further evaluation and management of his symptoms.\n",
      "\n",
      "Problem-based hospital course---\n",
      "# Hemoptysis --- The patient presented with small volume hemoptysis, which was initially evaluated with a chest CT scan, which showed moderate pulmonary vascular congestion and ground-glass opacities throughout bilateral lungs. The patient was treated with bronchoscopy and was diagnosed with community-acquired pneumonia.\n",
      "\n",
      "# DLBCL --- The patient has a history of DLBCL and recent diagnosis of tonsillar involvement. He was treated with R-CHOP chemotherapy and was admitted for possible bronchoscopy.\n",
      "\n",
      "\n",
      "Time taken for generate_bhc: 4.687921524047852 seconds.\n",
      "202 of 250, 80.8% hadm_id: 27050797 **********\n",
      "\n",
      "\n",
      "1017\n"
     ]
    },
    {
     "name": "stderr",
     "output_type": "stream",
     "text": [
      "Processed prompts: 100%|██████████| 1/1 [00:06<00:00,  6.32s/it, est. speed input: 160.89 toks/s, output: 39.08 toks/s]\n"
     ]
    },
    {
     "name": "stdout",
     "output_type": "stream",
     "text": [
      "Brief Hospital Course\n",
      "The patient with a history of bilateral SDH, R traumatic SAH, L nasal bone fracture, and L frontal process of the maxilla fracture presents with a fall down two stairs. They were admitted to the neurosurgical intensive care unit for a small R SDH and traumatic SAH, and likely acute fractures through the left nasal bone and frontal process of the maxilla on the left.\n",
      "\n",
      "Problem-based hospital course---\n",
      "# Small R SDH and traumatic SAH --- The patient presented with a small R SDH and traumatic SAH. The diagnostic work up included a CT head without contrast, which showed a small R SDH and traumatic SAH. The patient received supportive care and was monitored for any changes in their condition.\n",
      "\n",
      "# L nasal bone fracture and L frontal process of the maxilla fracture --- The patient presented with likely acute fractures through the left nasal bone and frontal process of the maxilla on the left. The diagnostic work up included a CT sinus/mandible/maxillofacial without contrast, which showed a likely acute fracture through the left nasal bone and frontal process of the maxilla on the left. The patient received supportive care and was monitored for any changes in their condition.\n",
      "\n",
      "\n",
      "Time taken for generate_bhc: 6.339321136474609 seconds.\n",
      "203 of 250, 81.2% hadm_id: 29968521 **********\n",
      "\n",
      "\n",
      "1853\n"
     ]
    },
    {
     "name": "stderr",
     "output_type": "stream",
     "text": [
      "Processed prompts: 100%|██████████| 1/1 [00:07<00:00,  7.92s/it, est. speed input: 234.14 toks/s, output: 38.03 toks/s]\n"
     ]
    },
    {
     "name": "stdout",
     "output_type": "stream",
     "text": [
      "Brief Hospital Course\n",
      "The patient with a history of ischemic cardiomyopathy with an ejection fraction of 35%, paroxysmal atrial fibrillation, and lung cancer status post video-assisted thoracoscopic surgery presents with a chief complaint of feeling poorly. She was admitted to the Neurology service for evaluation of a left posterior cerebral artery (PCA) infarction.\n",
      "\n",
      "The patient was initially evaluated for alcohol intoxication, but her EtOH level was negative. A head CT revealed a left PCA infarction, and neurology was consulted. The patient's past medical history is significant for recent hospitalization for profound lactic acidosis due to sepsis, EtOH abuse, and starvation, as well as aspiration pneumonia.\n",
      "\n",
      "Problem-based hospital course---\n",
      "\n",
      "# Left PCA infarction --- The patient presented with a new onset headache described as pounding and bifrontal that has waxed and waned over the past 2 days. The diagnostic workup included a head CT and MRI, which revealed a subacute infarct in the left PCA territory with associated blood products. The patient was treated with supportive care and was diagnosed with a left subacute PCA infarct.\n",
      "\n",
      "# Vertebral dissection --- The patient's CTA head and neck revealed a short segment dissection of the proximal left V2 segment vertebral artery with associated high-grade luminal stenosis. The patient was treated with supportive care and was diagnosed with vertebral dissection.\n",
      "\n",
      "\n",
      "Time taken for generate_bhc: 7.940234899520874 seconds.\n",
      "204 of 250, 81.6% hadm_id: 28921107 **********\n",
      "\n",
      "\n",
      "1540\n"
     ]
    },
    {
     "name": "stderr",
     "output_type": "stream",
     "text": [
      "Processed prompts: 100%|██████████| 1/1 [00:04<00:00,  4.89s/it, est. speed input: 314.82 toks/s, output: 37.61 toks/s]\n"
     ]
    },
    {
     "name": "stdout",
     "output_type": "stream",
     "text": [
      "Brief Hospital Course\n",
      "The patient with a history of TBI, nonverbal, s/p trach/PEG presents with hypoxia. She was admitted to the MICU for further management of her symptoms.\n",
      "\n",
      "Problem-based hospital course---\n",
      "# Hypoxia --- The patient presented with an aspiration event and symptoms of dyspnea. She was initially treated with albuterol/ipratropium, doxycycline, keppra, baclofen, valoprate, and lacosamide. She continued to be tachypneic and was placed on PSV and admitted to the MICU.\n",
      "\n",
      "# Aspiration pneumonitis --- The patient was diagnosed with aspiration pneumonitis based on the chest X-ray findings of subtle, patchy opacities in the right juxtahilar region, which could be due to clinically suspected aspiration or a developing infectious pneumonia.\n",
      "\n",
      "\n",
      "Time taken for generate_bhc: 4.9144628047943115 seconds.\n",
      "205 of 250, 82.0% hadm_id: 28972769 **********\n",
      "\n",
      "\n",
      "1115\n"
     ]
    },
    {
     "name": "stderr",
     "output_type": "stream",
     "text": [
      "Processed prompts: 100%|██████████| 1/1 [00:05<00:00,  5.59s/it, est. speed input: 199.46 toks/s, output: 38.64 toks/s]\n"
     ]
    },
    {
     "name": "stdout",
     "output_type": "stream",
     "text": [
      "Brief Hospital Course\n",
      "The patient with a history of end stage renal disease on hemodialysis, diabetes mellitus, and hypertension presents with obstructed AV graft. They were admitted to the Transplant Surgery service for consideration of stent placement and management of graft access failure.\n",
      "\n",
      "Problem-based hospital course---\n",
      "# Obstructed AV graft --- The patient presented with difficulty accessing the graft, which was initially managed with thrombectomy and angioplasty. However, residual stenosis remained, and the patient underwent repeat angioplasty. The patient's graft access failed, and they were referred to the ED for further management.\n",
      "The related diagnostic work up included blood tests, which showed normal white blood cell count, red blood cell count, and hemoglobin levels. The patient's blood glucose level was elevated, and their urea nitrogen and creatinine levels were elevated. The patient's electrolyte levels were within normal limits.\n",
      "The related medical treatment course included hemodialysis, which was commenced after the initial procedure. The patient's medications were not changed during their hospital stay.\n",
      "\n",
      "\n",
      "Time taken for generate_bhc: 5.614924669265747 seconds.\n",
      "206 of 250, 82.4% hadm_id: 27531873 **********\n",
      "\n",
      "\n",
      "1730\n"
     ]
    },
    {
     "name": "stderr",
     "output_type": "stream",
     "text": [
      "Processed prompts: 100%|██████████| 1/1 [00:06<00:00,  6.64s/it, est. speed input: 260.81 toks/s, output: 37.84 toks/s]\n"
     ]
    },
    {
     "name": "stdout",
     "output_type": "stream",
     "text": [
      "Brief Hospital Course\n",
      "The patient with a history of Crohn's disease and overactive bladder presents with constant right-sided and epigastric abdominal pain, cramping, present for 3 days. They were admitted to the medical floor for evaluation and management of Crohn's disease flare, suspected C. difficile colitis, and abdominal pain.\n",
      "\n",
      "The patient was initially diagnosed with Regional Enteritis NOS and was found to have active colitis extending from the distal transverse colon to the proximal sigmoid colon, compatible with Crohn's disease. They were also diagnosed with C. difficile colitis.\n",
      "\n",
      "Problem-based hospital course---\n",
      "# Crohn's disease --- The patient presented with active colitis extending from the distal transverse colon to the proximal sigmoid colon, compatible with Crohn's disease. The diagnostic work up included MR Enterography, which showed active colitis and mild wall thickening of the ascending and proximal transverse colon without active inflammation. The patient was initially diagnosed with Regional Enteritis NOS.\n",
      "\n",
      "# C. difficile colitis --- The patient was diagnosed with C. difficile colitis based on the results of the C. difficile DNA amplification assay, which was positive for toxigenic C. difficile.\n",
      "\n",
      "\n",
      "Time taken for generate_bhc: 6.664620637893677 seconds.\n",
      "207 of 250, 82.8% hadm_id: 24497999 **********\n",
      "\n",
      "\n",
      "2172\n"
     ]
    },
    {
     "name": "stderr",
     "output_type": "stream",
     "text": [
      "Processed prompts: 100%|██████████| 1/1 [00:05<00:00,  5.96s/it, est. speed input: 364.35 toks/s, output: 36.90 toks/s]\n"
     ]
    },
    {
     "name": "stdout",
     "output_type": "stream",
     "text": [
      "Brief Hospital Course\n",
      "The patient with a history of diabetes mellitus, hypertension, chronic kidney disease, renal cell carcinoma status post left nephrectomy, and multiple recent small bowel obstructions presents with abdominal pain, tachycardia. She was admitted to the intensive care unit for supraventricular tachycardia with rapid ventricular response. \n",
      "\n",
      "Problem-based hospital course---\n",
      "# Abdominal pain --- The patient presented with recurrent abdominal pain and was found to have small bowel obstruction. Symptoms resolved with NPO and NG decompression. \n",
      "The related diagnostic work up included laboratory tests, which showed a white blood cell count of 13.6 with 86% polymorphonuclear cells, and a creatinine level of 1.8. The related medical treatment course included administration of metoprolol and diltiazem.\n",
      "\n",
      "# Supraventricular tachycardia --- The patient was diagnosed with supraventricular tachycardia with rapid ventricular response, which was treated with metoprolol and diltiazem.\n",
      "\n",
      "\n",
      "Time taken for generate_bhc: 5.998202085494995 seconds.\n",
      "208 of 250, 83.2% hadm_id: 28928876 **********\n",
      "\n",
      "\n",
      "1274\n"
     ]
    },
    {
     "name": "stderr",
     "output_type": "stream",
     "text": [
      "Processed prompts: 100%|██████████| 1/1 [00:05<00:00,  5.70s/it, est. speed input: 223.62 toks/s, output: 38.44 toks/s]\n"
     ]
    },
    {
     "name": "stdout",
     "output_type": "stream",
     "text": [
      "Brief Hospital Course\n",
      "The patient with a history of asthma and nasal polyposis presents with a one-week history of headaches and vomiting. She was admitted to the neurosurgical service for a neurosurgical evaluation after a CAT scan showed a right perimesencephalic SAH and tentorial subdural hematoma. The patient was initially diagnosed with intracerebral hemorrhage and headache.\n",
      "\n",
      "Problem-based hospital course---\n",
      "# Subdural hemorrhage --- The patient presented with a one-week history of headaches and vomiting. The diagnostic work up included a CAT scan, CTA HEAD, and cerebral angiogram, which showed no evidence of aneurysm, significant stenosis, or arteriovenous malformations in the anterior or posterior circulation. The patient underwent a diagnostic cerebral angiogram.\n",
      "\n",
      "# Headache --- The patient presented with a one-week history of headaches. The diagnostic work up included a CAT scan, CTA HEAD, and cerebral angiogram, which showed a right perimesencephalic SAH and tentorial subdural hematoma.\n",
      "\n",
      "\n",
      "Time taken for generate_bhc: 5.721941709518433 seconds.\n",
      "209 of 250, 83.6% hadm_id: 24683763 **********\n",
      "\n",
      "\n",
      "2165\n"
     ]
    },
    {
     "name": "stderr",
     "output_type": "stream",
     "text": [
      "Processed prompts: 100%|██████████| 1/1 [00:05<00:00,  5.44s/it, est. speed input: 397.98 toks/s, output: 36.40 toks/s]\n"
     ]
    },
    {
     "name": "stdout",
     "output_type": "stream",
     "text": [
      "Brief Hospital Course\n",
      "The patient with a history of COPD/Asthma, CHF, and ETOH abuse presents with acute onset SOB. They were admitted to the MICU for acute hypoxic hypercarbic respiratory failure, COPD, and acute normocytic anemia.\n",
      "\n",
      "Problem-based hospital course---\n",
      "# Acute Hypoxic Hypercarbic Respiratory Failure --- The patient presented with acute onset SOB, which was initially managed with BiPAP with 4L O2 for hypoxia and hypercarbia. The patient was given albuterol and ipratropium bromide nebulizers, as well as methylprednisolone sodium succinate IV.\n",
      "\n",
      "# COPD --- The patient has a history of COPD/Asthma, which was exacerbated by the acute onset SOB.\n",
      "\n",
      "# Acute Normocytic Anemia --- The patient's anemia was likely caused by the acute hypoxic hypercarbic respiratory failure.\n",
      "\n",
      "\n",
      "Time taken for generate_bhc: 5.477339029312134 seconds.\n",
      "210 of 250, 84.0% hadm_id: 22657172 **********\n",
      "\n",
      "\n",
      "821\n"
     ]
    },
    {
     "name": "stderr",
     "output_type": "stream",
     "text": [
      "Processed prompts: 100%|██████████| 1/1 [00:04<00:00,  4.50s/it, est. speed input: 182.50 toks/s, output: 38.23 toks/s]\n"
     ]
    },
    {
     "name": "stdout",
     "output_type": "stream",
     "text": [
      "Brief Hospital Course\n",
      "The patient with a history of cholangiocarcinoma, essential (primary) hypertension, and type 2 diabetes mellitus presents with obstructive jaundice and malpositioned PTBD. She was admitted to the hospital for drain exchange to internal-external PTBD due to malpositioned PTBD, new upstream intra and extrahepatic bile duct dilation, and new pancreatic duct dilation since the previous examination.\n",
      "\n",
      "Problem-based hospital course---\n",
      "# Obstructive Jaundice --- The patient presented with increased jaundice, dark urine, and itching. The diagnostic work up included a CT scan, which demonstrated malpositioned PTBD, new upstream intra and extrahepatic bile duct dilation, and new pancreatic duct dilation since the previous examination. The patient underwent drain exchange to internal-external PTBD.\n",
      "\n",
      "\n",
      "Time taken for generate_bhc: 4.521915912628174 seconds.\n",
      "211 of 250, 84.4% hadm_id: 22387229 **********\n",
      "\n",
      "\n",
      "1795\n"
     ]
    },
    {
     "name": "stderr",
     "output_type": "stream",
     "text": [
      "Processed prompts: 100%|██████████| 1/1 [00:05<00:00,  5.48s/it, est. speed input: 328.06 toks/s, output: 37.10 toks/s]\n"
     ]
    },
    {
     "name": "stdout",
     "output_type": "stream",
     "text": [
      "Brief Hospital Course\n",
      "The patient with a history of chronic pancreatitis secondary to pancreatic divisum, CF mutation, and esophageal spasm presents with 3 days of acute onset, epigastric, aching abdominal pain radiating to the back, associated nausea/vomiting, and inability to tolerate PO. She was admitted to the medical floor for pancreatitis flare.\n",
      "\n",
      "Problem-based hospital course---\n",
      "# Acute on chronic pancreatitis --- The patient presented with severe abdominal pain, nausea, and vomiting, which is consistent with pancreatitis flares. The diagnostic work up included laboratory tests, including LFT's and lipase, which were unremarkable. The patient received 1L NS and was admitted to the floor for pancreatitis flare.\n",
      "\n",
      "# Esophageal spasm --- The patient endorsed chronic chest pain attributed to esophageal spasm, which responds to SL nitroglycerin. There is no further information available regarding the diagnostic work up or treatment course for this condition.\n",
      "\n",
      "\n",
      "Time taken for generate_bhc: 5.505293369293213 seconds.\n",
      "212 of 250, 84.8% hadm_id: 21762385 **********\n",
      "\n",
      "\n",
      "1909\n"
     ]
    },
    {
     "name": "stderr",
     "output_type": "stream",
     "text": [
      "Processed prompts: 100%|██████████| 1/1 [00:06<00:00,  6.04s/it, est. speed input: 316.17 toks/s, output: 37.26 toks/s]\n"
     ]
    },
    {
     "name": "stdout",
     "output_type": "stream",
     "text": [
      "Brief Hospital Course\n",
      "The patient with a history of prior right parietal stroke, right subdural hematoma, and vascular dementia presents with a seizure. She was admitted to the emergency department for evaluation and management of the seizure.\n",
      "\n",
      "Problem-based hospital course---\n",
      "# Seizure --- The patient presented with a seizure, characterized by rhythmic shaking of all four extremities with upward gaze deviation, which lasted for approximately 30 minutes. The diagnostic work up included normal CBC, normal BMP, negative troponins, and mildly elevated lactic acid. The patient received Keppra 1g IV x1 and Ativan 0.5mg IV x1 with resolution.\n",
      "\n",
      "# Right parietal chronic infarction --- The patient has a history of right parietal stroke, which left her with mild left sided weakness. The diagnostic work up included CT Head w/o contrast, which showed findings consistent with right parietal chronic infarction, periventricular white matter hypodensities consistent with small vessel ischemic disease. No hemorrhage, mass effect or midline shift.\n",
      "\n",
      "\n",
      "Time taken for generate_bhc: 6.076671361923218 seconds.\n",
      "213 of 250, 85.2% hadm_id: 29129604 **********\n",
      "\n",
      "\n",
      "1119\n"
     ]
    },
    {
     "name": "stderr",
     "output_type": "stream",
     "text": [
      "Processed prompts: 100%|██████████| 1/1 [00:07<00:00,  7.37s/it, est. speed input: 151.89 toks/s, output: 38.41 toks/s]\n"
     ]
    },
    {
     "name": "stdout",
     "output_type": "stream",
     "text": [
      "Brief Hospital Course\n",
      "The patient with a history of DM2, diabetic nephropathy, renal transplant, HTN, HLD presents with an episode of SOB and chest pain. They were admitted to the cardiology service for chest pain.\n",
      "\n",
      "Problem-based hospital course---\n",
      "# Chest pain --- The patient presented with intermittent chest pain lasting 1 minute and going away, not associated with exertion. The pain was described as heavy sensation in the left chest.\n",
      "The related diagnostic work up included initial labs and imaging, which were significant for WBC 2.4, HCT 37, PLT 237, INR 0.9, Lytes wnl, Trop <0.01 x2, and D-dimer 379. The EKG was unremarkable, and enzymes were negative x2. The patient was given SL nitro x1 and morphine 4mg IVx1, and insulin human 70/30 - unknown how many units.\n",
      "The related medical treatment course included stress test P-MIBI, which showed normal myocardial perfusion, normal left ventricular cavity size and systolic function, and questionable Persantine-induced anginal symptoms in the absence of ischemic ST segment changes.\n",
      "\n",
      "# Diabetic nephropathy --- The patient has a history of diabetic nephropathy, which was not mentioned as a specific problem during the hospital course.\n",
      "\n",
      "\n",
      "Time taken for generate_bhc: 7.3909831047058105 seconds.\n",
      "214 of 250, 85.6% hadm_id: 24094761 **********\n",
      "\n",
      "\n",
      "2452\n"
     ]
    },
    {
     "name": "stderr",
     "output_type": "stream",
     "text": [
      "Processed prompts: 100%|██████████| 1/1 [00:05<00:00,  5.94s/it, est. speed input: 413.05 toks/s, output: 36.39 toks/s]\n"
     ]
    },
    {
     "name": "stdout",
     "output_type": "stream",
     "text": [
      "Brief Hospital Course\n",
      "The patient with a history of metastatic melanoma to breast, intrathoracic lymph nodes, and intraabdominal mass presents with poor PO intake and hypotension. She was admitted to the Medical Intensive Care Unit (MICU) for dehydration, hypovolemia, and hypotension.\n",
      "\n",
      "Problem-based hospital course---\n",
      "# Dehydration --- The patient presented with poor PO intake and hypotension. She was found to be hypotensive with a blood pressure of 86/50 mmHg and a heart rate of 140 beats per minute. She was given 3L of normal saline and her systolic blood pressure rose to >100 mmHg. At the time of transfer, her vital signs were T98.5, HR 126, BP 122/74, RR 16, POx 96% RA.\n",
      "\n",
      "# Hypovolemia --- The patient's hypovolemia was secondary to dehydration and hypotension. She was treated with IV fluids and her blood pressure improved.\n",
      "\n",
      "\n",
      "Time taken for generate_bhc: 5.969992399215698 seconds.\n",
      "215 of 250, 86.0% hadm_id: 21481437 **********\n",
      "\n",
      "\n",
      "1523\n"
     ]
    },
    {
     "name": "stderr",
     "output_type": "stream",
     "text": [
      "Processed prompts: 100%|██████████| 1/1 [00:07<00:00,  7.16s/it, est. speed input: 212.72 toks/s, output: 38.13 toks/s]\n"
     ]
    },
    {
     "name": "stdout",
     "output_type": "stream",
     "text": [
      "Brief Hospital Course\n",
      "The patient with a history of recurrent pleural effusions of unknown cause, chronic right pleural effusion with PleurX drain, chronic pulmonary emboli, total parenteral nutrition dependence due to short gut syndrome, and atrial fibrillation presents with dyspnea. He was admitted to the medicine service for recurrent right pleural effusions of unclear etiology and required non-invasive positive pressure ventilation in the intensive care unit.\n",
      "\n",
      "Problem-based hospital course---\n",
      "# Recurrent right pleural effusions --- The patient presented with recurrent right pleural effusions of unclear etiology, which were initially diagnosed as pleural effusion NOS. The patient required multiple chest tubes to drain the effusions and was admitted to the medicine service for further management.\n",
      "\n",
      "[Summarize the related diagnostic work up and notable results]. The patient underwent a CT chest without contrast, which showed an interval increase in the size of the loculated large right pleural effusions despite the presence of a pleural drain, suggestive of drain malfunction. The patient also had a CXR, which showed interval improvement in pleural effusion after drainage.\n",
      "\n",
      "[Summarize the related medical or surgical treatment course]. The patient was treated with non-invasive positive pressure ventilation in the intensive care unit and had multiple chest tubes placed to drain the pleural effusions.\n",
      "\n",
      "\n",
      "Time taken for generate_bhc: 7.1944801807403564 seconds.\n",
      "216 of 250, 86.4% hadm_id: 27467857 **********\n",
      "\n",
      "\n",
      "1327\n"
     ]
    },
    {
     "name": "stderr",
     "output_type": "stream",
     "text": [
      "Processed prompts: 100%|██████████| 1/1 [00:07<00:00,  7.78s/it, est. speed input: 170.75 toks/s, output: 38.34 toks/s]\n"
     ]
    },
    {
     "name": "stdout",
     "output_type": "stream",
     "text": [
      "Brief Hospital Course\n",
      "The patient with a history of obesity s/p lap RNYGB presents with persistent epigastric pain, radiating to chest as well as RUQ and LUQ. They were admitted to the medical floor for abdominal pain, suspected marginal ulcers after Roux-en-Y gastric bypass, and esophagogastroduodenoscopy.\n",
      "\n",
      "Problem-based hospital course---\n",
      "# Abdominal pain --- The patient presented with persistent epigastric pain, radiating to chest as well as RUQ and LUQ, with a 2-week history of worsening symptoms.\n",
      "The diagnostic work up included laboratory tests, which showed WBC and LFTs within normal limits. RUS U/S showed no gallstones. CT A/P was also obtained, which showed no e/o internal hernia. GI was also consulted for EGD.\n",
      "The patient received treatment with medications, including Nexium, and underwent esophagogastroduodenoscopy.\n",
      "\n",
      "# Marginal ulcers after Roux-en-Y gastric bypass --- The patient was diagnosed with marginal ulcers after Roux-en-Y gastric bypass.\n",
      "The diagnostic work up included laboratory tests, which showed WBC and LFTs within normal limits. RUS U/S showed no gallstones. CT A/P was also obtained, which showed no e/o internal hernia. GI was also consulted for EGD.\n",
      "The patient received treatment with medications, including Nexium, and underwent esophagogastroduodenoscopy.\n",
      "\n",
      "\n",
      "Time taken for generate_bhc: 7.8198912143707275 seconds.\n",
      "217 of 250, 86.8% hadm_id: 24783461 **********\n",
      "\n",
      "\n",
      "2235\n"
     ]
    },
    {
     "name": "stderr",
     "output_type": "stream",
     "text": [
      "Processed prompts: 100%|██████████| 1/1 [00:04<00:00,  4.27s/it, est. speed input: 523.56 toks/s, output: 35.37 toks/s]\n"
     ]
    },
    {
     "name": "stdout",
     "output_type": "stream",
     "text": [
      "Brief Hospital Course\n",
      "The patient with a history of multiple sclerosis, diabetes, and deafness presents with a first episode of seizure. She was admitted to the neurology service for evaluation and management of the seizure.\n",
      "\n",
      "Problem-based hospital course---\n",
      "# Multiple Sclerosis --- The patient has a known history of multiple sclerosis, which is characterized by bilateral white matter hypodensities and volume loss on imaging studies. The patient's symptoms are likely related to the progression of the disease.\n",
      "\n",
      "# Seizure --- The patient presented with a first episode of seizure, which was characterized by shaking of the upper body and legs, drooling, and loss of consciousness. The patient was treated with anticonvulsant medications and was monitored for further seizures.\n",
      "\n",
      "\n",
      "Time taken for generate_bhc: 4.303539037704468 seconds.\n",
      "218 of 250, 87.2% hadm_id: 23981335 **********\n",
      "\n",
      "\n",
      "916\n"
     ]
    },
    {
     "name": "stderr",
     "output_type": "stream",
     "text": [
      "Processed prompts: 100%|██████████| 1/1 [00:03<00:00,  3.48s/it, est. speed input: 263.50 toks/s, output: 37.68 toks/s]\n"
     ]
    },
    {
     "name": "stdout",
     "output_type": "stream",
     "text": [
      "Brief Hospital Course\n",
      "The patient with a history of acute appendicitis presents with abdominal pain. They were admitted to the surgical service for laparoscopic appendectomy due to acute onset diffuse abdominal pain.\n",
      "\n",
      "Problem-based hospital course---\n",
      "# Acute Appendicitis --- The patient presented with acute onset diffuse abdominal pain that migrated to the right lower quadrant (RLQ) over several hours prior to presentation.\n",
      "The related diagnostic work up included laboratory tests, which showed a white blood cell count of 11.7, and a lactate level of 1.3. The patient underwent a laparoscopic appendectomy performed by Dr. ___.\n",
      "\n",
      "Time taken for generate_bhc: 3.5016651153564453 seconds.\n",
      "219 of 250, 87.6% hadm_id: 23796180 **********\n",
      "\n",
      "\n",
      "1364\n"
     ]
    },
    {
     "name": "stderr",
     "output_type": "stream",
     "text": [
      "Processed prompts: 100%|██████████| 1/1 [00:05<00:00,  5.16s/it, est. speed input: 264.51 toks/s, output: 37.62 toks/s]\n"
     ]
    },
    {
     "name": "stdout",
     "output_type": "stream",
     "text": [
      "Brief Hospital Course\n",
      "The patient with a history of hypertension, hyperlipidemia, and a heart murmur presents with dizziness and left arm tingling. She was admitted to the emergency department for evaluation of dizziness and left arm numbness.\n",
      "\n",
      "The patient was initially diagnosed with presyncope and was treated with ASA 325 per Neurology request. The patient's symptoms were managed with supportive care and observation.\n",
      "\n",
      "Problem-based hospital course---\n",
      "# Presyncope --- The patient presented with episodes of dizziness lasting for unknown duration, occurring on at least 5 occasions over the past 2 weeks. The patient's initial vital signs were 97.8/78/168/72/18/98%. The patient's laboratory results were within normal limits, with the exception of a slightly elevated AST(SGOT) and ALT(SGPT). The patient's urine analysis was also normal.\n",
      "\n",
      "The patient was diagnosed with presyncope at discharge.\n",
      "\n",
      "\n",
      "Time taken for generate_bhc: 5.180488348007202 seconds.\n",
      "220 of 250, 88.0% hadm_id: 20390086 **********\n",
      "\n",
      "\n",
      "1916\n"
     ]
    },
    {
     "name": "stderr",
     "output_type": "stream",
     "text": [
      "Processed prompts: 100%|██████████| 1/1 [00:05<00:00,  5.13s/it, est. speed input: 373.86 toks/s, output: 36.88 toks/s]\n"
     ]
    },
    {
     "name": "stdout",
     "output_type": "stream",
     "text": [
      "Brief Hospital Course\n",
      "The patient with a history of cirrhosis, HTN, DMII, and pancreatitis \n",
      "presents with abdominal pain and drainage from umbilical hernia. \n",
      "She was admitted to the surgical service for leaking umbilical hernia \n",
      "repair with mesh and evaluation of cirrhosis. \n",
      "At discharge, the patient was diagnosed with leaking umbilical hernia \n",
      "and cirrhosis.\n",
      "\n",
      "Problem-based hospital course---\n",
      "# Leaking umbilical hernia --- \n",
      "The patient presented with acute rupture of the umbilical hernia \n",
      "spilling clear fluid. She was treated with ceftriaxone and \n",
      "vancomycin. \n",
      "The related diagnostic work up included ultrasound and \n",
      "microbiology cultures. The notable results were a positive \n",
      "culture for Staphylococcus aureus coag +. \n",
      "The related medical treatment course included antibiotics and \n",
      "surgical repair with mesh.\n",
      "\n",
      "\n",
      "Time taken for generate_bhc: 5.157286167144775 seconds.\n",
      "221 of 250, 88.4% hadm_id: 22796633 **********\n",
      "\n",
      "\n",
      "2574\n"
     ]
    },
    {
     "name": "stderr",
     "output_type": "stream",
     "text": [
      "Processed prompts: 100%|██████████| 1/1 [00:09<00:00,  9.04s/it, est. speed input: 284.73 toks/s, output: 37.28 toks/s]\n"
     ]
    },
    {
     "name": "stdout",
     "output_type": "stream",
     "text": [
      "Brief Hospital Course\n",
      "The patient with a history of seizure disorder, CVA, frequent falls after a brainstem bleed, VP shunt placement, and a history of pneumonia presents with a several-day history of shortness of breath and cough. They were admitted to the Intensive Care Unit for a large right pleural effusion, possible right-sided pneumonia, and sepsis.\n",
      "\n",
      "The patient was initially diagnosed with a possible brainstem bleed, VP shunt placement, and a history of pneumonia. They underwent CT head, CT chest, and TTE, which showed a large right pleural effusion, near complete collapse of the right lower lobe, and normal biventricular regional/global systolic function with normal LV diastolic function and LVEDP.\n",
      "\n",
      "Problem-based hospital course---\n",
      "\n",
      "# Right Pleural Effusion --- The patient presented with a large right pleural effusion, which was initially diagnosed as possibly loculated. The patient underwent chest tube placement, and the effusion was drained. The patient's symptoms improved, and the effusion decreased in size.\n",
      "\n",
      "# Pneumonia --- The patient presented with a several-day history of shortness of breath and cough. The patient underwent CT chest, which showed consolidation of the right lower lobe and to lesser extent involving the right middle lobe, which part reflects atelectasis, but also concerning for superimposed pneumonia. The patient was treated with vanc/zosyn and was transferred for further management.\n",
      "\n",
      "# Sepsis --- The patient presented with sepsis, which was diagnosed based on the patient's symptoms and laboratory results. The patient was treated with antibiotics, and their symptoms improved.\n",
      "\n",
      "\n",
      "Time taken for generate_bhc: 9.070794343948364 seconds.\n",
      "222 of 250, 88.8% hadm_id: 28645517 **********\n",
      "\n",
      "\n",
      "1813\n"
     ]
    },
    {
     "name": "stderr",
     "output_type": "stream",
     "text": [
      "Processed prompts: 100%|██████████| 1/1 [00:06<00:00,  6.10s/it, est. speed input: 297.28 toks/s, output: 37.39 toks/s]\n"
     ]
    },
    {
     "name": "stdout",
     "output_type": "stream",
     "text": [
      "Brief Hospital Course\n",
      "The patient with a history of postpartum complications, including a third-degree laceration and chorioamnionitis, presents with postpartum fevers and vaginal bleeding concerning for endometritis and retained products of conception. She was admitted to the obstetrics and gynecology service for further evaluation and management.\n",
      "\n",
      "Problem-based hospital course---\n",
      "# Endometritis --- The patient presented with worsening lower abdominal pain and fevers, despite taking Tylenol and oxycodone. She had a temperature of 101.0°F upon arrival to the emergency department. The diagnostic work up included laboratory tests, which showed an elevated white blood cell count and neutrophilia. The patient received treatment with antibiotics, including gentamicin and ampicillin.\n",
      "\n",
      "# Retained products of conception --- The patient presented with vaginal bleeding and worsening abdominal pain. The diagnostic work up included a pelvic ultrasound, which showed hyperechoic material in the fundus with arterial and venous vascularity, concerning for vascularized retained products of conception. The patient underwent ultrasound-guided dilation and curettage.\n",
      "\n",
      "\n",
      "Time taken for generate_bhc: 6.123606443405151 seconds.\n",
      "223 of 250, 89.2% hadm_id: 26423696 **********\n",
      "\n",
      "\n",
      "1105\n"
     ]
    },
    {
     "name": "stderr",
     "output_type": "stream",
     "text": [
      "Processed prompts: 100%|██████████| 1/1 [00:04<00:00,  4.94s/it, est. speed input: 223.70 toks/s, output: 38.06 toks/s]\n"
     ]
    },
    {
     "name": "stdout",
     "output_type": "stream",
     "text": [
      "Brief Hospital Course\n",
      "The patient with a history of anxiety, depression, and deep vein thrombosis (DVT) presents with left leg pain. They were admitted to the hospital for progressive LLExt DVT on Lovenox SC therapy and worsening symptoms.\n",
      "\n",
      "Problem-based hospital course---\n",
      "# Left Leg Extremity DVT --- The patient presented with left leg pain and redness, which worsened over time.\n",
      "[Summarize the related diagnostic work up and notable results]. \n",
      "The patient underwent a CT scan, which showed extensive deep venous thrombus involving the distal left external iliac vein, common femoral vein, superficial femoral vein, and popliteal vein, and partial thrombosis of the deep femoral vein.\n",
      "[Summarize the related medical or surgical treatment course]. \n",
      "The patient was placed on IV heparin and sent to the operating room for potential vascular surgery consultation.\n",
      "\n",
      "\n",
      "Time taken for generate_bhc: 4.958733081817627 seconds.\n",
      "224 of 250, 89.6% hadm_id: 20836752 **********\n",
      "\n",
      "\n",
      "1430\n"
     ]
    },
    {
     "name": "stderr",
     "output_type": "stream",
     "text": [
      "Processed prompts: 100%|██████████| 1/1 [00:05<00:00,  5.40s/it, est. speed input: 264.94 toks/s, output: 37.61 toks/s]\n"
     ]
    },
    {
     "name": "stdout",
     "output_type": "stream",
     "text": [
      "Brief Hospital Course\n",
      "The patient with a history of well-controlled HIV infection and non-small cell lung cancer presents with fever, shortness of breath, poor appetite, worsening of chronic cough, sputum production, fatigue, and subjective orthostasis. He was admitted to the medical floor for community-acquired pneumonia, suspected acute infection, and orthostatic hypotension.\n",
      "\n",
      "Problem-based hospital course---\n",
      "# Community-acquired pneumonia --- The patient presented with fever, shortness of breath, and cough. The diagnostic work up included CT chest with interval development of scattered solid nodules in the region of pre-existing bronchiectasis, unclear whether this represents interval progression of disease or acute infection. The patient was treated with empiric antibiotics and corticosteroids.\n",
      "\n",
      "# Orthostatic hypotension --- The patient presented with subjective orthostasis. The diagnostic work up included normal WBC, slightly elevated K, and stable CKD. The patient was treated with fluid replacement and electrolyte management.\n",
      "\n",
      "\n",
      "Time taken for generate_bhc: 5.422943592071533 seconds.\n",
      "225 of 250, 90.0% hadm_id: 28956474 **********\n",
      "\n",
      "\n",
      "873\n"
     ]
    },
    {
     "name": "stderr",
     "output_type": "stream",
     "text": [
      "Processed prompts: 100%|██████████| 1/1 [00:03<00:00,  3.91s/it, est. speed input: 223.49 toks/s, output: 38.14 toks/s]\n"
     ]
    },
    {
     "name": "stdout",
     "output_type": "stream",
     "text": [
      "Brief Hospital Course\n",
      "The patient with a history of hypertension and mandibular fractures \n",
      "presents with jaw pain. They were admitted to the emergency department \n",
      "for evaluation and management of a parasymphyseal fracture and left mandibular ramus fracture, which was diagnosed with CT and Panorex imaging. \n",
      "Mandibular fracture \n",
      "\n",
      "Problem-based hospital course---\n",
      "# Mandibular fracture --- \n",
      "The patient presented with jaw pain after being struck by a snowplow while loading a truck. The diagnostic work up included CT and Panorex imaging, which demonstrated nondisplaced mandibular fractures of the left parasymphyseal region and involving the left mandibular ramus. The patient underwent conservative management.\n",
      "\n",
      "\n",
      "Time taken for generate_bhc: 3.9354331493377686 seconds.\n",
      "226 of 250, 90.4% hadm_id: 25498079 **********\n",
      "\n",
      "\n",
      "1945\n"
     ]
    },
    {
     "name": "stderr",
     "output_type": "stream",
     "text": [
      "Processed prompts: 100%|██████████| 1/1 [00:05<00:00,  5.73s/it, est. speed input: 339.60 toks/s, output: 36.84 toks/s]\n"
     ]
    },
    {
     "name": "stdout",
     "output_type": "stream",
     "text": [
      "Brief Hospital Course\n",
      "The patient with a history of pruritus and dark urine presents with pruritus and dark urine. They were admitted to the Gastroenterology service for elevated liver function tests and lipase, and a suspected diagnosis of bile duct obstruction.\n",
      "\n",
      "Problem-based hospital course---\n",
      "# Bile Duct Obstruction --- The patient presented with elevated liver function tests and lipase, and a suspected diagnosis of bile duct obstruction. The diagnostic work up included ERCP, which revealed a distal common bile duct stricture and an intra-ampullary mass. The related medical treatment course included sphincterotomy and placement of a biliary stent.\n",
      "\n",
      "# Ampullary Mass --- The patient presented with an ampullary mass, which was diagnosed through ERCP and biopsy. The diagnostic work up included ERCP, which revealed a 2 cm mass in the major papilla that appeared endoscopically unresectable. The related medical treatment course included sphincterotomy and placement of a biliary stent.\n",
      "\n",
      "\n",
      "Time taken for generate_bhc: 5.771718740463257 seconds.\n",
      "227 of 250, 90.8% hadm_id: 26121399 **********\n",
      "\n",
      "\n",
      "1480\n"
     ]
    },
    {
     "name": "stderr",
     "output_type": "stream",
     "text": [
      "Processed prompts: 100%|██████████| 1/1 [00:06<00:00,  6.41s/it, est. speed input: 231.03 toks/s, output: 37.93 toks/s]\n"
     ]
    },
    {
     "name": "stdout",
     "output_type": "stream",
     "text": [
      "Brief Hospital Course\n",
      "The patient with a history of Crohn's disease, diagnosed in ___, presents with abdominal pain/vomiting. They were admitted to the medical floor for medical management of small bowel obstruction/inflammation, likely secondary to an acute on chronic Crohn's flare.\n",
      "\n",
      "Problem-based hospital course---\n",
      "# Small Bowel Obstruction --- The patient presented with severe abdominal pain, nausea, and vomiting. The diagnostic work up included imaging, which showed small bowel obstruction/inflammation. The patient was diagnosed with small bowel obstruction likely secondary to an acute on chronic Crohn's flare. The related medical treatment course included NPO, IVF, and medical management.\n",
      "\n",
      "# Crohn's Disease --- The patient has a history of Crohn's disease, diagnosed in ___, and has been on remission with Pentasa since then. The patient has been stable with Pentasa, with episodes of nausea and epigastric pain at least twice a year, which resolved on its own. The patient was scheduled to start Humira and get a second opinion from Dr. ___ at ___. The patient denied any abdominal pain, nausea, and has passed stool with normal consistency and gas as well.\n",
      "\n",
      "\n",
      "Time taken for generate_bhc: 6.435243368148804 seconds.\n",
      "228 of 250, 91.2% hadm_id: 24008623 **********\n",
      "\n",
      "\n",
      "2209\n"
     ]
    },
    {
     "name": "stderr",
     "output_type": "stream",
     "text": [
      "Processed prompts: 100%|██████████| 1/1 [00:08<00:00,  8.59s/it, est. speed input: 257.22 toks/s, output: 37.61 toks/s]\n"
     ]
    },
    {
     "name": "stdout",
     "output_type": "stream",
     "text": [
      "Brief Hospital Course\n",
      "The patient with a history of multiple sclerosis, bipolar disorder, and migraines presents with syncope, abdominal pain, and orthostatic episodes. She was admitted to the medical floor for evaluation and management of her symptoms.\n",
      "\n",
      "Problem-based hospital course---\n",
      "# Orthostatic hypotension --- The patient presented with recurrent episodes of syncope and orthostasis, which were evaluated with orthostatic vital signs. The patient's blood pressure dropped significantly upon standing, indicating orthostatic hypotension.\n",
      "[Summarize the related diagnostic work up and notable results]. The patient's EKG showed a possible repolarization abnormality, but no STEMI or abnormal intervals. Labs were significant for a normal chem panel, coags neg, and negative tox screens. Imaging revealed a normal pelvic ultrasound with an IUD in appropriate position.\n",
      "[Summarize the related medical or surgical treatment course]. The patient was given no medications, and neurology was initially consulted but discontinued due to lack of evaluation.\n",
      "\n",
      "# Abdominal pain --- The patient reported non-specific abdominal pain, nausea, and episodes of non bloody non bilious emesis. The patient's abdominal exam was mild epigastric and suprapubic tenderness to palpation without rebound.\n",
      "[Summarize the diagnostic work up and notable results]. The patient's labs were significant for a normal chem panel, coags neg, and negative tox screens. Imaging revealed a normal pelvic ultrasound with an IUD in appropriate position.\n",
      "[Summarize the related medical or surgical treatment course]. The patient was given no medications.\n",
      "\n",
      "\n",
      "Time taken for generate_bhc: 8.63322925567627 seconds.\n",
      "229 of 250, 91.6% hadm_id: 28178093 **********\n",
      "\n",
      "\n",
      "1268\n"
     ]
    },
    {
     "name": "stderr",
     "output_type": "stream",
     "text": [
      "Processed prompts: 100%|██████████| 1/1 [00:05<00:00,  5.73s/it, est. speed input: 221.30 toks/s, output: 38.22 toks/s]\n"
     ]
    },
    {
     "name": "stdout",
     "output_type": "stream",
     "text": [
      "Brief Hospital Course\n",
      "The patient with a history of recent ischemic stroke and a large ASD presents with transient numbness. She was admitted to the stroke service for evaluation and management of her symptoms.\n",
      "\n",
      "Problem-based hospital course---\n",
      "# Recent stroke symptoms --- The patient presented with two episodes of transient numbness, initially affecting her left face, neck, and knee, and later only affecting her neck. The symptoms were described as tingling and warm, lasting around 15 minutes.\n",
      "The diagnostic work up included a negative NCHCT and a phone consultation with her neurologist, who instructed her to present to the hospital. The patient had another episode of symptoms en-route, which was also transient, but with lingering warmth in the affected area. Code stroke was called on her arrival.\n",
      "The related medical treatment course included a MRI Brain, which showed stable punctate foci of FLAIR and diffusion-weighted hyperintensity in the right precentral and postcentral gyri, subacute infarct versus T2 shine through. No acute intracranial abnormality was found.\n",
      "\n",
      "\n",
      "Time taken for generate_bhc: 5.761574745178223 seconds.\n",
      "230 of 250, 92.0% hadm_id: 22210594 **********\n",
      "\n",
      "\n",
      "1616\n"
     ]
    },
    {
     "name": "stderr",
     "output_type": "stream",
     "text": [
      "Processed prompts: 100%|██████████| 1/1 [00:03<00:00,  3.90s/it, est. speed input: 414.95 toks/s, output: 36.46 toks/s]\n"
     ]
    },
    {
     "name": "stdout",
     "output_type": "stream",
     "text": [
      "Brief Hospital Course\n",
      "The patient with a history of GERD, HLD, and renal stones presents with a 1 week history of diffuse abdominal pain. He was admitted to the medical floor for acute pancreatitis, which was confirmed by CT abdomen/pelvis with peripancreatic stranding. The patient was initially diagnosed with acute pancreatitis, unspecified.\n",
      "\n",
      "Problem-based hospital course---\n",
      "# Pancreatitis --- The patient presented with a 1 week history of diffuse abdominal pain, which was worse after eating. The pain was initially managed with a GI cocktail, morphine, and omeprazole. The patient's pain was better controlled with morphine on arrival to the floor.\n",
      "\n",
      "\n",
      "Time taken for generate_bhc: 3.917358636856079 seconds.\n",
      "231 of 250, 92.4% hadm_id: 22805349 **********\n",
      "\n",
      "\n",
      "1768\n"
     ]
    },
    {
     "name": "stderr",
     "output_type": "stream",
     "text": [
      "Processed prompts: 100%|██████████| 1/1 [00:06<00:00,  6.06s/it, est. speed input: 291.99 toks/s, output: 37.49 toks/s]\n"
     ]
    },
    {
     "name": "stdout",
     "output_type": "stream",
     "text": [
      "Brief Hospital Course\n",
      "The patient with a history of hypothyroidism secondary to surgery and viral meningitis presents with a 2-day history of headache, neck stiffness, subjective fevers, and chills. She was admitted to the Neurology floor for empiric treatment of bacterial meningitis with vancomycin and ceftriaxone.\n",
      "\n",
      "Problem-based hospital course---\n",
      "# Fever and neck stiffness --- The patient presented with a 2-day history of headache, neck stiffness, subjective fevers, and chills.\n",
      "[Summarize the related diagnostic work up and notable results]. \n",
      "The patient had a CT head that was negative, and numerous LP attempts were made, although they were unsuccessful due to pain. \n",
      "[Summarize the related medical or surgical treatment course]. \n",
      "The patient was empirically treated for bacterial meningitis with 1 gram vancomycin x 1, 2 grams ceftriaxone x 1, and given 0.5 mg IV dilaudid x 2 for headache, 10 mg IV reglan, and ?dexamethasone.\n",
      "\n",
      "\n",
      "Time taken for generate_bhc: 6.0767271518707275 seconds.\n",
      "232 of 250, 92.8% hadm_id: 22694461 **********\n",
      "\n",
      "\n",
      "1292\n"
     ]
    },
    {
     "name": "stderr",
     "output_type": "stream",
     "text": [
      "Processed prompts: 100%|██████████| 1/1 [00:06<00:00,  6.36s/it, est. speed input: 203.04 toks/s, output: 38.19 toks/s]\n"
     ]
    },
    {
     "name": "stdout",
     "output_type": "stream",
     "text": [
      "Brief Hospital Course\n",
      "The patient with a history of tracheal surgery presents with abdominal pain, rule out appendicitis. They were admitted to the surgical service for abdominal pain, initially diagnosed with appendicitis, but later found to not have appendicitis. The patient was discharged home on antibiotics, but returned to the hospital due to continued pain and was transferred to our hospital due to mistrust in the diagnostic ability of the previous hospital.\n",
      "\n",
      "Problem-based hospital course---\n",
      "# Abdominal Pain --- The patient presented with severe abdominal pain that brought her to the hospital. The pain had been present for 5 days and had progressed over 24 hours to nausea and vomiting. The patient was initially diagnosed with appendicitis, but the diagnosis was later changed.\n",
      "\n",
      "Summarize the related diagnostic work up and notable results. The patient had a CT scan of the abdomen and pelvis, which showed a possible tubular structure without contrast filling, which may be the appendix with minimally dilated portion. The study did not show significant stranding, but resolving appendicitis remained in the differential.\n",
      "\n",
      "Summarize the related medical or surgical treatment course. The patient did not undergo any major procedures.\n",
      "\n",
      "\n",
      "Time taken for generate_bhc: 6.388970136642456 seconds.\n",
      "233 of 250, 93.2% hadm_id: 22496721 **********\n",
      "\n",
      "\n",
      "1174\n"
     ]
    },
    {
     "name": "stderr",
     "output_type": "stream",
     "text": [
      "Processed prompts: 100%|██████████| 1/1 [00:08<00:00,  8.33s/it, est. speed input: 141.01 toks/s, output: 38.80 toks/s]\n"
     ]
    },
    {
     "name": "stdout",
     "output_type": "stream",
     "text": [
      "Brief Hospital Course\n",
      "The patient with a history of Stage IV NSCLC (adenoca, EGFR wild-type) and on Crizotinib 250mg BID presents with 7 days of anorexia, poor intake, nausea, and intermittent vomiting. They were admitted to the Medical Oncology unit for nausea and vomiting, initially diagnosed with Nausea with vomiting, diarrhea, and mal neo bronch/lung NOS, and history of breast malignancy. The patient was restarted on Crizotinib 2 days ago with recurrent non-bloody diarrhea.\n",
      "\n",
      "Problem-based hospital course---\n",
      "# Nausea and vomiting --- The patient presented with nausea and vomiting, which was initially diagnosed as Nausea with vomiting. The diagnostic work up included laboratory tests, which showed normal glucose, urea, creatinine, sodium, potassium, chloride, and total CO2 levels. The patient's WBC count was 4.8, RBC count was 4.76, HGB was 14.5, HCT was 43.5, MCV was 91, MCH was 30.5, MCHC was 33.4, and RDW was 13.3. The patient's platelet count was 241. The patient's urine test showed no blood, nitrite, protein, glucose, ketone, bilirubin, or urobilinogen, and the pH was 6.5. The patient's CXR showed scattered nodules, no focal consolidation or acute cardiopulmonary processes.\n",
      "\n",
      "\n",
      "Time taken for generate_bhc: 8.347404479980469 seconds.\n",
      "234 of 250, 93.6% hadm_id: 21520217 **********\n",
      "\n",
      "\n",
      "1851\n"
     ]
    },
    {
     "name": "stderr",
     "output_type": "stream",
     "text": [
      "Processed prompts: 100%|██████████| 1/1 [00:04<00:00,  4.94s/it, est. speed input: 374.72 toks/s, output: 36.84 toks/s]\n"
     ]
    },
    {
     "name": "stdout",
     "output_type": "stream",
     "text": [
      "Brief Hospital Course\n",
      "The patient with a history of renal papillary CA and pulmonary embolism presents with bilateral PEs. They were admitted to the Medical Intensive Care Unit for pulmonary embolism, initial diagnosis, and treatment with IV heparin.\n",
      "\n",
      "Problem-based hospital course---\n",
      "# Pulmonary Embolism --- The patient presented with bilateral PEs, which were discovered incidentally on staging CT performed yesterday. The patient was given Heparin IV and started on IV heparin with a bolus. The patient's symptoms were resolving, and they were stable.\n",
      "\n",
      "# Deep Vein Thrombosis in legs, both --- The patient had non-occlusive thrombus within the left distal SFV, distal popliteal, and posterior tibial veins, as well as non-occlusive thrombus within the right popliteal and right calf veins.\n",
      "\n",
      "\n",
      "Time taken for generate_bhc: 4.962292432785034 seconds.\n",
      "235 of 250, 94.0% hadm_id: 22887667 **********\n",
      "\n",
      "\n",
      "1510\n"
     ]
    },
    {
     "name": "stderr",
     "output_type": "stream",
     "text": [
      "Processed prompts: 100%|██████████| 1/1 [00:07<00:00,  7.14s/it, est. speed input: 211.44 toks/s, output: 37.95 toks/s]\n"
     ]
    },
    {
     "name": "stdout",
     "output_type": "stream",
     "text": [
      "Brief Hospital Course\n",
      "The patient with a history of hypertension and nephrolithiasis presents with right flank pain and foul smelling urine. She was admitted to the MICU for nephrolithiasis complicated by pyelonephritis and sepsis.\n",
      "\n",
      "Problem-based hospital course---\n",
      "# Right flank pain --- The patient presented with sharp non-radiating right flank pain made worse by walking and improved with rest.\n",
      "[Summarize the related diagnostic work up and notable results]. \n",
      "The patient had a CT w/o contrast showing no hydroureter, moderate fecal loading. \n",
      "[Summarize the related medical or surgical treatment course]. \n",
      "The patient was given ciprofloxicin 400mg IV and uretral stents placed and removed with stones extracted.\n",
      "\n",
      "# Pyelonephritis --- The patient presented with leukocytosis, WBC 13.5, 92% PMN, and U/A leuk/nitrate positive.\n",
      "[Summarize the related diagnostic work up and notable results]. \n",
      "The patient had blood cultures and urine cultures, with bacteri MANY yeast NONE Epi <1 TransE 1.\n",
      "[Summarize the related medical or surgical treatment course]. \n",
      "The patient was treated with antibiotics and had uretral stents placed and removed with stones extracted.\n",
      "\n",
      "\n",
      "Time taken for generate_bhc: 7.171147584915161 seconds.\n",
      "236 of 250, 94.4% hadm_id: 23779961 **********\n",
      "\n",
      "\n",
      "2423\n"
     ]
    },
    {
     "name": "stderr",
     "output_type": "stream",
     "text": [
      "Processed prompts: 100%|██████████| 1/1 [00:10<00:00, 10.80s/it, est. speed input: 224.41 toks/s, output: 37.79 toks/s]\n"
     ]
    },
    {
     "name": "stdout",
     "output_type": "stream",
     "text": [
      "Brief Hospital Course\n",
      "The patient with a history of hypertension, hyperlipidemia, acid reflux, diverticulosis, and rhinitis presents with chest discomfort. They were admitted to the intensive care unit for chest pain, initial diagnosis of coronary artery disease, and major procedures of coronary artery bypass graft and endoscopic harvesting of the long saphenous vein.\n",
      "\n",
      "Problem-based hospital course---\n",
      "# Chest Pain --- The patient presented with chest discomfort, which was described as dull pain over the left chest with radiation down both arms. The pain started 30 seconds to 1 minute after initiation of walking and was relieved with rest. The patient denied chest pain at rest.\n",
      "\n",
      "[Summarize the related diagnostic work up and notable results]. \n",
      "The patient underwent an EKG, which showed normal sinus rhythm with a rate of 62 beats per minute. The CXR was unremarkable. The patient's troponin levels decreased from 0.05 to 0.04. The patient's creatinine level increased from 1.35 to 1.4.\n",
      "\n",
      "[Summarize the related medical or surgical treatment course]. \n",
      "The patient was given aspirin 325mg, hydrochlorothiazide 25mg, and proton pump inhibitor 20mg. The patient was also given heparin for anticoagulation.\n",
      "\n",
      "# Coronary Artery Disease --- The patient was diagnosed with coronary artery disease and underwent coronary artery bypass graft surgery.\n",
      "\n",
      "[Summarize the diagnostic work up and notable results related to this medical condition]. \n",
      "The patient underwent intraoperative transesophageal echocardiogram, which showed normal left ventricular systolic function and moderate global right ventricular free wall hypokinesis.\n",
      "\n",
      "[Summarize the related medical or surgical treatment course]. \n",
      "The patient underwent coronary artery bypass graft surgery, which included grafting of the left internal mammary artery to the left anterior descending artery and saphenous vein grafts to the obtuse marginal and distal right coronary arteries.\n",
      "\n",
      "\n",
      "Time taken for generate_bhc: 10.826639890670776 seconds.\n",
      "237 of 250, 94.8% hadm_id: 28986460 **********\n",
      "\n",
      "\n",
      "1767\n"
     ]
    },
    {
     "name": "stderr",
     "output_type": "stream",
     "text": [
      "Processed prompts: 100%|██████████| 1/1 [00:05<00:00,  5.81s/it, est. speed input: 304.25 toks/s, output: 37.36 toks/s]\n"
     ]
    },
    {
     "name": "stdout",
     "output_type": "stream",
     "text": [
      "Brief Hospital Course\n",
      "The patient with a history of schizoaffective disorder, COPD, HTN, and hypothyroidism presents with agitation and paranoid delusions. She was admitted to the medicine unit for agitation and combativeness, initially diagnosed with delusional disorders. The patient was medically cleared by the ED team and NSG, who reviewed the head CT, which showed findings suggestive of normal pressure hydrocephalus.\n",
      "\n",
      "Problem-based hospital course---\n",
      "# Schizoaffective disorder --- \n",
      "The patient presented with agitation and paranoid delusions, which were managed with olanzapine, haldol, and quetiapine. She was also given macrobid for a urinary tract infection.\n",
      "\n",
      "# Urinary tract infection --- \n",
      "The patient had a moderate urinary tract infection, which was treated with macrobid.\n",
      "\n",
      "# Hypothyroidism --- \n",
      "The patient has a history of hypothyroidism, which was not treated during the hospital stay.\n",
      "\n",
      "# Hypertension --- \n",
      "The patient has a history of hypertension, which was not treated during the hospital stay.\n",
      "\n",
      "\n",
      "Time taken for generate_bhc: 5.850403308868408 seconds.\n",
      "238 of 250, 95.2% hadm_id: 22251973 **********\n",
      "\n",
      "\n",
      "1828\n"
     ]
    },
    {
     "name": "stderr",
     "output_type": "stream",
     "text": [
      "Processed prompts: 100%|██████████| 1/1 [00:07<00:00,  7.37s/it, est. speed input: 248.27 toks/s, output: 37.76 toks/s]\n"
     ]
    },
    {
     "name": "stdout",
     "output_type": "stream",
     "text": [
      "Brief Hospital Course\n",
      "The patient with a history of hypertension, remote history of cluster headaches, and right eye macular degeneration presents with a chief complaint of a right-sided headache, diplopia, and ptosis. He was admitted to the neurology service for further evaluation and management.\n",
      "\n",
      "Problem-based hospital course---\n",
      "# Right-sided headache --- The patient presented with a throbbing/pulsating right-sided headache that was constant, non-radiating, and not associated with nausea, vomiting, or photophobia. The headache was constant over the weekend, fluctuating in severity from 4 out of 10 to 8 out of 10 at maximum.\n",
      "The diagnostic work up included a normal NCHCT and a CT head without contrast, which showed mild ptosis of the right eye with no orbital abnormality or intracranial hemorrhage. The patient was diagnosed with a complete third nerve palsy, hypertension.\n",
      "\n",
      "# Right eye ptosis and diplopia --- The patient presented with horizontal diplopia worse in left gaze and vertical diplopia in both down and upgaze, with clear vision in rightward gaze. The diagnostic work up included a CT head without contrast, which showed mild ptosis of the right eye with no orbital abnormality or intracranial hemorrhage. The patient was diagnosed with a complete third nerve palsy, hypertension.\n",
      "\n",
      "\n",
      "Time taken for generate_bhc: 7.416594743728638 seconds.\n",
      "239 of 250, 95.6% hadm_id: 27267790 **********\n",
      "\n",
      "\n",
      "1637\n"
     ]
    },
    {
     "name": "stderr",
     "output_type": "stream",
     "text": [
      "Processed prompts: 100%|██████████| 1/1 [00:05<00:00,  5.05s/it, est. speed input: 324.29 toks/s, output: 37.24 toks/s]\n"
     ]
    },
    {
     "name": "stdout",
     "output_type": "stream",
     "text": [
      "Brief Hospital Course\n",
      "The patient with a history of Crohn's disease presents with abdominal pain and bloody diarrhea similar to previous chronic flare for 5 days along with almost daily night fever up to 102'sF. She was admitted to the medical floor for Crohn's flare.\n",
      "\n",
      "Problem-based hospital course---\n",
      "# Crohn's disease --- The patient presented with abdominal pain and bloody diarrhea similar to previous chronic flare for 5 days along with almost daily night fever up to 102'sF. The related diagnostic work up included CT abd-pelvis with contrast showing focal wall thickening around hepatic flexure, which could be due to Crohn's. The patient received tylenol 1 gram po for fever. The related medical treatment course included admission for Crohn's flare.\n",
      "\n",
      "# Anemia --- The patient's anemia was diagnosed based on laboratory results, including H/H ___, ESR 54.\n",
      "\n",
      "\n",
      "Time taken for generate_bhc: 5.087350130081177 seconds.\n",
      "240 of 250, 96.0% hadm_id: 20869094 **********\n",
      "\n",
      "\n",
      "1071\n"
     ]
    },
    {
     "name": "stderr",
     "output_type": "stream",
     "text": [
      "Processed prompts: 100%|██████████| 1/1 [00:06<00:00,  6.59s/it, est. speed input: 162.68 toks/s, output: 38.43 toks/s]\n"
     ]
    },
    {
     "name": "stdout",
     "output_type": "stream",
     "text": [
      "Brief Hospital Course\n",
      "The patient with a history of esophageal dilation and J-tube removal presents with nausea and vomiting for the last few days. They were admitted to the Gastroenterology service for nausea and vomiting, initially diagnosed with NAUSEA WITH VOMITING, and underwent esophageal dilation.\n",
      "\n",
      "Problem-based hospital course---\n",
      "# Nausea and Vomiting --- The patient presented with nausea and vomiting for the last few days, which was not resolved with emesis. The symptoms came on suddenly and were accompanied by an inability to keep down liquids and a feeling of incredible thirst.\n",
      "The related diagnostic work up included complete blood counts, which showed an increase in white blood cell count and hemoglobin. The notable results included an increase in platelet count and a decrease in red blood cell count. The patient was treated with supportive care and fluids.\n",
      "# Abdominal Symptoms --- The patient denied abdominal pain, but reported not passing flatus for the last two days.\n",
      "The related diagnostic work up included complete blood counts, which showed an increase in white blood cell count and hemoglobin. The notable results included an increase in platelet count and a decrease in red blood cell count. The patient was treated with supportive care and fluids.\n",
      "\n",
      "\n",
      "Time taken for generate_bhc: 6.602499723434448 seconds.\n",
      "241 of 250, 96.4% hadm_id: 25945639 **********\n",
      "\n",
      "\n",
      "2066\n"
     ]
    },
    {
     "name": "stderr",
     "output_type": "stream",
     "text": [
      "Processed prompts: 100%|██████████| 1/1 [00:07<00:00,  7.99s/it, est. speed input: 258.72 toks/s, output: 37.57 toks/s]\n"
     ]
    },
    {
     "name": "stdout",
     "output_type": "stream",
     "text": [
      "Brief Hospital Course\n",
      "The patient with a history of end-stage renal disease on hemodialysis, seizure disorder, multiple cerebrovascular accidents, and recurrent deep vein thromboses, presents with fever, abdominal pain, and altered mental status. He was admitted to the medicine service for further management.\n",
      "\n",
      "Problem-based hospital course---\n",
      "# Fever --- The patient presented with a fever of 103.8°F, which was initially treated with ceftriaxone and tylenol.\n",
      "[Summarize the related diagnostic work up and notable results]. \n",
      "The patient's fever was evaluated with blood cultures, which showed no growth to date. \n",
      "[Summarize the related medical or surgical treatment course]. \n",
      "The patient was treated with ceftriaxone and tylenol, and a central line was placed for further management.\n",
      "\n",
      "# Abdominal pain --- The patient presented with abdominal pain, which was evaluated with imaging studies, including a CT scan of the abdomen and pelvis, which showed a new comminuted left femoral neck intratrochanteric fracture with a small amount of hematoma adjacent to it.\n",
      "[Summarize the related diagnostic work up and notable results]. \n",
      "The patient's abdominal pain was evaluated with imaging studies, which showed a fracture of the left femoral neck. \n",
      "[Summarize the related medical or surgical treatment course]. \n",
      "The patient underwent a left hip closed reduction, internal fixation with trochanteric femoral nail.\n",
      "\n",
      "\n",
      "Time taken for generate_bhc: 8.023804187774658 seconds.\n",
      "242 of 250, 96.8% hadm_id: 22455152 **********\n",
      "\n",
      "\n",
      "1382\n"
     ]
    },
    {
     "name": "stderr",
     "output_type": "stream",
     "text": [
      "Processed prompts: 100%|██████████| 1/1 [00:04<00:00,  4.65s/it, est. speed input: 297.43 toks/s, output: 37.45 toks/s]\n"
     ]
    },
    {
     "name": "stdout",
     "output_type": "stream",
     "text": [
      "Brief Hospital Course\n",
      "The patient with a history of asthma and bipolar disorder presents with asthma exacerbation since this morning. She was admitted to the medical floor for asthma exacerbation, initial diagnosis, and treatment with nebs, albuterol, and solumedrol.\n",
      "\n",
      "Problem-based hospital course---\n",
      "# Asthma --- \n",
      "The patient presented with asthma exacerbation since this morning, with symptoms of cough and shortness of breath. She was given nebs, albuterol, and solumedrol in the ED and on the floor. The diagnostic work up included admission labs, which showed normal results. The notable results were a reduction in lung volumes with bibasilar opacities likely representing atelectasis on CXR. The related medical treatment course included treatment with nebs, albuterol, and solumedrol.\n",
      "\n",
      "\n",
      "Time taken for generate_bhc: 4.672699451446533 seconds.\n",
      "243 of 250, 97.2% hadm_id: 29901658 **********\n",
      "\n",
      "\n",
      "1552\n"
     ]
    },
    {
     "name": "stderr",
     "output_type": "stream",
     "text": [
      "Processed prompts: 100%|██████████| 1/1 [00:06<00:00,  6.71s/it, est. speed input: 231.48 toks/s, output: 37.73 toks/s]\n"
     ]
    },
    {
     "name": "stdout",
     "output_type": "stream",
     "text": [
      "Brief Hospital Course\n",
      "The patient with a history of hypertension and urinary tract infection presents with fever, dehydration, and a mildly productive cough of white phlegm with fever to 100. She was admitted to the 12 R unit for urinary tract infection and dehydration.\n",
      "For urinary tract infection, initial diagnosis, and treatment with azithromycin and ceftriaxone. \n",
      "At discharge, the patient was diagnosed with viral bronchitis/respiratory infection, weakness, and hypertension.\n",
      "\n",
      "Problem-based hospital course---\n",
      "# Urinary Tract Infection --- \n",
      "The patient presented with dysuria and foul-smelling urine. She was treated with azithromycin and ceftriaxone. The diagnostic work up included urinalysis, which showed 30 protein, 1 RBC, and <1 WBC. The notable results were a normal CXR and no DVT.\n",
      "\n",
      "# Dehydration --- \n",
      "The patient presented with fever and dehydration. She was treated with IV fluids. The diagnostic work up included laboratory tests, which showed normal electrolyte levels and a normal lactate level.\n",
      "\n",
      "# Fever --- \n",
      "The patient presented with fever. The diagnostic work up included laboratory tests, which showed normal white blood cell count and differential.\n",
      "\n",
      "\n",
      "Time taken for generate_bhc: 6.732560157775879 seconds.\n",
      "244 of 250, 97.6% hadm_id: 23694572 **********\n",
      "\n",
      "\n",
      "1887\n"
     ]
    },
    {
     "name": "stderr",
     "output_type": "stream",
     "text": [
      "Processed prompts: 100%|██████████| 1/1 [00:05<00:00,  5.86s/it, est. speed input: 322.43 toks/s, output: 36.91 toks/s]\n"
     ]
    },
    {
     "name": "stdout",
     "output_type": "stream",
     "text": [
      "Brief Hospital Course\n",
      "The patient with a history of esophageal cancer status post chemoradiation and surgery, and prostate cancer status post radical prostatectomy presents with constant back pain for 2 days. He was admitted to the medical floor for evaluation and management of his back pain.\n",
      "\n",
      "The patient was initially diagnosed with acute back pain, and his symptoms were managed with oxycodone/acetaminophen and ketorolac. He received 1L of normal saline and his vital signs were stable.\n",
      "\n",
      "Problem-based hospital course---\n",
      "# Back pain --- The patient presented with constant back pain for 2 days, which was acute in onset, sharp and achy in nature, mostly localized to the mid and lower back, with intermittent radiation to bilateral flanks and groin, and increasing in severity. The patient underwent a spine MRI, which showed no evidence of bony metastatic disease, no evidence of cord compression or abnormal signal within the spinal cord, and multilevel degenerative changes.\n",
      "\n",
      "The patient was diagnosed with low back pain at discharge.\n",
      "\n",
      "\n",
      "Time taken for generate_bhc: 5.90869665145874 seconds.\n",
      "245 of 250, 98.0% hadm_id: 20622567 **********\n",
      "\n",
      "\n",
      "1509\n"
     ]
    },
    {
     "name": "stderr",
     "output_type": "stream",
     "text": [
      "Processed prompts: 100%|██████████| 1/1 [00:05<00:00,  5.19s/it, est. speed input: 290.84 toks/s, output: 37.39 toks/s]\n"
     ]
    },
    {
     "name": "stdout",
     "output_type": "stream",
     "text": [
      "Brief Hospital Course\n",
      "The patient with a history of insulin-dependent diabetes mellitus, end-stage renal disease on dialysis, gastric ulcer, and hypertension presents with 2 months of chest pain that became increasingly worse over the past week. They were admitted to the intensive care unit for atypical chest pain, non-cardiac, nausea, and hyperkalemia.\n",
      "\n",
      "Problem-based hospital course---\n",
      "# Atypical chest pain, non-cardiac --- The patient presented with chest pain that was described as stabbing, non-radiating, and usually prompted by hypotension. The pain came on while walking and was associated with shortness of breath, dizziness when standing, nausea, and diarrhea.\n",
      "The patient underwent serial EKGs, which were negative for ischemic process. The patient also had abnormal hemodynamic response to exercise suggesting autonomic dysfunction.\n",
      "\n",
      "# Hyperkalemia --- The patient's initial labs showed elevated potassium levels, which were managed with treatment.\n",
      "\n",
      "\n",
      "Time taken for generate_bhc: 5.2150962352752686 seconds.\n",
      "246 of 250, 98.4% hadm_id: 29943224 **********\n",
      "\n",
      "\n",
      "1222\n"
     ]
    },
    {
     "name": "stderr",
     "output_type": "stream",
     "text": [
      "Processed prompts: 100%|██████████| 1/1 [00:04<00:00,  4.98s/it, est. speed input: 245.55 toks/s, output: 37.98 toks/s]\n"
     ]
    },
    {
     "name": "stdout",
     "output_type": "stream",
     "text": [
      "Brief Hospital Course\n",
      "The patient with a history of right frontal anaplastic astrocytoma, previously treated with resection, chemotherapy, and radiation therapy, presents with one week of headache and nausea. He was admitted to the OMED unit for worsening edema and left shift of structures on CT head, with recommendation from neurosurgery.\n",
      "\n",
      "Problem-based hospital course---\n",
      "# Headache --- The patient presented with a throbbing, constant headache for one week, which worsened over time.\n",
      "The related diagnostic work up included a CT head, which showed significantly worsening edema and left shift of structures. Notable results included the presence of dependent hyperdense material in the left frontal subdural fluid collection, suggestive of acute or subacute blood products.\n",
      "\n",
      "# Nausea and vomiting --- The patient presented with nausea and vomiting with minimal food intake, which was treated with 8 mg dexamethaxone in the ED.\n",
      "\n",
      "\n",
      "Time taken for generate_bhc: 5.001089096069336 seconds.\n",
      "247 of 250, 98.8% hadm_id: 21623362 **********\n",
      "\n",
      "\n",
      "1777\n"
     ]
    },
    {
     "name": "stderr",
     "output_type": "stream",
     "text": [
      "Processed prompts: 100%|██████████| 1/1 [00:05<00:00,  5.79s/it, est. speed input: 307.17 toks/s, output: 37.34 toks/s]\n"
     ]
    },
    {
     "name": "stdout",
     "output_type": "stream",
     "text": [
      "Brief Hospital Course\n",
      "The patient with a history of hypertension, diabetes, hyperlipidemia, gastroesophageal reflux disease, and prior ethanol abuse with pancreatitis presents with worsening abdominal pain which started in the epigastric area and has become more diffuse. He was admitted to the intensive care unit for suspected necrotizing pancreatitis, primarily involving the pancreatic uncinate process, with small focal parenchymal necrosis and extensive acute necrotic collection in the retroperitoneum.\n",
      "\n",
      "Problem-based hospital course---\n",
      "# Necrotizing Pancreatitis --- The patient presented with 2 days of worsening abdominal pain, which started in the epigastric area and has become more diffuse. The pain was severe at home, and he was unable to tolerate any oral intake without vomiting. He denied any fevers or chills. The patient was given 2L NS, fentanyl, Zofran, and Zosyn. General surgery was consulted, who recommended transfer to a higher level of care for further management.\n",
      "\n",
      "# Other --- None\n",
      "\n",
      "\n",
      "Time taken for generate_bhc: 5.84239649772644 seconds.\n",
      "248 of 250, 99.2% hadm_id: 20063495 **********\n",
      "\n",
      "\n",
      "1989\n"
     ]
    },
    {
     "name": "stderr",
     "output_type": "stream",
     "text": [
      "Processed prompts: 100%|██████████| 1/1 [00:05<00:00,  5.62s/it, est. speed input: 353.96 toks/s, output: 36.84 toks/s]\n"
     ]
    },
    {
     "name": "stdout",
     "output_type": "stream",
     "text": [
      "Brief Hospital Course\n",
      "The patient with a history of breast CA metastatic to lungs presents with bloating, dyspnea, and decreased appetite for 5 days, worse today. She was admitted to the hospital for management and potential paracentesis.\n",
      "\n",
      "Problem-based hospital course---\n",
      "# Intestinal Obstruction --- The patient presented with abdominal distension and decreased appetite. The diagnostic work up included a CT scan, which showed partial SBO and new ascites. The patient was transferred to the hospital for management and potential paracentesis.\n",
      "\n",
      "# Malignancy --- The patient was diagnosed with invasive lobular carcinoma, grade 2, measuring at least 0.4 cm in this limited sample. The patient was treated with fulvestrant and trastuzumab.\n",
      "\n",
      "# Respiratory Symptoms --- The patient presented with dyspnea. The diagnostic work up included a chest radiograph, which showed a small right pleural effusion with right basilar atelectasis, grossly unchanged from the previous chest radiograph.\n",
      "\n",
      "\n",
      "Time taken for generate_bhc: 5.655960559844971 seconds.\n",
      "249 of 250, 99.6% hadm_id: 20154746 **********\n",
      "\n",
      "\n",
      "1857\n"
     ]
    },
    {
     "name": "stderr",
     "output_type": "stream",
     "text": [
      "Processed prompts: 100%|██████████| 1/1 [00:06<00:00,  6.80s/it, est. speed input: 273.04 toks/s, output: 37.93 toks/s]\n"
     ]
    },
    {
     "name": "stdout",
     "output_type": "stream",
     "text": [
      "Brief Hospital Course\n",
      "The patient with a history of urothelial carcinoma with sarcomatoid features, diagnosed with metastases to the vaginal wall, right adnexa, retroperitoneal lymph nodes, and right lower lobe of the lung, presents with fever, nausea, flank pain, and nephrostomy tube fell out. She was admitted to the hospital for UTI. \n",
      "\n",
      "Problem-based hospital course---\n",
      "# UTI --- \n",
      "The patient presented with fever, nausea, vomiting, and blood from her nephrostomy. Culture positive for enterococcus, strep species, and gram-negative rods. She was treated with Vancomycin, Zosyn, Ceftriaxone, and Ciprofloxacin, which was narrowed to Ceftriaxone alone, and transitioned to amoxicillin x 7 days on discharge.\n",
      "\n",
      "# Bacteremia --- \n",
      "The patient developed bacteremia with Pseudomonas aeruginosa, which was sensitive to Piperacillin/Tazobactam, Gentamicin, Meropenem, and Tobramycin.\n",
      "\n",
      "# Pyelonephritis --- \n",
      "The patient had pyelonephritis with moderate hydronephrosis and hydroureter on the left.\n",
      "\n",
      "\n",
      "Time taken for generate_bhc: 6.828899621963501 seconds.\n",
      "250 of 250, 100.0% hadm_id: 22173413 **********\n",
      "\n",
      "\n",
      "1760\n"
     ]
    },
    {
     "name": "stderr",
     "output_type": "stream",
     "text": [
      "Processed prompts: 100%|██████████| 1/1 [00:03<00:00,  3.49s/it, est. speed input: 504.27 toks/s, output: 35.81 toks/s]"
     ]
    },
    {
     "name": "stdout",
     "output_type": "stream",
     "text": [
      "Brief Hospital Course\n",
      "The patient with a history of recurrent cholangitis and previous fibrotic obstruction presents with fever. He was admitted to the medicine service for further care and evaluation of a suspected bile leak.\n",
      "\n",
      "Problem-based hospital course---\n",
      "# Recurrent CHD stricture --- The patient presented with a tight stricture at the level of the higher CHD, which was diagnosed with ERCP. A biliary strait plastic stent was successfully placed across the stricture.\n",
      "\n",
      "# Fever --- The patient presented with fever, which was initially treated with zosyn and fluids. The fever resolved with treatment.\n",
      "\n",
      "\n",
      "Time taken for generate_bhc: 3.5208990573883057 seconds.\n"
     ]
    },
    {
     "name": "stderr",
     "output_type": "stream",
     "text": [
      "\n"
     ]
    }
   ],
   "source": [
    "import pandas as pd\n",
    "import time\n",
    "\n",
    "# Create an empty results table\n",
    "results = pd.DataFrame(columns=['hadm_id', 'BHC_LLM', 'BHC_human'])\n",
    "\n",
    "# results path:\n",
    "results_path = '../../data/troyTest/'\n",
    "file_name = 'results_bhc_smwtest.csv'\n",
    "results_file_path = os.path.join(results_path, file_name)\n",
    "\n",
    "count = 0\n",
    "total_records = len(hadm_subset_df.hadm_id)\n",
    "for hadm_id in hadm_subset_df['hadm_id']:  # Replace with your actual hadm_id values\n",
    "    count += 1\n",
    "    percent_complete = count*100/total_records\n",
    "    print(f\"{count} of {total_records}, {percent_complete}% hadm_id: {hadm_id} **********\\n\\n\")\n",
    "    start_time_bhc = time.time()\n",
    "    BHC_LLM = generate_bhc(hadm_id)\n",
    "    end_time_bhc = time.time()\n",
    "    duration_bhc = end_time_bhc - start_time_bhc\n",
    "    print(f\"Time taken for generate_bhc: {duration_bhc} seconds.\")\n",
    "    # discharge_instructions = generate_discharge_instructions(hadm_id)\n",
    "    new_row = pd.DataFrame({'hadm_id': [hadm_id], 'BHC_LLM': [BHC_LLM], 'BHC_human': [discharge_sections_df[discharge_sections_df['hadm_id'] == hadm_id]['BHC'].astype(str)]})\n",
    "    results = pd.concat([results, new_row], ignore_index=True)\n",
    "    # results = results.append({'hadm_id': hadm_id, 'brief_hospital_course': brief_hospital_course, 'discharge_instructions': discharge_instructions}, ignore_index=True)\n",
    "    results.to_csv(results_file_path, index=False)"
   ]
  },
  {
   "cell_type": "code",
   "execution_count": null,
   "id": "09edd6a4-765c-4045-a8d6-4c1e536cbedb",
   "metadata": {},
   "outputs": [
    {
     "name": "stdout",
     "output_type": "stream",
     "text": [
      "1330\n"
     ]
    },
    {
     "name": "stderr",
     "output_type": "stream",
     "text": [
      "Processed prompts: 100%|██████████| 1/1 [00:02<00:00,  2.32s/it, est. speed input: 572.54 toks/s, output: 77.92 toks/s]\n"
     ]
    },
    {
     "name": "stdout",
     "output_type": "stream",
     "text": [
      "Brief Hospital Course\n",
      "The patient with a history of COPD, atrial fibrillation, hypertension, CAD, and hyperlipidemia presents with shortness of breath, cough, and wheezing. She was admitted to the medical floor for COPD exacerbation, initially diagnosed as secondary to steroid taper for recent COPD exacerbation with a component of anxiety.\n",
      "\n",
      "Problem-based hospital course---\n",
      "# COPD Exacerbation --- The patient presented with shortness of breath, increased cough productive of red-reflective sputum, and wheezing since yesterday evening. She was treated with Duonebs and solumedrol 125mg IV.\n",
      "\n",
      "# Atrial Fibrillation --- The patient has a history of atrial fibrillation on apixaban.\n",
      "\n",
      "# Hypertension --- The patient has a history of hypertension.\n",
      "\n",
      "# CAD --- The patient has a history of CAD.\n",
      "\n",
      "\n",
      "Time taken for generate_bhc: 2.3429453372955322 seconds.\n",
      "1348\n"
     ]
    },
    {
     "name": "stderr",
     "output_type": "stream",
     "text": [
      "Processed prompts: 100%|██████████| 1/1 [00:04<00:00,  4.01s/it, est. speed input: 335.87 toks/s, output: 79.48 toks/s]"
     ]
    },
    {
     "name": "stdout",
     "output_type": "stream",
     "text": [
      "Dear Ms. ___,\n",
      "\n",
      "It was a pleasure to take care of you during your recent hospital admission. You were admitted to the hospital because of shortness of breath, cough, and wheezing. During your hospital stay, your treatments included albuterol inhaler, ipratropium nebs, and prednisone. \n",
      "\n",
      "Your diagnostic workup included a CT scan that showed emphysema but no evidence of infection. Pulmonary was consulted and recommended increasing your Advair dose to 500/50 and switching from theophylline to roflumilast. However, azithromycin therapy was deferred for outpatient follow-up. \n",
      "\n",
      "You were initiated on a steroid taper on ___ of prednisone 30 mg for 3 days, then 20 mg for 3 days, then 10 mg until outpatient follow-up. \n",
      "\n",
      "Your ongoing issues and follow-up recommendations include finishing a 5-day course of Azithromycin, 250mg qd until ___ and an extended prednisone taper for 5 days at 40mg, followed by 10mg taper every 5 days. We would also consider PCP prophylaxis with ___ if unable to wean prednisone to less than 20mg daily. Additionally, your SOB may have an anxiety component, and you may benefit from starting SSRI in addition to your home benzos already prescribed. \n",
      "\n",
      "If your symptoms return, please call our office (555-555-5555) or 911 for immediate assistance.\n",
      "\n",
      "Sincerely,\n",
      "Your Team___\n",
      "\n",
      "Time taken for generate_discharge_instructions: 4.027799844741821 seconds.\n"
     ]
    },
    {
     "name": "stderr",
     "output_type": "stream",
     "text": [
      "\n"
     ]
    }
   ],
   "source": [
    "import time\n",
    "\n",
    "# Patient ID to be processed\n",
    "patient_id = 24962904\n",
    "\n",
    "# Timing generate_bhc function\n",
    "start_time_bhc = time.time()\n",
    "brief_hospital_course = generate_bhc(patient_id)\n",
    "end_time_bhc = time.time()\n",
    "duration_bhc = end_time_bhc - start_time_bhc\n",
    "print(f\"Time taken for generate_bhc: {duration_bhc} seconds.\")\n",
    "\n",
    "# Timing generate_discharge_instructions function\n",
    "start_time_di = time.time()\n",
    "discharge_instructions = generate_discharge_instructions(patient_id)\n",
    "end_time_di = time.time()\n",
    "duration_di = end_time_di - start_time_di\n",
    "print(f\"Time taken for generate_discharge_instructions: {duration_di} seconds.\")\n"
   ]
  },
  {
   "cell_type": "code",
   "execution_count": null,
   "id": "0e862362-105a-4351-a2ae-06f1896d499f",
   "metadata": {},
   "outputs": [],
   "source": []
  },
  {
   "cell_type": "code",
   "execution_count": null,
   "id": "a0bba75b-c8b9-4343-b0b9-148b6d4c9c28",
   "metadata": {},
   "outputs": [],
   "source": []
  }
 ],
 "metadata": {
  "kernelspec": {
   "display_name": "Python 3 (ipykernel)",
   "language": "python",
   "name": "python3"
  },
  "language_info": {
   "codemirror_mode": {
    "name": "ipython",
    "version": 3
   },
   "file_extension": ".py",
   "mimetype": "text/x-python",
   "name": "python",
   "nbconvert_exporter": "python",
   "pygments_lexer": "ipython3",
   "version": "3.9.12"
  }
 },
 "nbformat": 4,
 "nbformat_minor": 5
}
