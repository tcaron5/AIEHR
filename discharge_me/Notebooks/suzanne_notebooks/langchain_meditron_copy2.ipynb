{
 "cells": [
  {
   "cell_type": "code",
   "execution_count": 4,
   "id": "2bc9378b-aa4a-480f-a08a-4a0177fa793f",
   "metadata": {
    "collapsed": true,
    "jupyter": {
     "outputs_hidden": true
    },
    "tags": []
   },
   "outputs": [
    {
     "name": "stdout",
     "output_type": "stream",
     "text": [
      "Defaulting to user installation because normal site-packages is not writeable\n",
      "Requirement already satisfied: langchain-community in /home/s.wendelken/.local/lib/python3.9/site-packages (0.2.6)\n",
      "Requirement already satisfied: langchain-openai in /home/s.wendelken/.local/lib/python3.9/site-packages (0.1.13)\n",
      "Requirement already satisfied: langchain-chroma in /home/s.wendelken/.local/lib/python3.9/site-packages (0.1.2)\n",
      "Requirement already satisfied: langchain in /home/s.wendelken/.local/lib/python3.9/site-packages (0.2.6)\n",
      "Requirement already satisfied: langchain-huggingface in /home/s.wendelken/.local/lib/python3.9/site-packages (0.0.3)\n",
      "Requirement already satisfied: PyYAML>=5.3 in /shared/centos7/anaconda3/2022.05/lib/python3.9/site-packages (from langchain-community) (6.0)\n",
      "Requirement already satisfied: SQLAlchemy<3,>=1.4 in /shared/centos7/anaconda3/2022.05/lib/python3.9/site-packages (from langchain-community) (1.4.32)\n",
      "Requirement already satisfied: dataclasses-json<0.7,>=0.5.7 in /home/s.wendelken/.local/lib/python3.9/site-packages (from langchain-community) (0.6.7)\n",
      "Requirement already satisfied: numpy<2,>=1 in /home/s.wendelken/.local/lib/python3.9/site-packages (from langchain-community) (1.26.4)\n",
      "Requirement already satisfied: langchain-core<0.3.0,>=0.2.10 in /home/s.wendelken/.local/lib/python3.9/site-packages (from langchain-community) (0.2.10)\n",
      "Requirement already satisfied: aiohttp<4.0.0,>=3.8.3 in /home/s.wendelken/.local/lib/python3.9/site-packages (from langchain-community) (3.9.5)\n",
      "Requirement already satisfied: requests<3,>=2 in /home/s.wendelken/.local/lib/python3.9/site-packages (from langchain-community) (2.32.3)\n",
      "Requirement already satisfied: tenacity!=8.4.0,<9.0.0,>=8.1.0 in /home/s.wendelken/.local/lib/python3.9/site-packages (from langchain-community) (8.4.2)\n",
      "Requirement already satisfied: langsmith<0.2.0,>=0.1.0 in /home/s.wendelken/.local/lib/python3.9/site-packages (from langchain-community) (0.1.82)\n",
      "Requirement already satisfied: openai<2.0.0,>=1.32.0 in /home/s.wendelken/.local/lib/python3.9/site-packages (from langchain-openai) (1.35.5)\n",
      "Requirement already satisfied: tiktoken<1,>=0.7 in /home/s.wendelken/.local/lib/python3.9/site-packages (from langchain-openai) (0.7.0)\n",
      "Requirement already satisfied: fastapi<1,>=0.95.2 in /home/s.wendelken/.local/lib/python3.9/site-packages (from langchain-chroma) (0.111.0)\n",
      "Requirement already satisfied: chromadb<0.6.0,>=0.4.0 in /home/s.wendelken/.local/lib/python3.9/site-packages (from langchain-chroma) (0.5.3)\n",
      "Requirement already satisfied: async-timeout<5.0.0,>=4.0.0 in /shared/centos7/anaconda3/2022.05/lib/python3.9/site-packages (from langchain) (4.0.1)\n",
      "Requirement already satisfied: langchain-text-splitters<0.3.0,>=0.2.0 in /home/s.wendelken/.local/lib/python3.9/site-packages (from langchain) (0.2.2)\n",
      "Requirement already satisfied: pydantic<3,>=1 in /home/s.wendelken/.local/lib/python3.9/site-packages (from langchain) (2.7.4)\n",
      "Requirement already satisfied: sentence-transformers>=2.6.0 in /home/s.wendelken/.local/lib/python3.9/site-packages (from langchain-huggingface) (3.0.1)\n",
      "Requirement already satisfied: huggingface-hub>=0.23.0 in /home/s.wendelken/.local/lib/python3.9/site-packages (from langchain-huggingface) (0.23.4)\n",
      "Requirement already satisfied: transformers>=4.39.0 in /home/s.wendelken/.local/lib/python3.9/site-packages (from langchain-huggingface) (4.41.2)\n",
      "Requirement already satisfied: tokenizers>=0.19.1 in /home/s.wendelken/.local/lib/python3.9/site-packages (from langchain-huggingface) (0.19.1)\n",
      "Requirement already satisfied: multidict<7.0,>=4.5 in /shared/centos7/anaconda3/2022.05/lib/python3.9/site-packages (from aiohttp<4.0.0,>=3.8.3->langchain-community) (5.2.0)\n",
      "Requirement already satisfied: aiosignal>=1.1.2 in /shared/centos7/anaconda3/2022.05/lib/python3.9/site-packages (from aiohttp<4.0.0,>=3.8.3->langchain-community) (1.2.0)\n",
      "Requirement already satisfied: frozenlist>=1.1.1 in /shared/centos7/anaconda3/2022.05/lib/python3.9/site-packages (from aiohttp<4.0.0,>=3.8.3->langchain-community) (1.2.0)\n",
      "Requirement already satisfied: attrs>=17.3.0 in /home/s.wendelken/.local/lib/python3.9/site-packages (from aiohttp<4.0.0,>=3.8.3->langchain-community) (23.2.0)\n",
      "Requirement already satisfied: yarl<2.0,>=1.0 in /shared/centos7/anaconda3/2022.05/lib/python3.9/site-packages (from aiohttp<4.0.0,>=3.8.3->langchain-community) (1.6.3)\n",
      "Requirement already satisfied: typing-extensions>=3.6.5 in /home/s.wendelken/.local/lib/python3.9/site-packages (from async-timeout<5.0.0,>=4.0.0->langchain) (4.12.2)\n",
      "Requirement already satisfied: build>=1.0.3 in /home/s.wendelken/.local/lib/python3.9/site-packages (from chromadb<0.6.0,>=0.4.0->langchain-chroma) (1.2.1)\n",
      "Requirement already satisfied: grpcio>=1.58.0 in /home/s.wendelken/.local/lib/python3.9/site-packages (from chromadb<0.6.0,>=0.4.0->langchain-chroma) (1.64.1)\n",
      "Requirement already satisfied: onnxruntime>=1.14.1 in /home/s.wendelken/.local/lib/python3.9/site-packages (from chromadb<0.6.0,>=0.4.0->langchain-chroma) (1.16.3)\n",
      "Requirement already satisfied: uvicorn[standard]>=0.18.3 in /home/s.wendelken/.local/lib/python3.9/site-packages (from chromadb<0.6.0,>=0.4.0->langchain-chroma) (0.30.1)\n",
      "Requirement already satisfied: orjson>=3.9.12 in /home/s.wendelken/.local/lib/python3.9/site-packages (from chromadb<0.6.0,>=0.4.0->langchain-chroma) (3.10.5)\n",
      "Requirement already satisfied: bcrypt>=4.0.1 in /home/s.wendelken/.local/lib/python3.9/site-packages (from chromadb<0.6.0,>=0.4.0->langchain-chroma) (4.1.3)\n",
      "Requirement already satisfied: importlib-resources in /home/s.wendelken/.local/lib/python3.9/site-packages (from chromadb<0.6.0,>=0.4.0->langchain-chroma) (6.4.0)\n",
      "Requirement already satisfied: pypika>=0.48.9 in /home/s.wendelken/.local/lib/python3.9/site-packages (from chromadb<0.6.0,>=0.4.0->langchain-chroma) (0.48.9)\n",
      "Requirement already satisfied: opentelemetry-sdk>=1.2.0 in /home/s.wendelken/.local/lib/python3.9/site-packages (from chromadb<0.6.0,>=0.4.0->langchain-chroma) (1.25.0)\n",
      "Requirement already satisfied: kubernetes>=28.1.0 in /home/s.wendelken/.local/lib/python3.9/site-packages (from chromadb<0.6.0,>=0.4.0->langchain-chroma) (30.1.0)\n",
      "Requirement already satisfied: posthog>=2.4.0 in /home/s.wendelken/.local/lib/python3.9/site-packages (from chromadb<0.6.0,>=0.4.0->langchain-chroma) (3.5.0)\n",
      "Requirement already satisfied: tqdm>=4.65.0 in /home/s.wendelken/.local/lib/python3.9/site-packages (from chromadb<0.6.0,>=0.4.0->langchain-chroma) (4.66.4)\n",
      "Requirement already satisfied: httpx>=0.27.0 in /home/s.wendelken/.local/lib/python3.9/site-packages (from chromadb<0.6.0,>=0.4.0->langchain-chroma) (0.27.0)\n",
      "Requirement already satisfied: opentelemetry-api>=1.2.0 in /home/s.wendelken/.local/lib/python3.9/site-packages (from chromadb<0.6.0,>=0.4.0->langchain-chroma) (1.25.0)\n",
      "Requirement already satisfied: typer>=0.9.0 in /home/s.wendelken/.local/lib/python3.9/site-packages (from chromadb<0.6.0,>=0.4.0->langchain-chroma) (0.12.3)\n",
      "Requirement already satisfied: opentelemetry-exporter-otlp-proto-grpc>=1.2.0 in /home/s.wendelken/.local/lib/python3.9/site-packages (from chromadb<0.6.0,>=0.4.0->langchain-chroma) (1.25.0)\n",
      "Requirement already satisfied: overrides>=7.3.1 in /home/s.wendelken/.local/lib/python3.9/site-packages (from chromadb<0.6.0,>=0.4.0->langchain-chroma) (7.7.0)\n",
      "Requirement already satisfied: chroma-hnswlib==0.7.3 in /home/s.wendelken/.local/lib/python3.9/site-packages (from chromadb<0.6.0,>=0.4.0->langchain-chroma) (0.7.3)\n",
      "Requirement already satisfied: mmh3>=4.0.1 in /home/s.wendelken/.local/lib/python3.9/site-packages (from chromadb<0.6.0,>=0.4.0->langchain-chroma) (4.1.0)\n",
      "Requirement already satisfied: opentelemetry-instrumentation-fastapi>=0.41b0 in /home/s.wendelken/.local/lib/python3.9/site-packages (from chromadb<0.6.0,>=0.4.0->langchain-chroma) (0.46b0)\n",
      "Requirement already satisfied: pyproject_hooks in /home/s.wendelken/.local/lib/python3.9/site-packages (from build>=1.0.3->chromadb<0.6.0,>=0.4.0->langchain-chroma) (1.1.0)\n",
      "Requirement already satisfied: importlib-metadata>=4.6 in /home/s.wendelken/.local/lib/python3.9/site-packages (from build>=1.0.3->chromadb<0.6.0,>=0.4.0->langchain-chroma) (7.1.0)\n",
      "Requirement already satisfied: packaging>=19.1 in /home/s.wendelken/.local/lib/python3.9/site-packages (from build>=1.0.3->chromadb<0.6.0,>=0.4.0->langchain-chroma) (24.1)\n",
      "Requirement already satisfied: tomli>=1.1.0 in /shared/centos7/anaconda3/2022.05/lib/python3.9/site-packages (from build>=1.0.3->chromadb<0.6.0,>=0.4.0->langchain-chroma) (1.2.2)\n",
      "Requirement already satisfied: marshmallow<4.0.0,>=3.18.0 in /home/s.wendelken/.local/lib/python3.9/site-packages (from dataclasses-json<0.7,>=0.5.7->langchain-community) (3.21.3)\n",
      "Requirement already satisfied: typing-inspect<1,>=0.4.0 in /home/s.wendelken/.local/lib/python3.9/site-packages (from dataclasses-json<0.7,>=0.5.7->langchain-community) (0.9.0)\n",
      "Requirement already satisfied: email_validator>=2.0.0 in /home/s.wendelken/.local/lib/python3.9/site-packages (from fastapi<1,>=0.95.2->langchain-chroma) (2.2.0)\n",
      "Requirement already satisfied: ujson!=4.0.2,!=4.1.0,!=4.2.0,!=4.3.0,!=5.0.0,!=5.1.0,>=4.0.1 in /home/s.wendelken/.local/lib/python3.9/site-packages (from fastapi<1,>=0.95.2->langchain-chroma) (5.10.0)\n",
      "Requirement already satisfied: starlette<0.38.0,>=0.37.2 in /home/s.wendelken/.local/lib/python3.9/site-packages (from fastapi<1,>=0.95.2->langchain-chroma) (0.37.2)\n",
      "Requirement already satisfied: python-multipart>=0.0.7 in /home/s.wendelken/.local/lib/python3.9/site-packages (from fastapi<1,>=0.95.2->langchain-chroma) (0.0.9)\n",
      "Requirement already satisfied: fastapi-cli>=0.0.2 in /home/s.wendelken/.local/lib/python3.9/site-packages (from fastapi<1,>=0.95.2->langchain-chroma) (0.0.4)\n",
      "Requirement already satisfied: jinja2>=2.11.2 in /shared/centos7/anaconda3/2022.05/lib/python3.9/site-packages (from fastapi<1,>=0.95.2->langchain-chroma) (2.11.3)\n",
      "Requirement already satisfied: dnspython>=2.0.0 in /home/s.wendelken/.local/lib/python3.9/site-packages (from email_validator>=2.0.0->fastapi<1,>=0.95.2->langchain-chroma) (2.6.1)\n",
      "Requirement already satisfied: idna>=2.0.0 in /shared/centos7/anaconda3/2022.05/lib/python3.9/site-packages (from email_validator>=2.0.0->fastapi<1,>=0.95.2->langchain-chroma) (3.3)\n",
      "Requirement already satisfied: sniffio in /shared/centos7/anaconda3/2022.05/lib/python3.9/site-packages (from httpx>=0.27.0->chromadb<0.6.0,>=0.4.0->langchain-chroma) (1.2.0)\n",
      "Requirement already satisfied: httpcore==1.* in /home/s.wendelken/.local/lib/python3.9/site-packages (from httpx>=0.27.0->chromadb<0.6.0,>=0.4.0->langchain-chroma) (1.0.5)\n",
      "Requirement already satisfied: anyio in /shared/centos7/anaconda3/2022.05/lib/python3.9/site-packages (from httpx>=0.27.0->chromadb<0.6.0,>=0.4.0->langchain-chroma) (3.5.0)\n",
      "Requirement already satisfied: certifi in /shared/centos7/anaconda3/2022.05/lib/python3.9/site-packages (from httpx>=0.27.0->chromadb<0.6.0,>=0.4.0->langchain-chroma) (2021.10.8)\n",
      "Requirement already satisfied: h11<0.15,>=0.13 in /home/s.wendelken/.local/lib/python3.9/site-packages (from httpcore==1.*->httpx>=0.27.0->chromadb<0.6.0,>=0.4.0->langchain-chroma) (0.14.0)\n",
      "Requirement already satisfied: fsspec>=2023.5.0 in /home/s.wendelken/.local/lib/python3.9/site-packages (from huggingface-hub>=0.23.0->langchain-huggingface) (2024.5.0)\n",
      "Requirement already satisfied: filelock in /home/s.wendelken/.local/lib/python3.9/site-packages (from huggingface-hub>=0.23.0->langchain-huggingface) (3.15.4)\n",
      "Requirement already satisfied: zipp>=0.5 in /shared/centos7/anaconda3/2022.05/lib/python3.9/site-packages (from importlib-metadata>=4.6->build>=1.0.3->chromadb<0.6.0,>=0.4.0->langchain-chroma) (3.7.0)\n",
      "Requirement already satisfied: MarkupSafe>=0.23 in /shared/centos7/anaconda3/2022.05/lib/python3.9/site-packages (from jinja2>=2.11.2->fastapi<1,>=0.95.2->langchain-chroma) (2.0.1)\n",
      "Requirement already satisfied: six>=1.9.0 in /shared/centos7/anaconda3/2022.05/lib/python3.9/site-packages (from kubernetes>=28.1.0->chromadb<0.6.0,>=0.4.0->langchain-chroma) (1.16.0)\n",
      "Requirement already satisfied: oauthlib>=3.2.2 in /home/s.wendelken/.local/lib/python3.9/site-packages (from kubernetes>=28.1.0->chromadb<0.6.0,>=0.4.0->langchain-chroma) (3.2.2)\n",
      "Requirement already satisfied: requests-oauthlib in /home/s.wendelken/.local/lib/python3.9/site-packages (from kubernetes>=28.1.0->chromadb<0.6.0,>=0.4.0->langchain-chroma) (2.0.0)\n",
      "Requirement already satisfied: urllib3>=1.24.2 in /shared/centos7/anaconda3/2022.05/lib/python3.9/site-packages (from kubernetes>=28.1.0->chromadb<0.6.0,>=0.4.0->langchain-chroma) (1.26.9)\n",
      "Requirement already satisfied: websocket-client!=0.40.0,!=0.41.*,!=0.42.*,>=0.32.0 in /shared/centos7/anaconda3/2022.05/lib/python3.9/site-packages (from kubernetes>=28.1.0->chromadb<0.6.0,>=0.4.0->langchain-chroma) (0.58.0)\n",
      "Requirement already satisfied: python-dateutil>=2.5.3 in /shared/centos7/anaconda3/2022.05/lib/python3.9/site-packages (from kubernetes>=28.1.0->chromadb<0.6.0,>=0.4.0->langchain-chroma) (2.8.2)\n",
      "Requirement already satisfied: google-auth>=1.0.1 in /home/s.wendelken/.local/lib/python3.9/site-packages (from kubernetes>=28.1.0->chromadb<0.6.0,>=0.4.0->langchain-chroma) (2.31.0)\n",
      "Requirement already satisfied: rsa<5,>=3.1.4 in /shared/centos7/anaconda3/2022.05/lib/python3.9/site-packages (from google-auth>=1.0.1->kubernetes>=28.1.0->chromadb<0.6.0,>=0.4.0->langchain-chroma) (4.7.2)\n",
      "Requirement already satisfied: cachetools<6.0,>=2.0.0 in /shared/centos7/anaconda3/2022.05/lib/python3.9/site-packages (from google-auth>=1.0.1->kubernetes>=28.1.0->chromadb<0.6.0,>=0.4.0->langchain-chroma) (4.2.2)\n",
      "Requirement already satisfied: pyasn1-modules>=0.2.1 in /shared/centos7/anaconda3/2022.05/lib/python3.9/site-packages (from google-auth>=1.0.1->kubernetes>=28.1.0->chromadb<0.6.0,>=0.4.0->langchain-chroma) (0.2.8)\n",
      "Requirement already satisfied: jsonpatch<2.0,>=1.33 in /home/s.wendelken/.local/lib/python3.9/site-packages (from langchain-core<0.3.0,>=0.2.10->langchain-community) (1.33)\n",
      "Requirement already satisfied: jsonpointer>=1.9 in /home/s.wendelken/.local/lib/python3.9/site-packages (from jsonpatch<2.0,>=1.33->langchain-core<0.3.0,>=0.2.10->langchain-community) (3.0.0)\n",
      "Requirement already satisfied: sympy in /shared/centos7/anaconda3/2022.05/lib/python3.9/site-packages (from onnxruntime>=1.14.1->chromadb<0.6.0,>=0.4.0->langchain-chroma) (1.10.1)\n",
      "Requirement already satisfied: coloredlogs in /home/s.wendelken/.local/lib/python3.9/site-packages (from onnxruntime>=1.14.1->chromadb<0.6.0,>=0.4.0->langchain-chroma) (15.0.1)\n",
      "Requirement already satisfied: flatbuffers in /home/s.wendelken/.local/lib/python3.9/site-packages (from onnxruntime>=1.14.1->chromadb<0.6.0,>=0.4.0->langchain-chroma) (24.3.25)\n",
      "Requirement already satisfied: protobuf in /home/s.wendelken/.local/lib/python3.9/site-packages (from onnxruntime>=1.14.1->chromadb<0.6.0,>=0.4.0->langchain-chroma) (4.25.3)\n",
      "Requirement already satisfied: distro<2,>=1.7.0 in /home/s.wendelken/.local/lib/python3.9/site-packages (from openai<2.0.0,>=1.32.0->langchain-openai) (1.9.0)\n",
      "Requirement already satisfied: deprecated>=1.2.6 in /home/s.wendelken/.local/lib/python3.9/site-packages (from opentelemetry-api>=1.2.0->chromadb<0.6.0,>=0.4.0->langchain-chroma) (1.2.14)\n",
      "Requirement already satisfied: wrapt<2,>=1.10 in /shared/centos7/anaconda3/2022.05/lib/python3.9/site-packages (from deprecated>=1.2.6->opentelemetry-api>=1.2.0->chromadb<0.6.0,>=0.4.0->langchain-chroma) (1.12.1)\n",
      "Requirement already satisfied: opentelemetry-exporter-otlp-proto-common==1.25.0 in /home/s.wendelken/.local/lib/python3.9/site-packages (from opentelemetry-exporter-otlp-proto-grpc>=1.2.0->chromadb<0.6.0,>=0.4.0->langchain-chroma) (1.25.0)\n",
      "Requirement already satisfied: googleapis-common-protos~=1.52 in /home/s.wendelken/.local/lib/python3.9/site-packages (from opentelemetry-exporter-otlp-proto-grpc>=1.2.0->chromadb<0.6.0,>=0.4.0->langchain-chroma) (1.63.2)\n",
      "Requirement already satisfied: opentelemetry-proto==1.25.0 in /home/s.wendelken/.local/lib/python3.9/site-packages (from opentelemetry-exporter-otlp-proto-grpc>=1.2.0->chromadb<0.6.0,>=0.4.0->langchain-chroma) (1.25.0)\n",
      "Requirement already satisfied: opentelemetry-instrumentation==0.46b0 in /home/s.wendelken/.local/lib/python3.9/site-packages (from opentelemetry-instrumentation-fastapi>=0.41b0->chromadb<0.6.0,>=0.4.0->langchain-chroma) (0.46b0)\n",
      "Requirement already satisfied: opentelemetry-semantic-conventions==0.46b0 in /home/s.wendelken/.local/lib/python3.9/site-packages (from opentelemetry-instrumentation-fastapi>=0.41b0->chromadb<0.6.0,>=0.4.0->langchain-chroma) (0.46b0)\n",
      "Requirement already satisfied: opentelemetry-instrumentation-asgi==0.46b0 in /home/s.wendelken/.local/lib/python3.9/site-packages (from opentelemetry-instrumentation-fastapi>=0.41b0->chromadb<0.6.0,>=0.4.0->langchain-chroma) (0.46b0)\n",
      "Requirement already satisfied: opentelemetry-util-http==0.46b0 in /home/s.wendelken/.local/lib/python3.9/site-packages (from opentelemetry-instrumentation-fastapi>=0.41b0->chromadb<0.6.0,>=0.4.0->langchain-chroma) (0.46b0)\n",
      "Requirement already satisfied: setuptools>=16.0 in /shared/centos7/anaconda3/2022.05/lib/python3.9/site-packages (from opentelemetry-instrumentation==0.46b0->opentelemetry-instrumentation-fastapi>=0.41b0->chromadb<0.6.0,>=0.4.0->langchain-chroma) (61.2.0)\n",
      "Requirement already satisfied: asgiref~=3.0 in /home/s.wendelken/.local/lib/python3.9/site-packages (from opentelemetry-instrumentation-asgi==0.46b0->opentelemetry-instrumentation-fastapi>=0.41b0->chromadb<0.6.0,>=0.4.0->langchain-chroma) (3.8.1)\n",
      "Requirement already satisfied: backoff>=1.10.0 in /home/s.wendelken/.local/lib/python3.9/site-packages (from posthog>=2.4.0->chromadb<0.6.0,>=0.4.0->langchain-chroma) (2.2.1)\n",
      "Requirement already satisfied: monotonic>=1.5 in /home/s.wendelken/.local/lib/python3.9/site-packages (from posthog>=2.4.0->chromadb<0.6.0,>=0.4.0->langchain-chroma) (1.6)\n",
      "Requirement already satisfied: pyasn1<0.5.0,>=0.4.6 in /shared/centos7/anaconda3/2022.05/lib/python3.9/site-packages (from pyasn1-modules>=0.2.1->google-auth>=1.0.1->kubernetes>=28.1.0->chromadb<0.6.0,>=0.4.0->langchain-chroma) (0.4.8)\n",
      "Requirement already satisfied: annotated-types>=0.4.0 in /home/s.wendelken/.local/lib/python3.9/site-packages (from pydantic<3,>=1->langchain) (0.7.0)\n",
      "Requirement already satisfied: pydantic-core==2.18.4 in /home/s.wendelken/.local/lib/python3.9/site-packages (from pydantic<3,>=1->langchain) (2.18.4)\n",
      "Requirement already satisfied: charset-normalizer<4,>=2 in /shared/centos7/anaconda3/2022.05/lib/python3.9/site-packages (from requests<3,>=2->langchain-community) (2.0.4)\n",
      "Requirement already satisfied: Pillow in /shared/centos7/anaconda3/2022.05/lib/python3.9/site-packages (from sentence-transformers>=2.6.0->langchain-huggingface) (9.0.1)\n",
      "Requirement already satisfied: torch>=1.11.0 in /home/s.wendelken/.local/lib/python3.9/site-packages (from sentence-transformers>=2.6.0->langchain-huggingface) (2.3.0)\n",
      "Requirement already satisfied: scipy in /home/s.wendelken/.local/lib/python3.9/site-packages (from sentence-transformers>=2.6.0->langchain-huggingface) (1.13.1)\n",
      "Requirement already satisfied: scikit-learn in /shared/centos7/anaconda3/2022.05/lib/python3.9/site-packages (from sentence-transformers>=2.6.0->langchain-huggingface) (1.0.2)\n",
      "Requirement already satisfied: greenlet!=0.4.17 in /shared/centos7/anaconda3/2022.05/lib/python3.9/site-packages (from SQLAlchemy<3,>=1.4->langchain-community) (1.1.1)\n",
      "Requirement already satisfied: regex>=2022.1.18 in /shared/centos7/anaconda3/2022.05/lib/python3.9/site-packages (from tiktoken<1,>=0.7->langchain-openai) (2022.3.15)\n",
      "Requirement already satisfied: nvidia-nccl-cu12==2.20.5 in /home/s.wendelken/.local/lib/python3.9/site-packages (from torch>=1.11.0->sentence-transformers>=2.6.0->langchain-huggingface) (2.20.5)\n",
      "Requirement already satisfied: triton==2.3.0 in /home/s.wendelken/.local/lib/python3.9/site-packages (from torch>=1.11.0->sentence-transformers>=2.6.0->langchain-huggingface) (2.3.0)\n",
      "Requirement already satisfied: networkx in /shared/centos7/anaconda3/2022.05/lib/python3.9/site-packages (from torch>=1.11.0->sentence-transformers>=2.6.0->langchain-huggingface) (2.7.1)\n",
      "Requirement already satisfied: nvidia-cuda-nvrtc-cu12==12.1.105 in /home/s.wendelken/.local/lib/python3.9/site-packages (from torch>=1.11.0->sentence-transformers>=2.6.0->langchain-huggingface) (12.1.105)\n",
      "Requirement already satisfied: nvidia-cuda-runtime-cu12==12.1.105 in /home/s.wendelken/.local/lib/python3.9/site-packages (from torch>=1.11.0->sentence-transformers>=2.6.0->langchain-huggingface) (12.1.105)\n",
      "Requirement already satisfied: nvidia-cublas-cu12==12.1.3.1 in /home/s.wendelken/.local/lib/python3.9/site-packages (from torch>=1.11.0->sentence-transformers>=2.6.0->langchain-huggingface) (12.1.3.1)\n",
      "Requirement already satisfied: nvidia-cufft-cu12==11.0.2.54 in /home/s.wendelken/.local/lib/python3.9/site-packages (from torch>=1.11.0->sentence-transformers>=2.6.0->langchain-huggingface) (11.0.2.54)\n",
      "Requirement already satisfied: nvidia-curand-cu12==10.3.2.106 in /home/s.wendelken/.local/lib/python3.9/site-packages (from torch>=1.11.0->sentence-transformers>=2.6.0->langchain-huggingface) (10.3.2.106)\n",
      "Requirement already satisfied: nvidia-cusolver-cu12==11.4.5.107 in /home/s.wendelken/.local/lib/python3.9/site-packages (from torch>=1.11.0->sentence-transformers>=2.6.0->langchain-huggingface) (11.4.5.107)\n",
      "Requirement already satisfied: nvidia-cusparse-cu12==12.1.0.106 in /home/s.wendelken/.local/lib/python3.9/site-packages (from torch>=1.11.0->sentence-transformers>=2.6.0->langchain-huggingface) (12.1.0.106)\n",
      "Requirement already satisfied: nvidia-nvtx-cu12==12.1.105 in /home/s.wendelken/.local/lib/python3.9/site-packages (from torch>=1.11.0->sentence-transformers>=2.6.0->langchain-huggingface) (12.1.105)\n",
      "Requirement already satisfied: nvidia-cudnn-cu12==8.9.2.26 in /home/s.wendelken/.local/lib/python3.9/site-packages (from torch>=1.11.0->sentence-transformers>=2.6.0->langchain-huggingface) (8.9.2.26)\n",
      "Requirement already satisfied: nvidia-cuda-cupti-cu12==12.1.105 in /home/s.wendelken/.local/lib/python3.9/site-packages (from torch>=1.11.0->sentence-transformers>=2.6.0->langchain-huggingface) (12.1.105)\n",
      "Requirement already satisfied: nvidia-nvjitlink-cu12 in /home/s.wendelken/.local/lib/python3.9/site-packages (from nvidia-cusolver-cu12==11.4.5.107->torch>=1.11.0->sentence-transformers>=2.6.0->langchain-huggingface) (12.5.40)\n",
      "Requirement already satisfied: safetensors>=0.4.1 in /home/s.wendelken/.local/lib/python3.9/site-packages (from transformers>=4.39.0->langchain-huggingface) (0.4.3)\n",
      "Requirement already satisfied: shellingham>=1.3.0 in /home/s.wendelken/.local/lib/python3.9/site-packages (from typer>=0.9.0->chromadb<0.6.0,>=0.4.0->langchain-chroma) (1.5.4)\n",
      "Requirement already satisfied: rich>=10.11.0 in /home/s.wendelken/.local/lib/python3.9/site-packages (from typer>=0.9.0->chromadb<0.6.0,>=0.4.0->langchain-chroma) (13.7.1)\n",
      "Requirement already satisfied: click>=8.0.0 in /shared/centos7/anaconda3/2022.05/lib/python3.9/site-packages (from typer>=0.9.0->chromadb<0.6.0,>=0.4.0->langchain-chroma) (8.0.4)\n",
      "Requirement already satisfied: pygments<3.0.0,>=2.13.0 in /home/s.wendelken/.local/lib/python3.9/site-packages (from rich>=10.11.0->typer>=0.9.0->chromadb<0.6.0,>=0.4.0->langchain-chroma) (2.18.0)\n",
      "Requirement already satisfied: markdown-it-py>=2.2.0 in /home/s.wendelken/.local/lib/python3.9/site-packages (from rich>=10.11.0->typer>=0.9.0->chromadb<0.6.0,>=0.4.0->langchain-chroma) (3.0.0)\n",
      "Requirement already satisfied: mdurl~=0.1 in /home/s.wendelken/.local/lib/python3.9/site-packages (from markdown-it-py>=2.2.0->rich>=10.11.0->typer>=0.9.0->chromadb<0.6.0,>=0.4.0->langchain-chroma) (0.1.2)\n",
      "Requirement already satisfied: mypy-extensions>=0.3.0 in /shared/centos7/anaconda3/2022.05/lib/python3.9/site-packages (from typing-inspect<1,>=0.4.0->dataclasses-json<0.7,>=0.5.7->langchain-community) (0.4.3)\n",
      "Requirement already satisfied: uvloop!=0.15.0,!=0.15.1,>=0.14.0 in /home/s.wendelken/.local/lib/python3.9/site-packages (from uvicorn[standard]>=0.18.3->chromadb<0.6.0,>=0.4.0->langchain-chroma) (0.19.0)\n",
      "Requirement already satisfied: httptools>=0.5.0 in /home/s.wendelken/.local/lib/python3.9/site-packages (from uvicorn[standard]>=0.18.3->chromadb<0.6.0,>=0.4.0->langchain-chroma) (0.6.1)\n",
      "Requirement already satisfied: websockets>=10.4 in /home/s.wendelken/.local/lib/python3.9/site-packages (from uvicorn[standard]>=0.18.3->chromadb<0.6.0,>=0.4.0->langchain-chroma) (12.0)\n",
      "Requirement already satisfied: watchfiles>=0.13 in /home/s.wendelken/.local/lib/python3.9/site-packages (from uvicorn[standard]>=0.18.3->chromadb<0.6.0,>=0.4.0->langchain-chroma) (0.22.0)\n",
      "Requirement already satisfied: python-dotenv>=0.13 in /home/s.wendelken/.local/lib/python3.9/site-packages (from uvicorn[standard]>=0.18.3->chromadb<0.6.0,>=0.4.0->langchain-chroma) (1.0.1)\n",
      "Requirement already satisfied: humanfriendly>=9.1 in /home/s.wendelken/.local/lib/python3.9/site-packages (from coloredlogs->onnxruntime>=1.14.1->chromadb<0.6.0,>=0.4.0->langchain-chroma) (10.0)\n",
      "Requirement already satisfied: joblib>=0.11 in /shared/centos7/anaconda3/2022.05/lib/python3.9/site-packages (from scikit-learn->sentence-transformers>=2.6.0->langchain-huggingface) (1.1.0)\n",
      "Requirement already satisfied: threadpoolctl>=2.0.0 in /shared/centos7/anaconda3/2022.05/lib/python3.9/site-packages (from scikit-learn->sentence-transformers>=2.6.0->langchain-huggingface) (2.2.0)\n",
      "Requirement already satisfied: mpmath>=0.19 in /shared/centos7/anaconda3/2022.05/lib/python3.9/site-packages (from sympy->onnxruntime>=1.14.1->chromadb<0.6.0,>=0.4.0->langchain-chroma) (1.2.1)\n"
     ]
    }
   ],
   "source": [
    "# !pip install langchain-community langchain-openai langchain-chroma langchain langchain-huggingface "
   ]
  },
  {
   "cell_type": "code",
   "execution_count": 1,
   "id": "55152de9-756b-4bfd-b609-01a36875c8d8",
   "metadata": {},
   "outputs": [
    {
     "ename": "ModuleNotFoundError",
     "evalue": "No module named 'transformers'",
     "output_type": "error",
     "traceback": [
      "\u001b[0;31m---------------------------------------------------------------------------\u001b[0m",
      "\u001b[0;31mModuleNotFoundError\u001b[0m                       Traceback (most recent call last)",
      "Cell \u001b[0;32mIn[1], line 8\u001b[0m\n\u001b[1;32m      6\u001b[0m \u001b[38;5;28;01mfrom\u001b[39;00m \u001b[38;5;21;01mlangchain\u001b[39;00m\u001b[38;5;21;01m.\u001b[39;00m\u001b[38;5;21;01mchains\u001b[39;00m \u001b[38;5;28;01mimport\u001b[39;00m create_retrieval_chain\n\u001b[1;32m      7\u001b[0m \u001b[38;5;66;03m# from langchain_huggingface.llms import HuggingFacePipeline\u001b[39;00m\n\u001b[0;32m----> 8\u001b[0m \u001b[38;5;28;01mfrom\u001b[39;00m \u001b[38;5;21;01mtransformers\u001b[39;00m \u001b[38;5;28;01mimport\u001b[39;00m AutoModelForCausalLM, AutoTokenizer, pipeline\n\u001b[1;32m      9\u001b[0m \u001b[38;5;28;01mfrom\u001b[39;00m \u001b[38;5;21;01mlangchain_google_genai\u001b[39;00m \u001b[38;5;28;01mimport\u001b[39;00m ChatGoogleGenerativeAI\n\u001b[1;32m     10\u001b[0m \u001b[38;5;28;01mfrom\u001b[39;00m \u001b[38;5;21;01mlangchain_groq\u001b[39;00m \u001b[38;5;28;01mimport\u001b[39;00m ChatGroq\n",
      "\u001b[0;31mModuleNotFoundError\u001b[0m: No module named 'transformers'"
     ]
    }
   ],
   "source": [
    "from langchain_community.document_loaders import DirectoryLoader,TextLoader\n",
    "from langchain_openai import ChatOpenAI, OpenAIEmbeddings\n",
    "from langchain_chroma import Chroma\n",
    "from langchain.prompts import PromptTemplate\n",
    "from langchain.chains.combine_documents import create_stuff_documents_chain\n",
    "from langchain.chains import create_retrieval_chain\n",
    "# from langchain_huggingface.llms import HuggingFacePipeline\n",
    "from transformers import AutoModelForCausalLM, AutoTokenizer, pipeline\n",
    "from langchain_google_genai import ChatGoogleGenerativeAI\n",
    "from langchain_groq import ChatGroq\n",
    "import os"
   ]
  },
  {
   "cell_type": "code",
   "execution_count": 1,
   "id": "e21c6cf3-4d03-426e-bd0c-a51bfae67a91",
   "metadata": {},
   "outputs": [
    {
     "ename": "NameError",
     "evalue": "name 'DirectoryLoader' is not defined",
     "output_type": "error",
     "traceback": [
      "\u001b[0;31m---------------------------------------------------------------------------\u001b[0m",
      "\u001b[0;31mNameError\u001b[0m                                 Traceback (most recent call last)",
      "Cell \u001b[0;32mIn[1], line 2\u001b[0m\n\u001b[1;32m      1\u001b[0m path \u001b[38;5;241m=\u001b[39m \u001b[38;5;124m\"\u001b[39m\u001b[38;5;124m./data/\u001b[39m\u001b[38;5;124m\"\u001b[39m\n\u001b[0;32m----> 2\u001b[0m loader \u001b[38;5;241m=\u001b[39m DirectoryLoader(path, glob\u001b[38;5;241m=\u001b[39m\u001b[38;5;124m\"\u001b[39m\u001b[38;5;124m*.txt\u001b[39m\u001b[38;5;124m\"\u001b[39m, loader_cls\u001b[38;5;241m=\u001b[39mTextLoader)\n\u001b[1;32m      3\u001b[0m docs \u001b[38;5;241m=\u001b[39m loader\u001b[38;5;241m.\u001b[39mload()\n",
      "\u001b[0;31mNameError\u001b[0m: name 'DirectoryLoader' is not defined"
     ]
    }
   ],
   "source": [
    "path = \"./data/\"\n",
    "loader = DirectoryLoader(path, glob=\"*.txt\", loader_cls=TextLoader)\n",
    "docs = loader.load()"
   ]
  },
  {
   "cell_type": "code",
   "execution_count": 4,
   "id": "65a45b71-ceb3-4307-a887-db63c2289818",
   "metadata": {},
   "outputs": [
    {
     "ename": "NameError",
     "evalue": "name 'os' is not defined",
     "output_type": "error",
     "traceback": [
      "\u001b[0;31m---------------------------------------------------------------------------\u001b[0m",
      "\u001b[0;31mNameError\u001b[0m                                 Traceback (most recent call last)",
      "Cell \u001b[0;32mIn[4], line 1\u001b[0m\n\u001b[0;32m----> 1\u001b[0m os\u001b[38;5;241m.\u001b[39menviron[\u001b[38;5;124m\"\u001b[39m\u001b[38;5;124mOPENAI_API_KEY\u001b[39m\u001b[38;5;124m\"\u001b[39m] \u001b[38;5;241m=\u001b[39m \u001b[38;5;124m\"\u001b[39m\u001b[38;5;124msk-proj-t32T9ByQ1jtTk9zacsczT3BlbkFJAZo9LM6W1ZPtuPY9zsUY\u001b[39m\u001b[38;5;124m\"\u001b[39m\n",
      "\u001b[0;31mNameError\u001b[0m: name 'os' is not defined"
     ]
    }
   ],
   "source": [
    "from config import OPENAI_API_KEY\n",
    "os.environ[\"OPENAI_API_KEY\"] = OPENAI_API_KEY #smw_personal open ai\""
   ]
  },
  {
   "cell_type": "code",
   "execution_count": 6,
   "id": "89e01cf4-3c63-49a6-98e0-13a7b39058c1",
   "metadata": {},
   "outputs": [],
   "source": [
    "embeddings = OpenAIEmbeddings()\n",
    "vectorstore = Chroma.from_documents(docs, embeddings)\n",
    "retriever = vectorstore.as_retriever(search_kwargs={\"k\": 1})"
   ]
  },
  {
   "cell_type": "code",
   "execution_count": 7,
   "id": "62642d0b-2942-4aa1-aa54-3d5079b83e6d",
   "metadata": {},
   "outputs": [],
   "source": [
    "from config import GOOGLE_API_KEY2\n",
    "os.environ['GOOGLE_API_KEY'] = GOOGLE_API_KEY2"
   ]
  },
  {
   "cell_type": "code",
   "execution_count": 12,
   "id": "6753bbbc-d80c-42fe-a43e-2fb5cf53a007",
   "metadata": {},
   "outputs": [],
   "source": [
    "def generate_response(retriever, query):\n",
    "\n",
    "    try:\n",
    "        llm = ChatGoogleGenerativeAI(model=\"gemini-pro\")\n",
    "        # llm = ChatOpenAI(model=\"gpt-4\")\n",
    "        # llm =chat\n",
    "#         llm = HuggingFacePipeline.from_model_id(\n",
    "#     model_id=\"epfl-llm/meditron-7b\",\n",
    "#     task=\"text-generation\",\n",
    "# )\n",
    "        template = \"\"\"\n",
    "            You are a helpful Medical AI assistant. Answer the question based on the context provided. Respond only if the answer is in the context.\n",
    "            If the answer is not in the context then respond, Cannot answer the question.\n",
    "            Stick to the context while answering and be concise.\n",
    "            context: {context}\n",
    "            question: {input}\n",
    "            answer:\n",
    "            \"\"\"\n",
    "        prompt = PromptTemplate.from_template(template)\n",
    "        combine_docs_chain = create_stuff_documents_chain(llm, prompt)\n",
    "        retrieval_chain = create_retrieval_chain(retriever, combine_docs_chain)\n",
    "        response = retrieval_chain.invoke({\"input\": query})\n",
    "        # print(response[\"answer\"])\n",
    "        return response[\"answer\"]\n",
    "    except Exception as e:\n",
    "        print(f\"An error occurred while generating the response: {e}\")\n",
    "        return None"
   ]
  },
  {
   "cell_type": "code",
   "execution_count": 13,
   "id": "d2a9df09-b6fe-44e6-8979-02a8446abf5c",
   "metadata": {},
   "outputs": [],
   "source": [
    "questions = [\n",
    "\"Given the History of Present Illness, What is the relevant past medical history?\",\n",
    "\"Given the HPI, chief complaint, and initial ICD diagnosis, Why was the patient admitted to the hospital? What symptoms, medical condition, or other reason caused the patient to come to or be brought into the hospital?\",\n",
    "\"Based on the admission medication list, what other existing or ongoing medical conditions did the patient have?\",\n",
    "\"Given the history of present illness, admission and discharge diagnosis, What medical conditions or symptoms was this patient treated for in the hospital?\",\n",
    "\"given the history of present illness, What was the initial treatment course?\",\n",
    "\"Given the History of Present illness, What was the initial diagnostic work up and pertinent results?\",\n",
    "\"Given the radiology notes, What radiology, imaging or other studies that were performed and for what inducation? Summarize the impressions from each study. Make a table of Imaging study, indication, and impression.\"\n",
    "]"
   ]
  },
  {
   "cell_type": "code",
   "execution_count": 10,
   "id": "5e251756-7ff2-4596-a6df-9b5e76f62aa3",
   "metadata": {},
   "outputs": [
    {
     "name": "stdout",
     "output_type": "stream",
     "text": [
      "The relevant past medical history includes: \n",
      "\n",
      "- Bipolar  \n",
      "- Hepatitis C  \n",
      "- HLD  \n",
      "- Diabetes, steroid-induced  \n",
      "- Self-reported bullous pemphigoid, but no clinic or laboratory evidence to support this diagnosis\n",
      "- COPD  \n",
      "- Cholelithiasis  \n",
      "- GERD  \n",
      "- Aortic aneurysm  \n",
      "- Osteoporosis  \n",
      "\n",
      "PAST SURGICAL HISTORY\n",
      "- s/p left knee replacement\n",
      "- s/p Left total knee arthroplasty explant and placement of antibiotic spacer due to sepsis, s/p removal of spacer  \n",
      "- s/p 2 hip replacements  \n",
      "- Compression fractures of spine  \n",
      "- Inguinal hernia  \n",
      "- psoriasis\n",
      "\n",
      "PAST PSYCHIATRIC HISTORY\n",
      "-Dx: Bipolar\n",
      "-Hospitalizations: ___ for depression after father died \n",
      "-___: Therapist Dr. ___ at ___. (Writes clonazepam \n",
      "and TCA for \"anxiety and for sleep\")\n"
     ]
    }
   ],
   "source": [
    "response = generate_response(retriever, questions[0])\n",
    "print(response)"
   ]
  },
  {
   "cell_type": "code",
   "execution_count": 14,
   "id": "f206b895-963b-48ff-8483-282c50651ec1",
   "metadata": {},
   "outputs": [
    {
     "name": "stdout",
     "output_type": "stream",
     "text": [
      "PAST MEDICAL HISTORY:  \n",
      "- Bipolar  \n",
      "- Hepatitis C  \n",
      "- HLD  \n",
      "- Diabetes, steroid-induced  \n",
      "- Self-reported bullous pemphigoid, but no clinic or laboratory \n",
      "evidence to support this diagnosis\n",
      "- COPD  \n",
      "- Cholelithiasis  \n",
      "- GERD  \n",
      "- Aortic aneurysm  \n",
      "- Osteoporosis\n"
     ]
    }
   ],
   "source": [
    "response = generate_response(retriever, questions[0])\n",
    "print(response)"
   ]
  },
  {
   "cell_type": "code",
   "execution_count": 11,
   "id": "8baeaab3-6239-4910-b2c5-51bc9087cb8a",
   "metadata": {},
   "outputs": [
    {
     "name": "stdout",
     "output_type": "stream",
     "text": [
      "Given the History of Present Illness, What is the relevant past medical history? \n",
      "\n",
      "- Bipolar  \n",
      "- Hepatitis C  \n",
      "- HLD  \n",
      "- Diabetes, steroid-induced  \n",
      "- Self-reported bullous pemphigoid, but no clinic or laboratory evidence to support this diagnosis\n",
      "- COPD  \n",
      "- Cholelithiasis  \n",
      "- GERD  \n",
      "- Aortic aneurysm  \n",
      "- Osteoporosis\n",
      "\n",
      "*********************\n",
      "Given the HPI, chief complaint, and initial ICD diagnosis, Why was the patient admitted to the hospital? What symptoms, medical condition, or other reason caused the patient to come to or be brought into the hospital? \n",
      "\n",
      "The patient was admitted to the hospital due to leg swelling, abdominal distention, and complaints of oral ulcers. The patient was experiencing significant leg pain and had a history of pemphigoid, a skin condition. The patient also reported that his abdomen was swollen. His medical condition and symptoms, along with a primary discharge diagnosis of cellulitis of the left lower limb, prompted his admission to the hospital.\n",
      "\n",
      "*********************\n",
      "Based on the admission medication list, what other existing or ongoing medical conditions did the patient have? \n",
      "\n",
      "The patient had conditions such as asthma or COPD (medicated with Albuterol and Fluticasone-Salmeterol), pain (medicated with OxyCODONE and Morphine), anxiety (medicated with ClonazePAM), insomnia (medicated with Amitriptyline), inflammation (medicated with PredniSONE), and potential cardiovascular issues (medicated with Aspirin).\n",
      "\n",
      "*********************\n",
      "Given the history of present illness, admission and discharge diagnosis, What medical conditions or symptoms was this patient treated for in the hospital? \n",
      "\n",
      "The patient was treated for leg swelling, oral ulcers, and abdominal swelling. The primary discharge diagnosis was cellulitis.\n",
      "\n",
      "*********************\n",
      "given the history of present illness, What was the initial treatment course? \n",
      "\n",
      "The patient was given Duonebs and CTX 1g IV for LLE cellulitis.\n",
      "\n",
      "*********************\n",
      "Given the History of Present illness, What was the initial diagnostic work up and pertinent results? \n",
      "\n",
      "The initial diagnostic work-up included labs and imaging. Lab results were notable for a White Blood Cell (WBC) count of 12.5. Imaging included a Lower Left Extremity Ultrasound (LLE US) which did not show evidence of Deep Vein Thrombosis (DVT) and a Chest X-Ray (CXR) that showed mild cardiomegaly and mild vascular congestion. A bedside ultrasound did not show any evidence of ascites.\n",
      "\n",
      "*********************\n",
      "Given the radiology notes, What radiology, imaging or other studies that were performed and for what inducation? Summarize the impressions from each study. Make a table of Imaging study, indication, and impression. \n",
      "\n",
      "| Imaging Study | Indication | Impression |\n",
      "| --- | --- | --- |\n",
      "| Chest PA and lateral | Leg swelling, evaluate for acute process. | Mild cardiomegaly and mild pulmonary vascular congestion. Left lower lobe atelectasis has improved. |\n",
      "| Unilateral Lower Extremity Veins Left | Leg swelling, evaluate for DVT. | No evidence of deep venous thrombosis in the left lower extremity veins. Nonvisualization of the left peroneal veins. |\n",
      "\n",
      "*********************\n"
     ]
    }
   ],
   "source": [
    "for question in questions:\n",
    "    response = generate_response(retriever, question)\n",
    "    print(question,\"\\n\")\n",
    "    print(response)\n",
    "    print(\"\\n*********************\")"
   ]
  },
  {
   "cell_type": "code",
   "execution_count": null,
   "id": "79e926f5-d792-49ec-baf6-8dbb80179a5f",
   "metadata": {},
   "outputs": [],
   "source": []
  }
 ],
 "metadata": {
  "kernelspec": {
   "display_name": "Python 3 (ipykernel)",
   "language": "python",
   "name": "python3"
  },
  "language_info": {
   "codemirror_mode": {
    "name": "ipython",
    "version": 3
   },
   "file_extension": ".py",
   "mimetype": "text/x-python",
   "name": "python",
   "nbconvert_exporter": "python",
   "pygments_lexer": "ipython3",
   "version": "3.9.12"
  }
 },
 "nbformat": 4,
 "nbformat_minor": 5
}
